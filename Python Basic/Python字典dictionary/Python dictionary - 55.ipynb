{
 "cells": [
  {
   "cell_type": "markdown",
   "metadata": {},
   "source": [
    "### Python字典dictionary"
   ]
  },
  {
   "cell_type": "markdown",
   "metadata": {},
   "source": [
    "[Dictionaries in Python](https://realpython.com/python-dicts/)"
   ]
  },
  {
   "cell_type": "markdown",
   "metadata": {},
   "source": [
    "[python-dictionary](https://www.techbeamers.com/python-dictionary/)\n",
    "\n",
    "[python3 字典(dict)基础](http://www.cnblogs.com/bad-robot/p/9678919.html)\n",
    "\n",
    "[Python3 字典](http://www.runoob.com/python3/python3-dictionary.html)"
   ]
  },
  {
   "cell_type": "markdown",
   "metadata": {},
   "source": [
    "    d = {\n",
    "        <key>: <value>,\n",
    "        <key>: <value>,\n",
    "          .\n",
    "          .\n",
    "          .\n",
    "        <key>: <value>\n",
    "    }"
   ]
  },
  {
   "cell_type": "markdown",
   "metadata": {},
   "source": [
    "<img src=\"https://files.realpython.com/media/t.b3e3d8f2d100.png\" alt=\"dictionary\" width=\"300\"/>"
   ]
  },
  {
   "cell_type": "markdown",
   "metadata": {},
   "source": [
    "#### 创建字典 `{ }`"
   ]
  },
  {
   "cell_type": "markdown",
   "metadata": {},
   "source": [
    "##### 通过元组元素列表"
   ]
  },
  {
   "cell_type": "code",
   "execution_count": 26,
   "metadata": {
    "ExecuteTime": {
     "end_time": "2019-09-12T13:35:52.843000Z",
     "start_time": "2019-09-12T13:35:52.838000Z"
    }
   },
   "outputs": [
    {
     "name": "stdout",
     "output_type": "stream",
     "text": [
      "{'Colorado': 'Rockies', 'Boston': 'Red Sox', 'Minnesota': 'Twins', 'Milwaukee': 'Brewers', 'Seattle': 'Mariners'}\n"
     ]
    }
   ],
   "source": [
    "MLB_team = dict([\n",
    "                ('Colorado', 'Rockies'),\n",
    "                ('Boston', 'Red Sox'),\n",
    "                ('Minnesota', 'Twins'),\n",
    "                ('Milwaukee', 'Brewers'),\n",
    "                ('Seattle', 'Mariners')])\n",
    "print(MLB_team)"
   ]
  },
  {
   "cell_type": "markdown",
   "metadata": {},
   "source": [
    "##### `zip()` 打包`list`"
   ]
  },
  {
   "cell_type": "code",
   "execution_count": 79,
   "metadata": {
    "ExecuteTime": {
     "end_time": "2019-09-12T14:44:10.089000Z",
     "start_time": "2019-09-12T14:44:10.085000Z"
    }
   },
   "outputs": [
    {
     "name": "stdout",
     "output_type": "stream",
     "text": [
      "[(1, 'a'), (2, 'b'), (3, 'c'), (4, 'd')]\n"
     ]
    }
   ],
   "source": [
    "a = [1,2,3,4,5,6]\n",
    "b = ['a','b','c','d']\n",
    "print(list(zip(a,b)))"
   ]
  },
  {
   "cell_type": "markdown",
   "metadata": {},
   "source": [
    "##### 赋值法"
   ]
  },
  {
   "cell_type": "code",
   "execution_count": 27,
   "metadata": {
    "ExecuteTime": {
     "end_time": "2019-09-12T13:36:56.930000Z",
     "start_time": "2019-09-12T13:36:56.925000Z"
    }
   },
   "outputs": [
    {
     "name": "stdout",
     "output_type": "stream",
     "text": [
      "{'Colorado': 'Rockies', 'Boston': 'Red Sox', 'Minnesota': 'Twins', 'Milwaukee': 'Brewers', 'Seattle': 'Mariners'}\n"
     ]
    }
   ],
   "source": [
    "MLB_team = dict(\n",
    "    Colorado='Rockies',\n",
    "    Boston='Red Sox',\n",
    "    Minnesota='Twins',\n",
    "    Milwaukee='Brewers',\n",
    "    Seattle='Mariners')\n",
    "\n",
    "print(MLB_team)"
   ]
  },
  {
   "cell_type": "code",
   "execution_count": 28,
   "metadata": {
    "ExecuteTime": {
     "end_time": "2019-09-12T13:37:15.370000Z",
     "start_time": "2019-09-12T13:37:15.365000Z"
    }
   },
   "outputs": [
    {
     "name": "stdout",
     "output_type": "stream",
     "text": [
      "<class 'dict'>\n"
     ]
    }
   ],
   "source": [
    "print(type(MLB_team))"
   ]
  },
  {
   "cell_type": "code",
   "execution_count": 1,
   "metadata": {
    "ExecuteTime": {
     "end_time": "2019-03-30T05:39:04.821000Z",
     "start_time": "2019-03-30T05:39:04.814000Z"
    },
    "collapsed": true
   },
   "outputs": [],
   "source": [
    "# Define a blank dictionary with no elements\n",
    "blank_dict = {}\n",
    "\n",
    "# Define a dictionary with numeric keys\n",
    "num_dict = {1: 'soccer', 2: 'baseball'}\n",
    "\n",
    "# Define a dictionary with keys having different types\n",
    "misc_dict = {'class': 'senior secondary', 1: [1, 2, 3,4,5]}\n",
    "\n",
    "# Create a dictionary with dict() method\n",
    "get_dict_from_func = dict({1:'veg', 2:'non-veg'})\n",
    "\n",
    "# Create a dictionary from a sequence of tuples\n",
    "make_dict_from_seq = dict([(1,'jake'), (2,'john')])"
   ]
  },
  {
   "cell_type": "code",
   "execution_count": 2,
   "metadata": {
    "ExecuteTime": {
     "end_time": "2019-03-30T05:39:16.053000Z",
     "start_time": "2019-03-30T05:39:16.045000Z"
    }
   },
   "outputs": [
    {
     "name": "stdout",
     "output_type": "stream",
     "text": [
      "dict['Student Name']:  Berry\n",
      "dict['Roll No.']:  12\n",
      "dict['Subject']:  English\n"
     ]
    }
   ],
   "source": [
    "dict = {'Student Name': 'Berry', 'Roll No.': 12, 'Subject': 'English'}\n",
    "print(\"dict['Student Name']: \", dict['Student Name'])\n",
    "print(\"dict['Roll No.']: \", dict['Roll No.'])\n",
    "print(\"dict['Subject']: \", dict['Subject'])"
   ]
  },
  {
   "cell_type": "code",
   "execution_count": 3,
   "metadata": {
    "ExecuteTime": {
     "end_time": "2019-03-30T05:39:50.349000Z",
     "start_time": "2019-03-30T05:39:50.340000Z"
    }
   },
   "outputs": [
    {
     "name": "stdout",
     "output_type": "stream",
     "text": [
      "The student who left: Berry\n",
      "The student who replaced: [Update] Larry\n",
      "The student who joined: [Addition] Jarry\n"
     ]
    }
   ],
   "source": [
    "dict = {'Student Name': 'Berry', 'Roll No.': 12, 'Subject': 'English'}\n",
    "print(\"The student who left:\", dict.get('Student Name'))\n",
    "dict['Student Name'] = 'Larry'\n",
    "print(\"The student who replaced: [Update]\", dict.get('Student Name'))\n",
    "dict['Student Name'] = 'Jarry'\n",
    "print(\"The student who joined: [Addition]\", dict.get('Student Name'))"
   ]
  },
  {
   "cell_type": "markdown",
   "metadata": {},
   "source": [
    "#### 字典的键 `key`"
   ]
  },
  {
   "cell_type": "markdown",
   "metadata": {
    "ExecuteTime": {
     "end_time": "2019-09-12T13:43:58.640000Z",
     "start_time": "2019-09-12T13:43:58.632000Z"
    }
   },
   "source": [
    "在Python中，几乎任何类型的值都可以用作字典键。"
   ]
  },
  {
   "cell_type": "code",
   "execution_count": 33,
   "metadata": {
    "ExecuteTime": {
     "end_time": "2019-09-12T13:44:24.158000Z",
     "start_time": "2019-09-12T13:44:24.153000Z"
    }
   },
   "outputs": [
    {
     "name": "stdout",
     "output_type": "stream",
     "text": [
      "{42: 'aaa', 2.78: 'bbb', True: 'ccc'}\n"
     ]
    }
   ],
   "source": [
    "foo = {42: 'aaa', 2.78: 'bbb', True: 'ccc'}\n",
    "print(foo)"
   ]
  },
  {
   "cell_type": "markdown",
   "metadata": {},
   "source": [
    "甚至可以使用内置对象，如类型和函数:"
   ]
  },
  {
   "cell_type": "code",
   "execution_count": 34,
   "metadata": {
    "ExecuteTime": {
     "end_time": "2019-09-12T13:45:05.108000Z",
     "start_time": "2019-09-12T13:45:05.101000Z"
    }
   },
   "outputs": [
    {
     "name": "stdout",
     "output_type": "stream",
     "text": [
      "{<class 'int'>: 1, <class 'float'>: 2, <class 'bool'>: 3}\n",
      "2\n",
      "3\n"
     ]
    }
   ],
   "source": [
    "d = {int: 1, float: 2, bool: 3}\n",
    "print(d)\n",
    "print(d[float])\n",
    "\n",
    "d = {bin: 1, hex: 2, oct: 3}\n",
    "print(d[oct])"
   ]
  },
  {
   "cell_type": "markdown",
   "metadata": {},
   "source": [
    "然而，字典键必须遵守一些限制。\n",
    "\n",
    "    首先，给定的键只能在字典中出现一次。不允许重复钥匙。字典将每个键映射到一个对应的值，因此多次映射特定键没有意义。\n",
    "    在上面看到，当将一个值赋给一个已经存在的dictionary键时，它不会第二次添加该键，而是替换现有的值:"
   ]
  },
  {
   "cell_type": "code",
   "execution_count": 35,
   "metadata": {
    "ExecuteTime": {
     "end_time": "2019-09-12T13:46:34.831000Z",
     "start_time": "2019-09-12T13:46:34.826000Z"
    }
   },
   "outputs": [
    {
     "name": "stdout",
     "output_type": "stream",
     "text": [
      "{'Colorado': 'Rockies', 'Boston': 'Red Sox', 'Minnesota': 'Timberwolves', 'Milwaukee': 'Brewers', 'Seattle': 'Mariners'}\n"
     ]
    }
   ],
   "source": [
    "MLB_team = {\n",
    "    'Colorado' : 'Rockies',\n",
    "    'Boston'   : 'Red Sox',\n",
    "    'Minnesota': 'Twins',\n",
    "    'Milwaukee': 'Brewers',\n",
    "    'Seattle'  : 'Mariners'\n",
    "}\n",
    "\n",
    "MLB_team['Minnesota'] = 'Timberwolves'\n",
    "print(MLB_team)"
   ]
  },
  {
   "cell_type": "markdown",
   "metadata": {},
   "source": [
    "其次，dictionary键的类型必须是不可变的。元组也可以是字典键，因为元组是不可变的:"
   ]
  },
  {
   "cell_type": "code",
   "execution_count": 36,
   "metadata": {
    "ExecuteTime": {
     "end_time": "2019-09-12T13:48:32.124000Z",
     "start_time": "2019-09-12T13:48:32.113000Z"
    }
   },
   "outputs": [
    {
     "name": "stdout",
     "output_type": "stream",
     "text": [
      "a\n",
      "c\n"
     ]
    }
   ],
   "source": [
    "d = {(1, 1): 'a', (1, 2): 'b', (2, 1): 'c', (2, 2): 'd'}\n",
    "print(d[(1,1)])\n",
    "print(d[(2,1)])"
   ]
  },
  {
   "cell_type": "markdown",
   "metadata": {},
   "source": [
    "类似地，如果在初始创建字典时第二次指定一个键，第二次出现的值将覆盖第一次出现的值"
   ]
  },
  {
   "cell_type": "markdown",
   "metadata": {},
   "source": [
    "`list`和其他`dictionary`都不能作为`dictionary`键，因为`list`和`dictionary`是可变的"
   ]
  },
  {
   "cell_type": "code",
   "execution_count": 37,
   "metadata": {
    "ExecuteTime": {
     "end_time": "2019-09-12T13:49:52.270000Z",
     "start_time": "2019-09-12T13:49:52.262000Z"
    }
   },
   "outputs": [
    {
     "ename": "TypeError",
     "evalue": "unhashable type: 'list'",
     "output_type": "error",
     "traceback": [
      "\u001b[1;31m---------------------------------------------------------------------------\u001b[0m",
      "\u001b[1;31mTypeError\u001b[0m                                 Traceback (most recent call last)",
      "\u001b[1;32m<ipython-input-37-b50a34bc2c48>\u001b[0m in \u001b[0;36m<module>\u001b[1;34m()\u001b[0m\n\u001b[1;32m----> 1\u001b[1;33m \u001b[0md\u001b[0m \u001b[1;33m=\u001b[0m \u001b[1;33m{\u001b[0m\u001b[1;33m[\u001b[0m\u001b[1;36m1\u001b[0m\u001b[1;33m,\u001b[0m \u001b[1;36m1\u001b[0m\u001b[1;33m]\u001b[0m\u001b[1;33m:\u001b[0m \u001b[1;34m'a'\u001b[0m\u001b[1;33m,\u001b[0m \u001b[1;33m[\u001b[0m\u001b[1;36m1\u001b[0m\u001b[1;33m,\u001b[0m \u001b[1;36m2\u001b[0m\u001b[1;33m]\u001b[0m\u001b[1;33m:\u001b[0m \u001b[1;34m'b'\u001b[0m\u001b[1;33m,\u001b[0m \u001b[1;33m[\u001b[0m\u001b[1;36m2\u001b[0m\u001b[1;33m,\u001b[0m \u001b[1;36m1\u001b[0m\u001b[1;33m]\u001b[0m\u001b[1;33m:\u001b[0m \u001b[1;34m'c'\u001b[0m\u001b[1;33m,\u001b[0m \u001b[1;33m[\u001b[0m\u001b[1;36m2\u001b[0m\u001b[1;33m,\u001b[0m \u001b[1;36m2\u001b[0m\u001b[1;33m]\u001b[0m\u001b[1;33m:\u001b[0m \u001b[1;34m'd'\u001b[0m\u001b[1;33m}\u001b[0m\u001b[1;33m\u001b[0m\u001b[0m\n\u001b[0m\u001b[0;32m      2\u001b[0m \u001b[0mprint\u001b[0m\u001b[1;33m(\u001b[0m\u001b[0md\u001b[0m\u001b[1;33m)\u001b[0m\u001b[1;33m\u001b[0m\u001b[0m\n",
      "\u001b[1;31mTypeError\u001b[0m: unhashable type: 'list'"
     ]
    }
   ],
   "source": [
    "d = {[1, 1]: 'a', [1, 2]: 'b', [2, 1]: 'c', [2, 2]: 'd'}\n",
    "print(d)"
   ]
  },
  {
   "cell_type": "markdown",
   "metadata": {},
   "source": [
    "**技术说明**:为什么错误消息说“unhashable”?\n",
    "    \n",
    "从技术上讲，说一个对象必须是不可变的才能用作字典键是不太正确的。更准确地说，对象必须是可hashable的，这意味着它可以传递给散列函数。\n",
    "哈希函数获取任意大小的数据，并将其映射到一个相对简单的固定大小值，称为哈希值(或简单的哈希)，用于表查找和比较。\n",
    "\n",
    "Python内置的hash()函数返回一个可hashable对象的hash值，并为一个不可hashable对象抛出异常:"
   ]
  },
  {
   "cell_type": "code",
   "execution_count": 38,
   "metadata": {
    "ExecuteTime": {
     "end_time": "2019-09-12T13:51:45.238000Z",
     "start_time": "2019-09-12T13:51:45.227000Z"
    }
   },
   "outputs": [
    {
     "name": "stdout",
     "output_type": "stream",
     "text": [
      "1857151007243512327\n"
     ]
    },
    {
     "ename": "TypeError",
     "evalue": "unhashable type: 'list'",
     "output_type": "error",
     "traceback": [
      "\u001b[1;31m---------------------------------------------------------------------------\u001b[0m",
      "\u001b[1;31mTypeError\u001b[0m                                 Traceback (most recent call last)",
      "\u001b[1;32m<ipython-input-38-dc2b5a49f1e8>\u001b[0m in \u001b[0;36m<module>\u001b[1;34m()\u001b[0m\n\u001b[0;32m      1\u001b[0m \u001b[0mprint\u001b[0m\u001b[1;33m(\u001b[0m\u001b[0mhash\u001b[0m\u001b[1;33m(\u001b[0m\u001b[1;34m'foo'\u001b[0m\u001b[1;33m)\u001b[0m\u001b[1;33m)\u001b[0m\u001b[1;33m\u001b[0m\u001b[0m\n\u001b[1;32m----> 2\u001b[1;33m \u001b[0mprint\u001b[0m\u001b[1;33m(\u001b[0m\u001b[0mhash\u001b[0m\u001b[1;33m(\u001b[0m\u001b[1;33m[\u001b[0m\u001b[1;36m1\u001b[0m\u001b[1;33m,\u001b[0m \u001b[1;36m2\u001b[0m\u001b[1;33m,\u001b[0m \u001b[1;36m3\u001b[0m\u001b[1;33m]\u001b[0m\u001b[1;33m)\u001b[0m\u001b[1;33m)\u001b[0m\u001b[1;33m\u001b[0m\u001b[0m\n\u001b[0m",
      "\u001b[1;31mTypeError\u001b[0m: unhashable type: 'list'"
     ]
    }
   ],
   "source": [
    "print(hash('foo'))\n",
    "print(hash([1, 2, 3]))"
   ]
  },
  {
   "cell_type": "markdown",
   "metadata": {},
   "source": [
    "#### 字典值的限制"
   ]
  },
  {
   "cell_type": "markdown",
   "metadata": {},
   "source": [
    "相反，字典值没有限制。完全没有。dictionary值可以是Python支持的任何类型的对象，包括list和dictionary之类的可变类型，以及用户定义的对象"
   ]
  },
  {
   "cell_type": "code",
   "execution_count": 39,
   "metadata": {
    "ExecuteTime": {
     "end_time": "2019-09-12T13:53:25.383000Z",
     "start_time": "2019-09-12T13:53:25.378000Z"
    }
   },
   "outputs": [
    {
     "name": "stdout",
     "output_type": "stream",
     "text": [
      "{0: 'a', 1: 'a', 2: 'a', 3: 'a'}\n",
      "True\n"
     ]
    }
   ],
   "source": [
    "d = {0: 'a', 1: 'a', 2: 'a', 3: 'a'}\n",
    "print(d)\n",
    "\n",
    "print(d[0] == d[1] == d[2])"
   ]
  },
  {
   "cell_type": "markdown",
   "metadata": {},
   "source": [
    "#### 运算符和内置函数"
   ]
  },
  {
   "cell_type": "markdown",
   "metadata": {},
   "source": [
    "许多可以与字符串、列表和元组一起使用的操作符和内置函数。其中一些也适用于字典。例如，in和not in操作符根据指定的操作数是否作为键出现在字典中，返回True或False"
   ]
  },
  {
   "cell_type": "code",
   "execution_count": 40,
   "metadata": {
    "ExecuteTime": {
     "end_time": "2019-09-12T13:54:56.653000Z",
     "start_time": "2019-09-12T13:54:56.645000Z"
    }
   },
   "outputs": [
    {
     "name": "stdout",
     "output_type": "stream",
     "text": [
      "True\n",
      "False\n",
      "True\n"
     ]
    }
   ],
   "source": [
    "MLB_team = {\n",
    "    'Colorado' : 'Rockies',\n",
    "    'Boston'   : 'Red Sox',\n",
    "    'Minnesota': 'Twins',\n",
    "    'Milwaukee': 'Brewers',\n",
    "    'Seattle'  : 'Mariners'}\n",
    "\n",
    "print('Milwaukee' in MLB_team)\n",
    "print('Toronto' in MLB_team)\n",
    "print('Toronto' not in MLB_team)"
   ]
  },
  {
   "cell_type": "markdown",
   "metadata": {},
   "source": [
    "可以使用in操作符和短路评估，以避免在试图访问一个不在字典中的键时引发错误:"
   ]
  },
  {
   "cell_type": "code",
   "execution_count": 42,
   "metadata": {
    "ExecuteTime": {
     "end_time": "2019-09-12T13:56:11.014000Z",
     "start_time": "2019-09-12T13:56:11.006000Z"
    }
   },
   "outputs": [
    {
     "ename": "KeyError",
     "evalue": "'Toronto'",
     "output_type": "error",
     "traceback": [
      "\u001b[1;31m---------------------------------------------------------------------------\u001b[0m",
      "\u001b[1;31mKeyError\u001b[0m                                  Traceback (most recent call last)",
      "\u001b[1;32m<ipython-input-42-01952ce60be2>\u001b[0m in \u001b[0;36m<module>\u001b[1;34m()\u001b[0m\n\u001b[1;32m----> 1\u001b[1;33m \u001b[0mprint\u001b[0m\u001b[1;33m(\u001b[0m\u001b[0mMLB_team\u001b[0m\u001b[1;33m[\u001b[0m\u001b[1;34m'Toronto'\u001b[0m\u001b[1;33m]\u001b[0m\u001b[1;33m)\u001b[0m\u001b[1;33m\u001b[0m\u001b[0m\n\u001b[0m",
      "\u001b[1;31mKeyError\u001b[0m: 'Toronto'"
     ]
    }
   ],
   "source": [
    "print(MLB_team['Toronto'])"
   ]
  },
  {
   "cell_type": "code",
   "execution_count": 43,
   "metadata": {
    "ExecuteTime": {
     "end_time": "2019-09-12T13:56:11.204000Z",
     "start_time": "2019-09-12T13:56:11.201000Z"
    }
   },
   "outputs": [
    {
     "name": "stdout",
     "output_type": "stream",
     "text": [
      "False\n"
     ]
    }
   ],
   "source": [
    "print('Toronto' in MLB_team and MLB_team['Toronto'])"
   ]
  },
  {
   "cell_type": "markdown",
   "metadata": {},
   "source": [
    "在第二种情况下，由于短路求值，表达式MLB_team['Toronto']没有求值，因此不会发生KeyError异常。\n",
    "`len()`函数的作用是:返回字典中键值对的个数:"
   ]
  },
  {
   "cell_type": "code",
   "execution_count": 44,
   "metadata": {
    "ExecuteTime": {
     "end_time": "2019-09-12T13:57:11.241000Z",
     "start_time": "2019-09-12T13:57:11.236000Z"
    }
   },
   "outputs": [
    {
     "name": "stdout",
     "output_type": "stream",
     "text": [
      "5\n"
     ]
    }
   ],
   "source": [
    "MLB_team = {\n",
    "    'Colorado' : 'Rockies',\n",
    "    'Boston'   : 'Red Sox',\n",
    "    'Minnesota': 'Twins',\n",
    "    'Milwaukee': 'Brewers',\n",
    "    'Seattle'  : 'Mariners'\n",
    "}\n",
    "print(len(MLB_team))"
   ]
  },
  {
   "cell_type": "markdown",
   "metadata": {},
   "source": [
    "#### 内置函数"
   ]
  },
  {
   "cell_type": "markdown",
   "metadata": {},
   "source": [
    "与字符串和列表一样，可以在字典上调用几个内置方法。事实上，在某些情况下，list和dictionary方法共享相同的名称。"
   ]
  },
  {
   "cell_type": "markdown",
   "metadata": {},
   "source": [
    "##### `d.clear()`  清空字典"
   ]
  },
  {
   "cell_type": "code",
   "execution_count": 45,
   "metadata": {
    "ExecuteTime": {
     "end_time": "2019-09-12T13:58:46.206000Z",
     "start_time": "2019-09-12T13:58:46.200000Z"
    }
   },
   "outputs": [
    {
     "name": "stdout",
     "output_type": "stream",
     "text": [
      "{'a': 10, 'b': 20, 'c': 30}\n",
      "{}\n"
     ]
    }
   ],
   "source": [
    "d = {'a': 10, 'b': 20, 'c': 30}\n",
    "print(d)\n",
    "\n",
    "d.clear()\n",
    "print(d)"
   ]
  },
  {
   "cell_type": "markdown",
   "metadata": {},
   "source": [
    "##### 获取字典值 `d.get(<key>[, <default>])`\n",
    "\n",
    "如果没有就返回None"
   ]
  },
  {
   "cell_type": "code",
   "execution_count": 46,
   "metadata": {
    "ExecuteTime": {
     "end_time": "2019-09-12T14:00:22.751000Z",
     "start_time": "2019-09-12T14:00:22.743000Z"
    }
   },
   "outputs": [
    {
     "name": "stdout",
     "output_type": "stream",
     "text": [
      "20\n",
      "None\n"
     ]
    }
   ],
   "source": [
    "d = {'a': 10, 'b': 20, 'c': 30}\n",
    "\n",
    "print(d.get('b'))\n",
    "print(d.get('z'))"
   ]
  },
  {
   "cell_type": "markdown",
   "metadata": {},
   "source": [
    "如果没有找到，并且指定了可选的参数，则返回该值，而不是None:"
   ]
  },
  {
   "cell_type": "code",
   "execution_count": 47,
   "metadata": {
    "ExecuteTime": {
     "end_time": "2019-09-12T14:00:36.824000Z",
     "start_time": "2019-09-12T14:00:36.818000Z"
    }
   },
   "outputs": [
    {
     "name": "stdout",
     "output_type": "stream",
     "text": [
      "-1\n"
     ]
    }
   ],
   "source": [
    "print(d.get('z', -1))"
   ]
  },
  {
   "cell_type": "markdown",
   "metadata": {},
   "source": [
    "##### `d.items()`  返回字典中的键值对列表。"
   ]
  },
  {
   "cell_type": "markdown",
   "metadata": {},
   "source": [
    "items()返回包含d中的键值对的元组列表，每个元组中的第一项是键，第二项是键的值:"
   ]
  },
  {
   "cell_type": "code",
   "execution_count": 48,
   "metadata": {
    "ExecuteTime": {
     "end_time": "2019-09-12T14:02:45.350000Z",
     "start_time": "2019-09-12T14:02:45.343000Z"
    }
   },
   "outputs": [
    {
     "name": "stdout",
     "output_type": "stream",
     "text": [
      "{'a': 10, 'b': 20, 'c': 30}\n",
      "[('a', 10), ('b', 20), ('c', 30)]\n",
      "b\n",
      "20\n"
     ]
    }
   ],
   "source": [
    "d = {'a': 10, 'b': 20, 'c': 30}\n",
    "print(d)\n",
    "\n",
    "print(list(d.items()))\n",
    "print(list(d.items())[1][0])\n",
    "print(list(d.items())[1][1])"
   ]
  },
  {
   "cell_type": "markdown",
   "metadata": {},
   "source": [
    "##### `d.keys()` 返回字典中的键列表"
   ]
  },
  {
   "cell_type": "code",
   "execution_count": 49,
   "metadata": {
    "ExecuteTime": {
     "end_time": "2019-09-12T14:03:51.770000Z",
     "start_time": "2019-09-12T14:03:51.762000Z"
    }
   },
   "outputs": [
    {
     "name": "stdout",
     "output_type": "stream",
     "text": [
      "{'a': 10, 'b': 20, 'c': 30}\n",
      "['a', 'b', 'c']\n"
     ]
    }
   ],
   "source": [
    "d = {'a': 10, 'b': 20, 'c': 30}\n",
    "print(d)\n",
    "\n",
    "print(list(d.keys()))"
   ]
  },
  {
   "cell_type": "markdown",
   "metadata": {},
   "source": [
    "##### `d.values()` 返回字典中的值列表"
   ]
  },
  {
   "cell_type": "code",
   "execution_count": 50,
   "metadata": {
    "ExecuteTime": {
     "end_time": "2019-09-12T14:04:46.513000Z",
     "start_time": "2019-09-12T14:04:46.508000Z"
    }
   },
   "outputs": [
    {
     "name": "stdout",
     "output_type": "stream",
     "text": [
      "{'a': 10, 'b': 20, 'c': 30}\n",
      "[10, 20, 30]\n"
     ]
    }
   ],
   "source": [
    "d = {'a': 10, 'b': 20, 'c': 30}\n",
    "print(d)\n",
    "\n",
    "print(list(d.values()))"
   ]
  },
  {
   "cell_type": "code",
   "execution_count": 51,
   "metadata": {
    "ExecuteTime": {
     "end_time": "2019-09-12T14:05:42.718000Z",
     "start_time": "2019-09-12T14:05:42.710000Z"
    }
   },
   "outputs": [
    {
     "name": "stdout",
     "output_type": "stream",
     "text": [
      "{'a': 10, 'b': 10, 'c': 10}\n",
      "[10, 10, 10]\n"
     ]
    }
   ],
   "source": [
    "d = {'a': 10, 'b': 10, 'c': 10}\n",
    "print(d)\n",
    "\n",
    "print(list(d.values()))"
   ]
  },
  {
   "cell_type": "markdown",
   "metadata": {},
   "source": [
    "**技术说明**:.items()、.keys()和.values()方法实际上返回的是视图对象。dictionary视图对象或多或少类似于键和值的窗口。出于实用目的，可以将这些方法视为返回字典键和值的列表。"
   ]
  },
  {
   "cell_type": "markdown",
   "metadata": {},
   "source": [
    "##### `d.pop(<key>[, <default>])` 从字典中删除键(如果存在)，并返回其值。"
   ]
  },
  {
   "cell_type": "markdown",
   "metadata": {},
   "source": [
    "如果d中存在，则d.pop()删除并返回其关联值:"
   ]
  },
  {
   "cell_type": "code",
   "execution_count": 52,
   "metadata": {
    "ExecuteTime": {
     "end_time": "2019-09-12T14:07:55.866000Z",
     "start_time": "2019-09-12T14:07:55.848000Z"
    }
   },
   "outputs": [
    {
     "name": "stdout",
     "output_type": "stream",
     "text": [
      "{'a': 10, 'c': 30}\n"
     ]
    }
   ],
   "source": [
    "d = {'a': 10, 'b': 20, 'c': 30}\n",
    "d.pop('b')\n",
    "\n",
    "print(d)\n"
   ]
  },
  {
   "cell_type": "markdown",
   "metadata": {},
   "source": [
    "d.pop()如果不在d中，则会引发KeyError异常:"
   ]
  },
  {
   "cell_type": "code",
   "execution_count": 53,
   "metadata": {
    "ExecuteTime": {
     "end_time": "2019-09-12T14:08:35.583000Z",
     "start_time": "2019-09-12T14:08:35.570000Z"
    }
   },
   "outputs": [
    {
     "ename": "KeyError",
     "evalue": "'z'",
     "output_type": "error",
     "traceback": [
      "\u001b[1;31m---------------------------------------------------------------------------\u001b[0m",
      "\u001b[1;31mKeyError\u001b[0m                                  Traceback (most recent call last)",
      "\u001b[1;32m<ipython-input-53-f4ea6cf177e0>\u001b[0m in \u001b[0;36m<module>\u001b[1;34m()\u001b[0m\n\u001b[0;32m      1\u001b[0m \u001b[0md\u001b[0m \u001b[1;33m=\u001b[0m \u001b[1;33m{\u001b[0m\u001b[1;34m'a'\u001b[0m\u001b[1;33m:\u001b[0m \u001b[1;36m10\u001b[0m\u001b[1;33m,\u001b[0m \u001b[1;34m'b'\u001b[0m\u001b[1;33m:\u001b[0m \u001b[1;36m20\u001b[0m\u001b[1;33m,\u001b[0m \u001b[1;34m'c'\u001b[0m\u001b[1;33m:\u001b[0m \u001b[1;36m30\u001b[0m\u001b[1;33m}\u001b[0m\u001b[1;33m\u001b[0m\u001b[0m\n\u001b[0;32m      2\u001b[0m \u001b[1;33m\u001b[0m\u001b[0m\n\u001b[1;32m----> 3\u001b[1;33m \u001b[0mprint\u001b[0m\u001b[1;33m(\u001b[0m\u001b[0md\u001b[0m\u001b[1;33m.\u001b[0m\u001b[0mpop\u001b[0m\u001b[1;33m(\u001b[0m\u001b[1;34m'z'\u001b[0m\u001b[1;33m)\u001b[0m\u001b[1;33m)\u001b[0m\u001b[1;33m\u001b[0m\u001b[0m\n\u001b[0m",
      "\u001b[1;31mKeyError\u001b[0m: 'z'"
     ]
    }
   ],
   "source": [
    "d = {'a': 10, 'b': 20, 'c': 30}\n",
    "\n",
    "print(d.pop('z'))"
   ]
  },
  {
   "cell_type": "markdown",
   "metadata": {},
   "source": [
    "##### `d.popitem()` 从字典中删除键值对"
   ]
  },
  {
   "cell_type": "markdown",
   "metadata": {},
   "source": [
    "popitem()从d中删除一个随机的任意键值对，并以元组的形式返回:"
   ]
  },
  {
   "cell_type": "code",
   "execution_count": 54,
   "metadata": {
    "ExecuteTime": {
     "end_time": "2019-09-12T14:10:06.261000Z",
     "start_time": "2019-09-12T14:10:06.254000Z"
    }
   },
   "outputs": [
    {
     "name": "stdout",
     "output_type": "stream",
     "text": [
      "{'a': 10, 'b': 20}\n",
      "{'a': 10}\n"
     ]
    }
   ],
   "source": [
    "d = {'a': 10, 'b': 20, 'c': 30}\n",
    "d.popitem()\n",
    "print(d)\n",
    "\n",
    "d.popitem()\n",
    "print(d)"
   ]
  },
  {
   "cell_type": "markdown",
   "metadata": {},
   "source": [
    "如果d为空，d.popitem()会引发一个KeyError异常:"
   ]
  },
  {
   "cell_type": "code",
   "execution_count": 55,
   "metadata": {
    "ExecuteTime": {
     "end_time": "2019-09-12T14:10:49.207000Z",
     "start_time": "2019-09-12T14:10:49.196000Z"
    }
   },
   "outputs": [
    {
     "ename": "KeyError",
     "evalue": "'popitem(): dictionary is empty'",
     "output_type": "error",
     "traceback": [
      "\u001b[1;31m---------------------------------------------------------------------------\u001b[0m",
      "\u001b[1;31mKeyError\u001b[0m                                  Traceback (most recent call last)",
      "\u001b[1;32m<ipython-input-55-b63a888cdf9f>\u001b[0m in \u001b[0;36m<module>\u001b[1;34m()\u001b[0m\n\u001b[0;32m      1\u001b[0m \u001b[0md\u001b[0m \u001b[1;33m=\u001b[0m \u001b[1;33m{\u001b[0m\u001b[1;33m}\u001b[0m\u001b[1;33m\u001b[0m\u001b[0m\n\u001b[1;32m----> 2\u001b[1;33m \u001b[0mprint\u001b[0m\u001b[1;33m(\u001b[0m\u001b[0md\u001b[0m\u001b[1;33m.\u001b[0m\u001b[0mpopitem\u001b[0m\u001b[1;33m(\u001b[0m\u001b[1;33m)\u001b[0m\u001b[1;33m)\u001b[0m\u001b[1;33m\u001b[0m\u001b[0m\n\u001b[0m",
      "\u001b[1;31mKeyError\u001b[0m: 'popitem(): dictionary is empty'"
     ]
    }
   ],
   "source": [
    "d = {}\n",
    "print(d.popitem())"
   ]
  },
  {
   "cell_type": "markdown",
   "metadata": {},
   "source": [
    "##### `d.update(<obj>)`  将字典与另一个字典或键值对的迭代器合并"
   ]
  },
  {
   "cell_type": "markdown",
   "metadata": {},
   "source": [
    "如果是一个字典，d.update()将来自的条目合并为d。对于中的每个键:\n",
    "\n",
    "    如果键不在d中，则将中的键值对添加到d中。\n",
    "    如果键已经出现在d中，那么该键在d中的对应值将更新。"
   ]
  },
  {
   "cell_type": "code",
   "execution_count": 56,
   "metadata": {
    "ExecuteTime": {
     "end_time": "2019-09-12T14:12:38.984000Z",
     "start_time": "2019-09-12T14:12:38.979000Z"
    }
   },
   "outputs": [
    {
     "name": "stdout",
     "output_type": "stream",
     "text": [
      "{'a': 10, 'b': 200, 'c': 30, 'd': 400}\n"
     ]
    }
   ],
   "source": [
    "d1 = {'a': 10, 'b': 20, 'c': 30}\n",
    "d2 = {'b': 200, 'd': 400}\n",
    "\n",
    "d1.update(d2)\n",
    "print(d1)"
   ]
  },
  {
   "cell_type": "code",
   "execution_count": 57,
   "metadata": {
    "ExecuteTime": {
     "end_time": "2019-09-12T14:13:51.232000Z",
     "start_time": "2019-09-12T14:13:51.228000Z"
    }
   },
   "outputs": [
    {
     "name": "stdout",
     "output_type": "stream",
     "text": [
      "{'a': 10, 'b': 200, 'c': 30, 'd': 400}\n"
     ]
    }
   ],
   "source": [
    "d1 = {'a': 10, 'b': 20, 'c': 30}\n",
    "d1.update([('b', 200), ('d', 400)])\n",
    "print(d1)"
   ]
  },
  {
   "cell_type": "markdown",
   "metadata": {},
   "source": [
    "要合并的值可以指定为关键字参数列表:"
   ]
  },
  {
   "cell_type": "code",
   "execution_count": 58,
   "metadata": {
    "ExecuteTime": {
     "end_time": "2019-09-12T14:14:11.028000Z",
     "start_time": "2019-09-12T14:14:11.024000Z"
    }
   },
   "outputs": [
    {
     "name": "stdout",
     "output_type": "stream",
     "text": [
      "{'a': 10, 'b': 200, 'c': 30, 'd': 400}\n"
     ]
    }
   ],
   "source": [
    "d1 = {'a': 10, 'b': 20, 'c': 30}\n",
    "d1.update(b=200, d=400)\n",
    "print(d1)"
   ]
  },
  {
   "cell_type": "markdown",
   "metadata": {},
   "source": [
    "#### 删除元素\n",
    "\n",
    "Delete/Remove Elements From A Python Dictionary"
   ]
  },
  {
   "cell_type": "code",
   "execution_count": 4,
   "metadata": {
    "ExecuteTime": {
     "end_time": "2019-03-30T05:40:45.255000Z",
     "start_time": "2019-03-30T05:40:45.141000Z"
    }
   },
   "outputs": [
    {
     "name": "stdout",
     "output_type": "stream",
     "text": [
      "30\n",
      "{1: 31, 2: 28, 3: 31, 4: 30, 5: 31}\n",
      "(5, 31)\n",
      "{1: 31, 2: 28, 3: 31, 4: 30}\n"
     ]
    },
    {
     "ename": "KeyError",
     "evalue": "5",
     "output_type": "error",
     "traceback": [
      "\u001b[1;31m---------------------------------------------------------------------------\u001b[0m",
      "\u001b[1;31mKeyError\u001b[0m                                  Traceback (most recent call last)",
      "\u001b[1;32m<ipython-input-4-52423233a7e2>\u001b[0m in \u001b[0;36m<module>\u001b[1;34m\u001b[0m\n\u001b[0;32m     11\u001b[0m \u001b[1;33m\u001b[0m\u001b[0m\n\u001b[0;32m     12\u001b[0m \u001b[1;31m# Remove a specific element\u001b[0m\u001b[1;33m\u001b[0m\u001b[1;33m\u001b[0m\u001b[0m\n\u001b[1;32m---> 13\u001b[1;33m \u001b[1;32mdel\u001b[0m \u001b[0msixMonths\u001b[0m\u001b[1;33m[\u001b[0m\u001b[1;36m5\u001b[0m\u001b[1;33m]\u001b[0m\u001b[1;33m\u001b[0m\u001b[0m\n\u001b[0m\u001b[0;32m     14\u001b[0m \u001b[0mprint\u001b[0m\u001b[1;33m(\u001b[0m\u001b[0msixMonths\u001b[0m\u001b[1;33m)\u001b[0m\u001b[1;33m\u001b[0m\u001b[0m\n\u001b[0;32m     15\u001b[0m \u001b[1;33m\u001b[0m\u001b[0m\n",
      "\u001b[1;31mKeyError\u001b[0m: 5"
     ]
    }
   ],
   "source": [
    "# Create a Python dictionary\n",
    "sixMonths = {1:31, 2:28, 3:31, 4:30, 5:31, 6:30}\n",
    "\n",
    "# Delete a specific element\n",
    "print(sixMonths.pop(6)) \n",
    "print(sixMonths)\n",
    "\n",
    "# Delete an random element\n",
    "print(sixMonths.popitem())\n",
    "print(sixMonths)\n",
    "\n",
    "# Remove a specific element\n",
    "del sixMonths[5]\n",
    "print(sixMonths)\n",
    "\n",
    "# Delete all elements from the dictionary\n",
    "sixMonths.clear()\n",
    "print(sixMonths)\n",
    "\n",
    "# Finally, eliminate the dictionary object\n",
    "del sixMonths\n",
    "print(sixMonths)"
   ]
  },
  {
   "cell_type": "code",
   "execution_count": 76,
   "metadata": {
    "ExecuteTime": {
     "end_time": "2019-09-12T14:40:24.077000Z",
     "start_time": "2019-09-12T14:40:24.065000Z"
    }
   },
   "outputs": [
    {
     "ename": "TypeError",
     "evalue": "'type' object is not subscriptable",
     "output_type": "error",
     "traceback": [
      "\u001b[1;31m---------------------------------------------------------------------------\u001b[0m",
      "\u001b[1;31mTypeError\u001b[0m                                 Traceback (most recent call last)",
      "\u001b[1;32m<ipython-input-76-a6e66fa9296e>\u001b[0m in \u001b[0;36m<module>\u001b[1;34m()\u001b[0m\n\u001b[0;32m      5\u001b[0m \u001b[1;32mdel\u001b[0m \u001b[0mdict\u001b[0m         \u001b[1;31m# 删除字典\u001b[0m\u001b[1;33m\u001b[0m\u001b[0m\n\u001b[0;32m      6\u001b[0m \u001b[1;33m\u001b[0m\u001b[0m\n\u001b[1;32m----> 7\u001b[1;33m \u001b[0mprint\u001b[0m \u001b[1;33m(\u001b[0m\u001b[1;34m\"dict['Age']: \"\u001b[0m\u001b[1;33m,\u001b[0m \u001b[0mdict\u001b[0m\u001b[1;33m[\u001b[0m\u001b[1;34m'Age'\u001b[0m\u001b[1;33m]\u001b[0m\u001b[1;33m)\u001b[0m\u001b[1;33m\u001b[0m\u001b[0m\n\u001b[0m\u001b[0;32m      8\u001b[0m \u001b[0mprint\u001b[0m \u001b[1;33m(\u001b[0m\u001b[1;34m\"dict['School']: \"\u001b[0m\u001b[1;33m,\u001b[0m \u001b[0mdict\u001b[0m\u001b[1;33m[\u001b[0m\u001b[1;34m'School'\u001b[0m\u001b[1;33m]\u001b[0m\u001b[1;33m)\u001b[0m\u001b[1;33m\u001b[0m\u001b[0m\n",
      "\u001b[1;31mTypeError\u001b[0m: 'type' object is not subscriptable"
     ]
    }
   ],
   "source": [
    "dict = {'Name': 'Runoob', 'Age': 7, 'Class': 'First'}\n",
    " \n",
    "del dict['Name'] # 删除键 'Name'\n",
    "dict.clear()     # 清空字典\n",
    "del dict         # 删除字典\n",
    " \n",
    "print (\"dict['Age']: \", dict['Age'])\n",
    "print (\"dict['School']: \", dict['School'])"
   ]
  },
  {
   "cell_type": "markdown",
   "metadata": {},
   "source": [
    "#### 迭代"
   ]
  },
  {
   "cell_type": "code",
   "execution_count": 5,
   "metadata": {
    "ExecuteTime": {
     "end_time": "2019-03-30T05:41:26.165000Z",
     "start_time": "2019-03-30T05:41:26.157000Z"
    }
   },
   "outputs": [
    {
     "name": "stdout",
     "output_type": "stream",
     "text": [
      "Keys are:\n",
      "Student Name\n",
      "Roll No.\n",
      "Subject\n"
     ]
    }
   ],
   "source": [
    "dict = {'Student Name': 'Berry', 'Roll No.': 12, 'Subject': 'English'}\n",
    "print(\"Keys are:\")\n",
    "for key in dict:\n",
    "    print(key)"
   ]
  },
  {
   "cell_type": "code",
   "execution_count": 6,
   "metadata": {
    "ExecuteTime": {
     "end_time": "2019-03-30T05:41:48.395000Z",
     "start_time": "2019-03-30T05:41:48.387000Z"
    }
   },
   "outputs": [
    {
     "name": "stdout",
     "output_type": "stream",
     "text": [
      "{Keys}:{Values}\n",
      "{'Student Name'} : {'Berry'}\n",
      "{'Roll No.'} : {12}\n",
      "{'Subject'} : {'English'}\n"
     ]
    }
   ],
   "source": [
    "dict = {'Student Name': 'Berry', 'Roll No.': 12, 'Subject': 'English'}\n",
    "print(\"{Keys}:{Values}\")\n",
    "for key, value in dict.items():\n",
    "    print({key},\":\",{value})"
   ]
  },
  {
   "cell_type": "code",
   "execution_count": 7,
   "metadata": {
    "ExecuteTime": {
     "end_time": "2019-03-30T05:42:14.823000Z",
     "start_time": "2019-03-30T05:42:14.813000Z"
    }
   },
   "outputs": [
    {
     "data": {
      "text/plain": [
       "{'11': 11, '22': 22, '33': 33, '44': 44, '55': 55}"
      ]
     },
     "execution_count": 7,
     "metadata": {},
     "output_type": "execute_result"
    }
   ],
   "source": [
    "{str(iter):iter for iter in [11,22,33,44,55]}"
   ]
  },
  {
   "cell_type": "code",
   "execution_count": 8,
   "metadata": {
    "ExecuteTime": {
     "end_time": "2019-03-30T05:42:31.056000Z",
     "start_time": "2019-03-30T05:42:31.046000Z"
    }
   },
   "outputs": [
    {
     "data": {
      "text/plain": [
       "{'sun': 3, 'mon': 3, 'tue': 3, 'wed': 3, 'thu': 3, 'fri': 3, 'sat': 3}"
      ]
     },
     "execution_count": 8,
     "metadata": {},
     "output_type": "execute_result"
    }
   ],
   "source": [
    "weekdays = ['sun', 'mon', 'tue', 'wed', 'thu', 'fri', 'sat']\n",
    "{w:len(w) for w in weekdays}"
   ]
  },
  {
   "cell_type": "code",
   "execution_count": 9,
   "metadata": {
    "ExecuteTime": {
     "end_time": "2019-03-30T05:42:46.614000Z",
     "start_time": "2019-03-30T05:42:46.605000Z"
    }
   },
   "outputs": [
    {
     "data": {
      "text/plain": [
       "{'sun': 0, 'mon': 1, 'tue': 2, 'wed': 3, 'thu': 4, 'fri': 5, 'sat': 6}"
      ]
     },
     "execution_count": 9,
     "metadata": {},
     "output_type": "execute_result"
    }
   ],
   "source": [
    "{w : i for i, w in enumerate(weekdays)}"
   ]
  },
  {
   "cell_type": "code",
   "execution_count": 10,
   "metadata": {
    "ExecuteTime": {
     "end_time": "2019-03-30T05:43:03.466000Z",
     "start_time": "2019-03-30T05:43:03.462000Z"
    }
   },
   "outputs": [
    {
     "name": "stdout",
     "output_type": "stream",
     "text": [
      "True\n",
      "False\n",
      "True\n"
     ]
    }
   ],
   "source": [
    "weekdays = {'fri': 5, 'tue': 2, 'wed': 3, 'sat': 6, 'thu': 4, 'mon': 1, 'sun': 0}\n",
    "# Output: True\n",
    "print('fri' in weekdays)\n",
    "# Output: False\n",
    "print('thu' not in weekdays)\n",
    "# Output: True\n",
    "print('mon' in weekdays)"
   ]
  },
  {
   "cell_type": "markdown",
   "metadata": {},
   "source": [
    "#### 访问字典值"
   ]
  },
  {
   "cell_type": "code",
   "execution_count": 6,
   "metadata": {
    "ExecuteTime": {
     "end_time": "2019-09-12T12:51:04.053000Z",
     "start_time": "2019-09-12T12:51:04.035000Z"
    }
   },
   "outputs": [
    {
     "name": "stdout",
     "output_type": "stream",
     "text": [
      "Acessing a element using key:\n",
      "For\n",
      "Acessing a element using key:\n",
      "Geeks\n",
      "Acessing a element using get:\n",
      "Geeks\n",
      "None\n"
     ]
    },
    {
     "ename": "KeyError",
     "evalue": "5",
     "output_type": "error",
     "traceback": [
      "\u001b[1;31m---------------------------------------------------------------------------\u001b[0m",
      "\u001b[1;31mKeyError\u001b[0m                                  Traceback (most recent call last)",
      "\u001b[1;32m<ipython-input-6-0f9163adb99d>\u001b[0m in \u001b[0;36m<module>\u001b[1;34m()\u001b[0m\n\u001b[0;32m     17\u001b[0m \u001b[0mprint\u001b[0m\u001b[1;33m(\u001b[0m\u001b[0mDict\u001b[0m\u001b[1;33m.\u001b[0m\u001b[0mget\u001b[0m\u001b[1;33m(\u001b[0m\u001b[1;36m3\u001b[0m\u001b[1;33m)\u001b[0m\u001b[1;33m)\u001b[0m\u001b[1;33m\u001b[0m\u001b[0m\n\u001b[0;32m     18\u001b[0m \u001b[0mprint\u001b[0m\u001b[1;33m(\u001b[0m\u001b[0mDict\u001b[0m\u001b[1;33m.\u001b[0m\u001b[0mget\u001b[0m\u001b[1;33m(\u001b[0m\u001b[1;36m5\u001b[0m\u001b[1;33m)\u001b[0m\u001b[1;33m)\u001b[0m\u001b[1;33m\u001b[0m\u001b[0m\n\u001b[1;32m---> 19\u001b[1;33m \u001b[0mprint\u001b[0m\u001b[1;33m(\u001b[0m\u001b[0mDict\u001b[0m\u001b[1;33m[\u001b[0m\u001b[1;36m5\u001b[0m\u001b[1;33m]\u001b[0m\u001b[1;33m)\u001b[0m\u001b[1;33m\u001b[0m\u001b[0m\n\u001b[0m",
      "\u001b[1;31mKeyError\u001b[0m: 5"
     ]
    }
   ],
   "source": [
    "# accesing a element from a Dictionary  \n",
    "  \n",
    "# Creating a Dictionary  \n",
    "Dict = {1: 'Geeks', 'name': 'For', 3: 'Geeks'} \n",
    "\n",
    "# accessing a element using key \n",
    "print(\"Acessing a element using key:\") \n",
    "print(Dict['name']) \n",
    "  \n",
    "# accessing a element using key \n",
    "print(\"Acessing a element using key:\") \n",
    "print(Dict[1]) \n",
    "  \n",
    "# accessing a element using get() \n",
    "# method \n",
    "print(\"Acessing a element using get:\") \n",
    "print(Dict.get(3))\n",
    "print(Dict.get(5)) \n",
    "print(Dict[5]) "
   ]
  },
  {
   "cell_type": "markdown",
   "metadata": {},
   "source": [
    "使用get()访问元素不存在时返回None\n",
    "\n",
    "如果直接用字典的键key来访问则会报错 `KeyError`"
   ]
  },
  {
   "cell_type": "markdown",
   "metadata": {},
   "source": [
    "#### Python 字典合并merge\n",
    "\n",
    "[](https://www.geeksforgeeks.org/python-dictionary/)\n",
    "    \n"
   ]
  },
  {
   "cell_type": "code",
   "execution_count": 1,
   "metadata": {
    "ExecuteTime": {
     "end_time": "2019-09-12T12:45:21.470000Z",
     "start_time": "2019-09-12T12:45:21.463000Z"
    }
   },
   "outputs": [
    {
     "name": "stdout",
     "output_type": "stream",
     "text": [
      "{1: 'Geeks', 2: 'For', 3: {'A': 'Welcome', 'B': 'To', 'C': 'Geeks'}}\n"
     ]
    }
   ],
   "source": [
    "# Creating a Nested Dictionary  \n",
    "# as shown in the below image \n",
    "Dict = {1: 'Geeks', 2: 'For',  3:{'A' : 'Welcome', 'B' : 'To', 'C' : 'Geeks'}} \n",
    "  \n",
    "print(Dict)  "
   ]
  },
  {
   "cell_type": "markdown",
   "metadata": {},
   "source": [
    "##### 使用`**`\n",
    "\n",
    "[How To Combine Two Dictionary Variables in Python](https://tutorialdeep.com/knowhow/combine-two-dictionary-python/)"
   ]
  },
  {
   "cell_type": "code",
   "execution_count": 11,
   "metadata": {
    "ExecuteTime": {
     "end_time": "2019-09-12T13:05:29.160000Z",
     "start_time": "2019-09-12T13:05:29.155000Z"
    }
   },
   "outputs": [
    {
     "name": "stdout",
     "output_type": "stream",
     "text": [
      "{1: 'Geeks', 2: 'For', 3: {'A': 'Welcome', 'B': 'To', 'C': 'Geeks'}}\n"
     ]
    }
   ],
   "source": [
    "x = {1: 'Geeks', 2: 'For'}\n",
    "y = {3:{'A' : 'Welcome', 'B' : 'To', 'C' : 'Geeks'}}\n",
    "\n",
    "print({**x, **y})"
   ]
  },
  {
   "cell_type": "code",
   "execution_count": 17,
   "metadata": {
    "ExecuteTime": {
     "end_time": "2019-09-12T13:18:37.472000Z",
     "start_time": "2019-09-12T13:18:37.467000Z"
    }
   },
   "outputs": [
    {
     "name": "stdout",
     "output_type": "stream",
     "text": [
      "{'one': 'Ram', 'two': 13, 'three': 'Jordge', 'seven': 'Billy', 'eight': 'Oman', 'four': 'Gill', 'five': 33, 'six': 'Steve'}\n"
     ]
    }
   ],
   "source": [
    "myDict1 = {'one': 'Ram', 'two': 13, 'three': 'Jordge'}\n",
    "myDict2 = {'four': 'Gill', 'five': 33, 'six': 'Steve'}\n",
    "newDict = {**myDict1, 'seven': 'Billy', 'eight': 'Oman', **myDict2}\n",
    "print(newDict)"
   ]
  },
  {
   "cell_type": "markdown",
   "metadata": {},
   "source": [
    "##### 使用 `update()`"
   ]
  },
  {
   "cell_type": "markdown",
   "metadata": {},
   "source": [
    "[How to merge two dictionaries in a single expression?](https://stackoverflow.com/questions/38987/how-to-merge-two-dictionaries-in-a-single-expression/48674051)"
   ]
  },
  {
   "cell_type": "code",
   "execution_count": 8,
   "metadata": {
    "ExecuteTime": {
     "end_time": "2019-09-12T12:56:48.922000Z",
     "start_time": "2019-09-12T12:56:48.911000Z"
    }
   },
   "outputs": [
    {
     "name": "stdout",
     "output_type": "stream",
     "text": [
      "None\n",
      "{'a': 1, 'b': 10, 'c': 11}\n"
     ]
    }
   ],
   "source": [
    "x = {'a':1, 'b': 2}\n",
    "y = {'b':10, 'c': 11}\n",
    "z = x.update(y)\n",
    "print(z)\n",
    "print(x)"
   ]
  },
  {
   "cell_type": "markdown",
   "metadata": {},
   "source": [
    "从以上可以看出update更新元素并没有返回新的对象，也就是，更新的操作是在原有的对象基础上完成的\n",
    "\n",
    "同时遇到`key`值相同的情况，则只保留最后的一个值\n",
    "\n",
    "如果想要保持原有数据不变，可以使用`.copy()`函数\n",
    "\n",
    "    z = x.copy()\n",
    "    z.update(y)"
   ]
  },
  {
   "cell_type": "markdown",
   "metadata": {},
   "source": [
    "[The Update() Method](https://code.tutsplus.com/tutorials/how-to-merge-two-python-dictionaries--cms-26230)"
   ]
  },
  {
   "cell_type": "code",
   "execution_count": 14,
   "metadata": {
    "ExecuteTime": {
     "end_time": "2019-09-12T13:10:40.057000Z",
     "start_time": "2019-09-12T13:10:40.043000Z"
    }
   },
   "outputs": [
    {
     "name": "stdout",
     "output_type": "stream",
     "text": [
      "('bookA', [1])\n",
      "('bookB', [2])\n",
      "('bookC', [3, 2])\n",
      "('bookD', [4])\n",
      "('bookE', [5])\n"
     ]
    }
   ],
   "source": [
    "from itertools import chain\n",
    "from collections import defaultdict\n",
    "dict1 = {'bookA': 1, 'bookB': 2, 'bookC': 3}\n",
    "dict2 = {'bookC': 2, 'bookD': 4, 'bookE': 5}\n",
    "dict3 = defaultdict(list)\n",
    "for k, v in chain(list(dict1.items()), list(dict2.items())):\n",
    "    dict3[k].append(v)\n",
    "\n",
    "for k, v in list(dict3.items()):\n",
    "    print((k, v))"
   ]
  },
  {
   "cell_type": "markdown",
   "metadata": {},
   "source": [
    "##### `.items()`"
   ]
  },
  {
   "cell_type": "code",
   "execution_count": 10,
   "metadata": {
    "ExecuteTime": {
     "end_time": "2019-09-12T13:04:05.257000Z",
     "start_time": "2019-09-12T13:04:05.252000Z"
    }
   },
   "outputs": [
    {
     "name": "stdout",
     "output_type": "stream",
     "text": [
      "{'a': 1, 'b': 10, 'c': 11}\n"
     ]
    }
   ],
   "source": [
    "x = {'a':1, 'b': 2}\n",
    "y = {'b':10, 'c': 11}\n",
    "z = dict(list(x.items()) + list(y.items()))\n",
    "print(z)"
   ]
  },
  {
   "cell_type": "markdown",
   "metadata": {},
   "source": [
    "[Is there any pythonic way to combine two dicts (adding values for keys that appear in both)?](https://stackoverflow.com/questions/11011756/is-there-any-pythonic-way-to-combine-two-dicts-adding-values-for-keys-that-appe)"
   ]
  },
  {
   "cell_type": "code",
   "execution_count": 15,
   "metadata": {
    "ExecuteTime": {
     "end_time": "2019-09-12T13:15:09.720000Z",
     "start_time": "2019-09-12T13:15:09.714000Z"
    }
   },
   "outputs": [
    {
     "name": "stdout",
     "output_type": "stream",
     "text": [
      "{'b': 5, 'd': 5, 'c': 7, 'a': 1}\n"
     ]
    }
   ],
   "source": [
    "A = {'a':1, 'b':2, 'c':3}\n",
    "B = {'b':3, 'c':4, 'd':5}\n",
    "c = {x: A.get(x, 0) + B.get(x, 0) for x in set(A).union(B)}\n",
    "print(c)"
   ]
  },
  {
   "cell_type": "markdown",
   "metadata": {},
   "source": [
    "#### 获取具有最大值的Key\n",
    "\n",
    "[Get Key With Maximum Value in Dictionary in Python](https://tutorialdeep.com/knowhow/key-maximum-value-dictionary-python/)"
   ]
  },
  {
   "cell_type": "markdown",
   "metadata": {},
   "source": [
    "使用`max()`函数的`key`参数"
   ]
  },
  {
   "cell_type": "code",
   "execution_count": 18,
   "metadata": {
    "ExecuteTime": {
     "end_time": "2019-09-12T13:20:57.139000Z",
     "start_time": "2019-09-12T13:20:57.130000Z"
    }
   },
   "outputs": [
    {
     "name": "stdout",
     "output_type": "stream",
     "text": [
      "three\n"
     ]
    }
   ],
   "source": [
    "myDict = {'one': 24, 'two': 13, 'three': 54, 'four': 9}\n",
    "MaxDictVal = max(myDict, key=myDict.get)\n",
    "print(MaxDictVal)"
   ]
  },
  {
   "cell_type": "markdown",
   "metadata": {},
   "source": [
    "#### 检查键`key`是否存在"
   ]
  },
  {
   "cell_type": "markdown",
   "metadata": {},
   "source": [
    "[How to Check If Key Exists In Dictionary Using Python](https://tutorialdeep.com/knowhow/check-key-exists-dictionary-python/)"
   ]
  },
  {
   "cell_type": "code",
   "execution_count": 20,
   "metadata": {
    "ExecuteTime": {
     "end_time": "2019-09-12T13:23:40.634000Z",
     "start_time": "2019-09-12T13:23:40.617000Z"
    }
   },
   "outputs": [
    {
     "name": "stdout",
     "output_type": "stream",
     "text": [
      "The given key already exists\n"
     ]
    }
   ],
   "source": [
    "mykey = 'four';\n",
    "myDict = {'one': 'Ram', 'two': 13, 'three': 'Jordge', 'four': 'Gill', 'five': 33, 'six': 'Steve'}\n",
    "for key, value in myDict.items():\n",
    "    if key == mykey:\n",
    "        print('The given key already exists')"
   ]
  },
  {
   "cell_type": "code",
   "execution_count": 19,
   "metadata": {
    "ExecuteTime": {
     "end_time": "2019-09-12T13:23:25.223000Z",
     "start_time": "2019-09-12T13:23:25.217000Z"
    }
   },
   "outputs": [
    {
     "name": "stdout",
     "output_type": "stream",
     "text": [
      "The given key exists\n"
     ]
    }
   ],
   "source": [
    "mykey = 'four';\n",
    "myNewDict = {\"one\": \"Ram\", \"two\": 43, \"three\": 10, \"four\": \"Bilal\", \"five\": 13.2, \"six\": \"Feroz\"}\n",
    "if mykey in myNewDict:\n",
    "    print('The given key exists')\n",
    "else:\n",
    "    print('Not Exists')"
   ]
  },
  {
   "cell_type": "markdown",
   "metadata": {},
   "source": [
    "#### 删除单一键值"
   ]
  },
  {
   "cell_type": "code",
   "execution_count": 21,
   "metadata": {
    "ExecuteTime": {
     "end_time": "2019-09-12T13:26:25.557000Z",
     "start_time": "2019-09-12T13:26:25.550000Z"
    }
   },
   "outputs": [
    {
     "name": "stdout",
     "output_type": "stream",
     "text": [
      "{'one': 'Sally', 'three': 'Dingra', 'four': 'Lilop'}\n"
     ]
    }
   ],
   "source": [
    "myDict = {'one': 'Sally', 'two': 13, 'three': 'Dingra', 'four': 'Lilop'}\n",
    "myDict.pop('two')\n",
    "print(myDict)"
   ]
  },
  {
   "cell_type": "markdown",
   "metadata": {},
   "source": [
    "#### `clear()` 清除字典"
   ]
  },
  {
   "cell_type": "code",
   "execution_count": 22,
   "metadata": {
    "ExecuteTime": {
     "end_time": "2019-09-12T13:27:56.213000Z",
     "start_time": "2019-09-12T13:27:56.207000Z"
    }
   },
   "outputs": [
    {
     "name": "stdout",
     "output_type": "stream",
     "text": [
      "{}\n"
     ]
    }
   ],
   "source": [
    "myDict = {'one': 'Sally', 'two': 13, 'three': 'Dingra', 'four': 'Lilop'}\n",
    "myDict.clear()\n",
    "print(myDict)"
   ]
  },
  {
   "cell_type": "markdown",
   "metadata": {},
   "source": [
    "#### 字典的循环"
   ]
  },
  {
   "cell_type": "markdown",
   "metadata": {},
   "source": [
    "[How to Loop Through Dictionary Elements in Python](https://tutorialdeep.com/knowhow/loop-through-dictionary-elements-python/)"
   ]
  },
  {
   "cell_type": "code",
   "execution_count": 23,
   "metadata": {
    "ExecuteTime": {
     "end_time": "2019-09-12T13:29:06.203000Z",
     "start_time": "2019-09-12T13:29:06.198000Z"
    }
   },
   "outputs": [
    {
     "name": "stdout",
     "output_type": "stream",
     "text": [
      "one\n",
      "two\n",
      "three\n",
      "fore\n",
      "five\n",
      "six\n"
     ]
    }
   ],
   "source": [
    "myDict = { \"one\": \"Ram\", \"two\": \"Shyam\", \"three\": 10, \"fore\": \"Bilal\", \"five\": 13.2, \"six\": \"Feroz\"}\n",
    "for key, value in myDict.items():\n",
    "    print(key)"
   ]
  },
  {
   "cell_type": "markdown",
   "metadata": {},
   "source": [
    "#### 字典添加元素"
   ]
  },
  {
   "cell_type": "markdown",
   "metadata": {},
   "source": [
    "[How to Add Element To Key In Dictionary Using Python](https://tutorialdeep.com/knowhow/add-element-key-dictionary-python/)"
   ]
  },
  {
   "cell_type": "markdown",
   "metadata": {},
   "source": [
    "##### 直接利用中括号`[]`赋值"
   ]
  },
  {
   "cell_type": "code",
   "execution_count": 24,
   "metadata": {
    "ExecuteTime": {
     "end_time": "2019-09-12T13:31:07.868000Z",
     "start_time": "2019-09-12T13:31:07.864000Z"
    }
   },
   "outputs": [
    {
     "name": "stdout",
     "output_type": "stream",
     "text": [
      "{'one': 'Ram', 'two': 13, 'three': 'Jordge', 'four': 'Dev'}\n"
     ]
    }
   ],
   "source": [
    "myDict = {'one': 'Ram', 'two': 13, 'three': 'Jordge', 'four': 'Gill'}\n",
    "myDict['four'] = 'Dev'\n",
    "print(myDict)"
   ]
  },
  {
   "cell_type": "markdown",
   "metadata": {},
   "source": [
    "##### `.update()` "
   ]
  },
  {
   "cell_type": "code",
   "execution_count": 30,
   "metadata": {
    "ExecuteTime": {
     "end_time": "2019-09-12T13:41:36.346000Z",
     "start_time": "2019-09-12T13:41:36.339000Z"
    }
   },
   "outputs": [
    {
     "name": "stdout",
     "output_type": "stream",
     "text": [
      "{'one': 'Ram', 'two': 13, 'three': 'Jordge', 'four': 'Gill', 'five': 'Kelly'}\n"
     ]
    }
   ],
   "source": [
    "myDict = {'one': 'Ram', 'two': 13, 'three': 'Jordge', 'four': 'Gill'};\n",
    "myDict.update({'five':'Kelly'});\n",
    "print(myDict)"
   ]
  },
  {
   "cell_type": "markdown",
   "metadata": {},
   "source": [
    "#### 字典元素更新"
   ]
  },
  {
   "cell_type": "markdown",
   "metadata": {},
   "source": [
    "##### `.update()` "
   ]
  },
  {
   "cell_type": "code",
   "execution_count": 31,
   "metadata": {
    "ExecuteTime": {
     "end_time": "2019-09-12T13:41:49.365000Z",
     "start_time": "2019-09-12T13:41:49.361000Z"
    }
   },
   "outputs": [
    {
     "name": "stdout",
     "output_type": "stream",
     "text": [
      "{'one': 'Ram', 'two': 13, 'three': 'Jordge', 'four': 'Kelly'}\n"
     ]
    }
   ],
   "source": [
    "myDict = {'one': 'Ram', 'two': 13, 'three': 'Jordge', 'four': 'Gill'};\n",
    "myDict.update({'four':'Kelly'});\n",
    "print(myDict)"
   ]
  },
  {
   "cell_type": "markdown",
   "metadata": {},
   "source": [
    "##### 通过赋值"
   ]
  },
  {
   "cell_type": "code",
   "execution_count": 29,
   "metadata": {
    "ExecuteTime": {
     "end_time": "2019-09-12T13:39:57.825000Z",
     "start_time": "2019-09-12T13:39:57.820000Z"
    }
   },
   "outputs": [
    {
     "name": "stdout",
     "output_type": "stream",
     "text": [
      "{'one': 'Ram', 'two': 13, 'three': 'Royals', 'four': 'Gill'}\n"
     ]
    }
   ],
   "source": [
    "myDict = {'one': 'Ram', 'two': 13, 'three': 'Jordge', 'four': 'Gill'};\n",
    "myDict['three'] = \"Royals\"\n",
    "print(myDict)"
   ]
  },
  {
   "cell_type": "markdown",
   "metadata": {},
   "source": [
    "#### 字典的排序"
   ]
  },
  {
   "cell_type": "markdown",
   "metadata": {},
   "source": [
    "[How to Sort Python Dictionaries by Key or Value](https://www.pythoncentral.io/how-to-sort-python-dictionaries-by-key-or-value/)"
   ]
  },
  {
   "cell_type": "markdown",
   "metadata": {},
   "source": [
    "##### 按键对Python字典排序\n",
    "\n",
    "如果我们想根据字典对象的键对其排序，最简单的方法是使用Python内置的sort方法，该方法将接受任何可迭代的值并返回已排序的值列表(默认情况下按升序排列)。没有用于排序字典的类方法，但是排序方法的工作方式是相同的。"
   ]
  },
  {
   "cell_type": "code",
   "execution_count": 59,
   "metadata": {
    "ExecuteTime": {
     "end_time": "2019-09-12T14:22:10.150000Z",
     "start_time": "2019-09-12T14:22:10.142000Z"
    }
   },
   "outputs": [
    {
     "name": "stdout",
     "output_type": "stream",
     "text": [
      "['Fourth', 'first', 'second', 'third']\n"
     ]
    }
   ],
   "source": [
    "# This is the same as calling sorted(numbers.keys())\n",
    "\n",
    "numbers = {'first': 1, 'second': 2, 'third': 3, 'Fourth': 4}\n",
    "print(sorted(numbers))"
   ]
  },
  {
   "cell_type": "markdown",
   "metadata": {},
   "source": [
    "我们可以看到这个方法给了我们一个按升序排列的键列表，几乎按字母顺序排列，这取决于我们定义的“字母顺序”。还请注意，我们按它的键对它的键列表进行了排序——如果我们想按它的键对它的值列表进行排序，或者按它的值对它的键列表进行排序，我们必须改变使用排序方法的方式。我们来看看排序的不同方面。"
   ]
  },
  {
   "cell_type": "markdown",
   "metadata": {},
   "source": [
    "##### 根据值对Python字典进行排序\n",
    "就像我们对键所做的一样，我们可以使用sort对Python字典的值进行排序:"
   ]
  },
  {
   "cell_type": "code",
   "execution_count": 60,
   "metadata": {
    "ExecuteTime": {
     "end_time": "2019-09-12T14:23:50.116000Z",
     "start_time": "2019-09-12T14:23:50.111000Z"
    }
   },
   "outputs": [
    {
     "name": "stdout",
     "output_type": "stream",
     "text": [
      "[1, 2, 3, 4]\n"
     ]
    }
   ],
   "source": [
    "# We have to call numbers.values() here\n",
    "print(sorted(numbers.values()))"
   ]
  },
  {
   "cell_type": "markdown",
   "metadata": {},
   "source": [
    "这是默认顺序的值列表，按升序排列。这些都是非常简单的例子，所以现在让我们来研究一些稍微复杂一些的情况，在这些情况下，我们对dict对象进行排序。"
   ]
  },
  {
   "cell_type": "markdown",
   "metadata": {},
   "source": [
    "###### 值value升序排列"
   ]
  },
  {
   "cell_type": "code",
   "execution_count": 94,
   "metadata": {
    "ExecuteTime": {
     "end_time": "2019-09-14T03:51:50.047000Z",
     "start_time": "2019-09-14T03:51:50.043000Z"
    }
   },
   "outputs": [
    {
     "name": "stdout",
     "output_type": "stream",
     "text": [
      "[('b', 3), ('a', 5), ('c', 7)]\n"
     ]
    }
   ],
   "source": [
    "x = {'a':5, 'b':3, 'c':7}\n",
    "\n",
    "print([(l,k) for k,l in sorted([(j,i) for i,j in x.items()])])"
   ]
  },
  {
   "cell_type": "markdown",
   "metadata": {},
   "source": [
    "###### 值value降序排列"
   ]
  },
  {
   "cell_type": "code",
   "execution_count": 95,
   "metadata": {
    "ExecuteTime": {
     "end_time": "2019-09-14T03:52:45.729000Z",
     "start_time": "2019-09-14T03:52:45.723000Z"
    }
   },
   "outputs": [
    {
     "name": "stdout",
     "output_type": "stream",
     "text": [
      "[('c', 7), ('a', 5), ('b', 3)]\n"
     ]
    }
   ],
   "source": [
    "print([(l,k) for k,l in sorted([(j,i) for i,j in x.items()], reverse=True)])"
   ]
  },
  {
   "cell_type": "markdown",
   "metadata": {},
   "source": [
    "**`most_common()`最常出现的**"
   ]
  },
  {
   "cell_type": "code",
   "execution_count": 99,
   "metadata": {
    "ExecuteTime": {
     "end_time": "2019-09-14T03:53:54.386000Z",
     "start_time": "2019-09-14T03:53:54.382000Z"
    }
   },
   "outputs": [
    {
     "name": "stdout",
     "output_type": "stream",
     "text": [
      "[('c', 7), ('a', 5), ('b', 3)]\n"
     ]
    }
   ],
   "source": [
    "from collections import Counter\n",
    "x = Counter({'a':5, 'b':3, 'c':7})\n",
    "print(x.most_common())"
   ]
  },
  {
   "cell_type": "markdown",
   "metadata": {},
   "source": [
    "**出现次数最多的两个**"
   ]
  },
  {
   "cell_type": "code",
   "execution_count": 100,
   "metadata": {
    "ExecuteTime": {
     "end_time": "2019-09-14T03:55:49.668000Z",
     "start_time": "2019-09-14T03:55:49.664000Z"
    }
   },
   "outputs": [
    {
     "name": "stdout",
     "output_type": "stream",
     "text": [
      "[('c', 7), ('a', 5)]\n"
     ]
    }
   ],
   "source": [
    "print(x.most_common(2))"
   ]
  },
  {
   "cell_type": "code",
   "execution_count": 101,
   "metadata": {
    "ExecuteTime": {
     "end_time": "2019-09-14T03:56:15.882000Z",
     "start_time": "2019-09-14T03:56:15.877000Z"
    }
   },
   "outputs": [
    {
     "name": "stdout",
     "output_type": "stream",
     "text": [
      "OrderedDict([('c', 7), ('a', 5), ('b', 3)])\n"
     ]
    }
   ],
   "source": [
    "from collections import Counter, OrderedDict\n",
    "\n",
    "x = Counter({'a':5, 'b':3, 'c':7})\n",
    "y = OrderedDict(x.most_common())\n",
    "print(y)"
   ]
  },
  {
   "cell_type": "markdown",
   "metadata": {},
   "source": [
    "##### 使用Python字典自定义排序算法"
   ]
  },
  {
   "cell_type": "markdown",
   "metadata": {},
   "source": [
    "如果我们简单地给排序方法一个键/值作为参数，它将执行一个简单的排序，但是通过使用它的其他参数(即键和反向)，我们可以让它执行更复杂的排序。\n",
    "\n",
    "sort的键参数(不要与dictionary的键混淆)允许我们定义在排序项时使用的特定函数，作为迭代器(在dict对象中)。在上面的两个例子中，键和值都是要排序的项和用于比较的项，但是如果我们想使用dict值对dict键排序，那么我们会告诉sort通过它的键参数来完成。如:"
   ]
  },
  {
   "cell_type": "code",
   "execution_count": 61,
   "metadata": {
    "ExecuteTime": {
     "end_time": "2019-09-12T14:25:59.638000Z",
     "start_time": "2019-09-12T14:25:59.633000Z"
    }
   },
   "outputs": [
    {
     "name": "stdout",
     "output_type": "stream",
     "text": [
      "['first', 'second', 'third', 'Fourth']\n"
     ]
    }
   ],
   "source": [
    "# Use the __getitem__ method as the key function\n",
    "print(sorted(numbers, key=numbers.__getitem__))\n",
    "# In order of sorted values: [1, 2, 3, 4]"
   ]
  },
  {
   "cell_type": "markdown",
   "metadata": {},
   "source": [
    "使用这个语句，我们告诉sort来对dict(它的键)进行排序，并通过使用numbers的类方法来检索值来对它们进行排序——本质上，我们告诉它“对于数字中的每个键，使用数字中的对应值进行比较来对其进行排序”。"
   ]
  },
  {
   "cell_type": "markdown",
   "metadata": {},
   "source": [
    "我们还可以根据键对数字中的值进行排序，但是使用键参数会更加复杂(没有字典方法像列表那样通过使用某个值来返回键)。指数法)。相反，我们可以使用列表理解来保持简单:"
   ]
  },
  {
   "cell_type": "code",
   "execution_count": 62,
   "metadata": {
    "ExecuteTime": {
     "end_time": "2019-09-12T14:27:05.221000Z",
     "start_time": "2019-09-12T14:27:05.214000Z"
    }
   },
   "outputs": [
    {
     "name": "stdout",
     "output_type": "stream",
     "text": [
      "[4, 1, 2, 3]\n"
     ]
    }
   ],
   "source": [
    "# Uses the first element of each tuple to compare\n",
    "print([value for (key, value) in sorted(numbers.items())])"
   ]
  },
  {
   "cell_type": "markdown",
   "metadata": {},
   "source": [
    "另一个要考虑的论点是相反的。如果这是真的，那么顺序将被颠倒(降序)，否则如果这是假的，那么顺序将是默认的(升序)，就这么简单。例如，与前面的两种分类一样:"
   ]
  },
  {
   "cell_type": "code",
   "execution_count": 63,
   "metadata": {
    "ExecuteTime": {
     "end_time": "2019-09-12T14:27:58.750000Z",
     "start_time": "2019-09-12T14:27:58.737000Z"
    }
   },
   "outputs": [
    {
     "name": "stdout",
     "output_type": "stream",
     "text": [
      "['Fourth', 'third', 'second', 'first']\n",
      "[3, 2, 1, 4]\n"
     ]
    }
   ],
   "source": [
    "print(sorted(numbers, key=numbers.__getitem__, reverse=True))\n",
    "\n",
    "print([value for (key, value) in sorted(numbers.items(), reverse=True)])"
   ]
  },
  {
   "cell_type": "markdown",
   "metadata": {},
   "source": [
    "这些排序仍然相当简单，但是让我们来看看一些特殊的算法，我们可能会使用字符串或数字排序我们的字典。"
   ]
  },
  {
   "cell_type": "markdown",
   "metadata": {},
   "source": [
    "##### 使用字符串和数字算法对Python字典进行排序"
   ]
  },
  {
   "cell_type": "markdown",
   "metadata": {},
   "source": [
    "按字母顺序排序字符串是非常常见的，但是使用已排序可能不会按“适当的”字母顺序对dict的键/值排序，即忽略大小写。为了忽略这种情况，我们可以再次使用key参数和string .lower(或string .upper)方法，以便所有字符串在比较时都是相同的情况:"
   ]
  },
  {
   "cell_type": "code",
   "execution_count": 64,
   "metadata": {
    "ExecuteTime": {
     "end_time": "2019-09-12T14:29:16.614000Z",
     "start_time": "2019-09-12T14:29:16.611000Z"
    }
   },
   "outputs": [
    {
     "name": "stdout",
     "output_type": "stream",
     "text": [
      "['first', 'Fourth', 'second', 'third']\n"
     ]
    }
   ],
   "source": [
    "# Won't change the items to be returned, only while sorting\n",
    "print(sorted(numbers, key=str.lower))"
   ]
  },
  {
   "cell_type": "markdown",
   "metadata": {},
   "source": [
    "为了将字符串与数字关联，我们需要一个额外的上下文元素来正确地关联它们。让我们先创建一个新的dict对象:"
   ]
  },
  {
   "cell_type": "code",
   "execution_count": 65,
   "metadata": {
    "ExecuteTime": {
     "end_time": "2019-09-12T14:30:02.029000Z",
     "start_time": "2019-09-12T14:30:02.025000Z"
    }
   },
   "outputs": [
    {
     "name": "stdout",
     "output_type": "stream",
     "text": [
      "{'one': 'January', 'two': 'February', 'three': 'March', 'four': 'April', 'five': 'May'}\n"
     ]
    }
   ],
   "source": [
    "month = dict(one='January',\n",
    "                 two='February',\n",
    "                 three='March',\n",
    "                 four='April',\n",
    "                 five='May')\n",
    "print(month)"
   ]
  },
  {
   "cell_type": "markdown",
   "metadata": {},
   "source": [
    "它只包含字符串键和值，因此如果没有额外的上下文，就无法将月份按正确的顺序排列。为此，我们可以简单地创建另一个字典来将字符串映射到它们的数值，并使用该字典的_getitem__方法来比较我们的month字典中的值:"
   ]
  },
  {
   "cell_type": "code",
   "execution_count": 66,
   "metadata": {
    "ExecuteTime": {
     "end_time": "2019-09-12T14:30:47.391000Z",
     "start_time": "2019-09-12T14:30:47.382000Z"
    }
   },
   "outputs": [
    {
     "name": "stdout",
     "output_type": "stream",
     "text": [
      "['one', 'two', 'three', 'four', 'five']\n"
     ]
    }
   ],
   "source": [
    "numbermap = {'one': 1, 'two': 2, 'three': 3, 'four': 4, 'five': 5}\n",
    "print(sorted(month, key=numbermap.__getitem__))"
   ]
  },
  {
   "cell_type": "markdown",
   "metadata": {},
   "source": [
    "正如我们所看到的，它仍然返回了第一个参数(month)的排序列表。为了按顺序返回月份，我们将再次使用列表理解:"
   ]
  },
  {
   "cell_type": "code",
   "execution_count": 67,
   "metadata": {
    "ExecuteTime": {
     "end_time": "2019-09-12T14:31:21.653000Z",
     "start_time": "2019-09-12T14:31:21.648000Z"
    }
   },
   "outputs": [
    {
     "name": "stdout",
     "output_type": "stream",
     "text": [
      "['January', 'February', 'March', 'April', 'May']\n"
     ]
    }
   ],
   "source": [
    "# Assuming the keys in both dictionaries are EXACTLY the same:\n",
    "print([month[i] for i in sorted(month, key=numbermap.__getitem__)])"
   ]
  },
  {
   "cell_type": "markdown",
   "metadata": {},
   "source": [
    "如果我们想按每个字符串中重复字母的数量对键/值字符串进行排序，我们可以定义我们自己的自定义方法，用于排序后的键参数:"
   ]
  },
  {
   "cell_type": "code",
   "execution_count": 68,
   "metadata": {
    "ExecuteTime": {
     "end_time": "2019-09-12T14:31:50.686000Z",
     "start_time": "2019-09-12T14:31:50.678000Z"
    },
    "collapsed": true
   },
   "outputs": [],
   "source": [
    "def repeats(string):\n",
    "    # Lower the case in the string\n",
    "    string = string.lower()\n",
    " \n",
    "    # Get a set of the unique letters\n",
    "    uniques = set(string)\n",
    " \n",
    "    # Count the max occurrences of each unique letter\n",
    "    counts = [string.count(letter) for letter in uniques]\n",
    " \n",
    "    return max(counts)"
   ]
  },
  {
   "cell_type": "code",
   "execution_count": 69,
   "metadata": {
    "ExecuteTime": {
     "end_time": "2019-09-12T14:32:12.866000Z",
     "start_time": "2019-09-12T14:32:12.862000Z"
    }
   },
   "outputs": [
    {
     "name": "stdout",
     "output_type": "stream",
     "text": [
      "['January', 'February', 'March', 'April', 'May']\n"
     ]
    }
   ],
   "source": [
    "print(sorted(month.values(), key=repeats, reverse=True))"
   ]
  },
  {
   "cell_type": "markdown",
   "metadata": {},
   "source": [
    "##### 更高级的排序功能\n",
    "现在假设我们有一个字典来记录每个月每个班级的学生人数，就像这样:"
   ]
  },
  {
   "cell_type": "code",
   "execution_count": 70,
   "metadata": {
    "ExecuteTime": {
     "end_time": "2019-09-12T14:32:48.527000Z",
     "start_time": "2019-09-12T14:32:48.523000Z"
    }
   },
   "outputs": [
    {
     "name": "stdout",
     "output_type": "stream",
     "text": [
      "{'January': 33, 'February': 30, 'March': 24, 'April': 0, 'May': 7}\n"
     ]
    }
   ],
   "source": [
    "trans = dict(January=33, February=30, March=24, April=0, May=7)\n",
    "print(trans)"
   ]
  },
  {
   "cell_type": "markdown",
   "metadata": {},
   "source": [
    "如果我们想先用偶数和奇数来组织类的大小，我们可以这样定义:"
   ]
  },
  {
   "cell_type": "code",
   "execution_count": 71,
   "metadata": {
    "ExecuteTime": {
     "end_time": "2019-09-12T14:33:15.302000Z",
     "start_time": "2019-09-12T14:33:15.295000Z"
    },
    "collapsed": true
   },
   "outputs": [],
   "source": [
    "def evens1st(num):\n",
    "    # Test with modulus (%) two\n",
    "    if num == 0:\n",
    "        return -2\n",
    "    # It's an even number, return the value\n",
    "    elif num % 2 == 0:\n",
    "        return num\n",
    "    # It's odd, return the negated inverse\n",
    "    else:\n",
    "        return -1 * (num ** -1)"
   ]
  },
  {
   "cell_type": "markdown",
   "metadata": {},
   "source": [
    "使用evens1排序函数，得到如下输出:"
   ]
  },
  {
   "cell_type": "code",
   "execution_count": 72,
   "metadata": {
    "ExecuteTime": {
     "end_time": "2019-09-12T14:33:52.268000Z",
     "start_time": "2019-09-12T14:33:52.262000Z"
    }
   },
   "outputs": [
    {
     "name": "stdout",
     "output_type": "stream",
     "text": [
      "[30, 24, 33, 7, 0]\n"
     ]
    }
   ],
   "source": [
    "# Max class size first\n",
    "print(sorted(trans.values(), key=evens1st, reverse=True))"
   ]
  },
  {
   "cell_type": "markdown",
   "metadata": {},
   "source": [
    "##### 按照value的值从大到小的顺序来排序"
   ]
  },
  {
   "cell_type": "code",
   "execution_count": 74,
   "metadata": {
    "ExecuteTime": {
     "end_time": "2019-09-12T14:35:14.285000Z",
     "start_time": "2019-09-12T14:35:14.275000Z"
    }
   },
   "outputs": [
    {
     "name": "stdout",
     "output_type": "stream",
     "text": [
      "[('aa', 74), ('a', 31), ('bc', 5), ('asd', 4), ('c', 3), ('d', 0)]\n"
     ]
    }
   ],
   "source": [
    "dic = {'a':31, 'bc':5, 'c':3, 'asd':4, 'aa':74, 'd':0}\n",
    "dic2= sorted(dic.items(), key=lambda d:d[1], reverse = True)\n",
    "print(dic2)"
   ]
  },
  {
   "cell_type": "markdown",
   "metadata": {},
   "source": [
    "    print(dic.items()) 得到[(键，值)]的列表。\n",
    "    然后用sorted方法，通过key这个参数，指定排序是按照value，也就是第一个元素d[1的值来排序。\n",
    "    reverse = True表示是需要翻转的，默认是从小到大，翻转的话，那就是从大到小。"
   ]
  },
  {
   "cell_type": "markdown",
   "metadata": {},
   "source": [
    "##### 对字典按键（key）排序"
   ]
  },
  {
   "cell_type": "code",
   "execution_count": 75,
   "metadata": {
    "ExecuteTime": {
     "end_time": "2019-09-12T14:36:21.414000Z",
     "start_time": "2019-09-12T14:36:21.408000Z"
    }
   },
   "outputs": [
    {
     "name": "stdout",
     "output_type": "stream",
     "text": [
      "[('a', 31), ('aa', 74), ('asd', 4), ('bc', 5), ('c', 3), ('d', 0)]\n"
     ]
    }
   ],
   "source": [
    "dic = {'a':31, 'bc':5, 'c':3, 'asd':4, 'aa':74, 'd':0}\n",
    "dic3= sorted(list(dic.items()), key=lambda d:d[0]) \n",
    "print(dic3)"
   ]
  },
  {
   "cell_type": "code",
   "execution_count": 77,
   "metadata": {
    "ExecuteTime": {
     "end_time": "2019-09-12T14:42:08.058000Z",
     "start_time": "2019-09-12T14:42:08.052000Z"
    }
   },
   "outputs": [
    {
     "name": "stdout",
     "output_type": "stream",
     "text": [
      "[(-5, 6), (1, 4), (4, 22), (6, 2), (8, 0), (99, 11)]\n",
      "[(8, 0), (6, 2), (1, 4), (-5, 6), (99, 11), (4, 22)]\n",
      "[(-5, 6), (1, 4), (4, 22), (6, 2), (8, 0), (99, 11)]\n"
     ]
    }
   ],
   "source": [
    "a = {6:2,8:0,1:4,-5:6,99:11,4:22}\n",
    "print(  sorted(a.items()) )\n",
    "print(  sorted(a.items(),key=lambda x:x[1]) )\n",
    "print(  sorted(a.items(),key=lambda x:x[0]) )"
   ]
  },
  {
   "cell_type": "markdown",
   "metadata": {},
   "source": [
    "#### dict(或对象)与json之间的互相转化"
   ]
  },
  {
   "cell_type": "markdown",
   "metadata": {},
   "source": [
    "[Python之dict(或对象)与json之间的互相转化](https://blog.csdn.net/qq_33689414/article/details/78307018)\n",
    "\n",
    "    loads()：将json数据转化成dict数据\n",
    "    dumps()：将dict数据转化成json数据\n",
    "    load()：读取json文件数据，转成dict数据\n",
    "    dump()：将dict数据转化成json数据后写入json文件"
   ]
  },
  {
   "cell_type": "markdown",
   "metadata": {
    "ExecuteTime": {
     "end_time": "2019-09-13T00:30:35.233000Z",
     "start_time": "2019-09-13T00:30:35.229000Z"
    }
   },
   "source": [
    "##### dict字典转json数据"
   ]
  },
  {
   "cell_type": "code",
   "execution_count": 81,
   "metadata": {
    "ExecuteTime": {
     "end_time": "2019-09-13T00:31:00.364000Z",
     "start_time": "2019-09-13T00:31:00.353000Z"
    }
   },
   "outputs": [
    {
     "name": "stdout",
     "output_type": "stream",
     "text": [
      "{'name': 'many', 'age': 10, 'sex': 'male'}\n",
      "{\"name\": \"many\", \"age\": 10, \"sex\": \"male\"}\n"
     ]
    }
   ],
   "source": [
    "import json\n",
    "\n",
    "def dict_to_json():\n",
    "    dict = {}\n",
    "    dict['name'] = 'many'\n",
    "    dict['age'] = 10\n",
    "    dict['sex'] = 'male'\n",
    "    print(dict)  # 输出：{'name': 'many', 'age': 10, 'sex': 'male'}\n",
    "    j = json.dumps(dict)\n",
    "    print(j)  # 输出：{\"name\": \"many\", \"age\": 10, \"sex\": \"male\"}\n",
    "\n",
    "\n",
    "if __name__ == '__main__':\n",
    "    dict_to_json()"
   ]
  },
  {
   "cell_type": "markdown",
   "metadata": {},
   "source": [
    "##### json数据转成dict字典"
   ]
  },
  {
   "cell_type": "code",
   "execution_count": 83,
   "metadata": {
    "ExecuteTime": {
     "end_time": "2019-09-13T00:33:25.373000Z",
     "start_time": "2019-09-13T00:33:25.367000Z"
    }
   },
   "outputs": [
    {
     "name": "stdout",
     "output_type": "stream",
     "text": [
      "{'id': '007', 'name': '007', 'age': 28, 'sex': 'male', 'phone': '13000000000', 'email': '123@qq.com'}\n"
     ]
    }
   ],
   "source": [
    "import json\n",
    "\n",
    "def json_to_dict():\n",
    "    j = '{\"id\": \"007\", \"name\": \"007\", \"age\": 28, \"sex\": \"male\", \"phone\": \"13000000000\", \"email\": \"123@qq.com\"}'\n",
    "    dict = json.loads(s=j)\n",
    "    print(dict)  # {'id': '007', 'name': '007', 'age': 28, 'sex': 'male', 'phone': '13000000000', 'email': '123@qq.com'}\n",
    "\n",
    "\n",
    "if __name__ == '__main__':\n",
    "    json_to_dict()"
   ]
  },
  {
   "cell_type": "markdown",
   "metadata": {},
   "source": [
    "##### json的load()与dump()方法的使用"
   ]
  },
  {
   "cell_type": "markdown",
   "metadata": {},
   "source": [
    "###### dump()方法的使用"
   ]
  },
  {
   "cell_type": "code",
   "execution_count": 84,
   "metadata": {
    "ExecuteTime": {
     "end_time": "2019-09-13T00:34:20.617000Z",
     "start_time": "2019-09-13T00:34:20.608000Z"
    }
   },
   "outputs": [
    {
     "name": "stdout",
     "output_type": "stream",
     "text": [
      "{'name': 'many', 'age': 10, 'sex': 'male'}\n"
     ]
    }
   ],
   "source": [
    "import json\n",
    "\n",
    "def dict_to_json_write_file():\n",
    "    dict = {}\n",
    "    dict['name'] = 'many'\n",
    "    dict['age'] = 10\n",
    "    dict['sex'] = 'male'\n",
    "    print(dict)  # {'name': 'many', 'age': 10, 'sex': 'male'}\n",
    "    with open('1.json', 'w') as f:\n",
    "        json.dump(dict, f)  # 会在目录下生成一个1.json的文件，文件内容是dict数据转成的json数据\n",
    "\n",
    "\n",
    "if __name__ == '__main__':\n",
    "    dict_to_json_write_file()"
   ]
  },
  {
   "cell_type": "markdown",
   "metadata": {},
   "source": [
    "###### load()的使用"
   ]
  },
  {
   "cell_type": "code",
   "execution_count": 85,
   "metadata": {
    "ExecuteTime": {
     "end_time": "2019-09-13T00:34:55.169000Z",
     "start_time": "2019-09-13T00:34:55.162000Z"
    }
   },
   "outputs": [
    {
     "name": "stdout",
     "output_type": "stream",
     "text": [
      "{'name': 'many', 'age': 10, 'sex': 'male'}\n"
     ]
    }
   ],
   "source": [
    "import json\n",
    "\n",
    "def json_file_to_dict():\n",
    "    with open('1.json', 'r') as f:\n",
    "        dict = json.load(fp=f)\n",
    "        print(dict)  # {'name': 'many', 'age': 10, 'sex': 'male'}\n",
    "\n",
    "\n",
    "if __name__ == '__main__':\n",
    "    json_file_to_dict()"
   ]
  },
  {
   "cell_type": "markdown",
   "metadata": {},
   "source": [
    "#### 字符串转字典\n",
    "\n",
    "[How to convert a string to dictionary in Python?](https://www.tutorialspoint.com/How-to-convert-a-string-to-dictionary-in-Python)"
   ]
  },
  {
   "cell_type": "code",
   "execution_count": 87,
   "metadata": {
    "ExecuteTime": {
     "end_time": "2019-09-13T00:39:07.227000Z",
     "start_time": "2019-09-13T00:39:07.221000Z"
    }
   },
   "outputs": [
    {
     "name": "stdout",
     "output_type": "stream",
     "text": [
      "{'foo': 'bar', 'hello': 'world'}\n",
      "<class 'dict'>\n"
     ]
    }
   ],
   "source": [
    "import ast\n",
    "x = ast.literal_eval(\"{'foo' : 'bar', 'hello' : 'world'}\")\n",
    "print(x)\n",
    "print(type(x))"
   ]
  },
  {
   "cell_type": "markdown",
   "metadata": {},
   "source": [
    "**使用json.loads()**\n",
    "\n",
    "注意json加载过程的单引号和双引号"
   ]
  },
  {
   "cell_type": "code",
   "execution_count": 89,
   "metadata": {
    "ExecuteTime": {
     "end_time": "2019-09-13T00:40:18.206000Z",
     "start_time": "2019-09-13T00:40:18.202000Z"
    }
   },
   "outputs": [
    {
     "name": "stdout",
     "output_type": "stream",
     "text": [
      "{'foo': 'bar', 'hello': 'world'}\n",
      "<class 'dict'>\n"
     ]
    }
   ],
   "source": [
    "import json\n",
    "x = json.loads('{\"foo\": \"bar\", \"hello\" : \"world\"}')\n",
    "print(x)\n",
    "print(type(x))"
   ]
  },
  {
   "cell_type": "code",
   "execution_count": 90,
   "metadata": {
    "ExecuteTime": {
     "end_time": "2019-09-13T00:40:38.800000Z",
     "start_time": "2019-09-13T00:40:38.766000Z"
    }
   },
   "outputs": [
    {
     "ename": "JSONDecodeError",
     "evalue": "Expecting property name enclosed in double quotes: line 1 column 2 (char 1)",
     "output_type": "error",
     "traceback": [
      "\u001b[1;31m---------------------------------------------------------------------------\u001b[0m",
      "\u001b[1;31mJSONDecodeError\u001b[0m                           Traceback (most recent call last)",
      "\u001b[1;32m<ipython-input-90-5b2297aee525>\u001b[0m in \u001b[0;36m<module>\u001b[1;34m()\u001b[0m\n\u001b[1;32m----> 1\u001b[1;33m \u001b[0mx\u001b[0m \u001b[1;33m=\u001b[0m \u001b[0mjson\u001b[0m\u001b[1;33m.\u001b[0m\u001b[0mloads\u001b[0m\u001b[1;33m(\u001b[0m\u001b[1;34m\"{'foo' : 'bar', 'hello' : 'world'}\"\u001b[0m\u001b[1;33m)\u001b[0m\u001b[1;33m\u001b[0m\u001b[0m\n\u001b[0m\u001b[0;32m      2\u001b[0m \u001b[0mprint\u001b[0m\u001b[1;33m(\u001b[0m\u001b[0mx\u001b[0m\u001b[1;33m)\u001b[0m\u001b[1;33m\u001b[0m\u001b[0m\n\u001b[0;32m      3\u001b[0m \u001b[0mprint\u001b[0m\u001b[1;33m(\u001b[0m\u001b[0mtype\u001b[0m\u001b[1;33m(\u001b[0m\u001b[0mx\u001b[0m\u001b[1;33m)\u001b[0m\u001b[1;33m)\u001b[0m\u001b[1;33m\u001b[0m\u001b[0m\n",
      "\u001b[1;32md:\\Anaconda3\\lib\\json\\__init__.py\u001b[0m in \u001b[0;36mloads\u001b[1;34m(s, encoding, cls, object_hook, parse_float, parse_int, parse_constant, object_pairs_hook, **kw)\u001b[0m\n\u001b[0;32m    352\u001b[0m             \u001b[0mparse_int\u001b[0m \u001b[1;32mis\u001b[0m \u001b[1;32mNone\u001b[0m \u001b[1;32mand\u001b[0m \u001b[0mparse_float\u001b[0m \u001b[1;32mis\u001b[0m \u001b[1;32mNone\u001b[0m \u001b[1;32mand\u001b[0m\u001b[1;33m\u001b[0m\u001b[0m\n\u001b[0;32m    353\u001b[0m             parse_constant is None and object_pairs_hook is None and not kw):\n\u001b[1;32m--> 354\u001b[1;33m         \u001b[1;32mreturn\u001b[0m \u001b[0m_default_decoder\u001b[0m\u001b[1;33m.\u001b[0m\u001b[0mdecode\u001b[0m\u001b[1;33m(\u001b[0m\u001b[0ms\u001b[0m\u001b[1;33m)\u001b[0m\u001b[1;33m\u001b[0m\u001b[0m\n\u001b[0m\u001b[0;32m    355\u001b[0m     \u001b[1;32mif\u001b[0m \u001b[0mcls\u001b[0m \u001b[1;32mis\u001b[0m \u001b[1;32mNone\u001b[0m\u001b[1;33m:\u001b[0m\u001b[1;33m\u001b[0m\u001b[0m\n\u001b[0;32m    356\u001b[0m         \u001b[0mcls\u001b[0m \u001b[1;33m=\u001b[0m \u001b[0mJSONDecoder\u001b[0m\u001b[1;33m\u001b[0m\u001b[0m\n",
      "\u001b[1;32md:\\Anaconda3\\lib\\json\\decoder.py\u001b[0m in \u001b[0;36mdecode\u001b[1;34m(self, s, _w)\u001b[0m\n\u001b[0;32m    337\u001b[0m \u001b[1;33m\u001b[0m\u001b[0m\n\u001b[0;32m    338\u001b[0m         \"\"\"\n\u001b[1;32m--> 339\u001b[1;33m         \u001b[0mobj\u001b[0m\u001b[1;33m,\u001b[0m \u001b[0mend\u001b[0m \u001b[1;33m=\u001b[0m \u001b[0mself\u001b[0m\u001b[1;33m.\u001b[0m\u001b[0mraw_decode\u001b[0m\u001b[1;33m(\u001b[0m\u001b[0ms\u001b[0m\u001b[1;33m,\u001b[0m \u001b[0midx\u001b[0m\u001b[1;33m=\u001b[0m\u001b[0m_w\u001b[0m\u001b[1;33m(\u001b[0m\u001b[0ms\u001b[0m\u001b[1;33m,\u001b[0m \u001b[1;36m0\u001b[0m\u001b[1;33m)\u001b[0m\u001b[1;33m.\u001b[0m\u001b[0mend\u001b[0m\u001b[1;33m(\u001b[0m\u001b[1;33m)\u001b[0m\u001b[1;33m)\u001b[0m\u001b[1;33m\u001b[0m\u001b[0m\n\u001b[0m\u001b[0;32m    340\u001b[0m         \u001b[0mend\u001b[0m \u001b[1;33m=\u001b[0m \u001b[0m_w\u001b[0m\u001b[1;33m(\u001b[0m\u001b[0ms\u001b[0m\u001b[1;33m,\u001b[0m \u001b[0mend\u001b[0m\u001b[1;33m)\u001b[0m\u001b[1;33m.\u001b[0m\u001b[0mend\u001b[0m\u001b[1;33m(\u001b[0m\u001b[1;33m)\u001b[0m\u001b[1;33m\u001b[0m\u001b[0m\n\u001b[0;32m    341\u001b[0m         \u001b[1;32mif\u001b[0m \u001b[0mend\u001b[0m \u001b[1;33m!=\u001b[0m \u001b[0mlen\u001b[0m\u001b[1;33m(\u001b[0m\u001b[0ms\u001b[0m\u001b[1;33m)\u001b[0m\u001b[1;33m:\u001b[0m\u001b[1;33m\u001b[0m\u001b[0m\n",
      "\u001b[1;32md:\\Anaconda3\\lib\\json\\decoder.py\u001b[0m in \u001b[0;36mraw_decode\u001b[1;34m(self, s, idx)\u001b[0m\n\u001b[0;32m    353\u001b[0m         \"\"\"\n\u001b[0;32m    354\u001b[0m         \u001b[1;32mtry\u001b[0m\u001b[1;33m:\u001b[0m\u001b[1;33m\u001b[0m\u001b[0m\n\u001b[1;32m--> 355\u001b[1;33m             \u001b[0mobj\u001b[0m\u001b[1;33m,\u001b[0m \u001b[0mend\u001b[0m \u001b[1;33m=\u001b[0m \u001b[0mself\u001b[0m\u001b[1;33m.\u001b[0m\u001b[0mscan_once\u001b[0m\u001b[1;33m(\u001b[0m\u001b[0ms\u001b[0m\u001b[1;33m,\u001b[0m \u001b[0midx\u001b[0m\u001b[1;33m)\u001b[0m\u001b[1;33m\u001b[0m\u001b[0m\n\u001b[0m\u001b[0;32m    356\u001b[0m         \u001b[1;32mexcept\u001b[0m \u001b[0mStopIteration\u001b[0m \u001b[1;32mas\u001b[0m \u001b[0merr\u001b[0m\u001b[1;33m:\u001b[0m\u001b[1;33m\u001b[0m\u001b[0m\n\u001b[0;32m    357\u001b[0m             \u001b[1;32mraise\u001b[0m \u001b[0mJSONDecodeError\u001b[0m\u001b[1;33m(\u001b[0m\u001b[1;34m\"Expecting value\"\u001b[0m\u001b[1;33m,\u001b[0m \u001b[0ms\u001b[0m\u001b[1;33m,\u001b[0m \u001b[0merr\u001b[0m\u001b[1;33m.\u001b[0m\u001b[0mvalue\u001b[0m\u001b[1;33m)\u001b[0m \u001b[1;32mfrom\u001b[0m \u001b[1;32mNone\u001b[0m\u001b[1;33m\u001b[0m\u001b[0m\n",
      "\u001b[1;31mJSONDecodeError\u001b[0m: Expecting property name enclosed in double quotes: line 1 column 2 (char 1)"
     ]
    }
   ],
   "source": [
    "x = json.loads(\"{'foo' : 'bar', 'hello' : 'world'}\")\n",
    "print(x)\n",
    "print(type(x))"
   ]
  },
  {
   "cell_type": "markdown",
   "metadata": {},
   "source": [
    "#### 字典根据value去重\n",
    "\n",
    "[python字典怎么根据value去重复](https://blog.csdn.net/qq_35203425/article/details/80919162)"
   ]
  },
  {
   "cell_type": "markdown",
   "metadata": {},
   "source": [
    "利用字典键值的唯一性"
   ]
  },
  {
   "cell_type": "code",
   "execution_count": 91,
   "metadata": {
    "ExecuteTime": {
     "end_time": "2019-09-13T00:46:10.242000Z",
     "start_time": "2019-09-13T00:46:10.234000Z"
    }
   },
   "outputs": [
    {
     "name": "stdout",
     "output_type": "stream",
     "text": [
      "{'d': 1, 'b': 0, 'c': 1, 'e': 0}\n",
      "{1: 'c', 0: 'e'}\n",
      "{'c': 1, 'e': 0}\n"
     ]
    }
   ],
   "source": [
    "d={'d':0,'b':0,'c':1,'d':1,'e':0}\n",
    "func = lambda z: dict([(x, y) for y, x in z.items()])\n",
    "print(d)\n",
    "print(func(d))\n",
    "print(func(func(d)))"
   ]
  },
  {
   "cell_type": "markdown",
   "metadata": {},
   "source": [
    "#### 使用列表推导式过滤字典"
   ]
  },
  {
   "cell_type": "code",
   "execution_count": 107,
   "metadata": {
    "ExecuteTime": {
     "end_time": "2019-09-14T04:24:57.493000Z",
     "start_time": "2019-09-14T04:24:57.483000Z"
    }
   },
   "outputs": [
    {
     "name": "stdout",
     "output_type": "stream",
     "text": [
      "{'a': [1, 2, 1], 'b': [3, 4, 1], 'c': [5, 6, 2]}\n"
     ]
    }
   ],
   "source": [
    "d = {'a': [1,2,1], 'b': [3,4,1], 'c': [5,6,2]}\n",
    "print(d)"
   ]
  },
  {
   "cell_type": "markdown",
   "metadata": {},
   "source": [
    "##### 根据值过滤"
   ]
  },
  {
   "cell_type": "code",
   "execution_count": 108,
   "metadata": {
    "ExecuteTime": {
     "end_time": "2019-09-14T04:24:59.971000Z",
     "start_time": "2019-09-14T04:24:59.967000Z"
    }
   },
   "outputs": [
    {
     "name": "stdout",
     "output_type": "stream",
     "text": [
      "[3, 4]\n"
     ]
    }
   ],
   "source": [
    "print([x for x in d['b'] if x >2])"
   ]
  },
  {
   "cell_type": "markdown",
   "metadata": {},
   "source": [
    "##### 多重条件过滤"
   ]
  },
  {
   "cell_type": "code",
   "execution_count": 109,
   "metadata": {
    "ExecuteTime": {
     "end_time": "2019-09-14T04:25:01.530000Z",
     "start_time": "2019-09-14T04:25:01.523000Z"
    }
   },
   "outputs": [
    {
     "name": "stdout",
     "output_type": "stream",
     "text": [
      "{1: 1, 2: 4}\n"
     ]
    }
   ],
   "source": [
    "print(dict(list(zip(d['a'],d['b']))))"
   ]
  },
  {
   "cell_type": "code",
   "execution_count": 104,
   "metadata": {
    "ExecuteTime": {
     "end_time": "2019-09-14T04:23:42.217000Z",
     "start_time": "2019-09-14T04:23:42.211000Z"
    }
   },
   "outputs": [
    {
     "name": "stdout",
     "output_type": "stream",
     "text": [
      "[(1, 3)]\n"
     ]
    }
   ],
   "source": [
    "print([(x,y) for x, y in zip(d['a'],d['b']) if x == 1 and y > 1])"
   ]
  },
  {
   "cell_type": "markdown",
   "metadata": {},
   "source": [
    "##### 筛选所有值都大于1的字典"
   ]
  },
  {
   "cell_type": "code",
   "execution_count": 110,
   "metadata": {
    "ExecuteTime": {
     "end_time": "2019-09-14T04:26:22.425000Z",
     "start_time": "2019-09-14T04:26:22.421000Z"
    }
   },
   "outputs": [
    {
     "name": "stdout",
     "output_type": "stream",
     "text": [
      "[('c', [5, 6, 2])]\n"
     ]
    }
   ],
   "source": [
    "print([(k,v) for k,v in d.items() if all(x > 1 for x in v)])"
   ]
  },
  {
   "cell_type": "markdown",
   "metadata": {},
   "source": [
    "any()函数，如果任何值满足条件，它将返回True。"
   ]
  },
  {
   "cell_type": "code",
   "execution_count": 111,
   "metadata": {
    "ExecuteTime": {
     "end_time": "2019-09-14T04:27:49.012000Z",
     "start_time": "2019-09-14T04:27:49.003000Z"
    }
   },
   "outputs": [
    {
     "name": "stdout",
     "output_type": "stream",
     "text": [
      "[('b', [3, 4, 1]), ('c', [5, 6, 2])]\n"
     ]
    }
   ],
   "source": [
    "print([(k,v) for k,v in d.items() if any(x > 2 for x in v)])"
   ]
  },
  {
   "cell_type": "code",
   "execution_count": 122,
   "metadata": {
    "ExecuteTime": {
     "end_time": "2019-09-14T04:53:18.973000Z",
     "start_time": "2019-09-14T04:53:18.964000Z"
    }
   },
   "outputs": [
    {
     "name": "stdout",
     "output_type": "stream",
     "text": [
      "['a', 'c', 'e']\n"
     ]
    }
   ],
   "source": [
    "from collections import Counter\n",
    "print([i for i in dictA if Counter(dictA[i])['duck'] > 1])"
   ]
  },
  {
   "cell_type": "markdown",
   "metadata": {},
   "source": [
    "#### 利用列表推导式筛选数据"
   ]
  },
  {
   "cell_type": "code",
   "execution_count": 112,
   "metadata": {
    "ExecuteTime": {
     "end_time": "2019-09-14T04:34:21.133000Z",
     "start_time": "2019-09-14T04:34:21.129000Z"
    }
   },
   "outputs": [
    {
     "name": "stdout",
     "output_type": "stream",
     "text": [
      "[{'a': 1, 'b': 2}, {'a': 3, 'b': 4}, {'a': 5, 'b': 6}]\n"
     ]
    }
   ],
   "source": [
    "mylist = [{'a': 1, 'b': 2}, {'a': 3, 'b': 4}, {'a': 5, 'b': 6}]\n",
    "print(mylist)"
   ]
  },
  {
   "cell_type": "code",
   "execution_count": 113,
   "metadata": {
    "ExecuteTime": {
     "end_time": "2019-09-14T04:34:21.379000Z",
     "start_time": "2019-09-14T04:34:21.375000Z"
    }
   },
   "outputs": [
    {
     "name": "stdout",
     "output_type": "stream",
     "text": [
      "[3, 5]\n"
     ]
    }
   ],
   "source": [
    "print([i['a'] for i in mylist if 'a' in i if i['a'] > 1])"
   ]
  },
  {
   "cell_type": "markdown",
   "metadata": {},
   "source": [
    "#### 统计字典值的个数\n",
    "\n",
    "[count the number of occurrences of a certain value in a dictionary in python?](https://stackoverflow.com/questions/48371856/count-the-number-of-occurrences-of-a-certain-value-in-a-dictionary-in-python)"
   ]
  },
  {
   "cell_type": "markdown",
   "metadata": {},
   "source": [
    "##### 使用`collections Counter`"
   ]
  },
  {
   "cell_type": "code",
   "execution_count": 114,
   "metadata": {
    "ExecuteTime": {
     "end_time": "2019-09-14T04:44:24.978000Z",
     "start_time": "2019-09-14T04:44:24.973000Z"
    }
   },
   "outputs": [
    {
     "name": "stdout",
     "output_type": "stream",
     "text": [
      "3\n"
     ]
    }
   ],
   "source": [
    "from collections import Counter\n",
    "D = {'a': 97, 'c': 0 , 'b':0,'e': 94, 'r': 97 , 'g':0}\n",
    "\n",
    "print(Counter(D.values())[0])"
   ]
  },
  {
   "cell_type": "markdown",
   "metadata": {},
   "source": [
    "##### 列表`count()`"
   ]
  },
  {
   "cell_type": "code",
   "execution_count": 115,
   "metadata": {
    "ExecuteTime": {
     "end_time": "2019-09-14T04:45:36.637000Z",
     "start_time": "2019-09-14T04:45:36.632000Z"
    }
   },
   "outputs": [
    {
     "name": "stdout",
     "output_type": "stream",
     "text": [
      "3\n"
     ]
    }
   ],
   "source": [
    "D = {'a': 97, 'c': 0 , 'b':0,'e': 94, 'r': 97 , 'g':0}\n",
    "print(list(D.values()).count(0))"
   ]
  },
  {
   "cell_type": "markdown",
   "metadata": {},
   "source": [
    "##### 遍历法"
   ]
  },
  {
   "cell_type": "code",
   "execution_count": 116,
   "metadata": {
    "ExecuteTime": {
     "end_time": "2019-09-14T04:46:11.191000Z",
     "start_time": "2019-09-14T04:46:11.187000Z"
    }
   },
   "outputs": [
    {
     "name": "stdout",
     "output_type": "stream",
     "text": [
      "3\n"
     ]
    }
   ],
   "source": [
    "print(sum([1 for i in D.values() if i == 0]))"
   ]
  },
  {
   "cell_type": "markdown",
   "metadata": {},
   "source": [
    "[Python count items in dict value that is a list](https://stackoverflow.com/questions/16864941/python-count-items-in-dict-value-that-is-a-list)"
   ]
  },
  {
   "cell_type": "code",
   "execution_count": 119,
   "metadata": {
    "ExecuteTime": {
     "end_time": "2019-09-14T04:49:35.909000Z",
     "start_time": "2019-09-14T04:49:35.905000Z"
    }
   },
   "outputs": [
    {
     "name": "stdout",
     "output_type": "stream",
     "text": [
      "7\n"
     ]
    }
   ],
   "source": [
    "d = {'T1': ['eggs', 'bacon', 'sausage'], 'T2': ['spam', 'ham', 'monty', 'python']}\n",
    "print(sum(map(len, d.values())))"
   ]
  },
  {
   "cell_type": "code",
   "execution_count": 120,
   "metadata": {
    "ExecuteTime": {
     "end_time": "2019-09-14T04:50:19.868000Z",
     "start_time": "2019-09-14T04:50:19.849000Z"
    }
   },
   "outputs": [
    {
     "name": "stdout",
     "output_type": "stream",
     "text": [
      "6\n"
     ]
    }
   ],
   "source": [
    "dict = {'T1': ['eggs', 'bacon', 'sausage'], 'T2': ['bread', 'butter', 'tosti']}\n",
    "\n",
    "total = 0\n",
    "\n",
    "for value in dict:\n",
    "    value_list = dict[value]\n",
    "    count = len(value_list)\n",
    "    total += count\n",
    "\n",
    "print(total)"
   ]
  },
  {
   "cell_type": "code",
   "execution_count": 125,
   "metadata": {
    "ExecuteTime": {
     "end_time": "2019-09-14T04:55:20.936000Z",
     "start_time": "2019-09-14T04:55:20.928000Z"
    }
   },
   "outputs": [
    {
     "name": "stdout",
     "output_type": "stream",
     "text": [
      "8\n"
     ]
    }
   ],
   "source": [
    "dic ={\"Name\": [[], [], [(3, 2, 0)], [(3, 1, 0)], [], [], [(4, 3, 2), (4, 3, 0)], [(4, 2, 0)]]}\n",
    "x = list(map(len, dic.values()))\n",
    "print(x[0])"
   ]
  },
  {
   "cell_type": "code",
   "execution_count": 126,
   "metadata": {
    "ExecuteTime": {
     "end_time": "2019-09-14T04:55:58.628000Z",
     "start_time": "2019-09-14T04:55:58.624000Z"
    }
   },
   "outputs": [
    {
     "name": "stdout",
     "output_type": "stream",
     "text": [
      "dict_values([[[], [], [(3, 2, 0)], [(3, 1, 0)], [], [], [(4, 3, 2), (4, 3, 0)], [(4, 2, 0)]]])\n"
     ]
    }
   ],
   "source": [
    "print(dic.values())"
   ]
  },
  {
   "cell_type": "code",
   "execution_count": 127,
   "metadata": {
    "ExecuteTime": {
     "end_time": "2019-09-14T04:56:15.194000Z",
     "start_time": "2019-09-14T04:56:15.188000Z"
    }
   },
   "outputs": [
    {
     "name": "stdout",
     "output_type": "stream",
     "text": [
      "5\n"
     ]
    }
   ],
   "source": [
    "print(sum(map(len, list(dic.values())[0])))"
   ]
  },
  {
   "cell_type": "markdown",
   "metadata": {},
   "source": [
    "#### 字典数据追加写入到csv"
   ]
  },
  {
   "cell_type": "code",
   "execution_count": 128,
   "metadata": {
    "ExecuteTime": {
     "end_time": "2019-09-14T06:43:52.179000Z",
     "start_time": "2019-09-14T06:43:52.142000Z"
    }
   },
   "outputs": [
    {
     "name": "stdout",
     "output_type": "stream",
     "text": [
      "write over\n"
     ]
    }
   ],
   "source": [
    "p = [1,2,3]\n",
    "s = [1,2,3,4,5,6]\n",
    "w = ['a','b', 'c', 'd', 'e', 'f', 'g', 'h']\n",
    "\n",
    "import csv\n",
    "rows = []\n",
    "\n",
    "for i in range(len(p)):\n",
    "    for j in range(len(s)):\n",
    "        for k in range(len(w)):\n",
    "            item = {'paragraph': i, 'sentence': j, 'number': k, 'word': w[k]}\n",
    "            \n",
    "            headers = ['paragraph', 'sentence', 'number', 'word']\n",
    "            rows.append(item)\n",
    "\n",
    "            # writer = csv.writer(open(' movies_test.csv', 'w', newline='', encoding='utf-8'))\n",
    "            # fields = headers\n",
    "            # writer.writerow(fields)\n",
    "\n",
    "with open(\"test_01.csv\", 'a', newline='') as f:  # newline='' 去除空行，\"a\"表示追加写入\n",
    "    f_csv = csv.DictWriter(f, headers)\n",
    "    f_csv.writeheader()\n",
    "    f_csv.writerows(rows)\n",
    "\n",
    "f.close\n",
    "print('write over')"
   ]
  },
  {
   "cell_type": "code",
   "execution_count": null,
   "metadata": {
    "collapsed": true
   },
   "outputs": [],
   "source": []
  }
 ],
 "metadata": {
  "kernelspec": {
   "display_name": "Python 3",
   "language": "python",
   "name": "python3"
  },
  "language_info": {
   "codemirror_mode": {
    "name": "ipython",
    "version": 3
   },
   "file_extension": ".py",
   "mimetype": "text/x-python",
   "name": "python",
   "nbconvert_exporter": "python",
   "pygments_lexer": "ipython3",
   "version": "3.6.2"
  },
  "toc": {
   "base_numbering": 1,
   "nav_menu": {},
   "number_sections": true,
   "sideBar": true,
   "skip_h1_title": false,
   "title_cell": "Table of Contents",
   "title_sidebar": "Contents",
   "toc_cell": false,
   "toc_position": {
    "height": "calc(100% - 180px)",
    "left": "10px",
    "top": "150px",
    "width": "352px"
   },
   "toc_section_display": true,
   "toc_window_display": true
  },
  "varInspector": {
   "cols": {
    "lenName": 16,
    "lenType": 16,
    "lenVar": 40
   },
   "kernels_config": {
    "python": {
     "delete_cmd_postfix": "",
     "delete_cmd_prefix": "del ",
     "library": "var_list.py",
     "varRefreshCmd": "print(var_dic_list())"
    },
    "r": {
     "delete_cmd_postfix": ") ",
     "delete_cmd_prefix": "rm(",
     "library": "var_list.r",
     "varRefreshCmd": "cat(var_dic_list()) "
    }
   },
   "types_to_exclude": [
    "module",
    "function",
    "builtin_function_or_method",
    "instance",
    "_Feature"
   ],
   "window_display": false
  }
 },
 "nbformat": 4,
 "nbformat_minor": 2
}
