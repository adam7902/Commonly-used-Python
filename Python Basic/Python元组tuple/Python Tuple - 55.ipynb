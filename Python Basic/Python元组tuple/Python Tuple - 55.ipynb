{
 "cells": [
  {
   "cell_type": "markdown",
   "metadata": {},
   "source": [
    "### python 元组 tuple"
   ]
  },
  {
   "cell_type": "markdown",
   "metadata": {},
   "source": [
    "[Python List and Tuple](https://realpython.com/python-lists-tuples/)\n",
    "\n",
    "[Python Tuples Tutorial](https://www.datacamp.com/community/tutorials/python-tuples-tutorial)\n",
    "\n",
    "[Python Data Structures Tutorial](https://www.datacamp.com/community/tutorials/data-structures-python)"
   ]
  },
  {
   "cell_type": "markdown",
   "metadata": {},
   "source": [
    "元组在所有方面都与列表相同，除了以下属性:\n",
    "    \n",
    "    元组的定义是将元素括在圆括号`()`中，而不是方括号`[]`。\n",
    "    元组是不可变的。"
   ]
  },
  {
   "cell_type": "markdown",
   "metadata": {},
   "source": [
    "#### 元组的创建"
   ]
  },
  {
   "cell_type": "code",
   "execution_count": 5,
   "metadata": {
    "ExecuteTime": {
     "end_time": "2019-09-14T07:50:19.209000Z",
     "start_time": "2019-09-14T07:50:19.200000Z"
    }
   },
   "outputs": [
    {
     "name": "stdout",
     "output_type": "stream",
     "text": [
      "<class 'tuple'>\n",
      "('foo', 'bar', 'baz', 'qux', 'quux', 'corge')\n",
      "foo\n",
      "corge\n",
      "('bar', 'qux', 'corge')\n"
     ]
    }
   ],
   "source": [
    "t = ('foo', 'bar', 'baz', 'qux', 'quux', 'corge')\n",
    "\n",
    "print(type(t))\n",
    "print(t)\n",
    "print(t[0])\n",
    "print(t[-1])\n",
    "print(t[1::2])"
   ]
  },
  {
   "cell_type": "code",
   "execution_count": 3,
   "metadata": {
    "ExecuteTime": {
     "end_time": "2019-09-14T07:47:42.252000Z",
     "start_time": "2019-09-14T07:47:42.248000Z"
    }
   },
   "outputs": [
    {
     "name": "stdout",
     "output_type": "stream",
     "text": [
      "('corge', 'quux', 'qux', 'baz', 'bar', 'foo')\n"
     ]
    }
   ],
   "source": [
    "print(t[::-1])"
   ]
  },
  {
   "cell_type": "markdown",
   "metadata": {},
   "source": [
    "#### 元组不可变(元素不可修改)"
   ]
  },
  {
   "cell_type": "code",
   "execution_count": 4,
   "metadata": {
    "ExecuteTime": {
     "end_time": "2019-09-14T07:48:29.327000Z",
     "start_time": "2019-09-14T07:48:29.308000Z"
    }
   },
   "outputs": [
    {
     "ename": "TypeError",
     "evalue": "'tuple' object does not support item assignment",
     "output_type": "error",
     "traceback": [
      "\u001b[1;31m---------------------------------------------------------------------------\u001b[0m",
      "\u001b[1;31mTypeError\u001b[0m                                 Traceback (most recent call last)",
      "\u001b[1;32m<ipython-input-4-793de0908259>\u001b[0m in \u001b[0;36m<module>\u001b[1;34m()\u001b[0m\n\u001b[0;32m      1\u001b[0m \u001b[0mt\u001b[0m \u001b[1;33m=\u001b[0m \u001b[1;33m(\u001b[0m\u001b[1;34m'foo'\u001b[0m\u001b[1;33m,\u001b[0m \u001b[1;34m'bar'\u001b[0m\u001b[1;33m,\u001b[0m \u001b[1;34m'baz'\u001b[0m\u001b[1;33m,\u001b[0m \u001b[1;34m'qux'\u001b[0m\u001b[1;33m,\u001b[0m \u001b[1;34m'quux'\u001b[0m\u001b[1;33m,\u001b[0m \u001b[1;34m'corge'\u001b[0m\u001b[1;33m)\u001b[0m\u001b[1;33m\u001b[0m\u001b[0m\n\u001b[1;32m----> 2\u001b[1;33m \u001b[0mt\u001b[0m\u001b[1;33m[\u001b[0m\u001b[1;36m2\u001b[0m\u001b[1;33m]\u001b[0m \u001b[1;33m=\u001b[0m \u001b[1;34m'Bark!'\u001b[0m\u001b[1;33m\u001b[0m\u001b[0m\n\u001b[0m",
      "\u001b[1;31mTypeError\u001b[0m: 'tuple' object does not support item assignment"
     ]
    }
   ],
   "source": [
    "t = ('foo', 'bar', 'baz', 'qux', 'quux', 'corge')\n",
    "t[2] = 'Bark!'"
   ]
  },
  {
   "cell_type": "markdown",
   "metadata": {},
   "source": [
    "为什么使用元组而不是列表?\n",
    "\n",
    "    当操作一个元组时，程序执行速度要比处理等价列表时快。(当列表或元组很小时，这一点可能不会很明显。)\n",
    "    有时不希望修改数据。如果集合中的值在程序生命周期内保持不变，那么使用元组而不是列表可以防止意外修改。\n",
    "    不久将遇到另一种Python数据类型dictionary，它要求其组件之一具有不可变类型的值。"
   ]
  },
  {
   "cell_type": "markdown",
   "metadata": {},
   "source": [
    "#### 元组分配、打包和拆包"
   ]
  },
  {
   "cell_type": "code",
   "execution_count": 7,
   "metadata": {
    "ExecuteTime": {
     "end_time": "2019-09-14T07:51:39.166000Z",
     "start_time": "2019-09-14T07:51:39.159000Z"
    }
   },
   "outputs": [
    {
     "name": "stdout",
     "output_type": "stream",
     "text": [
      "('foo', 'bar', 'baz', 'qux')\n"
     ]
    }
   ],
   "source": [
    "t = ('foo', 'bar', 'baz', 'qux')\n",
    "print(t)"
   ]
  },
  {
   "cell_type": "markdown",
   "metadata": {},
   "source": [
    "<img src=\"https://files.realpython.com/media/t.feb20d10b75d.png\" alt=\"tuple\" width=\"300\"/>"
   ]
  },
  {
   "cell_type": "markdown",
   "metadata": {},
   "source": [
    "如果那个“打包”的对象随后被分配给一个新的元组，各个项目被“解压缩”到元组中的对象中:"
   ]
  },
  {
   "cell_type": "code",
   "execution_count": 9,
   "metadata": {
    "ExecuteTime": {
     "end_time": "2019-09-14T07:54:07.580000Z",
     "start_time": "2019-09-14T07:54:07.575000Z"
    }
   },
   "outputs": [
    {
     "name": "stdout",
     "output_type": "stream",
     "text": [
      "foo\n",
      "bar\n",
      "baz\n",
      "qux\n"
     ]
    }
   ],
   "source": [
    "(s1, s2, s3, s4) = t\n",
    "\n",
    "print(s1)\n",
    "print(s2)\n",
    "print(s3)\n",
    "print(s4)"
   ]
  },
  {
   "cell_type": "markdown",
   "metadata": {},
   "source": [
    "<img src=\"https://files.realpython.com/media/t.629d7402a412.png\" alt=\"tuple\" width=\"300\"/>"
   ]
  },
  {
   "cell_type": "markdown",
   "metadata": {},
   "source": [
    "当解包时，左边的变量数量必须与元组中的值数量匹配:"
   ]
  },
  {
   "cell_type": "code",
   "execution_count": 10,
   "metadata": {
    "ExecuteTime": {
     "end_time": "2019-09-14T07:55:23.476000Z",
     "start_time": "2019-09-14T07:55:23.466000Z"
    }
   },
   "outputs": [
    {
     "ename": "ValueError",
     "evalue": "too many values to unpack (expected 3)",
     "output_type": "error",
     "traceback": [
      "\u001b[1;31m---------------------------------------------------------------------------\u001b[0m",
      "\u001b[1;31mValueError\u001b[0m                                Traceback (most recent call last)",
      "\u001b[1;32m<ipython-input-10-42d3e84cbe00>\u001b[0m in \u001b[0;36m<module>\u001b[1;34m()\u001b[0m\n\u001b[1;32m----> 1\u001b[1;33m \u001b[1;33m(\u001b[0m\u001b[0ms1\u001b[0m\u001b[1;33m,\u001b[0m \u001b[0ms2\u001b[0m\u001b[1;33m,\u001b[0m \u001b[0ms3\u001b[0m\u001b[1;33m)\u001b[0m \u001b[1;33m=\u001b[0m \u001b[0mt\u001b[0m\u001b[1;33m\u001b[0m\u001b[0m\n\u001b[0m",
      "\u001b[1;31mValueError\u001b[0m: too many values to unpack (expected 3)"
     ]
    }
   ],
   "source": [
    "(s1, s2, s3) = t"
   ]
  },
  {
   "cell_type": "code",
   "execution_count": 11,
   "metadata": {
    "ExecuteTime": {
     "end_time": "2019-09-14T07:55:23.914000Z",
     "start_time": "2019-09-14T07:55:23.901000Z"
    }
   },
   "outputs": [
    {
     "ename": "ValueError",
     "evalue": "not enough values to unpack (expected 5, got 4)",
     "output_type": "error",
     "traceback": [
      "\u001b[1;31m---------------------------------------------------------------------------\u001b[0m",
      "\u001b[1;31mValueError\u001b[0m                                Traceback (most recent call last)",
      "\u001b[1;32m<ipython-input-11-426d2f4abb58>\u001b[0m in \u001b[0;36m<module>\u001b[1;34m()\u001b[0m\n\u001b[1;32m----> 1\u001b[1;33m \u001b[1;33m(\u001b[0m\u001b[0ms1\u001b[0m\u001b[1;33m,\u001b[0m \u001b[0ms2\u001b[0m\u001b[1;33m,\u001b[0m \u001b[0ms3\u001b[0m\u001b[1;33m,\u001b[0m \u001b[0ms4\u001b[0m\u001b[1;33m,\u001b[0m \u001b[0ms5\u001b[0m\u001b[1;33m)\u001b[0m \u001b[1;33m=\u001b[0m \u001b[0mt\u001b[0m\u001b[1;33m\u001b[0m\u001b[0m\n\u001b[0m",
      "\u001b[1;31mValueError\u001b[0m: not enough values to unpack (expected 5, got 4)"
     ]
    }
   ],
   "source": [
    "(s1, s2, s3, s4, s5) = t"
   ]
  },
  {
   "cell_type": "markdown",
   "metadata": {},
   "source": [
    "包装和拆包可以合并成一个语句，构成一个复合赋值:"
   ]
  },
  {
   "cell_type": "code",
   "execution_count": 12,
   "metadata": {
    "ExecuteTime": {
     "end_time": "2019-09-14T07:56:15.734000Z",
     "start_time": "2019-09-14T07:56:15.719000Z"
    }
   },
   "outputs": [
    {
     "name": "stdout",
     "output_type": "stream",
     "text": [
      "foo\n",
      "bar\n",
      "baz\n",
      "qux\n"
     ]
    }
   ],
   "source": [
    "(s1, s2, s3, s4) = ('foo', 'bar', 'baz', 'qux')\n",
    "\n",
    "print(s1)\n",
    "print(s2)\n",
    "print(s3)\n",
    "print(s4)"
   ]
  },
  {
   "cell_type": "markdown",
   "metadata": {},
   "source": [
    "同样，赋值左侧元组中的元素数量必须等于右侧的元素数量:"
   ]
  },
  {
   "cell_type": "code",
   "execution_count": 13,
   "metadata": {
    "ExecuteTime": {
     "end_time": "2019-09-14T07:56:48.880000Z",
     "start_time": "2019-09-14T07:56:48.872000Z"
    }
   },
   "outputs": [
    {
     "ename": "ValueError",
     "evalue": "not enough values to unpack (expected 5, got 4)",
     "output_type": "error",
     "traceback": [
      "\u001b[1;31m---------------------------------------------------------------------------\u001b[0m",
      "\u001b[1;31mValueError\u001b[0m                                Traceback (most recent call last)",
      "\u001b[1;32m<ipython-input-13-18c26382b845>\u001b[0m in \u001b[0;36m<module>\u001b[1;34m()\u001b[0m\n\u001b[1;32m----> 1\u001b[1;33m \u001b[1;33m(\u001b[0m\u001b[0ms1\u001b[0m\u001b[1;33m,\u001b[0m \u001b[0ms2\u001b[0m\u001b[1;33m,\u001b[0m \u001b[0ms3\u001b[0m\u001b[1;33m,\u001b[0m \u001b[0ms4\u001b[0m\u001b[1;33m,\u001b[0m \u001b[0ms5\u001b[0m\u001b[1;33m)\u001b[0m \u001b[1;33m=\u001b[0m \u001b[1;33m(\u001b[0m\u001b[1;34m'foo'\u001b[0m\u001b[1;33m,\u001b[0m \u001b[1;34m'bar'\u001b[0m\u001b[1;33m,\u001b[0m \u001b[1;34m'baz'\u001b[0m\u001b[1;33m,\u001b[0m \u001b[1;34m'qux'\u001b[0m\u001b[1;33m)\u001b[0m\u001b[1;33m\u001b[0m\u001b[0m\n\u001b[0m",
      "\u001b[1;31mValueError\u001b[0m: not enough values to unpack (expected 5, got 4)"
     ]
    }
   ],
   "source": [
    "(s1, s2, s3, s4, s5) = ('foo', 'bar', 'baz', 'qux')"
   ]
  },
  {
   "cell_type": "markdown",
   "metadata": {},
   "source": [
    "在这样的赋值和少数其他情况下，Python允许省略圆括号，圆括号通常用于表示一个元组:"
   ]
  },
  {
   "cell_type": "code",
   "execution_count": 14,
   "metadata": {
    "ExecuteTime": {
     "end_time": "2019-09-14T07:58:45.199000Z",
     "start_time": "2019-09-14T07:58:45.194000Z"
    }
   },
   "outputs": [
    {
     "name": "stdout",
     "output_type": "stream",
     "text": [
      "(1, 2, 3)\n"
     ]
    }
   ],
   "source": [
    "t = 1, 2, 3\n",
    "print(t)"
   ]
  },
  {
   "cell_type": "code",
   "execution_count": 15,
   "metadata": {
    "ExecuteTime": {
     "end_time": "2019-09-14T07:58:45.795000Z",
     "start_time": "2019-09-14T07:58:45.787000Z"
    }
   },
   "outputs": [
    {
     "name": "stdout",
     "output_type": "stream",
     "text": [
      "1 2 3\n"
     ]
    }
   ],
   "source": [
    "x1, x2, x3 = t\n",
    "print(x1, x2, x3)"
   ]
  },
  {
   "cell_type": "code",
   "execution_count": 16,
   "metadata": {
    "ExecuteTime": {
     "end_time": "2019-09-14T07:58:46.261000Z",
     "start_time": "2019-09-14T07:58:46.256000Z"
    }
   },
   "outputs": [
    {
     "name": "stdout",
     "output_type": "stream",
     "text": [
      "4 5 6\n"
     ]
    }
   ],
   "source": [
    "x1, x2, x3 = 4, 5, 6\n",
    "print(x1, x2, x3)"
   ]
  },
  {
   "cell_type": "markdown",
   "metadata": {},
   "source": [
    "单一元素的元组在创建过程中注意添加区分逗号 `,`"
   ]
  },
  {
   "cell_type": "code",
   "execution_count": 17,
   "metadata": {
    "ExecuteTime": {
     "end_time": "2019-09-14T07:58:46.751000Z",
     "start_time": "2019-09-14T07:58:46.747000Z"
    }
   },
   "outputs": [
    {
     "name": "stdout",
     "output_type": "stream",
     "text": [
      "<class 'int'>\n",
      "2\n"
     ]
    }
   ],
   "source": [
    "t = 2\n",
    "print(type(t))\n",
    "print(t)"
   ]
  },
  {
   "cell_type": "code",
   "execution_count": 18,
   "metadata": {
    "ExecuteTime": {
     "end_time": "2019-09-14T07:58:48.049000Z",
     "start_time": "2019-09-14T07:58:48.042000Z"
    }
   },
   "outputs": [
    {
     "name": "stdout",
     "output_type": "stream",
     "text": [
      "<class 'int'>\n",
      "2\n"
     ]
    }
   ],
   "source": [
    "t = (2)\n",
    "print(type(t))\n",
    "print(t)"
   ]
  },
  {
   "cell_type": "code",
   "execution_count": 19,
   "metadata": {
    "ExecuteTime": {
     "end_time": "2019-09-14T07:58:49.229000Z",
     "start_time": "2019-09-14T07:58:49.223000Z"
    }
   },
   "outputs": [
    {
     "name": "stdout",
     "output_type": "stream",
     "text": [
      "<class 'tuple'>\n",
      "(2,)\n"
     ]
    }
   ],
   "source": [
    "t = (2,)\n",
    "print(type(t))\n",
    "print(t)"
   ]
  },
  {
   "cell_type": "code",
   "execution_count": 20,
   "metadata": {
    "ExecuteTime": {
     "end_time": "2019-09-14T07:58:53.597000Z",
     "start_time": "2019-09-14T07:58:53.592000Z"
    }
   },
   "outputs": [
    {
     "name": "stdout",
     "output_type": "stream",
     "text": [
      "<class 'tuple'>\n",
      "(2,)\n"
     ]
    }
   ],
   "source": [
    "t = 2,\n",
    "print(type(t))\n",
    "print(t)"
   ]
  },
  {
   "cell_type": "markdown",
   "metadata": {},
   "source": [
    "#### 交换赋值"
   ]
  },
  {
   "cell_type": "code",
   "execution_count": 21,
   "metadata": {
    "ExecuteTime": {
     "end_time": "2019-09-14T08:01:43.191000Z",
     "start_time": "2019-09-14T08:01:43.186000Z"
    }
   },
   "outputs": [
    {
     "name": "stdout",
     "output_type": "stream",
     "text": [
      "foo bar\n"
     ]
    }
   ],
   "source": [
    "a = 'foo'\n",
    "b = 'bar'\n",
    "print(a, b)"
   ]
  },
  {
   "cell_type": "code",
   "execution_count": 22,
   "metadata": {
    "ExecuteTime": {
     "end_time": "2019-09-14T08:01:43.374000Z",
     "start_time": "2019-09-14T08:01:43.370000Z"
    }
   },
   "outputs": [
    {
     "name": "stdout",
     "output_type": "stream",
     "text": [
      "bar foo\n"
     ]
    }
   ],
   "source": [
    "a, b = b, a\n",
    "\n",
    "print(a, b)"
   ]
  },
  {
   "cell_type": "code",
   "execution_count": null,
   "metadata": {
    "collapsed": true
   },
   "outputs": [],
   "source": []
  },
  {
   "cell_type": "markdown",
   "metadata": {},
   "source": [
    "Python Tuple\n",
    "\n",
    "https://www.techbeamers.com/python-tuple/"
   ]
  },
  {
   "cell_type": "code",
   "execution_count": 1,
   "metadata": {
    "ExecuteTime": {
     "end_time": "2019-03-30T03:53:23.219000Z",
     "start_time": "2019-03-30T03:53:23.204000Z"
    }
   },
   "outputs": [
    {
     "name": "stdout",
     "output_type": "stream",
     "text": [
      "A blank tuple: ()\n",
      "A tuple set without parenthesis: (33, 55, 77) type: <class 'tuple'>\n",
      "A tuple of numbers: (33, 55, 77)\n",
      "A tuple of mixed numbers: (33, 3.3, (3+3j))\n",
      "A tuple of mixed data types: (33, '33', [3, 3])\n",
      "A tuple of tuples: (('x', 'y', 'z'), ('X', 'Y', 'Z'))\n"
     ]
    }
   ],
   "source": [
    "# create an empty tuple\n",
    "py_tuple = ()\n",
    "print(\"A blank tuple:\", py_tuple)\n",
    "\n",
    "# create a tuple without using round brackets\n",
    "py_tuple = 33, 55, 77\n",
    "print(\"A tuple set without parenthesis:\", py_tuple, \"type:\", type(py_tuple))\n",
    "\n",
    "# create a tuple of numbers\n",
    "py_tuple = (33, 55, 77)\n",
    "print(\"A tuple of numbers:\", py_tuple)\n",
    "\n",
    "# create a tuple of mixed numbers\n",
    "# such as integer, float, imaginary\n",
    "py_tuple = (33, 3.3, 3+3j)\n",
    "print(\"A tuple of mixed numbers:\", py_tuple)\n",
    "\n",
    "# create a tuple of mixed data types\n",
    "# such as numbers, strings, lists\n",
    "py_tuple = (33, \"33\", [3, 3])\n",
    "print(\"A tuple of mixed data types:\", py_tuple)\n",
    "\n",
    "# create a tuple of tuples\n",
    "# i.e. a nested tuple\n",
    "py_tuple = (('x', 'y', 'z'), ('X', 'Y', 'Z'))\n",
    "print(\"A tuple of tuples:\", py_tuple)"
   ]
  },
  {
   "cell_type": "code",
   "execution_count": null,
   "metadata": {
    "collapsed": true
   },
   "outputs": [],
   "source": []
  },
  {
   "cell_type": "code",
   "execution_count": 2,
   "metadata": {
    "ExecuteTime": {
     "end_time": "2019-03-30T03:54:03.771000Z",
     "start_time": "2019-03-30T03:54:03.759000Z"
    }
   },
   "outputs": [
    {
     "data": {
      "text/plain": [
       "tuple"
      ]
     },
     "execution_count": 2,
     "metadata": {},
     "output_type": "execute_result"
    }
   ],
   "source": [
    "# creating a tuple from a set\n",
    "py_tuple = tuple({33, 55 , 77})\n",
    "type(py_tuple)"
   ]
  },
  {
   "cell_type": "code",
   "execution_count": 3,
   "metadata": {
    "ExecuteTime": {
     "end_time": "2019-03-30T03:54:10.218000Z",
     "start_time": "2019-03-30T03:54:10.215000Z"
    }
   },
   "outputs": [
    {
     "data": {
      "text/plain": [
       "(33, 77, 55)"
      ]
     },
     "execution_count": 3,
     "metadata": {},
     "output_type": "execute_result"
    }
   ],
   "source": [
    "py_tuple"
   ]
  },
  {
   "cell_type": "code",
   "execution_count": 4,
   "metadata": {
    "ExecuteTime": {
     "end_time": "2019-03-30T03:54:29.383000Z",
     "start_time": "2019-03-30T03:54:29.378000Z"
    }
   },
   "outputs": [
    {
     "data": {
      "text/plain": [
       "tuple"
      ]
     },
     "execution_count": 4,
     "metadata": {},
     "output_type": "execute_result"
    }
   ],
   "source": [
    "# creating a tuple from a list\n",
    "py_tuple = tuple([33, 55 , 77])\n",
    "type(py_tuple)"
   ]
  },
  {
   "cell_type": "code",
   "execution_count": 5,
   "metadata": {
    "ExecuteTime": {
     "end_time": "2019-03-30T03:54:38.832000Z",
     "start_time": "2019-03-30T03:54:38.823000Z"
    }
   },
   "outputs": [
    {
     "data": {
      "text/plain": [
       "(33, 55, 77)"
      ]
     },
     "execution_count": 5,
     "metadata": {},
     "output_type": "execute_result"
    }
   ],
   "source": [
    "py_tuple"
   ]
  },
  {
   "cell_type": "code",
   "execution_count": 6,
   "metadata": {
    "ExecuteTime": {
     "end_time": "2019-03-30T03:55:08.998000Z",
     "start_time": "2019-03-30T03:55:08.994000Z"
    }
   },
   "outputs": [
    {
     "data": {
      "text/plain": [
       "str"
      ]
     },
     "execution_count": 6,
     "metadata": {},
     "output_type": "execute_result"
    }
   ],
   "source": [
    "# A single element surrounded by parenthesis will create a string instead of a tuple\n",
    "py_tuple = ('single')\n",
    "type(py_tuple)"
   ]
  },
  {
   "cell_type": "code",
   "execution_count": 7,
   "metadata": {
    "ExecuteTime": {
     "end_time": "2019-03-30T03:55:30.715000Z",
     "start_time": "2019-03-30T03:55:30.711000Z"
    }
   },
   "outputs": [
    {
     "data": {
      "text/plain": [
       "tuple"
      ]
     },
     "execution_count": 7,
     "metadata": {},
     "output_type": "execute_result"
    }
   ],
   "source": [
    "# You need to place a comma after the first element to create a tuple of size \"one\"\n",
    "py_tuple = ('single',)\n",
    "type(py_tuple)"
   ]
  },
  {
   "cell_type": "code",
   "execution_count": 8,
   "metadata": {
    "ExecuteTime": {
     "end_time": "2019-03-30T03:55:59.411000Z",
     "start_time": "2019-03-30T03:55:59.408000Z"
    }
   },
   "outputs": [
    {
     "data": {
      "text/plain": [
       "tuple"
      ]
     },
     "execution_count": 8,
     "metadata": {},
     "output_type": "execute_result"
    }
   ],
   "source": [
    "# You can use a list of one element and convert it to a tuple\n",
    "py_tuple = tuple(['single'])\n",
    "type(py_tuple)"
   ]
  },
  {
   "cell_type": "code",
   "execution_count": 9,
   "metadata": {
    "ExecuteTime": {
     "end_time": "2019-03-30T03:56:19.883000Z",
     "start_time": "2019-03-30T03:56:19.879000Z"
    }
   },
   "outputs": [
    {
     "data": {
      "text/plain": [
       "tuple"
      ]
     },
     "execution_count": 9,
     "metadata": {},
     "output_type": "execute_result"
    }
   ],
   "source": [
    "# You can use a list of one element and convert it to a tuple\n",
    "py_tuple = tuple(['single'])\n",
    "type(py_tuple)"
   ]
  },
  {
   "cell_type": "code",
   "execution_count": 10,
   "metadata": {
    "ExecuteTime": {
     "end_time": "2019-03-30T03:57:28.978000Z",
     "start_time": "2019-03-30T03:57:28.967000Z"
    }
   },
   "outputs": [
    {
     "name": "stdout",
     "output_type": "stream",
     "text": [
      "The tuple: ('a', 'e', 'i', 'o', 'u') Length: 5\n",
      "OP(vowel_tuple[0]): a\n",
      "OP(vowel_tuple[length-1]): u\n",
      "OP(vowel_tuple[length+1]) Error: tuple index out of range\n",
      "OP(vowel_tuple[0.0]) Error: tuple indices must be integers or slices, not float\n",
      "OP(t_o_t[0][2]): mar\n",
      "OP(t_o_t[1][2]): wed\n"
     ]
    }
   ],
   "source": [
    "vowel_tuple = ('a','e','i','o','u')\n",
    "print(\"The tuple:\", vowel_tuple, \"Length:\", len(vowel_tuple))\n",
    "\n",
    "# Indexing the first element\n",
    "print(\"OP(vowel_tuple[0]):\", vowel_tuple[0])\n",
    "\n",
    "# Indexing the last element\n",
    "print(\"OP(vowel_tuple[length-1]):\", vowel_tuple[len(vowel_tuple) - 1])\n",
    "\n",
    "# Indexing a non-existent member\n",
    "# will raise the IndexError\n",
    "try:\n",
    "    print(vowel_tuple[len(vowel_tuple)+1])\n",
    "except Exception as ex:\n",
    "    print(\"OP(vowel_tuple[length+1]) Error:\", ex)\n",
    "\n",
    "# Indexing with a non-integer index\n",
    "# will raise the TypeError\n",
    "try:\n",
    "    print(vowel_tuple[0.0])\n",
    "except Exception as ex:\n",
    "    print(\"OP(vowel_tuple[0.0]) Error:\", ex)\n",
    "\n",
    "# Indexing in a tuple of tuples\n",
    "t_o_t = (('jan', 'feb', 'mar'), ('sun', 'mon', 'wed'))\n",
    "\n",
    "# Accessing elements from the first sub tuple\n",
    "print(\"OP(t_o_t[0][2]):\", t_o_t[0][2])\n",
    "\n",
    "# Accessing elements from the second sub tuple\n",
    "print(\"OP(t_o_t[1][2]):\", t_o_t[1][2])"
   ]
  },
  {
   "cell_type": "code",
   "execution_count": 11,
   "metadata": {
    "ExecuteTime": {
     "end_time": "2019-03-30T03:57:53.468000Z",
     "start_time": "2019-03-30T03:57:53.464000Z"
    }
   },
   "outputs": [
    {
     "data": {
      "text/plain": [
       "('a', 'e', 'i', 'o', 'u')"
      ]
     },
     "execution_count": 11,
     "metadata": {},
     "output_type": "execute_result"
    }
   ],
   "source": [
    "vowels = ('a','e','i','o','u')\n",
    "vowels"
   ]
  },
  {
   "cell_type": "code",
   "execution_count": 12,
   "metadata": {
    "ExecuteTime": {
     "end_time": "2019-03-30T03:59:17.100000Z",
     "start_time": "2019-03-30T03:59:17.096000Z"
    }
   },
   "outputs": [
    {
     "data": {
      "text/plain": [
       "('p', 'y', 't', 'h', 'o', 'n')"
      ]
     },
     "execution_count": 12,
     "metadata": {},
     "output_type": "execute_result"
    }
   ],
   "source": [
    "first_tuple = ('p', 'y', 't')\n",
    "second_tuple = ('h', 'o', 'n')\n",
    "full_tuple = first_tuple + second_tuple\n",
    "full_tuple"
   ]
  },
  {
   "cell_type": "code",
   "execution_count": 13,
   "metadata": {
    "ExecuteTime": {
     "end_time": "2019-03-30T03:59:52.852000Z",
     "start_time": "2019-03-30T03:59:52.849000Z"
    }
   },
   "outputs": [
    {
     "data": {
      "text/plain": [
       "('fork', 'fork', 'fork', 'fork', 'fork')"
      ]
     },
     "execution_count": 13,
     "metadata": {},
     "output_type": "execute_result"
    }
   ],
   "source": [
    "init_tuple = (\"fork\", )\n",
    "fork_tuple = init_tuple * 5\n",
    "fork_tuple"
   ]
  },
  {
   "cell_type": "markdown",
   "metadata": {},
   "source": [
    "#### 元组与列表的区别\n",
    "\n",
    "[Python: What is the Difference between a List and a Tuple?](https://www.afternerd.com/blog/difference-between-list-tuple/)\n",
    "\n",
    "[Python List vs. Tuples](https://www.programiz.com/python-programming/list-vs-tuples)"
   ]
  },
  {
   "cell_type": "code",
   "execution_count": 35,
   "metadata": {
    "ExecuteTime": {
     "end_time": "2019-09-14T08:36:36.924000Z",
     "start_time": "2019-09-14T08:36:36.918000Z"
    }
   },
   "outputs": [
    {
     "name": "stdout",
     "output_type": "stream",
     "text": [
      "[1, 2, 3, 4]\n",
      "(1, 2, 3, 4)\n"
     ]
    }
   ],
   "source": [
    "list_num = [1,2,3,4]\n",
    "tup_num = (1,2,3,4)\n",
    "\n",
    "print(list_num)\n",
    "print(tup_num)"
   ]
  },
  {
   "cell_type": "markdown",
   "metadata": {},
   "source": [
    "列表和元组之间的主要区别在于列表是可变的，而元组是不可变的。"
   ]
  },
  {
   "cell_type": "code",
   "execution_count": 23,
   "metadata": {
    "ExecuteTime": {
     "end_time": "2019-09-14T08:07:07.757000Z",
     "start_time": "2019-09-14T08:07:07.752000Z"
    }
   },
   "outputs": [
    {
     "name": "stdout",
     "output_type": "stream",
     "text": [
      "<class 'list'>\n",
      "apples\n",
      "['apples', 'bananas', 'oranges']\n"
     ]
    }
   ],
   "source": [
    "a = [\"apples\", \"bananas\", \"oranges\"]\n",
    "print(type(a))\n",
    "print(a[0])\n",
    "print(a)"
   ]
  },
  {
   "cell_type": "code",
   "execution_count": 24,
   "metadata": {
    "ExecuteTime": {
     "end_time": "2019-09-14T08:21:59.861000Z",
     "start_time": "2019-09-14T08:21:59.853000Z"
    }
   },
   "outputs": [
    {
     "name": "stdout",
     "output_type": "stream",
     "text": [
      "['berries', 'bananas', 'oranges']\n"
     ]
    }
   ],
   "source": [
    "a[0] = \"berries\"\n",
    "print(a)"
   ]
  },
  {
   "cell_type": "markdown",
   "metadata": {},
   "source": [
    "元组不可修改"
   ]
  },
  {
   "cell_type": "code",
   "execution_count": 25,
   "metadata": {
    "ExecuteTime": {
     "end_time": "2019-09-14T08:22:16.188000Z",
     "start_time": "2019-09-14T08:22:16.174000Z"
    }
   },
   "outputs": [
    {
     "ename": "TypeError",
     "evalue": "'tuple' object does not support item assignment",
     "output_type": "error",
     "traceback": [
      "\u001b[1;31m---------------------------------------------------------------------------\u001b[0m",
      "\u001b[1;31mTypeError\u001b[0m                                 Traceback (most recent call last)",
      "\u001b[1;32m<ipython-input-25-4a9d04861544>\u001b[0m in \u001b[0;36m<module>\u001b[1;34m()\u001b[0m\n\u001b[0;32m      1\u001b[0m \u001b[0ma\u001b[0m \u001b[1;33m=\u001b[0m \u001b[1;33m(\u001b[0m\u001b[1;34m\"apples\"\u001b[0m\u001b[1;33m,\u001b[0m \u001b[1;34m\"bananas\"\u001b[0m\u001b[1;33m,\u001b[0m \u001b[1;34m\"oranges\"\u001b[0m\u001b[1;33m)\u001b[0m\u001b[1;33m\u001b[0m\u001b[0m\n\u001b[1;32m----> 2\u001b[1;33m \u001b[0ma\u001b[0m\u001b[1;33m[\u001b[0m\u001b[1;36m0\u001b[0m\u001b[1;33m]\u001b[0m \u001b[1;33m=\u001b[0m \u001b[1;34m\"berries\"\u001b[0m\u001b[1;33m\u001b[0m\u001b[0m\n\u001b[0m",
      "\u001b[1;31mTypeError\u001b[0m: 'tuple' object does not support item assignment"
     ]
    }
   ],
   "source": [
    "a = (\"apples\", \"bananas\", \"oranges\")\n",
    "a[0] = \"berries\""
   ]
  },
  {
   "cell_type": "code",
   "execution_count": null,
   "metadata": {
    "collapsed": true
   },
   "outputs": [],
   "source": [
    "a = (\"apples\", \"bananas\", \"oranges\")\n",
    "a = (\"berries\", \"bananas\", \"oranges\")"
   ]
  },
  {
   "cell_type": "markdown",
   "metadata": {},
   "source": [
    "**变量和对象之间的区别**\n",
    "\n",
    "请记住，变量只是对内存中实际python对象的引用。\n",
    "\n",
    "变量本身不是对象。\n",
    "\n",
    "例如，让我们试着可视化当您将一个列表分配给一个变量a时会发生什么。"
   ]
  },
  {
   "cell_type": "code",
   "execution_count": 26,
   "metadata": {
    "ExecuteTime": {
     "end_time": "2019-09-14T08:24:23.809000Z",
     "start_time": "2019-09-14T08:24:23.800000Z"
    },
    "collapsed": true
   },
   "outputs": [],
   "source": [
    "a = [\"apples\", \"bananas\", \"oranges\"]"
   ]
  },
  {
   "cell_type": "markdown",
   "metadata": {},
   "source": [
    "当这样做时，将在内存中创建一个类型为list的python对象，变量a通过在内存中保存它的位置来引用这个对象。"
   ]
  },
  {
   "cell_type": "markdown",
   "metadata": {},
   "source": [
    "<img src=\"https://k2d8u9t7.stackpathcdn.com/blog/wp-content/uploads/2018/04/variable-object-1.png\" alt=\"tuple\" width=\"500\"/>"
   ]
  },
  {
   "cell_type": "markdown",
   "metadata": {},
   "source": [
    "实际上，可以通过使用id()函数检查a来检索list对象在内存中的位置。"
   ]
  },
  {
   "cell_type": "code",
   "execution_count": 27,
   "metadata": {
    "ExecuteTime": {
     "end_time": "2019-09-14T08:26:18.044000Z",
     "start_time": "2019-09-14T08:26:18.037000Z"
    }
   },
   "outputs": [
    {
     "name": "stdout",
     "output_type": "stream",
     "text": [
      "99700552\n"
     ]
    }
   ],
   "source": [
    "a = [\"apples\", \"bananas\", \"oranges\"]\n",
    "print(id(a))"
   ]
  },
  {
   "cell_type": "markdown",
   "metadata": {},
   "source": [
    "现在，如果修改列表的第一个索引，并再次检查id()，你将得到相同的值，因为a仍然引用相同的对象。"
   ]
  },
  {
   "cell_type": "code",
   "execution_count": 28,
   "metadata": {
    "ExecuteTime": {
     "end_time": "2019-09-14T08:27:13.838000Z",
     "start_time": "2019-09-14T08:27:13.832000Z"
    }
   },
   "outputs": [
    {
     "name": "stdout",
     "output_type": "stream",
     "text": [
      "99700552\n"
     ]
    }
   ],
   "source": [
    "a[0] = \"berries\"\n",
    "print(id(a))"
   ]
  },
  {
   "cell_type": "markdown",
   "metadata": {},
   "source": [
    "下图准确地显示了修改后的情况。\n",
    "\n",
    "<img src=\"https://k2d8u9t7.stackpathcdn.com/blog/wp-content/uploads/2018/04/list-modification-1.png\" alt=\"tuple\" width=\"500\"/>"
   ]
  },
  {
   "cell_type": "markdown",
   "metadata": {},
   "source": [
    "现在，让我们看看如果对元组执行相同的操作会发生什么。"
   ]
  },
  {
   "cell_type": "code",
   "execution_count": 29,
   "metadata": {
    "ExecuteTime": {
     "end_time": "2019-09-14T08:29:19.904000Z",
     "start_time": "2019-09-14T08:29:19.894000Z"
    }
   },
   "outputs": [
    {
     "name": "stdout",
     "output_type": "stream",
     "text": [
      "130380640\n"
     ]
    }
   ],
   "source": [
    "a = (\"apples\", \"bananas\", \"oranges\")\n",
    "print(id(a))"
   ]
  },
  {
   "cell_type": "code",
   "execution_count": 30,
   "metadata": {
    "ExecuteTime": {
     "end_time": "2019-09-14T08:29:35.570000Z",
     "start_time": "2019-09-14T08:29:35.566000Z"
    }
   },
   "outputs": [
    {
     "name": "stdout",
     "output_type": "stream",
     "text": [
      "130102184\n"
     ]
    }
   ],
   "source": [
    "a = (\"berries\", \"bananas\", \"oranges\")\n",
    "print(id(a))"
   ]
  },
  {
   "cell_type": "markdown",
   "metadata": {},
   "source": [
    "如你所见，这两个地址是不同的。\n",
    "\n",
    "这意味着在第二次赋值之后，a引用了一个全新的对象。\n",
    "\n",
    "这个图准确地显示了发生了什么。\n",
    "\n",
    "<img src=\"https://k2d8u9t7.stackpathcdn.com/blog/wp-content/uploads/2018/04/tuple-modification-2.png\" alt=\"tuple\" width=\"500\"/>"
   ]
  },
  {
   "cell_type": "markdown",
   "metadata": {},
   "source": [
    "此外，如果程序中没有其他变量引用旧元组，那么python的垃圾收集器将从内存中完全删除旧元组。这就是可变性的概念了这就是列表和元组的关键区别。"
   ]
  },
  {
   "cell_type": "markdown",
   "metadata": {},
   "source": [
    "在CPython (Python最流行的实现)中，如果创建具有相同值的不可变对象，Python(在某些条件下)可能会将这些不同的对象捆绑到一起。"
   ]
  },
  {
   "cell_type": "code",
   "execution_count": 31,
   "metadata": {
    "ExecuteTime": {
     "end_time": "2019-09-14T08:33:09.842000Z",
     "start_time": "2019-09-14T08:33:09.831000Z"
    }
   },
   "outputs": [
    {
     "name": "stdout",
     "output_type": "stream",
     "text": [
      "100011568\n",
      "100011568\n"
     ]
    }
   ],
   "source": [
    "a = \"Karim\"\n",
    "b = \"Karim\"\n",
    "\n",
    "print(id(a))\n",
    "print(id(b))"
   ]
  },
  {
   "cell_type": "markdown",
   "metadata": {},
   "source": [
    "    请记住，字符串(以及整数、浮点数和bool)也是不可变对象的所有示例。\n",
    "    正如您所看到的，即使在我们的python程序中，我们显式地创建了两个不同的字符串对象，python内部还是将它们绑定到一个字符串对象中。\n",
    "    我们怎么知道的?\n",
    "    因为a的恒等式和b的恒等式是一样的。\n",
    "    \n",
    "    Python之所以能够做到这一点，是因为字符串的不可变性使得执行这种绑定是安全的。\n",
    "    不仅这将节省一些内存(不是多次存储的字符串在内存中),而且每次你想创建一个新的对象相同的值,python会创建一个引用的对象在内存中已经存在,绝对是更有效率。"
   ]
  },
  {
   "cell_type": "markdown",
   "metadata": {},
   "source": [
    "这不仅适用于字符串，也适用于整数(在某些条件下)。"
   ]
  },
  {
   "cell_type": "code",
   "execution_count": 32,
   "metadata": {
    "ExecuteTime": {
     "end_time": "2019-09-14T08:34:59.564000Z",
     "start_time": "2019-09-14T08:34:59.556000Z"
    }
   },
   "outputs": [
    {
     "name": "stdout",
     "output_type": "stream",
     "text": [
      "502066288\n",
      "502066288\n"
     ]
    }
   ],
   "source": [
    "a = 1\n",
    "b = 1\n",
    "\n",
    "print(id(a))\n",
    "print(id(b))"
   ]
  },
  {
   "cell_type": "markdown",
   "metadata": {},
   "source": [
    "不会自动将两个等价的元组捆绑在一起"
   ]
  },
  {
   "cell_type": "code",
   "execution_count": 34,
   "metadata": {
    "ExecuteTime": {
     "end_time": "2019-09-14T08:35:51.399000Z",
     "start_time": "2019-09-14T08:35:51.395000Z"
    }
   },
   "outputs": [
    {
     "name": "stdout",
     "output_type": "stream",
     "text": [
      "138761736\n",
      "130360328\n"
     ]
    }
   ],
   "source": [
    "a = (1, 2)\n",
    "b = (1, 2)\n",
    "\n",
    "print(id(a))\n",
    "print(id(b))"
   ]
  },
  {
   "cell_type": "markdown",
   "metadata": {},
   "source": [
    "#### 内建函数"
   ]
  },
  {
   "cell_type": "markdown",
   "metadata": {},
   "source": [
    "列表具有比元组更多的内建函数。"
   ]
  },
  {
   "cell_type": "code",
   "execution_count": 36,
   "metadata": {
    "ExecuteTime": {
     "end_time": "2019-09-14T08:39:31.696000Z",
     "start_time": "2019-09-14T08:39:31.689000Z"
    }
   },
   "outputs": [
    {
     "name": "stdout",
     "output_type": "stream",
     "text": [
      "[1, 2, 3, 4]\n",
      "(1, 2, 3, 4)\n"
     ]
    }
   ],
   "source": [
    "list_num = [1,2,3,4]\n",
    "tup_num = (1,2,3,4)\n",
    "\n",
    "print(list_num)\n",
    "print(tup_num)"
   ]
  },
  {
   "cell_type": "code",
   "execution_count": 37,
   "metadata": {
    "ExecuteTime": {
     "end_time": "2019-09-14T08:39:31.934000Z",
     "start_time": "2019-09-14T08:39:31.929000Z"
    }
   },
   "outputs": [
    {
     "name": "stdout",
     "output_type": "stream",
     "text": [
      "['__add__', '__class__', '__contains__', '__delattr__', '__delitem__', '__dir__', '__doc__', '__eq__', '__format__', '__ge__', '__getattribute__', '__getitem__', '__gt__', '__hash__', '__iadd__', '__imul__', '__init__', '__init_subclass__', '__iter__', '__le__', '__len__', '__lt__', '__mul__', '__ne__', '__new__', '__reduce__', '__reduce_ex__', '__repr__', '__reversed__', '__rmul__', '__setattr__', '__setitem__', '__sizeof__', '__str__', '__subclasshook__', 'append', 'clear', 'copy', 'count', 'extend', 'index', 'insert', 'pop', 'remove', 'reverse', 'sort']\n"
     ]
    }
   ],
   "source": [
    "print(dir(list_num))"
   ]
  },
  {
   "cell_type": "code",
   "execution_count": 38,
   "metadata": {
    "ExecuteTime": {
     "end_time": "2019-09-14T08:39:43.750000Z",
     "start_time": "2019-09-14T08:39:43.742000Z"
    }
   },
   "outputs": [
    {
     "name": "stdout",
     "output_type": "stream",
     "text": [
      "['__add__', '__class__', '__contains__', '__delattr__', '__dir__', '__doc__', '__eq__', '__format__', '__ge__', '__getattribute__', '__getitem__', '__getnewargs__', '__gt__', '__hash__', '__init__', '__init_subclass__', '__iter__', '__le__', '__len__', '__lt__', '__mul__', '__ne__', '__new__', '__reduce__', '__reduce_ex__', '__repr__', '__rmul__', '__setattr__', '__sizeof__', '__str__', '__subclasshook__', 'count', 'index']\n"
     ]
    }
   ],
   "source": [
    "print(dir(tup_num))"
   ]
  },
  {
   "cell_type": "markdown",
   "metadata": {},
   "source": [
    "#### 内存占用比较"
   ]
  },
  {
   "cell_type": "code",
   "execution_count": 39,
   "metadata": {
    "ExecuteTime": {
     "end_time": "2019-09-14T08:40:19.631000Z",
     "start_time": "2019-09-14T08:40:19.626000Z"
    }
   },
   "outputs": [
    {
     "name": "stdout",
     "output_type": "stream",
     "text": [
      "a= 104\n",
      "b= 120\n"
     ]
    }
   ],
   "source": [
    "a= (1,2,3,4,5,6,7,8,9,0)\n",
    "b= [1,2,3,4,5,6,7,8,9,0]\n",
    "\n",
    "print('a=',a.__sizeof__())\n",
    "print('b=',b.__sizeof__())"
   ]
  },
  {
   "cell_type": "markdown",
   "metadata": {},
   "source": [
    "元组也可以在字典中用作键，因为它们具有可hashable和不可变的特性，而列表在字典中不用作键，因为列表不能处理_hash__()，并且具有可变的特性。"
   ]
  },
  {
   "cell_type": "code",
   "execution_count": 40,
   "metadata": {
    "ExecuteTime": {
     "end_time": "2019-09-14T08:42:03.455000Z",
     "start_time": "2019-09-14T08:42:03.445000Z"
    }
   },
   "outputs": [
    {
     "ename": "TypeError",
     "evalue": "unhashable type: 'list'",
     "output_type": "error",
     "traceback": [
      "\u001b[1;31m---------------------------------------------------------------------------\u001b[0m",
      "\u001b[1;31mTypeError\u001b[0m                                 Traceback (most recent call last)",
      "\u001b[1;32m<ipython-input-40-e0da2559cce6>\u001b[0m in \u001b[0;36m<module>\u001b[1;34m()\u001b[0m\n\u001b[0;32m      1\u001b[0m \u001b[0mkey_val\u001b[0m\u001b[1;33m=\u001b[0m \u001b[1;33m{\u001b[0m\u001b[1;33m(\u001b[0m\u001b[1;34m'alpha'\u001b[0m\u001b[1;33m,\u001b[0m\u001b[1;34m'bravo'\u001b[0m\u001b[1;33m)\u001b[0m\u001b[1;33m:\u001b[0m\u001b[1;36m123\u001b[0m\u001b[1;33m}\u001b[0m \u001b[1;31m#Valid\u001b[0m\u001b[1;33m\u001b[0m\u001b[0m\n\u001b[0;32m      2\u001b[0m \u001b[1;33m\u001b[0m\u001b[0m\n\u001b[1;32m----> 3\u001b[1;33m \u001b[0mkey_val\u001b[0m \u001b[1;33m=\u001b[0m \u001b[1;33m{\u001b[0m\u001b[1;33m[\u001b[0m\u001b[1;34m'alpha'\u001b[0m\u001b[1;33m,\u001b[0m\u001b[1;34m'bravo'\u001b[0m\u001b[1;33m]\u001b[0m\u001b[1;33m:\u001b[0m\u001b[1;36m123\u001b[0m\u001b[1;33m}\u001b[0m \u001b[1;31m#Invalid\u001b[0m\u001b[1;33m\u001b[0m\u001b[0m\n\u001b[0m",
      "\u001b[1;31mTypeError\u001b[0m: unhashable type: 'list'"
     ]
    }
   ],
   "source": [
    "key_val= {('alpha','bravo'):123} # Valid\n",
    "\n",
    "key_val = {['alpha','bravo']:123} # Invalid"
   ]
  },
  {
   "cell_type": "markdown",
   "metadata": {},
   "source": [
    "当列表作为元组的元素时，该元素的值可以改变，修改内容为列表对象的元素而不是元组的元素对象"
   ]
  },
  {
   "cell_type": "code",
   "execution_count": 41,
   "metadata": {
    "ExecuteTime": {
     "end_time": "2019-09-14T09:06:53.617000Z",
     "start_time": "2019-09-14T09:06:53.595000Z"
    }
   },
   "outputs": [
    {
     "name": "stdout",
     "output_type": "stream",
     "text": [
      "(4, 2, 3, [9, 5])\n",
      "('p', 'r', 'o', 'g', 'r', 'a', 'm', 'i', 'z')\n"
     ]
    }
   ],
   "source": [
    "my_tuple = (4, 2, 3, [6, 5])\n",
    "\n",
    "# TypeError: 'tuple' object does not support item assignment\n",
    "# my_tuple[1] = 9\n",
    "\n",
    "# However, item of mutable element can be changed\n",
    "my_tuple[3][0] = 9    # Output: (4, 2, 3, [9, 5])\n",
    "print(my_tuple)\n",
    "\n",
    "# Tuples can be reassigned\n",
    "my_tuple = ('p','r','o','g','r','a','m','i','z')\n",
    "\n",
    "# Output: ('p', 'r', 'o', 'g', 'r', 'a', 'm', 'i', 'z')\n",
    "print(my_tuple)"
   ]
  },
  {
   "cell_type": "markdown",
   "metadata": {},
   "source": [
    "使用`+`实现元组的拼接"
   ]
  },
  {
   "cell_type": "code",
   "execution_count": 42,
   "metadata": {
    "ExecuteTime": {
     "end_time": "2019-09-14T09:07:11.431000Z",
     "start_time": "2019-09-14T09:07:11.421000Z"
    }
   },
   "outputs": [
    {
     "name": "stdout",
     "output_type": "stream",
     "text": [
      "(1, 2, 3, 4, 5, 6)\n",
      "('Repeat', 'Repeat', 'Repeat')\n"
     ]
    }
   ],
   "source": [
    "# Concatenation\n",
    "# Output: (1, 2, 3, 4, 5, 6)\n",
    "print((1, 2, 3) + (4, 5, 6))\n",
    "\n",
    "# Repeat\n",
    "# Output: ('Repeat', 'Repeat', 'Repeat')\n",
    "print((\"Repeat\",) * 3)"
   ]
  },
  {
   "cell_type": "markdown",
   "metadata": {},
   "source": [
    "#### 统计和索引"
   ]
  },
  {
   "cell_type": "code",
   "execution_count": 43,
   "metadata": {
    "ExecuteTime": {
     "end_time": "2019-09-14T09:08:32.375000Z",
     "start_time": "2019-09-14T09:08:32.370000Z"
    }
   },
   "outputs": [
    {
     "name": "stdout",
     "output_type": "stream",
     "text": [
      "2\n",
      "3\n"
     ]
    }
   ],
   "source": [
    "my_tuple = ('a','p','p','l','e',)\n",
    "\n",
    "print(my_tuple.count('p'))  # Output: 2\n",
    "print(my_tuple.index('l'))  # Output: 3"
   ]
  },
  {
   "cell_type": "markdown",
   "metadata": {},
   "source": [
    "#### 判断元素是否在元组中"
   ]
  },
  {
   "cell_type": "code",
   "execution_count": 44,
   "metadata": {
    "ExecuteTime": {
     "end_time": "2019-09-14T09:10:18.710000Z",
     "start_time": "2019-09-14T09:10:18.703000Z"
    }
   },
   "outputs": [
    {
     "name": "stdout",
     "output_type": "stream",
     "text": [
      "True\n",
      "False\n",
      "True\n"
     ]
    }
   ],
   "source": [
    "my_tuple = ('a','p','p','l','e',)\n",
    "\n",
    "# In operation\n",
    "# Output: True\n",
    "print('a' in my_tuple)\n",
    "\n",
    "# Output: False\n",
    "print('b' in my_tuple)\n",
    "\n",
    "# Not in operation\n",
    "# Output: True\n",
    "print('g' not in my_tuple)"
   ]
  },
  {
   "cell_type": "code",
   "execution_count": null,
   "metadata": {
    "collapsed": true
   },
   "outputs": [],
   "source": []
  },
  {
   "cell_type": "code",
   "execution_count": 45,
   "metadata": {
    "ExecuteTime": {
     "end_time": "2019-09-14T09:28:04.471000Z",
     "start_time": "2019-09-14T09:28:04.457000Z"
    }
   },
   "outputs": [
    {
     "name": "stdout",
     "output_type": "stream",
     "text": [
      "0.0013953274557718153\n",
      "0.006988655603198196\n"
     ]
    }
   ],
   "source": [
    "import timeit\n",
    "print(timeit.timeit('x=(1,2,3,4,5,6,7,8,9)', number=100000))\n",
    "print(timeit.timeit('x=[1,2,3,4,5,6,7,8,9]', number=100000))"
   ]
  },
  {
   "cell_type": "code",
   "execution_count": 46,
   "metadata": {
    "ExecuteTime": {
     "end_time": "2019-09-14T09:30:34.126000Z",
     "start_time": "2019-09-14T09:30:34.114000Z"
    }
   },
   "outputs": [
    {
     "name": "stdout",
     "output_type": "stream",
     "text": [
      "True\n"
     ]
    }
   ],
   "source": [
    "# Tuple 'n_tuple' with a list as one of its item.\n",
    "n_tuple = (1, 1, [3,4])\n",
    "\n",
    "#Items with same value have the same id.\n",
    "print(id(n_tuple[0]) == id(n_tuple[1]))"
   ]
  },
  {
   "cell_type": "markdown",
   "metadata": {},
   "source": [
    "元组没有append"
   ]
  },
  {
   "cell_type": "code",
   "execution_count": 47,
   "metadata": {
    "ExecuteTime": {
     "end_time": "2019-09-14T09:31:09.341000Z",
     "start_time": "2019-09-14T09:31:09.321000Z"
    }
   },
   "outputs": [
    {
     "ename": "AttributeError",
     "evalue": "'tuple' object has no attribute 'append'",
     "output_type": "error",
     "traceback": [
      "\u001b[1;31m---------------------------------------------------------------------------\u001b[0m",
      "\u001b[1;31mAttributeError\u001b[0m                            Traceback (most recent call last)",
      "\u001b[1;32m<ipython-input-47-3cd258e024ff>\u001b[0m in \u001b[0;36m<module>\u001b[1;34m()\u001b[0m\n\u001b[1;32m----> 1\u001b[1;33m \u001b[0mn_tuple\u001b[0m\u001b[1;33m.\u001b[0m\u001b[0mappend\u001b[0m\u001b[1;33m(\u001b[0m\u001b[1;36m5\u001b[0m\u001b[1;33m)\u001b[0m\u001b[1;33m\u001b[0m\u001b[0m\n\u001b[0m",
      "\u001b[1;31mAttributeError\u001b[0m: 'tuple' object has no attribute 'append'"
     ]
    }
   ],
   "source": [
    "n_tuple.append(5)"
   ]
  },
  {
   "cell_type": "code",
   "execution_count": 48,
   "metadata": {
    "ExecuteTime": {
     "end_time": "2019-09-14T09:31:26.169000Z",
     "start_time": "2019-09-14T09:31:26.166000Z"
    }
   },
   "outputs": [
    {
     "name": "stdout",
     "output_type": "stream",
     "text": [
      "(1, 1, [3, 4, 5])\n"
     ]
    }
   ],
   "source": [
    "n_tuple[2].append(5)\n",
    "print(n_tuple)"
   ]
  },
  {
   "cell_type": "markdown",
   "metadata": {},
   "source": [
    "    不能向元组添加元素，因为它们具有不可变的属性。元组没有append()或extend()方法，\n",
    "    不能从元组中删除元素，这也是由于它们的不可变性。元组没有remove()或pop()方法，\n",
    "    可以在元组中找到元素，因为这不会更改元组。\n",
    "    还可以使用in操作符检查元组中是否存在元素。\n",
    "    所以，如果你要定义一个常量值集你要做的就是迭代它，使用元组而不是列表。它将比使用列表更快，也更安全"
   ]
  },
  {
   "cell_type": "markdown",
   "metadata": {},
   "source": [
    "#### 添加元素"
   ]
  },
  {
   "cell_type": "code",
   "execution_count": 49,
   "metadata": {
    "ExecuteTime": {
     "end_time": "2019-09-14T09:33:23.502000Z",
     "start_time": "2019-09-14T09:33:23.486000Z"
    }
   },
   "outputs": [
    {
     "name": "stdout",
     "output_type": "stream",
     "text": [
      "(1, 2, 3, 4, 5, 6, 7, 8)\n"
     ]
    }
   ],
   "source": [
    "x = (1,2,3,4)\n",
    "y = (5,6,7,8)\n",
    "\n",
    "# Combining two tuples to form a new tuple\n",
    "z = x + y \n",
    "\n",
    "print(z)"
   ]
  },
  {
   "cell_type": "markdown",
   "metadata": {},
   "source": [
    "#### 乘法复制"
   ]
  },
  {
   "cell_type": "code",
   "execution_count": 50,
   "metadata": {
    "ExecuteTime": {
     "end_time": "2019-09-14T09:34:17.077000Z",
     "start_time": "2019-09-14T09:34:17.073000Z"
    }
   },
   "outputs": [
    {
     "name": "stdout",
     "output_type": "stream",
     "text": [
      "(1, 2, 3, 4, 1, 2, 3, 4)\n"
     ]
    }
   ],
   "source": [
    "x = (1,2,3,4)\n",
    "z = x*2\n",
    "print(z)"
   ]
  },
  {
   "cell_type": "markdown",
   "metadata": {},
   "source": [
    "与Python列表不同，元组没有append()、remove()、extend()、insert()和pop()等方法，这是由于其不可变的特性。然而，还有许多其他内置的方法可以使用"
   ]
  },
  {
   "cell_type": "markdown",
   "metadata": {},
   "source": [
    "#### count() and len()"
   ]
  },
  {
   "cell_type": "code",
   "execution_count": 51,
   "metadata": {
    "ExecuteTime": {
     "end_time": "2019-09-14T09:35:16.631000Z",
     "start_time": "2019-09-14T09:35:16.623000Z"
    }
   },
   "outputs": [
    {
     "name": "stdout",
     "output_type": "stream",
     "text": [
      "2\n"
     ]
    }
   ],
   "source": [
    "a = [1,2,3,4,5,5]\n",
    "print(a.count(5))"
   ]
  },
  {
   "cell_type": "code",
   "execution_count": 52,
   "metadata": {
    "ExecuteTime": {
     "end_time": "2019-09-14T09:35:27.371000Z",
     "start_time": "2019-09-14T09:35:27.362000Z"
    }
   },
   "outputs": [
    {
     "name": "stdout",
     "output_type": "stream",
     "text": [
      "5\n"
     ]
    }
   ],
   "source": [
    "a = (1,2,3,4,5)\n",
    "print(len(a))"
   ]
  },
  {
   "cell_type": "code",
   "execution_count": 53,
   "metadata": {
    "ExecuteTime": {
     "end_time": "2019-09-14T09:35:39.907000Z",
     "start_time": "2019-09-14T09:35:39.896000Z"
    }
   },
   "outputs": [
    {
     "name": "stdout",
     "output_type": "stream",
     "text": [
      "4\n"
     ]
    }
   ],
   "source": [
    "a = (1,2,3,[4,5])\n",
    "print(len(a))"
   ]
  },
  {
   "cell_type": "markdown",
   "metadata": {},
   "source": [
    "#### any()\n",
    "\n",
    "可以使用any()来发现元组中的任何元素是否可迭代。如果是这种情况，返回True，否则返回False。"
   ]
  },
  {
   "cell_type": "code",
   "execution_count": 54,
   "metadata": {
    "ExecuteTime": {
     "end_time": "2019-09-14T09:36:18.399000Z",
     "start_time": "2019-09-14T09:36:18.395000Z"
    }
   },
   "outputs": [
    {
     "name": "stdout",
     "output_type": "stream",
     "text": [
      "True\n"
     ]
    }
   ],
   "source": [
    "a = (1,)\n",
    "print(any(a))"
   ]
  },
  {
   "cell_type": "markdown",
   "metadata": {},
   "source": [
    "注意，在上面元组a的声明中。如果在初始化元组中的单个项时没有指定逗号，Python假定您错误地添加了一对额外的括号(这是无害的)，但是数据类型不是元组。因此，在元组中声明单个项时，请记住添加逗号。\n",
    "\n",
    "现在，回到any()函数:在布尔上下文中，项的值是不相关的。空元组为假，任何至少有一个项的元组为真。"
   ]
  },
  {
   "cell_type": "code",
   "execution_count": 55,
   "metadata": {
    "ExecuteTime": {
     "end_time": "2019-09-14T09:36:52.809000Z",
     "start_time": "2019-09-14T09:36:52.798000Z"
    }
   },
   "outputs": [
    {
     "name": "stdout",
     "output_type": "stream",
     "text": [
      "False\n"
     ]
    }
   ],
   "source": [
    "b = ()\n",
    "print(any(b))"
   ]
  },
  {
   "cell_type": "markdown",
   "metadata": {},
   "source": [
    "#### min() and max()"
   ]
  },
  {
   "cell_type": "code",
   "execution_count": 56,
   "metadata": {
    "ExecuteTime": {
     "end_time": "2019-09-14T09:37:22.690000Z",
     "start_time": "2019-09-14T09:37:22.684000Z"
    }
   },
   "outputs": [
    {
     "name": "stdout",
     "output_type": "stream",
     "text": [
      "1\n",
      "1\n"
     ]
    }
   ],
   "source": [
    "print(max(a))\n",
    "print(min(a))"
   ]
  },
  {
   "cell_type": "code",
   "execution_count": 57,
   "metadata": {
    "ExecuteTime": {
     "end_time": "2019-09-14T09:37:30.966000Z",
     "start_time": "2019-09-14T09:37:30.962000Z"
    }
   },
   "outputs": [
    {
     "name": "stdout",
     "output_type": "stream",
     "text": [
      "p\n"
     ]
    }
   ],
   "source": [
    "# The string 'Apple' is automatically converted into a sequence of characters. \n",
    "a = ('Apple') \n",
    "print(max(a))"
   ]
  },
  {
   "cell_type": "markdown",
   "metadata": {},
   "source": [
    "#### sum()"
   ]
  },
  {
   "cell_type": "code",
   "execution_count": 60,
   "metadata": {
    "ExecuteTime": {
     "end_time": "2019-09-14T09:38:37.034000Z",
     "start_time": "2019-09-14T09:38:37.030000Z"
    }
   },
   "outputs": [
    {
     "name": "stdout",
     "output_type": "stream",
     "text": [
      "15\n"
     ]
    }
   ],
   "source": [
    "a = (1,2,3,4,5)\n",
    "\n",
    "print(sum(a))"
   ]
  },
  {
   "cell_type": "markdown",
   "metadata": {},
   "source": [
    "#### sorted()"
   ]
  },
  {
   "cell_type": "code",
   "execution_count": 61,
   "metadata": {
    "ExecuteTime": {
     "end_time": "2019-09-14T09:38:46.844000Z",
     "start_time": "2019-09-14T09:38:46.837000Z"
    }
   },
   "outputs": [
    {
     "name": "stdout",
     "output_type": "stream",
     "text": [
      "[1, 2, 3, 4, 5, 6, 7]\n"
     ]
    }
   ],
   "source": [
    "a = (6,7,4,2,1,5,3)\n",
    "print(sorted(a))"
   ]
  },
  {
   "cell_type": "code",
   "execution_count": null,
   "metadata": {
    "collapsed": true
   },
   "outputs": [],
   "source": []
  }
 ],
 "metadata": {
  "kernelspec": {
   "display_name": "Python 3",
   "language": "python",
   "name": "python3"
  },
  "language_info": {
   "codemirror_mode": {
    "name": "ipython",
    "version": 3
   },
   "file_extension": ".py",
   "mimetype": "text/x-python",
   "name": "python",
   "nbconvert_exporter": "python",
   "pygments_lexer": "ipython3",
   "version": "3.6.2"
  },
  "toc": {
   "base_numbering": 1,
   "nav_menu": {},
   "number_sections": true,
   "sideBar": true,
   "skip_h1_title": false,
   "title_cell": "Table of Contents",
   "title_sidebar": "Contents",
   "toc_cell": false,
   "toc_position": {},
   "toc_section_display": true,
   "toc_window_display": false
  },
  "varInspector": {
   "cols": {
    "lenName": 16,
    "lenType": 16,
    "lenVar": 40
   },
   "kernels_config": {
    "python": {
     "delete_cmd_postfix": "",
     "delete_cmd_prefix": "del ",
     "library": "var_list.py",
     "varRefreshCmd": "print(var_dic_list())"
    },
    "r": {
     "delete_cmd_postfix": ") ",
     "delete_cmd_prefix": "rm(",
     "library": "var_list.r",
     "varRefreshCmd": "cat(var_dic_list()) "
    }
   },
   "types_to_exclude": [
    "module",
    "function",
    "builtin_function_or_method",
    "instance",
    "_Feature"
   ],
   "window_display": false
  }
 },
 "nbformat": 4,
 "nbformat_minor": 2
}
