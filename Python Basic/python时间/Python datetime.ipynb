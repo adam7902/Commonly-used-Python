{
 "cells": [
  {
   "cell_type": "markdown",
   "metadata": {
    "ExecuteTime": {
     "end_time": "2019-09-21T00:07:08.235000Z",
     "start_time": "2019-09-21T00:07:08.231000Z"
    }
   },
   "source": [
    "**[Python DateTime](https://www.pythonprogramming.in/date-time.html)**"
   ]
  },
  {
   "cell_type": "markdown",
   "metadata": {},
   "source": [
    "#### 打印当前日期和时间\n",
    "\n",
    "[Displays the current date and time using time module](https://www.pythonprogramming.in/date-time/displays-the-current-time-and-date-using-time-module.html)"
   ]
  },
  {
   "cell_type": "code",
   "execution_count": 2,
   "metadata": {
    "ExecuteTime": {
     "end_time": "2019-09-21T00:09:50.596000Z",
     "start_time": "2019-09-21T00:09:50.584000Z"
    }
   },
   "outputs": [
    {
     "name": "stdout",
     "output_type": "stream",
     "text": [
      "Sat Sep 21 08:09:50 2019\n",
      "Sat, 21 Sep 2019 00:09:50 +0000\n",
      "Saturday\n",
      "09/21/19\n",
      "September\n",
      "19\n",
      "Fri, 13 Feb 2009 23:31:30 +0000\n"
     ]
    }
   ],
   "source": [
    "#Python's program that displays the current time and date in various format.\n",
    " \n",
    "#import time module\n",
    "import time\n",
    "from time import gmtime, strftime\n",
    " \n",
    "t = time.localtime()\n",
    "print (time.asctime(t))\n",
    "print(strftime(\"%a, %d %b %Y %H:%M:%S +0000\", gmtime()))\n",
    "print(strftime(\"%A\", gmtime()))\n",
    "print(strftime(\"%D\", gmtime()))\n",
    "print(strftime(\"%B\", gmtime()))\n",
    "print(strftime(\"%y\", gmtime()))\n",
    " \n",
    "# Convert seconds into GMT date\n",
    "print(strftime(\"%a, %d %b %Y %H:%M:%S +0000\", gmtime(1234567890)))"
   ]
  },
  {
   "cell_type": "markdown",
   "metadata": {},
   "source": [
    "#### 把天、小时、分钟转换成秒\n",
    "\n",
    "[Convert Days, Hours, Minutes into Seconds](https://www.pythonprogramming.in/date-time/convert-days-hours-minutes-into-seconds.html)"
   ]
  },
  {
   "cell_type": "code",
   "execution_count": 3,
   "metadata": {
    "ExecuteTime": {
     "end_time": "2019-09-21T00:11:56.065000Z",
     "start_time": "2019-09-21T00:11:23.509000Z"
    }
   },
   "outputs": [
    {
     "name": "stdout",
     "output_type": "stream",
     "text": [
      "Enter number of Days: 5\n",
      "Enter number of Hours: 23\n",
      "Enter number of Minutes: 12\n",
      "Enter number of Seconds: 6\n",
      "Total number of seconds:  515526\n"
     ]
    }
   ],
   "source": [
    "#Python's program to convert number of days, hours, minutes and seconds to seconds.\n",
    "##\n",
    "\n",
    "#Define the constants\n",
    "SECONDS_PER_MINUTE = 60\n",
    "SECONDS_PER_HOUR = 3600\n",
    "SECONDS_PER_DAY = 86400\n",
    "\n",
    "#Read the inputs from user\n",
    "days = int(input(\"Enter number of Days: \"))\n",
    "hours = int(input(\"Enter number of Hours: \"))\n",
    "minutes = int(input(\"Enter number of Minutes: \"))\n",
    "seconds = int(input(\"Enter number of Seconds: \"))\n",
    "\n",
    "#Calculate the days, hours, minutes and seconds\n",
    "total_seconds = days * SECONDS_PER_DAY\n",
    "total_seconds = total_seconds + (hours * SECONDS_PER_HOUR)\n",
    "total_seconds = total_seconds + (minutes * SECONDS_PER_MINUTE)\n",
    "total_seconds = total_seconds + seconds\n",
    "\n",
    "#Display the result\n",
    "print(\"Total number of seconds: \", \"%d\" % (total_seconds))"
   ]
  },
  {
   "cell_type": "markdown",
   "metadata": {},
   "source": [
    "#### 使用panda在python中获取当前日期和时间\n",
    "\n",
    "[Using Pandas get current date and time in python](https://www.pythonprogramming.in/date-time/using-pandas-get-current-date-and-time-in-python.html)"
   ]
  },
  {
   "cell_type": "code",
   "execution_count": 4,
   "metadata": {
    "ExecuteTime": {
     "end_time": "2019-09-21T00:13:52.964000Z",
     "start_time": "2019-09-21T00:13:51.554000Z"
    }
   },
   "outputs": [
    {
     "name": "stdout",
     "output_type": "stream",
     "text": [
      "2019-09-21 08:13:52.961000\n",
      "2019-09-21\n",
      "2019\n",
      "9\n",
      "21\n",
      "8\n",
      "13\n",
      "52\n",
      "961000\n"
     ]
    }
   ],
   "source": [
    "# Python's program to get current date time using pandas.\n",
    "\n",
    "import pandas as pd\n",
    "print(pd.datetime.now())\n",
    "print(pd.datetime.now().date())\n",
    "print(pd.datetime.now().year)\n",
    "print(pd.datetime.now().month)\n",
    "print(pd.datetime.now().day)\n",
    "print(pd.datetime.now().hour)\n",
    "print(pd.datetime.now().minute)\n",
    "print(pd.datetime.now().second)\n",
    "print(pd.datetime.now().microsecond)"
   ]
  },
  {
   "cell_type": "markdown",
   "metadata": {},
   "source": [
    "#### 将字符串转换为datetime对象\n",
    "\n",
    "[Python program to convert string into datetime object](https://www.pythonprogramming.in/date-time/python-program-to-convert-string-into-datetime-object.html)"
   ]
  },
  {
   "cell_type": "code",
   "execution_count": 6,
   "metadata": {
    "ExecuteTime": {
     "end_time": "2019-09-21T00:18:24.820000Z",
     "start_time": "2019-09-21T00:18:24.793000Z"
    }
   },
   "outputs": [
    {
     "name": "stdout",
     "output_type": "stream",
     "text": [
      "<class 'datetime.datetime'>\n",
      "2019-01-07 13:15:00\n",
      "<class 'datetime.datetime'>\n",
      "2019-01-07 13:33:00\n"
     ]
    }
   ],
   "source": [
    "# Python's program to convert string into date time\n",
    "from datetime import datetime\n",
    "from dateutil import parser\n",
    "\n",
    "d1 = \"Jan 7 2019  1:15PM\"\n",
    "d2 = \"2019 Jan 7  1:33PM\"\n",
    "\n",
    "# If you know date format\n",
    "date1 = datetime.strptime(d1, '%b %d %Y %I:%M%p')\n",
    "print(type(date1))\n",
    "print(date1)\n",
    "\n",
    "# If you don't know date format\n",
    "date2 = parser.parse(d2)\n",
    "print(type(date2))\n",
    "print(date2)"
   ]
  },
  {
   "cell_type": "markdown",
   "metadata": {},
   "source": [
    "#### 获取当前时间(以毫秒为单位)\n",
    "\n",
    "[Get current time in milliseconds in Python](https://www.pythonprogramming.in/date-time/get-current-time-in-milliseconds-in-python.html)"
   ]
  },
  {
   "cell_type": "code",
   "execution_count": 7,
   "metadata": {
    "ExecuteTime": {
     "end_time": "2019-09-21T00:19:27.449000Z",
     "start_time": "2019-09-21T00:19:27.437000Z"
    }
   },
   "outputs": [
    {
     "name": "stdout",
     "output_type": "stream",
     "text": [
      "1569025167444\n"
     ]
    }
   ],
   "source": [
    "# Python's program to get time in milliseconds.\n",
    "import time\n",
    " \n",
    "milliseconds = int(round(time.time() * 1000))\n",
    "print(milliseconds)"
   ]
  },
  {
   "cell_type": "markdown",
   "metadata": {},
   "source": [
    "#### 获取当前的日期时间在MST, EST, UTC, GMT和HST格式\n",
    "\n",
    "[Get current date time in MST, EST, UTC, GMT and HST](https://www.pythonprogramming.in/date-time/get-current-time-in-mst-est-utc-and-gmt.html)"
   ]
  },
  {
   "cell_type": "code",
   "execution_count": 8,
   "metadata": {
    "ExecuteTime": {
     "end_time": "2019-09-21T00:20:42.250000Z",
     "start_time": "2019-09-21T00:20:42.237000Z"
    }
   },
   "outputs": [
    {
     "name": "stdout",
     "output_type": "stream",
     "text": [
      "Time in MST: 2019-09-20 17:20:42.246000-07:00\n",
      "Time in EST: 2019-09-20 19:20:42.246000-05:00\n",
      "Time in UTC: 2019-09-21 00:20:42.246000+00:00\n",
      "Time in GMT: 2019-09-21 00:20:42.247000+00:00\n",
      "Time in HST: 2019-09-20 14:20:42.247000-10:00\n"
     ]
    }
   ],
   "source": [
    "# Python's program to get current time MST EST UTC GMT HST\n",
    "from datetime import datetime\n",
    "from pytz import timezone\n",
    " \n",
    "mst = timezone('MST')\n",
    "print(\"Time in MST:\", datetime.now(mst))\n",
    " \n",
    "est = timezone('EST')\n",
    "print(\"Time in EST:\", datetime.now(est))\n",
    " \n",
    "utc = timezone('UTC')\n",
    "print(\"Time in UTC:\", datetime.now(utc))\n",
    " \n",
    "gmt = timezone('GMT')\n",
    "print(\"Time in GMT:\", datetime.now(gmt))\n",
    " \n",
    "hst = timezone('HST')\n",
    "print(\"Time in HST:\", datetime.now(hst))"
   ]
  },
  {
   "cell_type": "markdown",
   "metadata": {},
   "source": [
    "#### 用Python从给定的日期中获取星期几\n",
    "\n",
    "[Get the day of week from given a date in Python](https://www.pythonprogramming.in/date-time/get-the-day-of-week-from-given-a-date-in-python.html)"
   ]
  },
  {
   "cell_type": "code",
   "execution_count": 10,
   "metadata": {
    "ExecuteTime": {
     "end_time": "2019-09-21T00:22:35.449000Z",
     "start_time": "2019-09-21T00:22:35.424000Z"
    }
   },
   "outputs": [
    {
     "name": "stdout",
     "output_type": "stream",
     "text": [
      "星期: Wednesday\n",
      "weekday(): 2\n",
      "isoweekday() 3\n",
      "Saturday\n",
      "weekday(): 5\n",
      "isoweekday() 6\n"
     ]
    }
   ],
   "source": [
    "# Python's program to get the day of week of today or given date.\n",
    "import datetime\n",
    " \n",
    "dayofweek = datetime.date(2010, 6, 16).strftime(\"%A\")\n",
    "print(\"星期:\", dayofweek)\n",
    "# weekday Monday is 0 and Sunday is 6\n",
    "print(\"weekday():\", datetime.date(2010, 6, 16).weekday())\n",
    " \n",
    "# isoweekday() Monday is 1 and Sunday is 7\n",
    "print(\"isoweekday()\", datetime.date(2010, 6, 16).isoweekday())\n",
    " \n",
    "dayofweek = datetime.datetime.today().strftime(\"%A\")\n",
    "print(dayofweek)\n",
    "print(\"weekday():\", datetime.datetime.today().weekday())\n",
    "print(\"isoweekday()\", datetime.datetime.today().isoweekday())"
   ]
  },
  {
   "cell_type": "markdown",
   "metadata": {},
   "source": [
    "#### 如何计算两个datetime对象之间的时间差?\n",
    "\n",
    "[How to calculate the time difference between two datetime objects?](https://www.pythonprogramming.in/date-time/how-to-calculate-the-time-difference-between-two-datetime-objects.html)"
   ]
  },
  {
   "cell_type": "code",
   "execution_count": 11,
   "metadata": {
    "ExecuteTime": {
     "end_time": "2019-09-21T00:23:44.109000Z",
     "start_time": "2019-09-21T00:23:44.082000Z"
    }
   },
   "outputs": [
    {
     "name": "stdout",
     "output_type": "stream",
     "text": [
      "Difference: 37 days, 0:05:00.518000\n",
      "Days: 37\n",
      "Microseconds: 518000\n",
      "Seconds: 300\n"
     ]
    }
   ],
   "source": [
    "# Python's program to calculate time difference between two datetime objects.\n",
    " \n",
    "import datetime\n",
    "from datetime import timedelta\n",
    " \n",
    "datetimeFormat = '%Y-%m-%d %H:%M:%S.%f'\n",
    "date1 = '2016-04-16 10:01:28.585'\n",
    "date2 = '2016-03-10 09:56:28.067'\n",
    "diff = datetime.datetime.strptime(date1, datetimeFormat)\\\n",
    "    - datetime.datetime.strptime(date2, datetimeFormat)\n",
    "\n",
    "print(\"Difference:\", diff)\n",
    "print(\"Days:\", diff.days)\n",
    "print(\"Microseconds:\", diff.microseconds)\n",
    "print(\"Seconds:\", diff.seconds)"
   ]
  },
  {
   "cell_type": "markdown",
   "metadata": {},
   "source": [
    "#### 将(Unix)时间戳秒转换为日期和时间字符串\n",
    "\n",
    "[Convert (Unix) timestamp seconds to date and time string](https://www.pythonprogramming.in/date-time/convert-unix-timestamp-seconds-to-date-and-time-string.html)"
   ]
  },
  {
   "cell_type": "code",
   "execution_count": 12,
   "metadata": {
    "ExecuteTime": {
     "end_time": "2019-09-21T00:24:43.048000Z",
     "start_time": "2019-09-21T00:24:43.033000Z"
    }
   },
   "outputs": [
    {
     "name": "stdout",
     "output_type": "stream",
     "text": [
      "<class 'str'>\n",
      "Saturday, November 08, 2014 11:56:47\n"
     ]
    }
   ],
   "source": [
    "# Python's program to convert (Unix) timestamp to date and time string.\n",
    "from datetime import datetime\n",
    " \n",
    "dateStr = datetime.fromtimestamp(1415419007).strftime(\"%A, %B %d, %Y %I:%M:%S\")\n",
    "print(type(dateStr))\n",
    "print(dateStr)"
   ]
  },
  {
   "cell_type": "markdown",
   "metadata": {},
   "source": [
    "#### 将数据时间对象转换为Unix(时间戳)\n",
    "\n",
    "[Convert data time object to Unix (time-stamp)](https://www.pythonprogramming.in/date-time/convert-data-time-object-to-unix-time-stamp.html)"
   ]
  },
  {
   "cell_type": "code",
   "execution_count": 13,
   "metadata": {
    "ExecuteTime": {
     "end_time": "2019-09-21T00:25:30.759000Z",
     "start_time": "2019-09-21T00:25:30.752000Z"
    }
   },
   "outputs": [
    {
     "name": "stdout",
     "output_type": "stream",
     "text": [
      "Unix Timestamp:  1444443000.0\n"
     ]
    }
   ],
   "source": [
    "# Python's program to convert datatime object to Unix Timestamp\n",
    " \n",
    "import datetime\n",
    "import time\n",
    " \n",
    "# Saturday, October 10, 2015 10:10:00 AM\n",
    "date_obj = datetime.datetime(2015, 10, 10, 10, 10)\n",
    "print(\"Unix Timestamp: \", (time.mktime(date_obj.timetuple())))"
   ]
  },
  {
   "cell_type": "markdown",
   "metadata": {},
   "source": [
    "#### 在当前日期时间上添加年、月、日、时、分、秒\n",
    "\n",
    "[Add N number of Year, Month, Day, Hour, Minute, Second to current date-time](https://www.pythonprogramming.in/date-time/add-n-number-of-year-month-day-hour-minute-second-to-current-date-time.html)"
   ]
  },
  {
   "cell_type": "code",
   "execution_count": 14,
   "metadata": {
    "ExecuteTime": {
     "end_time": "2019-09-21T00:26:17.034000Z",
     "start_time": "2019-09-21T00:26:16.988000Z"
    }
   },
   "outputs": [
    {
     "name": "stdout",
     "output_type": "stream",
     "text": [
      "Current Date Time: 2019-09-21 08:26:17.029000\n",
      "Add 6 days: 2019-09-27 08:26:17.029000\n",
      "Add 6 months: 2020-03-21 08:26:17.029000\n",
      "Add 6 years: 2025-09-21 08:26:17.029000\n",
      "Add 6 hours: 2019-09-21 14:26:17.029000\n",
      "Add 6 mins: 2019-09-21 08:32:17.029000\n",
      "Add 6 seconds: 2019-09-21 08:26:23.029000\n"
     ]
    }
   ],
   "source": [
    "# Python's program to add N year month day hour min sec to date.\n",
    " \n",
    "import datetime\n",
    "from dateutil.relativedelta import relativedelta\n",
    " \n",
    "add_days = datetime.datetime.today() + relativedelta(days=+6)\n",
    "add_months = datetime.datetime.today() + relativedelta(months=+6)\n",
    "add_years = datetime.datetime.today() + relativedelta(years=+6)\n",
    " \n",
    "add_hours = datetime.datetime.today() + relativedelta(hours=+6)\n",
    "add_mins = datetime.datetime.today() + relativedelta(minutes=+6)\n",
    "add_seconds = datetime.datetime.today() + relativedelta(seconds=+6)\n",
    " \n",
    "print(\"Current Date Time:\", datetime.datetime.today())\n",
    "print(\"Add 6 days:\", add_days)\n",
    "print(\"Add 6 months:\", add_months)\n",
    "print(\"Add 6 years:\", add_years)\n",
    "print(\"Add 6 hours:\", add_hours)\n",
    "print(\"Add 6 mins:\", add_mins)\n",
    "print(\"Add 6 seconds:\", add_seconds)"
   ]
  },
  {
   "cell_type": "markdown",
   "metadata": {},
   "source": [
    "#### 获取指定开始日期和结束日期之间的日期范围\n",
    "\n",
    "[Get range of dates between specified start and end date](https://www.pythonprogramming.in/date-time/get-range-of-dates-between-specified-start-and-end-date.html)"
   ]
  },
  {
   "cell_type": "code",
   "execution_count": 16,
   "metadata": {
    "ExecuteTime": {
     "end_time": "2019-09-21T00:27:43.095000Z",
     "start_time": "2019-09-21T00:27:43.080000Z"
    }
   },
   "outputs": [
    {
     "name": "stdout",
     "output_type": "stream",
     "text": [
      "2019-09-15\n",
      "2019-09-16\n",
      "2019-09-17\n",
      "2019-09-18\n",
      "2019-09-19\n",
      "2019-09-20\n",
      "2019-09-21\n",
      "2019-09-22\n",
      "2019-09-23\n",
      "2019-09-24\n",
      "2019-09-25\n",
      "2019-09-26\n",
      "2019-09-27\n",
      "2019-09-28\n",
      "2019-09-29\n"
     ]
    }
   ],
   "source": [
    "# Python's program to display all dates between two dates.\n",
    "import datetime\n",
    "\n",
    "start = datetime.datetime.strptime(\"2019-09-15\", \"%Y-%m-%d\")\n",
    "end = datetime.datetime.strptime(\"2019-09-30\", \"%Y-%m-%d\")\n",
    "date_array = \\\n",
    "    (start + datetime.timedelta(days=x) for x in range(0, (end-start).days))\n",
    "\n",
    "for date_object in date_array:\n",
    "    print(date_object.strftime(\"%Y-%m-%d\"))"
   ]
  },
  {
   "cell_type": "markdown",
   "metadata": {},
   "source": [
    "#### 用当前日期时间减去年、月、日、时、分、秒\n",
    "\n",
    "[Subtract N number of Year, Month, Day, Hour, Minute, Second to current date-time](https://www.pythonprogramming.in/date-time/subtract-n-number-of-year-month-day-hour-minute-second-to-current-date-time.html)"
   ]
  },
  {
   "cell_type": "code",
   "execution_count": 17,
   "metadata": {
    "ExecuteTime": {
     "end_time": "2019-09-21T00:28:36.712000Z",
     "start_time": "2019-09-21T00:28:36.693000Z"
    }
   },
   "outputs": [
    {
     "name": "stdout",
     "output_type": "stream",
     "text": [
      "Current Date Time: 2019-09-21 08:28:36.708000\n",
      "Subtract 6 days: 2019-09-27 08:26:17.029000\n",
      "Subtract 6 months: 2020-03-21 08:26:17.029000\n",
      "Subtract 6 years: 2025-09-21 08:26:17.029000\n",
      "Subtract 6 hours: 2019-09-21 14:26:17.029000\n",
      "Subtract 6 mins: 2019-09-21 08:32:17.029000\n",
      "Subtract 6 seconds: 2019-09-21 08:26:23.029000\n"
     ]
    }
   ],
   "source": [
    "# Python's program to subtract N year month day hour min sec to date.\n",
    "import datetime\n",
    "from dateutil.relativedelta import relativedelta\n",
    " \n",
    "sub_days = datetime.datetime.today() + relativedelta(days=-6)\n",
    "sub_months = datetime.datetime.today() + relativedelta(months=-6)\n",
    "sub_years = datetime.datetime.today() + relativedelta(years=-6)\n",
    " \n",
    "sub_hours = datetime.datetime.today() + relativedelta(hours=-6)\n",
    "sub_mins = datetime.datetime.today() + relativedelta(minutes=-6)\n",
    "sub_seconds = datetime.datetime.today() + relativedelta(seconds=-6)\n",
    " \n",
    "print(\"Current Date Time:\", datetime.datetime.today())\n",
    "print(\"Subtract 6 days:\", add_days)\n",
    "print(\"Subtract 6 months:\", add_months)\n",
    "print(\"Subtract 6 years:\", add_years)\n",
    "print(\"Subtract 6 hours:\", add_hours)\n",
    "print(\"Subtract 6 mins:\", add_mins)\n",
    "print(\"Subtract 6 seconds:\", add_seconds)"
   ]
  },
  {
   "cell_type": "markdown",
   "metadata": {},
   "source": [
    "从指定的年份和月份中获取每月第一天的工作日和每月的天数\n",
    "\n",
    "[Get weekday of first day of the month and number of days in month, from specified year and month](https://www.pythonprogramming.in/date-time/weekday-of-first-day-of-the-month-and-number-of-days-in-month-for-the-specified-year-and-month.html)"
   ]
  },
  {
   "cell_type": "code",
   "execution_count": 18,
   "metadata": {
    "ExecuteTime": {
     "end_time": "2019-09-21T00:30:16.510000Z",
     "start_time": "2019-09-21T00:30:16.501000Z"
    }
   },
   "outputs": [
    {
     "name": "stdout",
     "output_type": "stream",
     "text": [
      "Year:2002 - Month:2\n",
      "Weekday of first day of the month: 4\n",
      "Number of days in month: 28\n",
      "\n",
      "Year:2010 - Month:5\n",
      "Weekday of first day of the month: 5\n",
      "Number of days in month: 31\n"
     ]
    }
   ],
   "source": [
    "# Python's program to weekday of first day of the month and\n",
    "# number of days in month, for the specified year and month.\n",
    "import calendar\n",
    " \n",
    "print(\"Year:2002 - Month:2\")\n",
    "month_range = calendar.monthrange(2002, 2)\n",
    "print(\"Weekday of first day of the month:\", month_range[0])\n",
    "print(\"Number of days in month:\", month_range[1])\n",
    "print()\n",
    "print(\"Year:2010 - Month:5\")\n",
    "month_range = calendar.monthrange(2010, 5)\n",
    "print(\"Weekday of first day of the month:\", month_range[0])\n",
    "print(\"Number of days in month:\", month_range[1])"
   ]
  },
  {
   "cell_type": "markdown",
   "metadata": {},
   "source": [
    "#### 打印特定年份的所有星期一\n",
    "\n",
    "[Print all Monday's of a specific year](https://www.pythonprogramming.in/date-time/print-all-monday-of-a-specific-year.html)"
   ]
  },
  {
   "cell_type": "code",
   "execution_count": 19,
   "metadata": {
    "ExecuteTime": {
     "end_time": "2019-09-21T00:30:54.818000Z",
     "start_time": "2019-09-21T00:30:54.805000Z"
    }
   },
   "outputs": [
    {
     "name": "stdout",
     "output_type": "stream",
     "text": [
      "2018-01-01\n",
      "2018-01-08\n",
      "2018-01-15\n",
      "2018-01-22\n",
      "2018-01-29\n",
      "2018-02-05\n",
      "2018-02-12\n",
      "2018-02-19\n",
      "2018-02-26\n",
      "2018-03-05\n",
      "2018-03-12\n",
      "2018-03-19\n",
      "2018-03-26\n",
      "2018-04-02\n",
      "2018-04-09\n",
      "2018-04-16\n",
      "2018-04-23\n",
      "2018-04-30\n",
      "2018-05-07\n",
      "2018-05-14\n",
      "2018-05-21\n",
      "2018-05-28\n",
      "2018-06-04\n",
      "2018-06-11\n",
      "2018-06-18\n",
      "2018-06-25\n",
      "2018-07-02\n",
      "2018-07-09\n",
      "2018-07-16\n",
      "2018-07-23\n",
      "2018-07-30\n",
      "2018-08-06\n",
      "2018-08-13\n",
      "2018-08-20\n",
      "2018-08-27\n",
      "2018-09-03\n",
      "2018-09-10\n",
      "2018-09-17\n",
      "2018-09-24\n",
      "2018-10-01\n",
      "2018-10-08\n",
      "2018-10-15\n",
      "2018-10-22\n",
      "2018-10-29\n",
      "2018-11-05\n",
      "2018-11-12\n",
      "2018-11-19\n",
      "2018-11-26\n",
      "2018-12-03\n",
      "2018-12-10\n",
      "2018-12-17\n",
      "2018-12-24\n",
      "2018-12-31\n"
     ]
    }
   ],
   "source": [
    "# Python's program to print all Monday's of a specific year\n",
    "from datetime import date, timedelta\n",
    " \n",
    "year = 2018\n",
    "date_object = date(year, 1, 1)\n",
    "date_object += timedelta(days=1-date_object.isoweekday())\n",
    " \n",
    "while date_object.year == year:\n",
    "    print(date_object)\n",
    "    date_object += timedelta(days=7)"
   ]
  },
  {
   "cell_type": "markdown",
   "metadata": {},
   "source": [
    "#### 打印特定年份的日历\n",
    "\n",
    "[Print calendar of specific year](https://www.pythonprogramming.in/date-time/print-calendar-of-current-year.html)"
   ]
  },
  {
   "cell_type": "code",
   "execution_count": 20,
   "metadata": {
    "ExecuteTime": {
     "end_time": "2019-09-21T00:31:39.193000Z",
     "start_time": "2019-09-21T00:31:39.186000Z"
    }
   },
   "outputs": [
    {
     "name": "stdout",
     "output_type": "stream",
     "text": [
      "                   2019\n",
      "\n",
      "      January               February\n",
      "Mo Tu We Th Fr Sa Su  Mo Tu We Th Fr Sa Su\n",
      "    1  2  3  4  5  6               1  2  3\n",
      " 7  8  9 10 11 12 13   4  5  6  7  8  9 10\n",
      "14 15 16 17 18 19 20  11 12 13 14 15 16 17\n",
      "21 22 23 24 25 26 27  18 19 20 21 22 23 24\n",
      "28 29 30 31           25 26 27 28\n",
      "\n",
      "       March                 April\n",
      "Mo Tu We Th Fr Sa Su  Mo Tu We Th Fr Sa Su\n",
      "             1  2  3   1  2  3  4  5  6  7\n",
      " 4  5  6  7  8  9 10   8  9 10 11 12 13 14\n",
      "11 12 13 14 15 16 17  15 16 17 18 19 20 21\n",
      "18 19 20 21 22 23 24  22 23 24 25 26 27 28\n",
      "25 26 27 28 29 30 31  29 30\n",
      "\n",
      "        May                   June\n",
      "Mo Tu We Th Fr Sa Su  Mo Tu We Th Fr Sa Su\n",
      "       1  2  3  4  5                  1  2\n",
      " 6  7  8  9 10 11 12   3  4  5  6  7  8  9\n",
      "13 14 15 16 17 18 19  10 11 12 13 14 15 16\n",
      "20 21 22 23 24 25 26  17 18 19 20 21 22 23\n",
      "27 28 29 30 31        24 25 26 27 28 29 30\n",
      "\n",
      "        July                 August\n",
      "Mo Tu We Th Fr Sa Su  Mo Tu We Th Fr Sa Su\n",
      " 1  2  3  4  5  6  7            1  2  3  4\n",
      " 8  9 10 11 12 13 14   5  6  7  8  9 10 11\n",
      "15 16 17 18 19 20 21  12 13 14 15 16 17 18\n",
      "22 23 24 25 26 27 28  19 20 21 22 23 24 25\n",
      "29 30 31              26 27 28 29 30 31\n",
      "\n",
      "     September              October\n",
      "Mo Tu We Th Fr Sa Su  Mo Tu We Th Fr Sa Su\n",
      "                   1      1  2  3  4  5  6\n",
      " 2  3  4  5  6  7  8   7  8  9 10 11 12 13\n",
      " 9 10 11 12 13 14 15  14 15 16 17 18 19 20\n",
      "16 17 18 19 20 21 22  21 22 23 24 25 26 27\n",
      "23 24 25 26 27 28 29  28 29 30 31\n",
      "30\n",
      "\n",
      "      November              December\n",
      "Mo Tu We Th Fr Sa Su  Mo Tu We Th Fr Sa Su\n",
      "             1  2  3                     1\n",
      " 4  5  6  7  8  9 10   2  3  4  5  6  7  8\n",
      "11 12 13 14 15 16 17   9 10 11 12 13 14 15\n",
      "18 19 20 21 22 23 24  16 17 18 19 20 21 22\n",
      "25 26 27 28 29 30     23 24 25 26 27 28 29\n",
      "                      30 31\n",
      "\n"
     ]
    }
   ],
   "source": [
    "# Python's program to print calendar of specific year.\n",
    " \n",
    "import calendar\n",
    "cal_display = calendar.TextCalendar(calendar.MONDAY)\n",
    "# Year: 2019\n",
    "# Column width: 1\n",
    "# Lines per week: 1 \n",
    "# Number of spaces between month columns: 0\n",
    "# No. of months per column: 2\n",
    "print(cal_display.formatyear(2019, 1, 1, 0, 2))"
   ]
  },
  {
   "cell_type": "markdown",
   "metadata": {},
   "source": [
    "#### 如何从月号中得到月名?\n",
    "\n",
    "[How I can get the month name from the month number?](https://www.pythonprogramming.in/date-time/how-can-i-get-the-month-name-from-the-month-number.html)"
   ]
  },
  {
   "cell_type": "code",
   "execution_count": 21,
   "metadata": {
    "ExecuteTime": {
     "end_time": "2019-09-21T00:32:38.451000Z",
     "start_time": "2019-09-21T00:32:38.417000Z"
    }
   },
   "outputs": [
    {
     "name": "stdout",
     "output_type": "stream",
     "text": [
      "Month name from number 5:\n",
      "Short Name: Jan\n",
      "Full  Name: January\n",
      "\n",
      "List of all months from calendar\n",
      "Jan - January\n",
      "Feb - February\n",
      "Mar - March\n",
      "Apr - April\n",
      "May - May\n",
      "Jun - June\n",
      "Jul - July\n",
      "Aug - August\n",
      "Sep - September\n",
      "Oct - October\n",
      "Nov - November\n",
      "Dec - December\n"
     ]
    }
   ],
   "source": [
    "# Python's program to get the month name from the month number\n",
    "import calendar\n",
    "import datetime\n",
    " \n",
    "# Month name from number\n",
    "print(\"Month name from number 5:\")\n",
    "month_num = 1\n",
    "month_abre = datetime.date(2015, month_num, 1).strftime('%b')\n",
    "month_name = datetime.date(2015, month_num, 1).strftime('%B')\n",
    "print(\"Short Name:\", month_abre)\n",
    "print(\"Full  Name:\", month_name)\n",
    " \n",
    "print(\"\\nList of all months from calendar\")\n",
    "# Print list of all months from calendar\n",
    "for month_val in range(1, 13):\n",
    "    print(calendar.month_abbr[month_val], \"-\", calendar.month_name[month_val])"
   ]
  },
  {
   "cell_type": "markdown",
   "metadata": {},
   "source": [
    "#### 如何开始和结束一个星期的日期从一个给定的日期?\n",
    "\n",
    "[How to get start and end of date of a week from a given date?](https://www.pythonprogramming.in/date-time/how-to-get-start-and-end-of-week-data-from-a-given-date.html)"
   ]
  },
  {
   "cell_type": "code",
   "execution_count": 22,
   "metadata": {
    "ExecuteTime": {
     "end_time": "2019-09-21T00:33:23.779000Z",
     "start_time": "2019-09-21T00:33:23.771000Z"
    }
   },
   "outputs": [
    {
     "name": "stdout",
     "output_type": "stream",
     "text": [
      "2018-01-08 00:00:00\n",
      "2018-01-14 00:00:00\n"
     ]
    }
   ],
   "source": [
    "# Python's program to get start and end of week\n",
    "from datetime import datetime, timedelta\n",
    " \n",
    "date_str = '2018-01-14'\n",
    "date_obj = datetime.strptime(date_str, '%Y-%m-%d')\n",
    " \n",
    "start_of_week = date_obj - timedelta(days=date_obj.weekday())  # Monday\n",
    "end_of_week = start_of_week + timedelta(days=6)  # Sunday\n",
    "print(start_of_week)\n",
    "print(end_of_week)"
   ]
  },
  {
   "cell_type": "markdown",
   "metadata": {},
   "source": [
    "#### 根据当前日期查找前一个和下一个星期一的日期\n",
    "\n",
    "[Find the previous and coming Monday's date, based on current date](https://www.pythonprogramming.in/date-time/find-the-previous-and-coming-monday-s-date-based-on-current-date.html)"
   ]
  },
  {
   "cell_type": "code",
   "execution_count": 23,
   "metadata": {
    "ExecuteTime": {
     "end_time": "2019-09-21T00:34:07.333000Z",
     "start_time": "2019-09-21T00:34:07.310000Z"
    }
   },
   "outputs": [
    {
     "name": "stdout",
     "output_type": "stream",
     "text": [
      "Today: 2019-09-21\n",
      "Last Monday: 2019-09-16\n",
      "Coming Monday: 2019-09-23\n"
     ]
    }
   ],
   "source": [
    "# Python's program to get last and coming Monday\n",
    "import datetime\n",
    " \n",
    "today = datetime.date.today()\n",
    "last_monday = today - datetime.timedelta(days=today.weekday())\n",
    "coming_monday = today + datetime.timedelta(days=-today.weekday(), weeks=1)\n",
    "print(\"Today:\", today)\n",
    "print(\"Last Monday:\", last_monday)\n",
    "print(\"Coming Monday:\", coming_monday)"
   ]
  },
  {
   "cell_type": "markdown",
   "metadata": {},
   "source": [
    "#### 获取当前季度的第一个日期和最后一个日期\n",
    "\n",
    "[Get First Date and Last Date of Current Quarter](https://www.pythonprogramming.in/date-time/get-first-date-and-last-date-of-current-quarter.html)"
   ]
  },
  {
   "cell_type": "code",
   "execution_count": 26,
   "metadata": {
    "ExecuteTime": {
     "end_time": "2019-09-21T00:37:42.972000Z",
     "start_time": "2019-09-21T00:37:42.964000Z"
    }
   },
   "outputs": [
    {
     "name": "stdout",
     "output_type": "stream",
     "text": [
      "First Day of Quarter: 2019-07-01 00:00:00\n",
      "Last Day of Quarter: 2019-09-30 00:00:00\n"
     ]
    }
   ],
   "source": [
    "# Python's program to get first and last day of Current Quarter Year\n",
    "from datetime import datetime, timedelta\n",
    "\n",
    "current_date = datetime.now()\n",
    "current_quarter = round((current_date.month - 1) // 3 + 1)  # 使用整除//,3个月一个季度\n",
    "first_date = datetime(current_date.year, 3 * current_quarter - 2, 1)\n",
    "last_date = datetime(current_date.year, 3 * current_quarter + 1, 1) + timedelta(days=-1)\n",
    "\n",
    "print(\"First Day of Quarter:\", first_date)\n",
    "print(\"Last Day of Quarter:\", last_date)"
   ]
  },
  {
   "cell_type": "code",
   "execution_count": null,
   "metadata": {
    "collapsed": true
   },
   "outputs": [],
   "source": []
  }
 ],
 "metadata": {
  "kernelspec": {
   "display_name": "Python 3",
   "language": "python",
   "name": "python3"
  },
  "language_info": {
   "codemirror_mode": {
    "name": "ipython",
    "version": 3
   },
   "file_extension": ".py",
   "mimetype": "text/x-python",
   "name": "python",
   "nbconvert_exporter": "python",
   "pygments_lexer": "ipython3",
   "version": "3.6.2"
  },
  "toc": {
   "base_numbering": 1,
   "nav_menu": {},
   "number_sections": true,
   "sideBar": true,
   "skip_h1_title": false,
   "title_cell": "Table of Contents",
   "title_sidebar": "Contents",
   "toc_cell": false,
   "toc_position": {},
   "toc_section_display": true,
   "toc_window_display": false
  },
  "varInspector": {
   "cols": {
    "lenName": 16,
    "lenType": 16,
    "lenVar": 40
   },
   "kernels_config": {
    "python": {
     "delete_cmd_postfix": "",
     "delete_cmd_prefix": "del ",
     "library": "var_list.py",
     "varRefreshCmd": "print(var_dic_list())"
    },
    "r": {
     "delete_cmd_postfix": ") ",
     "delete_cmd_prefix": "rm(",
     "library": "var_list.r",
     "varRefreshCmd": "cat(var_dic_list()) "
    }
   },
   "types_to_exclude": [
    "module",
    "function",
    "builtin_function_or_method",
    "instance",
    "_Feature"
   ],
   "window_display": false
  }
 },
 "nbformat": 4,
 "nbformat_minor": 2
}
