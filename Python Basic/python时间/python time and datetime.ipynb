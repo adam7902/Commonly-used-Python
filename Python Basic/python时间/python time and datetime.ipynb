{
 "cells": [
  {
   "cell_type": "markdown",
   "metadata": {},
   "source": [
    "### Python3时间日期"
   ]
  },
  {
   "cell_type": "markdown",
   "metadata": {},
   "source": [
    "[Python3 日期和时间](https://www.runoob.com/python3/python3-date-time.html)\n",
    "\n",
    "Python 程序能用很多方式处理日期和时间，转换日期格式是一个常见的功能。\n",
    "\n",
    "Python 提供了一个 time 和 calendar 模块可以用于格式化日期和时间。\n",
    "\n",
    "时间间隔是以秒为单位的浮点小数。\n",
    "\n",
    "每个时间戳都以自从1970年1月1日午夜（历元）经过了多长时间来表示。\n",
    "\n",
    "Python 的 time 模块下有很多函数可以转换常见日期格式。如函数time.time()用于获取当前时间戳, 如下实例:"
   ]
  },
  {
   "cell_type": "code",
   "execution_count": 1,
   "metadata": {
    "ExecuteTime": {
     "end_time": "2019-09-19T07:07:28.042000Z",
     "start_time": "2019-09-19T07:07:28.037000Z"
    }
   },
   "outputs": [
    {
     "name": "stdout",
     "output_type": "stream",
     "text": [
      "当前时间戳为: 1568876848.039\n"
     ]
    }
   ],
   "source": [
    "import time;  # 引入time模块\n",
    "\n",
    "ticks = time.time()\n",
    "print (\"当前时间戳为:\", ticks)"
   ]
  },
  {
   "cell_type": "markdown",
   "metadata": {},
   "source": [
    "时间戳单位最适于做日期运算。但是1970年之前的日期就无法以此表示了。太遥远的日期也不行，UNIX和Windows只支持到2038年。"
   ]
  },
  {
   "cell_type": "markdown",
   "metadata": {},
   "source": [
    "#### 什么是时间元组？\n",
    "很多Python函数用一个元组装起来的9组数字处理时间:"
   ]
  },
  {
   "cell_type": "markdown",
   "metadata": {},
   "source": [
    "|序号 |字段\t|值 |\n",
    "|----|----|----|\n",
    "|0\t|4位数年\t|2008|\n",
    "|1\t|月\t|1 到 12|\n",
    "|2\t|日\t|1到31|\n",
    "|3\t|小时\t|0到23|\n",
    "|4\t|分钟\t|0到59|\n",
    "|5\t|秒\t|0到61 (60或61 是闰秒)|\n",
    "|6\t|一周的第几日\t|0到6 (0是周一)|\n",
    "|7\t|一年的第几日\t|1到366 (儒略历)|\n",
    "|8\t|夏令时\t|-1, 0, 1, -1是决定是否为夏令时的旗帜|"
   ]
  },
  {
   "cell_type": "markdown",
   "metadata": {},
   "source": [
    "上述也就是struct_time元组。这种结构具有如下属性：\n",
    "\n",
    "|序号\t|属性\t|值|\n",
    "|----|----|----|\n",
    "|0\t|tm_year\t|2008\n",
    "|1\t|tm_mon\t|1 到 12\n",
    "|2\t|tm_mday\t|1 到 31\n",
    "|3\t|tm_hour\t|0 到 23\n",
    "|4\t|tm_min\t|0 到 59\n",
    "|5\t|tm_sec\t|0 到 61 (60或61 是闰秒)\n",
    "|6\t|tm_wday\t|0到6 (0是周一)\n",
    "|7\t|tm_yday\t|一年中的第几天，1 到 366\n",
    "|8\t|tm_isdst\t|是否为夏令时，值有：1(夏令时)、0(不是夏令时)、-1(未知)，默认 -1"
   ]
  },
  {
   "cell_type": "markdown",
   "metadata": {},
   "source": [
    "#### 获取当前时间  time.localtime()"
   ]
  },
  {
   "cell_type": "markdown",
   "metadata": {},
   "source": [
    "从返回浮点数的时间戳方式向时间元组转换，只要将浮点数传递给如localtime之类的函数。"
   ]
  },
  {
   "cell_type": "code",
   "execution_count": 2,
   "metadata": {
    "ExecuteTime": {
     "end_time": "2019-09-19T07:18:28.368000Z",
     "start_time": "2019-09-19T07:18:28.357000Z"
    }
   },
   "outputs": [
    {
     "name": "stdout",
     "output_type": "stream",
     "text": [
      "本地时间为 : time.struct_time(tm_year=2019, tm_mon=9, tm_mday=19, tm_hour=15, tm_min=18, tm_sec=28, tm_wday=3, tm_yday=262, tm_isdst=0)\n"
     ]
    }
   ],
   "source": [
    "import time\n",
    "\n",
    "localtime = time.localtime(time.time())\n",
    "print (\"本地时间为 :\", localtime)"
   ]
  },
  {
   "cell_type": "markdown",
   "metadata": {},
   "source": [
    "#### 获取格式化的时间  time.asctime()\n",
    "你可以根据需求选取各种格式，但是最简单的获取可读的时间模式的函数是asctime():"
   ]
  },
  {
   "cell_type": "code",
   "execution_count": 3,
   "metadata": {
    "ExecuteTime": {
     "end_time": "2019-09-19T07:19:07.320000Z",
     "start_time": "2019-09-19T07:19:07.308000Z"
    }
   },
   "outputs": [
    {
     "name": "stdout",
     "output_type": "stream",
     "text": [
      "本地时间为 : Thu Sep 19 15:19:07 2019\n"
     ]
    }
   ],
   "source": [
    "import time\n",
    "\n",
    "localtime = time.asctime( time.localtime(time.time()) )\n",
    "print (\"本地时间为 :\", localtime)"
   ]
  },
  {
   "cell_type": "markdown",
   "metadata": {},
   "source": [
    "#### 格式化日期  time.strftime()\n",
    "我们可以使用 time 模块的 strftime 方法来格式化日期，：\n",
    "\n",
    "    time.strftime(format[, t])"
   ]
  },
  {
   "cell_type": "code",
   "execution_count": 4,
   "metadata": {
    "ExecuteTime": {
     "end_time": "2019-09-19T07:21:18.013000Z",
     "start_time": "2019-09-19T07:21:17.993000Z"
    }
   },
   "outputs": [
    {
     "name": "stdout",
     "output_type": "stream",
     "text": [
      "2019-09-19 15:21:18\n",
      "Thu Sep 19 15:21:18 2019\n",
      "1459175064.0\n"
     ]
    }
   ],
   "source": [
    "import time\n",
    "\n",
    "# 格式化成2016-03-20 11:45:39形式\n",
    "print (time.strftime(\"%Y-%m-%d %H:%M:%S\", time.localtime()))\n",
    "\n",
    "# 格式化成Sat Mar 28 22:24:24 2016形式\n",
    "print (time.strftime(\"%a %b %d %H:%M:%S %Y\", time.localtime()))\n",
    "  \n",
    "# 将格式字符串转换为时间戳\n",
    "a = \"Sat Mar 28 22:24:24 2016\"\n",
    "print (time.mktime(time.strptime(a,\"%a %b %d %H:%M:%S %Y\")))"
   ]
  },
  {
   "cell_type": "markdown",
   "metadata": {},
   "source": [
    "python中时间日期格式化符号：\n",
    "\n",
    "    %y 两位数的年份表示（00-99）\n",
    "    %Y 四位数的年份表示（000-9999）\n",
    "    %m 月份（01-12）\n",
    "    %d 月内中的一天（0-31）\n",
    "    %H 24小时制小时数（0-23）\n",
    "    %I 12小时制小时数（01-12）\n",
    "    %M 分钟数（00=59）\n",
    "    %S 秒（00-59）\n",
    "    %a 本地简化星期名称\n",
    "    %A 本地完整星期名称\n",
    "    %b 本地简化的月份名称\n",
    "    %B 本地完整的月份名称\n",
    "    %c 本地相应的日期表示和时间表示\n",
    "    %j 年内的一天（001-366）\n",
    "    %p 本地A.M.或P.M.的等价符\n",
    "    %U 一年中的星期数（00-53）星期天为星期的开始\n",
    "    %w 星期（0-6），星期天为星期的开始\n",
    "    %W 一年中的星期数（00-53）星期一为星期的开始\n",
    "    %x 本地相应的日期表示\n",
    "    %X 本地相应的时间表示\n",
    "    %Z 当前时区的名称\n",
    "    %% %号本身"
   ]
  },
  {
   "cell_type": "markdown",
   "metadata": {},
   "source": [
    "#### 获取某月日历\n",
    "Calendar模块有很广泛的方法用来处理年历和月历，例如打印某月的月历："
   ]
  },
  {
   "cell_type": "code",
   "execution_count": 5,
   "metadata": {
    "ExecuteTime": {
     "end_time": "2019-09-19T07:22:11.427000Z",
     "start_time": "2019-09-19T07:22:11.421000Z"
    }
   },
   "outputs": [
    {
     "name": "stdout",
     "output_type": "stream",
     "text": [
      "以下输出2016年1月份的日历:\n",
      "    January 2016\n",
      "Mo Tu We Th Fr Sa Su\n",
      "             1  2  3\n",
      " 4  5  6  7  8  9 10\n",
      "11 12 13 14 15 16 17\n",
      "18 19 20 21 22 23 24\n",
      "25 26 27 28 29 30 31\n",
      "\n"
     ]
    }
   ],
   "source": [
    "import calendar\n",
    "\n",
    "cal = calendar.month(2016, 1)\n",
    "print (\"以下输出2016年1月份的日历:\")\n",
    "print (cal)"
   ]
  },
  {
   "cell_type": "markdown",
   "metadata": {},
   "source": [
    "#### Time 模块\n",
    "Time 模块包含了以下内置函数，既有时间处理的，也有转换时间格式的："
   ]
  },
  {
   "cell_type": "markdown",
   "metadata": {},
   "source": [
    "1-time.altzone\n",
    "\n",
    "返回格林威治西部的夏令时地区的偏移秒数。如果该地区在格林威治东部会返回负值（如西欧，包括英国）。对夏令时启用地区才能使用。\t\n",
    "以下实例展示了 altzone()函数的使用方法：\n",
    "\n",
    "    >>> import time\n",
    "    >>> print (\"time.altzone %d \" % time.altzone)\n",
    "    time.altzone -28800 \n",
    "\n",
    "2\ttime.asctime([tupletime])\n",
    "\n",
    "接受时间元组并返回一个可读的形式为\"Tue Dec 11 18:07:14 2008\"（2008年12月11日 周二18时07分14秒）的24个字符的字符串。\t\n",
    "以下实例展示了 asctime()函数的使用方法：\n",
    "\n",
    "    >>> import time\n",
    "    >>> t = time.localtime()\n",
    "    >>> print (\"time.asctime(t): %s \" % time.asctime(t))\n",
    "    time.asctime(t): Thu Apr  7 10:36:20 2016 \n",
    "            \n",
    "3\ttime.clock()\n",
    "\n",
    "用以浮点数计算的秒数返回当前的CPU时间。用来衡量不同程序的耗时，比time.time()更有用。\t\n",
    "实例\n",
    "\n",
    "由于该方法依赖操作系统，在 Python 3.3 以后不被推荐，而在 3.8 版本中被移除，需使用下列两个函数替代。\n",
    "\n",
    "    time.perf_counter()  # 返回系统运行时间\n",
    "    time.process_time()  # 返回进程运行时间\n",
    "\n",
    "4\ttime.ctime([secs])\n",
    "\n",
    "作用相当于asctime(localtime(secs))，未给参数相当于asctime()\t\n",
    "以下实例展示了 ctime()函数的使用方法：\n",
    "\n",
    "    >>> import time\n",
    "    >>> print (\"time.ctime() : %s\" % time.ctime())\n",
    "    time.ctime() : Thu Apr  7 10:51:58 2016\n",
    "            \n",
    "5\ttime.gmtime([secs])\n",
    "\n",
    "接收时间戳（1970纪元后经过的浮点秒数）并返回格林威治天文时间下的时间元组t。注：t.tm_isdst始终为0\t\n",
    "以下实例展示了 gmtime()函数的使用方法：\n",
    "\n",
    "    >>> import time\n",
    "    >>> print (\"gmtime :\", time.gmtime(1455508609.34375))\n",
    "    gmtime : time.struct_time(tm_year=2016, tm_mon=2, tm_mday=15, tm_hour=3, tm_min=56, tm_sec=49, tm_wday=0, tm_yday=46, tm_isdst=0)\n",
    "\n",
    "6\ttime.localtime([secs]\n",
    "                   \n",
    "接收时间戳（1970纪元后经过的浮点秒数）并返回当地时间下的时间元组t（t.tm_isdst可取0或1，取决于当地当时是不是夏令时）。\t\n",
    "以下实例展示了 localtime()函数的使用方法：\n",
    "\n",
    "    >>> import time\n",
    "    >>> print (\"localtime(): \", time.localtime(1455508609.34375))\n",
    "    localtime():  time.struct_time(tm_year=2016, tm_mon=2, tm_mday=15, tm_hour=11, tm_min=56, tm_sec=49, tm_wday=0, tm_yday=46, tm_isdst=0)\n",
    "\n",
    "7\ttime.mktime(tupletime)\n",
    "                   \n",
    "接受时间元组并返回时间戳（1970纪元后经过的浮点秒数）。\n",
    "                   \n",
    "8\ttime.sleep(secs)\n",
    "                   \n",
    "推迟调用线程的运行，secs指秒数。\t\n",
    "以下实例展示了 sleep()函数的使用方法：\n",
    "\n",
    "    #!/usr/bin/python3\n",
    "    import time\n",
    "\n",
    "    print (\"Start : %s\" % time.ctime())\n",
    "    time.sleep( 5 )\n",
    "    print (\"End : %s\" % time.ctime())\n",
    "                   \n",
    "9\ttime.strftime(fmt[,tupletime])\n",
    "                   \n",
    "接收以时间元组，并返回以可读字符串表示的当地时间，格式由fmt决定。\t\n",
    "                   \n",
    "以下实例展示了 strftime()函数的使用方法：\n",
    "\n",
    "    >>> import time\n",
    "    >>> print (time.strftime(\"%Y-%m-%d %H:%M:%S\", time.localtime()))\n",
    "    2016-04-07 11:18:05\n",
    "                   \n",
    "10\ttime.strptime(str,fmt='%a %b %d %H:%M:%S %Y')\n",
    "                   \n",
    "根据fmt的格式把一个时间字符串解析为时间元组。\t\n",
    "以下实例展示了 strptime()函数的使用方法：\n",
    "\n",
    "    >>> import time\n",
    "    >>> struct_time = time.strptime(\"30 Nov 00\", \"%d %b %y\")\n",
    "    >>> print (\"返回元组: \", struct_time)\n",
    "    返回元组:  time.struct_time(tm_year=2000, tm_mon=11, tm_mday=30, tm_hour=0, tm_min=0, tm_sec=0, tm_wday=3, tm_yday=335, tm_isdst=-1)\n",
    "\n",
    "11\ttime.time( )\n",
    "                   \n",
    "返回当前时间的时间戳（1970纪元后经过的浮点秒数）。\t\n",
    "以下实例展示了 time()函数的使用方法：\n",
    "\n",
    "    >>> import time\n",
    "    >>> print(time.time())\n",
    "    1459999336.1963577\n",
    "                   \n",
    "12\ttime.tzset()\n",
    "                   \n",
    "根据环境变量TZ重新初始化时间相关设置。\n",
    "                   \n",
    "13\ttime.perf_counter()\n",
    "                   \n",
    "返回计时器的精准时间（系统的运行时间），包含整个系统的睡眠时间。由于返回值的基准点是未定义的，所以，只有连续调用的结果之间的差才是有效的。\t实例\n",
    "\n",
    "14\ttime.process_time()\n",
    "返回当前进程执行 CPU 的时间总和，不包含睡眠时间。由于返回值的基准点是未定义的，所以，只有连续调用的结果之间的差才是有效的。\t "
   ]
  },
  {
   "cell_type": "markdown",
   "metadata": {},
   "source": [
    "Time模块包含了以下2个非常重要的属性：\n",
    "\n",
    "1\ttime.timezone\n",
    "\n",
    "属性time.timezone是当地时区（未启动夏令时）距离格林威治的偏移秒数（>0，美洲;<=0大部分欧洲，亚洲，非洲）。\n",
    "\n",
    "2\ttime.tzname\n",
    "\n",
    "属性time.tzname包含一对根据情况的不同而不同的字符串，分别是带夏令时的本地时区名称，和不带的。"
   ]
  },
  {
   "cell_type": "markdown",
   "metadata": {},
   "source": [
    "#### 日历（Calendar）模块\n",
    "此模块的函数都是日历相关的，例如打印某月的字符月历。\n",
    "\n",
    "星期一是默认的每周第一天，星期天是默认的最后一天。更改设置需调用calendar.setfirstweekday()函数。模块包含了以下内置函数："
   ]
  },
  {
   "cell_type": "markdown",
   "metadata": {},
   "source": [
    "1\tcalendar.calendar(year,w=2,l=1,c=6)\n",
    "\n",
    "返回一个多行字符串格式的year年年历，3个月一行，间隔距离为c。 每日宽度间隔为w字符。每行长度为21* W+18+2* C。l是每星期行数。\n",
    "\n",
    "2\tcalendar.firstweekday( )\n",
    "\n",
    "返回当前每周起始日期的设置。默认情况下，首次载入caendar模块时返回0，即星期一。\n",
    "\n",
    "3\tcalendar.isleap(year)\n",
    "\n",
    "是闰年返回 True，否则为 false。\n",
    "\n",
    "    >>> import calendar\n",
    "    >>> print(calendar.isleap(2000))\n",
    "    True\n",
    "    >>> print(calendar.isleap(1900))\n",
    "    False\n",
    "    \n",
    "4\tcalendar.leapdays(y1,y2)\n",
    "\n",
    "返回在Y1，Y2两年之间的闰年总数。\n",
    "\n",
    "5\tcalendar.month(year,month,w=2,l=1)\n",
    "\n",
    "返回一个多行字符串格式的year年month月日历，两行标题，一周一行。每日宽度间隔为w字符。每行的长度为7* w+6。l是每星期的行数。\n",
    "\n",
    "6\tcalendar.monthcalendar(year,month)\n",
    "\n",
    "返回一个整数的单层嵌套列表。每个子列表装载代表一个星期的整数。Year年month月外的日期都设为0;范围内的日子都由该月第几日表示，从1开始。\n",
    "\n",
    "7\tcalendar.monthrange(year,month)\n",
    "\n",
    "返回两个整数。第一个是该月的星期几，第二个是该月有几天。星期几是从0（星期一）到 6（星期日）。\n",
    "\n",
    "    >>> import calendar\n",
    "    >>> calendar.monthrange(2014, 11)\n",
    "    (5, 30)\n",
    "    (5, 30)解释：5 表示 2014 年 11 月份的第一天是周六，30 表示 2014 年 11 月份总共有 30 天。\n",
    "\n",
    "8\tcalendar.prcal(year,w=2,l=1,c=6)\n",
    "\n",
    "相当于 print calendar.calendar(year,w,l,c).\n",
    "\n",
    "9\tcalendar.prmonth(year,month,w=2,l=1)\n",
    "\n",
    "相当于 print calendar.calendar（year，w，l，c）。\n",
    "\n",
    "10\tcalendar.setfirstweekday(weekday)\n",
    "\n",
    "设置每周的起始日期码。0（星期一）到6（星期日）。\n",
    "\n",
    "11\tcalendar.timegm(tupletime)\n",
    "\n",
    "和time.gmtime相反：接受一个时间元组形式，返回该时刻的时间戳（1970纪元后经过的浮点秒数）。\n",
    "\n",
    "12\tcalendar.weekday(year,month,day)\n",
    "\n",
    "返回给定日期的日期码。0（星期一）到6（星期日）。月份为 1（一月） 到 12（12月）。"
   ]
  },
  {
   "cell_type": "markdown",
   "metadata": {},
   "source": [
    "[time 模块](https://docs.python.org/3/library/time.html)\n",
    "\n",
    "[datetime模块](https://docs.python.org/3/library/datetime.html)"
   ]
  },
  {
   "cell_type": "markdown",
   "metadata": {},
   "source": [
    "#### [Python时间模块——time模块](https://finthon.com/python-time/)"
   ]
  },
  {
   "cell_type": "markdown",
   "metadata": {
    "ExecuteTime": {
     "end_time": "2019-09-19T07:48:42.511000Z",
     "start_time": "2019-09-19T07:48:42.502000Z"
    }
   },
   "source": [
    "time模块中常用的函数可以总结成下图，基本上就是三者如何转换：\n",
    "\n",
    "<img src=\"https://finthon.com/wp-content/uploads/2018/10/%E6%97%B6%E9%97%B41-1024x583.png\" alt=\"tuple\" width=\"500\"/>"
   ]
  },
  {
   "cell_type": "markdown",
   "metadata": {},
   "source": [
    "##### time.gmtime()\n",
    "该函数和localtime()的功能一样，只是它返回的时间是格林威治天文时间（UTC），也就是世界标准时间。中国时间为UTC+8。"
   ]
  },
  {
   "cell_type": "code",
   "execution_count": 8,
   "metadata": {
    "ExecuteTime": {
     "end_time": "2019-09-19T07:53:15.684000Z",
     "start_time": "2019-09-19T07:53:15.671000Z"
    }
   },
   "outputs": [
    {
     "name": "stdout",
     "output_type": "stream",
     "text": [
      "time.struct_time(tm_year=2019, tm_mon=9, tm_mday=19, tm_hour=7, tm_min=53, tm_sec=15, tm_wday=3, tm_yday=262, tm_isdst=0)\n",
      "time.struct_time(tm_year=2019, tm_mon=9, tm_mday=19, tm_hour=15, tm_min=53, tm_sec=15, tm_wday=3, tm_yday=262, tm_isdst=0)\n"
     ]
    }
   ],
   "source": [
    "import time\n",
    "print(time.gmtime())\n",
    "print(time.localtime())"
   ]
  },
  {
   "cell_type": "markdown",
   "metadata": {},
   "source": [
    "##### time.mktime()\n",
    "该函数将一个元组转换成时间戳。"
   ]
  },
  {
   "cell_type": "code",
   "execution_count": 10,
   "metadata": {
    "ExecuteTime": {
     "end_time": "2019-09-19T07:54:10.200000Z",
     "start_time": "2019-09-19T07:54:10.193000Z"
    }
   },
   "outputs": [
    {
     "name": "stdout",
     "output_type": "stream",
     "text": [
      "1568879650.0\n"
     ]
    }
   ],
   "source": [
    "import time\n",
    "print(time.mktime(time.localtime()))"
   ]
  },
  {
   "cell_type": "markdown",
   "metadata": {},
   "source": [
    "##### time.sleep()\n",
    "该函数能让程序线程暂停休息，传入几秒，休息几秒。"
   ]
  },
  {
   "cell_type": "code",
   "execution_count": 11,
   "metadata": {
    "ExecuteTime": {
     "end_time": "2019-09-19T07:54:50.075000Z",
     "start_time": "2019-09-19T07:54:47.070000Z"
    }
   },
   "outputs": [
    {
     "name": "stdout",
     "output_type": "stream",
     "text": [
      "1568879687.072\n",
      "1568879690.073\n"
     ]
    }
   ],
   "source": [
    "import time\n",
    "print(time.time())\n",
    "time.sleep(3)  # 延迟3秒\n",
    "print(time.time())"
   ]
  },
  {
   "cell_type": "markdown",
   "metadata": {},
   "source": [
    "##### time.asctime()\n",
    "该函数将一个元组转换成格式化时间。如果没有传入参数，默认传入time.localtime()。"
   ]
  },
  {
   "cell_type": "code",
   "execution_count": 12,
   "metadata": {
    "ExecuteTime": {
     "end_time": "2019-09-19T07:55:56.254000Z",
     "start_time": "2019-09-19T07:55:56.248000Z"
    }
   },
   "outputs": [
    {
     "name": "stdout",
     "output_type": "stream",
     "text": [
      "Thu Sep 19 15:55:56 2019\n"
     ]
    }
   ],
   "source": [
    "import time\n",
    "print(time.asctime())"
   ]
  },
  {
   "cell_type": "markdown",
   "metadata": {},
   "source": [
    "##### time.ctime()\n",
    "该函数将一个时间戳转换成格式化时间。如果没有传入参数，默认传入time.time()。"
   ]
  },
  {
   "cell_type": "code",
   "execution_count": 13,
   "metadata": {
    "ExecuteTime": {
     "end_time": "2019-09-19T07:56:42.456000Z",
     "start_time": "2019-09-19T07:56:42.450000Z"
    }
   },
   "outputs": [
    {
     "name": "stdout",
     "output_type": "stream",
     "text": [
      "Thu Sep 19 15:56:42 2019\n"
     ]
    }
   ],
   "source": [
    "import time\n",
    "print(time.ctime())"
   ]
  },
  {
   "cell_type": "markdown",
   "metadata": {},
   "source": [
    "##### time.strptime()\n",
    "该函数按照格式化字符把一个格式化时间字符串转成元组。"
   ]
  },
  {
   "cell_type": "code",
   "execution_count": 16,
   "metadata": {
    "ExecuteTime": {
     "end_time": "2019-09-19T07:58:37.032000Z",
     "start_time": "2019-09-19T07:58:37.020000Z"
    }
   },
   "outputs": [
    {
     "name": "stdout",
     "output_type": "stream",
     "text": [
      "time.struct_time(tm_year=2018, tm_mon=10, tm_mday=29, tm_hour=18, tm_min=46, tm_sec=14, tm_wday=0, tm_yday=302, tm_isdst=-1)\n"
     ]
    }
   ],
   "source": [
    "import time\n",
    "print(time.strptime('2018-10-29 18:46:14', '%Y-%m-%d %X'))"
   ]
  },
  {
   "cell_type": "markdown",
   "metadata": {},
   "source": [
    "##### time.strftime()\n",
    "该函数按照格式化字符把一个元组转换成格式化时间字符串。如果没有传入参数，默认传入time.localtime()。"
   ]
  },
  {
   "cell_type": "code",
   "execution_count": 14,
   "metadata": {
    "ExecuteTime": {
     "end_time": "2019-09-19T07:57:31.712000Z",
     "start_time": "2019-09-19T07:57:31.708000Z"
    }
   },
   "outputs": [
    {
     "name": "stdout",
     "output_type": "stream",
     "text": [
      "2019-09-19 15:57:31\n"
     ]
    }
   ],
   "source": [
    "import time\n",
    "print(time.strftime(\"%Y-%m-%d %X\", time.localtime()))"
   ]
  },
  {
   "cell_type": "markdown",
   "metadata": {},
   "source": [
    "你可能会发现，ctime()和asctime()的字符串格式不适合您的应用程序。相反，你可能希望以对用户更有意义的方式格式化字符串。\n",
    "\n",
    "这方面的一个例子是，如果你希望将你的时间显示在一个考虑地区信息的字符串中。\n",
    "\n",
    "要格式化字符串，给定struct_time或Python time元组，可以使用strftime()，它代表“字符串格式化时间”。"
   ]
  },
  {
   "cell_type": "markdown",
   "metadata": {},
   "source": [
    "strftime()接受两个参数:\n",
    "    \n",
    "format指定字符串中时间元素的顺序和形式。\n",
    "\n",
    "t是一个可选的时间元组。\n",
    "\n",
    "要格式化字符串，可以使用指令。指令是以%开头的字符序列，它指定一个特定的时间元素，例如:\n",
    "    \n",
    "    %d:每月的哪一天\n",
    "    %m:一年中的一个月\n",
    "    % Y:年\n",
    "        \n",
    "例如，您可以使用ISO 8601标准输出本地时间的日期，如下所示:"
   ]
  },
  {
   "cell_type": "code",
   "execution_count": 47,
   "metadata": {
    "ExecuteTime": {
     "end_time": "2019-09-19T10:27:24.366000Z",
     "start_time": "2019-09-19T10:27:24.362000Z"
    }
   },
   "outputs": [
    {
     "name": "stdout",
     "output_type": "stream",
     "text": [
      "2019-09-19\n"
     ]
    }
   ],
   "source": [
    "import time\n",
    "print(time.strftime('%Y-%m-%d', time.localtime()))"
   ]
  },
  {
   "cell_type": "markdown",
   "metadata": {},
   "source": [
    "需要注意的是，当传入的时间中包括周数和天数（%U和%W），该函数才能使用。"
   ]
  },
  {
   "cell_type": "markdown",
   "metadata": {},
   "source": [
    "更重要的是:虽然使用Python时间表示日期是完全有效和可接受的，但是你还应该考虑使用Python的datetime模块，它提供了快捷方式和更健壮的框架，可以同时处理日期和时间。\n",
    "例如，可以使用datetime简化ISO 8601格式的日期输出:"
   ]
  },
  {
   "cell_type": "code",
   "execution_count": null,
   "metadata": {
    "collapsed": true
   },
   "outputs": [],
   "source": [
    "from datetime import date\n",
    "print(date(year=2019, month=3, day=1).isoformat())"
   ]
  },
  {
   "cell_type": "markdown",
   "metadata": {},
   "source": [
    "正如之前看到的，使用strftime()而不是asctime()的一大好处是它能够呈现使用特定于语言环境的信息的时间戳。\n",
    "\n",
    "例如，如果你想以对语言环境敏感的方式表示日期和时间，则不能使用asctime():"
   ]
  },
  {
   "cell_type": "code",
   "execution_count": 50,
   "metadata": {
    "ExecuteTime": {
     "end_time": "2019-09-19T10:32:34.164000Z",
     "start_time": "2019-09-19T10:32:34.133000Z"
    }
   },
   "outputs": [
    {
     "name": "stdout",
     "output_type": "stream",
     "text": [
      "Thu Sep 19 18:32:34 2019\n"
     ]
    },
    {
     "ename": "Error",
     "evalue": "unsupported locale setting",
     "output_type": "error",
     "traceback": [
      "\u001b[1;31m---------------------------------------------------------------------------\u001b[0m",
      "\u001b[1;31mError\u001b[0m                                     Traceback (most recent call last)",
      "\u001b[1;32m<ipython-input-50-3e12093e315b>\u001b[0m in \u001b[0;36m<module>\u001b[1;34m()\u001b[0m\n\u001b[0;32m      4\u001b[0m \u001b[1;33m\u001b[0m\u001b[0m\n\u001b[0;32m      5\u001b[0m \u001b[1;32mimport\u001b[0m \u001b[0mlocale\u001b[0m\u001b[1;33m\u001b[0m\u001b[0m\n\u001b[1;32m----> 6\u001b[1;33m \u001b[0mprint\u001b[0m\u001b[1;33m(\u001b[0m\u001b[0mlocale\u001b[0m\u001b[1;33m.\u001b[0m\u001b[0msetlocale\u001b[0m\u001b[1;33m(\u001b[0m\u001b[0mlocale\u001b[0m\u001b[1;33m.\u001b[0m\u001b[0mLC_TIME\u001b[0m\u001b[1;33m,\u001b[0m \u001b[1;34m'zh_HK'\u001b[0m\u001b[1;33m)\u001b[0m\u001b[1;33m)\u001b[0m  \u001b[1;31m# Chinese - Hong Kong\u001b[0m\u001b[1;33m\u001b[0m\u001b[0m\n\u001b[0m\u001b[0;32m      7\u001b[0m \u001b[1;33m\u001b[0m\u001b[0m\n\u001b[0;32m      8\u001b[0m \u001b[0mprint\u001b[0m\u001b[1;33m(\u001b[0m\u001b[0masctime\u001b[0m\u001b[1;33m(\u001b[0m\u001b[1;33m)\u001b[0m\u001b[1;33m)\u001b[0m\u001b[1;33m\u001b[0m\u001b[0m\n",
      "\u001b[1;32md:\\Anaconda3\\lib\\locale.py\u001b[0m in \u001b[0;36msetlocale\u001b[1;34m(category, locale)\u001b[0m\n\u001b[0;32m    596\u001b[0m         \u001b[1;31m# convert to string\u001b[0m\u001b[1;33m\u001b[0m\u001b[1;33m\u001b[0m\u001b[0m\n\u001b[0;32m    597\u001b[0m         \u001b[0mlocale\u001b[0m \u001b[1;33m=\u001b[0m \u001b[0mnormalize\u001b[0m\u001b[1;33m(\u001b[0m\u001b[0m_build_localename\u001b[0m\u001b[1;33m(\u001b[0m\u001b[0mlocale\u001b[0m\u001b[1;33m)\u001b[0m\u001b[1;33m)\u001b[0m\u001b[1;33m\u001b[0m\u001b[0m\n\u001b[1;32m--> 598\u001b[1;33m     \u001b[1;32mreturn\u001b[0m \u001b[0m_setlocale\u001b[0m\u001b[1;33m(\u001b[0m\u001b[0mcategory\u001b[0m\u001b[1;33m,\u001b[0m \u001b[0mlocale\u001b[0m\u001b[1;33m)\u001b[0m\u001b[1;33m\u001b[0m\u001b[0m\n\u001b[0m\u001b[0;32m    599\u001b[0m \u001b[1;33m\u001b[0m\u001b[0m\n\u001b[0;32m    600\u001b[0m \u001b[1;32mdef\u001b[0m \u001b[0mresetlocale\u001b[0m\u001b[1;33m(\u001b[0m\u001b[0mcategory\u001b[0m\u001b[1;33m=\u001b[0m\u001b[0mLC_ALL\u001b[0m\u001b[1;33m)\u001b[0m\u001b[1;33m:\u001b[0m\u001b[1;33m\u001b[0m\u001b[0m\n",
      "\u001b[1;31mError\u001b[0m: unsupported locale setting"
     ]
    }
   ],
   "source": [
    "from time import asctime\n",
    "print(asctime())\n",
    "\n",
    "\n",
    "import locale\n",
    "print(locale.setlocale(locale.LC_TIME, 'zh_HK'))  # Chinese - Hong Kong\n",
    "\n",
    "print(asctime())"
   ]
  },
  {
   "cell_type": "markdown",
   "metadata": {},
   "source": [
    "请注意，即使以编程方式更改了区域设置，asctime()仍然以与以前相同的格式返回日期和时间。"
   ]
  },
  {
   "cell_type": "markdown",
   "metadata": {},
   "source": [
    "技术细节:LC_TIME是用于日期和时间格式化的locale类别。地区参数'zh_HK'可能不同，这取决于你的系统。"
   ]
  },
  {
   "cell_type": "markdown",
   "metadata": {},
   "source": [
    "但是，当使用strftime()时，将看到它使用了locale时间:"
   ]
  },
  {
   "cell_type": "code",
   "execution_count": 51,
   "metadata": {
    "ExecuteTime": {
     "end_time": "2019-09-19T10:35:09.088000Z",
     "start_time": "2019-09-19T10:35:09.067000Z"
    }
   },
   "outputs": [
    {
     "name": "stdout",
     "output_type": "stream",
     "text": [
      "Thu Sep 19 18:35:09 2019\n"
     ]
    },
    {
     "ename": "Error",
     "evalue": "unsupported locale setting",
     "output_type": "error",
     "traceback": [
      "\u001b[1;31m---------------------------------------------------------------------------\u001b[0m",
      "\u001b[1;31mError\u001b[0m                                     Traceback (most recent call last)",
      "\u001b[1;32m<ipython-input-51-a724f9521658>\u001b[0m in \u001b[0;36m<module>\u001b[1;34m()\u001b[0m\n\u001b[0;32m      4\u001b[0m \u001b[1;33m\u001b[0m\u001b[0m\n\u001b[0;32m      5\u001b[0m \u001b[1;32mimport\u001b[0m \u001b[0mlocale\u001b[0m\u001b[1;33m\u001b[0m\u001b[0m\n\u001b[1;32m----> 6\u001b[1;33m \u001b[0mprint\u001b[0m\u001b[1;33m(\u001b[0m\u001b[0mlocale\u001b[0m\u001b[1;33m.\u001b[0m\u001b[0msetlocale\u001b[0m\u001b[1;33m(\u001b[0m\u001b[0mlocale\u001b[0m\u001b[1;33m.\u001b[0m\u001b[0mLC_TIME\u001b[0m\u001b[1;33m,\u001b[0m \u001b[1;34m'zh_HK'\u001b[0m\u001b[1;33m)\u001b[0m\u001b[1;33m)\u001b[0m  \u001b[1;31m# Chinese - Hong Kong\u001b[0m\u001b[1;33m\u001b[0m\u001b[0m\n\u001b[0m\u001b[0;32m      7\u001b[0m \u001b[1;33m\u001b[0m\u001b[0m\n\u001b[0;32m      8\u001b[0m \u001b[0mprint\u001b[0m\u001b[1;33m(\u001b[0m\u001b[0mstrftime\u001b[0m\u001b[1;33m(\u001b[0m\u001b[1;34m'%c'\u001b[0m\u001b[1;33m,\u001b[0m \u001b[0mlocaltime\u001b[0m\u001b[1;33m(\u001b[0m\u001b[1;33m)\u001b[0m\u001b[1;33m)\u001b[0m\u001b[1;33m)\u001b[0m\u001b[1;33m\u001b[0m\u001b[0m\n",
      "\u001b[1;32md:\\Anaconda3\\lib\\locale.py\u001b[0m in \u001b[0;36msetlocale\u001b[1;34m(category, locale)\u001b[0m\n\u001b[0;32m    596\u001b[0m         \u001b[1;31m# convert to string\u001b[0m\u001b[1;33m\u001b[0m\u001b[1;33m\u001b[0m\u001b[0m\n\u001b[0;32m    597\u001b[0m         \u001b[0mlocale\u001b[0m \u001b[1;33m=\u001b[0m \u001b[0mnormalize\u001b[0m\u001b[1;33m(\u001b[0m\u001b[0m_build_localename\u001b[0m\u001b[1;33m(\u001b[0m\u001b[0mlocale\u001b[0m\u001b[1;33m)\u001b[0m\u001b[1;33m)\u001b[0m\u001b[1;33m\u001b[0m\u001b[0m\n\u001b[1;32m--> 598\u001b[1;33m     \u001b[1;32mreturn\u001b[0m \u001b[0m_setlocale\u001b[0m\u001b[1;33m(\u001b[0m\u001b[0mcategory\u001b[0m\u001b[1;33m,\u001b[0m \u001b[0mlocale\u001b[0m\u001b[1;33m)\u001b[0m\u001b[1;33m\u001b[0m\u001b[0m\n\u001b[0m\u001b[0;32m    599\u001b[0m \u001b[1;33m\u001b[0m\u001b[0m\n\u001b[0;32m    600\u001b[0m \u001b[1;32mdef\u001b[0m \u001b[0mresetlocale\u001b[0m\u001b[1;33m(\u001b[0m\u001b[0mcategory\u001b[0m\u001b[1;33m=\u001b[0m\u001b[0mLC_ALL\u001b[0m\u001b[1;33m)\u001b[0m\u001b[1;33m:\u001b[0m\u001b[1;33m\u001b[0m\u001b[0m\n",
      "\u001b[1;31mError\u001b[0m: unsupported locale setting"
     ]
    }
   ],
   "source": [
    "from time import strftime, localtime\n",
    "print(strftime('%c', localtime()))\n",
    "\n",
    "\n",
    "import locale\n",
    "print(locale.setlocale(locale.LC_TIME, 'zh_HK'))  # Chinese - Hong Kong\n",
    "\n",
    "print(strftime('%c', localtime()))"
   ]
  },
  {
   "cell_type": "markdown",
   "metadata": {},
   "source": [
    "在这里，你已经成功地利用了地区信息，因为您使用了strftime()。\n",
    "\n",
    "    注意:%c是表示适合于地区的日期和时间的指令。\n",
    "        \n",
    "如果时间元组没有传递给参数t，那么默认情况下strftime()将使用localtime()的结果。因此，可以通过删除可选的第二个参数来简化上面的示例:"
   ]
  },
  {
   "cell_type": "code",
   "execution_count": 52,
   "metadata": {
    "ExecuteTime": {
     "end_time": "2019-09-19T10:36:46.773000Z",
     "start_time": "2019-09-19T10:36:46.769000Z"
    }
   },
   "outputs": [
    {
     "name": "stdout",
     "output_type": "stream",
     "text": [
      "The current local datetime is: Thu Sep 19 18:36:46 2019\n"
     ]
    }
   ],
   "source": [
    "from time import strftime\n",
    "print(strftime('The current local datetime is: %c'))"
   ]
  },
  {
   "cell_type": "markdown",
   "metadata": {},
   "source": [
    "在这里，你使用了默认时间，而不是将自己的时间作为参数传递。另外，请注意format参数可以由格式化指令以外的文本组成。\n",
    "\n",
    "进一步阅读:查看strftime()可用的指令的完整列表。\n",
    "    \n",
    "Python时间模块还包括将时间戳转换回struct_time对象的逆操作。"
   ]
  },
  {
   "cell_type": "markdown",
   "metadata": {},
   "source": [
    "#### [Python time comparison](https://stackoverflow.com/questions/1831410/python-time-comparison)"
   ]
  },
  {
   "cell_type": "markdown",
   "metadata": {},
   "source": [
    "##### 判断当前时间比指定时间早还是晚"
   ]
  },
  {
   "cell_type": "markdown",
   "metadata": {},
   "source": [
    "你无法将特定的时间点(如“现在”)与不固定的重复事件(每天早上8点发生)进行比较。\n",
    "\n",
    "你可以看看现在是在今天早上8点之前还是之后:"
   ]
  },
  {
   "cell_type": "code",
   "execution_count": 19,
   "metadata": {
    "ExecuteTime": {
     "end_time": "2019-09-19T08:05:04.322000Z",
     "start_time": "2019-09-19T08:05:04.313000Z"
    }
   },
   "outputs": [
    {
     "name": "stdout",
     "output_type": "stream",
     "text": [
      "now: 2019-09-19 16:05:04.318000\n",
      "today8am: 2019-09-19 08:00:00\n",
      "False\n",
      "False\n",
      "True\n"
     ]
    }
   ],
   "source": [
    "import datetime\n",
    "now = datetime.datetime.now()\n",
    "print(\"now:\", now)\n",
    "today8am = now.replace(hour=8, minute=0, second=0, microsecond=0)  # 替换当前时间到早上8点\n",
    "\n",
    "print(\"today8am:\", today8am)\n",
    "print(now < today8am)  # 判断当前时间是否比早上8点要早\n",
    "print(now == today8am)\n",
    "print(now > today8am)"
   ]
  },
  {
   "cell_type": "markdown",
   "metadata": {},
   "source": [
    "##### 使用datetime\n",
    "\n",
    "使用datetime对象的time()方法来获取一天的时间，可以使用它进行比较，而不需要考虑日期:"
   ]
  },
  {
   "cell_type": "code",
   "execution_count": 21,
   "metadata": {
    "ExecuteTime": {
     "end_time": "2019-09-19T08:07:24.582000Z",
     "start_time": "2019-09-19T08:07:24.576000Z"
    }
   },
   "outputs": [
    {
     "name": "stdout",
     "output_type": "stream",
     "text": [
      "this_morning: 2009-12-02 09:30:00\n",
      "last_night: 2009-12-01 20:00:00\n",
      "True\n"
     ]
    }
   ],
   "source": [
    "this_morning = datetime.datetime(2009, 12, 2, 9, 30)\n",
    "last_night = datetime.datetime(2009, 12, 1, 20, 0)\n",
    "\n",
    "print(\"this_morning:\", this_morning)\n",
    "print(\"last_night:\", last_night)\n",
    "print(this_morning.time() < last_night.time())"
   ]
  },
  {
   "cell_type": "code",
   "execution_count": 22,
   "metadata": {
    "ExecuteTime": {
     "end_time": "2019-09-19T08:08:28.229000Z",
     "start_time": "2019-09-19T08:08:28.220000Z"
    }
   },
   "outputs": [
    {
     "name": "stdout",
     "output_type": "stream",
     "text": [
      "True\n"
     ]
    }
   ],
   "source": [
    "a = datetime.datetime(2009, 12, 2, 10, 24, 34, 198130)\n",
    "b = datetime.datetime(2009, 12, 2, 10, 24, 36, 910128)\n",
    "print(a < b)"
   ]
  },
  {
   "cell_type": "markdown",
   "metadata": {},
   "source": [
    "另一种不添加依赖项或使用datetime的方法是对time对象的属性进行一些计算。它有小时、分钟、秒、毫秒和时区。对于非常简单的比较，小时和分钟应该足够了。"
   ]
  },
  {
   "cell_type": "code",
   "execution_count": 28,
   "metadata": {
    "ExecuteTime": {
     "end_time": "2019-09-19T08:39:49.798000Z",
     "start_time": "2019-09-19T08:39:49.785000Z"
    }
   },
   "outputs": [
    {
     "name": "stdout",
     "output_type": "stream",
     "text": [
      "08:39:49.792000\n",
      "8 39 49\n"
     ]
    }
   ],
   "source": [
    "d = datetime.datetime.utcnow()  # 格林尼治时间，中国+8，东八区时间\n",
    "t = d.time()\n",
    "print(t)\n",
    "print(t.hour,t.minute,t.second)"
   ]
  },
  {
   "cell_type": "markdown",
   "metadata": {},
   "source": [
    "##### 格式化UTC时间\n",
    "\n",
    "[Format datetime.utcnow() time](https://stackoverflow.com/questions/25406565/format-datetime-utcnow-time)"
   ]
  },
  {
   "cell_type": "code",
   "execution_count": 26,
   "metadata": {
    "ExecuteTime": {
     "end_time": "2019-09-19T08:37:13.937000Z",
     "start_time": "2019-09-19T08:37:13.922000Z"
    }
   },
   "outputs": [
    {
     "name": "stdout",
     "output_type": "stream",
     "text": [
      "September 19 2019 - 08:37:13\n"
     ]
    }
   ],
   "source": [
    "import datetime\n",
    "\n",
    "presentTime = datetime.datetime.utcnow()\n",
    "print(presentTime.strftime('%B %d %Y - %H:%M:%S'))"
   ]
  },
  {
   "cell_type": "markdown",
   "metadata": {},
   "source": [
    "#### [How to use Date and Time in Python](https://www.pythonforbeginners.com/basics/python-datetime-time-examples)"
   ]
  },
  {
   "cell_type": "code",
   "execution_count": 27,
   "metadata": {
    "ExecuteTime": {
     "end_time": "2019-09-19T08:38:50.781000Z",
     "start_time": "2019-09-19T08:38:50.766000Z"
    }
   },
   "outputs": [
    {
     "name": "stdout",
     "output_type": "stream",
     "text": [
      "Time in seconds since the epoch: 1568882330.776\n",
      "Current date and time:  2019-09-19 16:38:50.776000\n",
      "Or like this:  19-09-19-16-38\n",
      "Current year:  2019\n",
      "Month of year:  September\n",
      "Week number of the year:  37\n",
      "Weekday of the week:  4\n",
      "Day of year:  262\n",
      "Day of the month :  19\n",
      "Day of week:  Thursday\n"
     ]
    }
   ],
   "source": [
    "import time\n",
    "import datetime\n",
    "\n",
    "print(\"Time in seconds since the epoch: %s\" %time.time())\n",
    "print(\"Current date and time: \" , datetime.datetime.now())\n",
    "print(\"Or like this: \" ,datetime.datetime.now().strftime(\"%y-%m-%d-%H-%M\"))\n",
    "\n",
    "print(\"Current year: \", datetime.date.today().strftime(\"%Y\"))\n",
    "print(\"Month of year: \", datetime.date.today().strftime(\"%B\"))\n",
    "print(\"Week number of the year: \", datetime.date.today().strftime(\"%W\"))\n",
    "print(\"Weekday of the week: \", datetime.date.today().strftime(\"%w\"))\n",
    "print(\"Day of year: \", datetime.date.today().strftime(\"%j\"))\n",
    "print(\"Day of the month : \", datetime.date.today().strftime(\"%d\"))\n",
    "print(\"Day of week: \", datetime.date.today().strftime(\"%A\"))"
   ]
  },
  {
   "cell_type": "markdown",
   "metadata": {},
   "source": [
    "#### 比较日期\n",
    "\n",
    "[Comparing dates in Python](https://www.geeksforgeeks.org/comparing-dates-python/)"
   ]
  },
  {
   "cell_type": "code",
   "execution_count": 29,
   "metadata": {
    "ExecuteTime": {
     "end_time": "2019-09-19T08:41:06.564000Z",
     "start_time": "2019-09-19T08:41:06.550000Z"
    }
   },
   "outputs": [
    {
     "name": "stdout",
     "output_type": "stream",
     "text": [
      "d1 is greater than d2 :  False\n",
      "d1 is less than d2 :  True\n",
      "d1 is not equal to d2 :  True\n"
     ]
    }
   ],
   "source": [
    "# importing datetime module \n",
    "import datetime \n",
    "  \n",
    "# date in yyyy/mm/dd format \n",
    "d1 = datetime.datetime(2018, 5, 3) \n",
    "d2 = datetime.datetime(2018, 6, 1) \n",
    "  \n",
    "# Comparing the dates will return \n",
    "# either True or False \n",
    "print(\"d1 is greater than d2 : \", d1 > d2) \n",
    "print(\"d1 is less than d2 : \", d1 < d2) \n",
    "print(\"d1 is not equal to d2 : \", d1 != d2) "
   ]
  },
  {
   "cell_type": "markdown",
   "metadata": {},
   "source": [
    "##### 日期排序"
   ]
  },
  {
   "cell_type": "code",
   "execution_count": 30,
   "metadata": {
    "ExecuteTime": {
     "end_time": "2019-09-19T08:42:47.978000Z",
     "start_time": "2019-09-19T08:42:47.946000Z"
    }
   },
   "outputs": [
    {
     "name": "stdout",
     "output_type": "stream",
     "text": [
      "2011-04-07\n",
      "2011-05-02\n",
      "2015-06-29\n",
      "2019-09-19\n"
     ]
    }
   ],
   "source": [
    "# importing datetime module \n",
    "from datetime import *\n",
    "  \n",
    "# create empty list \n",
    "group = [] \n",
    "  \n",
    "# add today's date \n",
    "group.append(date.today()) \n",
    "  \n",
    "# create some more dates \n",
    "d = date(2015, 6, 29) \n",
    "group.append(d) \n",
    "  \n",
    "d = date(2011, 4, 7) \n",
    "group.append(d) \n",
    "  \n",
    "# add 25 days to the date \n",
    "# and add to the list \n",
    "group.append(d + timedelta(days = 25)) \n",
    "  \n",
    "# sort the list \n",
    "group.sort() \n",
    "  \n",
    "# print the dates \n",
    "for d in group: \n",
    "    print(d) "
   ]
  },
  {
   "cell_type": "markdown",
   "metadata": {},
   "source": [
    "##### 比较日期大小"
   ]
  },
  {
   "cell_type": "code",
   "execution_count": 31,
   "metadata": {
    "ExecuteTime": {
     "end_time": "2019-09-19T08:45:56.671000Z",
     "start_time": "2019-09-19T08:45:36.061000Z"
    }
   },
   "outputs": [
    {
     "name": "stdout",
     "output_type": "stream",
     "text": [
      "Enter first person's date(DD/MM/YYYY) : 12/05/2017\n",
      "Enter second person's date(DD/MM/YYYY) : 10/11/2015\n",
      "The second person is older\n"
     ]
    }
   ],
   "source": [
    "# importing datetime module \n",
    "from datetime import *\n",
    "  \n",
    "# Enter birth dates and store \n",
    "# into date class objects \n",
    "d1, m1, y1 = [int(x) for x in input(\"Enter first\"\n",
    "        \" person's date(DD/MM/YYYY) : \").split('/')] \n",
    "  \n",
    "b1 = date(y1, m1, d1) \n",
    "  \n",
    "# Input for second date \n",
    "d2, m2, y2 = [int(x) for x in input(\"Enter second\"\n",
    "        \" person's date(DD/MM/YYYY) : \").split('/')] \n",
    "  \n",
    "b2 = date(y2, m2, d2) \n",
    "  \n",
    "# Check the dates \n",
    "if b1 == b2: \n",
    "    print(\"Both persons are of equal age\") \n",
    "      \n",
    "elif b1 > b2: \n",
    "    print(\"The second person is older\") \n",
    "      \n",
    "else: \n",
    "    print(\"The first person is older\") "
   ]
  },
  {
   "cell_type": "markdown",
   "metadata": {},
   "source": [
    "##### 日期列表排序"
   ]
  },
  {
   "cell_type": "code",
   "execution_count": 32,
   "metadata": {
    "ExecuteTime": {
     "end_time": "2019-09-19T08:48:19.808000Z",
     "start_time": "2019-09-19T08:48:19.782000Z"
    }
   },
   "outputs": [
    {
     "name": "stdout",
     "output_type": "stream",
     "text": [
      "01 Jan 2007\n",
      "10 Jul 2016\n",
      "2 Dec 2017\n",
      "11 Jun 2018\n",
      "23 Jun 2018\n",
      "01 Jan 2019\n"
     ]
    }
   ],
   "source": [
    "# Import the datetime module\n",
    "from datetime import datetime\n",
    "\n",
    "\n",
    "# Function to print the data stored in the list\n",
    "def printDates(dates):\n",
    "\n",
    "    for i in range(len(dates)):\n",
    "        print(dates[i])\n",
    "\n",
    "\n",
    "if __name__ == \"__main__\":\n",
    "\n",
    "    dates = [\"23 Jun 2018\", \"2 Dec 2017\", \"11 Jun 2018\", \"01 Jan 2019\",\n",
    "             \"10 Jul 2016\", \"01 Jan 2007\"]\n",
    "        \n",
    "\n",
    "    # Sort the list in ascending order of dates\n",
    "    dates.sort(key=lambda date: datetime.strptime(date, '%d %b %Y'))\n",
    "\n",
    "    # Print the dates in a sorted order\n",
    "    printDates(dates)"
   ]
  },
  {
   "cell_type": "markdown",
   "metadata": {},
   "source": [
    "#### [A Beginner’s Guide to the Python time Module](https://realpython.com/python-time-module/)"
   ]
  },
  {
   "cell_type": "markdown",
   "metadata": {},
   "source": [
    "将纪元定义为1970年1月1日的子夜(在Windows和大多数UNIX系统中定义的纪元)，那么可以将1970年1月2日的子夜表示为自纪元起的86400秒。\n",
    "这是因为一分钟有60秒，一小时有60分钟，还有24小时"
   ]
  },
  {
   "cell_type": "code",
   "execution_count": 33,
   "metadata": {
    "ExecuteTime": {
     "end_time": "2019-09-19T08:50:51.580000Z",
     "start_time": "2019-09-19T08:50:51.574000Z"
    }
   },
   "outputs": [
    {
     "name": "stdout",
     "output_type": "stream",
     "text": [
      "86400 s\n"
     ]
    }
   ],
   "source": [
    "print(60 * 60 * 24, \"s\")"
   ]
  },
  {
   "cell_type": "markdown",
   "metadata": {},
   "source": [
    "##### 时间元组"
   ]
  },
  {
   "cell_type": "markdown",
   "metadata": {},
   "source": [
    "**9个参数**"
   ]
  },
  {
   "cell_type": "code",
   "execution_count": 34,
   "metadata": {
    "ExecuteTime": {
     "end_time": "2019-09-19T08:53:27.566000Z",
     "start_time": "2019-09-19T08:53:27.555000Z"
    }
   },
   "outputs": [
    {
     "name": "stdout",
     "output_type": "stream",
     "text": [
      "time.struct_time(tm_year=2019, tm_mon=2, tm_mday=26, tm_hour=7, tm_min=6, tm_sec=55, tm_wday=1, tm_yday=57, tm_isdst=0)\n"
     ]
    }
   ],
   "source": [
    "from time import struct_time\n",
    "time_tuple = (2019, 2, 26, 7, 6, 55, 1, 57, 0)\n",
    "time_obj = struct_time(time_tuple)\n",
    "print(time_obj)"
   ]
  },
  {
   "cell_type": "code",
   "execution_count": 35,
   "metadata": {
    "ExecuteTime": {
     "end_time": "2019-09-19T08:54:07.714000Z",
     "start_time": "2019-09-19T08:54:07.702000Z"
    }
   },
   "outputs": [
    {
     "ename": "TypeError",
     "evalue": "time.struct_time() takes an at least 9-sequence (6-sequence given)",
     "output_type": "error",
     "traceback": [
      "\u001b[1;31m---------------------------------------------------------------------------\u001b[0m",
      "\u001b[1;31mTypeError\u001b[0m                                 Traceback (most recent call last)",
      "\u001b[1;32m<ipython-input-35-24776091c6b4>\u001b[0m in \u001b[0;36m<module>\u001b[1;34m()\u001b[0m\n\u001b[0;32m      1\u001b[0m \u001b[0mtime_tuple\u001b[0m \u001b[1;33m=\u001b[0m \u001b[1;33m(\u001b[0m\u001b[1;36m2019\u001b[0m\u001b[1;33m,\u001b[0m \u001b[1;36m7\u001b[0m\u001b[1;33m,\u001b[0m \u001b[1;36m23\u001b[0m\u001b[1;33m,\u001b[0m \u001b[1;36m17\u001b[0m\u001b[1;33m,\u001b[0m \u001b[1;36m8\u001b[0m\u001b[1;33m,\u001b[0m \u001b[1;36m58\u001b[0m\u001b[1;33m)\u001b[0m\u001b[1;33m\u001b[0m\u001b[0m\n\u001b[1;32m----> 2\u001b[1;33m \u001b[0mtime_obj\u001b[0m \u001b[1;33m=\u001b[0m \u001b[0mstruct_time\u001b[0m\u001b[1;33m(\u001b[0m\u001b[0mtime_tuple\u001b[0m\u001b[1;33m)\u001b[0m\u001b[1;33m\u001b[0m\u001b[0m\n\u001b[0m\u001b[0;32m      3\u001b[0m \u001b[0mprint\u001b[0m\u001b[1;33m(\u001b[0m\u001b[0mtime_obj\u001b[0m\u001b[1;33m)\u001b[0m\u001b[1;33m\u001b[0m\u001b[0m\n",
      "\u001b[1;31mTypeError\u001b[0m: time.struct_time() takes an at least 9-sequence (6-sequence given)"
     ]
    }
   ],
   "source": [
    "time_tuple = (2019, 7, 23, 17, 8, 58)\n",
    "time_obj = struct_time(time_tuple)\n",
    "print(time_obj)"
   ]
  },
  {
   "cell_type": "markdown",
   "metadata": {},
   "source": [
    "可以使用属性名而不是索引访问time_obj的特定元素:"
   ]
  },
  {
   "cell_type": "code",
   "execution_count": null,
   "metadata": {
    "collapsed": true
   },
   "outputs": [],
   "source": []
  },
  {
   "cell_type": "code",
   "execution_count": 36,
   "metadata": {
    "ExecuteTime": {
     "end_time": "2019-09-19T08:56:48.297000Z",
     "start_time": "2019-09-19T08:56:48.283000Z"
    }
   },
   "outputs": [
    {
     "name": "stdout",
     "output_type": "stream",
     "text": [
      "57\n",
      "26\n"
     ]
    }
   ],
   "source": [
    "day_of_year = time_obj.tm_yday\n",
    "print(day_of_year)  # 一年的第几天\n",
    "\n",
    "day_of_month = time_obj.tm_mday\n",
    "print(day_of_month)  # 一个月的第几天"
   ]
  },
  {
   "cell_type": "markdown",
   "metadata": {},
   "source": [
    "##### 将Python时间(以秒为单位)转换为对象"
   ]
  },
  {
   "cell_type": "code",
   "execution_count": 37,
   "metadata": {
    "ExecuteTime": {
     "end_time": "2019-09-19T08:57:51.365000Z",
     "start_time": "2019-09-19T08:57:51.359000Z"
    }
   },
   "outputs": [
    {
     "name": "stdout",
     "output_type": "stream",
     "text": [
      "time.struct_time(tm_year=1970, tm_mon=1, tm_mday=1, tm_hour=0, tm_min=0, tm_sec=1, tm_wday=3, tm_yday=1, tm_isdst=0)\n"
     ]
    }
   ],
   "source": [
    "import time\n",
    "print(time.gmtime(1.99))"
   ]
  },
  {
   "cell_type": "markdown",
   "metadata": {},
   "source": [
    "注意，即使您通过的秒数非常接近2，.99小数秒也会被忽略，如tm_sec=1所示。\n",
    "\n",
    "gmtime()的secs参数是可选的，这意味着您可以不带参数地调用gmtime()。这样做将提供当前UTC时间:"
   ]
  },
  {
   "cell_type": "code",
   "execution_count": 38,
   "metadata": {
    "ExecuteTime": {
     "end_time": "2019-09-19T09:02:58.985000Z",
     "start_time": "2019-09-19T09:02:58.982000Z"
    }
   },
   "outputs": [
    {
     "name": "stdout",
     "output_type": "stream",
     "text": [
      "time.struct_time(tm_year=2019, tm_mon=9, tm_mday=19, tm_hour=9, tm_min=2, tm_sec=58, tm_wday=3, tm_yday=262, tm_isdst=0)\n"
     ]
    }
   ],
   "source": [
    "import time\n",
    "print(time.gmtime())"
   ]
  },
  {
   "cell_type": "markdown",
   "metadata": {},
   "source": [
    "这个函数在时间范围内没有逆函数。相反，必须在Python的calendar模块中查找一个名为timegm()的函数:"
   ]
  },
  {
   "cell_type": "code",
   "execution_count": 39,
   "metadata": {
    "ExecuteTime": {
     "end_time": "2019-09-19T09:07:06.421000Z",
     "start_time": "2019-09-19T09:07:06.416000Z"
    },
    "run_control": {
     "marked": false
    }
   },
   "outputs": [
    {
     "name": "stdout",
     "output_type": "stream",
     "text": [
      "time.struct_time(tm_year=2019, tm_mon=9, tm_mday=19, tm_hour=9, tm_min=7, tm_sec=6, tm_wday=3, tm_yday=262, tm_isdst=0)\n",
      "1568884026\n"
     ]
    }
   ],
   "source": [
    "import calendar\n",
    "import time\n",
    "\n",
    "print(time.gmtime())\n",
    "print(calendar.timegm(time.gmtime()))"
   ]
  },
  {
   "cell_type": "markdown",
   "metadata": {},
   "source": [
    "timegm()接收一个元组(或struct_time，因为它是元组的子类)，并返回自历元以来的相应秒数。"
   ]
  },
  {
   "cell_type": "markdown",
   "metadata": {},
   "source": [
    "##### tm_zone存储本地时区"
   ]
  },
  {
   "cell_type": "code",
   "execution_count": 42,
   "metadata": {
    "ExecuteTime": {
     "end_time": "2019-09-19T09:09:49.011000Z",
     "start_time": "2019-09-19T09:09:49.007000Z"
    }
   },
   "outputs": [
    {
     "name": "stdout",
     "output_type": "stream",
     "text": [
      "?D1¨²¡À¨º¡Á?¨º¡À??\n"
     ]
    }
   ],
   "source": [
    "import time\n",
    "current_local = time.localtime()\n",
    "print(current_local.tm_zone)"
   ]
  },
  {
   "cell_type": "markdown",
   "metadata": {},
   "source": [
    "在这里，可以看到localtime()返回一个struct_time，时区设置为CST(中央标准时间)。\n",
    "\n",
    "正如你之前看到的，你也可以根据UTC偏移量和DST(如果适用)这两条信息来判断时区:"
   ]
  },
  {
   "cell_type": "code",
   "execution_count": 43,
   "metadata": {
    "ExecuteTime": {
     "end_time": "2019-09-19T09:11:12.806000Z",
     "start_time": "2019-09-19T09:11:12.800000Z"
    }
   },
   "outputs": [
    {
     "name": "stdout",
     "output_type": "stream",
     "text": [
      "28800\n",
      "0\n"
     ]
    }
   ],
   "source": [
    "import time\n",
    "current_local = time.localtime()\n",
    "\n",
    "print(current_local.tm_gmtoff)\n",
    "print(current_local.tm_isdst)"
   ]
  },
  {
   "cell_type": "markdown",
   "metadata": {},
   "source": [
    "在本例中，可以看到current_local比格林尼治时间(代表格林尼治平均时间)晚21600秒。GMT是没有UTC偏移的时区:UTC±00:00。\n",
    "  \n",
    "21600秒除以秒每小时(3600)意味着当前本地时间是GMT-06:00(或UTC-06:00)。\n",
    "\n",
    "可以使用GMT偏移量加上DST状态来推断current_local在标准时间是UTC-06:00，它对应于中央标准时区。\n",
    "\n",
    "与gmtime()类似，可以在调用localtime()时忽略secs参数，它将在struct_time中返回当前的本地时间:"
   ]
  },
  {
   "cell_type": "code",
   "execution_count": 44,
   "metadata": {
    "ExecuteTime": {
     "end_time": "2019-09-19T10:16:30.630000Z",
     "start_time": "2019-09-19T10:16:30.627000Z"
    }
   },
   "outputs": [
    {
     "name": "stdout",
     "output_type": "stream",
     "text": [
      "time.struct_time(tm_year=2019, tm_mon=9, tm_mday=19, tm_hour=18, tm_min=16, tm_sec=30, tm_wday=3, tm_yday=262, tm_isdst=0)\n"
     ]
    }
   ],
   "source": [
    "import time\n",
    "print(time.localtime())"
   ]
  },
  {
   "cell_type": "markdown",
   "metadata": {},
   "source": [
    "##### 将本地时间对象转换为秒"
   ]
  },
  {
   "cell_type": "code",
   "execution_count": 45,
   "metadata": {
    "ExecuteTime": {
     "end_time": "2019-09-19T10:17:35.079000Z",
     "start_time": "2019-09-19T10:17:35.067000Z"
    }
   },
   "outputs": [
    {
     "name": "stdout",
     "output_type": "stream",
     "text": [
      "1552179006.0\n",
      "1552179006.0\n"
     ]
    }
   ],
   "source": [
    "import time\n",
    "\n",
    "time_tuple = (2019, 3, 10, 8, 50, 6, 6, 69, 1)\n",
    "print(time.mktime(time_tuple))\n",
    "\n",
    "\n",
    "time_struct = time.struct_time(time_tuple)\n",
    "print(time.mktime(time_struct))"
   ]
  },
  {
   "cell_type": "markdown",
   "metadata": {},
   "source": [
    "记住t必须是表示本地时间的元组，而不是UTC，这一点很重要:"
   ]
  },
  {
   "cell_type": "code",
   "execution_count": 46,
   "metadata": {
    "ExecuteTime": {
     "end_time": "2019-09-19T10:19:19.519000Z",
     "start_time": "2019-09-19T10:19:19.499000Z"
    }
   },
   "outputs": [
    {
     "name": "stdout",
     "output_type": "stream",
     "text": [
      "time.struct_time(tm_year=2019, tm_mon=9, tm_mday=19, tm_hour=10, tm_min=19, tm_sec=19, tm_wday=3, tm_yday=262, tm_isdst=0)\n",
      "1568859559.0\n",
      "time.struct_time(tm_year=2019, tm_mon=9, tm_mday=19, tm_hour=2, tm_min=19, tm_sec=19, tm_wday=3, tm_yday=262, tm_isdst=0)\n"
     ]
    }
   ],
   "source": [
    "from time import gmtime, mktime\n",
    "\n",
    "# 1\n",
    "current_utc = time.gmtime()\n",
    "print(current_utc)\n",
    "\n",
    "# 2\n",
    "current_utc_secs = mktime(current_utc)\n",
    "print(current_utc_secs)\n",
    "\n",
    "# 3\n",
    "print(time.gmtime(current_utc_secs))"
   ]
  },
  {
   "cell_type": "markdown",
   "metadata": {},
   "source": [
    "这个例子说明了为什么在本地时间使用mktime()很重要，而不是UTC:\n",
    "    \n",
    "没有参数的gmtime()使用UTC返回struct_time。current_utc显示2019年9月19日10:19:19 UTC。这是准确的，因为当前时区CST是UTC-08:00，所以UTC应该比当地时间早8个小时。\n",
    "mktime()试图返回秒数，期望本地时间，但是您却传递了current_utc。因此，它没有理解current_utc是UTC时间，而是假设您的意思是2019年9月19日2:19:19 CST。\n",
    "然后使用gmtime()将这些秒转换回UTC，这会导致不一致"
   ]
  },
  {
   "cell_type": "markdown",
   "metadata": {},
   "source": [
    "##### 将Python时间字符串转换为对象"
   ]
  },
  {
   "cell_type": "markdown",
   "metadata": {},
   "source": [
    "当处理与日期和时间相关的字符串时，将时间戳转换为时间对象是非常有价值的。\n",
    "\n",
    "要将时间字符串转换为struct_time，可以使用strptime()，它代表“字符串解析时间”:"
   ]
  },
  {
   "cell_type": "code",
   "execution_count": 54,
   "metadata": {
    "ExecuteTime": {
     "end_time": "2019-09-19T10:38:53.715000Z",
     "start_time": "2019-09-19T10:38:53.707000Z"
    }
   },
   "outputs": [
    {
     "name": "stdout",
     "output_type": "stream",
     "text": [
      "time.struct_time(tm_year=2019, tm_mon=3, tm_mday=1, tm_hour=0, tm_min=0, tm_sec=0, tm_wday=4, tm_yday=60, tm_isdst=-1)\n"
     ]
    }
   ],
   "source": [
    "from time import strptime\n",
    "\n",
    "print(strptime('2019-03-01', '%Y-%m-%d'))"
   ]
  },
  {
   "cell_type": "markdown",
   "metadata": {},
   "source": [
    "strptime()的第一个参数必须是希望转换的时间戳。第二个参数是时间戳的格式。\n",
    "\n",
    "格式参数是可选的，默认为'%a %b %d %H:%M:%S %Y'。因此，如果你有该格式的时间戳，不需要将其作为参数传递:"
   ]
  },
  {
   "cell_type": "code",
   "execution_count": 55,
   "metadata": {
    "ExecuteTime": {
     "end_time": "2019-09-19T10:40:15.049000Z",
     "start_time": "2019-09-19T10:40:15.044000Z"
    }
   },
   "outputs": [
    {
     "name": "stdout",
     "output_type": "stream",
     "text": [
      "time.struct_time(tm_year=2019, tm_mon=3, tm_mday=1, tm_hour=23, tm_min=38, tm_sec=40, tm_wday=4, tm_yday=60, tm_isdst=-1)\n"
     ]
    }
   ],
   "source": [
    "print(strptime('Fri Mar 01 23:38:40 2019'))"
   ]
  },
  {
   "cell_type": "markdown",
   "metadata": {},
   "source": [
    "因为struct_time有9个关键日期和时间参数，所以strptime()必须为那些不能从字符串解析的组件提供合理的默认值。\n",
    "\n",
    "在前面的示例中，tm_isdst=-1。这意味着strptime()不能通过时间戳确定它是否代表夏令时。\n",
    "\n",
    "现在，知道了如何以各种方式使用时间模块来处理Python时间和日期。然而，除了简单地创建时间对象、获取Python时间字符串和使用历元之后的秒以外，还有其他一些时间用途。"
   ]
  },
  {
   "cell_type": "markdown",
   "metadata": {},
   "source": [
    "##### 延迟"
   ]
  },
  {
   "cell_type": "markdown",
   "metadata": {},
   "source": [
    "另一个真正有用的Python时间函数是sleep()，它将线程的执行挂起一段指定的时间。\n",
    "\n",
    "例如，你可以这样暂停程序的执行10秒:"
   ]
  },
  {
   "cell_type": "code",
   "execution_count": 56,
   "metadata": {
    "ExecuteTime": {
     "end_time": "2019-09-19T10:42:54.621000Z",
     "start_time": "2019-09-19T10:42:44.614000Z"
    }
   },
   "outputs": [
    {
     "name": "stdout",
     "output_type": "stream",
     "text": [
      "Thu Sep 19 18:42:44 2019\n",
      "Thu Sep 19 18:42:54 2019\n"
     ]
    }
   ],
   "source": [
    "from time import sleep, strftime\n",
    "print(strftime('%c'))\n",
    "\n",
    "sleep(10)\n",
    "print(strftime('%c'))"
   ]
  },
  {
   "cell_type": "markdown",
   "metadata": {},
   "source": [
    "程序将打印第一个格式化的datetime字符串，然后暂停10秒，最后打印第二个格式化的datetime字符串。\n",
    "\n",
    "也可以通过分数秒睡眠():"
   ]
  },
  {
   "cell_type": "code",
   "execution_count": 58,
   "metadata": {
    "ExecuteTime": {
     "end_time": "2019-09-19T10:44:00.563000Z",
     "start_time": "2019-09-19T10:44:00.022000Z"
    }
   },
   "outputs": [
    {
     "name": "stdout",
     "output_type": "stream",
     "text": [
      "Thu Sep 19 18:44:00 2019\n",
      "Thu Sep 19 18:44:00 2019\n"
     ]
    }
   ],
   "source": [
    "from time import sleep\n",
    "\n",
    "print(strftime('%c'))\n",
    "\n",
    "sleep(0.5)\n",
    "print(strftime('%c'))"
   ]
  },
  {
   "cell_type": "markdown",
   "metadata": {},
   "source": [
    "sleep()对于测试或使程序等待任何原因都是有用的，但是必须小心不要停止生产代码，除非有充分的理由这样做。\n",
    "\n",
    "在Python 3.5之前，发送给进程的信号可能会中断sleep()。但是，在3.5或更高版本中，sleep()将始终挂起执行至少一段指定的时间，即使进程接收到一个信号。\n",
    "\n",
    "sleep()只是一个Python时间函数，它可以帮助你测试程序并使它们更健壮。"
   ]
  },
  {
   "cell_type": "markdown",
   "metadata": {},
   "source": [
    "##### 性能度量\n",
    "\n",
    "可以使用时间来度量程序的性能。\n",
    "\n",
    "实现此目的的方法是使用perf_counter()，顾名思义，它提供了一个高分辨率的性能计数器来测量短时间间隔。\n",
    "\n",
    "要使用perf_counter()，需要在代码开始执行之前以及代码执行完成之后放置一个计数器:"
   ]
  },
  {
   "cell_type": "code",
   "execution_count": 59,
   "metadata": {
    "ExecuteTime": {
     "end_time": "2019-09-19T10:46:09.196000Z",
     "start_time": "2019-09-19T10:46:06.247000Z"
    }
   },
   "outputs": [
    {
     "name": "stdout",
     "output_type": "stream",
     "text": [
      "2.9305334309985227\n"
     ]
    }
   ],
   "source": [
    "from time import perf_counter\n",
    "def longrunning_function():\n",
    "    for i in range(1, 11):\n",
    "        time.sleep(i / i ** 2)\n",
    "\n",
    "start = perf_counter()\n",
    "longrunning_function()\n",
    "end = perf_counter()\n",
    "execution_time = (end - start)\n",
    "print(execution_time)"
   ]
  },
  {
   "cell_type": "markdown",
   "metadata": {},
   "source": [
    "#### 如何在Python中获取N天前的日期\n",
    "\n",
    "[How to get the date N days ago in Python](https://www.saltycrane.com/blog/2010/10/how-get-date-n-days-ago-python/)"
   ]
  },
  {
   "cell_type": "code",
   "execution_count": 60,
   "metadata": {
    "ExecuteTime": {
     "end_time": "2019-09-19T10:54:25.479000Z",
     "start_time": "2019-09-19T10:54:25.473000Z"
    }
   },
   "outputs": [
    {
     "name": "stdout",
     "output_type": "stream",
     "text": [
      "当前时间： 2019-09-19 18:54:25.476000\n",
      "两天前的时间： 2019-09-17 18:54:25.476000\n"
     ]
    }
   ],
   "source": [
    "from datetime import datetime, timedelta\n",
    "\n",
    "N = 2\n",
    "\n",
    "date_N_days_ago = datetime.now() - timedelta(days=N)\n",
    "\n",
    "print(\"当前时间：\", datetime.now())\n",
    "print(\"两天前的时间：\", date_N_days_ago)  "
   ]
  },
  {
   "cell_type": "markdown",
   "metadata": {
    "ExecuteTime": {
     "end_time": "2019-09-19T10:55:20.881000Z",
     "start_time": "2019-09-19T10:55:20.877000Z"
    }
   },
   "source": [
    "[timedelta Objects](https://docs.python.org/3/library/datetime.html#datetime.timedelta)"
   ]
  },
  {
   "cell_type": "markdown",
   "metadata": {},
   "source": [
    "#### [Dealing with datetimes like a pro in Python](https://medium.com/jbennetcodes/dealing-with-datetimes-like-a-pro-in-python-fb3ac0feb94b)"
   ]
  },
  {
   "cell_type": "code",
   "execution_count": 64,
   "metadata": {
    "ExecuteTime": {
     "end_time": "2019-09-19T11:00:09.681000Z",
     "start_time": "2019-09-19T11:00:09.664000Z"
    }
   },
   "outputs": [
    {
     "name": "stdout",
     "output_type": "stream",
     "text": [
      "2015-08-31 23:49:01\n"
     ]
    }
   ],
   "source": [
    "import datetime as dt\n",
    "\n",
    "log_line = \"/logger/ || 70.123.102.76 || - || 31/Aug/2015:23:49:01 +0000  || GET /logger/?action-view&site_id=123 HTTP/1.1 || 200 || 236 || https://foo.com/some/url || Mozilla/5.0 (Windows NT 5.1) AppleWebKit/537.36 (KHTML, like Gecko) Chrome/44.0.2403.157 Safari/537.36 || - || - || - || 0.000\"\n",
    "parts = log_line.split(' || ')\n",
    "date, request, referrer, user_agent = parts[3], parts[4], parts[7], parts[8]\n",
    "date = dt.datetime.strptime(date[:-7], '%d/%b/%Y:%H:%M:%S')\n",
    "\n",
    "print(date)"
   ]
  },
  {
   "cell_type": "markdown",
   "metadata": {},
   "source": [
    "##### 显示带有时区的日期时间"
   ]
  },
  {
   "cell_type": "markdown",
   "metadata": {},
   "source": [
    "首先，这种通用的日期格式(RFC 3339)看起来不太吸引人。美国人希望看到他们熟悉的“M/D/Y”和12小时的大钟(上午/下午)。欧洲人正在寻找“D/M/Y”，其中一些人正在寻找“D.M.”大部分时间是24小时。\n",
    "\n",
    "然后，所有日期和时间都在UTC中(这是服务器记录它们的方式)。所以顾客不得不眯着眼睛思考“嘿，这到底是什么时候发生的?”——在他们的脑子里做时区偏移(甚至不要让我开始做DST)——这是一项艰苦的工作!\n",
    "\n",
    "因此，您决定在显示信息之前将日期和时间转换为本地时区。"
   ]
  },
  {
   "cell_type": "code",
   "execution_count": 65,
   "metadata": {
    "ExecuteTime": {
     "end_time": "2019-09-19T11:02:09.426000Z",
     "start_time": "2019-09-19T11:02:09.393000Z"
    }
   },
   "outputs": [
    {
     "name": "stdout",
     "output_type": "stream",
     "text": [
      "08/07/2017 08:10:01 PDT\n"
     ]
    }
   ],
   "source": [
    "import datetime as dt\n",
    "import pytz\n",
    "\n",
    "event_date = dt.datetime(2017, 8, 7, 15, 10, 1).replace(tzinfo=pytz.UTC)\n",
    "user_timezone = pytz.timezone('America/Los_Angeles')\n",
    "local_date = event_date.astimezone(user_timezone)\n",
    "print(local_date.strftime('%m/%d/%Y %H:%M:%S %Z'))"
   ]
  },
  {
   "cell_type": "markdown",
   "metadata": {},
   "source": [
    "##### 舍入(删除)日期时间\n",
    "\n",
    "接下来，你希望以聚合的形式显示数据，以计算每个URL收集了多少视图。这将使数据更加有用，使客户更加高兴。\n",
    "\n",
    "为了将时间累计起来，你写了一小段代码，将日期时间四舍五入到一个小时:"
   ]
  },
  {
   "cell_type": "markdown",
   "metadata": {},
   "source": [
    "    rounded = date.replace(minute=0, second=0, microsecond=0)"
   ]
  },
  {
   "cell_type": "markdown",
   "metadata": {},
   "source": [
    "##### 求区间的边\n",
    "\n",
    "你想要添加另一个特性:比较数周的数据。与上周相比，本周的活动情况如何?页面的访问量是增加了，还是减少了?\n",
    "    \n",
    "要做到这一点，你需要确定一周的开始时间:"
   ]
  },
  {
   "cell_type": "code",
   "execution_count": 66,
   "metadata": {
    "ExecuteTime": {
     "end_time": "2019-09-19T11:04:54.727000Z",
     "start_time": "2019-09-19T11:04:54.719000Z"
    }
   },
   "outputs": [
    {
     "name": "stdout",
     "output_type": "stream",
     "text": [
      "2019-09-16 00:00:00\n"
     ]
    }
   ],
   "source": [
    "import datetime as dt\n",
    "\n",
    "today = dt.datetime.now()\n",
    "monday = (today - dt.timedelta(days=today.weekday())).replace(hour=0, minute=0, second=0, microsecond=0)\n",
    "\n",
    "print(monday)"
   ]
  },
  {
   "cell_type": "markdown",
   "metadata": {},
   "source": [
    "上一周时间"
   ]
  },
  {
   "cell_type": "code",
   "execution_count": 67,
   "metadata": {
    "ExecuteTime": {
     "end_time": "2019-09-19T11:05:39.895000Z",
     "start_time": "2019-09-19T11:05:39.889000Z"
    }
   },
   "outputs": [
    {
     "name": "stdout",
     "output_type": "stream",
     "text": [
      "2019-09-09 00:00:00\n"
     ]
    }
   ],
   "source": [
    "previous_monday = monday - dt.timedelta(days=7)\n",
    "\n",
    "print(previous_monday)"
   ]
  },
  {
   "cell_type": "markdown",
   "metadata": {},
   "source": [
    "##### 创建时间范围\n",
    "\n",
    "接下来，你希望让客户能够选择自己的开始和结束时间间隔。这意味着生成一系列日期。为此，你需要导入另一个名为dateutil的模块:"
   ]
  },
  {
   "cell_type": "code",
   "execution_count": 68,
   "metadata": {
    "ExecuteTime": {
     "end_time": "2019-09-19T11:07:10.720000Z",
     "start_time": "2019-09-19T11:07:10.684000Z"
    }
   },
   "outputs": [
    {
     "name": "stdout",
     "output_type": "stream",
     "text": [
      "[datetime.datetime(2017, 7, 17, 0, 0), datetime.datetime(2017, 7, 24, 0, 0), datetime.datetime(2017, 7, 31, 0, 0), datetime.datetime(2017, 8, 7, 0, 0)]\n"
     ]
    }
   ],
   "source": [
    "from dateutil import rrule\n",
    "\n",
    "print(list(rrule.rrule(rrule.WEEKLY, dtstart=dt.datetime(2017, 7, 17), count=4)))  # 间隔一周的时间列表"
   ]
  },
  {
   "cell_type": "markdown",
   "metadata": {},
   "source": [
    "##### Pendulum(钟摆)"
   ]
  },
  {
   "cell_type": "markdown",
   "metadata": {},
   "source": [
    "Pendulum是一个开源的Python库，创建它是为了提供一个更好、更智能的下拉式datetime替代品。源代码:https://github.com/sdispater/pendulum。\n",
    "\n",
    "我还应该提到arrow (https://github.com/crsmithdev/arrow)。\n",
    "\n",
    "Arrow是一个更老、更知名的库，它解决了与摆锤相同的问题:为datetime提供了更丰富、更方便的API，填补了标准库的空白。\n",
    "\n",
    "不过，我将主要关注Pendulum，因为它修复了arrow的一些bug和问题。它更加一致和健壮(以牺牲一些性能为代价)。"
   ]
  },
  {
   "cell_type": "code",
   "execution_count": 74,
   "metadata": {
    "ExecuteTime": {
     "end_time": "2019-09-19T11:17:46.737000Z",
     "start_time": "2019-09-19T11:17:46.725000Z"
    }
   },
   "outputs": [
    {
     "name": "stdout",
     "output_type": "stream",
     "text": [
      "2019-09-19T19:17:46.731000+08:00\n"
     ]
    }
   ],
   "source": [
    "import pendulum\n",
    "\n",
    "now_in_shanghai = pendulum.now('Asia/Shanghai')  # 显示上海时间\n",
    "print(now_in_shanghai)"
   ]
  },
  {
   "cell_type": "code",
   "execution_count": 75,
   "metadata": {
    "ExecuteTime": {
     "end_time": "2019-09-19T11:17:47.077000Z",
     "start_time": "2019-09-19T11:17:47.073000Z"
    }
   },
   "outputs": [
    {
     "name": "stdout",
     "output_type": "stream",
     "text": [
      "2019-09-19T11:17:46.731000+00:00\n"
     ]
    }
   ],
   "source": [
    "# 时区转换\n",
    "print(now_in_shanghai.in_timezone('UTC'))"
   ]
  },
  {
   "cell_type": "code",
   "execution_count": 78,
   "metadata": {
    "ExecuteTime": {
     "end_time": "2019-09-19T11:20:59.776000Z",
     "start_time": "2019-09-19T11:20:59.770000Z"
    }
   },
   "outputs": [
    {
     "name": "stdout",
     "output_type": "stream",
     "text": [
      "明天: 2019-09-20T19:20:59.772000+08:00\n",
      "上一周: 2019-09-12T19:20:59.772000+08:00\n"
     ]
    }
   ],
   "source": [
    "tomorrow = pendulum.now().add(days=1)\n",
    "last_week = pendulum.now().subtract(weeks=1)\n",
    "\n",
    "print(\"明天:\", tomorrow)\n",
    "print(\"上一周:\", last_week)"
   ]
  },
  {
   "cell_type": "code",
   "execution_count": 80,
   "metadata": {
    "ExecuteTime": {
     "end_time": "2019-09-19T11:21:40.003000Z",
     "start_time": "2019-09-19T11:21:39.998000Z"
    }
   },
   "outputs": [
    {
     "name": "stdout",
     "output_type": "stream",
     "text": [
      "两分钟前: 2 minutes ago\n"
     ]
    }
   ],
   "source": [
    "past = pendulum.now().subtract(minutes=2)\n",
    "print(\"两分钟前:\", past.diff_for_humans())"
   ]
  },
  {
   "cell_type": "code",
   "execution_count": 82,
   "metadata": {
    "ExecuteTime": {
     "end_time": "2019-09-19T11:22:58.039000Z",
     "start_time": "2019-09-19T11:22:58.033000Z"
    }
   },
   "outputs": [
    {
     "name": "stdout",
     "output_type": "stream",
     "text": [
      "时间差: <Period [2019-09-12T19:20:59.772000+08:00 -> 2019-09-19T19:19:40+08:00]>\n",
      "23\n"
     ]
    }
   ],
   "source": [
    "delta = past - last_week  # 时间差\n",
    "print(\"时间差:\", delta)\n",
    "print(delta.hours)"
   ]
  },
  {
   "cell_type": "markdown",
   "metadata": {},
   "source": [
    "时间翻译"
   ]
  },
  {
   "cell_type": "code",
   "execution_count": 83,
   "metadata": {
    "ExecuteTime": {
     "end_time": "2019-09-19T11:23:43.413000Z",
     "start_time": "2019-09-19T11:23:43.408000Z"
    }
   },
   "outputs": [
    {
     "name": "stdout",
     "output_type": "stream",
     "text": [
      "6 days 23 hours 58 minutes 40 seconds\n"
     ]
    }
   ],
   "source": [
    "print(delta.in_words(locale='en'))"
   ]
  },
  {
   "cell_type": "code",
   "execution_count": 84,
   "metadata": {
    "ExecuteTime": {
     "end_time": "2019-09-19T11:24:29.556000Z",
     "start_time": "2019-09-19T11:24:29.548000Z"
    }
   },
   "outputs": [
    {
     "name": "stdout",
     "output_type": "stream",
     "text": [
      "2013-03-31T02:30:00+08:00\n"
     ]
    }
   ],
   "source": [
    "# Proper handling of datetime normalization  时间格式化\n",
    "print(pendulum.datetime(2013, 3, 31, 2, 30, tz='Asia/Shanghai'))"
   ]
  },
  {
   "cell_type": "code",
   "execution_count": 85,
   "metadata": {
    "ExecuteTime": {
     "end_time": "2019-09-19T11:25:41.622000Z",
     "start_time": "2019-09-19T11:25:41.606000Z"
    }
   },
   "outputs": [
    {
     "name": "stdout",
     "output_type": "stream",
     "text": [
      "2013-03-31T01:59:59.999999+01:00\n"
     ]
    }
   ],
   "source": [
    "# Proper handling of dst transitions  dst时间转换\n",
    "just_before = pendulum.datetime(2013, 3, 31, 1, 59, 59, 999999, tz='Europe/Paris')\n",
    "print(just_before)"
   ]
  },
  {
   "cell_type": "code",
   "execution_count": 86,
   "metadata": {
    "ExecuteTime": {
     "end_time": "2019-09-19T11:26:07.510000Z",
     "start_time": "2019-09-19T11:26:07.506000Z"
    }
   },
   "outputs": [
    {
     "name": "stdout",
     "output_type": "stream",
     "text": [
      "2013-03-31T03:00:00+02:00\n"
     ]
    }
   ],
   "source": [
    "print(just_before.add(microseconds=1))"
   ]
  },
  {
   "cell_type": "markdown",
   "metadata": {},
   "source": [
    "#### [How to Work with Python Date and Time Objects](https://academy.vertabelo.com/blog/python-datetime-for-beginners/)"
   ]
  },
  {
   "cell_type": "markdown",
   "metadata": {},
   "source": [
    "Python有5个类用于处理日期和时间对象:\n",
    "    \n",
    "- date - 只包含日期信息(年、月、日)。\n",
    "- time - 指与一天无关的时间(小时、分、秒、微秒)。\n",
    "- datetime - 组合日期和时间信息。\n",
    "- timedelta - 表示两个日期或时间之间的差值。\n",
    "- tzinfo - 一个操作时区信息的抽象类。"
   ]
  },
  {
   "cell_type": "markdown",
   "metadata": {},
   "source": [
    "这些类是在datetime模块中提供的。所以你需要通过导入所有需要的类，从日期和时间开始你的工作，就像这样:"
   ]
  },
  {
   "cell_type": "code",
   "execution_count": 87,
   "metadata": {
    "ExecuteTime": {
     "end_time": "2019-09-19T12:32:52.113000Z",
     "start_time": "2019-09-19T12:32:52.109000Z"
    },
    "collapsed": true
   },
   "outputs": [],
   "source": [
    "# Starting with the required imports\n",
    "from datetime import datetime, date, time, timedelta"
   ]
  },
  {
   "cell_type": "markdown",
   "metadata": {},
   "source": [
    "获取当前日期和时间\n",
    "\n",
    "首先，Python允许你获取当前日期和时间，这一点应该不足为奇。你还可以访问这些对象的独立组件。\n",
    "\n",
    "要获取当前日期，可以使用`date`类的`today()`方法，即写入`date.today()`。"
   ]
  },
  {
   "cell_type": "code",
   "execution_count": 88,
   "metadata": {
    "ExecuteTime": {
     "end_time": "2019-09-19T12:34:07.477000Z",
     "start_time": "2019-09-19T12:34:07.463000Z"
    }
   },
   "outputs": [
    {
     "name": "stdout",
     "output_type": "stream",
     "text": [
      "Today's date is  2019-09-19\n",
      "\n",
      " Year: 2019 \n",
      " Month: 9 \n",
      " Day: 19 \n",
      " Weekday: 3 \n",
      " Weekday (name): Thursday\n"
     ]
    }
   ],
   "source": [
    "# Getting current date\n",
    "today = date.today()\n",
    "days = [\"Monday\", \"Tuesday\", \"Wednesday\", \"Thursday\", \"Friday\", \"Saturday\", \"Sunday\"]\n",
    "print (\"Today's date is \", today)\n",
    "print (\"\\n\", \"Year:\", today.year,\n",
    "       \"\\n\", \"Month:\", today.month, \n",
    "       \"\\n\",\"Day:\", today.day, \n",
    "       \"\\n\",\"Weekday:\", today.weekday(),\n",
    "       \"\\n\",\"Weekday (name):\", days[today.weekday()])\n"
   ]
  },
  {
   "cell_type": "markdown",
   "metadata": {},
   "source": [
    "这将只返回今天的日期，没有确切的时间信息。但是，date有一组组件，你可以使用date对象的相应属性分别访问这些组件。\n",
    "\n",
    "正如你在上面的示例中所看到的，可以访问年、月、日，甚至工作日。\n",
    "\n",
    "注意，工作日作为索引提供，其中0对应于周一、1到周二、2到周三，依此类推。所以如果你想打印工作日的名字，你有两个选择:\n",
    "    \n",
    "    创建表示工作日名称的字符串列表;使用date.weekday()方法的输出作为索引访问它的各个元素。\n",
    "    创建索引到对应字符串名称的映射，然后使用date.weekday()返回的索引作为字典的键。"
   ]
  },
  {
   "cell_type": "markdown",
   "metadata": {},
   "source": [
    "#### [Python time Module](https://www.programiz.com/python-programming/time)"
   ]
  },
  {
   "cell_type": "code",
   "execution_count": 89,
   "metadata": {
    "ExecuteTime": {
     "end_time": "2019-09-19T12:38:00.641000Z",
     "start_time": "2019-09-19T12:38:00.638000Z"
    },
    "collapsed": true
   },
   "outputs": [],
   "source": [
    "import time"
   ]
  },
  {
   "cell_type": "markdown",
   "metadata": {},
   "source": [
    "##### time.time ()\n",
    "\n",
    "函数的作用是:返回从历元开始经过的秒数。\n",
    "    \n",
    "对于Unix系统，1970年1月1日00:00:00在UTC是epoch(时间开始的点)。"
   ]
  },
  {
   "cell_type": "code",
   "execution_count": 90,
   "metadata": {
    "ExecuteTime": {
     "end_time": "2019-09-19T12:38:44.378000Z",
     "start_time": "2019-09-19T12:38:44.375000Z"
    }
   },
   "outputs": [
    {
     "name": "stdout",
     "output_type": "stream",
     "text": [
      "Seconds since epoch = 1568896724.376\n"
     ]
    }
   ],
   "source": [
    "import time\n",
    "seconds = time.time()\n",
    "print(\"Seconds since epoch =\", seconds)\t"
   ]
  },
  {
   "cell_type": "markdown",
   "metadata": {},
   "source": [
    "##### time.ctime ()\n",
    "\n",
    "函数的作用是:以历元以来的秒为参数，返回一个表示本地时间的字符串。"
   ]
  },
  {
   "cell_type": "code",
   "execution_count": 91,
   "metadata": {
    "ExecuteTime": {
     "end_time": "2019-09-19T12:39:25.351000Z",
     "start_time": "2019-09-19T12:39:25.343000Z"
    }
   },
   "outputs": [
    {
     "name": "stdout",
     "output_type": "stream",
     "text": [
      "Local time: Thu Dec 27 23:49:29 2018\n"
     ]
    }
   ],
   "source": [
    "import time\n",
    "# seconds passed since epoch\n",
    "seconds = 1545925769.9618232\n",
    "local_time = time.ctime(seconds)\n",
    "print(\"Local time:\", local_time)"
   ]
  },
  {
   "cell_type": "markdown",
   "metadata": {},
   "source": [
    "##### time . sleep ()\n",
    "函数的作用是:在给定的秒数内暂停(延迟)当前线程的执行。"
   ]
  },
  {
   "cell_type": "code",
   "execution_count": 92,
   "metadata": {
    "ExecuteTime": {
     "end_time": "2019-09-19T12:40:05.975000Z",
     "start_time": "2019-09-19T12:40:03.569000Z"
    }
   },
   "outputs": [
    {
     "name": "stdout",
     "output_type": "stream",
     "text": [
      "This is printed immediately.\n",
      "This is printed after 2.4 seconds.\n"
     ]
    }
   ],
   "source": [
    "import time\n",
    "print(\"This is printed immediately.\")\n",
    "time.sleep(2.4)\n",
    "print(\"This is printed after 2.4 seconds.\")"
   ]
  },
  {
   "cell_type": "markdown",
   "metadata": {},
   "source": [
    "##### time.struct_time Class\n",
    "\n",
    "时间模块中的几个函数，如gmtime()、asctime()等，都需要时间。struct_time对象作为参数或返回它。"
   ]
  },
  {
   "cell_type": "markdown",
   "metadata": {},
   "source": [
    "|Index\t|Attribute\t|Values|\n",
    "|----|----|----|\n",
    "|0\t|tm_year\t|0000, ...., 2018, ..., 9999|\n",
    "|1\t|tm_mon\t|1, 2, ..., 12|\n",
    "|2\t|tm_mday\t|1, 2, ..., 31|\n",
    "|3\t|tm_hour\t|0, 1, ..., 23|\n",
    "|4\t|tm_min\t|0, 1, ..., 59|\n",
    "|5\t|tm_sec\t|0, 1, ..., 61|\n",
    "|6\t|tm_wday\t|0, 1, ..., 6; Monday is 0|\n",
    "|7\t|tm_yday\t|1, 2, ..., 366|\n",
    "|8\t|tm_isdst\t|0, 1 or -1|"
   ]
  },
  {
   "cell_type": "markdown",
   "metadata": {},
   "source": [
    "time.struct_time 期望它的第一个参数是一个包含9个元素的序列:"
   ]
  },
  {
   "cell_type": "code",
   "execution_count": 98,
   "metadata": {
    "ExecuteTime": {
     "end_time": "2019-09-19T12:48:19.383000Z",
     "start_time": "2019-09-19T12:48:19.379000Z"
    }
   },
   "outputs": [
    {
     "name": "stdout",
     "output_type": "stream",
     "text": [
      "time.struct_time(tm_year=2000, tm_mon=11, tm_mday=30, tm_hour=0, tm_min=0, tm_sec=0, tm_wday=3, tm_yday=335, tm_isdst=-1)\n"
     ]
    }
   ],
   "source": [
    "    temp_time = time.struct_time((2000,11,30,0,0,0,3,335,-1))\n",
    "print(temp_time)"
   ]
  },
  {
   "cell_type": "markdown",
   "metadata": {},
   "source": [
    "##### time.localtime ()\n",
    "\n",
    "函数的作用是:将历元之后经过的秒数作为参数，并在本地时间内返回struct_time。"
   ]
  },
  {
   "cell_type": "code",
   "execution_count": 100,
   "metadata": {
    "ExecuteTime": {
     "end_time": "2019-09-19T12:49:53.287000Z",
     "start_time": "2019-09-19T12:49:53.278000Z"
    }
   },
   "outputs": [
    {
     "name": "stdout",
     "output_type": "stream",
     "text": [
      "result: time.struct_time(tm_year=2018, tm_mon=12, tm_mday=27, tm_hour=23, tm_min=49, tm_sec=29, tm_wday=3, tm_yday=361, tm_isdst=0)\n",
      "\n",
      "year: 2018\n",
      "tm_hour: 23\n"
     ]
    }
   ],
   "source": [
    "import time\n",
    "result = time.localtime(1545925769)\n",
    "print(\"result:\", result)\n",
    "print(\"\\nyear:\", result.tm_year)\n",
    "print(\"tm_hour:\", result.tm_hour)"
   ]
  },
  {
   "cell_type": "markdown",
   "metadata": {},
   "source": [
    "如果没有参数或没有传递给localtime()，则使用time()返回的值。"
   ]
  },
  {
   "cell_type": "markdown",
   "metadata": {},
   "source": [
    "##### time.gmtime ()\n",
    "\n",
    "函数的作用是:将历元之后经过的秒数作为参数，并在UTC中返回struct_time。"
   ]
  },
  {
   "cell_type": "code",
   "execution_count": 101,
   "metadata": {
    "ExecuteTime": {
     "end_time": "2019-09-19T12:50:52.816000Z",
     "start_time": "2019-09-19T12:50:52.809000Z"
    }
   },
   "outputs": [
    {
     "name": "stdout",
     "output_type": "stream",
     "text": [
      "result: time.struct_time(tm_year=2018, tm_mon=12, tm_mday=27, tm_hour=15, tm_min=49, tm_sec=29, tm_wday=3, tm_yday=361, tm_isdst=0)\n",
      "\n",
      "year: 2018\n",
      "tm_hour: 15\n"
     ]
    }
   ],
   "source": [
    "import time\n",
    "result = time.gmtime(1545925769)\n",
    "print(\"result:\", result)\n",
    "print(\"\\nyear:\", result.tm_year)\n",
    "print(\"tm_hour:\", result.tm_hour)"
   ]
  },
  {
   "cell_type": "markdown",
   "metadata": {},
   "source": [
    "如果没有参数或没有传递给gmtime()，则使用time()返回的值。"
   ]
  },
  {
   "cell_type": "markdown",
   "metadata": {},
   "source": [
    "##### time.mktime ()\n",
    "函数的作用是:将struct_time(或包含与struct_time对应的9个元素的元组)作为参数，并在本地时间中返回历元以来的秒数。基本上，它是localtime()的逆函数。"
   ]
  },
  {
   "cell_type": "code",
   "execution_count": 102,
   "metadata": {
    "ExecuteTime": {
     "end_time": "2019-09-19T12:51:45.539000Z",
     "start_time": "2019-09-19T12:51:45.535000Z"
    }
   },
   "outputs": [
    {
     "name": "stdout",
     "output_type": "stream",
     "text": [
      "Local time: 1545957844.0\n"
     ]
    }
   ],
   "source": [
    "import time\n",
    "t = (2018, 12, 28, 8, 44, 4, 4, 362, 0)\n",
    "local_time = time.mktime(t)\n",
    "print(\"Local time:\", local_time)"
   ]
  },
  {
   "cell_type": "markdown",
   "metadata": {},
   "source": [
    "下面的示例显示了mktime()和localtime()之间的关系。"
   ]
  },
  {
   "cell_type": "code",
   "execution_count": 103,
   "metadata": {
    "ExecuteTime": {
     "end_time": "2019-09-19T12:52:10.680000Z",
     "start_time": "2019-09-19T12:52:10.664000Z"
    }
   },
   "outputs": [
    {
     "name": "stdout",
     "output_type": "stream",
     "text": [
      "t1:  time.struct_time(tm_year=2018, tm_mon=12, tm_mday=27, tm_hour=23, tm_min=49, tm_sec=29, tm_wday=3, tm_yday=361, tm_isdst=0)\n",
      "\\s: 1545925769\n"
     ]
    }
   ],
   "source": [
    "import time\n",
    "seconds = 1545925769\n",
    "# returns struct_time\n",
    "t = time.localtime(seconds)\n",
    "print(\"t1: \", t)\n",
    "# returns seconds from struct_time\n",
    "s = time.mktime(t)\n",
    "print(\"\\s:\", seconds)"
   ]
  },
  {
   "cell_type": "markdown",
   "metadata": {},
   "source": [
    "##### time.asctime ()\n",
    "asctime()函数接受struct_time(或包含与struct_time对应的9个元素的元组)作为参数，并返回表示它的字符串。这里有一个例子:"
   ]
  },
  {
   "cell_type": "code",
   "execution_count": 104,
   "metadata": {
    "ExecuteTime": {
     "end_time": "2019-09-19T12:52:52.583000Z",
     "start_time": "2019-09-19T12:52:52.571000Z"
    }
   },
   "outputs": [
    {
     "name": "stdout",
     "output_type": "stream",
     "text": [
      "Result: Fri Dec 28 08:44:04 2018\n"
     ]
    }
   ],
   "source": [
    "import time\n",
    "t = (2018, 12, 28, 8, 44, 4, 4, 362, 0)\n",
    "result = time.asctime(t)\n",
    "print(\"Result:\", result)"
   ]
  },
  {
   "cell_type": "markdown",
   "metadata": {},
   "source": [
    "##### time.strftime ()\n",
    "函数的作用是:将struct_time(或与之对应的元组)作为参数，并根据使用的格式代码返回表示它的字符串。例如,"
   ]
  },
  {
   "cell_type": "markdown",
   "metadata": {},
   "source": [
    "[Python strftime()](https://www.programiz.com/python-programming/datetime/strftime)\n",
    "\n",
    "![](https://cdn.programiz.com/sites/tutorial2program/files/python-strftime-format-2.jpg)"
   ]
  },
  {
   "cell_type": "code",
   "execution_count": 105,
   "metadata": {
    "ExecuteTime": {
     "end_time": "2019-09-19T12:53:30.052000Z",
     "start_time": "2019-09-19T12:53:30.045000Z"
    }
   },
   "outputs": [
    {
     "name": "stdout",
     "output_type": "stream",
     "text": [
      "09/19/2019, 20:53:30\n"
     ]
    }
   ],
   "source": [
    "import time\n",
    "named_tuple = time.localtime() # get struct_time\n",
    "time_string = time.strftime(\"%m/%d/%Y, %H:%M:%S\", named_tuple)\n",
    "print(time_string)"
   ]
  },
  {
   "cell_type": "markdown",
   "metadata": {
    "ExecuteTime": {
     "end_time": "2019-09-19T12:54:40.505000Z",
     "start_time": "2019-09-19T12:54:40.495000Z"
    }
   },
   "source": [
    "%Y, %m, %d, %H etc. 格式化标志.\n",
    "\n",
    "- %Y - year [0001,..., 2018, 2019,..., 9999]\n",
    "- %m - month [01, 02, ..., 11, 12]\n",
    "- %d - day [01, 02, ..., 30, 31]\n",
    "- %H - hour [00, 01, ..., 22, 23\n",
    "- %M - month [00, 01, ..., 58, 59]\n",
    "- %S - second [00, 01, ..., 58, 61]\n",
    "\n",
    "[time.strftime()](https://docs.python.org/3/library/time.html#time.strftime)"
   ]
  },
  {
   "cell_type": "markdown",
   "metadata": {},
   "source": [
    "##### time.strptime ()\n",
    "函数的作用是:解析一个表示时间的字符串并返回struct_time。"
   ]
  },
  {
   "cell_type": "code",
   "execution_count": 107,
   "metadata": {
    "ExecuteTime": {
     "end_time": "2019-09-19T12:55:35.909000Z",
     "start_time": "2019-09-19T12:55:35.903000Z"
    }
   },
   "outputs": [
    {
     "name": "stdout",
     "output_type": "stream",
     "text": [
      "time.struct_time(tm_year=2018, tm_mon=6, tm_mday=21, tm_hour=0, tm_min=0, tm_sec=0, tm_wday=3, tm_yday=172, tm_isdst=-1)\n"
     ]
    }
   ],
   "source": [
    "import time\n",
    "time_string = \"21 June, 2018\"\n",
    "result = time.strptime(time_string, \"%d %B, %Y\")\n",
    "print(result)"
   ]
  },
  {
   "cell_type": "markdown",
   "metadata": {},
   "source": [
    "#### [Python datetime](https://www.programiz.com/python-programming/datetime)"
   ]
  },
  {
   "cell_type": "markdown",
   "metadata": {},
   "source": [
    "##### 获取当前日期和时间"
   ]
  },
  {
   "cell_type": "code",
   "execution_count": 108,
   "metadata": {
    "ExecuteTime": {
     "end_time": "2019-09-19T12:58:02.201000Z",
     "start_time": "2019-09-19T12:58:02.196000Z"
    }
   },
   "outputs": [
    {
     "name": "stdout",
     "output_type": "stream",
     "text": [
      "2019-09-19 20:58:02.198000\n"
     ]
    }
   ],
   "source": [
    "import datetime\n",
    "datetime_object = datetime.datetime.now()\n",
    "print(datetime_object)"
   ]
  },
  {
   "cell_type": "markdown",
   "metadata": {},
   "source": [
    "在这里，我们使用import datetime语句导入了datetime模块。\n",
    "\n",
    "datetime模块中定义的一个类是datetime类。然后，我们使用now()方法创建一个包含当前本地日期和时间的datetime对象。"
   ]
  },
  {
   "cell_type": "markdown",
   "metadata": {},
   "source": [
    "##### 获得当前日期"
   ]
  },
  {
   "cell_type": "code",
   "execution_count": 109,
   "metadata": {
    "ExecuteTime": {
     "end_time": "2019-09-19T12:58:55.763000Z",
     "start_time": "2019-09-19T12:58:55.758000Z"
    }
   },
   "outputs": [
    {
     "name": "stdout",
     "output_type": "stream",
     "text": [
      "2019-09-19\n"
     ]
    }
   ],
   "source": [
    "import datetime\n",
    "date_object = datetime.date.today()\n",
    "print(date_object)"
   ]
  },
  {
   "cell_type": "markdown",
   "metadata": {},
   "source": [
    "使用dir()函数获得一个包含模块所有属性的列表"
   ]
  },
  {
   "cell_type": "code",
   "execution_count": 110,
   "metadata": {
    "ExecuteTime": {
     "end_time": "2019-09-19T12:59:32.629000Z",
     "start_time": "2019-09-19T12:59:32.620000Z"
    }
   },
   "outputs": [
    {
     "name": "stdout",
     "output_type": "stream",
     "text": [
      "['MAXYEAR', 'MINYEAR', '__builtins__', '__cached__', '__doc__', '__file__', '__loader__', '__name__', '__package__', '__spec__', '_divide_and_round', 'date', 'datetime', 'datetime_CAPI', 'time', 'timedelta', 'timezone', 'tzinfo']\n"
     ]
    }
   ],
   "source": [
    "import datetime\n",
    "print(dir(datetime))"
   ]
  },
  {
   "cell_type": "markdown",
   "metadata": {},
   "source": [
    "datetime模块中常用的类有:\n",
    "    \n",
    "- date Class\n",
    "- time Class\n",
    "- datetime Class\n",
    "- timedelta Class"
   ]
  },
  {
   "cell_type": "markdown",
   "metadata": {},
   "source": [
    "##### 时间对象来表示日期"
   ]
  },
  {
   "cell_type": "code",
   "execution_count": 111,
   "metadata": {
    "ExecuteTime": {
     "end_time": "2019-09-19T13:01:01.300000Z",
     "start_time": "2019-09-19T13:01:01.296000Z"
    }
   },
   "outputs": [
    {
     "name": "stdout",
     "output_type": "stream",
     "text": [
      "2019-04-13\n"
     ]
    }
   ],
   "source": [
    "import datetime\n",
    "d = datetime.date(2019, 4, 13)\n",
    "print(d)"
   ]
  },
  {
   "cell_type": "markdown",
   "metadata": {},
   "source": [
    "date()是date类的构造函数。构造函数接受三个参数:年、月和日。"
   ]
  },
  {
   "cell_type": "code",
   "execution_count": 112,
   "metadata": {
    "ExecuteTime": {
     "end_time": "2019-09-19T13:01:37.980000Z",
     "start_time": "2019-09-19T13:01:37.972000Z"
    }
   },
   "outputs": [
    {
     "name": "stdout",
     "output_type": "stream",
     "text": [
      "2019-04-13\n"
     ]
    }
   ],
   "source": [
    "from datetime import date\n",
    "a = date(2019, 4, 13)\n",
    "print(a)"
   ]
  },
  {
   "cell_type": "markdown",
   "metadata": {},
   "source": [
    "##### 获得当前日期\n",
    "可以使用一个名为today()的类方法创建一个包含当前日期的date对象。方法如下:"
   ]
  },
  {
   "cell_type": "code",
   "execution_count": 113,
   "metadata": {
    "ExecuteTime": {
     "end_time": "2019-09-19T13:02:18.685000Z",
     "start_time": "2019-09-19T13:02:18.681000Z"
    }
   },
   "outputs": [
    {
     "name": "stdout",
     "output_type": "stream",
     "text": [
      "Current date = 2019-09-19\n"
     ]
    }
   ],
   "source": [
    "from datetime import date\n",
    "today = date.today()\n",
    "print(\"Current date =\", today)"
   ]
  },
  {
   "cell_type": "markdown",
   "metadata": {},
   "source": [
    "##### 从时间戳获取日期\n",
    "我们还可以从时间戳创建日期对象。Unix时间戳是一个特定日期到UTC的1970年1月1日之间的秒数。可以使用fromtimestamp()方法将时间戳转换为日期。"
   ]
  },
  {
   "cell_type": "code",
   "execution_count": 114,
   "metadata": {
    "ExecuteTime": {
     "end_time": "2019-09-19T13:02:54.080000Z",
     "start_time": "2019-09-19T13:02:54.070000Z"
    }
   },
   "outputs": [
    {
     "name": "stdout",
     "output_type": "stream",
     "text": [
      "Date = 2012-01-11\n"
     ]
    }
   ],
   "source": [
    "from datetime import date\n",
    "timestamp = date.fromtimestamp(1326244364)\n",
    "print(\"Date =\", timestamp)"
   ]
  },
  {
   "cell_type": "markdown",
   "metadata": {},
   "source": [
    "##### 打印今天的年、月和日\n",
    "我们可以很容易地从date对象中得到年、月、日、星期等。方法如下:"
   ]
  },
  {
   "cell_type": "code",
   "execution_count": 115,
   "metadata": {
    "ExecuteTime": {
     "end_time": "2019-09-19T13:03:23.471000Z",
     "start_time": "2019-09-19T13:03:23.464000Z"
    }
   },
   "outputs": [
    {
     "name": "stdout",
     "output_type": "stream",
     "text": [
      "Current year: 2019\n",
      "Current month: 9\n",
      "Current day: 19\n"
     ]
    }
   ],
   "source": [
    "from datetime import date\n",
    "# date object of today's date\n",
    "today = date.today() \n",
    "print(\"Current year:\", today.year)\n",
    "print(\"Current month:\", today.month)\n",
    "print(\"Current day:\", today.day)"
   ]
  },
  {
   "cell_type": "markdown",
   "metadata": {},
   "source": [
    "**datetime.time**\n",
    "\n",
    "从time类实例化的时间对象表示本地时间。"
   ]
  },
  {
   "cell_type": "markdown",
   "metadata": {},
   "source": [
    "##### 表示时间的时间对象"
   ]
  },
  {
   "cell_type": "code",
   "execution_count": 116,
   "metadata": {
    "ExecuteTime": {
     "end_time": "2019-09-19T13:04:26.606000Z",
     "start_time": "2019-09-19T13:04:26.596000Z"
    }
   },
   "outputs": [
    {
     "name": "stdout",
     "output_type": "stream",
     "text": [
      "a = 00:00:00\n",
      "b = 11:34:56\n",
      "c = 11:34:56\n",
      "d = 11:34:56.234566\n"
     ]
    }
   ],
   "source": [
    "from datetime import time\n",
    "# time(hour = 0, minute = 0, second = 0)\n",
    "a = time()\n",
    "print(\"a =\", a)\n",
    "# time(hour, minute and second)\n",
    "b = time(11, 34, 56)\n",
    "print(\"b =\", b)\n",
    "# time(hour, minute and second)\n",
    "c = time(hour = 11, minute = 34, second = 56)\n",
    "print(\"c =\", c)\n",
    "# time(hour, minute, second, microsecond)\n",
    "d = time(11, 34, 56, 234566)\n",
    "print(\"d =\", d)"
   ]
  },
  {
   "cell_type": "markdown",
   "metadata": {},
   "source": [
    "##### 打印小时、分钟、秒和微秒\n",
    "\n",
    "一旦创建了时间对象，就可以轻松地打印它的属性，如hour、minute等。"
   ]
  },
  {
   "cell_type": "code",
   "execution_count": 117,
   "metadata": {
    "ExecuteTime": {
     "end_time": "2019-09-19T13:05:05.954000Z",
     "start_time": "2019-09-19T13:05:05.948000Z"
    }
   },
   "outputs": [
    {
     "name": "stdout",
     "output_type": "stream",
     "text": [
      "hour = 11\n",
      "minute = 34\n",
      "second = 56\n",
      "microsecond = 0\n"
     ]
    }
   ],
   "source": [
    "from datetime import time\n",
    "a = time(11, 34, 56)\n",
    "print(\"hour =\", a.hour)\n",
    "print(\"minute =\", a.minute)\n",
    "print(\"second =\", a.second)\n",
    "print(\"microsecond =\", a.microsecond)"
   ]
  },
  {
   "cell_type": "markdown",
   "metadata": {},
   "source": [
    "注意，我们没有传递微秒参数。因此，它的默认值为0。"
   ]
  },
  {
   "cell_type": "markdown",
   "metadata": {},
   "source": [
    "**datetime.datetime**\n",
    "\n",
    "datetime模块有一个名为dateclass的类，它可以包含date和time对象的信息。"
   ]
  },
  {
   "cell_type": "markdown",
   "metadata": {},
   "source": [
    "##### Python datetime对象"
   ]
  },
  {
   "cell_type": "code",
   "execution_count": 118,
   "metadata": {
    "ExecuteTime": {
     "end_time": "2019-09-19T13:06:23.853000Z",
     "start_time": "2019-09-19T13:06:23.844000Z"
    }
   },
   "outputs": [
    {
     "name": "stdout",
     "output_type": "stream",
     "text": [
      "2018-11-28 00:00:00\n",
      "2017-11-28 23:55:59.342380\n"
     ]
    }
   ],
   "source": [
    "from datetime import datetime\n",
    "#datetime(year, month, day)\n",
    "a = datetime(2018, 11, 28)\n",
    "print(a)\n",
    "# datetime(year, month, day, hour, minute, second, microsecond)\n",
    "b = datetime(2017, 11, 28, 23, 55, 59, 342380)\n",
    "print(b)"
   ]
  },
  {
   "cell_type": "markdown",
   "metadata": {},
   "source": [
    "datetime()构造函数中的前三个参数year、month和day是必需的。"
   ]
  },
  {
   "cell_type": "markdown",
   "metadata": {},
   "source": [
    "##### 打印年份、月份、时间、分钟和时间戳"
   ]
  },
  {
   "cell_type": "code",
   "execution_count": 65,
   "metadata": {
    "ExecuteTime": {
     "end_time": "2019-09-20T02:01:24.517000Z",
     "start_time": "2019-09-20T02:01:24.509000Z"
    }
   },
   "outputs": [
    {
     "name": "stdout",
     "output_type": "stream",
     "text": [
      "year = 2019\n",
      "month = 11\n",
      "hour = 23\n",
      "minute = 55\n",
      "timestamp = 1574956559.34238\n",
      "tzinfo: None\n"
     ]
    }
   ],
   "source": [
    "from datetime import datetime\n",
    "a = datetime(2019, 11, 28, 23, 55, 59, 342380)\n",
    "print(\"year =\", a.year)\n",
    "print(\"month =\", a.month)\n",
    "print(\"hour =\", a.hour)\n",
    "print(\"minute =\", a.minute)\n",
    "print(\"timestamp =\", a.timestamp())\n",
    "print('tzinfo:', a.tzinfo)"
   ]
  },
  {
   "cell_type": "code",
   "execution_count": 67,
   "metadata": {
    "ExecuteTime": {
     "end_time": "2019-09-20T02:01:52.149000Z",
     "start_time": "2019-09-20T02:01:52.144000Z"
    }
   },
   "outputs": [
    {
     "name": "stdout",
     "output_type": "stream",
     "text": [
      "Earliest  : 00:00:00\n",
      "Latest    : 23:59:59.999999\n",
      "Resolution: 0:00:00.000001\n"
     ]
    }
   ],
   "source": [
    "# 最大最小时间范围\n",
    "\n",
    "import datetime\n",
    "\n",
    "print('Earliest  :', datetime.time.min)\n",
    "print('Latest    :', datetime.time.max)\n",
    "print('Resolution:', datetime.time.resolution)"
   ]
  },
  {
   "cell_type": "code",
   "execution_count": 63,
   "metadata": {
    "ExecuteTime": {
     "end_time": "2019-09-20T01:59:31.500000Z",
     "start_time": "2019-09-20T01:59:31.493000Z"
    }
   },
   "outputs": [
    {
     "name": "stdout",
     "output_type": "stream",
     "text": [
      "2019-09-20 09:59:31.496000\n",
      "Current date and time :  2019-09-20 09:59:31\n",
      "当前时间不包含日期的: 09:59:31\n"
     ]
    }
   ],
   "source": [
    "import datetime\n",
    "now = datetime.datetime.now()\n",
    "print (now)\n",
    "print (\"Current date and time : \", now.strftime(\"%Y-%m-%d %H:%M:%S\"))\n",
    "\n",
    "now_time = now.time().strftime(\"%H:%M:%S\")\n",
    "print(\"当前时间不包含日期的:\", now_time)"
   ]
  },
  {
   "cell_type": "code",
   "execution_count": null,
   "metadata": {
    "collapsed": true
   },
   "outputs": [],
   "source": []
  },
  {
   "cell_type": "markdown",
   "metadata": {},
   "source": [
    "**datetime.timedelta**\n",
    "\n",
    "timedelta对象表示两个日期或时间之间的差。"
   ]
  },
  {
   "cell_type": "markdown",
   "metadata": {},
   "source": [
    "##### 两个日期和时间的区别"
   ]
  },
  {
   "cell_type": "code",
   "execution_count": 120,
   "metadata": {
    "ExecuteTime": {
     "end_time": "2019-09-19T13:08:41.061000Z",
     "start_time": "2019-09-19T13:08:41.038000Z"
    }
   },
   "outputs": [
    {
     "name": "stdout",
     "output_type": "stream",
     "text": [
      "t3 = 201 days, 0:00:00\n",
      "t6 = -333 days, 1:14:20\n",
      "type of t3 = <class 'datetime.timedelta'>\n",
      "type of t6 = <class 'datetime.timedelta'>\n"
     ]
    }
   ],
   "source": [
    "from datetime import datetime, date\n",
    "t1 = date(year = 2018, month = 7, day = 12)\n",
    "t2 = date(year = 2017, month = 12, day = 23)\n",
    "t3 = t1 - t2\n",
    "print(\"t3 =\", t3)\n",
    "\n",
    "t4 = datetime(year = 2018, month = 7, day = 12, hour = 7, minute = 9, second = 33)\n",
    "t5 = datetime(year = 2019, month = 6, day = 10, hour = 5, minute = 55, second = 13)\n",
    "t6 = t4 - t5\n",
    "\n",
    "print(\"t6 =\", t6)\n",
    "print(\"type of t3 =\", type(t3)) \n",
    "print(\"type of t6 =\", type(t6)) "
   ]
  },
  {
   "cell_type": "markdown",
   "metadata": {},
   "source": [
    "##### timedelta 两个时间增量对象之间的差异"
   ]
  },
  {
   "cell_type": "code",
   "execution_count": 121,
   "metadata": {
    "ExecuteTime": {
     "end_time": "2019-09-19T13:09:21.095000Z",
     "start_time": "2019-09-19T13:09:21.085000Z"
    }
   },
   "outputs": [
    {
     "name": "stdout",
     "output_type": "stream",
     "text": [
      "t3 = 14 days, 13:55:39\n"
     ]
    }
   ],
   "source": [
    "from datetime import timedelta\n",
    "t1 = timedelta(weeks = 2, days = 5, hours = 1, seconds = 33)\n",
    "t2 = timedelta(days = 4, hours = 11, minutes = 4, seconds = 54)\n",
    "t3 = t1 - t2\n",
    "print(\"t3 =\", t3)"
   ]
  },
  {
   "cell_type": "code",
   "execution_count": 69,
   "metadata": {
    "ExecuteTime": {
     "end_time": "2019-09-20T02:08:29.781000Z",
     "start_time": "2019-09-20T02:08:29.772000Z"
    }
   },
   "outputs": [
    {
     "name": "stdout",
     "output_type": "stream",
     "text": [
      "291\n",
      "\n",
      "\n",
      "curdate =  2019-09-20\n"
     ]
    }
   ],
   "source": [
    "import time  \n",
    "import datetime  \n",
    "\n",
    "d1 = datetime.datetime(2018, 10, 18)  \n",
    "d2 = datetime.datetime(2017, 12, 31)  \n",
    "\n",
    "print ( (d1 - d2).days)\n",
    "print('\\n')\n",
    "\n",
    "## 当前日期\n",
    "curdate = datetime.date.today()\n",
    "print (\"curdate = \", curdate)"
   ]
  },
  {
   "cell_type": "markdown",
   "metadata": {},
   "source": [
    "##### 打印负时间增量对象"
   ]
  },
  {
   "cell_type": "code",
   "execution_count": 122,
   "metadata": {
    "ExecuteTime": {
     "end_time": "2019-09-19T13:09:55.685000Z",
     "start_time": "2019-09-19T13:09:55.674000Z"
    }
   },
   "outputs": [
    {
     "name": "stdout",
     "output_type": "stream",
     "text": [
      "t3 = -1 day, 23:59:39\n",
      "t3 = 0:00:21\n"
     ]
    }
   ],
   "source": [
    "from datetime import timedelta\n",
    "t1 = timedelta(seconds = 33)\n",
    "t2 = timedelta(seconds = 54)\n",
    "t3 = t1 - t2\n",
    "\n",
    "print(\"t3 =\", t3)\n",
    "print(\"t3 =\", abs(t3))"
   ]
  },
  {
   "cell_type": "markdown",
   "metadata": {},
   "source": [
    "##### 持续时间(秒)\n",
    "你可以使用total_seconds()方法获得timedelta对象中的总秒数。"
   ]
  },
  {
   "cell_type": "code",
   "execution_count": 123,
   "metadata": {
    "ExecuteTime": {
     "end_time": "2019-09-19T13:10:39.060000Z",
     "start_time": "2019-09-19T13:10:39.049000Z"
    }
   },
   "outputs": [
    {
     "name": "stdout",
     "output_type": "stream",
     "text": [
      "total seconds = 435633.233423\n"
     ]
    }
   ],
   "source": [
    "from datetime import timedelta\n",
    "t = timedelta(days = 5, hours = 1, seconds = 33, microseconds = 233423)\n",
    "print(\"total seconds =\", t.total_seconds())"
   ]
  },
  {
   "cell_type": "markdown",
   "metadata": {},
   "source": [
    "你还可以使用+运算符找到两个日期和时间的和。此外，还可以用整数和浮点数乘和除时间增量对象。"
   ]
  },
  {
   "cell_type": "markdown",
   "metadata": {},
   "source": [
    "##### Python datetime格式\n",
    "日期和时间的表示方式可能在不同的地方、组织等不同。在美国使用mm/dd/yyyy更为常见，而在英国使用dd/mm/yyyy更为常见。"
   ]
  },
  {
   "cell_type": "markdown",
   "metadata": {
    "ExecuteTime": {
     "end_time": "2019-09-19T13:11:48.617000Z",
     "start_time": "2019-09-19T13:11:48.613000Z"
    }
   },
   "source": [
    "Python有strftime()和strptime()方法来处理这个问题。"
   ]
  },
  {
   "cell_type": "markdown",
   "metadata": {},
   "source": [
    "** Python strftime() - datetime对象到字符串**\n",
    "\n",
    "strftime()方法是在date、datetime和time类下面定义的。该方法从给定的日期、日期时间或时间对象创建格式化字符串。"
   ]
  },
  {
   "cell_type": "markdown",
   "metadata": {},
   "source": [
    "##### 使用strftime()格式化日期"
   ]
  },
  {
   "cell_type": "code",
   "execution_count": 125,
   "metadata": {
    "ExecuteTime": {
     "end_time": "2019-09-19T13:12:55.052000Z",
     "start_time": "2019-09-19T13:12:55.042000Z"
    }
   },
   "outputs": [
    {
     "name": "stdout",
     "output_type": "stream",
     "text": [
      "time: 21:12:55\n",
      "s1: 09/19/2019, 21:12:55\n",
      "s2: 19/09/2019, 21:12:55\n"
     ]
    }
   ],
   "source": [
    "from datetime import datetime\n",
    "# current date and time\n",
    "now = datetime.now()\n",
    "t = now.strftime(\"%H:%M:%S\")\n",
    "print(\"time:\", t)\n",
    "s1 = now.strftime(\"%m/%d/%Y, %H:%M:%S\")\n",
    "# mm/dd/YY H:M:S format\n",
    "print(\"s1:\", s1)\n",
    "s2 = now.strftime(\"%d/%m/%Y, %H:%M:%S\")\n",
    "# dd/mm/YY H:M:S format\n",
    "print(\"s2:\", s2)"
   ]
  },
  {
   "cell_type": "markdown",
   "metadata": {},
   "source": [
    "这里，%Y、%m、%d、%H等是格式标志。strftime()方法接受一个或多个格式代码，并根据它返回格式化的字符串。"
   ]
  },
  {
   "cell_type": "markdown",
   "metadata": {},
   "source": [
    "    %Y - year [0001,..., 2018, 2019,..., 9999]\n",
    "    %m - month [01, 02, ..., 11, 12]\n",
    "    %d - day [01, 02, ..., 30, 31]\n",
    "    %H - hour [00, 01, ..., 22, 23\n",
    "    %M - minute [00, 01, ..., 58, 59]\n",
    "    %S - second [00, 01, ..., 58, 59]"
   ]
  },
  {
   "cell_type": "markdown",
   "metadata": {},
   "source": [
    "更多使用见[Python strftime().](https://www.programiz.com/python-programming/datetime/strftime)"
   ]
  },
  {
   "cell_type": "markdown",
   "metadata": {},
   "source": [
    "**Python strptime()——字符串到datetime**\n",
    "\n",
    "方法的作用是:根据给定的字符串(表示日期和时间)创建一个datetime对象。"
   ]
  },
  {
   "cell_type": "markdown",
   "metadata": {},
   "source": [
    "##### strptime()"
   ]
  },
  {
   "cell_type": "code",
   "execution_count": 126,
   "metadata": {
    "ExecuteTime": {
     "end_time": "2019-09-19T13:15:41.790000Z",
     "start_time": "2019-09-19T13:15:41.785000Z"
    }
   },
   "outputs": [
    {
     "name": "stdout",
     "output_type": "stream",
     "text": [
      "date_string = 21 June, 2018\n",
      "date_object = 2018-06-21 00:00:00\n"
     ]
    }
   ],
   "source": [
    "from datetime import datetime\n",
    "date_string = \"21 June, 2018\"\n",
    "print(\"date_string =\", date_string)\n",
    "date_object = datetime.strptime(date_string, \"%d %B, %Y\")\n",
    "print(\"date_object =\", date_object)"
   ]
  },
  {
   "cell_type": "markdown",
   "metadata": {},
   "source": [
    "strptime()方法有两个参数:\n",
    "    \n",
    "表示与第一个参数等价的日期和时间格式代码的字符串\n",
    "\n",
    "另外，%d、%B和%Y格式代码分别用于日、月(全称)和年。\n",
    "\n",
    "访问[Python strptime()](https://www.programiz.com/python-programming/datetime/strptime)了解更多信息。"
   ]
  },
  {
   "cell_type": "markdown",
   "metadata": {},
   "source": [
    "假设你正在处理一个项目，需要根据其时区显示日期和时间。我们建议你使用第三方[pytZ module](http://pytz.sourceforge.net/)，而不是自己处理时区。"
   ]
  },
  {
   "cell_type": "code",
   "execution_count": 127,
   "metadata": {
    "ExecuteTime": {
     "end_time": "2019-09-19T13:18:02.454000Z",
     "start_time": "2019-09-19T13:18:02.417000Z"
    }
   },
   "outputs": [
    {
     "name": "stdout",
     "output_type": "stream",
     "text": [
      "Local: 09/19/2019, 21:18:02\n",
      "NY: 09/19/2019, 09:18:02\n",
      "London: 09/19/2019, 14:18:02\n"
     ]
    }
   ],
   "source": [
    "from datetime import datetime\n",
    "import pytz\n",
    "local = datetime.now()\n",
    "print(\"Local:\", local.strftime(\"%m/%d/%Y, %H:%M:%S\"))\n",
    "tz_NY = pytz.timezone('America/New_York') \n",
    "datetime_NY = datetime.now(tz_NY)\n",
    "print(\"NY:\", datetime_NY.strftime(\"%m/%d/%Y, %H:%M:%S\"))\n",
    "tz_London = pytz.timezone('Europe/London')\n",
    "datetime_London = datetime.now(tz_London)\n",
    "print(\"London:\", datetime_London.strftime(\"%m/%d/%Y, %H:%M:%S\"))"
   ]
  },
  {
   "cell_type": "markdown",
   "metadata": {},
   "source": [
    "#### [Python Datetime](https://www.w3schools.com/python/python_datetime.asp)"
   ]
  },
  {
   "cell_type": "markdown",
   "metadata": {},
   "source": [
    "##### 当前时间"
   ]
  },
  {
   "cell_type": "code",
   "execution_count": 129,
   "metadata": {
    "ExecuteTime": {
     "end_time": "2019-09-19T13:18:55.760000Z",
     "start_time": "2019-09-19T13:18:55.754000Z"
    }
   },
   "outputs": [
    {
     "name": "stdout",
     "output_type": "stream",
     "text": [
      "2019-09-19 21:18:55.756000\n"
     ]
    }
   ],
   "source": [
    "import datetime\n",
    "\n",
    "x = datetime.datetime.now()\n",
    "print(x)"
   ]
  },
  {
   "cell_type": "markdown",
   "metadata": {},
   "source": [
    "##### 指定格式"
   ]
  },
  {
   "cell_type": "code",
   "execution_count": 128,
   "metadata": {
    "ExecuteTime": {
     "end_time": "2019-09-19T13:18:40.524000Z",
     "start_time": "2019-09-19T13:18:40.519000Z"
    }
   },
   "outputs": [
    {
     "name": "stdout",
     "output_type": "stream",
     "text": [
      "2019\n",
      "Thursday\n"
     ]
    }
   ],
   "source": [
    "import datetime\n",
    "\n",
    "x = datetime.datetime.now()\n",
    "\n",
    "print(x.year)\n",
    "print(x.strftime(\"%A\"))"
   ]
  },
  {
   "cell_type": "markdown",
   "metadata": {},
   "source": [
    "##### 创建时间对象"
   ]
  },
  {
   "cell_type": "code",
   "execution_count": 130,
   "metadata": {
    "ExecuteTime": {
     "end_time": "2019-09-19T13:20:36.419000Z",
     "start_time": "2019-09-19T13:20:36.414000Z"
    }
   },
   "outputs": [
    {
     "name": "stdout",
     "output_type": "stream",
     "text": [
      "2020-05-17 00:00:00\n"
     ]
    }
   ],
   "source": [
    "import datetime\n",
    "\n",
    "x = datetime.datetime(2020, 5, 17)\n",
    "\n",
    "print(x)"
   ]
  },
  {
   "cell_type": "markdown",
   "metadata": {},
   "source": [
    "datetime()类还接受时间和时区(小时、分钟、秒、微秒、tzone)的参数，但它们是可选的，默认值为0(时区没有参数)。"
   ]
  },
  {
   "cell_type": "markdown",
   "metadata": {},
   "source": [
    "##### strftime()方法\n",
    "\n",
    "datetime对象具有将日期对象格式化为可读字符串的方法。\n",
    "\n",
    "该方法被调用strftime()，并接受一个参数format来指定返回字符串的格式:"
   ]
  },
  {
   "cell_type": "code",
   "execution_count": 131,
   "metadata": {
    "ExecuteTime": {
     "end_time": "2019-09-19T13:21:49.737000Z",
     "start_time": "2019-09-19T13:21:49.732000Z"
    }
   },
   "outputs": [
    {
     "name": "stdout",
     "output_type": "stream",
     "text": [
      "June\n"
     ]
    }
   ],
   "source": [
    "import datetime\n",
    "\n",
    "x = datetime.datetime(2018, 6, 1)\n",
    "\n",
    "print(x.strftime(\"%B\"))"
   ]
  },
  {
   "cell_type": "markdown",
   "metadata": {},
   "source": [
    "所有规范格式化的参考资料:\n",
    "    \n",
    "|Directive\t|Description\t|Example|\n",
    "|----|----|----|\n",
    "|%a\t|Weekday, short version|\tWed\t|\n",
    "|%A\t|Weekday, full version\t|Wednesday|\t\n",
    "|%w\t|Weekday as a number 0-6, 0 is Sunday\t|3|\t\n",
    "|%d\t|Day of month 01-31\t|31|\t\n",
    "|%b\t|Month name, short version\t|Dec\t|\n",
    "|%B\t|Month name, full version\t|December\t|\n",
    "|%m\t|Month as a number 01-12\t|12\t|\n",
    "|%y\t|Year, short version, without century\t|18\t|\n",
    "|%Y\t|Year, full version\t|2018\t|\n",
    "|%H\t|Hour 00-23\t|17\t|\n",
    "|%I\t|Hour 00-12\t|05\t|\n",
    "|%p\t|AM/PM\t|PM\t|\n",
    "|%M\t|Minute 00-59\t|41\t|\n",
    "|%S\t|Second 00-59\t|08\t|\n",
    "|%f\t|Microsecond 000000-999999\t|548513\t|\n",
    "|%z\t|UTC offset\t|+0100\t|\n",
    "|%Z\t|Timezone\t|CST\t|\n",
    "|%j\t|Day number of year 001-366\t|365\t|\n",
    "|%U\t|Week number of year, Sunday as the first day of week, 00-53\t|52\t|\n",
    "|%W\t|Week number of year, Monday as the first day of week, 00-53\t|52\t|\n",
    "|%c\t|Local version of date and time\t|Mon Dec 31 17:41:00 2018\t|\n",
    "|%x\t|Local version of date\t|12/31/18\t|\n",
    "|%X\t|Local version of time\t|17:41:00|\t\n",
    "|%%\t|A % character\t|%|"
   ]
  },
  {
   "cell_type": "markdown",
   "metadata": {},
   "source": [
    "##### [Mastering Python Datetime (With Examples)](https://www.pylenin.com/blogs/mastering-python-datetime/)"
   ]
  },
  {
   "cell_type": "markdown",
   "metadata": {},
   "source": [
    "##### 获得当前日期时间"
   ]
  },
  {
   "cell_type": "code",
   "execution_count": 132,
   "metadata": {
    "ExecuteTime": {
     "end_time": "2019-09-19T13:27:59.568000Z",
     "start_time": "2019-09-19T13:27:59.559000Z"
    }
   },
   "outputs": [
    {
     "name": "stdout",
     "output_type": "stream",
     "text": [
      "The current date time is 2019-09-19 21:27:59.565000\n",
      "Today's date is 2019-09-19\n",
      "Current time is 21:27:59.565000\n"
     ]
    }
   ],
   "source": [
    "# curr_date_time.py\n",
    "\n",
    "from datetime import datetime\n",
    "\n",
    "curr_datetime = datetime.now()\n",
    "curr_date = curr_datetime.date()\n",
    "curr_time = curr_datetime.time()\n",
    "\n",
    "print(f\"The current date time is {curr_datetime}\")\n",
    "print(f\"Today's date is {curr_date}\")\n",
    "print(f\"Current time is {curr_time}\")"
   ]
  },
  {
   "cell_type": "markdown",
   "metadata": {},
   "source": [
    "datetime.now()提供当前的本地日期和时间。当我们同时使用date()和time()方法时，它将分别返回当前日期和时间。"
   ]
  },
  {
   "cell_type": "markdown",
   "metadata": {},
   "source": [
    "##### 将日期和时间分割为多个组件"
   ]
  },
  {
   "cell_type": "code",
   "execution_count": 133,
   "metadata": {
    "ExecuteTime": {
     "end_time": "2019-09-19T13:29:48.825000Z",
     "start_time": "2019-09-19T13:29:48.810000Z"
    }
   },
   "outputs": [
    {
     "name": "stdout",
     "output_type": "stream",
     "text": [
      "The current date time is 2019-09-19 21:29:48.821000\n",
      "The year is 2019\n",
      "The month is 9\n",
      "The day is 19\n",
      "Current hour of the day is 21\n",
      "Current minute of the day is 29\n",
      "Current seconds are 48\n"
     ]
    }
   ],
   "source": [
    "from datetime import datetime\n",
    "\n",
    "curr_datetime = datetime.now()\n",
    "\n",
    "curr_year = curr_datetime.year\n",
    "curr_month = curr_datetime.month\n",
    "curr_day = curr_datetime.day\n",
    "\n",
    "curr_hour = curr_datetime.hour\n",
    "curr_min = curr_datetime.minute\n",
    "curr_sec = curr_datetime.second\n",
    "\n",
    "print(f\"The current date time is {curr_datetime}\")\n",
    "\n",
    "print(f\"The year is {curr_year}\")\n",
    "print(f\"The month is {curr_month}\")\n",
    "print(f\"The day is {curr_day}\")\n",
    "\n",
    "print(f\"Current hour of the day is {curr_hour}\")\n",
    "print(f\"Current minute of the day is {curr_min}\")\n",
    "print(f\"Current seconds are {curr_sec}\")"
   ]
  },
  {
   "cell_type": "markdown",
   "metadata": {},
   "source": [
    "##### 创建手动日期和时间对象"
   ]
  },
  {
   "cell_type": "markdown",
   "metadata": {},
   "source": [
    "我们可以使用python datetime模块在python应用程序中创建手工的日期和时间对象。假设我们想为2017年1月1日创建一个date对象。为此，我们可以使用datetime模块中的date类。通过年、月、日的参数。"
   ]
  },
  {
   "cell_type": "code",
   "execution_count": 134,
   "metadata": {
    "ExecuteTime": {
     "end_time": "2019-09-19T13:31:06.843000Z",
     "start_time": "2019-09-19T13:31:06.838000Z"
    }
   },
   "outputs": [
    {
     "name": "stdout",
     "output_type": "stream",
     "text": [
      "2019-10-01\n"
     ]
    }
   ],
   "source": [
    "from datetime import date\n",
    "\n",
    "req_date = date(year=2019,\n",
    "                month=10,\n",
    "                day=1)\n",
    "\n",
    "print(req_date)"
   ]
  },
  {
   "cell_type": "markdown",
   "metadata": {},
   "source": [
    "我们还可以使用datetime模块中的datetime类来创建上面的date对象。但是，datetime类包含date和time对象的信息。这就是datetime类的样子。\n",
    "\n",
    "    class datetime.datetime(year, month, day, hour=0, minute=0, second=0, microsecond=0, tzinfo=None, *, fold=0)\n"
   ]
  },
  {
   "cell_type": "code",
   "execution_count": 135,
   "metadata": {
    "ExecuteTime": {
     "end_time": "2019-09-19T13:32:17.749000Z",
     "start_time": "2019-09-19T13:32:17.737000Z"
    }
   },
   "outputs": [
    {
     "name": "stdout",
     "output_type": "stream",
     "text": [
      "2017-01-01 00:00:00\n"
     ]
    }
   ],
   "source": [
    "from datetime import datetime\n",
    "\n",
    "req_date = datetime(year=2017,\n",
    "                month=1,\n",
    "                day=1)\n",
    "\n",
    "print(req_date)"
   ]
  },
  {
   "cell_type": "markdown",
   "metadata": {},
   "source": [
    "如果我们这样创建一个date对象，我们还将获得默认时间信息，该信息将被设置为0000小时或午夜12点。\n",
    "\n",
    "假设我们希望一天的时间是上午9:30:36。为了补充这些信息，我们还必须提供小时、分钟和秒的信息。"
   ]
  },
  {
   "cell_type": "code",
   "execution_count": 136,
   "metadata": {
    "ExecuteTime": {
     "end_time": "2019-09-19T13:32:51.031000Z",
     "start_time": "2019-09-19T13:32:51.017000Z"
    }
   },
   "outputs": [
    {
     "name": "stdout",
     "output_type": "stream",
     "text": [
      "2017-01-01 09:30:36\n"
     ]
    }
   ],
   "source": [
    "from datetime import datetime\n",
    "\n",
    "req_date = datetime(year=2017,\n",
    "                month=1,\n",
    "                day=1,\n",
    "                hour=9,\n",
    "                minute=30,\n",
    "                second=36)\n",
    "\n",
    "print(req_date)"
   ]
  },
  {
   "cell_type": "markdown",
   "metadata": {},
   "source": [
    "使用上面的逻辑，我们还可以通过使用python datetime模块中的time类来创建时间对象。在这种情况下，我们只需要提供小时、分钟和秒的详细信息。注意，所有这些都是可选的。如果您不提供任何参数，您将收到一个指向0000 hours或12am的time对象。"
   ]
  },
  {
   "cell_type": "code",
   "execution_count": 137,
   "metadata": {
    "ExecuteTime": {
     "end_time": "2019-09-19T13:33:50.003000Z",
     "start_time": "2019-09-19T13:33:49.994000Z"
    }
   },
   "outputs": [
    {
     "name": "stdout",
     "output_type": "stream",
     "text": [
      "09:30:36\n",
      "00:00:00\n"
     ]
    }
   ],
   "source": [
    "from datetime import time\n",
    "\n",
    "\n",
    "req_time = time(\n",
    "                hour=9,\n",
    "                minute=30,\n",
    "                second=36)\n",
    "\n",
    "null_time = time()\n",
    "\n",
    "print(req_time)\n",
    "print(null_time)"
   ]
  },
  {
   "cell_type": "markdown",
   "metadata": {},
   "source": [
    "##### Timedelta\n",
    "\n",
    "timedelta对象提供两个日期或时间之间的差异。一般语法是这样的。\n",
    "\n",
    "    class datetime.timedelta(days=0, seconds=0, microseconds=0, milliseconds=0, minutes=0, hours=0, weeks=0)\n"
   ]
  },
  {
   "cell_type": "markdown",
   "metadata": {},
   "source": [
    "所有参数都是可选的，默认值为0，你可以传入正值和负值。"
   ]
  },
  {
   "cell_type": "code",
   "execution_count": 138,
   "metadata": {
    "ExecuteTime": {
     "end_time": "2019-09-19T13:35:21.241000Z",
     "start_time": "2019-09-19T13:35:21.224000Z"
    }
   },
   "outputs": [
    {
     "name": "stdout",
     "output_type": "stream",
     "text": [
      "2019-09-19 21:35:21.238000\n",
      "2019-09-22 00:50:21.238000\n"
     ]
    }
   ],
   "source": [
    "from datetime import datetime,timedelta\n",
    "\n",
    "# Get the current date and time\n",
    "curr_date_time = datetime.now()\n",
    "print(curr_date_time)\n",
    "\n",
    "\n",
    "time_diff = timedelta(days=2,\n",
    "                    hours=3,\n",
    "                    minutes=15)\n",
    "\n",
    "# Add time diff to the current time\n",
    "req_date_time = curr_date_time + time_diff\n",
    "\n",
    "print(req_date_time)"
   ]
  },
  {
   "cell_type": "markdown",
   "metadata": {},
   "source": [
    "2019年6月1日、9日之前的第1周和第3天是什么时间?"
   ]
  },
  {
   "cell_type": "code",
   "execution_count": 139,
   "metadata": {
    "ExecuteTime": {
     "end_time": "2019-09-19T13:35:55.129000Z",
     "start_time": "2019-09-19T13:35:55.117000Z"
    }
   },
   "outputs": [
    {
     "name": "stdout",
     "output_type": "stream",
     "text": [
      "2019-06-01 09:00:00\n",
      "2019-05-22 09:00:00\n"
     ]
    }
   ],
   "source": [
    "from datetime import datetime,timedelta\n",
    "\n",
    "# Get the base date and time\n",
    "base_date_time = datetime(year=2019,\n",
    "                        month=6,\n",
    "                        day=1,\n",
    "                        hour=9)\n",
    "print(base_date_time)\n",
    "\n",
    "\n",
    "time_diff = timedelta(weeks=-1,\n",
    "                    days=-3)\n",
    "\n",
    "# Subtract time diff to the current time\n",
    "req_date_time = base_date_time + time_diff\n",
    "\n",
    "print(req_date_time)"
   ]
  },
  {
   "cell_type": "markdown",
   "metadata": {},
   "source": [
    "##### datetime.strftime ()\n",
    "\n",
    "必须将日期和时间复制到JSON中吗?或者可以使用日期和时间作为后缀来命名日志文件?为了执行这些任务，你需要将python datetime对象转换为其相关且可用的字符串表示形式。datetime类中的strftime方法允许您创建datetime对象的字符串表示形式。为了做到这一点，你需要提供两个参数。\n",
    "\n",
    "    一个datetime对象\n",
    "    显式格式化字符串"
   ]
  },
  {
   "cell_type": "code",
   "execution_count": 140,
   "metadata": {
    "ExecuteTime": {
     "end_time": "2019-09-19T13:37:39.757000Z",
     "start_time": "2019-09-19T13:37:39.749000Z"
    }
   },
   "outputs": [
    {
     "name": "stdout",
     "output_type": "stream",
     "text": [
      "2019-09-19 21:37:39.754000\n",
      "September 19, 2019\n",
      "Thursday, 09:37:39 PM\n"
     ]
    }
   ],
   "source": [
    "from datetime import datetime\n",
    "\n",
    "# Get the base date and time\n",
    "base_date_time = datetime.now()\n",
    "print(base_date_time)\n",
    "\n",
    "# Format it to January 1, 1970\n",
    "print(datetime.strftime(base_date_time, \"%B %d, %Y\"))\n",
    "\n",
    "# Print the day of the week with time in AM/PM\n",
    "print(datetime.strftime(base_date_time, \"%A, %I:%M:%S %p\"))"
   ]
  },
  {
   "cell_type": "markdown",
   "metadata": {},
   "source": [
    "一个额外的小技巧\n",
    "\n",
    "07年6月的领先0会影响到你吗?可以在格式化字符串中使用-删除前导0。"
   ]
  },
  {
   "cell_type": "code",
   "execution_count": 142,
   "metadata": {
    "ExecuteTime": {
     "end_time": "2019-09-19T13:38:47.689000Z",
     "start_time": "2019-09-19T13:38:47.679000Z"
    }
   },
   "outputs": [
    {
     "name": "stdout",
     "output_type": "stream",
     "text": [
      "September 19, 2019\n"
     ]
    }
   ],
   "source": [
    "from datetime import datetime\n",
    "\n",
    "# Get the base date and time\n",
    "base_date_time = datetime.now()\n",
    "\n",
    "# Format it to January 1, 1970\n",
    "print(datetime.strftime(base_date_time, \"%B %d, %Y\"))"
   ]
  },
  {
   "cell_type": "markdown",
   "metadata": {},
   "source": [
    "##### datetime.strptime()"
   ]
  },
  {
   "cell_type": "code",
   "execution_count": 143,
   "metadata": {
    "ExecuteTime": {
     "end_time": "2019-09-19T13:39:28.205000Z",
     "start_time": "2019-09-19T13:39:28.198000Z"
    }
   },
   "outputs": [
    {
     "name": "stdout",
     "output_type": "stream",
     "text": [
      "2019-01-01 00:00:00\n"
     ]
    }
   ],
   "source": [
    "from datetime import datetime\n",
    "\n",
    "dt_string = \"January 1, 2019\"\n",
    "\n",
    "dt_object = datetime.strptime(dt_string, \"%B %d, %Y\")\n",
    "print(dt_object)"
   ]
  },
  {
   "cell_type": "markdown",
   "metadata": {},
   "source": [
    "##### Datetime到Unix时间戳"
   ]
  },
  {
   "cell_type": "markdown",
   "metadata": {},
   "source": [
    "Unix时间戳是从纪元到任何日期和时间的秒数。Epoch是1970年1月1日的通用术语。我们可以使用python datetime模块将任何datetime对象转换为对应的Unix时间戳并返回。"
   ]
  },
  {
   "cell_type": "code",
   "execution_count": 144,
   "metadata": {
    "ExecuteTime": {
     "end_time": "2019-09-19T13:41:06.087000Z",
     "start_time": "2019-09-19T13:41:06.081000Z"
    }
   },
   "outputs": [
    {
     "name": "stdout",
     "output_type": "stream",
     "text": [
      "1568900466.084\n",
      "2019-09-19 21:41:06.084000\n"
     ]
    }
   ],
   "source": [
    "from datetime import datetime\n",
    "\n",
    "# convert current datetime object to timestamp\n",
    "tstamp = datetime.now().timestamp()\n",
    "print(tstamp)\n",
    "\n",
    "# convert timestamp back to datetime object\n",
    "dt_object = datetime.fromtimestamp(tstamp)\n",
    "print(dt_object)"
   ]
  },
  {
   "cell_type": "markdown",
   "metadata": {},
   "source": [
    "##### 时区处理"
   ]
  },
  {
   "cell_type": "markdown",
   "metadata": {},
   "source": [
    "到目前为止，我们一直在处理简单的datetime对象。\n",
    "\n",
    "什么是简单的datetime对象?它没有任何关于时区的信息。你可以很容易地检查datetime对象是否简单或不使用tzinfo。如果它是一个简单的datetime对象，下面的代码应该不会返回任何值。"
   ]
  },
  {
   "cell_type": "code",
   "execution_count": 145,
   "metadata": {
    "ExecuteTime": {
     "end_time": "2019-09-19T13:42:24.041000Z",
     "start_time": "2019-09-19T13:42:24.035000Z"
    }
   },
   "outputs": [
    {
     "name": "stdout",
     "output_type": "stream",
     "text": [
      "None\n"
     ]
    }
   ],
   "source": [
    "from datetime import datetime\n",
    "\n",
    "dt_object = datetime(year=2019,\n",
    "                     month=1,\n",
    "                     day=1)\n",
    "\n",
    "print(dt_object.tzinfo)"
   ]
  },
  {
   "cell_type": "markdown",
   "metadata": {},
   "source": [
    "这是python datetime模块的缺点之一。无法使用python datetime模块中的任何类或方法使datetime对象知道时区。这并不意味着你不能实现它。可以使用pytz库向应用程序添加时区信息。\n",
    "那么，如何找出正确的时区名称呢?\n",
    "\n",
    "你可以在这里参考所有时区数据库名称的列表。\n",
    "\n",
    "你还可以使用pytz库生成所有时区的列表。"
   ]
  },
  {
   "cell_type": "code",
   "execution_count": 146,
   "metadata": {
    "ExecuteTime": {
     "end_time": "2019-09-19T13:43:15.932000Z",
     "start_time": "2019-09-19T13:43:15.927000Z"
    }
   },
   "outputs": [
    {
     "name": "stdout",
     "output_type": "stream",
     "text": [
      "['Africa/Abidjan', 'Africa/Accra', 'Africa/Addis_Ababa', 'Africa/Algiers', 'Africa/Asmara', 'Africa/Asmera', 'Africa/Bamako', 'Africa/Bangui', 'Africa/Banjul', 'Africa/Bissau', 'Africa/Blantyre', 'Africa/Brazzaville', 'Africa/Bujumbura', 'Africa/Cairo', 'Africa/Casablanca', 'Africa/Ceuta', 'Africa/Conakry', 'Africa/Dakar', 'Africa/Dar_es_Salaam', 'Africa/Djibouti', 'Africa/Douala', 'Africa/El_Aaiun', 'Africa/Freetown', 'Africa/Gaborone', 'Africa/Harare', 'Africa/Johannesburg', 'Africa/Juba', 'Africa/Kampala', 'Africa/Khartoum', 'Africa/Kigali', 'Africa/Kinshasa', 'Africa/Lagos', 'Africa/Libreville', 'Africa/Lome', 'Africa/Luanda', 'Africa/Lubumbashi', 'Africa/Lusaka', 'Africa/Malabo', 'Africa/Maputo', 'Africa/Maseru', 'Africa/Mbabane', 'Africa/Mogadishu', 'Africa/Monrovia', 'Africa/Nairobi', 'Africa/Ndjamena', 'Africa/Niamey', 'Africa/Nouakchott', 'Africa/Ouagadougou', 'Africa/Porto-Novo', 'Africa/Sao_Tome', 'Africa/Timbuktu', 'Africa/Tripoli', 'Africa/Tunis', 'Africa/Windhoek', 'America/Adak', 'America/Anchorage', 'America/Anguilla', 'America/Antigua', 'America/Araguaina', 'America/Argentina/Buenos_Aires', 'America/Argentina/Catamarca', 'America/Argentina/ComodRivadavia', 'America/Argentina/Cordoba', 'America/Argentina/Jujuy', 'America/Argentina/La_Rioja', 'America/Argentina/Mendoza', 'America/Argentina/Rio_Gallegos', 'America/Argentina/Salta', 'America/Argentina/San_Juan', 'America/Argentina/San_Luis', 'America/Argentina/Tucuman', 'America/Argentina/Ushuaia', 'America/Aruba', 'America/Asuncion', 'America/Atikokan', 'America/Atka', 'America/Bahia', 'America/Bahia_Banderas', 'America/Barbados', 'America/Belem', 'America/Belize', 'America/Blanc-Sablon', 'America/Boa_Vista', 'America/Bogota', 'America/Boise', 'America/Buenos_Aires', 'America/Cambridge_Bay', 'America/Campo_Grande', 'America/Cancun', 'America/Caracas', 'America/Catamarca', 'America/Cayenne', 'America/Cayman', 'America/Chicago', 'America/Chihuahua', 'America/Coral_Harbour', 'America/Cordoba', 'America/Costa_Rica', 'America/Creston', 'America/Cuiaba', 'America/Curacao', 'America/Danmarkshavn', 'America/Dawson', 'America/Dawson_Creek', 'America/Denver', 'America/Detroit', 'America/Dominica', 'America/Edmonton', 'America/Eirunepe', 'America/El_Salvador', 'America/Ensenada', 'America/Fort_Nelson', 'America/Fort_Wayne', 'America/Fortaleza', 'America/Glace_Bay', 'America/Godthab', 'America/Goose_Bay', 'America/Grand_Turk', 'America/Grenada', 'America/Guadeloupe', 'America/Guatemala', 'America/Guayaquil', 'America/Guyana', 'America/Halifax', 'America/Havana', 'America/Hermosillo', 'America/Indiana/Indianapolis', 'America/Indiana/Knox', 'America/Indiana/Marengo', 'America/Indiana/Petersburg', 'America/Indiana/Tell_City', 'America/Indiana/Vevay', 'America/Indiana/Vincennes', 'America/Indiana/Winamac', 'America/Indianapolis', 'America/Inuvik', 'America/Iqaluit', 'America/Jamaica', 'America/Jujuy', 'America/Juneau', 'America/Kentucky/Louisville', 'America/Kentucky/Monticello', 'America/Knox_IN', 'America/Kralendijk', 'America/La_Paz', 'America/Lima', 'America/Los_Angeles', 'America/Louisville', 'America/Lower_Princes', 'America/Maceio', 'America/Managua', 'America/Manaus', 'America/Marigot', 'America/Martinique', 'America/Matamoros', 'America/Mazatlan', 'America/Mendoza', 'America/Menominee', 'America/Merida', 'America/Metlakatla', 'America/Mexico_City', 'America/Miquelon', 'America/Moncton', 'America/Monterrey', 'America/Montevideo', 'America/Montreal', 'America/Montserrat', 'America/Nassau', 'America/New_York', 'America/Nipigon', 'America/Nome', 'America/Noronha', 'America/North_Dakota/Beulah', 'America/North_Dakota/Center', 'America/North_Dakota/New_Salem', 'America/Ojinaga', 'America/Panama', 'America/Pangnirtung', 'America/Paramaribo', 'America/Phoenix', 'America/Port-au-Prince', 'America/Port_of_Spain', 'America/Porto_Acre', 'America/Porto_Velho', 'America/Puerto_Rico', 'America/Punta_Arenas', 'America/Rainy_River', 'America/Rankin_Inlet', 'America/Recife', 'America/Regina', 'America/Resolute', 'America/Rio_Branco', 'America/Rosario', 'America/Santa_Isabel', 'America/Santarem', 'America/Santiago', 'America/Santo_Domingo', 'America/Sao_Paulo', 'America/Scoresbysund', 'America/Shiprock', 'America/Sitka', 'America/St_Barthelemy', 'America/St_Johns', 'America/St_Kitts', 'America/St_Lucia', 'America/St_Thomas', 'America/St_Vincent', 'America/Swift_Current', 'America/Tegucigalpa', 'America/Thule', 'America/Thunder_Bay', 'America/Tijuana', 'America/Toronto', 'America/Tortola', 'America/Vancouver', 'America/Virgin', 'America/Whitehorse', 'America/Winnipeg', 'America/Yakutat', 'America/Yellowknife', 'Antarctica/Casey', 'Antarctica/Davis', 'Antarctica/DumontDUrville', 'Antarctica/Macquarie', 'Antarctica/Mawson', 'Antarctica/McMurdo', 'Antarctica/Palmer', 'Antarctica/Rothera', 'Antarctica/South_Pole', 'Antarctica/Syowa', 'Antarctica/Troll', 'Antarctica/Vostok', 'Arctic/Longyearbyen', 'Asia/Aden', 'Asia/Almaty', 'Asia/Amman', 'Asia/Anadyr', 'Asia/Aqtau', 'Asia/Aqtobe', 'Asia/Ashgabat', 'Asia/Ashkhabad', 'Asia/Atyrau', 'Asia/Baghdad', 'Asia/Bahrain', 'Asia/Baku', 'Asia/Bangkok', 'Asia/Barnaul', 'Asia/Beirut', 'Asia/Bishkek', 'Asia/Brunei', 'Asia/Calcutta', 'Asia/Chita', 'Asia/Choibalsan', 'Asia/Chongqing', 'Asia/Chungking', 'Asia/Colombo', 'Asia/Dacca', 'Asia/Damascus', 'Asia/Dhaka', 'Asia/Dili', 'Asia/Dubai', 'Asia/Dushanbe', 'Asia/Famagusta', 'Asia/Gaza', 'Asia/Harbin', 'Asia/Hebron', 'Asia/Ho_Chi_Minh', 'Asia/Hong_Kong', 'Asia/Hovd', 'Asia/Irkutsk', 'Asia/Istanbul', 'Asia/Jakarta', 'Asia/Jayapura', 'Asia/Jerusalem', 'Asia/Kabul', 'Asia/Kamchatka', 'Asia/Karachi', 'Asia/Kashgar', 'Asia/Kathmandu', 'Asia/Katmandu', 'Asia/Khandyga', 'Asia/Kolkata', 'Asia/Krasnoyarsk', 'Asia/Kuala_Lumpur', 'Asia/Kuching', 'Asia/Kuwait', 'Asia/Macao', 'Asia/Macau', 'Asia/Magadan', 'Asia/Makassar', 'Asia/Manila', 'Asia/Muscat', 'Asia/Nicosia', 'Asia/Novokuznetsk', 'Asia/Novosibirsk', 'Asia/Omsk', 'Asia/Oral', 'Asia/Phnom_Penh', 'Asia/Pontianak', 'Asia/Pyongyang', 'Asia/Qatar', 'Asia/Qyzylorda', 'Asia/Rangoon', 'Asia/Riyadh', 'Asia/Saigon', 'Asia/Sakhalin', 'Asia/Samarkand', 'Asia/Seoul', 'Asia/Shanghai', 'Asia/Singapore', 'Asia/Srednekolymsk', 'Asia/Taipei', 'Asia/Tashkent', 'Asia/Tbilisi', 'Asia/Tehran', 'Asia/Tel_Aviv', 'Asia/Thimbu', 'Asia/Thimphu', 'Asia/Tokyo', 'Asia/Tomsk', 'Asia/Ujung_Pandang', 'Asia/Ulaanbaatar', 'Asia/Ulan_Bator', 'Asia/Urumqi', 'Asia/Ust-Nera', 'Asia/Vientiane', 'Asia/Vladivostok', 'Asia/Yakutsk', 'Asia/Yangon', 'Asia/Yekaterinburg', 'Asia/Yerevan', 'Atlantic/Azores', 'Atlantic/Bermuda', 'Atlantic/Canary', 'Atlantic/Cape_Verde', 'Atlantic/Faeroe', 'Atlantic/Faroe', 'Atlantic/Jan_Mayen', 'Atlantic/Madeira', 'Atlantic/Reykjavik', 'Atlantic/South_Georgia', 'Atlantic/St_Helena', 'Atlantic/Stanley', 'Australia/ACT', 'Australia/Adelaide', 'Australia/Brisbane', 'Australia/Broken_Hill', 'Australia/Canberra', 'Australia/Currie', 'Australia/Darwin', 'Australia/Eucla', 'Australia/Hobart', 'Australia/LHI', 'Australia/Lindeman', 'Australia/Lord_Howe', 'Australia/Melbourne', 'Australia/NSW', 'Australia/North', 'Australia/Perth', 'Australia/Queensland', 'Australia/South', 'Australia/Sydney', 'Australia/Tasmania', 'Australia/Victoria', 'Australia/West', 'Australia/Yancowinna', 'Brazil/Acre', 'Brazil/DeNoronha', 'Brazil/East', 'Brazil/West', 'CET', 'CST6CDT', 'Canada/Atlantic', 'Canada/Central', 'Canada/Eastern', 'Canada/Mountain', 'Canada/Newfoundland', 'Canada/Pacific', 'Canada/Saskatchewan', 'Canada/Yukon', 'Chile/Continental', 'Chile/EasterIsland', 'Cuba', 'EET', 'EST', 'EST5EDT', 'Egypt', 'Eire', 'Etc/GMT', 'Etc/GMT+0', 'Etc/GMT+1', 'Etc/GMT+10', 'Etc/GMT+11', 'Etc/GMT+12', 'Etc/GMT+2', 'Etc/GMT+3', 'Etc/GMT+4', 'Etc/GMT+5', 'Etc/GMT+6', 'Etc/GMT+7', 'Etc/GMT+8', 'Etc/GMT+9', 'Etc/GMT-0', 'Etc/GMT-1', 'Etc/GMT-10', 'Etc/GMT-11', 'Etc/GMT-12', 'Etc/GMT-13', 'Etc/GMT-14', 'Etc/GMT-2', 'Etc/GMT-3', 'Etc/GMT-4', 'Etc/GMT-5', 'Etc/GMT-6', 'Etc/GMT-7', 'Etc/GMT-8', 'Etc/GMT-9', 'Etc/GMT0', 'Etc/Greenwich', 'Etc/UCT', 'Etc/UTC', 'Etc/Universal', 'Etc/Zulu', 'Europe/Amsterdam', 'Europe/Andorra', 'Europe/Astrakhan', 'Europe/Athens', 'Europe/Belfast', 'Europe/Belgrade', 'Europe/Berlin', 'Europe/Bratislava', 'Europe/Brussels', 'Europe/Bucharest', 'Europe/Budapest', 'Europe/Busingen', 'Europe/Chisinau', 'Europe/Copenhagen', 'Europe/Dublin', 'Europe/Gibraltar', 'Europe/Guernsey', 'Europe/Helsinki', 'Europe/Isle_of_Man', 'Europe/Istanbul', 'Europe/Jersey', 'Europe/Kaliningrad', 'Europe/Kiev', 'Europe/Kirov', 'Europe/Lisbon', 'Europe/Ljubljana', 'Europe/London', 'Europe/Luxembourg', 'Europe/Madrid', 'Europe/Malta', 'Europe/Mariehamn', 'Europe/Minsk', 'Europe/Monaco', 'Europe/Moscow', 'Europe/Nicosia', 'Europe/Oslo', 'Europe/Paris', 'Europe/Podgorica', 'Europe/Prague', 'Europe/Riga', 'Europe/Rome', 'Europe/Samara', 'Europe/San_Marino', 'Europe/Sarajevo', 'Europe/Saratov', 'Europe/Simferopol', 'Europe/Skopje', 'Europe/Sofia', 'Europe/Stockholm', 'Europe/Tallinn', 'Europe/Tirane', 'Europe/Tiraspol', 'Europe/Ulyanovsk', 'Europe/Uzhgorod', 'Europe/Vaduz', 'Europe/Vatican', 'Europe/Vienna', 'Europe/Vilnius', 'Europe/Volgograd', 'Europe/Warsaw', 'Europe/Zagreb', 'Europe/Zaporozhye', 'Europe/Zurich', 'GB', 'GB-Eire', 'GMT', 'GMT+0', 'GMT-0', 'GMT0', 'Greenwich', 'HST', 'Hongkong', 'Iceland', 'Indian/Antananarivo', 'Indian/Chagos', 'Indian/Christmas', 'Indian/Cocos', 'Indian/Comoro', 'Indian/Kerguelen', 'Indian/Mahe', 'Indian/Maldives', 'Indian/Mauritius', 'Indian/Mayotte', 'Indian/Reunion', 'Iran', 'Israel', 'Jamaica', 'Japan', 'Kwajalein', 'Libya', 'MET', 'MST', 'MST7MDT', 'Mexico/BajaNorte', 'Mexico/BajaSur', 'Mexico/General', 'NZ', 'NZ-CHAT', 'Navajo', 'PRC', 'PST8PDT', 'Pacific/Apia', 'Pacific/Auckland', 'Pacific/Bougainville', 'Pacific/Chatham', 'Pacific/Chuuk', 'Pacific/Easter', 'Pacific/Efate', 'Pacific/Enderbury', 'Pacific/Fakaofo', 'Pacific/Fiji', 'Pacific/Funafuti', 'Pacific/Galapagos', 'Pacific/Gambier', 'Pacific/Guadalcanal', 'Pacific/Guam', 'Pacific/Honolulu', 'Pacific/Johnston', 'Pacific/Kiritimati', 'Pacific/Kosrae', 'Pacific/Kwajalein', 'Pacific/Majuro', 'Pacific/Marquesas', 'Pacific/Midway', 'Pacific/Nauru', 'Pacific/Niue', 'Pacific/Norfolk', 'Pacific/Noumea', 'Pacific/Pago_Pago', 'Pacific/Palau', 'Pacific/Pitcairn', 'Pacific/Pohnpei', 'Pacific/Ponape', 'Pacific/Port_Moresby', 'Pacific/Rarotonga', 'Pacific/Saipan', 'Pacific/Samoa', 'Pacific/Tahiti', 'Pacific/Tarawa', 'Pacific/Tongatapu', 'Pacific/Truk', 'Pacific/Wake', 'Pacific/Wallis', 'Pacific/Yap', 'Poland', 'Portugal', 'ROC', 'ROK', 'Singapore', 'Turkey', 'UCT', 'US/Alaska', 'US/Aleutian', 'US/Arizona', 'US/Central', 'US/East-Indiana', 'US/Eastern', 'US/Hawaii', 'US/Indiana-Starke', 'US/Michigan', 'US/Mountain', 'US/Pacific', 'US/Samoa', 'UTC', 'Universal', 'W-SU', 'WET', 'Zulu']\n"
     ]
    }
   ],
   "source": [
    "import pytz\n",
    "\n",
    "print(pytz.all_timezones)"
   ]
  },
  {
   "cell_type": "markdown",
   "metadata": {},
   "source": [
    "以上任何一种方法都应该帮助您为你的需求选择正确的时区。一旦您有了时区的名称，你就可以将它包含在您的应用程序中。"
   ]
  },
  {
   "cell_type": "code",
   "execution_count": 147,
   "metadata": {
    "ExecuteTime": {
     "end_time": "2019-09-19T13:44:01.943000Z",
     "start_time": "2019-09-19T13:44:01.935000Z"
    }
   },
   "outputs": [
    {
     "name": "stdout",
     "output_type": "stream",
     "text": [
      "19/09/2019, 21:44:01\n",
      "19/09/2019, 19:14:01\n"
     ]
    }
   ],
   "source": [
    "from datetime import datetime\n",
    "import pytz\n",
    "\n",
    "dt = datetime.now()\n",
    "readable_dt = datetime.strftime(dt, \"%d/%m/%Y, %H:%M:%S\")\n",
    "print(readable_dt)\n",
    "\n",
    "tz_India = pytz.timezone(\"Asia/Calcutta\")\n",
    "dt_India = datetime.now(tz_India)\n",
    "readable_dt_India = datetime.strftime(dt_India, \"%d/%m/%Y, %H:%M:%S\")\n",
    "print(readable_dt_India)"
   ]
  },
  {
   "cell_type": "markdown",
   "metadata": {},
   "source": [
    "#### [How to Format Dates in Python](https://stackabuse.com/how-to-format-dates-in-python/)"
   ]
  },
  {
   "cell_type": "code",
   "execution_count": 152,
   "metadata": {
    "ExecuteTime": {
     "end_time": "2019-09-19T13:47:42.687000Z",
     "start_time": "2019-09-19T13:47:42.681000Z"
    }
   },
   "outputs": [
    {
     "name": "stdout",
     "output_type": "stream",
     "text": [
      "01:10:20.000013\n"
     ]
    }
   ],
   "source": [
    "import datetime\n",
    "\n",
    "t = datetime.time(1, 10, 20, 13)\n",
    "print(t)"
   ]
  },
  {
   "cell_type": "code",
   "execution_count": 154,
   "metadata": {
    "ExecuteTime": {
     "end_time": "2019-09-19T13:48:12.875000Z",
     "start_time": "2019-09-19T13:48:12.869000Z"
    }
   },
   "outputs": [
    {
     "name": "stdout",
     "output_type": "stream",
     "text": [
      "hour: 1\n",
      "Minutes: 10\n",
      "Seconds: 20\n",
      "Microsecond: 13\n"
     ]
    }
   ],
   "source": [
    "print('hour:', t.hour)\n",
    "print('Minutes:', t.minute)\n",
    "print('Seconds:', t.second)\n",
    "print('Microsecond:', t.microsecond)"
   ]
  },
  {
   "cell_type": "code",
   "execution_count": 155,
   "metadata": {
    "ExecuteTime": {
     "end_time": "2019-09-19T13:48:24.126000Z",
     "start_time": "2019-09-19T13:48:24.122000Z"
    }
   },
   "outputs": [
    {
     "name": "stdout",
     "output_type": "stream",
     "text": [
      "2019-09-19\n"
     ]
    }
   ],
   "source": [
    "import datetime\n",
    "\n",
    "today = datetime.date.today()\n",
    "print(today)"
   ]
  },
  {
   "cell_type": "code",
   "execution_count": 156,
   "metadata": {
    "ExecuteTime": {
     "end_time": "2019-09-19T13:48:34.469000Z",
     "start_time": "2019-09-19T13:48:34.466000Z"
    }
   },
   "outputs": [
    {
     "name": "stdout",
     "output_type": "stream",
     "text": [
      "ctime: Thu Sep 19 00:00:00 2019\n"
     ]
    }
   ],
   "source": [
    "print('ctime:', today.ctime())"
   ]
  },
  {
   "cell_type": "code",
   "execution_count": 157,
   "metadata": {
    "ExecuteTime": {
     "end_time": "2019-09-19T13:48:45.629000Z",
     "start_time": "2019-09-19T13:48:45.622000Z"
    }
   },
   "outputs": [
    {
     "name": "stdout",
     "output_type": "stream",
     "text": [
      "Year: 2019\n",
      "Month: 9\n",
      "Day : 19\n"
     ]
    }
   ],
   "source": [
    "print('Year:', today.year)\n",
    "print('Month:', today.month)\n",
    "print('Day :', today.day)"
   ]
  },
  {
   "cell_type": "code",
   "execution_count": 158,
   "metadata": {
    "ExecuteTime": {
     "end_time": "2019-09-19T13:49:01.810000Z",
     "start_time": "2019-09-19T13:49:01.803000Z"
    }
   },
   "outputs": [
    {
     "name": "stdout",
     "output_type": "stream",
     "text": [
      "Sep 15 2018 00:00:00\n"
     ]
    }
   ],
   "source": [
    "import datetime\n",
    "\n",
    "x = datetime.datetime(2018, 9, 15)\n",
    "\n",
    "print(x.strftime(\"%b %d %Y %H:%M:%S\"))"
   ]
  },
  {
   "cell_type": "code",
   "execution_count": 159,
   "metadata": {
    "ExecuteTime": {
     "end_time": "2019-09-19T13:49:14.434000Z",
     "start_time": "2019-09-19T13:49:14.429000Z"
    }
   },
   "outputs": [
    {
     "name": "stdout",
     "output_type": "stream",
     "text": [
      "Sep 15 2018 12:45:35\n"
     ]
    }
   ],
   "source": [
    "import datetime\n",
    "\n",
    "x = datetime.datetime(2018, 9, 15, 12, 45, 35)\n",
    "\n",
    "print(x.strftime(\"%b %d %Y %H:%M:%S\"))"
   ]
  },
  {
   "cell_type": "code",
   "execution_count": 160,
   "metadata": {
    "ExecuteTime": {
     "end_time": "2019-09-19T13:50:04.150000Z",
     "start_time": "2019-09-19T13:50:04.143000Z"
    }
   },
   "outputs": [
    {
     "name": "stdout",
     "output_type": "stream",
     "text": [
      "2018-09-15 00:00:00\n"
     ]
    }
   ],
   "source": [
    "from datetime import datetime\n",
    "\n",
    "str = '9-15-18'\n",
    "date_object = datetime.strptime(str, '%m-%d-%y')\n",
    "\n",
    "print(date_object)"
   ]
  },
  {
   "cell_type": "code",
   "execution_count": null,
   "metadata": {
    "collapsed": true
   },
   "outputs": [],
   "source": []
  },
  {
   "cell_type": "code",
   "execution_count": 166,
   "metadata": {
    "ExecuteTime": {
     "end_time": "2019-09-19T13:57:16.006000Z",
     "start_time": "2019-09-19T13:57:15.923000Z"
    }
   },
   "outputs": [
    {
     "name": "stdout",
     "output_type": "stream",
     "text": [
      "Example 1: Thu, 19 Sep 2019 13:57:16 + 1010\n",
      "\n",
      "Example 2: Thursday, 09/19/19 September 2019 13:57:16 + 0000\n",
      "\n",
      "Example 3: Thu Sep 19 21:57:16 2019\n",
      "\n",
      "Example 4: 20\n",
      "\n",
      "Example 5: Thursday, 09/19/19 September 2019, 09:57:16 PM\n",
      "\n",
      "Example 6:  21:57 \n",
      "\n",
      "Example 7: Thu, 19 Sep 2019 01:57:16 + 0000\n",
      "\n",
      "Example 8: 01:57:16 PM, 13:57:16 \n",
      "\n",
      "Example 9: 09:57:16 PM, 4, 37\n",
      "\n",
      "Example 10: 09:57:16 PM, 38, 37, 4\n",
      "\n",
      "Example 11: 09/19/19, 21:57:16, 19, 2019\n",
      "\n"
     ]
    }
   ],
   "source": [
    "from time import gmtime, strftime \n",
    "  \n",
    "# using simple format of showing time \n",
    "s = strftime(\"%a, %d %b %Y %H:%M:%S + 1010\", gmtime()) \n",
    "print(\"Example 1:\", s) \n",
    "  \n",
    "print() \n",
    "  \n",
    "# only chnge in this is the full names \n",
    "# and the representation \n",
    "s = strftime(\"%A, %D %B %Y %H:%M:%S + 0000\", gmtime()) \n",
    "print(\"Example 2:\", s) \n",
    "  \n",
    "print() \n",
    "  \n",
    "# this will show you the preferd date time format \n",
    "s = strftime(\"%c\") \n",
    "print(\"Example 3:\", s) \n",
    "  \n",
    "print() \n",
    "  \n",
    "# this will tell about the centuries \n",
    "s = strftime(\"%C\") \n",
    "print(\"Example 4:\", s) \n",
    "  \n",
    "print() \n",
    "  \n",
    "# MOTY: month of the year \n",
    "# DOTY: Day of the year \n",
    "# Simple representation \n",
    "# % n - new line \n",
    "s = strftime(\"%A, %D %B %Y, %r\") \n",
    "print(\"Example 5:\", s) \n",
    "  \n",
    "print() \n",
    "  \n",
    "# % R - time in 24 hour notation \n",
    "s = strftime(\" %R \") \n",
    "print(\"Example 6:\", s) \n",
    "  \n",
    "print() \n",
    "  \n",
    "# % H - hour, using a 24-hour clock (00 to 23) in Example 1, 2, 3 \n",
    "# % I - hour, using a 12-hour clock (01 to 12) \n",
    "s = strftime(\"%a, %d %b %Y %I:%M:%S + 0000\", gmtime()) \n",
    "print(\"Example 7:\", s) \n",
    "  \n",
    "print() \n",
    "  \n",
    "# % T - current time, equal to % H:% M:% S \n",
    "s = strftime(\"%r, %T \", gmtime()) \n",
    "print(\"Example 8:\", s) \n",
    "  \n",
    "print() \n",
    "  \n",
    "# % u an % U use (see difference) \n",
    "s = strftime(\"%r, %u, %U\") \n",
    "print(\"Example 9:\", s) \n",
    "  \n",
    "print() \n",
    "  \n",
    "# use of % V, % W, % w \n",
    "s = strftime(\"%r, %V, %W, %w\") \n",
    "print(\"Example 10:\", s) \n",
    "  \n",
    "print() \n",
    "  \n",
    "# use of % x, % X, % y, % Y \n",
    "s = strftime(\"%x, %X, %y, %Y\") \n",
    "print(\"Example 11:\", s) \n",
    "  \n",
    "print() \n",
    "  \n",
    "# # use of % Z, % z \n",
    "# s = strftime(\"%r, %z, %Z\") \n",
    "# print(\"Example 12:\", s) "
   ]
  },
  {
   "cell_type": "markdown",
   "metadata": {},
   "source": [
    "#### [Python, Datum und Zeit](https://www.python-kurs.eu/python3_time_and_date.php)"
   ]
  },
  {
   "cell_type": "code",
   "execution_count": 168,
   "metadata": {
    "ExecuteTime": {
     "end_time": "2019-09-19T14:04:29.956000Z",
     "start_time": "2019-09-19T14:04:29.951000Z"
    }
   },
   "outputs": [
    {
     "name": "stdout",
     "output_type": "stream",
     "text": [
      "2019-12-19\n"
     ]
    }
   ],
   "source": [
    "from datetime import date\n",
    "x = date(2019, 12, 19)\n",
    "print(x)"
   ]
  },
  {
   "cell_type": "markdown",
   "metadata": {},
   "source": [
    "最大最小时间"
   ]
  },
  {
   "cell_type": "code",
   "execution_count": 169,
   "metadata": {
    "ExecuteTime": {
     "end_time": "2019-09-19T14:04:55.575000Z",
     "start_time": "2019-09-19T14:04:55.571000Z"
    }
   },
   "outputs": [
    {
     "name": "stdout",
     "output_type": "stream",
     "text": [
      "0001-01-01\n",
      "9999-12-31\n"
     ]
    }
   ],
   "source": [
    "from datetime import date\n",
    "print(date.min)\n",
    "print(date.max)"
   ]
  },
  {
   "cell_type": "code",
   "execution_count": 170,
   "metadata": {
    "ExecuteTime": {
     "end_time": "2019-09-19T14:05:30.304000Z",
     "start_time": "2019-09-19T14:05:30.298000Z"
    }
   },
   "outputs": [
    {
     "name": "stdout",
     "output_type": "stream",
     "text": [
      "1\n",
      "2\n",
      "2019-09-19\n",
      "737321\n"
     ]
    }
   ],
   "source": [
    "x = date(1, 1, 1) # 1. Januar 1\n",
    "print(x.toordinal())\n",
    "x = date(1, 1, 2) # 2. Januar 1\n",
    "print(x.toordinal())\n",
    "print(x.today())\n",
    "print(x.today().toordinal())"
   ]
  },
  {
   "cell_type": "code",
   "execution_count": 171,
   "metadata": {
    "ExecuteTime": {
     "end_time": "2019-09-19T14:07:07.015000Z",
     "start_time": "2019-09-19T14:07:07.012000Z"
    }
   },
   "outputs": [
    {
     "name": "stdout",
     "output_type": "stream",
     "text": [
      "1991-04-30\n"
     ]
    }
   ],
   "source": [
    "print(date.fromordinal(726952))"
   ]
  },
  {
   "cell_type": "code",
   "execution_count": 172,
   "metadata": {
    "ExecuteTime": {
     "end_time": "2019-09-19T14:07:33.537000Z",
     "start_time": "2019-09-19T14:07:33.529000Z"
    }
   },
   "outputs": [
    {
     "name": "stdout",
     "output_type": "stream",
     "text": [
      "1\n",
      "2019-09-19\n",
      "2\n",
      "1\n",
      "1\n"
     ]
    }
   ],
   "source": [
    "print(x.weekday())\n",
    "print(date.today())\n",
    "\n",
    "print(x.day)\n",
    "print(x.month)\n",
    "print(x.year)"
   ]
  },
  {
   "cell_type": "code",
   "execution_count": 173,
   "metadata": {
    "ExecuteTime": {
     "end_time": "2019-09-19T14:07:50.592000Z",
     "start_time": "2019-09-19T14:07:50.588000Z"
    }
   },
   "outputs": [
    {
     "name": "stdout",
     "output_type": "stream",
     "text": [
      "15:06:23\n"
     ]
    }
   ],
   "source": [
    "from datetime import time\n",
    "t = time(15, 6, 23)\n",
    "print(t)"
   ]
  },
  {
   "cell_type": "code",
   "execution_count": 174,
   "metadata": {
    "ExecuteTime": {
     "end_time": "2019-09-19T14:07:59.305000Z",
     "start_time": "2019-09-19T14:07:59.301000Z"
    }
   },
   "outputs": [
    {
     "name": "stdout",
     "output_type": "stream",
     "text": [
      "00:00:00\n",
      "23:59:59.999999\n"
     ]
    }
   ],
   "source": [
    "print(time.min)\n",
    "print(time.max)"
   ]
  },
  {
   "cell_type": "code",
   "execution_count": 175,
   "metadata": {
    "ExecuteTime": {
     "end_time": "2019-09-19T14:08:08.115000Z",
     "start_time": "2019-09-19T14:08:08.108000Z"
    }
   },
   "outputs": [
    {
     "name": "stdout",
     "output_type": "stream",
     "text": [
      "15 6 23\n"
     ]
    }
   ],
   "source": [
    "print(t.hour, t.minute, t.second)"
   ]
  },
  {
   "cell_type": "code",
   "execution_count": 176,
   "metadata": {
    "ExecuteTime": {
     "end_time": "2019-09-19T14:08:18.762000Z",
     "start_time": "2019-09-19T14:08:18.756000Z"
    }
   },
   "outputs": [
    {
     "name": "stdout",
     "output_type": "stream",
     "text": [
      "11:59:23\n"
     ]
    }
   ],
   "source": [
    "t = t.replace(hour=11, minute=59)\n",
    "print(t)"
   ]
  },
  {
   "cell_type": "code",
   "execution_count": 177,
   "metadata": {
    "ExecuteTime": {
     "end_time": "2019-09-19T14:08:29.269000Z",
     "start_time": "2019-09-19T14:08:29.266000Z"
    }
   },
   "outputs": [
    {
     "name": "stdout",
     "output_type": "stream",
     "text": [
      "Tue Jan  2 00:00:00 0001\n"
     ]
    }
   ],
   "source": [
    "print(x.ctime())"
   ]
  },
  {
   "cell_type": "code",
   "execution_count": 178,
   "metadata": {
    "ExecuteTime": {
     "end_time": "2019-09-19T14:08:50.129000Z",
     "start_time": "2019-09-19T14:08:50.125000Z"
    }
   },
   "outputs": [
    {
     "name": "stdout",
     "output_type": "stream",
     "text": [
      "2017-04-19 16:31:00\n"
     ]
    }
   ],
   "source": [
    "from datetime import datetime\n",
    "t = datetime(2017, 4, 19, 16, 31, 0)\n",
    "print(t)"
   ]
  },
  {
   "cell_type": "code",
   "execution_count": 179,
   "metadata": {
    "ExecuteTime": {
     "end_time": "2019-09-19T14:09:01.449000Z",
     "start_time": "2019-09-19T14:09:01.446000Z"
    }
   },
   "outputs": [
    {
     "name": "stdout",
     "output_type": "stream",
     "text": [
      "True\n"
     ]
    }
   ],
   "source": [
    "print(t.tzinfo == None)"
   ]
  },
  {
   "cell_type": "code",
   "execution_count": 181,
   "metadata": {
    "ExecuteTime": {
     "end_time": "2019-09-19T14:09:18.755000Z",
     "start_time": "2019-09-19T14:09:18.750000Z"
    }
   },
   "outputs": [
    {
     "name": "stdout",
     "output_type": "stream",
     "text": [
      "2019-09-19 14:09:18.751000+00:00\n"
     ]
    }
   ],
   "source": [
    "from datetime import datetime\n",
    "import pytz\n",
    "t = datetime.now(pytz.utc)\n",
    "print(t)"
   ]
  },
  {
   "cell_type": "code",
   "execution_count": 182,
   "metadata": {
    "ExecuteTime": {
     "end_time": "2019-09-19T14:09:29.766000Z",
     "start_time": "2019-09-19T14:09:29.763000Z"
    }
   },
   "outputs": [
    {
     "name": "stdout",
     "output_type": "stream",
     "text": [
      "UTC 0:00:00\n"
     ]
    }
   ],
   "source": [
    "print(t.tzinfo, t.tzinfo.utcoffset(t))"
   ]
  },
  {
   "cell_type": "code",
   "execution_count": 190,
   "metadata": {
    "ExecuteTime": {
     "end_time": "2019-09-19T14:11:11.496000Z",
     "start_time": "2019-09-19T14:11:11.490000Z"
    }
   },
   "outputs": [
    {
     "data": {
      "text/plain": [
       "[datetime.datetime(1991, 4, 30, 0, 0),\n",
       " datetime.datetime(1991, 4, 29, 0, 0),\n",
       " datetime.datetime(1991, 4, 28, 0, 0),\n",
       " datetime.datetime(1991, 4, 27, 0, 0),\n",
       " datetime.datetime(1991, 4, 26, 0, 0),\n",
       " datetime.datetime(1991, 4, 25, 0, 0),\n",
       " datetime.datetime(1991, 4, 24, 0, 0),\n",
       " datetime.datetime(1991, 4, 23, 0, 0),\n",
       " datetime.datetime(1991, 4, 22, 0, 0),\n",
       " datetime.datetime(1991, 4, 21, 0, 0),\n",
       " datetime.datetime(1991, 4, 20, 0, 0),\n",
       " datetime.datetime(1991, 4, 19, 0, 0),\n",
       " datetime.datetime(1991, 4, 18, 0, 0),\n",
       " datetime.datetime(1991, 4, 17, 0, 0),\n",
       " datetime.datetime(1991, 4, 16, 0, 0)]"
      ]
     },
     "execution_count": 190,
     "metadata": {},
     "output_type": "execute_result"
    }
   ],
   "source": [
    "from datetime import datetime, timedelta as delta\n",
    "ndays = 15\n",
    "start = datetime(1991, 4, 30)\n",
    "dates = [start - delta(days=x) for x in range(0, ndays)]\n",
    "dates"
   ]
  },
  {
   "cell_type": "code",
   "execution_count": 191,
   "metadata": {
    "ExecuteTime": {
     "end_time": "2019-09-19T14:11:25.933000Z",
     "start_time": "2019-09-19T14:11:25.928000Z"
    }
   },
   "outputs": [
    {
     "name": "stdout",
     "output_type": "stream",
     "text": [
      "959 days, 0:00:00 <class 'datetime.timedelta'>\n"
     ]
    }
   ],
   "source": [
    "from datetime import datetime\n",
    "delta = datetime(1993, 12, 14) - datetime(1991, 4, 30)\n",
    "print(delta, type(delta))"
   ]
  },
  {
   "cell_type": "code",
   "execution_count": 192,
   "metadata": {
    "ExecuteTime": {
     "end_time": "2019-09-19T14:11:35.688000Z",
     "start_time": "2019-09-19T14:11:35.682000Z"
    }
   },
   "outputs": [
    {
     "name": "stdout",
     "output_type": "stream",
     "text": [
      "959\n"
     ]
    }
   ],
   "source": [
    "print(delta.days)"
   ]
  },
  {
   "cell_type": "code",
   "execution_count": 193,
   "metadata": {
    "ExecuteTime": {
     "end_time": "2019-09-19T14:11:45.702000Z",
     "start_time": "2019-09-19T14:11:45.694000Z"
    }
   },
   "outputs": [
    {
     "name": "stdout",
     "output_type": "stream",
     "text": [
      "412 76680\n"
     ]
    }
   ],
   "source": [
    "t1 = datetime(2017, 1, 31, 14, 17)\n",
    "t2 = datetime(2015, 12, 15, 16, 59)\n",
    "delta = t1 - t2\n",
    "print(delta.days, delta.seconds)"
   ]
  },
  {
   "cell_type": "code",
   "execution_count": 194,
   "metadata": {
    "ExecuteTime": {
     "end_time": "2019-09-19T14:11:55.657000Z",
     "start_time": "2019-09-19T14:11:55.643000Z"
    }
   },
   "outputs": [
    {
     "name": "stdout",
     "output_type": "stream",
     "text": [
      "1991-05-10 00:00:00\n",
      "10 days, 0:00:00\n",
      "1991-01-20 00:00:00\n",
      "1991-01-20 00:00:00\n"
     ]
    }
   ],
   "source": [
    "from datetime import datetime, timedelta\n",
    "d1 = datetime(1991, 4, 30)\n",
    "d2 = d1 + timedelta(10)\n",
    "print(d2)\n",
    "print(d2 - d1)\n",
    "d3 = d1 - timedelta(100)\n",
    "print(d3)\n",
    "d4 = d1 - 2 * timedelta(50)\n",
    "print(d4)"
   ]
  },
  {
   "cell_type": "code",
   "execution_count": 195,
   "metadata": {
    "ExecuteTime": {
     "end_time": "2019-09-19T14:12:05.690000Z",
     "start_time": "2019-09-19T14:12:05.685000Z"
    }
   },
   "outputs": [
    {
     "name": "stdout",
     "output_type": "stream",
     "text": [
      "1991-05-10 00:01:40\n",
      "10 days, 0:01:40\n"
     ]
    }
   ],
   "source": [
    "from datetime import datetime, timedelta\n",
    "d1 = datetime(1991, 4, 30)\n",
    "d2 = d1 + timedelta(10,100)\n",
    "print(d2)\n",
    "print(d2 - d1)"
   ]
  },
  {
   "cell_type": "code",
   "execution_count": 197,
   "metadata": {
    "ExecuteTime": {
     "end_time": "2019-09-19T14:12:35.979000Z",
     "start_time": "2019-09-19T14:12:35.969000Z"
    }
   },
   "outputs": [
    {
     "name": "stdout",
     "output_type": "stream",
     "text": [
      "1991-04-30\n",
      "Wochentag: Tue\n",
      "Wochentag ausgeschrieben: Tuesday\n",
      "Wochentag als Dezimalzahl: 2\n"
     ]
    }
   ],
   "source": [
    "print(d1.strftime('%Y-%m-%d'))\n",
    "print(\"Wochentag: \" + d1.strftime('%a'))\n",
    "print(\"Wochentag ausgeschrieben: \" + d1.strftime('%A'))\n",
    "# Weekday as a decimal number, where 0 is Sunday \n",
    "# and 6 is Saturday\n",
    "print(\"Wochentag als Dezimalzahl: \" + d1.strftime('%w'))"
   ]
  },
  {
   "cell_type": "code",
   "execution_count": 198,
   "metadata": {
    "ExecuteTime": {
     "end_time": "2019-09-19T14:12:54.486000Z",
     "start_time": "2019-09-19T14:12:54.466000Z"
    }
   },
   "outputs": [
    {
     "name": "stdout",
     "output_type": "stream",
     "text": [
      "30\n",
      "Apr\n",
      "April\n",
      "04\n"
     ]
    }
   ],
   "source": [
    "# Day of the month as a zero-padded decimal number. \n",
    "# 01, 02, ..., 31\n",
    "print(d1.strftime('%d'))\n",
    "# Month as locale’s abbreviated name. \n",
    "# Jan, Feb, ..., Dec (en_US); \n",
    "# Jan, Feb, ..., Dez (de_DE)\n",
    "print(d1.strftime('%b'))\n",
    "# Month as locale’s full name. \t\n",
    "# January, February, ..., December (en_US);\n",
    "# Januar, Februar, ..., Dezember (de_DE)\n",
    "print(d1.strftime('%B'))\n",
    "# Month as a zero-padded decimal number. \n",
    "# 01, 02, ..., 12\n",
    "print(d1.strftime('%m'))"
   ]
  },
  {
   "cell_type": "code",
   "execution_count": 199,
   "metadata": {
    "ExecuteTime": {
     "end_time": "2019-09-19T14:13:18.519000Z",
     "start_time": "2019-09-19T14:13:18.512000Z"
    }
   },
   "outputs": [
    {
     "name": "stdout",
     "output_type": "stream",
     "text": [
      "14 December 1993\n",
      "Nur in Zahlen:\n",
      "14/12/1993\n",
      "Auf US Art:\n",
      "12/14/1993\n",
      "It was a Tuesday!\n"
     ]
    }
   ],
   "source": [
    "from datetime import datetime, timedelta\n",
    "d1 = datetime(1993, 12, 14)\n",
    "print(d1.strftime('%d %B %Y'))\n",
    "print(\"Nur in Zahlen:\")\n",
    "print(d1.strftime('%d/%m/%Y'))\n",
    "print(\"Auf US Art:\")\n",
    "print(d1.strftime('%m/%d/%Y'))\n",
    "print(f\"It was a {d1.strftime('%A'):s}!\")"
   ]
  },
  {
   "cell_type": "markdown",
   "metadata": {},
   "source": [
    "#### [Python标准库 时间与日期的区别 (time, datetime包)](https://segmentfault.com/a/1190000003725413)"
   ]
  },
  {
   "cell_type": "markdown",
   "metadata": {},
   "source": [
    "datetime包是基于time包的一个高级包， 为我们提供了多一层的便利。\n",
    "\n",
    "datetime可以理解为date和time两个组成部分。date是指年月日构成的日期(相当于日历)，time是指时分秒微秒构成的一天24小时中的具体时间(相当于手表)。你可以将这两个分开管理(datetime.date类，datetime.time类)，也可以将两者合在一起(datetime.datetime类)。由于其构造大同小异，我们将只介绍datetime.datetime类。"
   ]
  },
  {
   "cell_type": "code",
   "execution_count": 201,
   "metadata": {
    "ExecuteTime": {
     "end_time": "2019-09-19T14:16:20.282000Z",
     "start_time": "2019-09-19T14:16:20.277000Z"
    }
   },
   "outputs": [
    {
     "name": "stdout",
     "output_type": "stream",
     "text": [
      "1568902580.278\n",
      "12613.064300088512\n"
     ]
    }
   ],
   "source": [
    "import time\n",
    "print(time.time())   # wall clock time, unit: second\n",
    "print(time.clock())  # processor clock time, unit: second"
   ]
  },
  {
   "cell_type": "markdown",
   "metadata": {},
   "source": [
    "#### [Python获取时间范围内日期列表和周列表的函数](https://blog.csdn.net/BabyFish13/article/details/54018404)"
   ]
  },
  {
   "cell_type": "markdown",
   "metadata": {},
   "source": [
    "##### 获取日期列表"
   ]
  },
  {
   "cell_type": "code",
   "execution_count": 205,
   "metadata": {
    "ExecuteTime": {
     "end_time": "2019-09-19T14:22:52.895000Z",
     "start_time": "2019-09-19T14:22:52.867000Z"
    }
   },
   "outputs": [
    {
     "name": "stdout",
     "output_type": "stream",
     "text": [
      "2019-09-01\n",
      "2019-09-02\n",
      "2019-09-03\n",
      "2019-09-04\n",
      "2019-09-05\n",
      "2019-09-06\n",
      "2019-09-07\n",
      "2019-09-08\n",
      "2019-09-09\n",
      "2019-09-10\n",
      "2019-09-11\n"
     ]
    }
   ],
   "source": [
    "import datetime\n",
    "\n",
    "\n",
    "def dateRange(beginDate, endDate):\n",
    "    dates = []\n",
    "    dt = datetime.datetime.strptime(beginDate, \"%Y-%m-%d\")\n",
    "    date = beginDate[:]\n",
    "    while date <= endDate:\n",
    "        dates.append(date)\n",
    "        dt = dt + datetime.timedelta(1)\n",
    "        date = dt.strftime(\"%Y-%m-%d\")\n",
    "    return dates\n",
    "\n",
    "\n",
    "if __name__ == '__main__':\n",
    "    for date in dateRange('2019-09-01', '2019-09-11'):\n",
    "        print(date)"
   ]
  },
  {
   "cell_type": "markdown",
   "metadata": {},
   "source": [
    "##### [python给定起始和结束日期，如何得到中间所有日期](https://blog.csdn.net/junli_chen/article/details/52944724)"
   ]
  },
  {
   "cell_type": "code",
   "execution_count": 208,
   "metadata": {
    "ExecuteTime": {
     "end_time": "2019-09-19T14:26:01.703000Z",
     "start_time": "2019-09-19T14:26:01.692000Z"
    }
   },
   "outputs": [
    {
     "name": "stdout",
     "output_type": "stream",
     "text": [
      "2019-09-22\n",
      "2019-09-23\n",
      "2019-09-24\n",
      "2019-09-25\n",
      "2019-09-26\n",
      "2019-09-27\n",
      "2019-09-28\n",
      "2019-09-29\n",
      "2019-09-30\n",
      "2019-10-01\n"
     ]
    }
   ],
   "source": [
    "import datetime\n",
    "start = '2019-09-21'\n",
    "end = '2019-10-01'\n",
    "\n",
    "datestart = datetime.datetime.strptime(start, '%Y-%m-%d')\n",
    "dateend = datetime.datetime.strptime(end, '%Y-%m-%d')\n",
    "\n",
    "while datestart < dateend:\n",
    "    datestart += datetime.timedelta(days=1)\n",
    "    print(datestart.strftime('%Y-%m-%d'))"
   ]
  },
  {
   "cell_type": "markdown",
   "metadata": {},
   "source": [
    "##### [Python获取两时段内日期、月份、小时的列表清单](https://blog.csdn.net/BabyFish13/article/details/80846536)"
   ]
  },
  {
   "cell_type": "code",
   "execution_count": 209,
   "metadata": {
    "ExecuteTime": {
     "end_time": "2019-09-19T14:30:17.232000Z",
     "start_time": "2019-09-19T14:30:17.156000Z"
    }
   },
   "outputs": [
    {
     "name": "stdout",
     "output_type": "stream",
     "text": [
      "2019-09-19\n",
      "2019-09-18\n",
      "['2018-06-05', '2018-06-06', '2018-06-07', '2018-06-08', '2018-06-09', '2018-06-10', '2018-06-11', '2018-06-12', '2018-06-13', '2018-06-14', '2018-06-15', '2018-06-16', '2018-06-17', '2018-06-18', '2018-06-19', '2018-06-20', '2018-06-21', '2018-06-22', '2018-06-23', '2018-06-24', '2018-06-25', '2018-06-26', '2018-06-27', '2018-06-28', '2018-06-29', '2018-06-30', '2018-07-01', '2018-07-02', '2018-07-03', '2018-07-04', '2018-07-05', '2018-07-06', '2018-07-07', '2018-07-08', '2018-07-09']\n",
      "['2018-01', '2018-02', '2018-03', '2018-04', '2018-05', '2018-06', '2018-07', '2018-08', '2018-09', '2018-10', '2018-11', '2018-12', '2019-01', '2019-02', '2019-03', '2019-04', '2019-05', '2019-06', '2019-07', '2019-08', '2019-09']\n",
      "['2018-01-01 23', '2018-01-02 00', '2018-01-02 01', '2018-01-02 02', '2018-01-02 03', '2018-01-02 04', '2018-01-02 05', '2018-01-02 06', '2018-01-02 07', '2018-01-02 08', '2018-01-02 09', '2018-01-02 10', '2018-01-02 11', '2018-01-02 12', '2018-01-02 13', '2018-01-02 14', '2018-01-02 15', '2018-01-02 16', '2018-01-02 17', '2018-01-02 18', '2018-01-02 19', '2018-01-02 20', '2018-01-02 21', '2018-01-02 22', '2018-01-02 23', '2018-01-03 00']\n"
     ]
    }
   ],
   "source": [
    "import warnings\n",
    "import datetime\n",
    "\n",
    "warnings.filterwarnings(\"ignore\")\n",
    "\n",
    "\n",
    "def getNowDay():\n",
    "    DayNow = datetime.datetime.today().strftime('%Y-%m-%d')\n",
    "    return DayNow\n",
    "\n",
    "\n",
    "def getYesterDay():\n",
    "    YesterDay = (\n",
    "        datetime.datetime.today() - datetime.timedelta(1)).strftime('%Y-%m-%d')\n",
    "    return YesterDay\n",
    "\n",
    "\n",
    "# 获取日期清单\n",
    "def dateRange(beginDate, endDate):\n",
    "    dates = []\n",
    "    dt = datetime.datetime.strptime(beginDate, \"%Y-%m-%d\")\n",
    "    date = beginDate[:]\n",
    "    while date <= endDate:\n",
    "        dates.append(date)\n",
    "        dt = dt + datetime.timedelta(1)\n",
    "        date = dt.strftime(\"%Y-%m-%d\")\n",
    "    return dates\n",
    "\n",
    "\n",
    "# 获取月份清单\n",
    "def monthRange(beginDate, endDate):\n",
    "    monthSet = set()\n",
    "    for date in dateRange(beginDate, endDate):\n",
    "        monthSet.add(date[0:7])\n",
    "    monthList = []\n",
    "    for month in monthSet:\n",
    "        monthList.append(month)\n",
    "    return sorted(monthList)\n",
    "\n",
    "\n",
    "# 获取小时清单\n",
    "def dateHourRange(beginDateHour, endDateHour):\n",
    "    dhours = []\n",
    "    dhour = datetime.datetime.strptime(beginDateHour, \"%Y-%m-%d %H\")\n",
    "    date = beginDateHour[:]\n",
    "    while date <= endDateHour:\n",
    "        dhours.append(date)\n",
    "        dhour = dhour + datetime.timedelta(hours=1)\n",
    "        date = dhour.strftime(\"%Y-%m-%d %H\")\n",
    "    return dhours\n",
    "\n",
    "\n",
    "print (getNowDay())\n",
    "print (getYesterDay())\n",
    "print (dateRange(beginDate='2018-06-05', endDate='2018-07-09'))\n",
    "print (monthRange(beginDate='2018-01-09', endDate='2019-09-01'))\n",
    "print (dateHourRange(beginDateHour='2018-01-01 23', endDateHour='2018-01-03 00'))"
   ]
  },
  {
   "cell_type": "markdown",
   "metadata": {},
   "source": [
    "##### [Python计算出给定的时间段的具体日期列表-大全](https://blog.51cto.com/leizhu/1699307)"
   ]
  },
  {
   "cell_type": "markdown",
   "metadata": {},
   "source": [
    "###### 计算昨天和明天的日期"
   ]
  },
  {
   "cell_type": "code",
   "execution_count": 9,
   "metadata": {
    "ExecuteTime": {
     "end_time": "2019-09-20T00:02:41.864000Z",
     "start_time": "2019-09-20T00:02:41.860000Z"
    }
   },
   "outputs": [
    {
     "name": "stdout",
     "output_type": "stream",
     "text": [
      "2019-09-20 08:02:41.861000\n"
     ]
    }
   ],
   "source": [
    "import datetime\n",
    "print(datetime.datetime.now())"
   ]
  },
  {
   "cell_type": "code",
   "execution_count": 11,
   "metadata": {
    "ExecuteTime": {
     "end_time": "2019-09-20T00:03:22.267000Z",
     "start_time": "2019-09-20T00:03:22.259000Z"
    }
   },
   "outputs": [
    {
     "name": "stdout",
     "output_type": "stream",
     "text": [
      "20190919\n",
      "20190921\n"
     ]
    }
   ],
   "source": [
    "yesterday = (datetime.datetime.now() - datetime.timedelta(days=1)).strftime(\"%Y%m%d\")\n",
    "tomorrow = (datetime.datetime.now() + datetime.timedelta(days=1)).strftime(\"%Y%m%d\")\n",
    "\n",
    "print(yesterday)\n",
    "print(tomorrow)"
   ]
  },
  {
   "cell_type": "markdown",
   "metadata": {},
   "source": [
    "###### 计算某一月有多少天"
   ]
  },
  {
   "cell_type": "code",
   "execution_count": 12,
   "metadata": {
    "ExecuteTime": {
     "end_time": "2019-09-20T00:04:20.075000Z",
     "start_time": "2019-09-20T00:04:20.070000Z"
    }
   },
   "outputs": [
    {
     "name": "stdout",
     "output_type": "stream",
     "text": [
      "(5, 30)\n"
     ]
    }
   ],
   "source": [
    "import calendar\n",
    "monthRange = calendar.monthrange(2013, 6)\n",
    "print(monthRange)"
   ]
  },
  {
   "cell_type": "markdown",
   "metadata": {},
   "source": [
    "输出的是一个元组，第一个元素是上一个月的最后一天为星期几(0-6),星期天为0;第二个元素是这个月的天数。"
   ]
  },
  {
   "cell_type": "markdown",
   "metadata": {},
   "source": [
    "###### 计算周的日期函数。包含某一周开始、结束日期，周的详细日期列表"
   ]
  },
  {
   "cell_type": "code",
   "execution_count": 15,
   "metadata": {
    "ExecuteTime": {
     "end_time": "2019-09-20T00:06:23.637000Z",
     "start_time": "2019-09-20T00:06:23.551000Z"
    }
   },
   "outputs": [
    {
     "name": "stdout",
     "output_type": "stream",
     "text": [
      "(['20190114', '20190115', '20190116', '20190117', '20190118', '20190119', '20190120'], {0: [datetime.date(2019, 1, 1), datetime.date(2019, 1, 6)], 1: [datetime.date(2019, 1, 7), datetime.date(2019, 1, 13)], 2: [datetime.date(2019, 1, 14), datetime.date(2019, 1, 20)], 3: [datetime.date(2019, 1, 21), datetime.date(2019, 1, 27)], 4: [datetime.date(2019, 1, 28), datetime.date(2019, 2, 3)], 5: [datetime.date(2019, 2, 4), datetime.date(2019, 2, 10)], 6: [datetime.date(2019, 2, 11), datetime.date(2019, 2, 17)], 7: [datetime.date(2019, 2, 18), datetime.date(2019, 2, 24)], 8: [datetime.date(2019, 2, 25), datetime.date(2019, 3, 3)], 9: [datetime.date(2019, 3, 4), datetime.date(2019, 3, 10)], 10: [datetime.date(2019, 3, 11), datetime.date(2019, 3, 17)], 11: [datetime.date(2019, 3, 18), datetime.date(2019, 3, 24)], 12: [datetime.date(2019, 3, 25), datetime.date(2019, 3, 31)], 13: [datetime.date(2019, 4, 1), datetime.date(2019, 4, 7)], 14: [datetime.date(2019, 4, 8), datetime.date(2019, 4, 14)], 15: [datetime.date(2019, 4, 15), datetime.date(2019, 4, 21)], 16: [datetime.date(2019, 4, 22), datetime.date(2019, 4, 28)], 17: [datetime.date(2019, 4, 29), datetime.date(2019, 5, 5)], 18: [datetime.date(2019, 5, 6), datetime.date(2019, 5, 12)], 19: [datetime.date(2019, 5, 13), datetime.date(2019, 5, 19)], 20: [datetime.date(2019, 5, 20), datetime.date(2019, 5, 26)], 21: [datetime.date(2019, 5, 27), datetime.date(2019, 6, 2)], 22: [datetime.date(2019, 6, 3), datetime.date(2019, 6, 9)], 23: [datetime.date(2019, 6, 10), datetime.date(2019, 6, 16)], 24: [datetime.date(2019, 6, 17), datetime.date(2019, 6, 23)], 25: [datetime.date(2019, 6, 24), datetime.date(2019, 6, 30)], 26: [datetime.date(2019, 7, 1), datetime.date(2019, 7, 7)], 27: [datetime.date(2019, 7, 8), datetime.date(2019, 7, 14)], 28: [datetime.date(2019, 7, 15), datetime.date(2019, 7, 21)], 29: [datetime.date(2019, 7, 22), datetime.date(2019, 7, 28)], 30: [datetime.date(2019, 7, 29), datetime.date(2019, 8, 4)], 31: [datetime.date(2019, 8, 5), datetime.date(2019, 8, 11)], 32: [datetime.date(2019, 8, 12), datetime.date(2019, 8, 18)], 33: [datetime.date(2019, 8, 19), datetime.date(2019, 8, 25)], 34: [datetime.date(2019, 8, 26), datetime.date(2019, 9, 1)], 35: [datetime.date(2019, 9, 2), datetime.date(2019, 9, 8)], 36: [datetime.date(2019, 9, 9), datetime.date(2019, 9, 15)], 37: [datetime.date(2019, 9, 16), datetime.date(2019, 9, 22)], 38: [datetime.date(2019, 9, 23), datetime.date(2019, 9, 29)], 39: [datetime.date(2019, 9, 30), datetime.date(2019, 10, 6)], 40: [datetime.date(2019, 10, 7), datetime.date(2019, 10, 13)], 41: [datetime.date(2019, 10, 14), datetime.date(2019, 10, 20)], 42: [datetime.date(2019, 10, 21), datetime.date(2019, 10, 27)], 43: [datetime.date(2019, 10, 28), datetime.date(2019, 11, 3)], 44: [datetime.date(2019, 11, 4), datetime.date(2019, 11, 10)], 45: [datetime.date(2019, 11, 11), datetime.date(2019, 11, 17)], 46: [datetime.date(2019, 11, 18), datetime.date(2019, 11, 24)], 47: [datetime.date(2019, 11, 25), datetime.date(2019, 12, 1)], 48: [datetime.date(2019, 12, 2), datetime.date(2019, 12, 8)], 49: [datetime.date(2019, 12, 9), datetime.date(2019, 12, 15)], 50: [datetime.date(2019, 12, 16), datetime.date(2019, 12, 22)], 51: [datetime.date(2019, 12, 23), datetime.date(2019, 12, 29)], 52: [datetime.date(2019, 12, 30), datetime.date(2019, 12, 31)]}, '20190114', '20190120')\n"
     ]
    }
   ],
   "source": [
    "import datetime\n",
    "\n",
    "\n",
    "def allweeks(week):\n",
    "    \"计算一年内所有周的具体日期\"\n",
    "    _week = int(week) - 1\n",
    "    current = datetime.datetime.now()\n",
    "    start = datetime.date(current.year, 1, 1)\n",
    "    last_day = datetime.date(current.year, 12, 31)\n",
    "    isfirst = start.weekday()\n",
    "    last_week = last_day.strftime('%W')\n",
    "    weeks = {}  # 计算出一年中每个周的开始和结束日期。例如：0: [datetime.date(2015, 1, 1), datetime.date(2015, 1, 4)]\n",
    "    date_list_for_week = []  # 用于得出具体的某一个周的具体天数列表：例如: 第9周：['20150223', '20150224', '20150225', '20150226', '20150227', '20150228', '20150301']\n",
    "    if isfirst != 0:\n",
    "        end = datetime.timedelta(7 - start.weekday() - 1)\n",
    "        weeks[0] = [start, start + end]\n",
    "    start += datetime.timedelta(7 - start.weekday())\n",
    "    for i in range(0, int(last_week)):\n",
    "        days = datetime.timedelta(weeks=i)\n",
    "        end = start + days\n",
    "        if i + 1 == int(last_week):\n",
    "            weeks[i + 1] = [end, last_day]\n",
    "        else:\n",
    "            weeks[i + 1] = [end, end + datetime.timedelta(6)]\n",
    "    starttime = ''.join(str(\n",
    "        weeks[_week][0]).split('-'))  # 计算出给出周的开始日期，如20150907\n",
    "    endtime = ''.join(str(weeks[_week][1]).split(\"-\"))  # 计算出给出周的结束日期，如201509013\n",
    "    delta = datetime.timedelta(days=1)\n",
    "    startdate = datetime.datetime(\n",
    "        int(starttime[0:4]), int(starttime[4:6]), int(starttime[6:8]))\n",
    "    if int(starttime[4:6]) == int(endtime[4:6]):\n",
    "        for i in range(int(endtime[6:]) - int(starttime[6:]) + 1):\n",
    "            days = (startdate + delta * i).strftime('%Y%m%d')\n",
    "            date_list_for_week.append(days)\n",
    "    elif int(starttime[4:6]) != int(endtime[4:6]):\n",
    "        for i in range(7):\n",
    "            days = (startdate + delta * i).strftime('%Y%m%d')\n",
    "            date_list_for_week.append(days)\n",
    "    return date_list_for_week, weeks, starttime, endtime\n",
    "\n",
    "\n",
    "if __name__ == \"__main__\":\n",
    "    week = 3\n",
    "    print(allweeks(week))"
   ]
  },
  {
   "cell_type": "markdown",
   "metadata": {},
   "source": [
    "###### 计算自定义时间的日期函数。（比如计算20150811-20150922之间的日期列表）"
   ]
  },
  {
   "cell_type": "code",
   "execution_count": 17,
   "metadata": {
    "ExecuteTime": {
     "end_time": "2019-09-20T00:07:31.051000Z",
     "start_time": "2019-09-20T00:07:31.035000Z"
    }
   },
   "outputs": [
    {
     "name": "stdout",
     "output_type": "stream",
     "text": [
      "['20150811', '20150812', '20150813', '20150814', '20150815', '20150816', '20150817', '20150818', '20150819', '20150820', '20150821', '20150822', '20150823', '20150824', '20150825', '20150826', '20150827', '20150828', '20150829', '20150830', '20150831', '20150901', '20150902', '20150903', '20150904', '20150905', '20150906', '20150907', '20150908', '20150909', '20150910', '20150911', '20150912', '20150913', '20150914', '20150915', '20150916', '20150917', '20150918', '20150919', '20150920', '20150921', '20150922']\n"
     ]
    }
   ],
   "source": [
    "import datetime\n",
    "\n",
    "def get_datelist(starttime,endtime):\n",
    "    startdate = datetime.datetime(int(starttime[0:4]),int(starttime[4:6]),int(starttime[6:8]))\n",
    "    #now = datetime.datetime.now()\n",
    "    delta = datetime.timedelta(days=1)\n",
    "    # my_yestoday = startdate + delta\n",
    "    # my_yes_time = my_yestoday.strftime('%Y%m%d')\n",
    "    n = 0\n",
    "    date_list = []\n",
    "    while 1:\n",
    "        if starttime<=endtime:\n",
    "            days = (startdate  + delta*n).strftime('%Y%m%d')\n",
    "            n = n+1\n",
    "            date_list.append(days)\n",
    "            if days == endtime:\n",
    "                break\n",
    "    return date_list\n",
    "print(get_datelist('20150811','20150922'))"
   ]
  },
  {
   "cell_type": "markdown",
   "metadata": {},
   "source": [
    "###### 将自定义时间分割成星期来进行取值，不足一星期的按天来取值\n",
    "\n",
    "计算某一时间在第几周(第几周包含的时间区间)"
   ]
  },
  {
   "cell_type": "code",
   "execution_count": 19,
   "metadata": {
    "ExecuteTime": {
     "end_time": "2019-09-20T00:08:49.634000Z",
     "start_time": "2019-09-20T00:08:49.598000Z"
    }
   },
   "outputs": [
    {
     "name": "stdout",
     "output_type": "stream",
     "text": [
      "OrderedDict([('201541', ['20151011']), ('201542', ['20151012', '20151013', '20151014', '20151015', '20151016', '20151017', '20151018']), ('201543', ['20151019', '20151020', '20151021', '20151022', '20151023', '20151024', '20151025']), ('201544', ['20151026', '20151027', '20151028', '20151029', '20151030', '20151031', '20151101']), ('201545', ['20151102'])])\n"
     ]
    }
   ],
   "source": [
    "import collections\n",
    "\n",
    "def startdate_enddate_weeks_list(startdate,enddate):\n",
    "    '''计算startdate---enddate的周所属的周和周包含的日期列表\n",
    "     week_date_start_end {1: ['20181231','20190106'],...}\n",
    "     '''\n",
    "\n",
    "    start_date=datetime.datetime.strptime(str(startdate),'%Y%m%d')\n",
    "    end_date=datetime.datetime.strptime(str(enddate),'%Y%m%d')\n",
    "    _u=datetime.timedelta(days=1)\n",
    "    n=0\n",
    "    week_date=collections.OrderedDict()\n",
    "    date=[]\n",
    "    while 1:\n",
    "        _time=start_date+n*_u\n",
    "        y,w=_time.isocalendar()[:2]\n",
    "        year_week=str(y)+str(w)\n",
    "        if year_week in week_date:\n",
    "            date.append(_time.strftime('%Y%m%d'))\n",
    "        else:\n",
    "            date=[_time.strftime('%Y%m%d')]\n",
    "        week_date[year_week]=date\n",
    "        n=n+1\n",
    "        if _time==end_date:\n",
    "            break\n",
    "    return week_date\n",
    "\n",
    "\n",
    "a=startdate_enddate_weeks_list(\"20151011\",\"20151102\")\n",
    "print(a)"
   ]
  },
  {
   "cell_type": "markdown",
   "metadata": {},
   "source": [
    "###### 算出某一日期所属当前月的所有日期列表，dates是一个具体日期\n",
    "\n",
    "例20160307"
   ]
  },
  {
   "cell_type": "code",
   "execution_count": 27,
   "metadata": {
    "ExecuteTime": {
     "end_time": "2019-09-20T00:53:11.666000Z",
     "start_time": "2019-09-20T00:53:11.653000Z"
    },
    "collapsed": true
   },
   "outputs": [],
   "source": [
    "def get_one_mon_all_daylist(dates):\n",
    "    '''得到一个月的具体日期列表：从1号到月末的天列表'''\n",
    "    a_mon_daylist = []\n",
    "    mon_days = calendar.monthrange(int(dates[:4]),int(dates[4:6]))[1]#得到当前月的天数\n",
    "    for i in range(1,int(mon_days)+1):\n",
    "        if len(str(i)) == 1:\n",
    "            a_mon_daylist.append(dates[:6]+\"0\"+str(i))\n",
    "        elif len(str(i)) == 2:\n",
    "            a_mon_daylist.append(dates[:6]+str(i))\n",
    "    return a_mon_daylist"
   ]
  },
  {
   "cell_type": "code",
   "execution_count": 28,
   "metadata": {
    "ExecuteTime": {
     "end_time": "2019-09-20T00:53:11.821000Z",
     "start_time": "2019-09-20T00:53:11.817000Z"
    }
   },
   "outputs": [
    {
     "name": "stdout",
     "output_type": "stream",
     "text": [
      "['20160301', '20160302', '20160303', '20160304', '20160305', '20160306', '20160307', '20160308', '20160309', '20160310', '20160311', '20160312', '20160313', '20160314', '20160315', '20160316', '20160317', '20160318', '20160319', '20160320', '20160321', '20160322', '20160323', '20160324', '20160325', '20160326', '20160327', '20160328', '20160329', '20160330', '20160331']\n"
     ]
    }
   ],
   "source": [
    "print(get_one_mon_all_daylist('20160307'))"
   ]
  },
  {
   "cell_type": "markdown",
   "metadata": {},
   "source": [
    "##### python获取任意时间段的日期(年月日)"
   ]
  },
  {
   "cell_type": "code",
   "execution_count": 31,
   "metadata": {
    "ExecuteTime": {
     "end_time": "2019-09-20T00:56:04.138000Z",
     "start_time": "2019-09-20T00:56:04.125000Z"
    }
   },
   "outputs": [
    {
     "name": "stdout",
     "output_type": "stream",
     "text": [
      "['2019-09-25', '2019-09-26', '2019-09-27', '2019-09-28', '2019-09-29', '2019-09-30', '2019-10-01', '2019-10-02', '2019-10-03', '2019-10-04', '2019-10-05', '2019-10-06']\n"
     ]
    }
   ],
   "source": [
    "import datetime\n",
    "\n",
    "#   结束时间\n",
    "d1 = datetime.date(2019, 10, 7)\n",
    "#   开始时间\n",
    "d2 = datetime.date(2019, 9, 25)\n",
    "#   间隔天数\n",
    "date_range = int((d1 - d2).days)\n",
    "\n",
    "# today = datetime.date.today()\n",
    "#   只要计算出两个时间段区间的\n",
    "\n",
    "dateList = []\n",
    "while date_range != 0:\n",
    "    date = d1 - datetime.timedelta(days=date_range)\n",
    "    date_range = date_range - 1\n",
    "    dateList.append(str(date))\n",
    "\n",
    "print(dateList)"
   ]
  },
  {
   "cell_type": "markdown",
   "metadata": {},
   "source": [
    "#### python判断当前时间是否在某个时间段内"
   ]
  },
  {
   "cell_type": "markdown",
   "metadata": {},
   "source": [
    "##### [python判断当前时间是否在某个时间段里](https://www.213.name/archives/1168)"
   ]
  },
  {
   "cell_type": "code",
   "execution_count": 223,
   "metadata": {
    "ExecuteTime": {
     "end_time": "2019-09-19T14:43:33.057000Z",
     "start_time": "2019-09-19T14:43:33.049000Z"
    },
    "collapsed": true
   },
   "outputs": [],
   "source": [
    "# https://gist.github.com/RicoNut/741bdc134436e9f5fc93539624fbbfc8\n",
    "# 例如是否在9:30-11:30和13:30-15:30之间\n",
    "# in_time_range(\"093000-113000,133000-153000\")\n",
    "def in_time_range(ranges):\n",
    "    now = time.strptime(time.strftime(\"%H%M%S\"),\"%H%M%S\")\n",
    "    ranges = ranges.split(\",\")\n",
    "    for range in ranges:\n",
    "        r = range.split(\"-\")\n",
    "        if time.strptime(r[0],\"%H%M%S\") <= now <= time.strptime(r[1],\"%H%M%S\") or time.strptime(r[0],\"%H%M%S\") >= now >=time.strptime(r[1],\"%H%M%S\"):\n",
    "            return True\n",
    "    return False"
   ]
  },
  {
   "cell_type": "code",
   "execution_count": 224,
   "metadata": {
    "ExecuteTime": {
     "end_time": "2019-09-19T14:43:34Z",
     "start_time": "2019-09-19T14:43:33.995000Z"
    }
   },
   "outputs": [
    {
     "data": {
      "text/plain": [
       "False"
      ]
     },
     "execution_count": 224,
     "metadata": {},
     "output_type": "execute_result"
    }
   ],
   "source": [
    "print(in_time_range(\"093000-113000,133000-153000\"))"
   ]
  },
  {
   "cell_type": "markdown",
   "metadata": {},
   "source": [
    "[判断时间是否处于另外start和end之间](https://www.oschina.net/question/2757378_2183374)"
   ]
  },
  {
   "cell_type": "code",
   "execution_count": 1,
   "metadata": {
    "ExecuteTime": {
     "end_time": "2019-09-19T14:47:51.398000Z",
     "start_time": "2019-09-19T14:47:51.388000Z"
    }
   },
   "outputs": [
    {
     "name": "stdout",
     "output_type": "stream",
     "text": [
      "True\n",
      "True\n"
     ]
    }
   ],
   "source": [
    "import datetime\n",
    "\n",
    "dt = datetime.date(2015, 6, 1)\n",
    "start = datetime.date(2015, 1, 1)\n",
    "end = datetime.date(2015, 12, 1)\n",
    "\n",
    "print(dt > start)\n",
    "print(dt < end)"
   ]
  },
  {
   "cell_type": "markdown",
   "metadata": {},
   "source": [
    "##### [python判断时间是否落在两个时区之间（只比较时刻不比较日期）](https://blog.csdn.net/feiyang5260/article/details/87821901)"
   ]
  },
  {
   "cell_type": "code",
   "execution_count": 2,
   "metadata": {
    "ExecuteTime": {
     "end_time": "2019-09-19T14:48:56.461000Z",
     "start_time": "2019-09-19T14:48:56.428000Z"
    }
   },
   "outputs": [
    {
     "name": "stdout",
     "output_type": "stream",
     "text": [
      "当前时间： 2019-09-19 22:48:56.445000\n",
      "不在此区间\n"
     ]
    }
   ],
   "source": [
    "import datetime\n",
    "# 范围时间\n",
    "d_time1 = datetime.datetime.strptime(str(datetime.datetime.now().date())+'8:30', '%Y-%m-%d%H:%M')\n",
    "d_time2 =  datetime.datetime.strptime(str(datetime.datetime.now().date())+'18:33', '%Y-%m-%d%H:%M')\n",
    " \n",
    "# 当前时间\n",
    "n_time = datetime.datetime.now()\n",
    "print('当前时间： '+str(n_time))\n",
    "# 判断当前时间是否在范围时间内\n",
    "if n_time > d_time1 and n_time<d_time2:\n",
    "    print(\"在此区间中\")\n",
    "else:\n",
    "    print(\"不在此区间\")"
   ]
  },
  {
   "cell_type": "markdown",
   "metadata": {},
   "source": [
    "时间字符串直接比大小"
   ]
  },
  {
   "cell_type": "code",
   "execution_count": 4,
   "metadata": {
    "ExecuteTime": {
     "end_time": "2019-09-19T14:50:11.978000Z",
     "start_time": "2019-09-19T14:50:11.967000Z"
    }
   },
   "outputs": [
    {
     "name": "stdout",
     "output_type": "stream",
     "text": [
      "当前时间:22:50\n",
      "不在此区间中\n"
     ]
    }
   ],
   "source": [
    "import datetime\n",
    "t1 = '15:40'\n",
    "t2 = '18:17'\n",
    "now = datetime.datetime.now().strftime(\"%H:%M\")\n",
    "print(\"当前时间:\" + now)\n",
    "if t1 < now < t2:\n",
    "    print(\"在此区间中\")\n",
    "else:\n",
    "    print('不在此区间中')"
   ]
  },
  {
   "cell_type": "markdown",
   "metadata": {},
   "source": [
    "直接将当前时间格式化成字符串然后转换成整数进行比较"
   ]
  },
  {
   "cell_type": "code",
   "execution_count": 5,
   "metadata": {
    "ExecuteTime": {
     "end_time": "2019-09-19T14:50:41.157000Z",
     "start_time": "2019-09-19T14:50:41.145000Z"
    }
   },
   "outputs": [
    {
     "name": "stdout",
     "output_type": "stream",
     "text": [
      "当前时间：225041\n"
     ]
    }
   ],
   "source": [
    "import time\n",
    "now = time.strftime(\"%H%M%S\")\n",
    "print(\"当前时间：\" + now)\n",
    "#时间区间[09:35:10,18:01:01]\n",
    "if(180101 > int(time.strftime(\"%H%M%S\")) > 93510):\n",
    "    print('在此区间中')"
   ]
  },
  {
   "cell_type": "markdown",
   "metadata": {},
   "source": [
    "##### [如何使用Python的datetime模块确定当前时间是否在指定范围内？](https://codeday.me/bug/20180821/226147.html)"
   ]
  },
  {
   "cell_type": "code",
   "execution_count": 8,
   "metadata": {
    "ExecuteTime": {
     "end_time": "2019-09-19T23:59:28.452000Z",
     "start_time": "2019-09-19T23:59:28.443000Z"
    }
   },
   "outputs": [
    {
     "name": "stdout",
     "output_type": "stream",
     "text": [
      "no, not in the interval\n"
     ]
    }
   ],
   "source": [
    "from datetime import datetime, time\n",
    "now = datetime.now()\n",
    "now_time = now.time()\n",
    "if now_time >= time(8,30) and now_time <= time(16,30):\n",
    "    print(\"yes, within the interval\")\n",
    "else:\n",
    "    print(\"no, not in the interval\")"
   ]
  },
  {
   "cell_type": "code",
   "execution_count": null,
   "metadata": {
    "collapsed": true
   },
   "outputs": [],
   "source": []
  },
  {
   "cell_type": "markdown",
   "metadata": {},
   "source": [
    "##### [python 如何判断两个时间是否在同一个5分钟时段内？ - 知乎](https://www.zhihu.com/question/54927509)"
   ]
  },
  {
   "cell_type": "markdown",
   "metadata": {},
   "source": [
    "5分钟时段是按9:55，10:00，10:05，10:10划分的，如何判断两个时间是不是在同一时间段。\n",
    "\n",
    "比如9:56:00和9:59:59是属于一个时段的，但9:59:59和10:00:00就不是一个时段的了\n",
    "\n",
    "用 unix 时间戳除以300的得数是否一致来判断，相同的即在同一个时间段，否则不在。\n",
    "\n",
    "300 是 5 分钟的秒数，然后中国的时区 +8 小时刚好是 5 分钟的倍数，所以不影响。"
   ]
  },
  {
   "cell_type": "code",
   "execution_count": 6,
   "metadata": {
    "ExecuteTime": {
     "end_time": "2019-09-19T14:54:32.749000Z",
     "start_time": "2019-09-19T14:54:32.741000Z"
    }
   },
   "outputs": [
    {
     "name": "stdout",
     "output_type": "stream",
     "text": [
      "09:56:00\t4838711.2\n",
      "09:59:59\t4838711.996666667\n",
      "10:00:00\t4838712.0\n",
      "10:01:01\t4838712.203333333\n",
      "10:06:00\t4838713.2\n"
     ]
    }
   ],
   "source": [
    "time_list = ['09:56:00', '09:59:59', '10:00:00', '10:01:01', '10:06:00']\n",
    "\n",
    "for t in time_list:\n",
    "    timestamp = time.mktime(time.strptime('2016-01-01 %s' % t, \"%Y-%m-%d %H:%M:%S\"))\n",
    "    print('%s\\t%s' % (t, int(timestamp)/300))\n"
   ]
  },
  {
   "cell_type": "markdown",
   "metadata": {},
   "source": [
    "#### [python 时间戳、时间字符格式化、判断时间在某个时间段内](https://www.twblogs.net/a/5c83577bbd9eee35fc13c3ab/zh-cn)"
   ]
  },
  {
   "cell_type": "markdown",
   "metadata": {},
   "source": [
    "##### 获得当天时间的前一天、后一天（注意时间戳是以秒s为单位的，当将时间戳再转为格式化的时间字符串时，注意不能再用%f 毫秒）"
   ]
  },
  {
   "cell_type": "code",
   "execution_count": 36,
   "metadata": {
    "ExecuteTime": {
     "end_time": "2019-09-20T01:00:38.364000Z",
     "start_time": "2019-09-20T01:00:38.311000Z"
    },
    "collapsed": true
   },
   "outputs": [],
   "source": [
    "from datetime import timedelta, date\n",
    "import time\n",
    "\n",
    "def testfunc():\n",
    "    today = date.today()\n",
    "    print(today, type(today))\n",
    "    yesterday = date.today() + timedelta(days=-1)\n",
    "    print(yesterday, type(yesterday))\n",
    "    yesterday = (date.today() + timedelta(days=-1)).strftime(\"%Y.%m.%d\")\n",
    "    print(yesterday)\n",
    "    \n",
    "    a = time.time()\n",
    "    print(a)\n",
    "    \n",
    "    ltime = time.localtime(a)\n",
    "    print(\"ltime\", ltime)\n",
    "    \n",
    "    gtime = time.gmtime(a)\n",
    "    print(gtime)\n",
    "    \n",
    "    time_string = time.strftime('%Y.%m.%d.%H.%M.%S', ltime)\n",
    "    gtime_string = time.strftime('%Y-%m-%dT%H:%M:%SZ', time.gmtime(time.time()))\n",
    "    print(time_string)\n",
    "    print(\"gtime_string\", gtime_string, type(gtime_string))\n",
    "\n",
    "    date_str = \"2018/11/13 17:32\"\n",
    "    print(\"start:\", date_str)\n",
    "    \n",
    "    timeArray = time.strptime(date_str, \"%Y/%m/%d %H:%M\")\n",
    "    timeStamp = int(time.mktime(timeArray))\n",
    "    timeStampPlusOneday = timeStamp + +86400\n",
    "    # print timeStampPlusOneday\n",
    "    \n",
    "    timeArray = time.localtime(timeStampPlusOneday)\n",
    "    otherStyleTime = time.strftime(\"%Y/%m/%d %H:%M\", timeArray)\n",
    "    print(\"other:\", otherStyleTime)\n",
    "\n",
    "    print(\"test\")\n",
    "    yesterday = date.today() + timedelta(days=-1)\n",
    "    yesterday = yesterday.strftime(\"%Y.%m.%d\")\n",
    "    print(yesterday)\n",
    "    print(yesterday + \" 00:00:00\")\n",
    "    print(\"uesd:\", time.strftime('%Y-%m-%d %H:%M:%S', time.gmtime(time.time())))"
   ]
  },
  {
   "cell_type": "code",
   "execution_count": 37,
   "metadata": {
    "ExecuteTime": {
     "end_time": "2019-09-20T01:00:40.084000Z",
     "start_time": "2019-09-20T01:00:40.074000Z"
    }
   },
   "outputs": [
    {
     "name": "stdout",
     "output_type": "stream",
     "text": [
      "2019-09-20 <class 'datetime.date'>\n",
      "2019-09-19 <class 'datetime.date'>\n",
      "2019.09.19\n",
      "1568941240.077\n",
      "ltime time.struct_time(tm_year=2019, tm_mon=9, tm_mday=20, tm_hour=9, tm_min=0, tm_sec=40, tm_wday=4, tm_yday=263, tm_isdst=0)\n",
      "time.struct_time(tm_year=2019, tm_mon=9, tm_mday=20, tm_hour=1, tm_min=0, tm_sec=40, tm_wday=4, tm_yday=263, tm_isdst=0)\n",
      "2019.09.20.09.00.40\n",
      "gtime_string 2019-09-20T01:00:40Z <class 'str'>\n",
      "start: 2018/11/13 17:32\n",
      "other: 2018/11/14 17:32\n",
      "test\n",
      "2019.09.19\n",
      "2019.09.19 00:00:00\n",
      "uesd: 2019-09-20 01:00:40\n"
     ]
    }
   ],
   "source": [
    "testfunc()"
   ]
  },
  {
   "cell_type": "markdown",
   "metadata": {},
   "source": [
    "##### 判断某个时间点是否在两个时间点内"
   ]
  },
  {
   "cell_type": "code",
   "execution_count": 38,
   "metadata": {
    "ExecuteTime": {
     "end_time": "2019-09-20T01:02:41.898000Z",
     "start_time": "2019-09-20T01:02:41.880000Z"
    },
    "collapsed": true
   },
   "outputs": [],
   "source": [
    "def getNonWorkTime():\n",
    "    # 范围时间\n",
    "    a_time = datetime.datetime.strptime(\n",
    "        str(datetime.datetime.now().date()) + '2:00', '%Y-%m-%d%H:%M')\n",
    "    b_time = datetime.datetime.strptime(\n",
    "        str(datetime.datetime.now().date()) + '5:00', '%Y-%m-%d%H:%M')\n",
    "    c_time = datetime.datetime.strptime(\n",
    "        str(datetime.datetime.now().date()) + '7:00', '%Y-%m-%d%H:%M')\n",
    "    d_time = datetime.datetime.strptime(\n",
    "        str(datetime.datetime.now().date()) + '13:00', '%Y-%m-%d%H:%M')\n",
    "    print(a_time, b_time, c_time, d_time)\n",
    "    # 当前时间\n",
    "    n_time = datetime.datetime.now()\n",
    "    print(\"now:\", n_time)\n",
    "    # 判断当前时间是否在范围时间内\n",
    "    if b_time > n_time > a_time or d_time > n_time > c_time:\n",
    "        print(\"not work\")\n",
    "    else:\n",
    "        print(\"work\")"
   ]
  },
  {
   "cell_type": "code",
   "execution_count": 39,
   "metadata": {
    "ExecuteTime": {
     "end_time": "2019-09-20T01:02:42.128000Z",
     "start_time": "2019-09-20T01:02:42.125000Z"
    }
   },
   "outputs": [
    {
     "name": "stdout",
     "output_type": "stream",
     "text": [
      "2019-09-20 02:00:00 2019-09-20 05:00:00 2019-09-20 07:00:00 2019-09-20 13:00:00\n",
      "now: 2019-09-20 09:02:42.126000\n",
      "not work\n"
     ]
    }
   ],
   "source": [
    "getNonWorkTime()"
   ]
  },
  {
   "cell_type": "markdown",
   "metadata": {},
   "source": [
    "##### 获得一分钟之前的时间，一小时之后的时间"
   ]
  },
  {
   "cell_type": "code",
   "execution_count": 41,
   "metadata": {
    "ExecuteTime": {
     "end_time": "2019-09-20T01:04:04.182000Z",
     "start_time": "2019-09-20T01:04:04.171000Z"
    },
    "collapsed": true
   },
   "outputs": [],
   "source": [
    "def oneMinStr():\n",
    "    start = time.strftime('%Y/%m/%d %H:%M:%S', time.gmtime(time.time()))\n",
    "    print(\"start:\", start,type(start))\n",
    "    timeArray = time.strptime(start, \"%Y/%m/%d %H:%M:%S\")\n",
    "    timeStamp = int(time.mktime(timeArray))\n",
    "    timeStampPlusOneday = timeStamp + -60\n",
    "    # print timeStampPlusOneday\n",
    "    timeArray = time.localtime(timeStampPlusOneday)\n",
    "    endtime = time.strftime(\"%Y/%m/%d %H:%M:%S\", timeArray)\n",
    "    print(\"other:\", endtime,endtime.split()[1])\n",
    "    s = \"(\" + endtime + \"-\" + start.split()[1] + \")\"\n",
    "    print(s)"
   ]
  },
  {
   "cell_type": "code",
   "execution_count": 42,
   "metadata": {
    "ExecuteTime": {
     "end_time": "2019-09-20T01:04:04.401000Z",
     "start_time": "2019-09-20T01:04:04.396000Z"
    }
   },
   "outputs": [
    {
     "name": "stdout",
     "output_type": "stream",
     "text": [
      "start: 2019/09/20 01:04:04 <class 'str'>\n",
      "other: 2019/09/20 01:03:04 01:03:04\n",
      "(2019/09/20 01:03:04-01:04:04)\n"
     ]
    }
   ],
   "source": [
    "oneMinStr()"
   ]
  },
  {
   "cell_type": "code",
   "execution_count": 43,
   "metadata": {
    "ExecuteTime": {
     "end_time": "2019-09-20T01:04:20.288000Z",
     "start_time": "2019-09-20T01:04:20.251000Z"
    },
    "collapsed": true
   },
   "outputs": [],
   "source": [
    "def addOneHour():\n",
    "    #date_str = \"2018/11/13 17:32\"\n",
    "    date_str = \"2019-02-21T16:00:00.000000Z\"\n",
    "    print(\"start:\", date_str)\n",
    "    timeArray = time.strptime(date_str, \"%Y-%m-%dT%H:%M:%S.%fZ\")\n",
    "    timeStamp = int(time.mktime(timeArray))\n",
    "    timeStampPlusOneday = timeStamp + +3600\n",
    "    # print timeStampPlusOneday\n",
    "    #timeStamp = 1381419600\n",
    "    dateArray = datetime.datetime.utcfromtimestamp(timeStampPlusOneday)\n",
    "    otherStyleTime = dateArray.strftime(\"%Y--%m--%d %H:%M:%S\")\n",
    "    print(otherStyleTime)  # 2013--10--10 15:40:00\n",
    "\n",
    "\n",
    "    timeArray = time.localtime(timeStampPlusOneday)\n",
    "    otherStyleTime = time.strftime(\"%Y/%m/%d %H:%M\", timeArray)\n",
    "    print(\"other:\", otherStyleTime)\n",
    "\n",
    "    minTime = \"2019-02-21T16:00:00.000000Z\"\n",
    "    maxTime = \"2019-02-28T16:00:00.000000Z\"\n",
    "    gt = \"2019-02-21T16:00:00.000000Z\"\n",
    "    lt = \"2019-02-21T18:00:00.000000Z\"\n",
    "\n",
    "    print(\"initial time:\", gt)\n",
    "\n",
    "    gtArray = time.strptime(gt, \"%Y-%m-%dT%H:%M:%S.%fZ\")\n",
    "    #时间戳与字符类型互转\n",
    "    timeStamp = int(time.mktime(gtArray))\n",
    "    timeStampPlusOneHour = timeStamp + +3600\n",
    "    print(timeStampPlusOneHour)\n",
    "    timeArray = time.localtime(timeStampPlusOneHour)\n",
    "    otherStyleTime = time.strftime(\"%Y-%m-%dT%H:%M:%SZ\", timeArray)\n",
    "    print(\"addOH\", otherStyleTime)"
   ]
  },
  {
   "cell_type": "code",
   "execution_count": 44,
   "metadata": {
    "ExecuteTime": {
     "end_time": "2019-09-20T01:04:24.064000Z",
     "start_time": "2019-09-20T01:04:24.058000Z"
    }
   },
   "outputs": [
    {
     "name": "stdout",
     "output_type": "stream",
     "text": [
      "start: 2019-02-21T16:00:00.000000Z\n",
      "2019--02--21 09:00:00\n",
      "other: 2019/02/21 17:00\n",
      "initial time: 2019-02-21T16:00:00.000000Z\n",
      "1550739600\n",
      "addOH 2019-02-21T17:00:00Z\n"
     ]
    }
   ],
   "source": [
    "addOneHour()"
   ]
  },
  {
   "cell_type": "markdown",
   "metadata": {},
   "source": [
    "#### 时间分段--划分为等间隔的时间间隔\n",
    "\n",
    "[How to divide python datetime-span into equally spaced time-intervals?](https://stackoverflow.com/questions/38845802/how-to-divide-python-datetime-span-into-equally-spaced-time-intervals)"
   ]
  },
  {
   "cell_type": "code",
   "execution_count": 47,
   "metadata": {
    "ExecuteTime": {
     "end_time": "2019-09-20T01:16:24.585000Z",
     "start_time": "2019-09-20T01:16:24.575000Z"
    }
   },
   "outputs": [
    {
     "name": "stdout",
     "output_type": "stream",
     "text": [
      "[datetime.datetime(2019, 9, 20, 9, 21, 24, 582000), datetime.datetime(2019, 9, 20, 9, 26, 24, 582000), datetime.datetime(2019, 9, 20, 9, 31, 24, 582000), datetime.datetime(2019, 9, 20, 9, 36, 24, 582000), datetime.datetime(2019, 9, 20, 9, 41, 24, 582000), datetime.datetime(2019, 9, 20, 9, 46, 24, 582000)]\n"
     ]
    }
   ],
   "source": [
    "from datetime import timedelta\n",
    "import datetime\n",
    "\n",
    "date_a = datetime.datetime.now()\n",
    "date_b = date_a + timedelta(minutes=27)\n",
    "# date_a = datetime.datetime(2016, 8, 9, 8, 24, 30, 993352)\n",
    "# date_b = datetime.datetime(2016, 8, 9, 7, 24, 30, 993352)\n",
    "\n",
    "delta = timedelta(minutes=5)\n",
    "five_min_timestamps = []\n",
    "date_x = date_a\n",
    "while date_x < date_b:\n",
    "    date_x += timedelta(minutes=5)\n",
    "    five_min_timestamps.append(date_x)\n",
    "    \n",
    "print(five_min_timestamps)"
   ]
  },
  {
   "cell_type": "markdown",
   "metadata": {},
   "source": [
    "[Given a date range how can we break it up into N contiguous sub-intervals?](https://stackoverflow.com/questions/29721228/given-a-date-range-how-can-we-break-it-up-into-n-contiguous-sub-intervals)"
   ]
  },
  {
   "cell_type": "code",
   "execution_count": 49,
   "metadata": {
    "ExecuteTime": {
     "end_time": "2019-09-20T01:27:26.223000Z",
     "start_time": "2019-09-20T01:27:26.206000Z"
    }
   },
   "outputs": [
    {
     "name": "stdout",
     "output_type": "stream",
     "text": [
      "['20191006', '20191011', '20191016', '20191021', '20191026', '20191031']\n"
     ]
    }
   ],
   "source": [
    "import datetime\n",
    "begin = datetime.date(2019, 10, 1)\n",
    "end = datetime.date(2019, 10, 21)\n",
    "\n",
    "intervals = 6\n",
    "\n",
    "date_list = []\n",
    "\n",
    "delta = (end - begin)/4\n",
    "for i in range(1, intervals + 1):\n",
    "    date_list.append((begin+i*delta).strftime('%Y%m%d'))\n",
    "    \n",
    "print(date_list)"
   ]
  },
  {
   "cell_type": "code",
   "execution_count": 50,
   "metadata": {
    "ExecuteTime": {
     "end_time": "2019-09-20T01:29:17.948000Z",
     "start_time": "2019-09-20T01:29:17.938000Z"
    }
   },
   "outputs": [
    {
     "name": "stdout",
     "output_type": "stream",
     "text": [
      "['20191121', '20191126', '20191202', '20191208']\n"
     ]
    }
   ],
   "source": [
    "def date_range(start, end, intv):\n",
    "    from datetime import datetime\n",
    "    start = datetime.strptime(start,\"%Y%m%d\")\n",
    "    end = datetime.strptime(end,\"%Y%m%d\")\n",
    "    diff = (end  - start ) / intv\n",
    "    for i in range(intv):\n",
    "        yield (start + diff * i).strftime(\"%Y%m%d\")\n",
    "    yield end.strftime(\"%Y%m%d\")\n",
    "    \n",
    "begin = '20191121'\n",
    "end = '20191208'\n",
    "print(list(date_range(begin, end, 3)))"
   ]
  },
  {
   "cell_type": "markdown",
   "metadata": {},
   "source": [
    "#### DateTimeRange 时间库\n",
    "\n",
    "[DateTimeRange 0.6.1](https://pypi.org/project/DateTimeRange/)\n",
    "\n",
    "    pip install DateTimeRange"
   ]
  },
  {
   "cell_type": "code",
   "execution_count": 51,
   "metadata": {
    "ExecuteTime": {
     "end_time": "2019-09-20T01:33:20.143000Z",
     "start_time": "2019-09-20T01:33:20.091000Z"
    }
   },
   "outputs": [
    {
     "name": "stdout",
     "output_type": "stream",
     "text": [
      "2015-03-22T10:00:00+0900 - 2015-03-22T10:10:00+0900\n"
     ]
    }
   ],
   "source": [
    "from datetimerange import DateTimeRange\n",
    "time_range = DateTimeRange(\"2015-03-22T10:00:00+0900\", \"2015-03-22T10:10:00+0900\")\n",
    "print(str(time_range))"
   ]
  },
  {
   "cell_type": "markdown",
   "metadata": {},
   "source": [
    "##### 按天间隔"
   ]
  },
  {
   "cell_type": "code",
   "execution_count": 52,
   "metadata": {
    "ExecuteTime": {
     "end_time": "2019-09-20T01:33:38.846000Z",
     "start_time": "2019-09-20T01:33:38.839000Z"
    }
   },
   "outputs": [
    {
     "name": "stdout",
     "output_type": "stream",
     "text": [
      "2015-01-01 00:00:00+09:00\n",
      "2015-01-02 00:00:00+09:00\n",
      "2015-01-03 00:00:00+09:00\n",
      "2015-01-04 00:00:00+09:00\n"
     ]
    }
   ],
   "source": [
    "import datetime\n",
    "from datetimerange import DateTimeRange\n",
    "\n",
    "time_range = DateTimeRange(\"2015-01-01T00:00:00+0900\", \"2015-01-04T00:00:00+0900\")\n",
    "for value in time_range.range(datetime.timedelta(days=1)):\n",
    "    print(value)"
   ]
  },
  {
   "cell_type": "markdown",
   "metadata": {},
   "source": [
    "##### 按月间隔"
   ]
  },
  {
   "cell_type": "code",
   "execution_count": 53,
   "metadata": {
    "ExecuteTime": {
     "end_time": "2019-09-20T01:33:58.112000Z",
     "start_time": "2019-09-20T01:33:58.100000Z"
    }
   },
   "outputs": [
    {
     "name": "stdout",
     "output_type": "stream",
     "text": [
      "2015-01-01 00:00:00+09:00\n",
      "2015-05-01 00:00:00+09:00\n",
      "2015-09-01 00:00:00+09:00\n",
      "2016-01-01 00:00:00+09:00\n"
     ]
    }
   ],
   "source": [
    "from datetimerange import DateTimeRange\n",
    "from dateutil.relativedelta import relativedelta\n",
    "\n",
    "time_range = DateTimeRange(\"2015-01-01T00:00:00+0900\", \"2016-01-01T00:00:00+0900\")\n",
    "for value in time_range.range(relativedelta(months=+4)):\n",
    "    print(value)"
   ]
  },
  {
   "cell_type": "markdown",
   "metadata": {},
   "source": [
    "##### 测试当前时间是否在区间内\n",
    "\n",
    "[Test whether a value within the time range](https://pypi.org/project/DateTimeRange/#datetimerange)"
   ]
  },
  {
   "cell_type": "code",
   "execution_count": 54,
   "metadata": {
    "ExecuteTime": {
     "end_time": "2019-09-20T01:35:22Z",
     "start_time": "2019-09-20T01:35:21.989000Z"
    }
   },
   "outputs": [
    {
     "name": "stdout",
     "output_type": "stream",
     "text": [
      "True\n",
      "False\n",
      "True\n"
     ]
    }
   ],
   "source": [
    "from datetimerange import DateTimeRange\n",
    "\n",
    "time_range = DateTimeRange(\"2015-03-22T10:00:00+0900\", \"2015-03-22T10:10:00+0900\")\n",
    "print(\"2015-03-22T10:05:00+0900\" in time_range)\n",
    "print(\"2015-03-22T10:15:00+0900\" in time_range)\n",
    "\n",
    "time_range_smaller = DateTimeRange(\"2015-03-22T10:03:00+0900\", \"2015-03-22T10:07:00+0900\")\n",
    "print(time_range_smaller in time_range)"
   ]
  },
  {
   "cell_type": "markdown",
   "metadata": {},
   "source": [
    "##### 判断两个时间段是否重叠\n",
    "\n",
    "[Test whether a value intersect the time range](https://pypi.org/project/DateTimeRange/#datetimerange)"
   ]
  },
  {
   "cell_type": "code",
   "execution_count": 55,
   "metadata": {
    "ExecuteTime": {
     "end_time": "2019-09-20T01:37:00.243000Z",
     "start_time": "2019-09-20T01:37:00.233000Z"
    }
   },
   "outputs": [
    {
     "name": "stdout",
     "output_type": "stream",
     "text": [
      "True\n"
     ]
    }
   ],
   "source": [
    "from datetimerange import DateTimeRange\n",
    "time_range = DateTimeRange(\"2015-03-22T10:00:00+0900\",\n",
    "                           \"2015-03-22T10:10:00+0900\")\n",
    "x = DateTimeRange(\"2015-03-22T10:05:00+0900\", \"2015-03-22T10:15:00+0900\")\n",
    "print(time_range.is_intersection(x))"
   ]
  },
  {
   "cell_type": "markdown",
   "metadata": {},
   "source": [
    "##### 确定交叉的时间范围\n",
    "\n",
    "[Make an intersected time range](https://pypi.org/project/DateTimeRange/#datetimerange)"
   ]
  },
  {
   "cell_type": "code",
   "execution_count": 56,
   "metadata": {
    "ExecuteTime": {
     "end_time": "2019-09-20T01:37:49.567000Z",
     "start_time": "2019-09-20T01:37:49.561000Z"
    }
   },
   "outputs": [
    {
     "name": "stdout",
     "output_type": "stream",
     "text": [
      "2015-03-22T10:05:00+0900 - 2015-03-22T10:10:00+0900\n"
     ]
    }
   ],
   "source": [
    "from datetimerange import DateTimeRange\n",
    "time_range = DateTimeRange(\"2015-03-22T10:00:00+0900\", \"2015-03-22T10:10:00+0900\")\n",
    "x = DateTimeRange(\"2015-03-22T10:05:00+0900\", \"2015-03-22T10:15:00+0900\")\n",
    "print(time_range.intersection(x))"
   ]
  },
  {
   "cell_type": "markdown",
   "metadata": {},
   "source": [
    "##### 确定两个时间区间的最大时间范围\n",
    "\n",
    "[Make an encompassed time range](https://pypi.org/project/DateTimeRange/#datetimerange)"
   ]
  },
  {
   "cell_type": "code",
   "execution_count": 57,
   "metadata": {
    "ExecuteTime": {
     "end_time": "2019-09-20T01:40:14.400000Z",
     "start_time": "2019-09-20T01:40:14.394000Z"
    }
   },
   "outputs": [
    {
     "name": "stdout",
     "output_type": "stream",
     "text": [
      "2015-03-22T10:00:00+0900 - 2015-03-22T10:15:00+0900\n"
     ]
    }
   ],
   "source": [
    "from datetimerange import DateTimeRange\n",
    "time_range = DateTimeRange(\"2015-03-22T10:00:00+0900\", \"2015-03-22T10:10:00+0900\")\n",
    "x = DateTimeRange(\"2015-03-22T10:05:00+0900\", \"2015-03-22T10:15:00+0900\")\n",
    "print(time_range.encompass(x))"
   ]
  },
  {
   "cell_type": "markdown",
   "metadata": {},
   "source": [
    "##### 截断时间范围\n",
    "\n",
    "[Truncate time range](https://pypi.org/project/DateTimeRange/#datetimerange)"
   ]
  },
  {
   "cell_type": "code",
   "execution_count": 58,
   "metadata": {
    "ExecuteTime": {
     "end_time": "2019-09-20T01:41:29.973000Z",
     "start_time": "2019-09-20T01:41:29.966000Z"
    }
   },
   "outputs": [
    {
     "name": "stdout",
     "output_type": "stream",
     "text": [
      "before truncate:  2015-03-22T10:00:00+0900 - 2015-03-22T10:10:00+0900 (0:10:00)\n",
      "after truncate:   2015-03-22T10:00:30+0900 - 2015-03-22T10:09:30+0900 (0:09:00)\n"
     ]
    }
   ],
   "source": [
    "from datetimerange import DateTimeRange\n",
    "\n",
    "time_range = DateTimeRange(\"2015-03-22T10:00:00+0900\", \"2015-03-22T10:10:00+0900\")\n",
    "time_range.is_output_elapse = True\n",
    "print(\"before truncate: \", time_range)\n",
    "\n",
    "time_range.truncate(10)\n",
    "print(\"after truncate:  \", time_range)"
   ]
  },
  {
   "cell_type": "markdown",
   "metadata": {},
   "source": [
    "#### Python 随机取一个时间段里面的时间\n",
    "\n",
    "https://segmentfault.com/q/1010000006617581\n",
    "\n",
    "如规定时间10:00:00~18:00:00 我想随机取里面的时间里面"
   ]
  },
  {
   "cell_type": "markdown",
   "metadata": {
    "ExecuteTime": {
     "end_time": "2019-09-20T01:49:34.001000Z",
     "start_time": "2019-09-20T01:49:33.997000Z"
    }
   },
   "source": [
    "把这个时间段转换成总共的秒数。\n",
    "\n",
    "定一个用秒数表示的start_time和end_time；\n",
    "\n",
    "random（start_time，end_time）；\n",
    "\n",
    "然后转换成时间"
   ]
  },
  {
   "cell_type": "markdown",
   "metadata": {},
   "source": [
    "    base_time + timedelta(seconds=randint(start, end))"
   ]
  },
  {
   "cell_type": "code",
   "execution_count": 60,
   "metadata": {
    "ExecuteTime": {
     "end_time": "2019-09-20T01:50:16.402000Z",
     "start_time": "2019-09-20T01:50:16.389000Z"
    }
   },
   "outputs": [
    {
     "name": "stdout",
     "output_type": "stream",
     "text": [
      "2019-08-17 10:13:14\n"
     ]
    }
   ],
   "source": [
    "import datetime \n",
    "import random\n",
    "\n",
    "def random_datetime(start_datetime, end_datetime):\n",
    "    delta = end_datetime - start_datetime\n",
    "    inc = random.randrange(delta.total_seconds())\n",
    "    return start_datetime + datetime.timedelta(seconds=inc)\n",
    "\n",
    "if __name__=='__main__':\n",
    "    start_datetime = datetime.datetime(2019, 8, 17, 10, 0, 0)\n",
    "    end_datetime = datetime.datetime(2019, 8, 17, 18, 0, 0)\n",
    "    dt = random_datetime(start_datetime, end_datetime)\n",
    "    print(dt)"
   ]
  },
  {
   "cell_type": "markdown",
   "metadata": {},
   "source": [
    "#### [python 判断当前时间是否为零点](https://blog.csdn.net/weixin_38383877/article/details/81839428)"
   ]
  },
  {
   "cell_type": "code",
   "execution_count": 62,
   "metadata": {
    "ExecuteTime": {
     "end_time": "2019-09-20T01:54:17.258000Z",
     "start_time": "2019-09-20T01:54:17.247000Z"
    }
   },
   "outputs": [
    {
     "name": "stdout",
     "output_type": "stream",
     "text": [
      "09:54:17\n",
      "不是零点\n"
     ]
    }
   ],
   "source": [
    "import time\n",
    "time_now = int(time.time()) #unix时间\n",
    "time_local = time.localtime(time_now) #转换为win_time\n",
    "dt = time.strftime(\"%H:%M:%S\", time_local)# 转换成新的时间格式(18:59:20)\n",
    "print(dt)\n",
    "\n",
    "a=dt.split(':')\n",
    "b=[]\n",
    "for a in dt.split(':'):\n",
    "    b.append(a)\n",
    "c=''.join(b)\n",
    "if c=='000000':\n",
    "    print('是零点')\n",
    "else:\n",
    "    print('不是零点')"
   ]
  },
  {
   "cell_type": "markdown",
   "metadata": {},
   "source": [
    "#### 知道2个时间点 2016-02-23 和 2016-05-23 ，如何获取这2个时间之间对应的周数的列表"
   ]
  },
  {
   "cell_type": "code",
   "execution_count": 68,
   "metadata": {
    "ExecuteTime": {
     "end_time": "2019-09-20T02:06:58.823000Z",
     "start_time": "2019-09-20T02:06:58.789000Z"
    }
   },
   "outputs": [
    {
     "name": "stdout",
     "output_type": "stream",
     "text": [
      "Delata Time: 35 days, 0:00:00 Weeks: 5.0\n",
      "('S', '2019-08-24')\n",
      "('U', '2019-08-25'),('M', '2019-08-26'),('T', '2019-08-27'),('W', '2019-08-28'),('R', '2019-08-29'),('F', '2019-08-30'),('S', '2019-08-31')\n",
      "('U', '2019-09-01'),('M', '2019-09-02'),('T', '2019-09-03'),('W', '2019-09-04'),('R', '2019-09-05'),('F', '2019-09-06'),('S', '2019-09-07')\n",
      "('U', '2019-09-08'),('M', '2019-09-09'),('T', '2019-09-10'),('W', '2019-09-11'),('R', '2019-09-12'),('F', '2019-09-13'),('S', '2019-09-14')\n",
      "('U', '2019-09-15'),('M', '2019-09-16'),('T', '2019-09-17'),('W', '2019-09-18'),('R', '2019-09-19'),('F', '2019-09-20'),('S', '2019-09-21')\n",
      "('U', '2019-09-22'),('M', '2019-09-23'),('T', '2019-09-24'),('W', '2019-09-25'),('R', '2019-09-26'),('F', '2019-09-27'),('S', '2019-09-28')\n"
     ]
    }
   ],
   "source": [
    "from datetime import datetime,timedelta\n",
    "\n",
    "d1 = \"2019-08-24\"\n",
    "d2 = \"2019-09-28\"\n",
    "\n",
    "date1=datetime.strptime(d1,\"%Y-%m-%d\")\n",
    "date2=datetime.strptime(d2,\"%Y-%m-%d\")\n",
    "delta = date2 - date1\n",
    "\n",
    "per_day_seconds = 24*60*60\n",
    "per_week_seconds = 7*per_day_seconds\n",
    "total_seconds = delta.total_seconds()\n",
    "weeks = total_seconds//per_week_seconds\n",
    "days = total_seconds//per_day_seconds\n",
    "if weeks*per_week_seconds < total_seconds:    weeks += 1\n",
    "\n",
    "print(\"Delata Time:\",delta,\"Weeks:\",weeks)\n",
    "\n",
    "oneday = timedelta(days=1)\n",
    "WEEK=[\"M\",\"T\",\"W\",\"R\",\"F\",\"S\",\"U\"]\n",
    "\n",
    "d0=date1\n",
    "weekdays = [d0,]\n",
    "for i in range(int(days)):\n",
    "    d0 += oneday\n",
    "    if d0.weekday() == 6 :     # For Sunday\n",
    "        print(\",\".join([str((WEEK[d.weekday()],d.strftime(\"%Y-%m-%d\"))) for d in weekdays]))\n",
    "        weekdays = []\n",
    "    weekdays.append(d0)\n",
    "\n",
    "print(\",\".join([str((WEEK[d.weekday()],d.strftime(\"%Y-%m-%d\"))) for d in weekdays]))"
   ]
  },
  {
   "cell_type": "markdown",
   "metadata": {},
   "source": [
    "#### 以分钟划分一天24获得时间列表"
   ]
  },
  {
   "cell_type": "markdown",
   "metadata": {},
   "source": [
    "##### 直接列写字符串的方式"
   ]
  },
  {
   "cell_type": "code",
   "execution_count": 71,
   "metadata": {
    "ExecuteTime": {
     "end_time": "2019-09-20T02:15:10.655000Z",
     "start_time": "2019-09-20T02:15:10.649000Z"
    }
   },
   "outputs": [
    {
     "name": "stdout",
     "output_type": "stream",
     "text": [
      "['00', '01', '02', '03', '04', '05', '06', '07', '08', '09', '10', '11', '12', '13', '14', '15', '16', '17', '18', '19', '20', '21', '22', '23']\n"
     ]
    }
   ],
   "source": [
    "hourList = ['00', '01', '02', '03', '04', '05', '06', '07', '08', '09', '10', '11', '12', '13', '14', '15',  '16', '17', '18', '19', '20', '21', '22', '23']  \n",
    "print(hourList)\n",
    "\n",
    "# for hour in hourList:  \n",
    "#      print(hour)"
   ]
  },
  {
   "cell_type": "markdown",
   "metadata": {
    "ExecuteTime": {
     "end_time": "2019-09-20T02:15:31.282000Z",
     "start_time": "2019-09-20T02:15:31.273000Z"
    }
   },
   "source": [
    "##### 通过字符格式化及range的方式5"
   ]
  },
  {
   "cell_type": "code",
   "execution_count": 73,
   "metadata": {
    "ExecuteTime": {
     "end_time": "2019-09-20T02:16:23.339000Z",
     "start_time": "2019-09-20T02:16:23.326000Z"
    }
   },
   "outputs": [
    {
     "name": "stdout",
     "output_type": "stream",
     "text": [
      "['00', '01', '02', '03', '04', '05', '06', '07', '08', '09', '10', '11', '12', '13', '14', '15', '16', '17', '18', '19', '20', '21', '22', '23']\n"
     ]
    }
   ],
   "source": [
    "hour_list = ['{num:02d}'.format(num=i) for i in range(24)]\n",
    "print(hour_list)\n",
    "\n",
    "# for hour in hour_list:  \n",
    "#      print(hour)"
   ]
  },
  {
   "cell_type": "markdown",
   "metadata": {},
   "source": [
    "##### 获取分钟间隔列表"
   ]
  },
  {
   "cell_type": "code",
   "execution_count": 77,
   "metadata": {
    "ExecuteTime": {
     "end_time": "2019-09-20T02:17:32.455000Z",
     "start_time": "2019-09-20T02:17:32.449000Z"
    }
   },
   "outputs": [
    {
     "name": "stdout",
     "output_type": "stream",
     "text": [
      "['00:00', '00:01', '00:02', '00:03', '00:04', '00:05', '00:06', '00:07', '00:08', '00:09', '00:10', '00:11', '00:12', '00:13', '00:14', '00:15', '00:16', '00:17', '00:18', '00:19', '00:20', '00:21', '00:22', '00:23', '00:24', '00:25', '00:26', '00:27', '00:28', '00:29', '00:30', '00:31', '00:32', '00:33', '00:34', '00:35', '00:36', '00:37', '00:38', '00:39', '00:40', '00:41', '00:42', '00:43', '00:44', '00:45', '00:46', '00:47', '00:48', '00:49', '00:50', '00:51', '00:52', '00:53', '00:54', '00:55', '00:56', '00:57', '00:58', '00:59', '01:00', '01:01', '01:02', '01:03', '01:04', '01:05', '01:06', '01:07', '01:08', '01:09', '01:10', '01:11', '01:12', '01:13', '01:14', '01:15', '01:16', '01:17', '01:18', '01:19', '01:20', '01:21', '01:22', '01:23', '01:24', '01:25', '01:26', '01:27', '01:28', '01:29', '01:30', '01:31', '01:32', '01:33', '01:34', '01:35', '01:36', '01:37', '01:38', '01:39', '01:40', '01:41', '01:42', '01:43', '01:44', '01:45', '01:46', '01:47', '01:48', '01:49', '01:50', '01:51', '01:52', '01:53', '01:54', '01:55', '01:56', '01:57', '01:58', '01:59']\n"
     ]
    }
   ],
   "source": [
    "# hour_list = ['{h:02d}:{m:02d}'.format(h=h, m=m) for h in range(24) for m in range(60)]\n",
    "hour_list = ['{h:02d}:{m:02d}'.format(h=h, m=m) for h in range(2) for m in range(60)]\n",
    "print(hour_list)\n",
    "\n",
    "# for hour in hour_list:  \n",
    "#      print(hour)"
   ]
  },
  {
   "cell_type": "code",
   "execution_count": 90,
   "metadata": {
    "ExecuteTime": {
     "end_time": "2019-09-20T02:34:57.496000Z",
     "start_time": "2019-09-20T02:34:57.491000Z"
    }
   },
   "outputs": [
    {
     "name": "stdout",
     "output_type": "stream",
     "text": [
      "13:55:00\n",
      "<class 'datetime.time'>\n"
     ]
    }
   ],
   "source": [
    "time_str = '13:55'\n",
    "time_object = datetime.strptime(time_str, '%H:%M').time()\n",
    "print(time_object)\n",
    "print(type(time_object))"
   ]
  },
  {
   "cell_type": "markdown",
   "metadata": {},
   "source": [
    "#### 字符串转为时间格式"
   ]
  },
  {
   "cell_type": "markdown",
   "metadata": {},
   "source": [
    "##### [Converting Strings using datetime](https://stackabuse.com/converting-strings-to-datetime-in-python/)"
   ]
  },
  {
   "cell_type": "code",
   "execution_count": 78,
   "metadata": {
    "ExecuteTime": {
     "end_time": "2019-09-20T02:21:50.453000Z",
     "start_time": "2019-09-20T02:21:50.445000Z"
    }
   },
   "outputs": [
    {
     "name": "stdout",
     "output_type": "stream",
     "text": [
      "Date: 2018-06-29\n",
      "Time: 08:15:27.243860\n",
      "Date-time: 2018-06-29 08:15:27.243860\n"
     ]
    }
   ],
   "source": [
    "import datetime\n",
    "\n",
    "date_time_str = '2018-06-29 08:15:27.243860'\n",
    "date_time_obj = datetime.datetime.strptime(date_time_str, '%Y-%m-%d %H:%M:%S.%f')\n",
    "\n",
    "print('Date:', date_time_obj.date())\n",
    "print('Time:', date_time_obj.time())\n",
    "print('Date-time:', date_time_obj)"
   ]
  },
  {
   "cell_type": "code",
   "execution_count": 79,
   "metadata": {
    "ExecuteTime": {
     "end_time": "2019-09-20T02:23:15.036000Z",
     "start_time": "2019-09-20T02:23:15.028000Z"
    }
   },
   "outputs": [
    {
     "name": "stdout",
     "output_type": "stream",
     "text": [
      "Date: 2018-06-28\n",
      "Time: 07:40:00\n",
      "Date-time: 2018-06-28 07:40:00\n"
     ]
    }
   ],
   "source": [
    "import datetime\n",
    "\n",
    "date_time_str = 'Jun 28 2018  7:40AM'\n",
    "date_time_obj = datetime.datetime.strptime(date_time_str, '%b %d %Y %I:%M%p')\n",
    "\n",
    "print('Date:', date_time_obj.date())\n",
    "print('Time:', date_time_obj.time())\n",
    "print('Date-time:', date_time_obj)"
   ]
  },
  {
   "cell_type": "markdown",
   "metadata": {},
   "source": [
    "##### [Python string to datetime – strptime()](https://www.journaldev.com/23365/python-string-to-datetime-strptime)"
   ]
  },
  {
   "cell_type": "markdown",
   "metadata": {},
   "source": [
    "    datetime.strptime(date_string, format)\n",
    "\n",
    "    time.strptime(time_string[, format])"
   ]
  },
  {
   "cell_type": "markdown",
   "metadata": {},
   "source": [
    "###### 字符串转时间"
   ]
  },
  {
   "cell_type": "code",
   "execution_count": 80,
   "metadata": {
    "ExecuteTime": {
     "end_time": "2019-09-20T02:26:04.427000Z",
     "start_time": "2019-09-20T02:26:04.420000Z"
    }
   },
   "outputs": [
    {
     "name": "stdout",
     "output_type": "stream",
     "text": [
      "<class 'datetime.datetime'>\n",
      "2018-09-19 13:55:26\n"
     ]
    }
   ],
   "source": [
    "\n",
    "from datetime import datetime\n",
    "\n",
    "datetime_str = '09/19/18 13:55:26'\n",
    "\n",
    "datetime_object = datetime.strptime(datetime_str, '%m/%d/%y %H:%M:%S')\n",
    "\n",
    "print(type(datetime_object))\n",
    "print(datetime_object)  # printed in default format"
   ]
  },
  {
   "cell_type": "markdown",
   "metadata": {},
   "source": [
    "###### 字符串转日期对象"
   ]
  },
  {
   "cell_type": "code",
   "execution_count": 82,
   "metadata": {
    "ExecuteTime": {
     "end_time": "2019-09-20T02:27:52.359000Z",
     "start_time": "2019-09-20T02:27:52.353000Z"
    }
   },
   "outputs": [
    {
     "name": "stdout",
     "output_type": "stream",
     "text": [
      "<class 'datetime.date'>\n",
      "2018-09-19\n"
     ]
    }
   ],
   "source": [
    "date_str = '09-19-2018'\n",
    "date_object = datetime.strptime(date_str, '%m-%d-%Y').date()\n",
    "print(type(date_object))\n",
    "print(date_object)  # printed in default formatting"
   ]
  },
  {
   "cell_type": "code",
   "execution_count": 91,
   "metadata": {
    "ExecuteTime": {
     "end_time": "2019-09-20T02:38:33.427000Z",
     "start_time": "2019-09-20T02:38:33.420000Z"
    }
   },
   "outputs": [
    {
     "name": "stdout",
     "output_type": "stream",
     "text": [
      "<class 'datetime.date'>\n",
      "2018-09-19\n"
     ]
    }
   ],
   "source": [
    "date_str = '09/19/2018'\n",
    "date_object = datetime.strptime(date_str, '%m/%d/%Y').date()\n",
    "print(type(date_object))\n",
    "print(date_object)  # printed in default formatting"
   ]
  },
  {
   "cell_type": "markdown",
   "metadata": {},
   "source": [
    "###### 字符串转时间对象"
   ]
  },
  {
   "cell_type": "code",
   "execution_count": 83,
   "metadata": {
    "ExecuteTime": {
     "end_time": "2019-09-20T02:28:27.189000Z",
     "start_time": "2019-09-20T02:28:27.183000Z"
    }
   },
   "outputs": [
    {
     "name": "stdout",
     "output_type": "stream",
     "text": [
      "<class 'datetime.time'>\n",
      "13:55:26\n"
     ]
    }
   ],
   "source": [
    "time_str = '13::55::26'\n",
    "time_object = datetime.strptime(time_str, '%H::%M::%S').time()\n",
    "print(type(time_object))\n",
    "print(time_object)"
   ]
  },
  {
   "cell_type": "code",
   "execution_count": 89,
   "metadata": {
    "ExecuteTime": {
     "end_time": "2019-09-20T02:34:19.521000Z",
     "start_time": "2019-09-20T02:34:19.516000Z"
    }
   },
   "outputs": [
    {
     "name": "stdout",
     "output_type": "stream",
     "text": [
      "13:55:00\n"
     ]
    }
   ],
   "source": [
    "time_str = '13:55'\n",
    "time_object = datetime.strptime(time_str, '%H:%M').time()\n",
    "print(time_object)"
   ]
  },
  {
   "cell_type": "code",
   "execution_count": 84,
   "metadata": {
    "ExecuteTime": {
     "end_time": "2019-09-20T02:28:50.219000Z",
     "start_time": "2019-09-20T02:28:50.211000Z"
    }
   },
   "outputs": [
    {
     "name": "stdout",
     "output_type": "stream",
     "text": [
      "<class 'time.struct_time'>\n",
      "time.struct_time(tm_year=1900, tm_mon=1, tm_mday=1, tm_hour=13, tm_min=55, tm_sec=26, tm_wday=0, tm_yday=1, tm_isdst=-1)\n",
      "time.struct_time(tm_year=2018, tm_mon=9, tm_mday=19, tm_hour=14, tm_min=55, tm_sec=2, tm_wday=2, tm_yday=262, tm_isdst=-1)\n"
     ]
    }
   ],
   "source": [
    "import time\n",
    "\n",
    "time_obj = time.strptime(time_str, '%H::%M::%S')\n",
    "print(type(time_obj))\n",
    "print(time_obj)\n",
    "\n",
    "# default formatting - \"%a %b %d %H:%M:%S %Y\"\n",
    "print(time.strptime('Wed Sep 19 14:55:02 2018'))"
   ]
  },
  {
   "cell_type": "markdown",
   "metadata": {},
   "source": [
    "###### 错误用法示例"
   ]
  },
  {
   "cell_type": "code",
   "execution_count": 85,
   "metadata": {
    "ExecuteTime": {
     "end_time": "2019-09-20T02:29:57.233000Z",
     "start_time": "2019-09-20T02:29:57.224000Z"
    }
   },
   "outputs": [
    {
     "name": "stdout",
     "output_type": "stream",
     "text": [
      "ValueError Raised: unconverted data remains:  13:55:26\n",
      "ValueError: time data '99::55::26' does not match format '%H::%M::%S'\n"
     ]
    }
   ],
   "source": [
    "datetime_str = '09/19/18 13:55:26'\n",
    "\n",
    "try:\n",
    "    datetime_object = datetime.strptime(datetime_str, '%m/%d/%y')\n",
    "except ValueError as ve:\n",
    "    print('ValueError Raised:', ve)\n",
    "\n",
    "time_str = '99::55::26'\n",
    "\n",
    "try:\n",
    "    time_object = time.strptime(time_str, '%H::%M::%S')\n",
    "except ValueError as e:\n",
    "    print('ValueError:', e)"
   ]
  },
  {
   "cell_type": "code",
   "execution_count": null,
   "metadata": {
    "collapsed": true
   },
   "outputs": [],
   "source": []
  },
  {
   "cell_type": "code",
   "execution_count": null,
   "metadata": {
    "collapsed": true
   },
   "outputs": [],
   "source": []
  }
 ],
 "metadata": {
  "kernelspec": {
   "display_name": "Python 3",
   "language": "python",
   "name": "python3"
  },
  "language_info": {
   "codemirror_mode": {
    "name": "ipython",
    "version": 3
   },
   "file_extension": ".py",
   "mimetype": "text/x-python",
   "name": "python",
   "nbconvert_exporter": "python",
   "pygments_lexer": "ipython3",
   "version": "3.6.2"
  },
  "toc": {
   "base_numbering": 1,
   "nav_menu": {},
   "number_sections": true,
   "sideBar": true,
   "skip_h1_title": false,
   "title_cell": "Table of Contents",
   "title_sidebar": "Contents",
   "toc_cell": false,
   "toc_position": {
    "height": "calc(100% - 180px)",
    "left": "10px",
    "top": "150px",
    "width": "321px"
   },
   "toc_section_display": true,
   "toc_window_display": true
  },
  "varInspector": {
   "cols": {
    "lenName": 16,
    "lenType": 16,
    "lenVar": 40
   },
   "kernels_config": {
    "python": {
     "delete_cmd_postfix": "",
     "delete_cmd_prefix": "del ",
     "library": "var_list.py",
     "varRefreshCmd": "print(var_dic_list())"
    },
    "r": {
     "delete_cmd_postfix": ") ",
     "delete_cmd_prefix": "rm(",
     "library": "var_list.r",
     "varRefreshCmd": "cat(var_dic_list()) "
    }
   },
   "types_to_exclude": [
    "module",
    "function",
    "builtin_function_or_method",
    "instance",
    "_Feature"
   ],
   "window_display": false
  }
 },
 "nbformat": 4,
 "nbformat_minor": 2
}
