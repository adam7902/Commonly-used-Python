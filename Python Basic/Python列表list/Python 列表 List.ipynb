{
 "cells": [
  {
   "cell_type": "markdown",
   "metadata": {},
   "source": [
    "List 列表\n",
    "\n",
    "[Lists and Tuples in Python](https://realpython.com/python-lists-tuples/)"
   ]
  },
  {
   "cell_type": "markdown",
   "metadata": {},
   "source": [
    "![](http://res.cloudinary.com/dyd911kmh/image/upload/f_auto,q_auto:best/v1509466403/List-Comprehension_oajxiz.png)"
   ]
  },
  {
   "cell_type": "code",
   "execution_count": 93,
   "metadata": {
    "ExecuteTime": {
     "end_time": "2019-09-10T04:36:32.033000Z",
     "start_time": "2019-09-10T04:36:32.019000Z"
    }
   },
   "outputs": [
    {
     "name": "stdout",
     "output_type": "stream",
     "text": [
      "<class 'list'>\n",
      "['foo', 'bar', 'baz', 'qux', 'quux', 'corge']\n"
     ]
    }
   ],
   "source": [
    "a = ['foo', 'bar', 'baz', 'qux', 'quux', 'corge']\n",
    "print(type(a))\n",
    "print(a)"
   ]
  },
  {
   "cell_type": "markdown",
   "metadata": {},
   "source": [
    "![](https://files.realpython.com/media/t.eb0b38e642c5.png)\n",
    "\n",
    "![](https://files.realpython.com/media/t.c11ea56e8ca2.png)"
   ]
  },
  {
   "cell_type": "code",
   "execution_count": 138,
   "metadata": {
    "ExecuteTime": {
     "end_time": "2019-09-10T06:45:45.855000Z",
     "start_time": "2019-09-10T06:45:45.843000Z"
    }
   },
   "outputs": [
    {
     "name": "stdout",
     "output_type": "stream",
     "text": [
      "[]\n",
      "[]\n",
      "['bee', 'moth', 'ant']\n",
      "[['bee', 'moth'], ['ant']]\n",
      "['b', 'e', 'e']\n",
      "['I', 'am', 'a', 'tuple']\n",
      "['I', 'set', 'am', 'a']\n"
     ]
    }
   ],
   "source": [
    "print(list())\n",
    "print(list([]))\n",
    "print(list([\"bee\", \"moth\", \"ant\"]))\n",
    "print(list([[\"bee\", \"moth\"], [\"ant\"]]))\n",
    "\n",
    "a = \"bee\"\n",
    "print(list(a))\n",
    "\n",
    "a = (\"I\", \"am\", \"a\", \"tuple\")\n",
    "print(list(a))\n",
    "\n",
    "a = {\"I\", \"am\", \"a\", \"set\"}\n",
    "print(list(a))"
   ]
  },
  {
   "cell_type": "markdown",
   "metadata": {},
   "source": [
    "#### range()\n",
    "\n",
    "    range(stop)\n",
    "    range(start, stop[, step])"
   ]
  },
  {
   "cell_type": "code",
   "execution_count": 137,
   "metadata": {
    "ExecuteTime": {
     "end_time": "2019-09-10T06:33:33.627000Z",
     "start_time": "2019-09-10T06:33:33.619000Z"
    }
   },
   "outputs": [
    {
     "name": "stdout",
     "output_type": "stream",
     "text": [
      "[0, 1, 2, 3, 4, 5, 6, 7, 8, 9]\n",
      "[1, 2, 3, 4, 5, 6, 7, 8, 9, 10]\n",
      "[51, 52, 53, 54, 55]\n",
      "[1, 3, 5, 7, 9]\n"
     ]
    }
   ],
   "source": [
    "print(list(range(10)))\n",
    "print(list(range(1,11)))\n",
    "print(list(range(51,56)))\n",
    "print(list(range(1,11,2)))"
   ]
  },
  {
   "cell_type": "markdown",
   "metadata": {},
   "source": [
    "#### 切片取值"
   ]
  },
  {
   "cell_type": "code",
   "execution_count": 2,
   "metadata": {
    "ExecuteTime": {
     "end_time": "2019-09-10T02:38:46.874000Z",
     "start_time": "2019-09-10T02:38:46.869000Z"
    }
   },
   "outputs": [
    {
     "name": "stdout",
     "output_type": "stream",
     "text": [
      "baz\n",
      "corge\n"
     ]
    }
   ],
   "source": [
    "print(a[2])  # 输出索引位置为2，5的值\n",
    "print(a[5])"
   ]
  },
  {
   "cell_type": "code",
   "execution_count": 3,
   "metadata": {
    "ExecuteTime": {
     "end_time": "2019-09-10T02:39:08.318000Z",
     "start_time": "2019-09-10T02:39:08.313000Z"
    }
   },
   "outputs": [
    {
     "name": "stdout",
     "output_type": "stream",
     "text": [
      "quux\n",
      "bar\n"
     ]
    }
   ],
   "source": [
    "print(a[-2])  # 输出倒数第2第5个值\n",
    "print(a[-5])"
   ]
  },
  {
   "cell_type": "code",
   "execution_count": 4,
   "metadata": {
    "ExecuteTime": {
     "end_time": "2019-09-10T02:39:23.967000Z",
     "start_time": "2019-09-10T02:39:23.957000Z"
    }
   },
   "outputs": [
    {
     "name": "stdout",
     "output_type": "stream",
     "text": [
      "['baz', 'qux', 'quux']\n"
     ]
    }
   ],
   "source": [
    "print(a[2:5])  # 输出索引位置为2-5之间的值"
   ]
  },
  {
   "cell_type": "code",
   "execution_count": 5,
   "metadata": {
    "ExecuteTime": {
     "end_time": "2019-09-10T02:39:44.578000Z",
     "start_time": "2019-09-10T02:39:44.574000Z"
    }
   },
   "outputs": [
    {
     "name": "stdout",
     "output_type": "stream",
     "text": [
      "['quux', 'corge']\n"
     ]
    }
   ],
   "source": [
    "print(a[-2:])  # 输出倒数第二个值之后的元素"
   ]
  },
  {
   "cell_type": "code",
   "execution_count": 6,
   "metadata": {
    "ExecuteTime": {
     "end_time": "2019-09-10T02:42:29.637000Z",
     "start_time": "2019-09-10T02:42:29.628000Z"
    }
   },
   "outputs": [
    {
     "data": {
      "text/plain": [
       "['bar', 'baz', 'qux']"
      ]
     },
     "execution_count": 6,
     "metadata": {},
     "output_type": "execute_result"
    }
   ],
   "source": [
    "a[-5:-2]"
   ]
  },
  {
   "cell_type": "code",
   "execution_count": 7,
   "metadata": {
    "ExecuteTime": {
     "end_time": "2019-09-10T02:42:43.958000Z",
     "start_time": "2019-09-10T02:42:43.952000Z"
    }
   },
   "outputs": [
    {
     "data": {
      "text/plain": [
       "['bar', 'baz', 'qux']"
      ]
     },
     "execution_count": 7,
     "metadata": {},
     "output_type": "execute_result"
    }
   ],
   "source": [
    "a[1:4]"
   ]
  },
  {
   "cell_type": "code",
   "execution_count": 8,
   "metadata": {
    "ExecuteTime": {
     "end_time": "2019-09-10T02:42:56.597000Z",
     "start_time": "2019-09-10T02:42:56.584000Z"
    }
   },
   "outputs": [
    {
     "data": {
      "text/plain": [
       "True"
      ]
     },
     "execution_count": 8,
     "metadata": {},
     "output_type": "execute_result"
    }
   ],
   "source": [
    " a[-5:-2] == a[1:4]"
   ]
  },
  {
   "cell_type": "code",
   "execution_count": 9,
   "metadata": {
    "ExecuteTime": {
     "end_time": "2019-09-10T02:43:20.951000Z",
     "start_time": "2019-09-10T02:43:20.946000Z"
    }
   },
   "outputs": [
    {
     "name": "stdout",
     "output_type": "stream",
     "text": [
      "['foo', 'bar', 'baz', 'qux'] ['foo', 'bar', 'baz', 'qux']\n"
     ]
    }
   ],
   "source": [
    "print(a[:4], a[0:4])  # 等价输出"
   ]
  },
  {
   "cell_type": "code",
   "execution_count": 10,
   "metadata": {
    "ExecuteTime": {
     "end_time": "2019-09-10T02:43:48.677000Z",
     "start_time": "2019-09-10T02:43:48.672000Z"
    }
   },
   "outputs": [
    {
     "name": "stdout",
     "output_type": "stream",
     "text": [
      "['baz', 'qux', 'quux', 'corge'] ['baz', 'qux', 'quux', 'corge']\n"
     ]
    }
   ],
   "source": [
    "print(a[2:], a[2:len(a)])"
   ]
  },
  {
   "cell_type": "code",
   "execution_count": 11,
   "metadata": {
    "ExecuteTime": {
     "end_time": "2019-09-10T02:44:08.587000Z",
     "start_time": "2019-09-10T02:44:08.578000Z"
    }
   },
   "outputs": [
    {
     "data": {
      "text/plain": [
       "['foo', 'bar', 'baz', 'qux', 'quux', 'corge']"
      ]
     },
     "execution_count": 11,
     "metadata": {},
     "output_type": "execute_result"
    }
   ],
   "source": [
    "a[:4] + a[4:]  # 列表元素拼接"
   ]
  },
  {
   "cell_type": "code",
   "execution_count": 12,
   "metadata": {
    "ExecuteTime": {
     "end_time": "2019-09-10T02:44:31.430000Z",
     "start_time": "2019-09-10T02:44:31.413000Z"
    }
   },
   "outputs": [
    {
     "data": {
      "text/plain": [
       "True"
      ]
     },
     "execution_count": 12,
     "metadata": {},
     "output_type": "execute_result"
    }
   ],
   "source": [
    "a[:4] + a[4:] == a"
   ]
  },
  {
   "cell_type": "markdown",
   "metadata": {},
   "source": [
    "#### 更改切片步长"
   ]
  },
  {
   "cell_type": "code",
   "execution_count": 13,
   "metadata": {
    "ExecuteTime": {
     "end_time": "2019-09-10T02:45:01.765000Z",
     "start_time": "2019-09-10T02:45:01.759000Z"
    }
   },
   "outputs": [
    {
     "data": {
      "text/plain": [
       "['foo', 'baz', 'quux']"
      ]
     },
     "execution_count": 13,
     "metadata": {},
     "output_type": "execute_result"
    }
   ],
   "source": [
    "a[0:6:2]  # 以2为步长"
   ]
  },
  {
   "cell_type": "code",
   "execution_count": 14,
   "metadata": {
    "ExecuteTime": {
     "end_time": "2019-09-10T02:45:29.630000Z",
     "start_time": "2019-09-10T02:45:29.623000Z"
    }
   },
   "outputs": [
    {
     "data": {
      "text/plain": [
       "['bar', 'qux', 'corge']"
      ]
     },
     "execution_count": 14,
     "metadata": {},
     "output_type": "execute_result"
    }
   ],
   "source": [
    "a[1:6:2]"
   ]
  },
  {
   "cell_type": "code",
   "execution_count": 15,
   "metadata": {
    "ExecuteTime": {
     "end_time": "2019-09-10T02:45:48.572000Z",
     "start_time": "2019-09-10T02:45:48.567000Z"
    }
   },
   "outputs": [
    {
     "data": {
      "text/plain": [
       "['corge', 'qux', 'bar']"
      ]
     },
     "execution_count": 15,
     "metadata": {},
     "output_type": "execute_result"
    }
   ],
   "source": [
    "a[6:0:-2]  # 逆向输出，步长为2"
   ]
  },
  {
   "cell_type": "code",
   "execution_count": 16,
   "metadata": {
    "ExecuteTime": {
     "end_time": "2019-09-10T02:46:19.445000Z",
     "start_time": "2019-09-10T02:46:19.438000Z"
    }
   },
   "outputs": [
    {
     "data": {
      "text/plain": [
       "['corge', 'quux', 'qux', 'baz', 'bar', 'foo']"
      ]
     },
     "execution_count": 16,
     "metadata": {},
     "output_type": "execute_result"
    }
   ],
   "source": [
    "a[::-1]  # 列表反转，逆序输出"
   ]
  },
  {
   "cell_type": "markdown",
   "metadata": {},
   "source": [
    "#### [:]切片引用"
   ]
  },
  {
   "cell_type": "markdown",
   "metadata": {},
   "source": [
    "语法`[:]`适用于列表。但是，这个操作处理列表的方式与处理字符串的方式有一个重要的区别。\n",
    "\n",
    "如果s是字符串，s[:]返回对同一对象的引用:"
   ]
  },
  {
   "cell_type": "markdown",
   "metadata": {},
   "source": [
    "##### [:]对于字符串，完整的切片是的等价的"
   ]
  },
  {
   "cell_type": "code",
   "execution_count": 18,
   "metadata": {
    "ExecuteTime": {
     "end_time": "2019-09-10T02:47:29.274000Z",
     "start_time": "2019-09-10T02:47:29.263000Z"
    }
   },
   "outputs": [
    {
     "data": {
      "text/plain": [
       "'foobar'"
      ]
     },
     "execution_count": 18,
     "metadata": {},
     "output_type": "execute_result"
    }
   ],
   "source": [
    "s = 'foobar'\n",
    "s"
   ]
  },
  {
   "cell_type": "code",
   "execution_count": 19,
   "metadata": {
    "ExecuteTime": {
     "end_time": "2019-09-10T02:47:40.720000Z",
     "start_time": "2019-09-10T02:47:40.713000Z"
    }
   },
   "outputs": [
    {
     "data": {
      "text/plain": [
       "'foobar'"
      ]
     },
     "execution_count": 19,
     "metadata": {},
     "output_type": "execute_result"
    }
   ],
   "source": [
    "s[:]"
   ]
  },
  {
   "cell_type": "code",
   "execution_count": 20,
   "metadata": {
    "ExecuteTime": {
     "end_time": "2019-09-10T02:47:51.247000Z",
     "start_time": "2019-09-10T02:47:51.237000Z"
    }
   },
   "outputs": [
    {
     "data": {
      "text/plain": [
       "True"
      ]
     },
     "execution_count": 20,
     "metadata": {},
     "output_type": "execute_result"
    }
   ],
   "source": [
    "s[:] is s  # 等价"
   ]
  },
  {
   "cell_type": "markdown",
   "metadata": {},
   "source": [
    "##### [:]的列表使用不等价"
   ]
  },
  {
   "cell_type": "code",
   "execution_count": 21,
   "metadata": {
    "ExecuteTime": {
     "end_time": "2019-09-10T02:48:16.032000Z",
     "start_time": "2019-09-10T02:48:16.020000Z"
    }
   },
   "outputs": [
    {
     "data": {
      "text/plain": [
       "['foo', 'bar', 'baz', 'qux', 'quux', 'corge']"
      ]
     },
     "execution_count": 21,
     "metadata": {},
     "output_type": "execute_result"
    }
   ],
   "source": [
    "a = ['foo', 'bar', 'baz', 'qux', 'quux', 'corge']\n",
    "a"
   ]
  },
  {
   "cell_type": "code",
   "execution_count": 22,
   "metadata": {
    "ExecuteTime": {
     "end_time": "2019-09-10T02:48:27.951000Z",
     "start_time": "2019-09-10T02:48:27.946000Z"
    }
   },
   "outputs": [
    {
     "data": {
      "text/plain": [
       "['foo', 'bar', 'baz', 'qux', 'quux', 'corge']"
      ]
     },
     "execution_count": 22,
     "metadata": {},
     "output_type": "execute_result"
    }
   ],
   "source": [
    "a[:]"
   ]
  },
  {
   "cell_type": "code",
   "execution_count": 23,
   "metadata": {
    "ExecuteTime": {
     "end_time": "2019-09-10T02:48:36.424000Z",
     "start_time": "2019-09-10T02:48:36.415000Z"
    }
   },
   "outputs": [
    {
     "data": {
      "text/plain": [
       "False"
      ]
     },
     "execution_count": 23,
     "metadata": {},
     "output_type": "execute_result"
    }
   ],
   "source": [
    "a[:] is a"
   ]
  },
  {
   "cell_type": "markdown",
   "metadata": {},
   "source": [
    "#### 类字符串操作"
   ]
  },
  {
   "cell_type": "markdown",
   "metadata": {},
   "source": [
    "一些Python操作符和内置函数也可以用类似于字符串的方式与列表一起使用:\n",
    "    \n",
    "in和not in操作符:"
   ]
  },
  {
   "cell_type": "code",
   "execution_count": 24,
   "metadata": {
    "ExecuteTime": {
     "end_time": "2019-09-10T02:53:04.520000Z",
     "start_time": "2019-09-10T02:53:04.515000Z"
    }
   },
   "outputs": [
    {
     "data": {
      "text/plain": [
       "['foo', 'bar', 'baz', 'qux', 'quux', 'corge']"
      ]
     },
     "execution_count": 24,
     "metadata": {},
     "output_type": "execute_result"
    }
   ],
   "source": [
    "a"
   ]
  },
  {
   "cell_type": "code",
   "execution_count": 25,
   "metadata": {
    "ExecuteTime": {
     "end_time": "2019-09-10T02:53:10.450000Z",
     "start_time": "2019-09-10T02:53:10.445000Z"
    }
   },
   "outputs": [
    {
     "data": {
      "text/plain": [
       "True"
      ]
     },
     "execution_count": 25,
     "metadata": {},
     "output_type": "execute_result"
    }
   ],
   "source": [
    "'qux' in a"
   ]
  },
  {
   "cell_type": "code",
   "execution_count": 26,
   "metadata": {
    "ExecuteTime": {
     "end_time": "2019-09-10T02:53:18.902000Z",
     "start_time": "2019-09-10T02:53:18.892000Z"
    }
   },
   "outputs": [
    {
     "data": {
      "text/plain": [
       "False"
      ]
     },
     "execution_count": 26,
     "metadata": {},
     "output_type": "execute_result"
    }
   ],
   "source": [
    "'fux' in a"
   ]
  },
  {
   "cell_type": "markdown",
   "metadata": {},
   "source": [
    "#### 连接(+)和复制(*)操作符:"
   ]
  },
  {
   "cell_type": "code",
   "execution_count": 27,
   "metadata": {
    "ExecuteTime": {
     "end_time": "2019-09-10T02:54:30.669000Z",
     "start_time": "2019-09-10T02:54:30.665000Z"
    }
   },
   "outputs": [
    {
     "data": {
      "text/plain": [
       "['foo', 'bar', 'baz', 'qux', 'quux', 'corge']"
      ]
     },
     "execution_count": 27,
     "metadata": {},
     "output_type": "execute_result"
    }
   ],
   "source": [
    "a"
   ]
  },
  {
   "cell_type": "code",
   "execution_count": 28,
   "metadata": {
    "ExecuteTime": {
     "end_time": "2019-09-10T02:54:38.205000Z",
     "start_time": "2019-09-10T02:54:38.201000Z"
    }
   },
   "outputs": [
    {
     "data": {
      "text/plain": [
       "['foo', 'bar', 'baz', 'qux', 'quux', 'corge', 'grault', 'garply']"
      ]
     },
     "execution_count": 28,
     "metadata": {},
     "output_type": "execute_result"
    }
   ],
   "source": [
    "a + ['grault', 'garply']"
   ]
  },
  {
   "cell_type": "code",
   "execution_count": 30,
   "metadata": {
    "ExecuteTime": {
     "end_time": "2019-09-10T02:55:14.080000Z",
     "start_time": "2019-09-10T02:55:14.076000Z"
    }
   },
   "outputs": [
    {
     "name": "stdout",
     "output_type": "stream",
     "text": [
      "['foo', 'bar', 'baz', 'qux', 'quux', 'corge', 'foo', 'bar', 'baz', 'qux', 'quux', 'corge']\n"
     ]
    }
   ],
   "source": [
    "print(a * 2)"
   ]
  },
  {
   "cell_type": "markdown",
   "metadata": {},
   "source": [
    "#### 索引获取"
   ]
  },
  {
   "cell_type": "code",
   "execution_count": 117,
   "metadata": {
    "ExecuteTime": {
     "end_time": "2019-09-10T05:54:13.044000Z",
     "start_time": "2019-09-10T05:54:13.036000Z"
    }
   },
   "outputs": [
    {
     "data": {
      "text/plain": [
       "1"
      ]
     },
     "execution_count": 117,
     "metadata": {},
     "output_type": "execute_result"
    }
   ],
   "source": [
    "list_numbers = [1, 'two', 3, 4, 5, 6, 7, 8, 9, 10]\n",
    "element = 'two'\n",
    "list_numbers.index(element)"
   ]
  },
  {
   "cell_type": "markdown",
   "metadata": {},
   "source": [
    "重复元素的列表索引"
   ]
  },
  {
   "cell_type": "code",
   "execution_count": 118,
   "metadata": {
    "ExecuteTime": {
     "end_time": "2019-09-10T05:55:01.960000Z",
     "start_time": "2019-09-10T05:55:01.955000Z"
    }
   },
   "outputs": [
    {
     "data": {
      "text/plain": [
       "0"
      ]
     },
     "execution_count": 118,
     "metadata": {},
     "output_type": "execute_result"
    }
   ],
   "source": [
    "list_numbers = [3, 1, 2, 3, 3, 4, 5, 6, 3, 7, 8, 9, 10]\n",
    "element = 3\n",
    "list_numbers.index(element)"
   ]
  },
  {
   "cell_type": "markdown",
   "metadata": {},
   "source": [
    "返回的位置是0，因为在Python中，3首先出现在第一个位置或第0个索引中。"
   ]
  },
  {
   "cell_type": "markdown",
   "metadata": {},
   "source": [
    "这是内部发生的事情:index将遍历从第1个位置(第0个索引)开始的所有值，寻找您正在搜索的元素，一旦找到了该值—它将返回位置并退出系统。但是，在处理一个较大的列表时，这不是很有效，您需要在列表末尾获得某个东西的位置。"
   ]
  },
  {
   "cell_type": "markdown",
   "metadata": {},
   "source": [
    "index()为您提供了一个参数选项，以提示搜索值可能位于何处。"
   ]
  },
  {
   "cell_type": "code",
   "execution_count": 119,
   "metadata": {
    "ExecuteTime": {
     "end_time": "2019-09-10T05:57:16.592000Z",
     "start_time": "2019-09-10T05:57:16.586000Z"
    }
   },
   "outputs": [
    {
     "data": {
      "text/plain": [
       "6"
      ]
     },
     "execution_count": 119,
     "metadata": {},
     "output_type": "execute_result"
    }
   ],
   "source": [
    "list_numbers = [1, 2, 3, 4, 5, 6, 7, 8, 9, 10]\n",
    "element = 7\n",
    "list_numbers.index(element, 5, 8)"
   ]
  },
  {
   "cell_type": "markdown",
   "metadata": {},
   "source": [
    "     list_name.index(element, start, stop)."
   ]
  },
  {
   "cell_type": "code",
   "execution_count": 120,
   "metadata": {
    "ExecuteTime": {
     "end_time": "2019-09-10T05:57:54.273000Z",
     "start_time": "2019-09-10T05:57:54.251000Z"
    }
   },
   "outputs": [
    {
     "ename": "ValueError",
     "evalue": "7 is not in list",
     "output_type": "error",
     "traceback": [
      "\u001b[1;31m---------------------------------------------------------------------------\u001b[0m",
      "\u001b[1;31mValueError\u001b[0m                                Traceback (most recent call last)",
      "\u001b[1;32m<ipython-input-120-f99b32601fd5>\u001b[0m in \u001b[0;36m<module>\u001b[1;34m()\u001b[0m\n\u001b[0;32m      1\u001b[0m \u001b[0mlist_numbers\u001b[0m \u001b[1;33m=\u001b[0m \u001b[1;33m[\u001b[0m\u001b[1;36m1\u001b[0m\u001b[1;33m,\u001b[0m \u001b[1;36m2\u001b[0m\u001b[1;33m,\u001b[0m \u001b[1;36m3\u001b[0m\u001b[1;33m,\u001b[0m \u001b[1;36m4\u001b[0m\u001b[1;33m,\u001b[0m \u001b[1;36m5\u001b[0m\u001b[1;33m,\u001b[0m \u001b[1;36m6\u001b[0m\u001b[1;33m,\u001b[0m \u001b[1;36m7\u001b[0m\u001b[1;33m,\u001b[0m \u001b[1;36m8\u001b[0m\u001b[1;33m,\u001b[0m \u001b[1;36m9\u001b[0m\u001b[1;33m,\u001b[0m \u001b[1;36m10\u001b[0m\u001b[1;33m]\u001b[0m\u001b[1;33m\u001b[0m\u001b[0m\n\u001b[0;32m      2\u001b[0m \u001b[0melement\u001b[0m \u001b[1;33m=\u001b[0m \u001b[1;36m7\u001b[0m\u001b[1;33m\u001b[0m\u001b[0m\n\u001b[1;32m----> 3\u001b[1;33m \u001b[0mlist_numbers\u001b[0m\u001b[1;33m.\u001b[0m\u001b[0mindex\u001b[0m\u001b[1;33m(\u001b[0m\u001b[0melement\u001b[0m\u001b[1;33m,\u001b[0m \u001b[1;36m1\u001b[0m\u001b[1;33m,\u001b[0m \u001b[1;36m5\u001b[0m\u001b[1;33m)\u001b[0m\u001b[1;33m\u001b[0m\u001b[0m\n\u001b[0m",
      "\u001b[1;31mValueError\u001b[0m: 7 is not in list"
     ]
    }
   ],
   "source": [
    "list_numbers = [1, 2, 3, 4, 5, 6, 7, 8, 9, 10]\n",
    "element = 7\n",
    "list_numbers.index(element, 1, 5)"
   ]
  },
  {
   "cell_type": "markdown",
   "metadata": {},
   "source": [
    "注意:由于index()只返回对象的第一个匹配项，所以如果需要列表中更多匹配项的位置，可以使用列表推导式，或者生成器表达式。这里是:"
   ]
  },
  {
   "cell_type": "code",
   "execution_count": 121,
   "metadata": {
    "ExecuteTime": {
     "end_time": "2019-09-10T05:59:10.074000Z",
     "start_time": "2019-09-10T05:59:10.068000Z"
    }
   },
   "outputs": [
    {
     "data": {
      "text/plain": [
       "[0, 3, 4, 8]"
      ]
     },
     "execution_count": 121,
     "metadata": {},
     "output_type": "execute_result"
    }
   ],
   "source": [
    "list_numbers = [3, 1, 2, 3, 3, 4, 5, 6, 3, 7, 8, 9, 10]\n",
    "[i for i, n in enumerate(list_numbers) if n == 3] # List comprehension"
   ]
  },
  {
   "cell_type": "code",
   "execution_count": 122,
   "metadata": {
    "ExecuteTime": {
     "end_time": "2019-09-10T05:59:33.625000Z",
     "start_time": "2019-09-10T05:59:33.619000Z"
    }
   },
   "outputs": [
    {
     "name": "stdout",
     "output_type": "stream",
     "text": [
      "Generators store values, the first value here is: 0 . Then the next is: 3 followed by  4 and finally  8\n"
     ]
    }
   ],
   "source": [
    "list_numbers = [3, 1, 2, 3, 3, 4, 5, 6, 3, 7, 8, 9, 10]\n",
    "g = (i for i, n in enumerate(list_numbers) if n == 3) # Generator expression\n",
    "print(\"Generators store values, the first value here is:\", next(g), \". Then the next is:\", next(g), \"followed by \", next(g),\"and finally \", next(g))"
   ]
  },
  {
   "cell_type": "code",
   "execution_count": 126,
   "metadata": {
    "ExecuteTime": {
     "end_time": "2019-09-10T06:20:32.512000Z",
     "start_time": "2019-09-10T06:20:32.495000Z"
    }
   },
   "outputs": [
    {
     "name": "stdout",
     "output_type": "stream",
     "text": [
      "1\n",
      "3\n"
     ]
    }
   ],
   "source": [
    "a = [\"bee\", \"ant\", \"moth\", \"ant\"]\n",
    "print(a.index(\"ant\"))\n",
    "print(a.index(\"ant\", 2))  # 从指定索引开始"
   ]
  },
  {
   "cell_type": "markdown",
   "metadata": {},
   "source": [
    "#### count(x) 统计元素"
   ]
  },
  {
   "cell_type": "code",
   "execution_count": 127,
   "metadata": {
    "ExecuteTime": {
     "end_time": "2019-09-10T06:21:53.886000Z",
     "start_time": "2019-09-10T06:21:53.870000Z"
    }
   },
   "outputs": [
    {
     "name": "stdout",
     "output_type": "stream",
     "text": [
      "1\n",
      "2\n",
      "0\n"
     ]
    }
   ],
   "source": [
    "a = [\"bee\", \"ant\", \"moth\", \"ant\"]\n",
    "print(a.count(\"bee\"))\n",
    "print(a.count(\"ant\"))\n",
    "print(a.count(\"\"))"
   ]
  },
  {
   "cell_type": "markdown",
   "metadata": {},
   "source": [
    "#### len()、min()和max()函数:"
   ]
  },
  {
   "cell_type": "code",
   "execution_count": 32,
   "metadata": {
    "ExecuteTime": {
     "end_time": "2019-09-10T02:55:52.586000Z",
     "start_time": "2019-09-10T02:55:52.580000Z"
    }
   },
   "outputs": [
    {
     "data": {
      "text/plain": [
       "['foo', 'bar', 'baz', 'qux', 'quux', 'corge']"
      ]
     },
     "execution_count": 32,
     "metadata": {},
     "output_type": "execute_result"
    }
   ],
   "source": [
    "a"
   ]
  },
  {
   "cell_type": "markdown",
   "metadata": {},
   "source": [
    "##### 列表长度"
   ]
  },
  {
   "cell_type": "code",
   "execution_count": 31,
   "metadata": {
    "ExecuteTime": {
     "end_time": "2019-09-10T02:55:42.826000Z",
     "start_time": "2019-09-10T02:55:42.814000Z"
    }
   },
   "outputs": [
    {
     "data": {
      "text/plain": [
       "6"
      ]
     },
     "execution_count": 31,
     "metadata": {},
     "output_type": "execute_result"
    }
   ],
   "source": [
    "len(a)"
   ]
  },
  {
   "cell_type": "markdown",
   "metadata": {},
   "source": [
    "##### 最大值"
   ]
  },
  {
   "cell_type": "code",
   "execution_count": 34,
   "metadata": {
    "ExecuteTime": {
     "end_time": "2019-09-10T02:56:51.473000Z",
     "start_time": "2019-09-10T02:56:51.462000Z"
    }
   },
   "outputs": [
    {
     "data": {
      "text/plain": [
       "'qux'"
      ]
     },
     "execution_count": 34,
     "metadata": {},
     "output_type": "execute_result"
    }
   ],
   "source": [
    "max(a)"
   ]
  },
  {
   "cell_type": "markdown",
   "metadata": {},
   "source": [
    "##### 最小值"
   ]
  },
  {
   "cell_type": "code",
   "execution_count": 33,
   "metadata": {
    "ExecuteTime": {
     "end_time": "2019-09-10T02:56:45.072000Z",
     "start_time": "2019-09-10T02:56:45.057000Z"
    }
   },
   "outputs": [
    {
     "data": {
      "text/plain": [
       "'bar'"
      ]
     },
     "execution_count": 33,
     "metadata": {},
     "output_type": "execute_result"
    }
   ],
   "source": [
    "min(a)"
   ]
  },
  {
   "cell_type": "markdown",
   "metadata": {},
   "source": [
    "字符串和列表的行为如此相似并非偶然。它们都是称为iterable的更通用对象类型的特殊情况\n",
    "\n",
    "顺便说一下，在上面的每个例子中，在对列表执行操作之前，它总是被分配给一个变量。但是你也可以对列表文字进行操作:"
   ]
  },
  {
   "cell_type": "code",
   "execution_count": 35,
   "metadata": {
    "ExecuteTime": {
     "end_time": "2019-09-10T02:57:58.628000Z",
     "start_time": "2019-09-10T02:57:58.616000Z"
    }
   },
   "outputs": [
    {
     "data": {
      "text/plain": [
       "'baz'"
      ]
     },
     "execution_count": 35,
     "metadata": {},
     "output_type": "execute_result"
    }
   ],
   "source": [
    "['foo', 'bar', 'baz', 'qux', 'quux', 'corge'][2]"
   ]
  },
  {
   "cell_type": "code",
   "execution_count": 136,
   "metadata": {
    "ExecuteTime": {
     "end_time": "2019-09-10T06:31:59.995000Z",
     "start_time": "2019-09-10T06:31:59.988000Z"
    }
   },
   "outputs": [
    {
     "name": "stdout",
     "output_type": "stream",
     "text": [
      "moth\n",
      "wasp\n",
      "[1, 2, 3, 4, 5]\n"
     ]
    }
   ],
   "source": [
    "a = [\"bee\", \"moth\", \"ant\"]\n",
    "print(max(a))\n",
    "\n",
    "a = [\"bee\", \"moth\", \"wasp\"]\n",
    "print(max(a))\n",
    "\n",
    "a = [1, 2, 3, 4, 5]\n",
    "b = [1, 2, 3, 4]\n",
    "print(max(a, b))"
   ]
  },
  {
   "cell_type": "code",
   "execution_count": 135,
   "metadata": {
    "ExecuteTime": {
     "end_time": "2019-09-10T06:31:47.483000Z",
     "start_time": "2019-09-10T06:31:47.476000Z"
    }
   },
   "outputs": [
    {
     "name": "stdout",
     "output_type": "stream",
     "text": [
      "bee\n",
      "ant\n",
      "[1, 2, 3, 4]\n"
     ]
    }
   ],
   "source": [
    "a = [\"bee\", \"moth\", \"wasp\"]\n",
    "print(min(a))\n",
    "\n",
    "a = [\"bee\", \"moth\", \"ant\"]\n",
    "print(min(a))\n",
    "\n",
    "a = [1, 2, 3, 4, 5]\n",
    "b = [1, 2, 3, 4]\n",
    "print(min(a, b))"
   ]
  },
  {
   "cell_type": "markdown",
   "metadata": {},
   "source": [
    "#### 反转-逆序输出"
   ]
  },
  {
   "cell_type": "code",
   "execution_count": 36,
   "metadata": {
    "ExecuteTime": {
     "end_time": "2019-09-10T02:58:54.563000Z",
     "start_time": "2019-09-10T02:58:54.559000Z"
    }
   },
   "outputs": [
    {
     "data": {
      "text/plain": [
       "['corge', 'quux', 'qux', 'baz', 'bar', 'foo']"
      ]
     },
     "execution_count": 36,
     "metadata": {},
     "output_type": "execute_result"
    }
   ],
   "source": [
    "['foo', 'bar', 'baz', 'qux', 'quux', 'corge'][::-1]"
   ]
  },
  {
   "cell_type": "code",
   "execution_count": 37,
   "metadata": {
    "ExecuteTime": {
     "end_time": "2019-09-10T02:59:38.255000Z",
     "start_time": "2019-09-10T02:59:38.246000Z"
    }
   },
   "outputs": [
    {
     "data": {
      "text/plain": [
       "True"
      ]
     },
     "execution_count": 37,
     "metadata": {},
     "output_type": "execute_result"
    }
   ],
   "source": [
    "'quux' in ['foo', 'bar', 'baz', 'qux', 'quux', 'corge']"
   ]
  },
  {
   "cell_type": "code",
   "execution_count": 38,
   "metadata": {
    "ExecuteTime": {
     "end_time": "2019-09-10T02:59:46.573000Z",
     "start_time": "2019-09-10T02:59:46.563000Z"
    }
   },
   "outputs": [
    {
     "data": {
      "text/plain": [
       "['foo', 'bar', 'baz', 'qux', 'quux', 'corge']"
      ]
     },
     "execution_count": 38,
     "metadata": {},
     "output_type": "execute_result"
    }
   ],
   "source": [
    "['foo', 'bar', 'baz'] + ['qux', 'quux', 'corge']"
   ]
  },
  {
   "cell_type": "code",
   "execution_count": 39,
   "metadata": {
    "ExecuteTime": {
     "end_time": "2019-09-10T02:59:54.915000Z",
     "start_time": "2019-09-10T02:59:54.900000Z"
    }
   },
   "outputs": [
    {
     "data": {
      "text/plain": [
       "6"
      ]
     },
     "execution_count": 39,
     "metadata": {},
     "output_type": "execute_result"
    }
   ],
   "source": [
    "len(['foo', 'bar', 'baz', 'qux', 'quux', 'corge'][::-1])"
   ]
  },
  {
   "cell_type": "markdown",
   "metadata": {},
   "source": [
    "同样的，你也可以用字符串文字:"
   ]
  },
  {
   "cell_type": "code",
   "execution_count": 40,
   "metadata": {
    "ExecuteTime": {
     "end_time": "2019-09-10T03:00:32.201000Z",
     "start_time": "2019-09-10T03:00:32.192000Z"
    }
   },
   "outputs": [
    {
     "data": {
      "text/plain": [
       "'.thgir eb tsum ti ,ti syas noelopaN edarmoC fI'"
      ]
     },
     "execution_count": 40,
     "metadata": {},
     "output_type": "execute_result"
    }
   ],
   "source": [
    "'If Comrade Napoleon says it, it must be right.'[::-1]"
   ]
  },
  {
   "cell_type": "markdown",
   "metadata": {},
   "source": [
    "#### 列表嵌套"
   ]
  },
  {
   "cell_type": "markdown",
   "metadata": {},
   "source": [
    "列表可以包含子列表，子列表又可以包含子列表本身，以此类推，直到任意深度。"
   ]
  },
  {
   "cell_type": "code",
   "execution_count": 41,
   "metadata": {
    "ExecuteTime": {
     "end_time": "2019-09-10T03:01:28.182000Z",
     "start_time": "2019-09-10T03:01:28.173000Z"
    }
   },
   "outputs": [
    {
     "data": {
      "text/plain": [
       "['a', ['bb', ['ccc', 'ddd'], 'ee', 'ff'], 'g', ['hh', 'ii'], 'j']"
      ]
     },
     "execution_count": 41,
     "metadata": {},
     "output_type": "execute_result"
    }
   ],
   "source": [
    "x = ['a', ['bb', ['ccc', 'ddd'], 'ee', 'ff'], 'g', ['hh', 'ii'], 'j']\n",
    "x"
   ]
  },
  {
   "cell_type": "markdown",
   "metadata": {},
   "source": [
    "![](https://files.realpython.com/media/t.08554d94a1e5.png)"
   ]
  },
  {
   "cell_type": "code",
   "execution_count": 42,
   "metadata": {
    "ExecuteTime": {
     "end_time": "2019-09-10T03:02:01.889000Z",
     "start_time": "2019-09-10T03:02:01.884000Z"
    }
   },
   "outputs": [
    {
     "name": "stdout",
     "output_type": "stream",
     "text": [
      "a g j\n"
     ]
    }
   ],
   "source": [
    "print(x[0], x[2], x[4])"
   ]
  },
  {
   "cell_type": "code",
   "execution_count": 43,
   "metadata": {
    "ExecuteTime": {
     "end_time": "2019-09-10T03:02:16.796000Z",
     "start_time": "2019-09-10T03:02:16.785000Z"
    }
   },
   "outputs": [
    {
     "data": {
      "text/plain": [
       "['bb', ['ccc', 'ddd'], 'ee', 'ff']"
      ]
     },
     "execution_count": 43,
     "metadata": {},
     "output_type": "execute_result"
    }
   ],
   "source": [
    "x[1]"
   ]
  },
  {
   "cell_type": "code",
   "execution_count": 44,
   "metadata": {
    "ExecuteTime": {
     "end_time": "2019-09-10T03:02:17.222000Z",
     "start_time": "2019-09-10T03:02:17.218000Z"
    }
   },
   "outputs": [
    {
     "data": {
      "text/plain": [
       "['hh', 'ii']"
      ]
     },
     "execution_count": 44,
     "metadata": {},
     "output_type": "execute_result"
    }
   ],
   "source": [
    "x[3]"
   ]
  },
  {
   "cell_type": "markdown",
   "metadata": {},
   "source": [
    "要访问子列表中的项目，只需添加一个附加索引:"
   ]
  },
  {
   "cell_type": "code",
   "execution_count": 45,
   "metadata": {
    "ExecuteTime": {
     "end_time": "2019-09-10T03:03:28.147000Z",
     "start_time": "2019-09-10T03:03:28.133000Z"
    }
   },
   "outputs": [
    {
     "name": "stdout",
     "output_type": "stream",
     "text": [
      "['bb', ['ccc', 'ddd'], 'ee', 'ff']\n",
      "bb\n",
      "['ccc', 'ddd']\n",
      "ee\n"
     ]
    }
   ],
   "source": [
    "print(x[1])\n",
    "print(x[1][0])\n",
    "print(x[1][1])\n",
    "print(x[1][2])"
   ]
  },
  {
   "cell_type": "code",
   "execution_count": 46,
   "metadata": {
    "ExecuteTime": {
     "end_time": "2019-09-10T03:04:04.654000Z",
     "start_time": "2019-09-10T03:04:04.643000Z"
    }
   },
   "outputs": [
    {
     "name": "stdout",
     "output_type": "stream",
     "text": [
      "ccc ddd\n"
     ]
    }
   ],
   "source": [
    "print(x[1][1][0], x[1][1][1])"
   ]
  },
  {
   "cell_type": "code",
   "execution_count": 47,
   "metadata": {
    "ExecuteTime": {
     "end_time": "2019-09-10T03:04:23.435000Z",
     "start_time": "2019-09-10T03:04:23.430000Z"
    }
   },
   "outputs": [
    {
     "name": "stdout",
     "output_type": "stream",
     "text": [
      "ddd\n"
     ]
    }
   ],
   "source": [
    "print(x[1][1][-1])"
   ]
  },
  {
   "cell_type": "code",
   "execution_count": 48,
   "metadata": {
    "ExecuteTime": {
     "end_time": "2019-09-10T03:04:37.493000Z",
     "start_time": "2019-09-10T03:04:37.483000Z"
    }
   },
   "outputs": [
    {
     "name": "stdout",
     "output_type": "stream",
     "text": [
      "[['ccc', 'ddd'], 'ee']\n"
     ]
    }
   ],
   "source": [
    "print(x[1][1:3])"
   ]
  },
  {
   "cell_type": "code",
   "execution_count": 49,
   "metadata": {
    "ExecuteTime": {
     "end_time": "2019-09-10T03:04:51.999000Z",
     "start_time": "2019-09-10T03:04:51.991000Z"
    }
   },
   "outputs": [
    {
     "name": "stdout",
     "output_type": "stream",
     "text": [
      "['ii', 'hh']\n"
     ]
    }
   ],
   "source": [
    "print(x[3][::-1])"
   ]
  },
  {
   "cell_type": "markdown",
   "metadata": {},
   "source": [
    "嵌套列表的长度"
   ]
  },
  {
   "cell_type": "code",
   "execution_count": 50,
   "metadata": {
    "ExecuteTime": {
     "end_time": "2019-09-10T03:06:02.620000Z",
     "start_time": "2019-09-10T03:06:02.615000Z"
    }
   },
   "outputs": [
    {
     "name": "stdout",
     "output_type": "stream",
     "text": [
      "['a', ['bb', ['ccc', 'ddd'], 'ee', 'ff'], 'g', ['hh', 'ii'], 'j']\n",
      "5\n"
     ]
    }
   ],
   "source": [
    "print(x)\n",
    "print(len(x))"
   ]
  },
  {
   "cell_type": "markdown",
   "metadata": {},
   "source": [
    "x只有五个元素——三个字符串和两个子列表。子列表中的单个元素不计入x的长度。"
   ]
  },
  {
   "cell_type": "code",
   "execution_count": 51,
   "metadata": {
    "ExecuteTime": {
     "end_time": "2019-09-10T03:07:38.350000Z",
     "start_time": "2019-09-10T03:07:38.342000Z"
    }
   },
   "outputs": [
    {
     "name": "stdout",
     "output_type": "stream",
     "text": [
      "False\n",
      "False\n",
      "True\n"
     ]
    }
   ],
   "source": [
    "print('ddd' in x)\n",
    "print('ddd' in x[1])\n",
    "print('ddd' in x[1][1])"
   ]
  },
  {
   "cell_type": "markdown",
   "metadata": {},
   "source": [
    "#### 列表是可变的"
   ]
  },
  {
   "cell_type": "markdown",
   "metadata": {},
   "source": [
    "到目前为止，遇到的大多数数据类型都是原子类型。例如，Integer或float对象是不能进一步分解的基本单元。这些类型是不可变的，这意味着一旦分配了它们，就不能更改它们。考虑改变整数的值没有多大意义。如果你想要一个不同的整数，你只需要分配一个不同的。\n",
    "\n",
    "相反，字符串类型是复合类型。字符串可以简化为更小的部分——组件字符。考虑更改字符串中的字符可能是有意义的。但是你不能。在Python中，字符串也是不可变的。\n",
    "\n",
    "列表是您遇到的第一个可变数据类型。一旦创建了一个列表，就可以随意添加、删除、移动和移动元素。Python提供了广泛的方法来修改列表。"
   ]
  },
  {
   "cell_type": "markdown",
   "metadata": {},
   "source": [
    "##### 修改替换列表值\n",
    "列表中的一个值可以用索引和简单的赋值替换:"
   ]
  },
  {
   "cell_type": "code",
   "execution_count": 52,
   "metadata": {
    "ExecuteTime": {
     "end_time": "2019-09-10T03:10:02.799000Z",
     "start_time": "2019-09-10T03:10:02.794000Z"
    }
   },
   "outputs": [
    {
     "data": {
      "text/plain": [
       "['foo', 'bar', 'baz', 'qux', 'quux', 'corge']"
      ]
     },
     "execution_count": 52,
     "metadata": {},
     "output_type": "execute_result"
    }
   ],
   "source": [
    "a = ['foo', 'bar', 'baz', 'qux', 'quux', 'corge']\n",
    "a"
   ]
  },
  {
   "cell_type": "code",
   "execution_count": 53,
   "metadata": {
    "ExecuteTime": {
     "end_time": "2019-09-10T03:10:46.659000Z",
     "start_time": "2019-09-10T03:10:46.654000Z"
    }
   },
   "outputs": [
    {
     "data": {
      "text/plain": [
       "['foo', 'bar', 10, 'qux', 'quux', 20]"
      ]
     },
     "execution_count": 53,
     "metadata": {},
     "output_type": "execute_result"
    }
   ],
   "source": [
    "a[2] = 10\n",
    "a[-1] = 20\n",
    "a"
   ]
  },
  {
   "cell_type": "markdown",
   "metadata": {},
   "source": [
    "列表a中的元素已经被修改"
   ]
  },
  {
   "cell_type": "markdown",
   "metadata": {},
   "source": [
    "字符串是不可修改的"
   ]
  },
  {
   "cell_type": "code",
   "execution_count": 54,
   "metadata": {
    "ExecuteTime": {
     "end_time": "2019-09-10T03:58:45.808000Z",
     "start_time": "2019-09-10T03:58:45.693000Z"
    }
   },
   "outputs": [
    {
     "ename": "TypeError",
     "evalue": "'str' object does not support item assignment",
     "output_type": "error",
     "traceback": [
      "\u001b[1;31m---------------------------------------------------------------------------\u001b[0m",
      "\u001b[1;31mTypeError\u001b[0m                                 Traceback (most recent call last)",
      "\u001b[1;32m<ipython-input-54-51cf32393b91>\u001b[0m in \u001b[0;36m<module>\u001b[1;34m()\u001b[0m\n\u001b[0;32m      1\u001b[0m \u001b[0ms\u001b[0m \u001b[1;33m=\u001b[0m \u001b[1;34m'foobarbaz'\u001b[0m\u001b[1;33m\u001b[0m\u001b[0m\n\u001b[1;32m----> 2\u001b[1;33m \u001b[0ms\u001b[0m\u001b[1;33m[\u001b[0m\u001b[1;36m2\u001b[0m\u001b[1;33m]\u001b[0m \u001b[1;33m=\u001b[0m \u001b[1;34m'x'\u001b[0m\u001b[1;33m\u001b[0m\u001b[0m\n\u001b[0m",
      "\u001b[1;31mTypeError\u001b[0m: 'str' object does not support item assignment"
     ]
    }
   ],
   "source": [
    "s = 'foobarbaz'\n",
    "s[2] = 'x'"
   ]
  },
  {
   "cell_type": "markdown",
   "metadata": {},
   "source": [
    "使用del命令可以删除列表项:"
   ]
  },
  {
   "cell_type": "code",
   "execution_count": 55,
   "metadata": {
    "ExecuteTime": {
     "end_time": "2019-09-10T03:59:18.013000Z",
     "start_time": "2019-09-10T03:59:18.009000Z"
    }
   },
   "outputs": [
    {
     "data": {
      "text/plain": [
       "['foo', 'bar', 'baz', 'qux', 'quux', 'corge']"
      ]
     },
     "execution_count": 55,
     "metadata": {},
     "output_type": "execute_result"
    }
   ],
   "source": [
    "a = ['foo', 'bar', 'baz', 'qux', 'quux', 'corge']\n",
    "a"
   ]
  },
  {
   "cell_type": "code",
   "execution_count": 56,
   "metadata": {
    "ExecuteTime": {
     "end_time": "2019-09-10T03:59:25.734000Z",
     "start_time": "2019-09-10T03:59:25.731000Z"
    },
    "collapsed": true
   },
   "outputs": [],
   "source": [
    "del a[3]  # 删除索引位置为3的元素"
   ]
  },
  {
   "cell_type": "code",
   "execution_count": 57,
   "metadata": {
    "ExecuteTime": {
     "end_time": "2019-09-10T03:59:33.609000Z",
     "start_time": "2019-09-10T03:59:33.601000Z"
    }
   },
   "outputs": [
    {
     "data": {
      "text/plain": [
       "['foo', 'bar', 'baz', 'quux', 'corge']"
      ]
     },
     "execution_count": 57,
     "metadata": {},
     "output_type": "execute_result"
    }
   ],
   "source": [
    "a"
   ]
  },
  {
   "cell_type": "markdown",
   "metadata": {},
   "source": [
    "同时修改多个列表元素"
   ]
  },
  {
   "cell_type": "code",
   "execution_count": 58,
   "metadata": {
    "ExecuteTime": {
     "end_time": "2019-09-10T04:01:48.318000Z",
     "start_time": "2019-09-10T04:01:48.314000Z"
    }
   },
   "outputs": [
    {
     "data": {
      "text/plain": [
       "['bar', 'baz', 'qux']"
      ]
     },
     "execution_count": 58,
     "metadata": {},
     "output_type": "execute_result"
    }
   ],
   "source": [
    "a = ['foo', 'bar', 'baz', 'qux', 'quux', 'corge']\n",
    "\n",
    "a[1:4]"
   ]
  },
  {
   "cell_type": "code",
   "execution_count": 59,
   "metadata": {
    "ExecuteTime": {
     "end_time": "2019-09-10T04:02:00.790000Z",
     "start_time": "2019-09-10T04:02:00.785000Z"
    }
   },
   "outputs": [
    {
     "data": {
      "text/plain": [
       "['foo', 1.1, 2.2, 3.3, 4.4, 5.5, 'quux', 'corge']"
      ]
     },
     "execution_count": 59,
     "metadata": {},
     "output_type": "execute_result"
    }
   ],
   "source": [
    "a[1:4] = [1.1, 2.2, 3.3, 4.4, 5.5]\n",
    "a"
   ]
  },
  {
   "cell_type": "code",
   "execution_count": 60,
   "metadata": {
    "ExecuteTime": {
     "end_time": "2019-09-10T04:03:38.316000Z",
     "start_time": "2019-09-10T04:03:38.307000Z"
    }
   },
   "outputs": [
    {
     "data": {
      "text/plain": [
       "[1.1, 2.2, 3.3, 4.4, 5.5]"
      ]
     },
     "execution_count": 60,
     "metadata": {},
     "output_type": "execute_result"
    }
   ],
   "source": [
    "a[1:6]"
   ]
  },
  {
   "cell_type": "code",
   "execution_count": 61,
   "metadata": {
    "ExecuteTime": {
     "end_time": "2019-09-10T04:03:38.580000Z",
     "start_time": "2019-09-10T04:03:38.575000Z"
    },
    "collapsed": true
   },
   "outputs": [],
   "source": [
    "a[1:6] = ['Bark!']"
   ]
  },
  {
   "cell_type": "code",
   "execution_count": 62,
   "metadata": {
    "ExecuteTime": {
     "end_time": "2019-09-10T04:03:46.623000Z",
     "start_time": "2019-09-10T04:03:46.617000Z"
    }
   },
   "outputs": [
    {
     "data": {
      "text/plain": [
       "['foo', 'Bark!', 'quux', 'corge']"
      ]
     },
     "execution_count": 62,
     "metadata": {},
     "output_type": "execute_result"
    }
   ],
   "source": [
    "a"
   ]
  },
  {
   "cell_type": "markdown",
   "metadata": {},
   "source": [
    "插入的元素数不必等于替换的元素数。Python只根据需要增长或收缩列表。\n",
    "\n",
    "可以插入多个元素来代替单个元素—只需使用一个只表示一个元素的切片:"
   ]
  },
  {
   "cell_type": "code",
   "execution_count": 63,
   "metadata": {
    "ExecuteTime": {
     "end_time": "2019-09-10T04:04:46.634000Z",
     "start_time": "2019-09-10T04:04:46.625000Z"
    }
   },
   "outputs": [
    {
     "data": {
      "text/plain": [
       "[1, 2.1, 2.2, 2.3, 3]"
      ]
     },
     "execution_count": 63,
     "metadata": {},
     "output_type": "execute_result"
    }
   ],
   "source": [
    "a = [1, 2, 3]\n",
    "a[1:2] = [2.1, 2.2, 2.3]\n",
    "a"
   ]
  },
  {
   "cell_type": "markdown",
   "metadata": {},
   "source": [
    "**注意，这与用列表替换单个元素不同:**"
   ]
  },
  {
   "cell_type": "code",
   "execution_count": 64,
   "metadata": {
    "ExecuteTime": {
     "end_time": "2019-09-10T04:05:33.716000Z",
     "start_time": "2019-09-10T04:05:33.711000Z"
    }
   },
   "outputs": [
    {
     "data": {
      "text/plain": [
       "[1, [2.1, 2.2, 2.3], 3]"
      ]
     },
     "execution_count": 64,
     "metadata": {},
     "output_type": "execute_result"
    }
   ],
   "source": [
    "a = [1, 2, 3]\n",
    "a[1] = [2.1, 2.2, 2.3]\n",
    "a"
   ]
  },
  {
   "cell_type": "markdown",
   "metadata": {},
   "source": [
    "还可以在不删除任何内容的情况下将元素插入列表。只需在所需索引处指定表单[n:n]的一个切片(一个零长度的切片):"
   ]
  },
  {
   "cell_type": "code",
   "execution_count": 65,
   "metadata": {
    "ExecuteTime": {
     "end_time": "2019-09-10T04:06:21.998000Z",
     "start_time": "2019-09-10T04:06:21.990000Z"
    }
   },
   "outputs": [
    {
     "data": {
      "text/plain": [
       "[1, 2, 3, 4, 5, 6, 7, 8]"
      ]
     },
     "execution_count": 65,
     "metadata": {},
     "output_type": "execute_result"
    }
   ],
   "source": [
    "a = [1, 2, 7, 8]\n",
    "a[2:2] = [3, 4, 5, 6]\n",
    "a"
   ]
  },
  {
   "cell_type": "markdown",
   "metadata": {},
   "source": [
    "通过将适当的切片分配给空列表，可以从列表中间删除多个元素。\n",
    "\n",
    "你也可以使用del语句与相同的切片:"
   ]
  },
  {
   "cell_type": "code",
   "execution_count": 66,
   "metadata": {
    "ExecuteTime": {
     "end_time": "2019-09-10T04:07:27.610000Z",
     "start_time": "2019-09-10T04:07:27.599000Z"
    }
   },
   "outputs": [
    {
     "data": {
      "text/plain": [
       "['foo', 'corge']"
      ]
     },
     "execution_count": 66,
     "metadata": {},
     "output_type": "execute_result"
    }
   ],
   "source": [
    "a = ['foo', 'bar', 'baz', 'qux', 'quux', 'corge']\n",
    "a[1:5] = []\n",
    "a"
   ]
  },
  {
   "cell_type": "code",
   "execution_count": 67,
   "metadata": {
    "ExecuteTime": {
     "end_time": "2019-09-10T04:07:42.276000Z",
     "start_time": "2019-09-10T04:07:42.272000Z"
    }
   },
   "outputs": [
    {
     "data": {
      "text/plain": [
       "['foo', 'corge']"
      ]
     },
     "execution_count": 67,
     "metadata": {},
     "output_type": "execute_result"
    }
   ],
   "source": [
    "a = ['foo', 'bar', 'baz', 'qux', 'quux', 'corge']\n",
    "del a[1:5]\n",
    "a"
   ]
  },
  {
   "cell_type": "markdown",
   "metadata": {},
   "source": [
    "将项前置或追加到列表中\n",
    "\n",
    "可以使用`+ concatenation`运算符或`+=` augmented赋值运算符将附加项添加到列表的开始或结束:"
   ]
  },
  {
   "cell_type": "code",
   "execution_count": 68,
   "metadata": {
    "ExecuteTime": {
     "end_time": "2019-09-10T04:09:00.095000Z",
     "start_time": "2019-09-10T04:09:00.083000Z"
    }
   },
   "outputs": [
    {
     "data": {
      "text/plain": [
       "['foo', 'bar', 'baz', 'qux', 'quux', 'corge', 'grault', 'garply']"
      ]
     },
     "execution_count": 68,
     "metadata": {},
     "output_type": "execute_result"
    }
   ],
   "source": [
    "a = ['foo', 'bar', 'baz', 'qux', 'quux', 'corge']\n",
    "\n",
    "a += ['grault', 'garply']\n",
    "a"
   ]
  },
  {
   "cell_type": "code",
   "execution_count": 69,
   "metadata": {
    "ExecuteTime": {
     "end_time": "2019-09-10T04:09:23.906000Z",
     "start_time": "2019-09-10T04:09:23.884000Z"
    }
   },
   "outputs": [
    {
     "data": {
      "text/plain": [
       "[10, 20, 'foo', 'bar', 'baz', 'qux', 'quux', 'corge']"
      ]
     },
     "execution_count": 69,
     "metadata": {},
     "output_type": "execute_result"
    }
   ],
   "source": [
    "a = ['foo', 'bar', 'baz', 'qux', 'quux', 'corge']\n",
    "\n",
    "a = [10, 20] + a\n",
    "a"
   ]
  },
  {
   "cell_type": "markdown",
   "metadata": {},
   "source": [
    "注意，一个列表必须与另一个列表连接，所以如果你只想添加一个元素，你需要将它指定为一个单元素列表:"
   ]
  },
  {
   "cell_type": "code",
   "execution_count": 70,
   "metadata": {
    "ExecuteTime": {
     "end_time": "2019-09-10T04:10:21.780000Z",
     "start_time": "2019-09-10T04:10:21.772000Z"
    }
   },
   "outputs": [
    {
     "ename": "TypeError",
     "evalue": "'int' object is not iterable",
     "output_type": "error",
     "traceback": [
      "\u001b[1;31m---------------------------------------------------------------------------\u001b[0m",
      "\u001b[1;31mTypeError\u001b[0m                                 Traceback (most recent call last)",
      "\u001b[1;32m<ipython-input-70-e3768c0c25c3>\u001b[0m in \u001b[0;36m<module>\u001b[1;34m()\u001b[0m\n\u001b[0;32m      1\u001b[0m \u001b[0ma\u001b[0m \u001b[1;33m=\u001b[0m \u001b[1;33m[\u001b[0m\u001b[1;34m'foo'\u001b[0m\u001b[1;33m,\u001b[0m \u001b[1;34m'bar'\u001b[0m\u001b[1;33m,\u001b[0m \u001b[1;34m'baz'\u001b[0m\u001b[1;33m,\u001b[0m \u001b[1;34m'qux'\u001b[0m\u001b[1;33m,\u001b[0m \u001b[1;34m'quux'\u001b[0m\u001b[1;33m,\u001b[0m \u001b[1;34m'corge'\u001b[0m\u001b[1;33m]\u001b[0m\u001b[1;33m\u001b[0m\u001b[0m\n\u001b[1;32m----> 2\u001b[1;33m \u001b[0ma\u001b[0m \u001b[1;33m+=\u001b[0m \u001b[1;36m20\u001b[0m\u001b[1;33m\u001b[0m\u001b[0m\n\u001b[0m",
      "\u001b[1;31mTypeError\u001b[0m: 'int' object is not iterable"
     ]
    }
   ],
   "source": [
    "a = ['foo', 'bar', 'baz', 'qux', 'quux', 'corge']\n",
    "a += 20"
   ]
  },
  {
   "cell_type": "code",
   "execution_count": 71,
   "metadata": {
    "ExecuteTime": {
     "end_time": "2019-09-10T04:10:33.556000Z",
     "start_time": "2019-09-10T04:10:33.548000Z"
    }
   },
   "outputs": [
    {
     "data": {
      "text/plain": [
       "['foo', 'bar', 'baz', 'qux', 'quux', 'corge', 20]"
      ]
     },
     "execution_count": 71,
     "metadata": {},
     "output_type": "execute_result"
    }
   ],
   "source": [
    "a += [20]\n",
    "a"
   ]
  },
  {
   "cell_type": "markdown",
   "metadata": {},
   "source": [
    "**注意:**从技术上讲，说一个列表必须与另一个列表连接是不太正确的。\n",
    "    \n",
    "更精确地说，列表必须与可迭代的对象连接。当然，列表是可迭代的，因此可以将一个列表与另一个列表连接起来。\n",
    "\n",
    "字符串也是可迭代的。但是看看当你把一个字符串连接到一个列表时会发生什么:"
   ]
  },
  {
   "cell_type": "code",
   "execution_count": 72,
   "metadata": {
    "ExecuteTime": {
     "end_time": "2019-09-10T04:11:33.983000Z",
     "start_time": "2019-09-10T04:11:33.968000Z"
    }
   },
   "outputs": [
    {
     "data": {
      "text/plain": [
       "['foo', 'bar', 'baz', 'qux', 'quux', 'c', 'o', 'r', 'g', 'e']"
      ]
     },
     "execution_count": 72,
     "metadata": {},
     "output_type": "execute_result"
    }
   ],
   "source": [
    "a = ['foo', 'bar', 'baz', 'qux', 'quux']\n",
    "a += 'corge'\n",
    "a"
   ]
  },
  {
   "cell_type": "markdown",
   "metadata": {},
   "source": [
    "这个结果可能不完全符合你的预期。当一个字符串被遍历时，结果是它的组件字符列表。\n",
    "\n",
    "在上面的例子中，连接到列表a的是字符串“corge”中的字符列表。\n",
    "\n",
    "如果你真的想在列表末尾添加一个字符串“corge”，你需要把它指定为一个单例列表:"
   ]
  },
  {
   "cell_type": "code",
   "execution_count": 73,
   "metadata": {
    "ExecuteTime": {
     "end_time": "2019-09-10T04:12:52.838000Z",
     "start_time": "2019-09-10T04:12:52.833000Z"
    }
   },
   "outputs": [
    {
     "data": {
      "text/plain": [
       "['foo', 'bar', 'baz', 'qux', 'quux', 'corge']"
      ]
     },
     "execution_count": 73,
     "metadata": {},
     "output_type": "execute_result"
    }
   ],
   "source": [
    "a = ['foo', 'bar', 'baz', 'qux', 'quux']\n",
    "a += ['corge']\n",
    "a"
   ]
  },
  {
   "cell_type": "markdown",
   "metadata": {},
   "source": [
    "修改列表的方法"
   ]
  },
  {
   "cell_type": "markdown",
   "metadata": {},
   "source": [
    "最后，Python提供了几个可用于修改列表的内置方法。关于这些方法的信息如下。\n",
    "\n",
    "注意:你在前面的教程中看到的字符串方法没有直接修改目标字符串。这是因为字符串是不可变的。相反，string方法返回一个新的string对象，该对象按照方法的方向进行修改。它们保持原始目标字符串不变:"
   ]
  },
  {
   "cell_type": "code",
   "execution_count": 74,
   "metadata": {
    "ExecuteTime": {
     "end_time": "2019-09-10T04:14:49.976000Z",
     "start_time": "2019-09-10T04:14:49.971000Z"
    }
   },
   "outputs": [
    {
     "name": "stdout",
     "output_type": "stream",
     "text": [
      "foobar FOOBAR\n"
     ]
    }
   ],
   "source": [
    "s = 'foobar'\n",
    "t = s.upper()\n",
    "print(s, t)"
   ]
  },
  {
   "cell_type": "markdown",
   "metadata": {},
   "source": [
    "列表方法是不同的。因为列表是可变的，所以这里显示的列表方法将修改目标列表。"
   ]
  },
  {
   "cell_type": "markdown",
   "metadata": {},
   "source": [
    "#### 添加元素"
   ]
  },
  {
   "cell_type": "markdown",
   "metadata": {},
   "source": [
    "##### append()添加单个元素"
   ]
  },
  {
   "cell_type": "code",
   "execution_count": 75,
   "metadata": {
    "ExecuteTime": {
     "end_time": "2019-09-10T04:15:42.970000Z",
     "start_time": "2019-09-10T04:15:42.965000Z"
    }
   },
   "outputs": [
    {
     "data": {
      "text/plain": [
       "['a', 'b', 123]"
      ]
     },
     "execution_count": 75,
     "metadata": {},
     "output_type": "execute_result"
    }
   ],
   "source": [
    "a = ['a', 'b']\n",
    "a.append(123)\n",
    "a"
   ]
  },
  {
   "cell_type": "markdown",
   "metadata": {},
   "source": [
    "记住，list方法修改目标列表。它们不返回新列表:"
   ]
  },
  {
   "cell_type": "code",
   "execution_count": 76,
   "metadata": {
    "ExecuteTime": {
     "end_time": "2019-09-10T04:17:13.085000Z",
     "start_time": "2019-09-10T04:17:13.076000Z"
    }
   },
   "outputs": [
    {
     "name": "stdout",
     "output_type": "stream",
     "text": [
      "None\n"
     ]
    }
   ],
   "source": [
    "a = ['a', 'b']\n",
    "x = a.append(123)\n",
    "print(x)"
   ]
  },
  {
   "cell_type": "code",
   "execution_count": 77,
   "metadata": {
    "ExecuteTime": {
     "end_time": "2019-09-10T04:17:17.793000Z",
     "start_time": "2019-09-10T04:17:17.779000Z"
    }
   },
   "outputs": [
    {
     "data": {
      "text/plain": [
       "['a', 'b', 123]"
      ]
     },
     "execution_count": 77,
     "metadata": {},
     "output_type": "execute_result"
    }
   ],
   "source": [
    "a"
   ]
  },
  {
   "cell_type": "markdown",
   "metadata": {},
   "source": [
    "请记住，当使用`+`运算符连接到一个列表时，如果目标操作数是可迭代的，那么它的元素将被分解并单独添加到列表中:"
   ]
  },
  {
   "cell_type": "code",
   "execution_count": 78,
   "metadata": {
    "ExecuteTime": {
     "end_time": "2019-09-10T04:19:02.245000Z",
     "start_time": "2019-09-10T04:19:02.240000Z"
    }
   },
   "outputs": [
    {
     "data": {
      "text/plain": [
       "['a', 'b']"
      ]
     },
     "execution_count": 78,
     "metadata": {},
     "output_type": "execute_result"
    }
   ],
   "source": [
    "a = ['a', 'b']\n",
    "a + [1, 2, 3]\n",
    "a"
   ]
  },
  {
   "cell_type": "code",
   "execution_count": 79,
   "metadata": {
    "ExecuteTime": {
     "end_time": "2019-09-10T04:20:27.956000Z",
     "start_time": "2019-09-10T04:20:27.951000Z"
    }
   },
   "outputs": [
    {
     "data": {
      "text/plain": [
       "['a', 'b', [1, 2, 3]]"
      ]
     },
     "execution_count": 79,
     "metadata": {},
     "output_type": "execute_result"
    }
   ],
   "source": [
    "a = ['a', 'b']\n",
    "a.append([1, 2, 3])\n",
    "a"
   ]
  },
  {
   "cell_type": "code",
   "execution_count": 80,
   "metadata": {
    "ExecuteTime": {
     "end_time": "2019-09-10T04:21:19.506000Z",
     "start_time": "2019-09-10T04:21:19.495000Z"
    }
   },
   "outputs": [
    {
     "data": {
      "text/plain": [
       "['a', 'b', 'foo']"
      ]
     },
     "execution_count": 80,
     "metadata": {},
     "output_type": "execute_result"
    }
   ],
   "source": [
    "a = ['a', 'b']\n",
    "a.append('foo')\n",
    "a"
   ]
  },
  {
   "cell_type": "markdown",
   "metadata": {},
   "source": [
    "##### extend()扩展添加多个元素"
   ]
  },
  {
   "cell_type": "code",
   "execution_count": 81,
   "metadata": {
    "ExecuteTime": {
     "end_time": "2019-09-10T04:22:33.386000Z",
     "start_time": "2019-09-10T04:22:33.379000Z"
    }
   },
   "outputs": [
    {
     "data": {
      "text/plain": [
       "['a', 'b', 1, 2, 3]"
      ]
     },
     "execution_count": 81,
     "metadata": {},
     "output_type": "execute_result"
    }
   ],
   "source": [
    "a = ['a', 'b']\n",
    "a.extend([1, 2, 3])\n",
    "a"
   ]
  },
  {
   "cell_type": "markdown",
   "metadata": {},
   "source": [
    "换句话说，`.extend()`的行为类似于`+`操作符。更准确地说，因为它修改了列表，所以它的行为类似于`+=`操作符:"
   ]
  },
  {
   "cell_type": "code",
   "execution_count": 82,
   "metadata": {
    "ExecuteTime": {
     "end_time": "2019-09-10T04:24:27.626000Z",
     "start_time": "2019-09-10T04:24:27.618000Z"
    }
   },
   "outputs": [
    {
     "data": {
      "text/plain": [
       "['a', 'b', 1, 2, 3]"
      ]
     },
     "execution_count": 82,
     "metadata": {},
     "output_type": "execute_result"
    }
   ],
   "source": [
    "a = ['a', 'b']\n",
    "a += [1, 2, 3]\n",
    "a"
   ]
  },
  {
   "cell_type": "markdown",
   "metadata": {},
   "source": [
    "#### insert插入元素"
   ]
  },
  {
   "cell_type": "markdown",
   "metadata": {},
   "source": [
    "http://python-ds.com/python-3-list-methods"
   ]
  },
  {
   "cell_type": "markdown",
   "metadata": {},
   "source": [
    "    a.insert(<index>, <obj>)"
   ]
  },
  {
   "cell_type": "code",
   "execution_count": 123,
   "metadata": {
    "ExecuteTime": {
     "end_time": "2019-09-10T06:17:33.132000Z",
     "start_time": "2019-09-10T06:17:33.125000Z"
    }
   },
   "outputs": [
    {
     "name": "stdout",
     "output_type": "stream",
     "text": [
      "['bee', 'moth']\n",
      "['ant', 'bee', 'moth']\n",
      "['ant', 'bee', 'fly', 'moth']\n"
     ]
    }
   ],
   "source": [
    "a = [\"bee\", \"moth\"]\n",
    "print(a)\n",
    "a.insert(0, \"ant\")\n",
    "print(a)\n",
    "a.insert(2, \"fly\")\n",
    "print(a)"
   ]
  },
  {
   "cell_type": "markdown",
   "metadata": {},
   "source": [
    "将对象插入到列表a中指定的索引位置，其余列表元素向右推:"
   ]
  },
  {
   "cell_type": "code",
   "execution_count": 83,
   "metadata": {
    "ExecuteTime": {
     "end_time": "2019-09-10T04:26:08.558000Z",
     "start_time": "2019-09-10T04:26:08.541000Z"
    }
   },
   "outputs": [
    {
     "data": {
      "text/plain": [
       "3.14159"
      ]
     },
     "execution_count": 83,
     "metadata": {},
     "output_type": "execute_result"
    }
   ],
   "source": [
    "a = ['foo', 'bar', 'baz', 'qux', 'quux', 'corge']\n",
    "a.insert(3, 3.14159)\n",
    "a[3]"
   ]
  },
  {
   "cell_type": "code",
   "execution_count": 84,
   "metadata": {
    "ExecuteTime": {
     "end_time": "2019-09-10T04:26:09.043000Z",
     "start_time": "2019-09-10T04:26:09.038000Z"
    }
   },
   "outputs": [
    {
     "data": {
      "text/plain": [
       "['foo', 'bar', 'baz', 3.14159, 'qux', 'quux', 'corge']"
      ]
     },
     "execution_count": 84,
     "metadata": {},
     "output_type": "execute_result"
    }
   ],
   "source": [
    "a"
   ]
  },
  {
   "cell_type": "markdown",
   "metadata": {},
   "source": [
    "#### remove()移除操作"
   ]
  },
  {
   "cell_type": "markdown",
   "metadata": {},
   "source": [
    "a.remove()从列表a中删除对象。如果不在a中，则抛出异常:"
   ]
  },
  {
   "cell_type": "code",
   "execution_count": 85,
   "metadata": {
    "ExecuteTime": {
     "end_time": "2019-09-10T04:27:44.923000Z",
     "start_time": "2019-09-10T04:27:44.918000Z"
    }
   },
   "outputs": [
    {
     "data": {
      "text/plain": [
       "['foo', 'bar', 'qux', 'quux', 'corge']"
      ]
     },
     "execution_count": 85,
     "metadata": {},
     "output_type": "execute_result"
    }
   ],
   "source": [
    "a = ['foo', 'bar', 'baz', 'qux', 'quux', 'corge']\n",
    "a.remove('baz')\n",
    "a"
   ]
  },
  {
   "cell_type": "code",
   "execution_count": 86,
   "metadata": {
    "ExecuteTime": {
     "end_time": "2019-09-10T04:27:46.178000Z",
     "start_time": "2019-09-10T04:27:46.164000Z"
    }
   },
   "outputs": [
    {
     "ename": "ValueError",
     "evalue": "list.remove(x): x not in list",
     "output_type": "error",
     "traceback": [
      "\u001b[1;31m---------------------------------------------------------------------------\u001b[0m",
      "\u001b[1;31mValueError\u001b[0m                                Traceback (most recent call last)",
      "\u001b[1;32m<ipython-input-86-11311083fb73>\u001b[0m in \u001b[0;36m<module>\u001b[1;34m()\u001b[0m\n\u001b[1;32m----> 1\u001b[1;33m \u001b[0ma\u001b[0m\u001b[1;33m.\u001b[0m\u001b[0mremove\u001b[0m\u001b[1;33m(\u001b[0m\u001b[1;34m'Bark!'\u001b[0m\u001b[1;33m)\u001b[0m\u001b[1;33m\u001b[0m\u001b[0m\n\u001b[0m",
      "\u001b[1;31mValueError\u001b[0m: list.remove(x): x not in list"
     ]
    }
   ],
   "source": [
    "a.remove('Bark!')"
   ]
  },
  {
   "cell_type": "markdown",
   "metadata": {},
   "source": [
    "#### a.pop(index=-1)"
   ]
  },
  {
   "cell_type": "markdown",
   "metadata": {},
   "source": [
    "    这个方法与.remove()有两个不同之处:\n",
    "    指定要删除的项的索引，而不是对象本身。\n",
    "    该方法返回一个值:已删除的项。\n",
    "    a.pop()简单地删除列表中的最后一项:"
   ]
  },
  {
   "cell_type": "code",
   "execution_count": 87,
   "metadata": {
    "ExecuteTime": {
     "end_time": "2019-09-10T04:29:11.415000Z",
     "start_time": "2019-09-10T04:29:11.406000Z"
    }
   },
   "outputs": [
    {
     "data": {
      "text/plain": [
       "['foo', 'bar', 'baz', 'qux', 'quux']"
      ]
     },
     "execution_count": 87,
     "metadata": {},
     "output_type": "execute_result"
    }
   ],
   "source": [
    "a = ['foo', 'bar', 'baz', 'qux', 'quux', 'corge']\n",
    "a.pop()\n",
    "a"
   ]
  },
  {
   "cell_type": "code",
   "execution_count": 88,
   "metadata": {
    "ExecuteTime": {
     "end_time": "2019-09-10T04:29:12.226000Z",
     "start_time": "2019-09-10T04:29:12.222000Z"
    }
   },
   "outputs": [
    {
     "data": {
      "text/plain": [
       "['foo', 'bar', 'baz', 'qux']"
      ]
     },
     "execution_count": 88,
     "metadata": {},
     "output_type": "execute_result"
    }
   ],
   "source": [
    "a.pop()\n",
    "a"
   ]
  },
  {
   "cell_type": "markdown",
   "metadata": {},
   "source": [
    "如果指定了可选的参数，则删除并返回该索引处的项。可以是负数，如字符串和列表索引:"
   ]
  },
  {
   "cell_type": "code",
   "execution_count": 89,
   "metadata": {
    "ExecuteTime": {
     "end_time": "2019-09-10T04:30:01.293000Z",
     "start_time": "2019-09-10T04:30:01.280000Z"
    }
   },
   "outputs": [
    {
     "data": {
      "text/plain": [
       "['foo', 'baz', 'qux', 'quux', 'corge']"
      ]
     },
     "execution_count": 89,
     "metadata": {},
     "output_type": "execute_result"
    }
   ],
   "source": [
    "a = ['foo', 'bar', 'baz', 'qux', 'quux', 'corge']\n",
    "a.pop(1)\n",
    "a"
   ]
  },
  {
   "cell_type": "code",
   "execution_count": 90,
   "metadata": {
    "ExecuteTime": {
     "end_time": "2019-09-10T04:30:01.894000Z",
     "start_time": "2019-09-10T04:30:01.889000Z"
    }
   },
   "outputs": [
    {
     "data": {
      "text/plain": [
       "['foo', 'baz', 'quux', 'corge']"
      ]
     },
     "execution_count": 90,
     "metadata": {},
     "output_type": "execute_result"
    }
   ],
   "source": [
    "a.pop(-3)\n",
    "a"
   ]
  },
  {
   "cell_type": "markdown",
   "metadata": {},
   "source": [
    "列表是动态的"
   ]
  },
  {
   "cell_type": "code",
   "execution_count": 91,
   "metadata": {
    "ExecuteTime": {
     "end_time": "2019-09-10T04:31:19.115000Z",
     "start_time": "2019-09-10T04:31:19.109000Z"
    }
   },
   "outputs": [
    {
     "data": {
      "text/plain": [
       "['foo', 'bar', 1, 2, 3, 'baz', 'qux', 'quux', 'corge', 3.14159]"
      ]
     },
     "execution_count": 91,
     "metadata": {},
     "output_type": "execute_result"
    }
   ],
   "source": [
    "a = ['foo', 'bar', 'baz', 'qux', 'quux', 'corge']\n",
    "\n",
    "a[2:2] = [1, 2, 3]\n",
    "a += [3.14159]\n",
    "a"
   ]
  },
  {
   "cell_type": "code",
   "execution_count": 92,
   "metadata": {
    "ExecuteTime": {
     "end_time": "2019-09-10T04:31:49.802000Z",
     "start_time": "2019-09-10T04:31:49.782000Z"
    }
   },
   "outputs": [
    {
     "data": {
      "text/plain": [
       "['bar', 'qux', 'quux', 'corge']"
      ]
     },
     "execution_count": 92,
     "metadata": {},
     "output_type": "execute_result"
    }
   ],
   "source": [
    "a = ['foo', 'bar', 'baz', 'qux', 'quux', 'corge']\n",
    "a[2:3] = []\n",
    "del a[0]\n",
    "a"
   ]
  },
  {
   "cell_type": "code",
   "execution_count": 124,
   "metadata": {
    "ExecuteTime": {
     "end_time": "2019-09-10T06:18:33.649000Z",
     "start_time": "2019-09-10T06:18:33.636000Z"
    }
   },
   "outputs": [
    {
     "name": "stdout",
     "output_type": "stream",
     "text": [
      "['bee', 'moth', 'ant']\n",
      "['bee', 'moth']\n",
      "['bee', 'moth', 'ant']\n",
      "['bee', 'ant']\n"
     ]
    }
   ],
   "source": [
    "# Example 1: No index specified\n",
    "a = [\"bee\", \"moth\", \"ant\"]\n",
    "print(a)\n",
    "a.pop()\n",
    "print(a)\n",
    "\n",
    "# Example 2: Index specified\n",
    "a = [\"bee\", \"moth\", \"ant\"]\n",
    "print(a)\n",
    "a.pop(1)\n",
    "print(a)"
   ]
  },
  {
   "cell_type": "markdown",
   "metadata": {},
   "source": [
    "#### clear() 清除列表"
   ]
  },
  {
   "cell_type": "code",
   "execution_count": 125,
   "metadata": {
    "ExecuteTime": {
     "end_time": "2019-09-10T06:19:26.059000Z",
     "start_time": "2019-09-10T06:19:26.050000Z"
    }
   },
   "outputs": [
    {
     "name": "stdout",
     "output_type": "stream",
     "text": [
      "['bee', 'moth', 'ant']\n",
      "[]\n"
     ]
    }
   ],
   "source": [
    "a = [\"bee\", \"moth\", \"ant\"]\n",
    "print(a)\n",
    "a.clear()\n",
    "print(a)"
   ]
  },
  {
   "cell_type": "markdown",
   "metadata": {},
   "source": [
    "#### [python 3.x中列表中元素删除del、remove、pop的用法及区别](https://blog.csdn.net/deqiangxiaozi/article/details/75808863)"
   ]
  },
  {
   "cell_type": "markdown",
   "metadata": {},
   "source": [
    "##### `del `"
   ]
  },
  {
   "cell_type": "code",
   "execution_count": 8,
   "metadata": {
    "ExecuteTime": {
     "end_time": "2019-09-13T00:58:08.204000Z",
     "start_time": "2019-09-13T00:58:08.200000Z"
    }
   },
   "outputs": [
    {
     "name": "stdout",
     "output_type": "stream",
     "text": [
      "['b', 'c']\n"
     ]
    }
   ],
   "source": [
    "a = ['a','b','c']\n",
    "del a[0]  #指定删除0位的元素\n",
    "print(a)"
   ]
  },
  {
   "cell_type": "markdown",
   "metadata": {},
   "source": [
    "##### 使用remove()删除指定值\n",
    "如果不确定或不关心元素在列表中的位置，可以使用remove()根据指定的值来删除元素。"
   ]
  },
  {
   "cell_type": "code",
   "execution_count": 9,
   "metadata": {
    "ExecuteTime": {
     "end_time": "2019-09-13T00:58:58.532000Z",
     "start_time": "2019-09-13T00:58:58.528000Z"
    }
   },
   "outputs": [
    {
     "name": "stdout",
     "output_type": "stream",
     "text": [
      "['a', 'c']\n"
     ]
    }
   ],
   "source": [
    "a = ['a','b','c']\n",
    "a.remove('b') #删除指定元素\n",
    "print(a)"
   ]
  },
  {
   "cell_type": "markdown",
   "metadata": {},
   "source": [
    "##### 使用pop()获取并删除指定位置元素\n",
    "使用pop()同样可以获取列表中指定位置的元素，但在获取完成之后，该元素会自动被删除。如果为pop(off)指定了偏移量，它会返回偏移量对应位置的元素。\n",
    "\n",
    "如果不指定，则默认使用-1。因此pop(0)将返回头元素，而pop()或pop(-1)则会返回列表的尾元素。"
   ]
  },
  {
   "cell_type": "code",
   "execution_count": 10,
   "metadata": {
    "ExecuteTime": {
     "end_time": "2019-09-13T00:59:32.441000Z",
     "start_time": "2019-09-13T00:59:32.436000Z"
    }
   },
   "outputs": [
    {
     "name": "stdout",
     "output_type": "stream",
     "text": [
      "['a', 'b'] ['e', 'f'] c d\n"
     ]
    }
   ],
   "source": [
    "a = ['a','b','c']\n",
    "b = ['d','e','f']\n",
    "# pop的命令，其有返回值，可赋值带出\n",
    "c = a.pop() #默认删除-1位置元素'c',并将删除元素返回值赋值\n",
    "d = b.pop(0) #删除0位元素'd',并将删除元素返回值赋值\n",
    "print(a,b,c,d)"
   ]
  },
  {
   "cell_type": "markdown",
   "metadata": {},
   "source": [
    "#### 列表推导式\n",
    "\n",
    "List Comprehensions\n",
    "\n",
    "[Understanding List Comprehensions in Python 3](Understanding List Comprehensions in Python 3)\n",
    "[Python List Comprehension](https://www.programiz.com/python-programming/list-comprehension)\n",
    "[Python Generators](https://www.dataquest.io/blog/python-generators-tutorial/)\n"
   ]
  },
  {
   "cell_type": "markdown",
   "metadata": {},
   "source": [
    "    list_variable = [x for x in iterable]"
   ]
  },
  {
   "cell_type": "markdown",
   "metadata": {},
   "source": [
    "在数学中，描述列表(或集合、元组或向量)的常用方法是:\n",
    "\n",
    "    S = {x² : x in {0 ... 9}}\n",
    "    V = (1, 2, 4, 8, ..., 2¹²)\n",
    "    M = {x | x in S and x even}"
   ]
  },
  {
   "cell_type": "code",
   "execution_count": 94,
   "metadata": {
    "ExecuteTime": {
     "end_time": "2019-09-10T04:42:08.536000Z",
     "start_time": "2019-09-10T04:42:08.527000Z"
    }
   },
   "outputs": [
    {
     "name": "stdout",
     "output_type": "stream",
     "text": [
      "[0, 1, 4, 9, 16, 25, 36, 49, 64, 81]\n",
      "[1, 2, 4, 8, 16, 32, 64, 128, 256, 512, 1024, 2048, 4096]\n",
      "[0, 4, 16, 36, 64]\n"
     ]
    }
   ],
   "source": [
    "S = [x**2 for x in range(10)]\n",
    "V = [2**i for i in range(13)]\n",
    "M = [x for x in S if x % 2 == 0]\n",
    "\n",
    "print(S)\n",
    "print(V)\n",
    "print(M)"
   ]
  },
  {
   "cell_type": "markdown",
   "metadata": {},
   "source": [
    "数值迭代"
   ]
  },
  {
   "cell_type": "code",
   "execution_count": 95,
   "metadata": {
    "ExecuteTime": {
     "end_time": "2019-09-10T05:36:49.773000Z",
     "start_time": "2019-09-10T05:36:49.768000Z"
    }
   },
   "outputs": [
    {
     "data": {
      "text/plain": [
       "range(0, 10)"
      ]
     },
     "execution_count": 95,
     "metadata": {},
     "output_type": "execute_result"
    }
   ],
   "source": [
    "# Initialize `numbers`\n",
    "numbers = range(10)\n",
    "numbers"
   ]
  },
  {
   "cell_type": "code",
   "execution_count": 96,
   "metadata": {
    "ExecuteTime": {
     "end_time": "2019-09-10T05:37:11.869000Z",
     "start_time": "2019-09-10T05:37:11.864000Z"
    }
   },
   "outputs": [
    {
     "name": "stdout",
     "output_type": "stream",
     "text": [
      "[0, 4, 16, 36, 64]\n"
     ]
    }
   ],
   "source": [
    "# Initialize `new_list`\n",
    "new_list = []\n",
    "\n",
    "# Add values to `new_list`\n",
    "for n in numbers:\n",
    "    if n%2==0:\n",
    "        new_list.append(n**2)\n",
    "\n",
    "# Print `new_list`\n",
    "print(new_list)"
   ]
  },
  {
   "cell_type": "markdown",
   "metadata": {},
   "source": [
    "#### 列表推导式表示"
   ]
  },
  {
   "cell_type": "code",
   "execution_count": 97,
   "metadata": {
    "ExecuteTime": {
     "end_time": "2019-09-10T05:37:45.561000Z",
     "start_time": "2019-09-10T05:37:45.557000Z"
    }
   },
   "outputs": [
    {
     "name": "stdout",
     "output_type": "stream",
     "text": [
      "[0, 4, 16, 36, 64]\n"
     ]
    }
   ],
   "source": [
    "# Create `new_list` \n",
    "new_list = [n**2 for n in numbers if n%2==0]\n",
    "\n",
    "# Print `new_list`\n",
    "print(new_list)"
   ]
  },
  {
   "cell_type": "markdown",
   "metadata": {},
   "source": [
    "带有map()、filter()和reduce()的Lambda函数"
   ]
  },
  {
   "cell_type": "markdown",
   "metadata": {},
   "source": [
    "Lambda函数也称为“匿名函数”或“无名称函数”。这意味着只在创建这类函数时使用它们。Lambda函数从Python中的Lambda关键字借用它们的名称，该关键字用于声明这些函数，而不是标准的def关键字。"
   ]
  },
  {
   "cell_type": "code",
   "execution_count": 98,
   "metadata": {
    "ExecuteTime": {
     "end_time": "2019-09-10T05:40:16.241000Z",
     "start_time": "2019-09-10T05:40:16.235000Z"
    }
   },
   "outputs": [
    {
     "name": "stdout",
     "output_type": "stream",
     "text": [
      "[128608.92408000001, 119750.65635, 122375.32826999998, 124015.74822]\n"
     ]
    }
   ],
   "source": [
    "# Initialize the `kilometer` list \n",
    "kilometer = [39.2, 36.5, 37.3, 37.8]\n",
    "\n",
    "# Construct `feet` with `map()`\n",
    "feet = map(lambda x: float(3280.8399)*x, kilometer)\n",
    "\n",
    "# Print `feet` as a list \n",
    "print(list(feet))"
   ]
  },
  {
   "cell_type": "code",
   "execution_count": 99,
   "metadata": {
    "ExecuteTime": {
     "end_time": "2019-09-10T05:40:57.364000Z",
     "start_time": "2019-09-10T05:40:57.350000Z"
    }
   },
   "outputs": [
    {
     "name": "stdout",
     "output_type": "stream",
     "text": [
      "[128608.92408000001, 119750.65635, 122375.32826999998, 124015.74822]\n"
     ]
    }
   ],
   "source": [
    "# Convert `kilometer` to `feet` \n",
    "feet = [float(3280.8399)*x for x in kilometer]\n",
    "\n",
    "# Print `feet`\n",
    "print(feet)"
   ]
  },
  {
   "cell_type": "markdown",
   "metadata": {},
   "source": [
    "filter()和Lambda函数来列出推导式"
   ]
  },
  {
   "cell_type": "code",
   "execution_count": 101,
   "metadata": {
    "ExecuteTime": {
     "end_time": "2019-09-10T05:42:21.529000Z",
     "start_time": "2019-09-10T05:42:21.523000Z"
    }
   },
   "outputs": [
    {
     "name": "stdout",
     "output_type": "stream",
     "text": [
      "<class 'filter'>\n",
      "[122375, 124015]\n"
     ]
    }
   ],
   "source": [
    "# Map the values of `feet` to integers \n",
    "feet = list(map(int, feet))\n",
    "\n",
    "# Filter `feet` to only include uneven distances \n",
    "uneven = filter(lambda x: x%2, feet)\n",
    "\n",
    "# Check the type of `uneven`\n",
    "print(type(uneven))\n",
    "\n",
    "# Print `uneven` as a list\n",
    "print(list(uneven))"
   ]
  },
  {
   "cell_type": "markdown",
   "metadata": {},
   "source": [
    "重写map()函数，该函数用于将feet列表的元素转换为整数。然后，处理filter()函数:取lambda函数的主体，使用for和in关键字逻辑地连接x和feet:"
   ]
  },
  {
   "cell_type": "code",
   "execution_count": 102,
   "metadata": {
    "ExecuteTime": {
     "end_time": "2019-09-10T05:43:34.750000Z",
     "start_time": "2019-09-10T05:43:34.742000Z"
    }
   },
   "outputs": [
    {
     "name": "stdout",
     "output_type": "stream",
     "text": [
      "[128608, 119750, 122375, 124015]\n",
      "[0, 0, 1, 1]\n"
     ]
    }
   ],
   "source": [
    "# Constructing `feet` \n",
    "feet = [int(x) for x in feet]\n",
    "\n",
    "# Print `feet`\n",
    "print(feet)\n",
    "\n",
    "# Get all uneven distances\n",
    "uneven = [x%2 for x in feet]\n",
    "\n",
    "# Print `uneven`\n",
    "print(uneven)"
   ]
  },
  {
   "cell_type": "markdown",
   "metadata": {},
   "source": [
    "Reduce()和Python中的Lambda函数"
   ]
  },
  {
   "cell_type": "code",
   "execution_count": 103,
   "metadata": {
    "ExecuteTime": {
     "end_time": "2019-09-10T05:44:42.456000Z",
     "start_time": "2019-09-10T05:44:42.446000Z"
    }
   },
   "outputs": [
    {
     "name": "stdout",
     "output_type": "stream",
     "text": [
      "494748\n"
     ]
    }
   ],
   "source": [
    "# Import `reduce` from `functools` \n",
    "from functools import reduce\n",
    "\n",
    "# Reduce `feet` to `reduced_feet`\n",
    "reduced_feet = reduce(lambda x,y: x+y, feet)\n",
    "\n",
    "# Print `reduced_feet`\n",
    "print(reduced_feet)"
   ]
  },
  {
   "cell_type": "code",
   "execution_count": 104,
   "metadata": {
    "ExecuteTime": {
     "end_time": "2019-09-10T05:45:00.795000Z",
     "start_time": "2019-09-10T05:45:00.788000Z"
    }
   },
   "outputs": [
    {
     "name": "stdout",
     "output_type": "stream",
     "text": [
      "494748\n"
     ]
    }
   ],
   "source": [
    "# Construct `reduced_feet`\n",
    "reduced_feet = sum([x for x in feet])\n",
    "\n",
    "# Print `reduced_feet`\n",
    "print(reduced_feet)"
   ]
  },
  {
   "cell_type": "code",
   "execution_count": 105,
   "metadata": {
    "ExecuteTime": {
     "end_time": "2019-09-10T05:45:35.465000Z",
     "start_time": "2019-09-10T05:45:35.458000Z"
    }
   },
   "outputs": [
    {
     "name": "stdout",
     "output_type": "stream",
     "text": [
      "[64304.0, 59875.0]\n"
     ]
    }
   ],
   "source": [
    "# Define `uneven`\n",
    "uneven = [x/2 for x in feet if x%2==0]\n",
    "\n",
    "# Print `uneven` \n",
    "print(uneven)"
   ]
  },
  {
   "cell_type": "code",
   "execution_count": 106,
   "metadata": {
    "ExecuteTime": {
     "end_time": "2019-09-10T05:45:54.356000Z",
     "start_time": "2019-09-10T05:45:54.350000Z"
    }
   },
   "outputs": [
    {
     "name": "stdout",
     "output_type": "stream",
     "text": [
      "[64304.0, 59875.0]\n"
     ]
    }
   ],
   "source": [
    "# Initialize and empty list `uneven` \n",
    "uneven = []\n",
    "\n",
    "# Add values to `uneven` \n",
    "for x in feet:\n",
    "    if x % 2 == 0:\n",
    "        x = x / 2\n",
    "        uneven.append(x)\n",
    "\n",
    "# Print `uneven` \n",
    "print(uneven)"
   ]
  },
  {
   "cell_type": "markdown",
   "metadata": {},
   "source": [
    "##### 多重条件的列表推导式"
   ]
  },
  {
   "cell_type": "code",
   "execution_count": 107,
   "metadata": {
    "ExecuteTime": {
     "end_time": "2019-09-10T05:46:29.347000Z",
     "start_time": "2019-09-10T05:46:29.338000Z"
    }
   },
   "outputs": [
    {
     "name": "stdout",
     "output_type": "stream",
     "text": [
      "[0, 6, 12, 18, 24, 30, 36, 42, 48, 54, 60, 66, 72, 78, 84, 90, 96]\n"
     ]
    }
   ],
   "source": [
    "divided = [x for x in range(100) if x % 2 == 0 if x % 6 == 0]\n",
    "\n",
    "print(divided)"
   ]
  },
  {
   "cell_type": "code",
   "execution_count": 108,
   "metadata": {
    "ExecuteTime": {
     "end_time": "2019-09-10T05:48:08.669000Z",
     "start_time": "2019-09-10T05:48:08.664000Z"
    }
   },
   "outputs": [
    {
     "data": {
      "text/plain": [
       "[128609, 119755, 122376, 124016]"
      ]
     },
     "execution_count": 108,
     "metadata": {},
     "output_type": "execute_result"
    }
   ],
   "source": [
    "[x+1 if x >= 120000 else x+5 for x in feet]"
   ]
  },
  {
   "cell_type": "markdown",
   "metadata": {},
   "source": [
    "##### 嵌套列表推导式 Nested List Comprehensions"
   ]
  },
  {
   "cell_type": "code",
   "execution_count": 109,
   "metadata": {
    "ExecuteTime": {
     "end_time": "2019-09-10T05:49:21.273000Z",
     "start_time": "2019-09-10T05:49:21.260000Z"
    }
   },
   "outputs": [
    {
     "data": {
      "text/plain": [
       "[1, 2, 3, 4, 5, 6, 7, 8]"
      ]
     },
     "execution_count": 109,
     "metadata": {},
     "output_type": "execute_result"
    }
   ],
   "source": [
    "list_of_list = [[1,2,3],[4,5,6],[7,8]]\n",
    "\n",
    "# Flatten `list_of_list`\n",
    "[y for x in list_of_list for y in x]"
   ]
  },
  {
   "cell_type": "code",
   "execution_count": 110,
   "metadata": {
    "ExecuteTime": {
     "end_time": "2019-09-10T05:50:16.187000Z",
     "start_time": "2019-09-10T05:50:16.175000Z"
    }
   },
   "outputs": [
    {
     "data": {
      "text/plain": [
       "[[1, 4, 7], [2, 5, 8], [3, 6, 9]]"
      ]
     },
     "execution_count": 110,
     "metadata": {},
     "output_type": "execute_result"
    }
   ],
   "source": [
    "matrix = [[1,2,3],[4,5,6],[7,8,9]]\n",
    "\n",
    "[[row[i] for row in matrix] for i in range(3)]"
   ]
  },
  {
   "cell_type": "code",
   "execution_count": 111,
   "metadata": {
    "ExecuteTime": {
     "end_time": "2019-09-10T05:51:35.771000Z",
     "start_time": "2019-09-10T05:51:35.764000Z"
    },
    "collapsed": true
   },
   "outputs": [],
   "source": [
    "transposed = []\n",
    "\n",
    "for i in range(3):\n",
    "    transposed_row = []\n",
    "    for row in matrix:\n",
    "        transposed_row.append(row[i])\n",
    "    transposed.append(transposed_row)"
   ]
  },
  {
   "cell_type": "code",
   "execution_count": 112,
   "metadata": {
    "ExecuteTime": {
     "end_time": "2019-09-10T05:51:36.037000Z",
     "start_time": "2019-09-10T05:51:36.032000Z"
    }
   },
   "outputs": [
    {
     "data": {
      "text/plain": [
       "[[1, 4, 7], [2, 5, 8], [3, 6, 9]]"
      ]
     },
     "execution_count": 112,
     "metadata": {},
     "output_type": "execute_result"
    }
   ],
   "source": [
    "transposed"
   ]
  },
  {
   "cell_type": "code",
   "execution_count": 113,
   "metadata": {
    "ExecuteTime": {
     "end_time": "2019-09-10T05:51:59.651000Z",
     "start_time": "2019-09-10T05:51:59.640000Z"
    }
   },
   "outputs": [
    {
     "data": {
      "text/plain": [
       "[[0, 0, 0, 0], [0, 0, 0, 0], [0, 0, 0, 0]]"
      ]
     },
     "execution_count": 113,
     "metadata": {},
     "output_type": "execute_result"
    }
   ],
   "source": [
    "matrix = [[0 for col in range(4)] for row in range(3)]\n",
    "\n",
    "matrix"
   ]
  },
  {
   "cell_type": "code",
   "execution_count": 114,
   "metadata": {
    "ExecuteTime": {
     "end_time": "2019-09-10T05:52:17.506000Z",
     "start_time": "2019-09-10T05:52:17.500000Z"
    },
    "collapsed": true
   },
   "outputs": [],
   "source": [
    "for x in range(3):\n",
    "    nested = []\n",
    "    matrix.append(nested)\n",
    "    for row in range(4):\n",
    "        nested.append(0)"
   ]
  },
  {
   "cell_type": "code",
   "execution_count": 115,
   "metadata": {
    "ExecuteTime": {
     "end_time": "2019-09-10T05:52:23.627000Z",
     "start_time": "2019-09-10T05:52:23.623000Z"
    }
   },
   "outputs": [
    {
     "data": {
      "text/plain": [
       "[0, 0, 0, 0]"
      ]
     },
     "execution_count": 115,
     "metadata": {},
     "output_type": "execute_result"
    }
   ],
   "source": [
    "nested"
   ]
  },
  {
   "cell_type": "code",
   "execution_count": 116,
   "metadata": {
    "ExecuteTime": {
     "end_time": "2019-09-10T05:52:52.560000Z",
     "start_time": "2019-09-10T05:52:52.553000Z"
    }
   },
   "outputs": [
    {
     "data": {
      "text/plain": [
       "[[128608, 119750, 122375, 124015],\n",
       " [128608, 119750, 122375, 124015],\n",
       " [128608, 119750, 122375, 124015],\n",
       " [128608, 119750, 122375, 124015]]"
      ]
     },
     "execution_count": 116,
     "metadata": {},
     "output_type": "execute_result"
    }
   ],
   "source": [
    "[[int(x) for x in feet] for x in feet]"
   ]
  },
  {
   "cell_type": "markdown",
   "metadata": {},
   "source": [
    "#### 嵌套列表展开\n",
    "\n",
    "将嵌套列表转换为平面列表\n",
    "\n",
    "[Convert Nested List To A Flat List In Python](https://djangocentral.com/nested-list-to-flat-list/)"
   ]
  },
  {
   "cell_type": "code",
   "execution_count": 40,
   "metadata": {
    "ExecuteTime": {
     "end_time": "2019-09-17T04:21:50.733000Z",
     "start_time": "2019-09-17T04:21:50.727000Z"
    }
   },
   "outputs": [
    {
     "name": "stdout",
     "output_type": "stream",
     "text": [
      "[1, 2, 3, 4, 5, 6]\n"
     ]
    }
   ],
   "source": [
    "def flatten(li):\n",
    "    return sum(([x] if not isinstance(x, list) else flatten(x)\n",
    "                for x in li), [])\n",
    "\n",
    "print(flatten([1, 2, [3], [4, [5, 6]]]))"
   ]
  },
  {
   "cell_type": "markdown",
   "metadata": {},
   "source": [
    "##### Flatten List using Inbuilt reduce Function"
   ]
  },
  {
   "cell_type": "markdown",
   "metadata": {},
   "source": [
    "###### model 1"
   ]
  },
  {
   "cell_type": "code",
   "execution_count": 41,
   "metadata": {
    "ExecuteTime": {
     "end_time": "2019-09-17T04:22:25.077000Z",
     "start_time": "2019-09-17T04:22:25.072000Z"
    }
   },
   "outputs": [
    {
     "name": "stdout",
     "output_type": "stream",
     "text": [
      "[14, 215, 383, 87, 298, 374, 2, 3, 4, 5, 6, 7]\n"
     ]
    }
   ],
   "source": [
    "import functools\n",
    "import operator\n",
    "\n",
    "li = [[14], [215, 383, 87], [298], [374], [2, 3, 4, 5, 6, 7]]\n",
    "flat_list = functools.reduce(operator.concat, li)\n",
    "print(flat_list)"
   ]
  },
  {
   "cell_type": "markdown",
   "metadata": {},
   "source": [
    "###### Mode2"
   ]
  },
  {
   "cell_type": "code",
   "execution_count": 42,
   "metadata": {
    "ExecuteTime": {
     "end_time": "2019-09-17T04:22:50.678000Z",
     "start_time": "2019-09-17T04:22:50.672000Z"
    }
   },
   "outputs": [
    {
     "name": "stdout",
     "output_type": "stream",
     "text": [
      "[14, 215, 383, 87, 298, 374, 2, 3, 4, 5, 6, 7]\n"
     ]
    }
   ],
   "source": [
    "from functools import reduce\n",
    "\n",
    "li = [[14], [215, 383, 87], [298], [374], [2, 3, 4, 5, 6, 7]]\n",
    "flat_list = reduce(lambda x, y: x+y, li)\n",
    "print(flat_list)"
   ]
  },
  {
   "cell_type": "markdown",
   "metadata": {},
   "source": [
    "###### Method 3"
   ]
  },
  {
   "cell_type": "code",
   "execution_count": 43,
   "metadata": {
    "ExecuteTime": {
     "end_time": "2019-09-17T04:23:15.724000Z",
     "start_time": "2019-09-17T04:23:15.709000Z"
    }
   },
   "outputs": [
    {
     "name": "stdout",
     "output_type": "stream",
     "text": [
      "[14, 215, 383, 87, 298, 374, 2, 3, 4, 5, 6, 7]\n"
     ]
    }
   ],
   "source": [
    "from itertools import chain\n",
    "\n",
    "li = [[14], [215, 383, 87], [298], [374], [2, 3, 4, 5, 6, 7]]\n",
    "flat_list = list(chain.from_iterable(li))\n",
    "print(flat_list)"
   ]
  },
  {
   "cell_type": "markdown",
   "metadata": {},
   "source": [
    "##### Flatten List Using List Compression"
   ]
  },
  {
   "cell_type": "code",
   "execution_count": 44,
   "metadata": {
    "ExecuteTime": {
     "end_time": "2019-09-17T04:24:33.513000Z",
     "start_time": "2019-09-17T04:24:33.508000Z"
    }
   },
   "outputs": [
    {
     "name": "stdout",
     "output_type": "stream",
     "text": [
      "[14, 215, 383, 87, 298, 374, 2, 3, 4, 5, 6, 7]\n"
     ]
    }
   ],
   "source": [
    "li = [[14], [215, 383, 87], [298], [374], [2, 3, 4, 5, 6, 7]]\n",
    "\n",
    "flat_list = [item for sublist in li for item in sublist]\n",
    "print(flat_list)"
   ]
  },
  {
   "cell_type": "markdown",
   "metadata": {},
   "source": [
    "##### Flatten List Using NumPy"
   ]
  },
  {
   "cell_type": "code",
   "execution_count": 45,
   "metadata": {
    "ExecuteTime": {
     "end_time": "2019-09-17T04:25:24.057000Z",
     "start_time": "2019-09-17T04:25:24.051000Z"
    }
   },
   "outputs": [
    {
     "name": "stdout",
     "output_type": "stream",
     "text": [
      "[14, 215, 383, 87, 298, 374, 2, 3, 4, 5, 6, 7]\n"
     ]
    }
   ],
   "source": [
    "import numpy as np\n",
    "\n",
    "li = [[14], [215, 383, 87], [298], [374], [2, 3, 4, 5, 6, 7]]\n",
    "\n",
    "flat_list = list(np.concatenate(li).flat)\n",
    "print(flat_list)"
   ]
  },
  {
   "cell_type": "markdown",
   "metadata": {},
   "source": [
    "[How to make a flat list out of list of lists](https://stackoverflow.com/questions/952914/how-to-make-a-flat-list-out-of-list-of-lists)"
   ]
  },
  {
   "cell_type": "code",
   "execution_count": 48,
   "metadata": {
    "ExecuteTime": {
     "end_time": "2019-09-17T07:21:48.161000Z",
     "start_time": "2019-09-17T07:21:23.864000Z"
    }
   },
   "outputs": [
    {
     "name": "stderr",
     "output_type": "stream",
     "text": [
      "  0%|                                                    | 0/5 [00:00<?, ?it/s]\n",
      "  0%|                                                    | 0/7 [00:00<?, ?it/s]\n",
      " 14%|██████▎                                     | 1/7 [00:00<00:03,  1.59it/s]\n",
      " 29%|████████████▌                               | 2/7 [00:01<00:02,  1.68it/s]\n",
      " 43%|██████████████████▊                         | 3/7 [00:01<00:02,  1.76it/s]\n",
      " 57%|█████████████████████████▏                  | 4/7 [00:02<00:02,  1.49it/s]\n",
      " 71%|███████████████████████████████▍            | 5/7 [00:03<00:01,  1.36it/s]\n",
      " 86%|█████████████████████████████████████▋      | 6/7 [00:03<00:00,  1.48it/s]\n",
      "100%|████████████████████████████████████████████| 7/7 [00:04<00:00,  1.61it/s]\n",
      " 20%|████████▊                                   | 1/5 [00:04<00:17,  4.48s/it]\n",
      "  0%|                                                    | 0/7 [00:00<?, ?it/s]\n",
      " 14%|██████▎                                     | 1/7 [00:00<00:05,  1.15it/s]\n",
      " 29%|████████████▌                               | 2/7 [00:01<00:04,  1.14it/s]\n",
      " 43%|██████████████████▊                         | 3/7 [00:02<00:03,  1.10it/s]\n",
      " 57%|█████████████████████████▏                  | 4/7 [00:03<00:02,  1.20it/s]\n",
      " 71%|███████████████████████████████▍            | 5/7 [00:03<00:01,  1.35it/s]\n",
      " 86%|█████████████████████████████████████▋      | 6/7 [00:04<00:00,  1.55it/s]\n",
      "100%|████████████████████████████████████████████| 7/7 [00:04<00:00,  2.01it/s]\n",
      " 40%|█████████████████▌                          | 2/5 [00:08<00:13,  4.49s/it]\n",
      "  0%|                                                    | 0/7 [00:00<?, ?it/s]\n",
      " 14%|██████▎                                     | 1/7 [00:00<00:04,  1.39it/s]\n",
      " 29%|████████████▌                               | 2/7 [00:01<00:03,  1.49it/s]\n",
      " 43%|██████████████████▊                         | 3/7 [00:01<00:02,  1.48it/s]\n",
      " 57%|█████████████████████████▏                  | 4/7 [00:02<00:01,  1.57it/s]\n",
      " 71%|███████████████████████████████▍            | 5/7 [00:03<00:01,  1.51it/s]\n",
      " 86%|█████████████████████████████████████▋      | 6/7 [00:03<00:00,  1.66it/s]\n",
      "100%|████████████████████████████████████████████| 7/7 [00:04<00:00,  1.57it/s]\n",
      " 60%|██████████████████████████▍                 | 3/5 [00:13<00:08,  4.47s/it]\n",
      "  0%|                                                    | 0/7 [00:00<?, ?it/s]\n",
      " 14%|██████▎                                     | 1/7 [00:00<00:04,  1.37it/s]\n",
      " 29%|████████████▌                               | 2/7 [00:01<00:03,  1.29it/s]\n",
      " 43%|██████████████████▊                         | 3/7 [00:02<00:03,  1.27it/s]\n",
      " 57%|█████████████████████████▏                  | 4/7 [00:02<00:02,  1.38it/s]\n",
      " 71%|███████████████████████████████▍            | 5/7 [00:03<00:01,  1.47it/s]\n",
      " 86%|█████████████████████████████████████▋      | 6/7 [00:04<00:00,  1.43it/s]\n",
      "100%|████████████████████████████████████████████| 7/7 [00:05<00:00,  1.36it/s]\n",
      " 80%|███████████████████████████████████▏        | 4/5 [00:18<00:04,  4.68s/it]\n",
      "  0%|                                                    | 0/7 [00:00<?, ?it/s]\n",
      " 14%|██████▎                                     | 1/7 [00:00<00:04,  1.30it/s]\n",
      " 29%|████████████▌                               | 2/7 [00:01<00:04,  1.20it/s]\n",
      " 43%|██████████████████▊                         | 3/7 [00:02<00:02,  1.36it/s]\n",
      " 57%|█████████████████████████▏                  | 4/7 [00:03<00:02,  1.33it/s]\n",
      " 71%|███████████████████████████████▍            | 5/7 [00:03<00:01,  1.53it/s]\n",
      " 86%|█████████████████████████████████████▋      | 6/7 [00:04<00:00,  1.41it/s]\n",
      "100%|████████████████████████████████████████████| 7/7 [00:05<00:00,  1.27it/s]\n",
      "100%|████████████████████████████████████████████| 5/5 [00:23<00:00,  4.86s/it]\n"
     ]
    },
    {
     "data": {
      "image/png": "[encoded data removed]",
      "text/plain": [
       "<Figure size 432x288 with 1 Axes>"
      ]
     },
     "metadata": {},
     "output_type": "display_data"
    }
   ],
   "source": [
    "import functools\n",
    "import itertools\n",
    "import numpy\n",
    "import operator\n",
    "import perfplot\n",
    "\n",
    "\n",
    "def forfor(a):\n",
    "    return [item for sublist in a for item in sublist]\n",
    "\n",
    "\n",
    "def sum_brackets(a):\n",
    "    return sum(a, [])\n",
    "\n",
    "\n",
    "def functools_reduce(a):\n",
    "    return functools.reduce(operator.concat, a)\n",
    "\n",
    "\n",
    "def functools_reduce_iconcat(a):\n",
    "    return functools.reduce(operator.iconcat, a, [])\n",
    "\n",
    "\n",
    "def itertools_chain(a):\n",
    "    return list(itertools.chain.from_iterable(a))\n",
    "\n",
    "\n",
    "def numpy_flat(a):\n",
    "    return list(numpy.array(a).flat)\n",
    "\n",
    "\n",
    "def numpy_concatenate(a):\n",
    "    return list(numpy.concatenate(a))\n",
    "\n",
    "\n",
    "perfplot.show(\n",
    "    setup=lambda n: [list(range(10))] * n,\n",
    "    kernels=[\n",
    "        forfor, sum_brackets, functools_reduce, functools_reduce_iconcat,\n",
    "        itertools_chain, numpy_flat, numpy_concatenate\n",
    "        ],\n",
    "    n_range=[2**k for k in range(5)],\n",
    "    logx=True,\n",
    "    logy=True,\n",
    "    xlabel='num lists'\n",
    "    )"
   ]
  },
  {
   "cell_type": "markdown",
   "metadata": {},
   "source": [
    "#### 排序"
   ]
  },
  {
   "cell_type": "markdown",
   "metadata": {},
   "source": [
    "##### sort()\n",
    "\n",
    "    sort(key=None, reverse=False)"
   ]
  },
  {
   "cell_type": "code",
   "execution_count": 128,
   "metadata": {
    "ExecuteTime": {
     "end_time": "2019-09-10T06:25:21.425000Z",
     "start_time": "2019-09-10T06:25:21.420000Z"
    }
   },
   "outputs": [
    {
     "name": "stdout",
     "output_type": "stream",
     "text": [
      "[1, 2, 3, 4, 5, 6]\n"
     ]
    }
   ],
   "source": [
    "a = [3,6,5,2,4,1]\n",
    "a.sort()\n",
    "print(a)"
   ]
  },
  {
   "cell_type": "code",
   "execution_count": 129,
   "metadata": {
    "ExecuteTime": {
     "end_time": "2019-09-10T06:25:22.045000Z",
     "start_time": "2019-09-10T06:25:22.041000Z"
    }
   },
   "outputs": [
    {
     "name": "stdout",
     "output_type": "stream",
     "text": [
      "[6, 5, 4, 3, 2, 1]\n"
     ]
    }
   ],
   "source": [
    "a = [3,6,5,2,4,1]\n",
    "a.sort(reverse=True)\n",
    "print(a)"
   ]
  },
  {
   "cell_type": "code",
   "execution_count": 130,
   "metadata": {
    "ExecuteTime": {
     "end_time": "2019-09-10T06:25:22.540000Z",
     "start_time": "2019-09-10T06:25:22.536000Z"
    }
   },
   "outputs": [
    {
     "name": "stdout",
     "output_type": "stream",
     "text": [
      "['ant', 'bee', 'moth', 'wasp']\n"
     ]
    }
   ],
   "source": [
    "a = [\"bee\", \"wasp\", \"moth\", \"ant\"]\n",
    "a.sort()\n",
    "print(a)"
   ]
  },
  {
   "cell_type": "code",
   "execution_count": 131,
   "metadata": {
    "ExecuteTime": {
     "end_time": "2019-09-10T06:25:23.035000Z",
     "start_time": "2019-09-10T06:25:23.025000Z"
    }
   },
   "outputs": [
    {
     "name": "stdout",
     "output_type": "stream",
     "text": [
      "['bee', 'wasp', 'butterfly']\n"
     ]
    }
   ],
   "source": [
    "a = [\"bee\", \"wasp\", \"butterfly\"]\n",
    "a.sort(key=len)\n",
    "print(a)"
   ]
  },
  {
   "cell_type": "code",
   "execution_count": 132,
   "metadata": {
    "ExecuteTime": {
     "end_time": "2019-09-10T06:25:24.015000Z",
     "start_time": "2019-09-10T06:25:24.006000Z"
    }
   },
   "outputs": [
    {
     "name": "stdout",
     "output_type": "stream",
     "text": [
      "['butterfly', 'wasp', 'bee']\n"
     ]
    }
   ],
   "source": [
    "a = [\"bee\", \"wasp\", \"butterfly\"]\n",
    "a.sort(key=len, reverse=True)\n",
    "print(a)"
   ]
  },
  {
   "cell_type": "markdown",
   "metadata": {},
   "source": [
    "#### reverse() 翻转列表"
   ]
  },
  {
   "cell_type": "code",
   "execution_count": 133,
   "metadata": {
    "ExecuteTime": {
     "end_time": "2019-09-10T06:26:28.337000Z",
     "start_time": "2019-09-10T06:26:28.324000Z"
    }
   },
   "outputs": [
    {
     "name": "stdout",
     "output_type": "stream",
     "text": [
      "[1, 4, 2, 5, 6, 3]\n",
      "['ant', 'moth', 'wasp', 'bee']\n"
     ]
    }
   ],
   "source": [
    "a = [3,6,5,2,4,1]\n",
    "a.reverse()\n",
    "print(a)\n",
    "\n",
    "a = [\"bee\", \"wasp\", \"moth\", \"ant\"]\n",
    "a.reverse()\n",
    "print(a)"
   ]
  },
  {
   "cell_type": "markdown",
   "metadata": {},
   "source": [
    "#### copy() 浅拷贝\n",
    "\n",
    "返回列表的浅拷贝。相当于一个`[:]`。"
   ]
  },
  {
   "cell_type": "code",
   "execution_count": 134,
   "metadata": {
    "ExecuteTime": {
     "end_time": "2019-09-10T06:29:52.355000Z",
     "start_time": "2019-09-10T06:29:52.339000Z"
    }
   },
   "outputs": [
    {
     "name": "stdout",
     "output_type": "stream",
     "text": [
      "['bee', 'wasp', 'moth', 'ant']\n",
      "['bee', 'wasp', 'moth', 'ant']\n",
      " ----------------------- \n",
      "['bee', 'wasp', 'moth']\n",
      "['bee', 'wasp', 'moth', 'ant']\n",
      " ----------------------- \n",
      "['bee', 'wasp', 'moth']\n",
      "['bee', 'wasp', 'moth', 'fish']\n"
     ]
    }
   ],
   "source": [
    "# WITHOUT copy()\n",
    "a = [\"bee\", \"wasp\", \"moth\"]\n",
    "b = a  # 当修改列表b的元素时，列表a的元素也跟着改变\n",
    "b.append(\"ant\")\n",
    "print(a)\n",
    "print(b)\n",
    "print(\" ----------------------- \")\n",
    "\n",
    "# WITH copy()\n",
    "a = [\"bee\", \"wasp\", \"moth\"]\n",
    "b = a.copy()  # 修改b，不影响a\n",
    "b.append(\"ant\")\n",
    "print(a)\n",
    "print(b)\n",
    "print(\" ----------------------- \")\n",
    "\n",
    "# WITH copy()\n",
    "a = [\"bee\", \"wasp\", \"moth\"]\n",
    "c = a[:]\n",
    "c.append(\"fish\")\n",
    "print(a)\n",
    "print(c)"
   ]
  },
  {
   "cell_type": "markdown",
   "metadata": {},
   "source": [
    "#### [How to Use sorted() and sort() in Python](https://realpython.com/python-sort/)"
   ]
  },
  {
   "cell_type": "markdown",
   "metadata": {},
   "source": [
    "##### 数值排序 Sorting Numbers"
   ]
  },
  {
   "cell_type": "code",
   "execution_count": 139,
   "metadata": {
    "ExecuteTime": {
     "end_time": "2019-09-10T06:51:51.182000Z",
     "start_time": "2019-09-10T06:51:51.178000Z"
    }
   },
   "outputs": [
    {
     "data": {
      "text/plain": [
       "[1, 3, 6, 9]"
      ]
     },
     "execution_count": 139,
     "metadata": {},
     "output_type": "execute_result"
    }
   ],
   "source": [
    "numbers = [6, 9, 3, 1]\n",
    "sorted(numbers)"
   ]
  },
  {
   "cell_type": "code",
   "execution_count": 140,
   "metadata": {
    "ExecuteTime": {
     "end_time": "2019-09-10T06:51:52.149000Z",
     "start_time": "2019-09-10T06:51:52.140000Z"
    }
   },
   "outputs": [
    {
     "data": {
      "text/plain": [
       "[6, 9, 3, 1]"
      ]
     },
     "execution_count": 140,
     "metadata": {},
     "output_type": "execute_result"
    }
   ],
   "source": [
    "numbers"
   ]
  },
  {
   "cell_type": "markdown",
   "metadata": {},
   "source": [
    "以上列表numbers经过sorted()排序后并没有发生改变，即原列表并没有发生变化\n",
    "\n",
    "这段代码的输出是一个新的排序列表。打印原始变量时，初始值不变。"
   ]
  },
  {
   "cell_type": "markdown",
   "metadata": {},
   "source": [
    "    sort()函数不需要定义。它是一个内置函数，可以在Python的标准安装中使用。\n",
    "    在没有附加参数或参数的情况下，sort()按升序排列数值，即从最小到最大。\n",
    "    原始的numbers变量没有改变，因为已排序的()提供已排序的输出，并且不更改原始值。\n",
    "    当调用ordered()时，它提供一个有序列表作为返回值。"
   ]
  },
  {
   "cell_type": "code",
   "execution_count": 141,
   "metadata": {
    "ExecuteTime": {
     "end_time": "2019-09-10T06:55:30.806000Z",
     "start_time": "2019-09-10T06:55:30.801000Z"
    }
   },
   "outputs": [
    {
     "name": "stdout",
     "output_type": "stream",
     "text": [
      "[1, 3, 6, 9]\n",
      "[6, 9, 3, 1]\n"
     ]
    }
   ],
   "source": [
    "numbers = [6, 9, 3, 1]\n",
    "numbers_sorted = sorted(numbers)\n",
    "print(numbers_sorted)\n",
    "\n",
    "print(numbers)"
   ]
  },
  {
   "cell_type": "code",
   "execution_count": 142,
   "metadata": {
    "ExecuteTime": {
     "end_time": "2019-09-10T06:56:19.416000Z",
     "start_time": "2019-09-10T06:56:19.407000Z"
    }
   },
   "outputs": [
    {
     "name": "stdout",
     "output_type": "stream",
     "text": [
      "[1, 3, 6, 9]\n",
      "[0, 1, 5, 10]\n"
     ]
    }
   ],
   "source": [
    "numbers_tuple = (6, 9, 3, 1)\n",
    "numbers_set = {5, 5, 10, 1, 0}\n",
    "numbers_tuple_sorted = sorted(numbers_tuple)\n",
    "numbers_set_sorted = sorted(numbers_set)\n",
    "print(numbers_tuple_sorted)\n",
    "\n",
    "print(numbers_set_sorted)"
   ]
  },
  {
   "cell_type": "markdown",
   "metadata": {},
   "source": [
    "**注意**，即使输入是一个集合和一个元组，输出也是一个列表，因为sort()根据定义返回一个新列表。如果返回的对象需要匹配输入类型，则可以将其转换为新类型。如果试图将结果列表转换回集合，请小心，因为集合的定义是无序的:"
   ]
  },
  {
   "cell_type": "code",
   "execution_count": 143,
   "metadata": {
    "ExecuteTime": {
     "end_time": "2019-09-10T06:57:39.731000Z",
     "start_time": "2019-09-10T06:57:39.723000Z"
    }
   },
   "outputs": [
    {
     "name": "stdout",
     "output_type": "stream",
     "text": [
      "[1, 3, 6, 9]\n",
      "[0, 1, 5, 10]\n",
      "(1, 3, 6, 9)\n",
      "{0, 1, 10, 5}\n"
     ]
    }
   ],
   "source": [
    "numbers_tuple = (6, 9, 3, 1)\n",
    "numbers_set = {5, 5, 10, 1, 0}\n",
    "numbers_tuple_sorted = sorted(numbers_tuple)\n",
    "numbers_set_sorted = sorted(numbers_set)\n",
    "print(numbers_tuple_sorted)\n",
    "\n",
    "print(numbers_set_sorted)\n",
    "\n",
    "print(tuple(numbers_tuple_sorted))\n",
    "\n",
    "print(set(numbers_set_sorted))\n"
   ]
  },
  {
   "cell_type": "markdown",
   "metadata": {},
   "source": [
    "##### 字符串排序"
   ]
  },
  {
   "cell_type": "markdown",
   "metadata": {},
   "source": [
    "str类型的排序类似于列表和元组等其他迭代器。"
   ]
  },
  {
   "cell_type": "code",
   "execution_count": 22,
   "metadata": {
    "ExecuteTime": {
     "end_time": "2019-09-14T07:41:46.532000Z",
     "start_time": "2019-09-14T07:41:46.521000Z"
    }
   },
   "outputs": [
    {
     "name": "stdout",
     "output_type": "stream",
     "text": [
      "Original list: ['a', 'e', 'i', 'o', 'u'] Memory addr: 136014472\n",
      "Copy of the list: ['u', 'o', 'i', 'e', 'a'] Memory addr: 136014792\n"
     ]
    }
   ],
   "source": [
    "theList = ['a','e','i','o','u']\n",
    "newList = sorted(theList, reverse=True)\n",
    "print(\"Original list:\", theList, \"Memory addr:\", id(theList))\n",
    "print(\"Copy of the list:\", newList, \"Memory addr:\", id(newList))"
   ]
  },
  {
   "cell_type": "code",
   "execution_count": 144,
   "metadata": {
    "ExecuteTime": {
     "end_time": "2019-09-10T06:59:21.729000Z",
     "start_time": "2019-09-10T06:59:21.720000Z"
    }
   },
   "outputs": [
    {
     "name": "stdout",
     "output_type": "stream",
     "text": [
      "['1', '2', '3', '4', '5']\n",
      "[' ', ' ', ' ', 'I', 'e', 'i', 'k', 'l', 'o', 'o', 'r', 's', 't', 't']\n"
     ]
    }
   ],
   "source": [
    "string_number_value = '34521'\n",
    "string_value = 'I like to sort'\n",
    "sorted_string_number = sorted(string_number_value)\n",
    "sorted_string = sorted(string_value)\n",
    "print(sorted_string_number)\n",
    "\n",
    "print(sorted_string)"
   ]
  },
  {
   "cell_type": "markdown",
   "metadata": {},
   "source": [
    "sorted()将把str看作列表，并遍历每个元素。在str中，每个元素表示string . ordered()中的每个字符不会以不同的方式对待一个句子，并且它将对每个字符(包括空格)进行排序。"
   ]
  },
  {
   "cell_type": "markdown",
   "metadata": {},
   "source": [
    "`.split()`可以更改此行为并清理输出，`.join()`可以将它们重新组合在一起"
   ]
  },
  {
   "cell_type": "code",
   "execution_count": 146,
   "metadata": {
    "ExecuteTime": {
     "end_time": "2019-09-10T07:01:43.103000Z",
     "start_time": "2019-09-10T07:01:43.098000Z"
    }
   },
   "outputs": [
    {
     "name": "stdout",
     "output_type": "stream",
     "text": [
      "['I', 'like', 'sort', 'to']\n",
      "I like sort to\n",
      "Ilikesortto\n"
     ]
    }
   ],
   "source": [
    "string_value = 'I like to sort'\n",
    "sorted_string = sorted(string_value.split())\n",
    "print(sorted_string)\n",
    "\n",
    "print(' '.join(sorted_string))\n",
    "print(''.join(sorted_string))"
   ]
  },
  {
   "cell_type": "markdown",
   "metadata": {},
   "source": [
    "无法对数据类型不可比较的列表排序()\n",
    "\n",
    "有些数据类型不能使用sorted()相互比较，因为它们太不一样了。如果试图在包含不可比较数据的列表上使用ordered ()， Python将返回一个错误。在这个例子中，同一个列表中的None和int不能排序，因为它们不兼容:"
   ]
  },
  {
   "cell_type": "code",
   "execution_count": 147,
   "metadata": {
    "ExecuteTime": {
     "end_time": "2019-09-10T07:03:04.331000Z",
     "start_time": "2019-09-10T07:03:04.322000Z"
    }
   },
   "outputs": [
    {
     "ename": "TypeError",
     "evalue": "'<' not supported between instances of 'int' and 'NoneType'",
     "output_type": "error",
     "traceback": [
      "\u001b[1;31m---------------------------------------------------------------------------\u001b[0m",
      "\u001b[1;31mTypeError\u001b[0m                                 Traceback (most recent call last)",
      "\u001b[1;32m<ipython-input-147-dcb422ac0285>\u001b[0m in \u001b[0;36m<module>\u001b[1;34m()\u001b[0m\n\u001b[0;32m      1\u001b[0m \u001b[0mmixed_types\u001b[0m \u001b[1;33m=\u001b[0m \u001b[1;33m[\u001b[0m\u001b[1;32mNone\u001b[0m\u001b[1;33m,\u001b[0m \u001b[1;36m0\u001b[0m\u001b[1;33m]\u001b[0m\u001b[1;33m\u001b[0m\u001b[0m\n\u001b[1;32m----> 2\u001b[1;33m \u001b[0msorted\u001b[0m\u001b[1;33m(\u001b[0m\u001b[0mmixed_types\u001b[0m\u001b[1;33m)\u001b[0m\u001b[1;33m\u001b[0m\u001b[0m\n\u001b[0m",
      "\u001b[1;31mTypeError\u001b[0m: '<' not supported between instances of 'int' and 'NoneType'"
     ]
    }
   ],
   "source": [
    "mixed_types = [None, 0]\n",
    "sorted(mixed_types)"
   ]
  },
  {
   "cell_type": "markdown",
   "metadata": {},
   "source": [
    "这个错误说明了为什么Python不能对给定的值进行排序。它试图通过使用小于操作符(<)来确定哪个值的排序顺序更低，从而使值按顺序排列。您可以通过手动比较这两个值来复制这个错误:"
   ]
  },
  {
   "cell_type": "code",
   "execution_count": 148,
   "metadata": {
    "ExecuteTime": {
     "end_time": "2019-09-10T07:03:42.151000Z",
     "start_time": "2019-09-10T07:03:42.134000Z"
    }
   },
   "outputs": [
    {
     "ename": "TypeError",
     "evalue": "'<' not supported between instances of 'NoneType' and 'int'",
     "output_type": "error",
     "traceback": [
      "\u001b[1;31m---------------------------------------------------------------------------\u001b[0m",
      "\u001b[1;31mTypeError\u001b[0m                                 Traceback (most recent call last)",
      "\u001b[1;32m<ipython-input-148-932179866b75>\u001b[0m in \u001b[0;36m<module>\u001b[1;34m()\u001b[0m\n\u001b[1;32m----> 1\u001b[1;33m \u001b[1;32mNone\u001b[0m \u001b[1;33m<\u001b[0m \u001b[1;36m0\u001b[0m\u001b[1;33m\u001b[0m\u001b[0m\n\u001b[0m",
      "\u001b[1;31mTypeError\u001b[0m: '<' not supported between instances of 'NoneType' and 'int'"
     ]
    }
   ],
   "source": [
    "None < 0"
   ]
  },
  {
   "cell_type": "markdown",
   "metadata": {},
   "source": [
    "如果尝试在不使用ordered()的情况下比较两个不可比较值，则会引发相同的类型错误。\n",
    "\n",
    "如果可以比较列表中的值，并且不会抛出类型错误，则可以对列表进行排序。这可以防止对具有本质上不可排序值的迭代器进行排序，并生成可能没有意义的输出。\n",
    "\n",
    "例如，数字1应该出现在单词apple之前吗?但是，如果一个iterable包含整数和字符串的组合，它们都是数字，那么可以使用列表理解将它们转换为可比较的数据类型:"
   ]
  },
  {
   "cell_type": "code",
   "execution_count": 150,
   "metadata": {
    "ExecuteTime": {
     "end_time": "2019-09-10T07:05:12.863000Z",
     "start_time": "2019-09-10T07:05:12.855000Z"
    }
   },
   "outputs": [
    {
     "ename": "TypeError",
     "evalue": "'<' not supported between instances of 'str' and 'int'",
     "output_type": "error",
     "traceback": [
      "\u001b[1;31m---------------------------------------------------------------------------\u001b[0m",
      "\u001b[1;31mTypeError\u001b[0m                                 Traceback (most recent call last)",
      "\u001b[1;32m<ipython-input-150-53b80ec8c9b5>\u001b[0m in \u001b[0;36m<module>\u001b[1;34m()\u001b[0m\n\u001b[0;32m      1\u001b[0m \u001b[0mmixed_numbers\u001b[0m \u001b[1;33m=\u001b[0m \u001b[1;33m[\u001b[0m\u001b[1;36m5\u001b[0m\u001b[1;33m,\u001b[0m \u001b[1;34m\"1\"\u001b[0m\u001b[1;33m,\u001b[0m \u001b[1;36m100\u001b[0m\u001b[1;33m,\u001b[0m \u001b[1;34m\"34\"\u001b[0m\u001b[1;33m]\u001b[0m\u001b[1;33m\u001b[0m\u001b[0m\n\u001b[1;32m----> 2\u001b[1;33m \u001b[0mprint\u001b[0m\u001b[1;33m(\u001b[0m\u001b[0msorted\u001b[0m\u001b[1;33m(\u001b[0m\u001b[0mmixed_numbers\u001b[0m\u001b[1;33m)\u001b[0m\u001b[1;33m)\u001b[0m\u001b[1;33m\u001b[0m\u001b[0m\n\u001b[0m",
      "\u001b[1;31mTypeError\u001b[0m: '<' not supported between instances of 'str' and 'int'"
     ]
    }
   ],
   "source": [
    "mixed_numbers = [5, \"1\", 100, \"34\"]\n",
    "print(sorted(mixed_numbers))"
   ]
  },
  {
   "cell_type": "code",
   "execution_count": 151,
   "metadata": {
    "ExecuteTime": {
     "end_time": "2019-09-10T07:05:13.059000Z",
     "start_time": "2019-09-10T07:05:13.056000Z"
    }
   },
   "outputs": [
    {
     "name": "stdout",
     "output_type": "stream",
     "text": [
      "[5, 1, 100, 34]\n"
     ]
    }
   ],
   "source": [
    "# List comprehension to convert all values to integers\n",
    "print([int(x) for x in mixed_numbers])"
   ]
  },
  {
   "cell_type": "code",
   "execution_count": 152,
   "metadata": {
    "ExecuteTime": {
     "end_time": "2019-09-10T07:05:13.908000Z",
     "start_time": "2019-09-10T07:05:13.904000Z"
    }
   },
   "outputs": [
    {
     "data": {
      "text/plain": [
       "[1, 5, 34, 100]"
      ]
     },
     "execution_count": 152,
     "metadata": {},
     "output_type": "execute_result"
    }
   ],
   "source": [
    "sorted([int(x) for x in mixed_numbers])"
   ]
  },
  {
   "cell_type": "markdown",
   "metadata": {},
   "source": [
    "mixed_numbers中的每个元素都调用int()来将任何str值转换为int值。然后调用ordered()，并可以成功地比较每个元素并提供排序后的输出。\n",
    "\n",
    "Python还可以隐式地将值转换为另一种类型。在下面的例子中，1 <= 0的求值为false，因此求值的输出为false。数字1可以作为bool类型转换为True，而0可以转换为False。\n",
    "\n",
    "尽管列表中的元素看起来不同，但它们都可以转换为布尔值(True或False)，并使用ordered()相互比较"
   ]
  },
  {
   "cell_type": "code",
   "execution_count": 153,
   "metadata": {
    "ExecuteTime": {
     "end_time": "2019-09-10T07:06:16.807000Z",
     "start_time": "2019-09-10T07:06:16.801000Z"
    }
   },
   "outputs": [
    {
     "data": {
      "text/plain": [
       "[False, 0, False, False, 1]"
      ]
     },
     "execution_count": 153,
     "metadata": {},
     "output_type": "execute_result"
    }
   ],
   "source": [
    "similar_values = [False, 0, 1, 'A' == 'B', 1 <= 0]\n",
    "sorted(similar_values)"
   ]
  },
  {
   "cell_type": "markdown",
   "metadata": {},
   "source": [
    "将'A' == 'B'和1 <= 0转换为False并在有序输出中返回。"
   ]
  },
  {
   "cell_type": "markdown",
   "metadata": {},
   "source": [
    "这个例子说明了排序的一个重要方面:排序的稳定性。在Python中，当您对相等的值排序时，它们将在输出中保留原来的顺序。即使1移动了，所有其他的值都是相等的，所以它们保持原来的顺序。在下面的例子中，所有的值都被认为是相等的，并且将保留它们原来的位置:"
   ]
  },
  {
   "cell_type": "code",
   "execution_count": 154,
   "metadata": {
    "ExecuteTime": {
     "end_time": "2019-09-10T07:07:21.044000Z",
     "start_time": "2019-09-10T07:07:21.038000Z"
    }
   },
   "outputs": [
    {
     "data": {
      "text/plain": [
       "[False, 0, 0, False, 0, False, False]"
      ]
     },
     "execution_count": 154,
     "metadata": {},
     "output_type": "execute_result"
    }
   ],
   "source": [
    "false_values = [False, 0, 0, 1 == 2, 0, False, False]\n",
    "sorted(false_values)"
   ]
  },
  {
   "cell_type": "markdown",
   "metadata": {},
   "source": [
    "如果检查原始顺序和排序后的输出，您将看到1 == 2被转换为False，并且所有排序后的输出都是按照原始顺序进行的。"
   ]
  },
  {
   "cell_type": "markdown",
   "metadata": {},
   "source": [
    "##### 排序字符串时，大小写很重要"
   ]
  },
  {
   "cell_type": "markdown",
   "metadata": {},
   "source": [
    "sorted()可用在字符串列表上，按升序对值排序，默认情况下按字母顺序排列:"
   ]
  },
  {
   "cell_type": "code",
   "execution_count": 155,
   "metadata": {
    "ExecuteTime": {
     "end_time": "2019-09-10T07:11:01.592000Z",
     "start_time": "2019-09-10T07:11:01.577000Z"
    }
   },
   "outputs": [
    {
     "data": {
      "text/plain": [
       "['Mark', 'Suzy', 'al', 'harry']"
      ]
     },
     "execution_count": 155,
     "metadata": {},
     "output_type": "execute_result"
    }
   ],
   "source": [
    "names_with_case = ['harry', 'Suzy', 'al', 'Mark']\n",
    "sorted(names_with_case)"
   ]
  },
  {
   "cell_type": "code",
   "execution_count": 156,
   "metadata": {
    "ExecuteTime": {
     "end_time": "2019-09-10T07:11:02.198000Z",
     "start_time": "2019-09-10T07:11:02.193000Z"
    }
   },
   "outputs": [
    {
     "data": {
      "text/plain": [
       "[(77, 'M'), (83, 'S'), (97, 'a'), (104, 'h')]"
      ]
     },
     "execution_count": 156,
     "metadata": {},
     "output_type": "execute_result"
    }
   ],
   "source": [
    "# List comprehension for Unicode Code Point of first letter in each word\n",
    "[(ord(name[0]), name[0]) for name in sorted(names_with_case)]"
   ]
  },
  {
   "cell_type": "code",
   "execution_count": 159,
   "metadata": {
    "ExecuteTime": {
     "end_time": "2019-09-10T07:12:06.313000Z",
     "start_time": "2019-09-10T07:12:06.309000Z"
    }
   },
   "outputs": [
    {
     "data": {
      "text/plain": [
       "('A', 'Z')"
      ]
     },
     "execution_count": 159,
     "metadata": {},
     "output_type": "execute_result"
    }
   ],
   "source": [
    "chr(65), chr(90)"
   ]
  },
  {
   "cell_type": "markdown",
   "metadata": {},
   "source": [
    "name[0]返回每个已排序元素中的第一个字符(names_with_case)， ord()提供Unicode编码点。即使在字母表中a在M之前，M的编码点在a之前，所以排序后的输出先有M。\n",
    "\n",
    "如果第一个字母是相同的，那么sort()将使用第二个字符来确定顺序，如果第三个字符是相同的，以此类推，直到字符串的末尾:"
   ]
  },
  {
   "cell_type": "code",
   "execution_count": 160,
   "metadata": {
    "ExecuteTime": {
     "end_time": "2019-09-10T07:13:04.473000Z",
     "start_time": "2019-09-10T07:13:04.468000Z"
    }
   },
   "outputs": [
    {
     "data": {
      "text/plain": [
       "['hhhhha', 'hhhhhb', 'hhhhhc', 'hhhhhd']"
      ]
     },
     "execution_count": 160,
     "metadata": {},
     "output_type": "execute_result"
    }
   ],
   "source": [
    "very_similar_strs = ['hhhhhd', 'hhhhha', 'hhhhhc','hhhhhb']\n",
    "sorted(very_similar_strs)"
   ]
  },
  {
   "cell_type": "markdown",
   "metadata": {},
   "source": [
    "除了最后一个字符之外，very_similar_strs的每个值都是相同的。sort()将比较字符串，由于前五个字符相同，所以输出将基于第六个字符。\n",
    "\n",
    "包含相同值的字符串最终将排序从最短到最长，因为较短的字符串没有与较长的字符串相比较的元素:"
   ]
  },
  {
   "cell_type": "code",
   "execution_count": 161,
   "metadata": {
    "ExecuteTime": {
     "end_time": "2019-09-10T07:13:44.129000Z",
     "start_time": "2019-09-10T07:13:44.124000Z"
    }
   },
   "outputs": [
    {
     "data": {
      "text/plain": [
       "['h', 'hh', 'hhhh', 'hhhhh']"
      ]
     },
     "execution_count": 161,
     "metadata": {},
     "output_type": "execute_result"
    }
   ],
   "source": [
    "different_lengths = ['hhhh', 'hh', 'hhhhh','h']\n",
    "sorted(different_lengths)"
   ]
  },
  {
   "cell_type": "code",
   "execution_count": 162,
   "metadata": {
    "ExecuteTime": {
     "end_time": "2019-09-10T07:14:28.084000Z",
     "start_time": "2019-09-10T07:14:28.074000Z"
    }
   },
   "outputs": [
    {
     "data": {
      "text/plain": [
       "['Al', 'Harry', 'Mark', 'Suzy']"
      ]
     },
     "execution_count": 162,
     "metadata": {},
     "output_type": "execute_result"
    }
   ],
   "source": [
    "names = ['Harry', 'Suzy', 'Al', 'Mark']\n",
    "sorted(names)"
   ]
  },
  {
   "cell_type": "code",
   "execution_count": 163,
   "metadata": {
    "ExecuteTime": {
     "end_time": "2019-09-10T07:14:28.278000Z",
     "start_time": "2019-09-10T07:14:28.273000Z"
    }
   },
   "outputs": [
    {
     "data": {
      "text/plain": [
       "['Suzy', 'Mark', 'Harry', 'Al']"
      ]
     },
     "execution_count": 163,
     "metadata": {},
     "output_type": "execute_result"
    }
   ],
   "source": [
    "sorted(names, reverse=True)"
   ]
  },
  {
   "cell_type": "markdown",
   "metadata": {},
   "source": [
    "排序逻辑保持不变，这意味着名称仍然按照第一个字母排序。但是输出被反转了，reverse关键字被设置为True。\n",
    "\n",
    "当分配False时，顺序将保持升序。前面的任何例子都可以使用True或False来查看反转的行为:"
   ]
  },
  {
   "cell_type": "code",
   "execution_count": 164,
   "metadata": {
    "ExecuteTime": {
     "end_time": "2019-09-10T07:15:19.852000Z",
     "start_time": "2019-09-10T07:15:19.845000Z"
    }
   },
   "outputs": [
    {
     "data": {
      "text/plain": [
       "['harry', 'al', 'Suzy', 'Mark']"
      ]
     },
     "execution_count": 164,
     "metadata": {},
     "output_type": "execute_result"
    }
   ],
   "source": [
    "names_with_case = ['harry', 'Suzy', 'al', 'Mark']\n",
    "sorted(names_with_case, reverse=True)"
   ]
  },
  {
   "cell_type": "code",
   "execution_count": 165,
   "metadata": {
    "ExecuteTime": {
     "end_time": "2019-09-10T07:15:20.198000Z",
     "start_time": "2019-09-10T07:15:20.194000Z"
    }
   },
   "outputs": [
    {
     "data": {
      "text/plain": [
       "[1, False, False, False]"
      ]
     },
     "execution_count": 165,
     "metadata": {},
     "output_type": "execute_result"
    }
   ],
   "source": [
    "similar_values = [False, 1, 'A' == 'B', 1 <= 0]\n",
    "sorted(similar_values, reverse=True)"
   ]
  },
  {
   "cell_type": "code",
   "execution_count": 166,
   "metadata": {
    "ExecuteTime": {
     "end_time": "2019-09-10T07:15:20.719000Z",
     "start_time": "2019-09-10T07:15:20.714000Z"
    }
   },
   "outputs": [
    {
     "data": {
      "text/plain": [
       "[1, 3, 6, 9]"
      ]
     },
     "execution_count": 166,
     "metadata": {},
     "output_type": "execute_result"
    }
   ],
   "source": [
    "numbers = [6, 9, 3, 1]\n",
    "sorted(numbers, reverse=False)"
   ]
  },
  {
   "cell_type": "markdown",
   "metadata": {},
   "source": [
    "##### 带关键字的sorted()"
   ]
  },
  {
   "cell_type": "markdown",
   "metadata": {},
   "source": [
    "sorted()最强大的组件之一是关键字参数key。\n",
    "\n",
    "这个参数期望传递一个函数给它，该函数将用于排序列表中的每个值，以确定结果的顺序。为了演示一个基本示例，让我们假设对特定列表排序的要求是列表中字符串的长度，从最短到最长。返回字符串长度的函数len()将与键参数一起使用"
   ]
  },
  {
   "cell_type": "code",
   "execution_count": 167,
   "metadata": {
    "ExecuteTime": {
     "end_time": "2019-09-10T07:16:31.908000Z",
     "start_time": "2019-09-10T07:16:31.897000Z"
    }
   },
   "outputs": [
    {
     "data": {
      "text/plain": [
       "5"
      ]
     },
     "execution_count": 167,
     "metadata": {},
     "output_type": "execute_result"
    }
   ],
   "source": [
    "word = 'paper'\n",
    "len(word)"
   ]
  },
  {
   "cell_type": "code",
   "execution_count": 168,
   "metadata": {
    "ExecuteTime": {
     "end_time": "2019-09-10T07:16:32.068000Z",
     "start_time": "2019-09-10T07:16:32.064000Z"
    }
   },
   "outputs": [
    {
     "data": {
      "text/plain": [
       "['pie', 'book', 'banana', 'Washington']"
      ]
     },
     "execution_count": 168,
     "metadata": {},
     "output_type": "execute_result"
    }
   ],
   "source": [
    "words = ['banana', 'pie', 'Washington', 'book']\n",
    "sorted(words, key=len)"
   ]
  },
  {
   "cell_type": "markdown",
   "metadata": {},
   "source": [
    "结果的顺序是一个字符串顺序从最短到最长的列表。列表中每个元素的长度由len()决定，然后按升序返回。\n",
    "\n",
    "让我们回到前面的例子，当情况不同时，按第一个字母排序。key可以通过将整个字符串转换成小写来解决这个问题:"
   ]
  },
  {
   "cell_type": "code",
   "execution_count": 169,
   "metadata": {
    "ExecuteTime": {
     "end_time": "2019-09-10T07:17:49.653000Z",
     "start_time": "2019-09-10T07:17:49.640000Z"
    }
   },
   "outputs": [
    {
     "data": {
      "text/plain": [
       "['Mark', 'Suzy', 'al', 'harry']"
      ]
     },
     "execution_count": 169,
     "metadata": {},
     "output_type": "execute_result"
    }
   ],
   "source": [
    "names_with_case = ['harry', 'Suzy', 'al', 'Mark']\n",
    "sorted(names_with_case)"
   ]
  },
  {
   "cell_type": "code",
   "execution_count": 170,
   "metadata": {
    "ExecuteTime": {
     "end_time": "2019-09-10T07:17:49.905000Z",
     "start_time": "2019-09-10T07:17:49.901000Z"
    }
   },
   "outputs": [
    {
     "data": {
      "text/plain": [
       "['al', 'harry', 'Mark', 'Suzy']"
      ]
     },
     "execution_count": 170,
     "metadata": {},
     "output_type": "execute_result"
    }
   ],
   "source": [
    "sorted(names_with_case, key=str.lower)"
   ]
  },
  {
   "cell_type": "markdown",
   "metadata": {},
   "source": [
    "由于key不处理原始列表中的数据，所以输出值没有转换为小写。在排序期间，将对每个元素调用传递给key的函数来确定排序顺序，但是原始值将出现在输出中。\n",
    "\n",
    "当使用带键参数的函数时，有两个主要限制。\n",
    "\n",
    "首先，传递给key的函数中所需参数的数量必须为1。\n",
    "\n",
    "下面的示例显示了接受两个参数的加法函数的定义。当该函数在key on数字列表中使用时，它会失败"
   ]
  },
  {
   "cell_type": "code",
   "execution_count": 171,
   "metadata": {
    "ExecuteTime": {
     "end_time": "2019-09-10T07:19:06.853000Z",
     "start_time": "2019-09-10T07:19:06.842000Z"
    }
   },
   "outputs": [
    {
     "ename": "TypeError",
     "evalue": "add() missing 1 required positional argument: 'y'",
     "output_type": "error",
     "traceback": [
      "\u001b[1;31m---------------------------------------------------------------------------\u001b[0m",
      "\u001b[1;31mTypeError\u001b[0m                                 Traceback (most recent call last)",
      "\u001b[1;32m<ipython-input-171-0b17ce26a7d2>\u001b[0m in \u001b[0;36m<module>\u001b[1;34m()\u001b[0m\n\u001b[0;32m      3\u001b[0m \u001b[1;33m\u001b[0m\u001b[0m\n\u001b[0;32m      4\u001b[0m \u001b[0mvalues_to_add\u001b[0m \u001b[1;33m=\u001b[0m \u001b[1;33m[\u001b[0m\u001b[1;36m1\u001b[0m\u001b[1;33m,\u001b[0m \u001b[1;36m2\u001b[0m\u001b[1;33m,\u001b[0m \u001b[1;36m3\u001b[0m\u001b[1;33m]\u001b[0m\u001b[1;33m\u001b[0m\u001b[0m\n\u001b[1;32m----> 5\u001b[1;33m \u001b[0msorted\u001b[0m\u001b[1;33m(\u001b[0m\u001b[0mvalues_to_add\u001b[0m\u001b[1;33m,\u001b[0m \u001b[0mkey\u001b[0m\u001b[1;33m=\u001b[0m\u001b[0madd\u001b[0m\u001b[1;33m)\u001b[0m\u001b[1;33m\u001b[0m\u001b[0m\n\u001b[0m",
      "\u001b[1;31mTypeError\u001b[0m: add() missing 1 required positional argument: 'y'"
     ]
    }
   ],
   "source": [
    "def add(x, y):\n",
    "    return x + y\n",
    "\n",
    "values_to_add = [1, 2, 3]\n",
    "sorted(values_to_add, key=add)"
   ]
  },
  {
   "cell_type": "markdown",
   "metadata": {},
   "source": [
    "第二个限制是，与key一起使用的函数必须能够处理iterable中的所有值。例如，你有一个用字符串表示的数字列表要在sort()中使用，key将尝试使用int将它们转换为数字，如果iterable中的值不能转换为整数，那么函数将失败:"
   ]
  },
  {
   "cell_type": "code",
   "execution_count": 172,
   "metadata": {
    "ExecuteTime": {
     "end_time": "2019-09-10T07:24:02.125000Z",
     "start_time": "2019-09-10T07:24:02.107000Z"
    }
   },
   "outputs": [
    {
     "ename": "ValueError",
     "evalue": "invalid literal for int() with base 10: 'four'",
     "output_type": "error",
     "traceback": [
      "\u001b[1;31m---------------------------------------------------------------------------\u001b[0m",
      "\u001b[1;31mValueError\u001b[0m                                Traceback (most recent call last)",
      "\u001b[1;32m<ipython-input-172-4210b203ee6f>\u001b[0m in \u001b[0;36m<module>\u001b[1;34m()\u001b[0m\n\u001b[0;32m      1\u001b[0m \u001b[0mvalues_to_cast\u001b[0m \u001b[1;33m=\u001b[0m \u001b[1;33m[\u001b[0m\u001b[1;34m'1'\u001b[0m\u001b[1;33m,\u001b[0m \u001b[1;34m'2'\u001b[0m\u001b[1;33m,\u001b[0m \u001b[1;34m'3'\u001b[0m\u001b[1;33m,\u001b[0m \u001b[1;34m'four'\u001b[0m\u001b[1;33m]\u001b[0m\u001b[1;33m\u001b[0m\u001b[0m\n\u001b[1;32m----> 2\u001b[1;33m \u001b[0msorted\u001b[0m\u001b[1;33m(\u001b[0m\u001b[0mvalues_to_cast\u001b[0m\u001b[1;33m,\u001b[0m \u001b[0mkey\u001b[0m\u001b[1;33m=\u001b[0m\u001b[0mint\u001b[0m\u001b[1;33m)\u001b[0m\u001b[1;33m\u001b[0m\u001b[0m\n\u001b[0m",
      "\u001b[1;31mValueError\u001b[0m: invalid literal for int() with base 10: 'four'"
     ]
    }
   ],
   "source": [
    "values_to_cast = ['1', '2', '3', 'four']\n",
    "sorted(values_to_cast, key=int)"
   ]
  },
  {
   "cell_type": "markdown",
   "metadata": {},
   "source": [
    "每个作为str的数值都可以转换为int，但是四个不能。这将引发ValueError，并解释4不能转换为int，因为它是无效的。\n",
    "\n",
    "关键功能非常强大，因为几乎任何函数，无论是内置的还是用户定义的，都可以用来操作输出顺序。\n",
    "\n",
    "如果排序要求按每个字符串中的最后一个字母排序一个迭代器(如果字母相同，则使用下一个字母)，则可以定义一个函数，然后在排序中使用。下面的例子定义了一个函数，它反转传递给它的字符串，然后这个函数被用作key的参数:"
   ]
  },
  {
   "cell_type": "code",
   "execution_count": 173,
   "metadata": {
    "ExecuteTime": {
     "end_time": "2019-09-10T07:25:04.466000Z",
     "start_time": "2019-09-10T07:25:04.448000Z"
    }
   },
   "outputs": [
    {
     "data": {
      "text/plain": [
       "['banana', 'pie', 'book', 'Washington']"
      ]
     },
     "execution_count": 173,
     "metadata": {},
     "output_type": "execute_result"
    }
   ],
   "source": [
    "def reverse_word(word):\n",
    "    return word[::-1]\n",
    "\n",
    "words = ['banana', 'pie', 'Washington', 'book']\n",
    "sorted(words, key=reverse_word)"
   ]
  },
  {
   "cell_type": "markdown",
   "metadata": {},
   "source": [
    "切片语法用于反转字符串。每个元素都将应用reverse_word()，排序顺序将基于翻转后单词中的字符。"
   ]
  },
  {
   "cell_type": "markdown",
   "metadata": {},
   "source": [
    "可以使用在键参数中定义的lambda函数，而不是编写一个独立的函数。\n",
    "\n",
    "lambda函数是一个匿名函数，它:\n",
    "\n",
    "    必须内联定义\n",
    "    没有名字\n",
    "    不能包含语句\n",
    "    会像函数一样执行\n",
    "在下面的例子中，键被定义为一个没有名字的lambda, lambda的参数是x, x[::-1]是将对参数执行的操作:"
   ]
  },
  {
   "cell_type": "code",
   "execution_count": 174,
   "metadata": {
    "ExecuteTime": {
     "end_time": "2019-09-10T07:28:10.128000Z",
     "start_time": "2019-09-10T07:28:10.123000Z"
    }
   },
   "outputs": [
    {
     "data": {
      "text/plain": [
       "['banana', 'pie', 'book', 'Washington']"
      ]
     },
     "execution_count": 174,
     "metadata": {},
     "output_type": "execute_result"
    }
   ],
   "source": [
    "words = ['banana', 'pie', 'Washington', 'book']\n",
    "sorted(words, key=lambda x: x[::-1])"
   ]
  },
  {
   "cell_type": "markdown",
   "metadata": {},
   "source": [
    "对每个元素调用x[::-1]并反转单词。然后将反向输出用于排序，但仍然返回原始单词。\n",
    "\n",
    "如果需求发生了变化，并且顺序也应该颠倒，那么reverse关键字可以和key参数一起使用:"
   ]
  },
  {
   "cell_type": "code",
   "execution_count": 175,
   "metadata": {
    "ExecuteTime": {
     "end_time": "2019-09-10T07:28:56.595000Z",
     "start_time": "2019-09-10T07:28:56.589000Z"
    }
   },
   "outputs": [
    {
     "data": {
      "text/plain": [
       "['Washington', 'book', 'pie', 'banana']"
      ]
     },
     "execution_count": 175,
     "metadata": {},
     "output_type": "execute_result"
    }
   ],
   "source": [
    "words = ['banana', 'pie', 'Washington', 'book']\n",
    "sorted(words, key=lambda x: x[::-1], reverse=True)"
   ]
  },
  {
   "cell_type": "markdown",
   "metadata": {},
   "source": [
    "当需要根据属性对类对象排序时，lambda函数也很有用。如果你有一组学生，需要根据他们的最终成绩对他们进行排序，从最高到最低，那么lambda可以用来从类中获取grade属性:"
   ]
  },
  {
   "cell_type": "code",
   "execution_count": 176,
   "metadata": {
    "ExecuteTime": {
     "end_time": "2019-09-10T07:29:46.630000Z",
     "start_time": "2019-09-10T07:29:46.607000Z"
    }
   },
   "outputs": [
    {
     "data": {
      "text/plain": [
       "[StudentFinal(name='Patty', grade=94),\n",
       " StudentFinal(name='Bill', grade=90),\n",
       " StudentFinal(name='Bart', grade=89)]"
      ]
     },
     "execution_count": 176,
     "metadata": {},
     "output_type": "execute_result"
    }
   ],
   "source": [
    "from collections import namedtuple\n",
    "\n",
    "StudentFinal = namedtuple('StudentFinal', 'name grade')\n",
    "bill = StudentFinal('Bill', 90)\n",
    "patty = StudentFinal('Patty', 94)\n",
    "bart = StudentFinal('Bart', 89)\n",
    "students = [bill, patty, bart]\n",
    "sorted(students, key=lambda x: getattr(x, 'grade'), reverse=True)"
   ]
  },
  {
   "cell_type": "markdown",
   "metadata": {},
   "source": [
    "本例使用namedtuple生成具有name和grade属性的类。lambda在每个元素上调用getattr()并返回grade的值。\n",
    "\n",
    "将reverse设置为True，使升序输出翻转为降序输出，以便先排列最高的等级。\n",
    "\n",
    "当您同时利用已排序()上的键和反转关键字参数时，如何实现排序的可能性是无穷无尽的。当您为一个小函数使用基本lambda时，代码可以保持简洁和简短，或者您可以编写一个全新的函数，导入它，并在key参数中使用它。"
   ]
  },
  {
   "cell_type": "markdown",
   "metadata": {},
   "source": [
    "##### 使用`.sort()`对值排序"
   ]
  },
  {
   "cell_type": "code",
   "execution_count": 177,
   "metadata": {
    "ExecuteTime": {
     "end_time": "2019-09-10T07:33:13.957000Z",
     "start_time": "2019-09-10T07:33:13.951000Z"
    }
   },
   "outputs": [
    {
     "name": "stdout",
     "output_type": "stream",
     "text": [
      "Help on method_descriptor:\n",
      "\n",
      "sort(...)\n",
      "    L.sort(key=None, reverse=False) -> None -- stable sort *IN PLACE*\n",
      "\n"
     ]
    }
   ],
   "source": [
    "# Python3\n",
    "help(list.sort)"
   ]
  },
  {
   "cell_type": "markdown",
   "metadata": {},
   "source": [
    "首先，sort是list类的一个方法，**只能与list一起使用**。它不是一个内置的迭代器。\n",
    "\n",
    "其次，.sort()返回None并修改适当的值。让我们来看看这两种代码差异的影响:"
   ]
  },
  {
   "cell_type": "code",
   "execution_count": 178,
   "metadata": {
    "ExecuteTime": {
     "end_time": "2019-09-10T07:34:20.984000Z",
     "start_time": "2019-09-10T07:34:20.976000Z"
    }
   },
   "outputs": [
    {
     "ename": "NameError",
     "evalue": "name 'sort' is not defined",
     "output_type": "error",
     "traceback": [
      "\u001b[1;31m---------------------------------------------------------------------------\u001b[0m",
      "\u001b[1;31mNameError\u001b[0m                                 Traceback (most recent call last)",
      "\u001b[1;32m<ipython-input-178-ff6fbefe386d>\u001b[0m in \u001b[0;36m<module>\u001b[1;34m()\u001b[0m\n\u001b[0;32m      1\u001b[0m \u001b[0mvalues_to_sort\u001b[0m \u001b[1;33m=\u001b[0m \u001b[1;33m[\u001b[0m\u001b[1;36m5\u001b[0m\u001b[1;33m,\u001b[0m \u001b[1;36m2\u001b[0m\u001b[1;33m,\u001b[0m \u001b[1;36m6\u001b[0m\u001b[1;33m,\u001b[0m \u001b[1;36m1\u001b[0m\u001b[1;33m]\u001b[0m\u001b[1;33m\u001b[0m\u001b[0m\n\u001b[0;32m      2\u001b[0m \u001b[1;31m# Try to call .sort() like sorted()\u001b[0m\u001b[1;33m\u001b[0m\u001b[1;33m\u001b[0m\u001b[0m\n\u001b[1;32m----> 3\u001b[1;33m \u001b[0msort\u001b[0m\u001b[1;33m(\u001b[0m\u001b[0mvalues_to_sort\u001b[0m\u001b[1;33m)\u001b[0m\u001b[1;33m\u001b[0m\u001b[0m\n\u001b[0m",
      "\u001b[1;31mNameError\u001b[0m: name 'sort' is not defined"
     ]
    }
   ],
   "source": [
    "values_to_sort = [5, 2, 6, 1]\n",
    "# Try to call .sort() like sorted()\n",
    "sort(values_to_sort)"
   ]
  },
  {
   "cell_type": "code",
   "execution_count": 179,
   "metadata": {
    "ExecuteTime": {
     "end_time": "2019-09-10T07:34:21.822000Z",
     "start_time": "2019-09-10T07:34:21.811000Z"
    }
   },
   "outputs": [
    {
     "ename": "AttributeError",
     "evalue": "'tuple' object has no attribute 'sort'",
     "output_type": "error",
     "traceback": [
      "\u001b[1;31m---------------------------------------------------------------------------\u001b[0m",
      "\u001b[1;31mAttributeError\u001b[0m                            Traceback (most recent call last)",
      "\u001b[1;32m<ipython-input-179-4dd099b2056f>\u001b[0m in \u001b[0;36m<module>\u001b[1;34m()\u001b[0m\n\u001b[0;32m      1\u001b[0m \u001b[1;31m# Try to use .sort() on a tuple\u001b[0m\u001b[1;33m\u001b[0m\u001b[1;33m\u001b[0m\u001b[0m\n\u001b[0;32m      2\u001b[0m \u001b[0mtuple_val\u001b[0m \u001b[1;33m=\u001b[0m \u001b[1;33m(\u001b[0m\u001b[1;36m5\u001b[0m\u001b[1;33m,\u001b[0m \u001b[1;36m1\u001b[0m\u001b[1;33m,\u001b[0m \u001b[1;36m3\u001b[0m\u001b[1;33m,\u001b[0m \u001b[1;36m5\u001b[0m\u001b[1;33m)\u001b[0m\u001b[1;33m\u001b[0m\u001b[0m\n\u001b[1;32m----> 3\u001b[1;33m \u001b[0mtuple_val\u001b[0m\u001b[1;33m.\u001b[0m\u001b[0msort\u001b[0m\u001b[1;33m(\u001b[0m\u001b[1;33m)\u001b[0m\u001b[1;33m\u001b[0m\u001b[0m\n\u001b[0m",
      "\u001b[1;31mAttributeError\u001b[0m: 'tuple' object has no attribute 'sort'"
     ]
    }
   ],
   "source": [
    "# Try to use .sort() on a tuple\n",
    "tuple_val = (5, 1, 3, 5)\n",
    "tuple_val.sort()"
   ]
  },
  {
   "cell_type": "code",
   "execution_count": 180,
   "metadata": {
    "ExecuteTime": {
     "end_time": "2019-09-10T07:34:22.530000Z",
     "start_time": "2019-09-10T07:34:22.524000Z"
    }
   },
   "outputs": [
    {
     "name": "stdout",
     "output_type": "stream",
     "text": [
      "None\n"
     ]
    }
   ],
   "source": [
    "# Sort the list and assign to new variable\n",
    "sorted_values = values_to_sort.sort()\n",
    "print(sorted_values)"
   ]
  },
  {
   "cell_type": "code",
   "execution_count": 181,
   "metadata": {
    "ExecuteTime": {
     "end_time": "2019-09-10T07:34:23.459000Z",
     "start_time": "2019-09-10T07:34:23.455000Z"
    }
   },
   "outputs": [
    {
     "name": "stdout",
     "output_type": "stream",
     "text": [
      "[1, 2, 5, 6]\n"
     ]
    }
   ],
   "source": [
    "# Print original variable\n",
    "print(values_to_sort)  # 改变了原始列表"
   ]
  },
  {
   "cell_type": "markdown",
   "metadata": {},
   "source": [
    "在这个代码示例中，.sort()与ordered()的操作方式有一些非常显著的差异:\n",
    "    \n",
    "sort()没有有序的输出，因此对新变量的赋值只传递None类型。\n",
    "\n",
    "values_to_sort列表已在适当位置进行了更改，并且没有以任何方式维护原始顺序。\n",
    "\n",
    "这些行为上的差异使得.sort()和sorted()在代码中绝对不可互换，如果以错误的方式使用它们，可能会产生意想不到的结果。"
   ]
  },
  {
   "cell_type": "markdown",
   "metadata": {},
   "source": [
    "`.sort()`具有与`sorted()`相同的键和反向可选关键字参数，这些参数生成与`sorted()`相同的健壮功能。在这里，你可以根据第三个单词的第二个字母对短语列表进行排序，然后反过来返回列表:"
   ]
  },
  {
   "cell_type": "code",
   "execution_count": 182,
   "metadata": {
    "ExecuteTime": {
     "end_time": "2019-09-10T07:37:20.427000Z",
     "start_time": "2019-09-10T07:37:20.412000Z"
    }
   },
   "outputs": [
    {
     "data": {
      "text/plain": [
       "['what goes around comes around',\n",
       " 'when in rome',\n",
       " 'all is fair in love and war']"
      ]
     },
     "execution_count": 182,
     "metadata": {},
     "output_type": "execute_result"
    }
   ],
   "source": [
    "phrases = ['when in rome', \n",
    "    'what goes around comes around', \n",
    "    'all is fair in love and war'\n",
    "    ]\n",
    "phrases.sort(key=lambda x: x.split()[2][1], reverse=True)\n",
    "phrases"
   ]
  },
  {
   "cell_type": "markdown",
   "metadata": {},
   "source": [
    "在这个例子中，lambda用于做以下操作:\n",
    "    \n",
    "    把每个短语分成一个单词列表\n",
    "    找到第三个元素，本例中是word\n",
    "    找出这个单词的第二个字母"
   ]
  },
  {
   "cell_type": "markdown",
   "metadata": {},
   "source": [
    "##### 何时使用sorted()以及何时使用.sort()"
   ]
  },
  {
   "cell_type": "markdown",
   "metadata": {},
   "source": [
    "`.sort()`和`sorted()`可以提供所需的排序顺序，如果您正确地将它们与反向和键可选关键字参数一起使用的话。\n",
    "\n",
    "当涉及到输出和就地修改时，两者都有非常不同的特性，因此请确保您仔细考虑过将使用`.sort()`的任何应用程序功能或程序，因为它可以不可逆转地覆盖数据。"
   ]
  },
  {
   "cell_type": "code",
   "execution_count": 187,
   "metadata": {
    "ExecuteTime": {
     "end_time": "2019-09-10T07:49:54.201000Z",
     "start_time": "2019-09-10T07:49:54.149000Z"
    }
   },
   "outputs": [
    {
     "name": "stdout",
     "output_type": "stream",
     "text": [
      "Initial List\n",
      "[23, 45, 21, 45, 2, 5, 11, 50, 1, 67]\n",
      "Sorting the List in ascending Order\n",
      "New List\n",
      "[1, 2, 5, 11, 21, 23, 45, 45, 50, 67]\n",
      "Existing List\n",
      "[23, 45, 21, 45, 2, 5, 11, 50, 1, 67]\n",
      "List Sorted in Ascending Order\n",
      "[1, 2, 5, 11, 21, 23, 45, 45, 50, 67]\n",
      "Sorting the List in Descending Order\n",
      "New List\n",
      "[67, 50, 45, 45, 23, 21, 11, 5, 2, 1]\n",
      "Existing List\n",
      "[1, 2, 5, 11, 21, 23, 45, 45, 50, 67]\n",
      "List Sorted in Descending Order\n",
      "[67, 50, 45, 45, 23, 21, 11, 5, 2, 1]\n"
     ]
    }
   ],
   "source": [
    "def main():\n",
    "\n",
    "    # List of numbers\n",
    "    listOfNum = [23, 45, 21, 45, 2, 5, 11, 50, 1, 67]\n",
    "\n",
    "    # print the List\n",
    "    print(\"Initial List\", listOfNum, sep='\\n')\n",
    "\n",
    "    print(\"Sorting the List in ascending Order\")\n",
    "\n",
    "    # Create a sorted copy of existing list\n",
    "    newList = sorted(listOfNum)\n",
    "    # print the List\n",
    "    print(\"New List\", newList, sep='\\n')\n",
    "    # print the List\n",
    "    print(\"Existing List\", listOfNum, sep='\\n')\n",
    "\n",
    "    # Sort the List in Place\n",
    "    listOfNum.sort()\n",
    "\n",
    "    # print the List\n",
    "    print(\"List Sorted in Ascending Order\", listOfNum, sep='\\n')\n",
    "\n",
    "    print(\"Sorting the List in Descending Order\")\n",
    "\n",
    "    # Create a sorted copy of existing list\n",
    "    newList = sorted(listOfNum, reverse=True)\n",
    "    # print the List\n",
    "    print(\"New List\", newList, sep='\\n')\n",
    "    # print the List\n",
    "    print(\"Existing List\", listOfNum, sep='\\n')\n",
    "\n",
    "    # Sort the List in Place (Descending Order)\n",
    "    listOfNum.sort(reverse=True)\n",
    "\n",
    "    # print the List\n",
    "    print(\"List Sorted in Descending Order\", listOfNum, sep='\\n')\n",
    "\n",
    "\n",
    "if __name__ == \"__main__\":\n",
    "    main()"
   ]
  },
  {
   "cell_type": "code",
   "execution_count": null,
   "metadata": {
    "collapsed": true
   },
   "outputs": [],
   "source": []
  },
  {
   "cell_type": "markdown",
   "metadata": {},
   "source": [
    "#### 合并多个列表\n",
    "\n",
    "[Python : How to Merge / Join two or more lists](https://thispointer.com/python-how-to-merge-two-or-more-lists/)\n",
    "\n",
    "[Python 多个列表如何合并成一个大列表](https://www.v2ex.com/t/409304)"
   ]
  },
  {
   "cell_type": "markdown",
   "metadata": {},
   "source": [
    "##### 使用`+`操作"
   ]
  },
  {
   "cell_type": "code",
   "execution_count": 188,
   "metadata": {
    "ExecuteTime": {
     "end_time": "2019-09-10T08:02:39.395000Z",
     "start_time": "2019-09-10T08:02:39.389000Z"
    }
   },
   "outputs": [
    {
     "name": "stdout",
     "output_type": "stream",
     "text": [
      "['This', 'is', 'a', 'sample', 'program', 10, 2, 45, 3, 5, 7, 8, 10]\n"
     ]
    }
   ],
   "source": [
    "# List of strings\n",
    "list1 = [\"This\" , \"is\", \"a\", \"sample\", \"program\"]\n",
    " \n",
    "# List of ints\n",
    "list2 = [10, 2, 45, 3, 5, 7, 8, 10]\n",
    "\n",
    "# Merge two lists\n",
    "finalList = list1 + list2\n",
    "print(finalList)"
   ]
  },
  {
   "cell_type": "markdown",
   "metadata": {},
   "source": [
    "##### 使用`list.extend()`"
   ]
  },
  {
   "cell_type": "markdown",
   "metadata": {},
   "source": [
    "    list.extend(anotherList)"
   ]
  },
  {
   "cell_type": "code",
   "execution_count": 189,
   "metadata": {
    "ExecuteTime": {
     "end_time": "2019-09-10T08:05:02.674000Z",
     "start_time": "2019-09-10T08:05:02.664000Z"
    }
   },
   "outputs": [
    {
     "name": "stdout",
     "output_type": "stream",
     "text": [
      "['This', 'is', 'a', 'sample', 'program', 10, 2, 45, 3, 5, 7, 8, 10]\n"
     ]
    }
   ],
   "source": [
    "# List of strings\n",
    "list1 = [\"This\" , \"is\", \"a\", \"sample\", \"program\"]\n",
    " \n",
    "# List of ints\n",
    "list2 = [10, 2, 45, 3, 5, 7, 8, 10]\n",
    "\n",
    "# Makes list1 longer by appending the elements of list2 at the end.\n",
    "list1.extend(list2)\n",
    "print(list1)"
   ]
  },
  {
   "cell_type": "markdown",
   "metadata": {},
   "source": [
    "##### 使用`+`合并多个列表"
   ]
  },
  {
   "cell_type": "code",
   "execution_count": 190,
   "metadata": {
    "ExecuteTime": {
     "end_time": "2019-09-10T08:06:27.073000Z",
     "start_time": "2019-09-10T08:06:27.069000Z"
    },
    "collapsed": true
   },
   "outputs": [],
   "source": [
    "list1 = [\"This\" , \"is\", \"a\", \"sample\", \"program\"]\n",
    "list2 = [10, 2, 45, 3, 5, 7, 8, 10]\n",
    "list3 = [11, 12, 13]"
   ]
  },
  {
   "cell_type": "code",
   "execution_count": 191,
   "metadata": {
    "ExecuteTime": {
     "end_time": "2019-09-10T08:06:27.419000Z",
     "start_time": "2019-09-10T08:06:27.416000Z"
    }
   },
   "outputs": [
    {
     "name": "stdout",
     "output_type": "stream",
     "text": [
      "['This', 'is', 'a', 'sample', 'program', 10, 2, 45, 3, 5, 7, 8, 10, 11, 12, 13]\n"
     ]
    }
   ],
   "source": [
    "# Merge 3 lists into a single list    \n",
    "finalList = list1 + list2 + list3\n",
    "print(finalList)"
   ]
  },
  {
   "cell_type": "markdown",
   "metadata": {},
   "source": [
    "##### append实现嵌套列表"
   ]
  },
  {
   "cell_type": "code",
   "execution_count": 1,
   "metadata": {
    "ExecuteTime": {
     "end_time": "2019-09-13T00:51:28.412000Z",
     "start_time": "2019-09-13T00:51:28.408000Z"
    },
    "collapsed": true
   },
   "outputs": [],
   "source": [
    "a = [1, 11] \n",
    "b = [2, 22, 222] \n",
    "c = [3] \n",
    "d = [] "
   ]
  },
  {
   "cell_type": "code",
   "execution_count": 2,
   "metadata": {
    "ExecuteTime": {
     "end_time": "2019-09-13T00:51:29.092000Z",
     "start_time": "2019-09-13T00:51:29.088000Z"
    }
   },
   "outputs": [
    {
     "name": "stdout",
     "output_type": "stream",
     "text": [
      "[[1, 11], [2, 22, 222], [3]]\n"
     ]
    }
   ],
   "source": [
    "d.append(a)\n",
    "d.append(b)\n",
    "d.append(c)\n",
    "print(d)"
   ]
  },
  {
   "cell_type": "code",
   "execution_count": 3,
   "metadata": {
    "ExecuteTime": {
     "end_time": "2019-09-13T00:52:48.405000Z",
     "start_time": "2019-09-13T00:52:48.399000Z"
    }
   },
   "outputs": [
    {
     "name": "stdout",
     "output_type": "stream",
     "text": [
      "[[1, 11], [2, 22, 222], [3]]\n"
     ]
    }
   ],
   "source": [
    "d = []\n",
    "d = [l for l in [a, b, c, d] if len(l) > 0]\n",
    "print(d)"
   ]
  },
  {
   "cell_type": "markdown",
   "metadata": {},
   "source": [
    "直接使用中括号[]"
   ]
  },
  {
   "cell_type": "code",
   "execution_count": 4,
   "metadata": {
    "ExecuteTime": {
     "end_time": "2019-09-13T00:53:10.653000Z",
     "start_time": "2019-09-13T00:53:10.649000Z"
    }
   },
   "outputs": [
    {
     "name": "stdout",
     "output_type": "stream",
     "text": [
      "[[1, 11], [2, 22, 222], [3]]\n"
     ]
    }
   ],
   "source": [
    "d = [a, b, c]\n",
    "print(d)"
   ]
  },
  {
   "cell_type": "markdown",
   "metadata": {},
   "source": [
    "list(filter())"
   ]
  },
  {
   "cell_type": "code",
   "execution_count": 6,
   "metadata": {
    "ExecuteTime": {
     "end_time": "2019-09-13T00:54:22.709000Z",
     "start_time": "2019-09-13T00:54:22.706000Z"
    }
   },
   "outputs": [
    {
     "name": "stdout",
     "output_type": "stream",
     "text": [
      "[[1, 11], [2, 22, 222], [3]]\n"
     ]
    }
   ],
   "source": [
    "print(list(filter(None,[a,b,c])))"
   ]
  },
  {
   "cell_type": "markdown",
   "metadata": {},
   "source": [
    "##### chain"
   ]
  },
  {
   "cell_type": "code",
   "execution_count": 7,
   "metadata": {
    "ExecuteTime": {
     "end_time": "2019-09-13T00:55:08.230000Z",
     "start_time": "2019-09-13T00:55:08.224000Z"
    }
   },
   "outputs": [
    {
     "name": "stdout",
     "output_type": "stream",
     "text": [
      "[1, 11, 2, 22, 222, 3]\n"
     ]
    }
   ],
   "source": [
    "from itertools import chain\n",
    "d = list(chain(a, b, c))\n",
    "print(d)"
   ]
  },
  {
   "cell_type": "markdown",
   "metadata": {},
   "source": [
    "#### 检查一个列表是否包含另一个列表的所有元素\n",
    "\n",
    "[Python : Check if a list contains all the elements of another list](https://thispointer.com/python-check-if-a-list-contains-all-the-elements-of-another-list/)"
   ]
  },
  {
   "cell_type": "code",
   "execution_count": 192,
   "metadata": {
    "ExecuteTime": {
     "end_time": "2019-09-10T08:08:16.616000Z",
     "start_time": "2019-09-10T08:08:16.612000Z"
    },
    "collapsed": true
   },
   "outputs": [],
   "source": [
    "# List of string \n",
    "list1 = ['Hi' ,  'hello', 'at', 'this', 'there', 'from']\n",
    "# List of string\n",
    "list2 = ['there' , 'hello', 'Hi']"
   ]
  },
  {
   "cell_type": "markdown",
   "metadata": {},
   "source": [
    "##### 使用`all()`"
   ]
  },
  {
   "cell_type": "code",
   "execution_count": 194,
   "metadata": {
    "ExecuteTime": {
     "end_time": "2019-09-10T08:09:19.128000Z",
     "start_time": "2019-09-10T08:09:19.123000Z"
    }
   },
   "outputs": [
    {
     "name": "stdout",
     "output_type": "stream",
     "text": [
      "Yes, list1 contains all elements in list2\n"
     ]
    }
   ],
   "source": [
    "'''    \n",
    "check if list1 contains all elements in list2\n",
    "'''\n",
    "result =  all(elem in list1  for elem in list2)\n",
    "if result:\n",
    "    print(\"Yes, list1 contains all elements in list2\")    \n",
    "else :\n",
    "    print(\"No, list1 does not contains all elements in list2\")"
   ]
  },
  {
   "cell_type": "markdown",
   "metadata": {},
   "source": [
    "##### 检查一个列表是否包含另一个列表的元素\n",
    "[Check if list1 contains any elements of list2 using any()](https://thispointer.com/python-check-if-a-list-contains-all-the-elements-of-another-list/)"
   ]
  },
  {
   "cell_type": "code",
   "execution_count": 195,
   "metadata": {
    "ExecuteTime": {
     "end_time": "2019-09-10T08:11:09.319000Z",
     "start_time": "2019-09-10T08:11:09.313000Z"
    }
   },
   "outputs": [
    {
     "name": "stdout",
     "output_type": "stream",
     "text": [
      "Yes, list1 contains any elements of list2\n"
     ]
    }
   ],
   "source": [
    "'''    \n",
    "    check if list1 contains any elements of list2\n",
    "'''\n",
    "result =  any(elem in list1  for elem in list2)\n",
    " \n",
    "if result:\n",
    "    print(\"Yes, list1 contains any elements of list2\")    \n",
    "else :\n",
    "    print(\"No, list1 contains any elements of list2\")"
   ]
  },
  {
   "cell_type": "markdown",
   "metadata": {},
   "source": [
    "#### 将两个列表映射成元组对列表\n",
    "\n",
    "[How to merge lists into a list of tuples?](https://stackoverflow.com/questions/2407398/how-to-merge-lists-into-a-list-of-tuples#)"
   ]
  },
  {
   "cell_type": "code",
   "execution_count": 196,
   "metadata": {
    "ExecuteTime": {
     "end_time": "2019-09-10T08:21:15.243000Z",
     "start_time": "2019-09-10T08:21:15.236000Z"
    }
   },
   "outputs": [
    {
     "data": {
      "text/plain": [
       "[(1, 5), (2, 6), (3, 7), (4, 8)]"
      ]
     },
     "execution_count": 196,
     "metadata": {},
     "output_type": "execute_result"
    }
   ],
   "source": [
    "list_a = [1, 2, 3, 4]\n",
    "list_b = [5, 6, 7, 8]\n",
    "list(zip(list_a, list_b))"
   ]
  },
  {
   "cell_type": "code",
   "execution_count": 199,
   "metadata": {
    "ExecuteTime": {
     "end_time": "2019-09-10T08:22:21.976000Z",
     "start_time": "2019-09-10T08:22:21.971000Z"
    }
   },
   "outputs": [
    {
     "data": {
      "text/plain": [
       "[(2, 5), (3, 6), (4, 7)]"
      ]
     },
     "execution_count": 199,
     "metadata": {},
     "output_type": "execute_result"
    }
   ],
   "source": [
    "a = [2,3,4]\n",
    "b = [5,6,7]\n",
    "c = list(map(lambda x,y:(x,y),a,b))\n",
    "c"
   ]
  },
  {
   "cell_type": "code",
   "execution_count": 201,
   "metadata": {
    "ExecuteTime": {
     "end_time": "2019-09-10T08:22:59.349000Z",
     "start_time": "2019-09-10T08:22:59.341000Z"
    }
   },
   "outputs": [
    {
     "data": {
      "text/plain": [
       "[(1, 5), (2, 6), (3, 7), (4, 8)]"
      ]
     },
     "execution_count": 201,
     "metadata": {},
     "output_type": "execute_result"
    }
   ],
   "source": [
    "list_a = [1, 2, 3, 4]\n",
    "list_b = [5, 6, 7, 8]\n",
    "list_c=[(list_a[i],list_b[i]) for i in range(0,len(list_a))]\n",
    "list_c"
   ]
  },
  {
   "cell_type": "markdown",
   "metadata": {},
   "source": [
    "#### 将多个列表中的唯一项合并到一个新列表中\n",
    "[MERGE UNIQUE ITEMS FROM MULTIPLE LISTS INTO A NEW LIST (PYTHON RECIPE)](http://code.activestate.com/recipes/580634-merge-unique-items-from-multiple-lists-into-a-new-/)"
   ]
  },
  {
   "cell_type": "code",
   "execution_count": 202,
   "metadata": {
    "ExecuteTime": {
     "end_time": "2019-09-10T08:25:46.469000Z",
     "start_time": "2019-09-10T08:25:46.463000Z"
    }
   },
   "outputs": [
    {
     "name": "stdout",
     "output_type": "stream",
     "text": [
      "['ci', '3', '2', 'v', 'h', 'x', 'c', 'as', '4', 'd', 'a', 'b', 'g', '1']\n"
     ]
    }
   ],
   "source": [
    "a = ['a', 'b', 'c', 'd']\n",
    "b = ['c', 'x', 'g', 'h']\n",
    "c = ['1', 'as', 'ci', 'v']\n",
    "d = ['1', '2', '3', '4']\n",
    "\n",
    "print(list(set().union(a, b, c, d)))"
   ]
  },
  {
   "cell_type": "markdown",
   "metadata": {},
   "source": [
    "#### 列表元素去重\n",
    "[How to Remove Duplicates From a Python List](https://www.w3schools.com/python/python_howto_remove_duplicates.asp)"
   ]
  },
  {
   "cell_type": "markdown",
   "metadata": {},
   "source": [
    "##### 利用字典key"
   ]
  },
  {
   "cell_type": "code",
   "execution_count": 203,
   "metadata": {
    "ExecuteTime": {
     "end_time": "2019-09-10T08:28:18.548000Z",
     "start_time": "2019-09-10T08:28:18.543000Z"
    }
   },
   "outputs": [
    {
     "name": "stdout",
     "output_type": "stream",
     "text": [
      "['a', 'b', 'c']\n"
     ]
    }
   ],
   "source": [
    "mylist = [\"a\", \"b\", \"a\", \"c\", \"c\"]\n",
    "mylist = list(dict.fromkeys(mylist))\n",
    "print(mylist)"
   ]
  },
  {
   "cell_type": "code",
   "execution_count": null,
   "metadata": {
    "collapsed": true
   },
   "outputs": [],
   "source": [
    "遍历"
   ]
  },
  {
   "cell_type": "markdown",
   "metadata": {},
   "source": [
    "##### 利用集合"
   ]
  },
  {
   "cell_type": "code",
   "execution_count": 209,
   "metadata": {
    "ExecuteTime": {
     "end_time": "2019-09-10T08:32:45.906000Z",
     "start_time": "2019-09-10T08:32:45.902000Z"
    }
   },
   "outputs": [
    {
     "data": {
      "text/plain": [
       "[1, 2, 3, 5, 6, 7, 8]"
      ]
     },
     "execution_count": 209,
     "metadata": {},
     "output_type": "execute_result"
    }
   ],
   "source": [
    "t = [1, 2, 3, 1, 2, 5, 6, 7, 8]\n",
    "list(set(t))"
   ]
  },
  {
   "cell_type": "markdown",
   "metadata": {},
   "source": [
    "##### 循环遍历"
   ]
  },
  {
   "cell_type": "code",
   "execution_count": 210,
   "metadata": {
    "ExecuteTime": {
     "end_time": "2019-09-10T10:10:21.192000Z",
     "start_time": "2019-09-10T10:10:21.185000Z"
    }
   },
   "outputs": [
    {
     "data": {
      "text/plain": [
       "[1, 2, 3, 5, 6, 7, 8]"
      ]
     },
     "execution_count": 210,
     "metadata": {},
     "output_type": "execute_result"
    }
   ],
   "source": [
    "t = [1, 2, 3, 1, 2, 5, 6, 7, 8]\n",
    "s = []\n",
    "for i in t:\n",
    "    if i not in s:\n",
    "        s.append(i)\n",
    "s"
   ]
  },
  {
   "cell_type": "code",
   "execution_count": 215,
   "metadata": {
    "ExecuteTime": {
     "end_time": "2019-09-10T10:16:10.932000Z",
     "start_time": "2019-09-10T10:16:10.927000Z"
    }
   },
   "outputs": [
    {
     "data": {
      "text/plain": [
       "[1, 2, 3, 4, 5, 6]"
      ]
     },
     "execution_count": 215,
     "metadata": {},
     "output_type": "execute_result"
    }
   ],
   "source": [
    "t = [1, 2, 3, 3, 2, 4, 5, 6]\n",
    "s = [x for i, x in enumerate(t) if i == t.index(x)]\n",
    "s"
   ]
  },
  {
   "cell_type": "markdown",
   "metadata": {},
   "source": [
    "##### pandas方法\n",
    "\n",
    "[pandas.unique](https://pandas.pydata.org/pandas-docs/version/0.21/generated/pandas.unique.html)"
   ]
  },
  {
   "cell_type": "code",
   "execution_count": 212,
   "metadata": {
    "ExecuteTime": {
     "end_time": "2019-09-10T10:12:55.168000Z",
     "start_time": "2019-09-10T10:12:55.165000Z"
    },
    "collapsed": true
   },
   "outputs": [],
   "source": [
    "t1 = ['a','a','b','b','b','c','c','c']\n",
    "t2 = ['c','c','b','b','b','a','a','a']"
   ]
  },
  {
   "cell_type": "code",
   "execution_count": 213,
   "metadata": {
    "ExecuteTime": {
     "end_time": "2019-09-10T10:12:55.432000Z",
     "start_time": "2019-09-10T10:12:55.421000Z"
    }
   },
   "outputs": [
    {
     "name": "stdout",
     "output_type": "stream",
     "text": [
      "['a', 'b', 'c']\n",
      "['c', 'b', 'a']\n"
     ]
    }
   ],
   "source": [
    "import pandas as pd\n",
    "print(pd.unique(t1).tolist())\n",
    "\n",
    "print(pd.unique(t2).tolist())"
   ]
  },
  {
   "cell_type": "code",
   "execution_count": 216,
   "metadata": {
    "ExecuteTime": {
     "end_time": "2019-09-10T10:18:19.313000Z",
     "start_time": "2019-09-10T10:18:19.301000Z"
    }
   },
   "outputs": [
    {
     "name": "stdout",
     "output_type": "stream",
     "text": [
      "[1, 2, 3, 5, 6, 7, 8]\n"
     ]
    }
   ],
   "source": [
    "import pandas as pd\n",
    "\n",
    "myList = [1, 2, 3, 1, 2, 5, 6, 7, 8]\n",
    "cleanList = pd.Series(myList).drop_duplicates().tolist()\n",
    "print(cleanList)"
   ]
  },
  {
   "cell_type": "markdown",
   "metadata": {},
   "source": [
    "##### numpy方法\n",
    "\n",
    "[numpy.unique](https://docs.scipy.org/doc/numpy-1.13.0/reference/generated/numpy.unique.html)"
   ]
  },
  {
   "cell_type": "code",
   "execution_count": 214,
   "metadata": {
    "ExecuteTime": {
     "end_time": "2019-09-10T10:14:00.259000Z",
     "start_time": "2019-09-10T10:14:00.247000Z"
    }
   },
   "outputs": [
    {
     "name": "stdout",
     "output_type": "stream",
     "text": [
      "['a', 'b', 'c']\n",
      "['a', 'b', 'c']\n"
     ]
    }
   ],
   "source": [
    "import numpy as np\n",
    "print(np.unique(t1).tolist())\n",
    "\n",
    "print(np.unique(t2).tolist())"
   ]
  },
  {
   "cell_type": "markdown",
   "metadata": {},
   "source": [
    "#### 去除列表的方括号\n",
    "\n",
    "[How to remove square brackets from list in Python? [duplicate]](https://stackoverflow.com/questions/13207697/how-to-remove-square-brackets-from-list-in-python)"
   ]
  },
  {
   "cell_type": "code",
   "execution_count": 217,
   "metadata": {
    "ExecuteTime": {
     "end_time": "2019-09-10T10:24:46.107000Z",
     "start_time": "2019-09-10T10:24:46.103000Z"
    }
   },
   "outputs": [
    {
     "name": "stdout",
     "output_type": "stream",
     "text": [
      "['Python', 'problem', 'whatever']\n"
     ]
    }
   ],
   "source": [
    "LIST = ['Python','problem','whatever']\n",
    "print(LIST)"
   ]
  },
  {
   "cell_type": "code",
   "execution_count": 218,
   "metadata": {
    "ExecuteTime": {
     "end_time": "2019-09-10T10:24:58.155000Z",
     "start_time": "2019-09-10T10:24:58.151000Z"
    }
   },
   "outputs": [
    {
     "name": "stdout",
     "output_type": "stream",
     "text": [
      "Python, problem, whatever\n"
     ]
    }
   ],
   "source": [
    "print(\", \".join(LIST))  # 使用.join()"
   ]
  },
  {
   "cell_type": "code",
   "execution_count": 219,
   "metadata": {
    "ExecuteTime": {
     "end_time": "2019-09-10T10:26:48.242000Z",
     "start_time": "2019-09-10T10:26:48.238000Z"
    }
   },
   "outputs": [
    {
     "name": "stdout",
     "output_type": "stream",
     "text": [
      "1, 'foo', 3.5, {'hello': 'bye'}\n"
     ]
    }
   ],
   "source": [
    "LIST = [1, \"foo\", 3.5, { \"hello\": \"bye\" }]\n",
    "print( \", \".join( repr(e) for e in LIST ) )"
   ]
  },
  {
   "cell_type": "code",
   "execution_count": 221,
   "metadata": {
    "ExecuteTime": {
     "end_time": "2019-09-10T10:27:12.970000Z",
     "start_time": "2019-09-10T10:27:12.966000Z"
    }
   },
   "outputs": [
    {
     "name": "stdout",
     "output_type": "stream",
     "text": [
      "'a', 2, 'c'\n"
     ]
    }
   ],
   "source": [
    "l = ['a', 2, 'c']\n",
    "print(str(l)[1:-1])"
   ]
  },
  {
   "cell_type": "markdown",
   "metadata": {},
   "source": [
    "利用replace()"
   ]
  },
  {
   "cell_type": "code",
   "execution_count": 222,
   "metadata": {
    "ExecuteTime": {
     "end_time": "2019-09-10T10:30:38.537000Z",
     "start_time": "2019-09-10T10:30:38.533000Z"
    },
    "collapsed": true
   },
   "outputs": [],
   "source": [
    "def listToStringWithoutBrackets(list1):\n",
    "    return str(list1).replace('[','').replace(']','')"
   ]
  },
  {
   "cell_type": "code",
   "execution_count": 223,
   "metadata": {
    "ExecuteTime": {
     "end_time": "2019-09-10T10:30:45.084000Z",
     "start_time": "2019-09-10T10:30:45.079000Z"
    }
   },
   "outputs": [
    {
     "data": {
      "text/plain": [
       "\"1, 'foo', 3.5, {'hello': 'bye'}\""
      ]
     },
     "execution_count": 223,
     "metadata": {},
     "output_type": "execute_result"
    }
   ],
   "source": [
    "listToStringWithoutBrackets(LIST)"
   ]
  },
  {
   "cell_type": "markdown",
   "metadata": {},
   "source": [
    "#### 列表分块切分"
   ]
  },
  {
   "cell_type": "markdown",
   "metadata": {},
   "source": [
    "[How do you split a list into evenly sized chunks?](https://stackoverflow.com/questions/312443/how-do-you-split-a-list-into-evenly-sized-chunks)\n",
    "\n",
    "分块建议使用numpy或者切片操作"
   ]
  },
  {
   "cell_type": "code",
   "execution_count": 225,
   "metadata": {
    "ExecuteTime": {
     "end_time": "2019-09-10T10:36:37.809000Z",
     "start_time": "2019-09-10T10:36:37.805000Z"
    },
    "collapsed": true
   },
   "outputs": [],
   "source": [
    "def chunks(l, n):\n",
    "    \"\"\"Yield successive n-sized chunks from l.\"\"\"\n",
    "    for i in range(0, len(l), n):\n",
    "        yield l[i:i + n]"
   ]
  },
  {
   "cell_type": "code",
   "execution_count": 226,
   "metadata": {
    "ExecuteTime": {
     "end_time": "2019-09-10T10:36:38.426000Z",
     "start_time": "2019-09-10T10:36:38.422000Z"
    }
   },
   "outputs": [
    {
     "name": "stdout",
     "output_type": "stream",
     "text": [
      "[range(10, 20),\n",
      " range(20, 30),\n",
      " range(30, 40),\n",
      " range(40, 50),\n",
      " range(50, 60),\n",
      " range(60, 70),\n",
      " range(70, 75)]\n"
     ]
    }
   ],
   "source": [
    "import pprint\n",
    "pprint.pprint(list(chunks(range(10, 75), 10)))"
   ]
  },
  {
   "cell_type": "markdown",
   "metadata": {},
   "source": [
    "#### 列表转字典"
   ]
  },
  {
   "cell_type": "markdown",
   "metadata": {},
   "source": [
    "##### zip()打包"
   ]
  },
  {
   "cell_type": "code",
   "execution_count": 227,
   "metadata": {
    "ExecuteTime": {
     "end_time": "2019-09-10T10:50:57.621000Z",
     "start_time": "2019-09-10T10:50:57.611000Z"
    }
   },
   "outputs": [
    {
     "data": {
      "text/plain": [
       "{'a': 1, 'b': 2, 'c': 3, 'd': 4}"
      ]
     },
     "execution_count": 227,
     "metadata": {},
     "output_type": "execute_result"
    }
   ],
   "source": [
    "L1 = ['a','b','c','d']\n",
    "L2 = [1,2,3,4]\n",
    "d = dict(zip(L1,L2))\n",
    "d"
   ]
  },
  {
   "cell_type": "markdown",
   "metadata": {},
   "source": [
    "##### 遍历"
   ]
  },
  {
   "cell_type": "code",
   "execution_count": 230,
   "metadata": {
    "ExecuteTime": {
     "end_time": "2019-09-10T10:52:22.318000Z",
     "start_time": "2019-09-10T10:52:22.313000Z"
    }
   },
   "outputs": [
    {
     "data": {
      "text/plain": [
       "{'a': 1, 'b': 2, 'c': 3, 'd': 4}"
      ]
     },
     "execution_count": 230,
     "metadata": {},
     "output_type": "execute_result"
    }
   ],
   "source": [
    "e = {}\n",
    "for i in range(0, len(L1), 1):\n",
    "    e[L1[i]] = L2[i]\n",
    "    \n",
    "e"
   ]
  },
  {
   "cell_type": "markdown",
   "metadata": {},
   "source": [
    "##### 使用字典的特性key,value"
   ]
  },
  {
   "cell_type": "code",
   "execution_count": 231,
   "metadata": {
    "ExecuteTime": {
     "end_time": "2019-09-10T10:53:49.893000Z",
     "start_time": "2019-09-10T10:53:49.886000Z"
    }
   },
   "outputs": [
    {
     "data": {
      "text/plain": [
       "{'a': 1, 'b': 2, 'c': 3, 'd': 4}"
      ]
     },
     "execution_count": 231,
     "metadata": {},
     "output_type": "execute_result"
    }
   ],
   "source": [
    "L1 = ['a','b','c','d']\n",
    "L2 = [1,2,3,4]\n",
    "d = {k:v for k,v in zip(L1,L2)}\n",
    "d"
   ]
  },
  {
   "cell_type": "markdown",
   "metadata": {},
   "source": [
    "[how to convert list of lists to dictionary in python](https://www.8bitavenue.com/how-to-convert-list-of-lists-to-dictionary-in-python/)"
   ]
  },
  {
   "cell_type": "code",
   "execution_count": 237,
   "metadata": {
    "ExecuteTime": {
     "end_time": "2019-09-10T10:58:00.962000Z",
     "start_time": "2019-09-10T10:58:00.958000Z"
    }
   },
   "outputs": [
    {
     "data": {
      "text/plain": [
       "{'NAME': 'adam'}"
      ]
     },
     "execution_count": 237,
     "metadata": {},
     "output_type": "execute_result"
    }
   ],
   "source": [
    "dict([(\"NAME\", \"adam\")])"
   ]
  },
  {
   "cell_type": "code",
   "execution_count": 232,
   "metadata": {
    "ExecuteTime": {
     "end_time": "2019-09-10T10:55:11.037000Z",
     "start_time": "2019-09-10T10:55:11.031000Z"
    }
   },
   "outputs": [
    {
     "name": "stdout",
     "output_type": "stream",
     "text": [
      "{1: ['Honda', 'red'], 2: ['Toyota', 'white'], 3: ['Mazda', 'blue']}\n",
      "['Honda', 'red']\n"
     ]
    }
   ],
   "source": [
    "# List of lists\n",
    "cars_list = [[1,'Honda','red'], [2,'Toyota','white'], [3,'Mazda','blue']]\\\n",
    "# Convert to dictionary\n",
    "cars_dict = {car[0]:car[1:] for car in cars_list}\n",
    "# Print output\n",
    "print (cars_dict)\n",
    "print (cars_dict[1])"
   ]
  },
  {
   "cell_type": "code",
   "execution_count": 233,
   "metadata": {
    "ExecuteTime": {
     "end_time": "2019-09-10T10:56:20.524000Z",
     "start_time": "2019-09-10T10:56:20.517000Z"
    }
   },
   "outputs": [
    {
     "name": "stdout",
     "output_type": "stream",
     "text": [
      "{1: ['Honda', 'red'], 2: ['Toyota', 'white'], 3: ['Mazda', 'blue']}\n",
      "['Honda', 'red']\n"
     ]
    }
   ],
   "source": [
    "cars_list = [[1,'Honda','red'], [2,'Toyota','white'], [3,'Mazda','blue']]\n",
    "cars_dict = dict((car[0], car[1:]) for car in cars_list)\n",
    "print (cars_dict)\n",
    "print (cars_dict[1])"
   ]
  },
  {
   "cell_type": "code",
   "execution_count": 234,
   "metadata": {
    "ExecuteTime": {
     "end_time": "2019-09-10T10:56:51.243000Z",
     "start_time": "2019-09-10T10:56:51.234000Z"
    }
   },
   "outputs": [
    {
     "name": "stdout",
     "output_type": "stream",
     "text": [
      "{1: ['Honda', 'red'], 2: ['Toyota', 'white'], 3: ['Mazda', 'blue']}\n",
      "['Honda', 'red']\n"
     ]
    }
   ],
   "source": [
    "# List of lists\n",
    "cars_list = [[1,'Honda','red'], [2,'Toyota','white'], [3,'Mazda','blue']]\n",
    "# Output dictionary\n",
    "cars_dict = {}\n",
    "\n",
    "# Convert to dictionary\n",
    "for car in cars_list:\n",
    "    cars_dict[car[0]] = car[1:]\n",
    "\n",
    "# Print to see output\n",
    "print (cars_dict)\n",
    "print (cars_dict[1])"
   ]
  },
  {
   "cell_type": "code",
   "execution_count": 235,
   "metadata": {
    "ExecuteTime": {
     "end_time": "2019-09-10T10:57:11.370000Z",
     "start_time": "2019-09-10T10:57:11.362000Z"
    }
   },
   "outputs": [
    {
     "name": "stdout",
     "output_type": "stream",
     "text": [
      "{1: ['Honda', 'red'], 2: ['Toyota', 'white'], 3: ['Mazda', 'blue']}\n",
      "['Honda', 'red']\n"
     ]
    }
   ],
   "source": [
    "# List of lists\n",
    "cars_list = [[1,'Honda','red'], [2,'Toyota','white'], [3,'Mazda','blue']]\n",
    "# Output dictionary\n",
    "cars_dict = {}\n",
    "\n",
    "# Convert to dictionary\n",
    "for key, car, color in cars_list:\n",
    "    cars_dict[key] = [car, color]\n",
    "\n",
    "# Print to see output\n",
    "print (cars_dict)\n",
    "print (cars_dict[1])"
   ]
  },
  {
   "cell_type": "markdown",
   "metadata": {
    "collapsed": true
   },
   "source": [
    "#### [Python统计列表元素出现次数](https://blog.csdn.net/weixin_40604987/article/details/79292493)"
   ]
  },
  {
   "cell_type": "code",
   "execution_count": 11,
   "metadata": {
    "ExecuteTime": {
     "end_time": "2019-09-14T03:45:25.057000Z",
     "start_time": "2019-09-14T03:45:25.054000Z"
    },
    "collapsed": true
   },
   "outputs": [],
   "source": [
    "arr =  [1, 2, 3, 3, 2, 1, 0, 2, 'a', 'b', 'e', 'd', 'b', 'b', 'e', 'e', 'e', 'a']\n",
    "# 获取array中元素的出现次数"
   ]
  },
  {
   "cell_type": "code",
   "execution_count": 12,
   "metadata": {
    "ExecuteTime": {
     "end_time": "2019-09-14T03:45:33.937000Z",
     "start_time": "2019-09-14T03:45:33.927000Z"
    }
   },
   "outputs": [
    {
     "data": {
      "text/plain": [
       "Counter({1: 2, 2: 3, 3: 2, 0: 1, 'a': 2, 'b': 3, 'e': 4, 'd': 1})"
      ]
     },
     "execution_count": 12,
     "metadata": {},
     "output_type": "execute_result"
    }
   ],
   "source": [
    "from collections import Counter\n",
    "arr =  [1, 2, 3, 3, 2, 1, 0, 2, 'a', 'b', 'e', 'd', 'b', 'b', 'e', 'e', 'e', 'a']\n",
    "Counter(arr)"
   ]
  },
  {
   "cell_type": "markdown",
   "metadata": {
    "collapsed": true
   },
   "source": [
    "https://stackoverflow.com/questions/25815377/sort-list-by-frequency-in-python"
   ]
  },
  {
   "cell_type": "code",
   "execution_count": 13,
   "metadata": {
    "ExecuteTime": {
     "end_time": "2019-09-14T03:46:00.188000Z",
     "start_time": "2019-09-14T03:46:00.183000Z"
    }
   },
   "outputs": [
    {
     "data": {
      "text/plain": [
       "['e', 'e', 'e', 'e', 2, 2, 2, 'b', 'b', 'b', 1, 3, 3, 1, 'a', 'a', 0, 'd']"
      ]
     },
     "execution_count": 13,
     "metadata": {},
     "output_type": "execute_result"
    }
   ],
   "source": [
    "counts = Counter(arr)\n",
    "new_list = sorted(arr, key=counts.get, reverse=True)\n",
    "new_list"
   ]
  },
  {
   "cell_type": "markdown",
   "metadata": {
    "collapsed": true
   },
   "source": [
    "[How to sort Counter by value? - python](https://stackoverflow.com/questions/20950650/how-to-sort-counter-by-value-python)"
   ]
  },
  {
   "cell_type": "code",
   "execution_count": 15,
   "metadata": {
    "ExecuteTime": {
     "end_time": "2019-09-14T03:47:58.376000Z",
     "start_time": "2019-09-14T03:47:58.370000Z"
    }
   },
   "outputs": [
    {
     "name": "stdout",
     "output_type": "stream",
     "text": [
      "Counter({'c': 7, 'a': 5, 'b': 3})\n",
      "['a', 'b', 'c']\n"
     ]
    }
   ],
   "source": [
    "from collections import Counter\n",
    "x = Counter({'a':5, 'b':3, 'c':7})\n",
    "print(x)\n",
    "print(sorted(x))"
   ]
  },
  {
   "cell_type": "code",
   "execution_count": 16,
   "metadata": {
    "ExecuteTime": {
     "end_time": "2019-09-14T03:48:24.652000Z",
     "start_time": "2019-09-14T03:48:24.649000Z"
    }
   },
   "outputs": [
    {
     "name": "stdout",
     "output_type": "stream",
     "text": [
      "dict_items([('a', 5), ('b', 3), ('c', 7)])\n",
      "[('a', 5), ('b', 3), ('c', 7)]\n"
     ]
    }
   ],
   "source": [
    "print(x.items())\n",
    "print(sorted(x.items()))"
   ]
  },
  {
   "cell_type": "markdown",
   "metadata": {
    "collapsed": true
   },
   "source": [
    "#### 使用列表理解 `pandas DataFrame`"
   ]
  },
  {
   "cell_type": "code",
   "execution_count": 17,
   "metadata": {
    "ExecuteTime": {
     "end_time": "2019-09-14T04:29:16.688000Z",
     "start_time": "2019-09-14T04:29:15.250000Z"
    }
   },
   "outputs": [
    {
     "name": "stdout",
     "output_type": "stream",
     "text": [
      "     name  prevsalary  nextsalary\n",
      "0   Sandy          71          75\n",
      "1     Sam          65          80\n",
      "2  Wright          64          61\n",
      "3    Atul          90          89\n"
     ]
    }
   ],
   "source": [
    "import pandas as pd\n",
    "df = pd.DataFrame({'name': ['Sandy', 'Sam', 'Wright', 'Atul'], \n",
    "                    'prevsalary': [71, 65, 64, 90],                   \n",
    "                    'nextsalary': [75, 80, 61, 89]})\n",
    "print(df)"
   ]
  },
  {
   "cell_type": "code",
   "execution_count": 18,
   "metadata": {
    "ExecuteTime": {
     "end_time": "2019-09-14T04:30:22.625000Z",
     "start_time": "2019-09-14T04:30:22.611000Z"
    }
   },
   "outputs": [
    {
     "name": "stdout",
     "output_type": "stream",
     "text": [
      "     name  prevsalary  nextsalary          Flag\n",
      "0   Sandy          71          75  High Bracket\n",
      "1     Sam          65          80   Low Bracket\n",
      "2  Wright          64          61   Low Bracket\n",
      "3    Atul          90          89  High Bracket\n"
     ]
    }
   ],
   "source": [
    "df['Flag'] = [\"High Bracket\" if x > 70 else \"Low Bracket\" for x in df['prevsalary']]\n",
    "print(df)"
   ]
  },
  {
   "cell_type": "markdown",
   "metadata": {
    "collapsed": true
   },
   "source": [
    "#### 元组(tuple)与列表(list)"
   ]
  },
  {
   "cell_type": "code",
   "execution_count": 19,
   "metadata": {
    "ExecuteTime": {
     "end_time": "2019-09-14T04:35:49.115000Z",
     "start_time": "2019-09-14T04:35:49.110000Z"
    }
   },
   "outputs": [
    {
     "name": "stdout",
     "output_type": "stream",
     "text": [
      "[('a', 'c'), ('a', 'd'), ('b', 'c'), ('b', 'd')]\n"
     ]
    }
   ],
   "source": [
    "l1 = ['a','b']\n",
    "l2 = ['c','d']\n",
    "print([(x,y) for x in l1 for y in l2])"
   ]
  },
  {
   "cell_type": "code",
   "execution_count": 20,
   "metadata": {
    "ExecuteTime": {
     "end_time": "2019-09-14T04:36:07.367000Z",
     "start_time": "2019-09-14T04:36:07.364000Z"
    }
   },
   "outputs": [
    {
     "name": "stdout",
     "output_type": "stream",
     "text": [
      "[('a', 'c'), ('b', 'd')]\n"
     ]
    }
   ],
   "source": [
    "print(list(zip(l1, l2)))"
   ]
  },
  {
   "cell_type": "markdown",
   "metadata": {
    "collapsed": true
   },
   "source": [
    "#### 分割字符串"
   ]
  },
  {
   "cell_type": "code",
   "execution_count": 21,
   "metadata": {
    "ExecuteTime": {
     "end_time": "2019-09-14T04:37:20.627000Z",
     "start_time": "2019-09-14T04:37:20.621000Z"
    }
   },
   "outputs": [
    {
     "name": "stdout",
     "output_type": "stream",
     "text": [
      "['life', 'is', 'beautiful', 'no', 'need', 'to', 'overthink', 'meditation', 'help', 'in', 'overcoming', 'depression']\n"
     ]
    }
   ],
   "source": [
    "text = [\"Life is beautiful\", \"No need to overthink\", \"Meditation help in overcoming depression\"]\n",
    "print([word for sentence in text for word in sentence.lower().split(' ')])"
   ]
  },
  {
   "cell_type": "markdown",
   "metadata": {
    "collapsed": true
   },
   "source": [
    "#### 删除所有特定实例"
   ]
  },
  {
   "cell_type": "markdown",
   "metadata": {},
   "source": [
    "[Remove all instances of a value from a list](https://teamtreehouse.com/community/remove-all-instances-of-a-value-from-a-list)"
   ]
  },
  {
   "cell_type": "code",
   "execution_count": 25,
   "metadata": {
    "ExecuteTime": {
     "end_time": "2019-09-17T02:56:37.097000Z",
     "start_time": "2019-09-17T02:56:37.089000Z"
    }
   },
   "outputs": [
    {
     "name": "stdout",
     "output_type": "stream",
     "text": [
      "[1, 3, 2, 2, 5, 7, 11, 3, 9, 5]\n",
      "[1, 2, 2, 5, 7, 11, 9, 5]\n"
     ]
    }
   ],
   "source": [
    "my_list = [1, 3, 2, 2, 5, 7, 11, 3, 9, 5]\n",
    "print(my_list)\n",
    "\n",
    "for num in my_list:\n",
    "    if 3 in my_list:\n",
    "        my_list.remove(3)\n",
    "    \n",
    "print(my_list)"
   ]
  },
  {
   "cell_type": "code",
   "execution_count": 26,
   "metadata": {
    "ExecuteTime": {
     "end_time": "2019-09-17T02:57:04.066000Z",
     "start_time": "2019-09-17T02:57:04.061000Z"
    }
   },
   "outputs": [
    {
     "name": "stdout",
     "output_type": "stream",
     "text": [
      "[1, 2, 2, 5, 7, 11, 9, 5]\n"
     ]
    }
   ],
   "source": [
    "my_list = [x for x in my_list if x != 3]   # 列表推导式\n",
    "print(my_list)"
   ]
  },
  {
   "cell_type": "markdown",
   "metadata": {
    "collapsed": true
   },
   "source": [
    "[Remove all occurrences of a value from a list?](https://stackoverflow.com/questions/1157106/remove-all-occurrences-of-a-value-from-a-list)"
   ]
  },
  {
   "cell_type": "code",
   "execution_count": 27,
   "metadata": {
    "ExecuteTime": {
     "end_time": "2019-09-17T02:59:55.257000Z",
     "start_time": "2019-09-17T02:59:55.246000Z"
    }
   },
   "outputs": [
    {
     "name": "stdout",
     "output_type": "stream",
     "text": [
      "[1, 3, 3, 4]\n"
     ]
    }
   ],
   "source": [
    "x = [1,2,3,2,2,2,3,4]\n",
    "print(list(filter((2).__ne__, x)))"
   ]
  },
  {
   "cell_type": "code",
   "execution_count": 28,
   "metadata": {
    "ExecuteTime": {
     "end_time": "2019-09-17T03:00:25.420000Z",
     "start_time": "2019-09-17T03:00:25.411000Z"
    }
   },
   "outputs": [
    {
     "name": "stdout",
     "output_type": "stream",
     "text": [
      "[1, 3, 3, 4]\n"
     ]
    }
   ],
   "source": [
    "x = [1,2,3,2,2,2,3,4]\n",
    "print(list(filter(lambda a: a != 2, x)))"
   ]
  },
  {
   "cell_type": "code",
   "execution_count": 29,
   "metadata": {
    "ExecuteTime": {
     "end_time": "2019-09-17T03:00:52.890000Z",
     "start_time": "2019-09-17T03:00:52.879000Z"
    }
   },
   "outputs": [
    {
     "name": "stdout",
     "output_type": "stream",
     "text": [
      "[1, 3, 4, 3]\n"
     ]
    }
   ],
   "source": [
    "x = [1, 2, 3, 4, 2, 2, 3]\n",
    "x[:] = (value for value in x if value != 2)\n",
    "print(x)"
   ]
  },
  {
   "cell_type": "code",
   "execution_count": 30,
   "metadata": {
    "ExecuteTime": {
     "end_time": "2019-09-17T03:01:26.026000Z",
     "start_time": "2019-09-17T03:01:26.020000Z"
    }
   },
   "outputs": [
    {
     "name": "stdout",
     "output_type": "stream",
     "text": [
      "[1, 3, 4, 3]\n"
     ]
    }
   ],
   "source": [
    "x = [1, 2, 3, 4, 2, 2, 3]\n",
    "while 2 in x:\n",
    "    x.remove(2)\n",
    "print(x)"
   ]
  },
  {
   "cell_type": "code",
   "execution_count": 38,
   "metadata": {
    "ExecuteTime": {
     "end_time": "2019-09-17T03:06:02.721000Z",
     "start_time": "2019-09-17T03:06:02.712000Z"
    }
   },
   "outputs": [
    {
     "name": "stdout",
     "output_type": "stream",
     "text": [
      "  i have   a pen  .  \n",
      "['', '', 'i', 'have', '', '', 'a', 'pen', '', '.', '', '']\n",
      "['i', 'have', 'a', 'pen', '.']\n"
     ]
    }
   ],
   "source": [
    "a = \"  i have   a pen  .  \"\n",
    "print(a)\n",
    "b = a.split(' ')\n",
    "print(b)\n",
    "for i in range(b.count('')):\n",
    "    b.remove('')\n",
    "    \n",
    "print(b)"
   ]
  },
  {
   "cell_type": "code",
   "execution_count": 39,
   "metadata": {
    "ExecuteTime": {
     "end_time": "2019-09-17T03:06:48.884000Z",
     "start_time": "2019-09-17T03:06:48.875000Z"
    }
   },
   "outputs": [
    {
     "name": "stdout",
     "output_type": "stream",
     "text": [
      "[3, 4, 5, 6, 7, 8, 3, 4, 6]\n",
      "[3, 4, 5, 6, 7, 8, 3, 4, 6]\n"
     ]
    }
   ],
   "source": [
    "#If we want to remove all 2.\n",
    "ls = [2, 2, 3, 4, 5, 6, 7, 8, 2, 3, 4, 6, 2]\n",
    "\n",
    "# 1-filter takes two arguments(condition,sequence)\n",
    "ls = list(filter(lambda x: x != 2, ls))\n",
    "print(ls)\n",
    "\n",
    "# 2-list comprehension\n",
    "ls = [x for x in ls if x != 2]\n",
    "print(ls)"
   ]
  },
  {
   "cell_type": "markdown",
   "metadata": {
    "collapsed": true
   },
   "source": [
    "#### 将列表分成大小为N的块\n",
    "\n",
    "[Break a list into chunks of size N in Python](https://www.geeksforgeeks.org/break-list-chunks-size-n-python/)"
   ]
  },
  {
   "cell_type": "code",
   "execution_count": 1,
   "metadata": {
    "ExecuteTime": {
     "end_time": "2019-09-20T01:22:55.904000Z",
     "start_time": "2019-09-20T01:22:55.890000Z"
    }
   },
   "outputs": [
    {
     "name": "stdout",
     "output_type": "stream",
     "text": [
      "[['geeks', 'for', 'geeks', 'like', 'geeky'], ['nerdy', 'geek', 'love', 'questions', 'words'], ['life']]\n"
     ]
    }
   ],
   "source": [
    "my_list = [\n",
    "        'geeks', 'for', 'geeks', 'like', 'geeky', 'nerdy', 'geek', 'love',\n",
    "        'questions', 'words', 'life']\n",
    "\n",
    "\n",
    "# Yield successive n-sized\n",
    "# chunks from l.\n",
    "def divide_chunks(l, n):\n",
    "\n",
    "    # looping till length l\n",
    "    for i in range(0, len(l), n):\n",
    "        yield l[i:i + n]\n",
    "\n",
    "\n",
    "# How many elements each\n",
    "# list should have\n",
    "n = 5\n",
    "\n",
    "x = list(divide_chunks(my_list, n))\n",
    "print(x)"
   ]
  },
  {
   "cell_type": "code",
   "execution_count": 2,
   "metadata": {
    "ExecuteTime": {
     "end_time": "2019-09-20T01:23:15.118000Z",
     "start_time": "2019-09-20T01:23:15.112000Z"
    }
   },
   "outputs": [
    {
     "name": "stdout",
     "output_type": "stream",
     "text": [
      "[[1, 2, 3, 4], [5, 6, 7, 8], [9]]\n"
     ]
    }
   ],
   "source": [
    "my_list = [1, 2, 3, 4, 5, \n",
    "              6, 7, 8, 9] \n",
    "  \n",
    "# How many elements each \n",
    "# list should have \n",
    "n = 4 \n",
    "  \n",
    "# using list comprehension \n",
    "final = [my_list[i * n:(i + 1) * n] for i in range((len(my_list) + n - 1) // n )]  \n",
    "print (final) "
   ]
  },
  {
   "cell_type": "code",
   "execution_count": null,
   "metadata": {
    "collapsed": true
   },
   "outputs": [],
   "source": []
  }
 ],
 "metadata": {
  "kernelspec": {
   "display_name": "Python 3",
   "language": "python",
   "name": "python3"
  },
  "language_info": {
   "codemirror_mode": {
    "name": "ipython",
    "version": 3
   },
   "file_extension": ".py",
   "mimetype": "text/x-python",
   "name": "python",
   "nbconvert_exporter": "python",
   "pygments_lexer": "ipython3",
   "version": "3.6.2"
  },
  "toc": {
   "base_numbering": 1,
   "nav_menu": {},
   "number_sections": true,
   "sideBar": true,
   "skip_h1_title": false,
   "title_cell": "Table of Contents",
   "title_sidebar": "Contents",
   "toc_cell": false,
   "toc_position": {
    "height": "calc(100% - 180px)",
    "left": "10px",
    "top": "150px",
    "width": "303px"
   },
   "toc_section_display": true,
   "toc_window_display": true
  },
  "varInspector": {
   "cols": {
    "lenName": 16,
    "lenType": 16,
    "lenVar": 40
   },
   "kernels_config": {
    "python": {
     "delete_cmd_postfix": "",
     "delete_cmd_prefix": "del ",
     "library": "var_list.py",
     "varRefreshCmd": "print(var_dic_list())"
    },
    "r": {
     "delete_cmd_postfix": ") ",
     "delete_cmd_prefix": "rm(",
     "library": "var_list.r",
     "varRefreshCmd": "cat(var_dic_list()) "
    }
   },
   "types_to_exclude": [
    "module",
    "function",
    "builtin_function_or_method",
    "instance",
    "_Feature"
   ],
   "window_display": false
  }
 },
 "nbformat": 4,
 "nbformat_minor": 2
}
