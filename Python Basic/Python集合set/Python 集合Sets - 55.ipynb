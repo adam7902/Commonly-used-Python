{
 "cells": [
  {
   "cell_type": "markdown",
   "metadata": {},
   "source": [
    "Python Set \n",
    "\n",
    "https://www.techbeamers.com/python-set/"
   ]
  },
  {
   "cell_type": "markdown",
   "metadata": {},
   "source": [
    "[Python Sets](https://www.programiz.com/python-programming/set)\n",
    "\n",
    "**[Sets in Python](https://realpython.com/python-sets/)**"
   ]
  },
  {
   "cell_type": "markdown",
   "metadata": {},
   "source": [
    "<img src=\"https://files.realpython.com/media/t.8b7abb515ae8.png\" alt=\"tuple\" width=\"400\"/>"
   ]
  },
  {
   "cell_type": "markdown",
   "metadata": {},
   "source": [
    "#### 定义集合\n",
    "\n",
    "Python内置的set类型具有以下特点:\n",
    "\n",
    "    集是无序的。\n",
    "    集合元素是惟一的。不允许重复元素。\n",
    "    集合本身可以修改，但是集合中包含的元素必须是不可变类型。\n",
    "    \n",
    "    x = {<obj>, <obj>, ..., <obj>}"
   ]
  },
  {
   "cell_type": "code",
   "execution_count": 19,
   "metadata": {
    "ExecuteTime": {
     "end_time": "2019-09-14T10:12:20.560000Z",
     "start_time": "2019-09-14T10:12:20.554000Z"
    }
   },
   "outputs": [
    {
     "name": "stdout",
     "output_type": "stream",
     "text": [
      "{'w', 'y', 'e', 'q', 't', 'r'}\n"
     ]
    }
   ],
   "source": [
    "A = set('qwerty')\n",
    "print(A)"
   ]
  },
  {
   "cell_type": "code",
   "execution_count": 20,
   "metadata": {
    "ExecuteTime": {
     "end_time": "2019-09-14T10:12:32.967000Z",
     "start_time": "2019-09-14T10:12:32.957000Z"
    }
   },
   "outputs": [
    {
     "name": "stdout",
     "output_type": "stream",
     "text": [
      "{1, 2, 3}\n"
     ]
    }
   ],
   "source": [
    "A = {1, 2, 3}\n",
    "# A = set('qwerty')\n",
    "print(A)"
   ]
  },
  {
   "cell_type": "code",
   "execution_count": 21,
   "metadata": {
    "ExecuteTime": {
     "end_time": "2019-09-14T10:12:47.796000Z",
     "start_time": "2019-09-14T10:12:47.790000Z"
    }
   },
   "outputs": [
    {
     "name": "stdout",
     "output_type": "stream",
     "text": [
      "True\n"
     ]
    }
   ],
   "source": [
    "A = {1, 2, 3}\n",
    "B = {3, 2, 3, 1}\n",
    "print(A == B)"
   ]
  },
  {
   "cell_type": "code",
   "execution_count": 38,
   "metadata": {
    "ExecuteTime": {
     "end_time": "2019-09-14T11:48:25.891000Z",
     "start_time": "2019-09-14T11:48:25.881000Z"
    }
   },
   "outputs": [
    {
     "name": "stdout",
     "output_type": "stream",
     "text": [
      "{3.14159, None, 42, 'foo'}\n"
     ]
    }
   ],
   "source": [
    "x = {42, 'foo', 3.14159, None}\n",
    "print(x)"
   ]
  },
  {
   "cell_type": "markdown",
   "metadata": {},
   "source": [
    "不要忘记set元素必须是不可变的。例如，一个元组可以包含在一个集合中:"
   ]
  },
  {
   "cell_type": "code",
   "execution_count": 39,
   "metadata": {
    "ExecuteTime": {
     "end_time": "2019-09-14T11:48:49.438000Z",
     "start_time": "2019-09-14T11:48:49.434000Z"
    }
   },
   "outputs": [
    {
     "name": "stdout",
     "output_type": "stream",
     "text": [
      "{3.14159, 42, 'foo', (1, 2, 3)}\n"
     ]
    }
   ],
   "source": [
    "x = {42, 'foo', (1, 2, 3), 3.14159}\n",
    "print(x)"
   ]
  },
  {
   "cell_type": "markdown",
   "metadata": {},
   "source": [
    "但是列表和字典是可变的，所以不能设置元素:"
   ]
  },
  {
   "cell_type": "code",
   "execution_count": 40,
   "metadata": {
    "ExecuteTime": {
     "end_time": "2019-09-14T11:49:26.474000Z",
     "start_time": "2019-09-14T11:49:26.447000Z"
    }
   },
   "outputs": [
    {
     "ename": "TypeError",
     "evalue": "unhashable type: 'list'",
     "output_type": "error",
     "traceback": [
      "\u001b[1;31m---------------------------------------------------------------------------\u001b[0m",
      "\u001b[1;31mTypeError\u001b[0m                                 Traceback (most recent call last)",
      "\u001b[1;32m<ipython-input-40-e87edcc78bd7>\u001b[0m in \u001b[0;36m<module>\u001b[1;34m()\u001b[0m\n\u001b[0;32m      1\u001b[0m \u001b[0ma\u001b[0m \u001b[1;33m=\u001b[0m \u001b[1;33m[\u001b[0m\u001b[1;36m1\u001b[0m\u001b[1;33m,\u001b[0m \u001b[1;36m2\u001b[0m\u001b[1;33m,\u001b[0m \u001b[1;36m3\u001b[0m\u001b[1;33m]\u001b[0m\u001b[1;33m\u001b[0m\u001b[0m\n\u001b[1;32m----> 2\u001b[1;33m \u001b[1;33m{\u001b[0m\u001b[0ma\u001b[0m\u001b[1;33m}\u001b[0m\u001b[1;33m\u001b[0m\u001b[0m\n\u001b[0m",
      "\u001b[1;31mTypeError\u001b[0m: unhashable type: 'list'"
     ]
    }
   ],
   "source": [
    "a = [1, 2, 3]\n",
    "{a}"
   ]
  },
  {
   "cell_type": "code",
   "execution_count": 41,
   "metadata": {
    "ExecuteTime": {
     "end_time": "2019-09-14T11:50:13.192000Z",
     "start_time": "2019-09-14T11:50:13.179000Z"
    }
   },
   "outputs": [
    {
     "ename": "TypeError",
     "evalue": "unhashable type: 'dict'",
     "output_type": "error",
     "traceback": [
      "\u001b[1;31m---------------------------------------------------------------------------\u001b[0m",
      "\u001b[1;31mTypeError\u001b[0m                                 Traceback (most recent call last)",
      "\u001b[1;32m<ipython-input-41-290bfaed1b7f>\u001b[0m in \u001b[0;36m<module>\u001b[1;34m()\u001b[0m\n\u001b[0;32m      1\u001b[0m \u001b[0md\u001b[0m \u001b[1;33m=\u001b[0m \u001b[1;33m{\u001b[0m\u001b[1;34m'a'\u001b[0m\u001b[1;33m:\u001b[0m \u001b[1;36m1\u001b[0m\u001b[1;33m,\u001b[0m \u001b[1;34m'b'\u001b[0m\u001b[1;33m:\u001b[0m \u001b[1;36m2\u001b[0m\u001b[1;33m}\u001b[0m\u001b[1;33m\u001b[0m\u001b[0m\n\u001b[1;32m----> 2\u001b[1;33m \u001b[1;33m{\u001b[0m\u001b[0md\u001b[0m\u001b[1;33m}\u001b[0m\u001b[1;33m\u001b[0m\u001b[0m\n\u001b[0m",
      "\u001b[1;31mTypeError\u001b[0m: unhashable type: 'dict'"
     ]
    }
   ],
   "source": [
    "d = {'a': 1, 'b': 2}\n",
    "{d}"
   ]
  },
  {
   "cell_type": "code",
   "execution_count": 1,
   "metadata": {
    "ExecuteTime": {
     "end_time": "2019-03-30T03:23:09.849000Z",
     "start_time": "2019-03-30T03:23:09.846000Z"
    }
   },
   "outputs": [
    {
     "name": "stdout",
     "output_type": "stream",
     "text": [
      "{11, 3, 15, 7}\n",
      "{'11', 1.1, 11, (1, 2)}\n"
     ]
    }
   ],
   "source": [
    "# create a set of numbers\n",
    "py_set_num = {3, 7, 11, 15}\n",
    "print(py_set_num)\n",
    "\n",
    "# create a set of mixed data types\n",
    "py_set_mix = {11, 1.1, \"11\", (1, 2)}\n",
    "print(py_set_mix)"
   ]
  },
  {
   "cell_type": "code",
   "execution_count": 2,
   "metadata": {
    "ExecuteTime": {
     "end_time": "2019-03-30T03:23:53.603000Z",
     "start_time": "2019-03-30T03:23:53.597000Z"
    }
   },
   "outputs": [
    {
     "name": "stdout",
     "output_type": "stream",
     "text": [
      "{11, 3, 15, 7}\n",
      "{'11', 1.1, 11, (1, 2)}\n",
      "[11, 1.1, '11', (1, 2), 12]\n",
      "{'11', 1.1, (1, 2), 11, 12}\n"
     ]
    }
   ],
   "source": [
    "# set can't store duplicate elements\n",
    "py_set_num = {3, 7, 11, 15, 3, 7}\n",
    "# it'll automatically filter the duplicates\n",
    "print(py_set_num)\n",
    "\n",
    "# create a set using the set() method\n",
    "# creating set with a fixed set of elements\n",
    "py_set_mix = set([11, 1.1, \"11\", (1, 2)])\n",
    "print(py_set_mix)\n",
    "\n",
    "# creating set with dynamic elements\n",
    "py_list = [11, 1.1, \"11\", (1, 2)]\n",
    "py_list.append(12)\n",
    "print(py_list)\n",
    "py_set_mix = set(py_list)\n",
    "print(py_set_mix)"
   ]
  },
  {
   "cell_type": "code",
   "execution_count": 3,
   "metadata": {
    "ExecuteTime": {
     "end_time": "2019-03-30T03:24:05.906000Z",
     "start_time": "2019-03-30T03:24:05.902000Z"
    }
   },
   "outputs": [
    {
     "name": "stdout",
     "output_type": "stream",
     "text": [
      "The value of py_set_num: {}\n",
      "The type of py_set_num: <class 'dict'>\n",
      "The value of py_set_num: set()\n",
      "The type of py_set_num: <class 'set'>\n"
     ]
    }
   ],
   "source": [
    "# Let's try to create an empty Python set\n",
    "py_set_num = {}\n",
    "print(\"The value of py_set_num:\", py_set_num)\n",
    "print(\"The type of py_set_num:\", type(py_set_num))\n",
    "\n",
    "py_set_num = set()\n",
    "print(\"The value of py_set_num:\", py_set_num)\n",
    "print(\"The type of py_set_num:\", type(py_set_num))"
   ]
  },
  {
   "cell_type": "code",
   "execution_count": 4,
   "metadata": {
    "ExecuteTime": {
     "end_time": "2019-03-30T03:24:25.164000Z",
     "start_time": "2019-03-30T03:24:25.158000Z"
    }
   },
   "outputs": [
    {
     "name": "stdout",
     "output_type": "stream",
     "text": [
      "Error in py_set_num[0]: 'set' object does not support indexing\n",
      "The value of py_set_num: {88, 77}\n",
      "The value of py_set_num: {88, 99, 77}\n",
      "The value of py_set_num: {66, 99, 44, 77, 55, 88}\n",
      "The value of py_set_num: {66, 99, 4.4, 5.5, 6.6, 2.2, 44, 77, 55, 88}\n"
     ]
    }
   ],
   "source": [
    "# Let's try to change a Python set\n",
    "py_set_num = {77, 88}\n",
    "\n",
    "try:\n",
    "    print(py_set_num[0])\n",
    "except Exception as ex:\n",
    "    print(\"Error in py_set_num[0]:\", ex)\n",
    "\n",
    "print(\"The value of py_set_num:\", py_set_num)\n",
    "\n",
    "# Let's add an element to the set\n",
    "py_set_num.add(99)\n",
    "print(\"The value of py_set_num:\", py_set_num)\n",
    "\n",
    "# Let's add multiple elements to the set\n",
    "py_set_num.update([44, 55, 66])\n",
    "print(\"The value of py_set_num:\", py_set_num)\n",
    "\n",
    "# Let's add a list and a set as elements\n",
    "py_set_num.update([4.4, 5.5, 6.6], {2.2, 4.4, 6.6})\n",
    "print(\"The value of py_set_num:\", py_set_num)"
   ]
  },
  {
   "cell_type": "code",
   "execution_count": 5,
   "metadata": {
    "ExecuteTime": {
     "end_time": "2019-03-30T03:25:12.794000Z",
     "start_time": "2019-03-30T03:25:12.789000Z"
    }
   },
   "outputs": [
    {
     "name": "stdout",
     "output_type": "stream",
     "text": [
      "py_set_num.discard(99): {33, 77, 22, 55}\n",
      "py_set_num.remove(77): {33, 22, 55}\n",
      "py_set_num.discard(44): {33, 22, 55}\n",
      "py_set_num.remove(44) => KeyError: 44\n"
     ]
    }
   ],
   "source": [
    "# Let's try to use a Python set\n",
    "py_set_num = {22, 33, 55, 77, 99}\n",
    "\n",
    "# discard an element from the set\n",
    "py_set_num.discard(99)\n",
    "print(\"py_set_num.discard(99):\", py_set_num)\n",
    "\n",
    "# remove an element from the set\n",
    "py_set_num.remove(77)\n",
    "print(\"py_set_num.remove(77):\", py_set_num)\n",
    "\n",
    "# discard an element not present in the set\n",
    "py_set_num.discard(44)\n",
    "print(\"py_set_num.discard(44):\", py_set_num)\n",
    "\n",
    "# remove an element not present in the set\n",
    "try:\n",
    "    py_set_num.remove(44)\n",
    "except Exception as ex:\n",
    "    print(\"py_set_num.remove(44) => KeyError:\", ex)"
   ]
  },
  {
   "cell_type": "code",
   "execution_count": 6,
   "metadata": {
    "ExecuteTime": {
     "end_time": "2019-03-30T03:25:35.521000Z",
     "start_time": "2019-03-30T03:25:35.517000Z"
    }
   },
   "outputs": [
    {
     "name": "stdout",
     "output_type": "stream",
     "text": [
      "py_set_num: {33, 99, 77, 22, 55}\n",
      "py_set_num.pop(): {99, 77, 22, 55}\n",
      "py_set_num.pop(): {77, 22, 55}\n",
      "py_set_num.clear(): set()\n"
     ]
    }
   ],
   "source": [
    "# Let's use the following Python set\n",
    "py_set_num = {22, 33, 55, 77, 99}\n",
    "print(\"py_set_num:\", py_set_num)\n",
    "\n",
    "# pop an element from the set\n",
    "py_set_num.pop()\n",
    "print(\"py_set_num.pop():\", py_set_num)\n",
    "\n",
    "# pop one more element from the set\n",
    "py_set_num.pop()\n",
    "print(\"py_set_num.pop():\", py_set_num)\n",
    "\n",
    "# clear all elements from the set\n",
    "py_set_num.clear()\n",
    "print(\"py_set_num.clear():\", py_set_num)"
   ]
  },
  {
   "cell_type": "code",
   "execution_count": 7,
   "metadata": {
    "ExecuteTime": {
     "end_time": "2019-03-30T03:25:55.863000Z",
     "start_time": "2019-03-30T03:25:55.860000Z"
    },
    "collapsed": true
   },
   "outputs": [],
   "source": [
    "# We'll use the setA and setB for our illustration\n",
    "setA = {'a', 'e', 'i', 'o', 'u', 'g', 'h'}\n",
    "setB = {'a', 'e', 'z', 'b', 't', 'o', 'u'}"
   ]
  },
  {
   "cell_type": "markdown",
   "metadata": {},
   "source": [
    "#### 添加元素\n",
    "\n",
    "[Python Set add()](https://www.programiz.com/python-programming/methods/set/add)"
   ]
  },
  {
   "cell_type": "code",
   "execution_count": 1,
   "metadata": {
    "ExecuteTime": {
     "end_time": "2019-09-14T09:54:17.352000Z",
     "start_time": "2019-09-14T09:54:17.342000Z"
    }
   },
   "outputs": [
    {
     "name": "stdout",
     "output_type": "stream",
     "text": [
      "Vowels are: {'e', 'u', 'a', 'i', 'o'}\n",
      "Vowels are: {'e', 'u', 'a', 'i', 'o'}\n"
     ]
    }
   ],
   "source": [
    "vowels = {'a', 'e', 'i', 'u'}\n",
    "\n",
    "# adding 'o'\n",
    "vowels.add('o')\n",
    "print('Vowels are:', vowels)\n",
    "\n",
    "# adding 'a' again\n",
    "vowels.add('a')\n",
    "print('Vowels are:', vowels)"
   ]
  },
  {
   "cell_type": "code",
   "execution_count": 3,
   "metadata": {
    "ExecuteTime": {
     "end_time": "2019-09-14T09:57:21.600000Z",
     "start_time": "2019-09-14T09:57:21.568000Z"
    }
   },
   "outputs": [
    {
     "name": "stdout",
     "output_type": "stream",
     "text": [
      "{'g', 'e', 'k', 's', ('f', 'o')}\n"
     ]
    }
   ],
   "source": [
    "# Python code to demonstrate addition of tuple to a set. \n",
    "s = {'g', 'e', 'e', 'k', 's'} \n",
    "t = ('f', 'o') \n",
    "  \n",
    "# adding tuple t to set s. \n",
    "s.add(t) \n",
    "  \n",
    "print(s) "
   ]
  },
  {
   "cell_type": "code",
   "execution_count": 4,
   "metadata": {
    "ExecuteTime": {
     "end_time": "2019-09-14T09:58:27.374000Z",
     "start_time": "2019-09-14T09:58:27.370000Z"
    }
   },
   "outputs": [
    {
     "name": "stdout",
     "output_type": "stream",
     "text": [
      "{'g', 'f', 'o', ('f', 'o'), 'e', 'k', 's'}\n"
     ]
    }
   ],
   "source": [
    "r = {'f', 'o'}\n",
    "print(s|r)"
   ]
  },
  {
   "cell_type": "markdown",
   "metadata": {},
   "source": [
    "**与字典括号区分**"
   ]
  },
  {
   "cell_type": "code",
   "execution_count": 2,
   "metadata": {
    "ExecuteTime": {
     "end_time": "2019-09-14T09:55:15.395000Z",
     "start_time": "2019-09-14T09:55:15.374000Z"
    }
   },
   "outputs": [
    {
     "name": "stdout",
     "output_type": "stream",
     "text": [
      "<class 'dict'>\n",
      "<class 'set'>\n"
     ]
    }
   ],
   "source": [
    "# initialize a with {}\n",
    "a = {}\n",
    "\n",
    "# check data type of a\n",
    "# Output: <class 'dict'>\n",
    "print(type(a))\n",
    "\n",
    "# initialize a with set()\n",
    "a = set()\n",
    "\n",
    "# check data type of a\n",
    "# Output: <class 'set'>\n",
    "print(type(a))"
   ]
  },
  {
   "cell_type": "markdown",
   "metadata": {},
   "source": [
    "#### 集合运算"
   ]
  },
  {
   "cell_type": "code",
   "execution_count": 5,
   "metadata": {
    "ExecuteTime": {
     "end_time": "2019-09-14T10:03:21.444000Z",
     "start_time": "2019-09-14T10:03:21.416000Z"
    }
   },
   "outputs": [
    {
     "name": "stdout",
     "output_type": "stream",
     "text": [
      "{'d', 'a', 'r', 'b', 'c'}\n",
      "{'a', 'm', 'l', 'z', 'c'}\n"
     ]
    }
   ],
   "source": [
    "a = set('abracadabra')\n",
    "b = set('alacazam')\n",
    "print(a)\n",
    "print(b)"
   ]
  },
  {
   "cell_type": "code",
   "execution_count": 6,
   "metadata": {
    "ExecuteTime": {
     "end_time": "2019-09-14T10:04:43.391000Z",
     "start_time": "2019-09-14T10:04:43.383000Z"
    }
   },
   "outputs": [
    {
     "name": "stdout",
     "output_type": "stream",
     "text": [
      "{'b', 'r', 'd'}\n"
     ]
    }
   ],
   "source": [
    "print(a - b)  # 集合a中包含而集合b中不包含的元素"
   ]
  },
  {
   "cell_type": "code",
   "execution_count": 7,
   "metadata": {
    "ExecuteTime": {
     "end_time": "2019-09-14T10:05:06.687000Z",
     "start_time": "2019-09-14T10:05:06.684000Z"
    }
   },
   "outputs": [
    {
     "name": "stdout",
     "output_type": "stream",
     "text": [
      "{'d', 'a', 'm', 'l', 'r', 'z', 'b', 'c'}\n"
     ]
    }
   ],
   "source": [
    "print(a | b)  # 集合a或b中包含的所有元素"
   ]
  },
  {
   "cell_type": "code",
   "execution_count": 8,
   "metadata": {
    "ExecuteTime": {
     "end_time": "2019-09-14T10:05:23.892000Z",
     "start_time": "2019-09-14T10:05:23.886000Z"
    }
   },
   "outputs": [
    {
     "name": "stdout",
     "output_type": "stream",
     "text": [
      "{'c', 'a'}\n"
     ]
    }
   ],
   "source": [
    "print(a & b)  # 集合a和b中都包含了的元素"
   ]
  },
  {
   "cell_type": "code",
   "execution_count": 9,
   "metadata": {
    "ExecuteTime": {
     "end_time": "2019-09-14T10:05:42.623000Z",
     "start_time": "2019-09-14T10:05:42.620000Z"
    }
   },
   "outputs": [
    {
     "name": "stdout",
     "output_type": "stream",
     "text": [
      "{'r', 'z', 'd', 'b', 'm', 'l'}\n"
     ]
    }
   ],
   "source": [
    "print(a ^ b)  # 不同时包含于a和b的元素"
   ]
  },
  {
   "cell_type": "markdown",
   "metadata": {},
   "source": [
    "#### 列表推导式"
   ]
  },
  {
   "cell_type": "code",
   "execution_count": 10,
   "metadata": {
    "ExecuteTime": {
     "end_time": "2019-09-14T10:06:20.236000Z",
     "start_time": "2019-09-14T10:06:20.230000Z"
    }
   },
   "outputs": [
    {
     "name": "stdout",
     "output_type": "stream",
     "text": [
      "{'r', 'd'}\n"
     ]
    }
   ],
   "source": [
    "a = {x for x in 'abracadabra' if x not in 'abc'}\n",
    "print(a)"
   ]
  },
  {
   "cell_type": "markdown",
   "metadata": {},
   "source": [
    "#### 移除元素\n",
    "s.remove( x )\n",
    "\n",
    "将元素 x 从集合 s 中移除，如果元素不存在，则会发生错误。"
   ]
  },
  {
   "cell_type": "code",
   "execution_count": 11,
   "metadata": {
    "ExecuteTime": {
     "end_time": "2019-09-14T10:07:15.881000Z",
     "start_time": "2019-09-14T10:07:15.875000Z"
    }
   },
   "outputs": [
    {
     "name": "stdout",
     "output_type": "stream",
     "text": [
      "{'Google', 'Runoob'}\n"
     ]
    }
   ],
   "source": [
    "thisset = set((\"Google\", \"Runoob\", \"Taobao\"))\n",
    "thisset.remove(\"Taobao\")\n",
    "print(thisset)"
   ]
  },
  {
   "cell_type": "code",
   "execution_count": 12,
   "metadata": {
    "ExecuteTime": {
     "end_time": "2019-09-14T10:07:29.385000Z",
     "start_time": "2019-09-14T10:07:29.257000Z"
    }
   },
   "outputs": [
    {
     "ename": "KeyError",
     "evalue": "'Facebook'",
     "output_type": "error",
     "traceback": [
      "\u001b[1;31m---------------------------------------------------------------------------\u001b[0m",
      "\u001b[1;31mKeyError\u001b[0m                                  Traceback (most recent call last)",
      "\u001b[1;32m<ipython-input-12-2974ebbe1ae6>\u001b[0m in \u001b[0;36m<module>\u001b[1;34m()\u001b[0m\n\u001b[1;32m----> 1\u001b[1;33m \u001b[0mthisset\u001b[0m\u001b[1;33m.\u001b[0m\u001b[0mremove\u001b[0m\u001b[1;33m(\u001b[0m\u001b[1;34m\"Facebook\"\u001b[0m\u001b[1;33m)\u001b[0m   \u001b[1;31m# 不存在会发生错误\u001b[0m\u001b[1;33m\u001b[0m\u001b[0m\n\u001b[0m",
      "\u001b[1;31mKeyError\u001b[0m: 'Facebook'"
     ]
    }
   ],
   "source": [
    "thisset.remove(\"Facebook\")   # 不存在会发生错误"
   ]
  },
  {
   "cell_type": "markdown",
   "metadata": {},
   "source": [
    "#### s.discard( x )\n",
    "如果元素不存在，不会发生错误"
   ]
  },
  {
   "cell_type": "code",
   "execution_count": 14,
   "metadata": {
    "ExecuteTime": {
     "end_time": "2019-09-14T10:08:36.254000Z",
     "start_time": "2019-09-14T10:08:36.245000Z"
    }
   },
   "outputs": [
    {
     "name": "stdout",
     "output_type": "stream",
     "text": [
      "{'Google', 'Taobao'}\n"
     ]
    }
   ],
   "source": [
    "thisset = set((\"Google\", \"Runoob\", \"Taobao\"))\n",
    "thisset.discard(\"Runoob\")\n",
    "thisset.discard(\"Facebook\")  # 不存在不会发生错误\n",
    "print(thisset)"
   ]
  },
  {
   "cell_type": "markdown",
   "metadata": {},
   "source": [
    "#### s.pop()\n",
    "\n",
    "设置随机删除集合中的一个元素"
   ]
  },
  {
   "cell_type": "code",
   "execution_count": 15,
   "metadata": {
    "ExecuteTime": {
     "end_time": "2019-09-14T10:09:06.582000Z",
     "start_time": "2019-09-14T10:09:06.576000Z"
    }
   },
   "outputs": [
    {
     "name": "stdout",
     "output_type": "stream",
     "text": [
      "Google\n"
     ]
    }
   ],
   "source": [
    "thisset = set((\"Google\", \"Runoob\", \"Taobao\", \"Facebook\"))\n",
    "x = thisset.pop()\n",
    " \n",
    "print(x)"
   ]
  },
  {
   "cell_type": "markdown",
   "metadata": {},
   "source": [
    "多次执行测试结果都不一样。\n",
    "\n",
    "然而在交互模式，pop 是删除集合的第一个元素（排序后的集合的第一个元素）"
   ]
  },
  {
   "cell_type": "markdown",
   "metadata": {},
   "source": [
    "#### 计算集合元素个数\n",
    "len(s)"
   ]
  },
  {
   "cell_type": "code",
   "execution_count": 16,
   "metadata": {
    "ExecuteTime": {
     "end_time": "2019-09-14T10:09:49.574000Z",
     "start_time": "2019-09-14T10:09:49.567000Z"
    }
   },
   "outputs": [
    {
     "name": "stdout",
     "output_type": "stream",
     "text": [
      "3\n"
     ]
    }
   ],
   "source": [
    "thisset = set((\"Google\", \"Runoob\", \"Taobao\"))\n",
    "print(len(thisset))"
   ]
  },
  {
   "cell_type": "markdown",
   "metadata": {},
   "source": [
    "#### s.clear()\n",
    "清空集合 s"
   ]
  },
  {
   "cell_type": "code",
   "execution_count": 17,
   "metadata": {
    "ExecuteTime": {
     "end_time": "2019-09-14T10:10:57.538000Z",
     "start_time": "2019-09-14T10:10:57.532000Z"
    }
   },
   "outputs": [
    {
     "name": "stdout",
     "output_type": "stream",
     "text": [
      "set()\n"
     ]
    }
   ],
   "source": [
    "thisset = set((\"Google\", \"Runoob\", \"Taobao\"))\n",
    "thisset.clear()\n",
    "print(thisset)"
   ]
  },
  {
   "cell_type": "markdown",
   "metadata": {},
   "source": [
    "#### x in s\n",
    "判断元素 x 是否在集合 s 中，存在返回 True，不存在返回 False。"
   ]
  },
  {
   "cell_type": "code",
   "execution_count": 18,
   "metadata": {
    "ExecuteTime": {
     "end_time": "2019-09-14T10:11:26.645000Z",
     "start_time": "2019-09-14T10:11:26.639000Z"
    }
   },
   "outputs": [
    {
     "name": "stdout",
     "output_type": "stream",
     "text": [
      "True\n",
      "False\n"
     ]
    }
   ],
   "source": [
    "thisset = set((\"Google\", \"Runoob\", \"Taobao\"))\n",
    "print(\"Runoob\" in thisset)\n",
    "\n",
    "print(\"Facebook\" in thisset)"
   ]
  },
  {
   "cell_type": "markdown",
   "metadata": {},
   "source": [
    "#### 并集"
   ]
  },
  {
   "cell_type": "markdown",
   "metadata": {},
   "source": [
    "    x1.union(x2[, x3 ...])\n",
    "\n",
    "    x1 | x2 [| x3 ...]"
   ]
  },
  {
   "cell_type": "markdown",
   "metadata": {},
   "source": [
    "<img src=\"https://files.realpython.com/media/t.ca57b915cec6.png\" alt=\"tuple\" width=\"300\"/>"
   ]
  },
  {
   "cell_type": "code",
   "execution_count": 43,
   "metadata": {
    "ExecuteTime": {
     "end_time": "2019-09-14T11:52:32.681000Z",
     "start_time": "2019-09-14T11:52:32.669000Z"
    }
   },
   "outputs": [
    {
     "name": "stdout",
     "output_type": "stream",
     "text": [
      "{'baz', 'qux', 'quux', 'bar', 'foo'}\n",
      "{'baz', 'qux', 'quux', 'bar', 'foo'}\n"
     ]
    }
   ],
   "source": [
    "x1 = {'foo', 'bar', 'baz'}\n",
    "x2 = {'baz', 'qux', 'quux'}\n",
    "\n",
    "print(x1.union(x2))\n",
    "print(x1 | x2)"
   ]
  },
  {
   "cell_type": "markdown",
   "metadata": {},
   "source": [
    "多个集合取并集"
   ]
  },
  {
   "cell_type": "code",
   "execution_count": 45,
   "metadata": {
    "ExecuteTime": {
     "end_time": "2019-09-14T11:54:31.168000Z",
     "start_time": "2019-09-14T11:54:31.148000Z"
    }
   },
   "outputs": [
    {
     "name": "stdout",
     "output_type": "stream",
     "text": [
      "{1, 2, 3, 4, 5, 6, 7}\n",
      "{1, 2, 3, 4, 5, 6, 7}\n"
     ]
    }
   ],
   "source": [
    "a = {1, 2, 3, 4}\n",
    "b = {2, 3, 4, 5}\n",
    "c = {3, 4, 5, 6}\n",
    "d = {4, 5, 6, 7}\n",
    "\n",
    "print(a.union(b, c, d))\n",
    "print(a | b | c | d)"
   ]
  },
  {
   "cell_type": "code",
   "execution_count": null,
   "metadata": {
    "collapsed": true
   },
   "outputs": [],
   "source": []
  },
  {
   "cell_type": "code",
   "execution_count": 42,
   "metadata": {
    "ExecuteTime": {
     "end_time": "2019-09-14T11:51:42.919000Z",
     "start_time": "2019-09-14T11:51:42.910000Z"
    }
   },
   "outputs": [
    {
     "name": "stdout",
     "output_type": "stream",
     "text": [
      "{'Jay', 'Arjun', 'Idrish', 'Karan', 'Archil'}\n"
     ]
    }
   ],
   "source": [
    "people = {\"Jay\", \"Idrish\", \"Archil\"}\n",
    "vampires = {\"Karan\", \"Arjun\"}\n",
    "population = people.union(vampires)\n",
    "print(population)"
   ]
  },
  {
   "cell_type": "code",
   "execution_count": 8,
   "metadata": {
    "ExecuteTime": {
     "end_time": "2019-03-30T03:26:08.108000Z",
     "start_time": "2019-03-30T03:26:08.101000Z"
    }
   },
   "outputs": [
    {
     "name": "stdout",
     "output_type": "stream",
     "text": [
      "Initial setA: {'o', 'e', 'u', 'h', 'i', 'g', 'a'} size: 7\n",
      "Initial setB: {'o', 'b', 'e', 'u', 't', 'a', 'z'} size: 7\n",
      "(setA | setB): {'z', 'o', 'b', 'e', 'u', 'h', 't', 'i', 'g', 'a'} size: 10\n"
     ]
    }
   ],
   "source": [
    "# We'll use the setA and setB for our illustration\n",
    "setA = {'a', 'e', 'i', 'o', 'u', 'g', 'h'}\n",
    "setB = {'a', 'e', 'z', 'b', 't', 'o', 'u'}\n",
    "\n",
    "print(\"Initial setA:\", setA, \"size:\", len(setA))\n",
    "print(\"Initial setB:\", setB, \"size:\", len(setB))\n",
    "\n",
    "print(\"(setA | setB):\", setA | setB, \"size:\", len(setA | setB))"
   ]
  },
  {
   "cell_type": "code",
   "execution_count": null,
   "metadata": {
    "collapsed": true
   },
   "outputs": [],
   "source": []
  },
  {
   "cell_type": "code",
   "execution_count": 9,
   "metadata": {
    "ExecuteTime": {
     "end_time": "2019-03-30T03:27:08.341000Z",
     "start_time": "2019-03-30T03:27:08.336000Z"
    }
   },
   "outputs": [
    {
     "name": "stdout",
     "output_type": "stream",
     "text": [
      "setA.union(setB): {'z', 'o', 'b', 'e', 'u', 'h', 't', 'i', 'g', 'a'} size: 10\n",
      "setB.union(setA): {'o', 'b', 'e', 'u', 'h', 't', 'i', 'a', 'g', 'z'} size: 10\n"
     ]
    }
   ],
   "source": [
    "# Python set example using the union() method\n",
    "setA = {'a', 'e', 'i', 'o', 'u', 'g', 'h'}\n",
    "setB = {'a', 'e', 'z', 'b', 't', 'o', 'u'}\n",
    "\n",
    "print(\"setA.union(setB):\", setA.union(setB), \"size:\", len(setA.union(setB)))\n",
    "print(\"setB.union(setA):\", setB.union(setA), \"size:\", len(setB.union(setA)))"
   ]
  },
  {
   "cell_type": "markdown",
   "metadata": {},
   "source": [
    "#### 交集  intersection\n",
    "\n",
    "    x1.intersection(x2[, x3 ...])\n",
    "\n",
    "    x1 & x2 [& x3 ...]"
   ]
  },
  {
   "cell_type": "markdown",
   "metadata": {},
   "source": [
    "<img src=\"https://files.realpython.com/media/t.9c6d33717cdc.png\" alt=\"tuple\" width=\"300\"/>"
   ]
  },
  {
   "cell_type": "code",
   "execution_count": 46,
   "metadata": {
    "ExecuteTime": {
     "end_time": "2019-09-14T11:56:26.731000Z",
     "start_time": "2019-09-14T11:56:26.725000Z"
    }
   },
   "outputs": [
    {
     "name": "stdout",
     "output_type": "stream",
     "text": [
      "{'baz'}\n",
      "{'baz'}\n"
     ]
    }
   ],
   "source": [
    "x1 = {'foo', 'bar', 'baz'}\n",
    "x2 = {'baz', 'qux', 'quux'}\n",
    "\n",
    "print(x1.intersection(x2))\n",
    "print(x1 & x2)"
   ]
  },
  {
   "cell_type": "code",
   "execution_count": 47,
   "metadata": {
    "ExecuteTime": {
     "end_time": "2019-09-14T11:56:59.956000Z",
     "start_time": "2019-09-14T11:56:59.945000Z"
    }
   },
   "outputs": [
    {
     "name": "stdout",
     "output_type": "stream",
     "text": [
      "{4}\n",
      "{4}\n"
     ]
    }
   ],
   "source": [
    "a = {1, 2, 3, 4}\n",
    "b = {2, 3, 4, 5}\n",
    "c = {3, 4, 5, 6}\n",
    "d = {4, 5, 6, 7}\n",
    "\n",
    "print(a.intersection(b, c, d))\n",
    "print(a & b & c & d)"
   ]
  },
  {
   "cell_type": "code",
   "execution_count": 10,
   "metadata": {
    "ExecuteTime": {
     "end_time": "2019-03-30T03:27:57.849000Z",
     "start_time": "2019-03-30T03:27:57.845000Z"
    }
   },
   "outputs": [
    {
     "name": "stdout",
     "output_type": "stream",
     "text": [
      "Initial setA: {'o', 'e', 'u', 'h', 'i', 'g', 'a'} size: 7\n",
      "Initial setB: {'o', 'b', 'e', 'u', 't', 'a', 'z'} size: 7\n",
      "(setA & setB): {'o', 'e', 'u', 'a'} size: 4\n"
     ]
    }
   ],
   "source": [
    "# Python intersection example using the & operator\n",
    "setA = {'a', 'e', 'i', 'o', 'u', 'g', 'h'}\n",
    "setB = {'a', 'e', 'z', 'b', 't', 'o', 'u'}\n",
    "\n",
    "print(\"Initial setA:\", setA, \"size:\", len(setA))\n",
    "print(\"Initial setB:\", setB, \"size:\", len(setB))\n",
    "\n",
    "print(\"(setA & setB):\", setA & setB, \"size:\", len(setA & setB))"
   ]
  },
  {
   "cell_type": "code",
   "execution_count": 11,
   "metadata": {
    "ExecuteTime": {
     "end_time": "2019-03-30T03:28:46.554000Z",
     "start_time": "2019-03-30T03:28:46.549000Z"
    }
   },
   "outputs": [
    {
     "name": "stdout",
     "output_type": "stream",
     "text": [
      "setA.intersection(setB): {'o', 'e', 'u', 'a'} size: 4\n",
      "setB.intersection(setA): {'o', 'e', 'u', 'a'} size: 4\n"
     ]
    }
   ],
   "source": [
    "# Python set example using the intersection() method\n",
    "setA = {'a', 'e', 'i', 'o', 'u', 'g', 'h'}\n",
    "setB = {'a', 'e', 'z', 'b', 't', 'o', 'u'}\n",
    "\n",
    "intersectAB = setA.intersection(setB)\n",
    "print(\"setA.intersection(setB):\", intersectAB, \"size:\", len(intersectAB))\n",
    "intersectBA = setB.intersection(setA)\n",
    "print(\"setB.intersection(setA):\", intersectBA, \"size:\", len(intersectBA))"
   ]
  },
  {
   "cell_type": "markdown",
   "metadata": {},
   "source": [
    "#### 差集  difference\n",
    "\n",
    "    x1.difference(x2[, x3 ...])\n",
    "\n",
    "    x1 - x2 [- x3 ...]"
   ]
  },
  {
   "cell_type": "code",
   "execution_count": 48,
   "metadata": {
    "ExecuteTime": {
     "end_time": "2019-09-14T11:58:22.080000Z",
     "start_time": "2019-09-14T11:58:22.074000Z"
    }
   },
   "outputs": [
    {
     "name": "stdout",
     "output_type": "stream",
     "text": [
      "{'bar', 'foo'}\n",
      "{'bar', 'foo'}\n"
     ]
    }
   ],
   "source": [
    "x1 = {'foo', 'bar', 'baz'}\n",
    "x2 = {'baz', 'qux', 'quux'}\n",
    "\n",
    "print(x1.difference(x2))\n",
    "print(x1 - x2)"
   ]
  },
  {
   "cell_type": "code",
   "execution_count": 49,
   "metadata": {
    "ExecuteTime": {
     "end_time": "2019-09-14T11:58:54.836000Z",
     "start_time": "2019-09-14T11:58:54.822000Z"
    }
   },
   "outputs": [
    {
     "name": "stdout",
     "output_type": "stream",
     "text": [
      "{1, 2, 3}\n",
      "{1, 2, 3}\n"
     ]
    }
   ],
   "source": [
    "a = {1, 2, 3, 30, 300}\n",
    "b = {10, 20, 30, 40}\n",
    "c = {100, 200, 300, 400}\n",
    "\n",
    "print(a.difference(b, c))\n",
    "print(a - b - c)"
   ]
  },
  {
   "cell_type": "markdown",
   "metadata": {
    "ExecuteTime": {
     "end_time": "2019-09-14T11:59:43.858000Z",
     "start_time": "2019-09-14T11:59:43.852000Z"
    }
   },
   "source": [
    "当指定多个集合时，操作从左到右执行。在上面的例子中，首先计算a - b，得到{1,2,3,300}。然后从该集合中减去c，留下{1,2,3}:\n",
    "    \n",
    "<img src=\"https://files.realpython.com/media/t.b37d6f78f99a.png\" alt=\"tuple\" width=\"500\"/>"
   ]
  },
  {
   "cell_type": "code",
   "execution_count": 12,
   "metadata": {
    "ExecuteTime": {
     "end_time": "2019-03-30T03:29:19.153000Z",
     "start_time": "2019-03-30T03:29:19.149000Z"
    }
   },
   "outputs": [
    {
     "name": "stdout",
     "output_type": "stream",
     "text": [
      "diffAB: {'h', 'g', 'i'} size: 3\n",
      "diffBA: {'t', 'b', 'z'} size: 3\n"
     ]
    }
   ],
   "source": [
    "# Python set's difference operation\n",
    "setA = {'a', 'e', 'i', 'o', 'u', 'g', 'h'}\n",
    "setB = {'a', 'e', 'z', 'b', 't', 'o', 'u'}\n",
    "\n",
    "diffAB = setA - setB\n",
    "print(\"diffAB:\", diffAB, \"size:\", len(diffAB))\n",
    "diffBA = setB - setA\n",
    "print(\"diffBA:\", diffBA, \"size:\", len(diffBA))"
   ]
  },
  {
   "cell_type": "code",
   "execution_count": null,
   "metadata": {
    "collapsed": true
   },
   "outputs": [],
   "source": []
  },
  {
   "cell_type": "code",
   "execution_count": 13,
   "metadata": {
    "ExecuteTime": {
     "end_time": "2019-03-30T03:29:44.369000Z",
     "start_time": "2019-03-30T03:29:44.364000Z"
    }
   },
   "outputs": [
    {
     "name": "stdout",
     "output_type": "stream",
     "text": [
      "diffAB: {'h', 'g', 'i'} size: 3\n",
      "diffBA: {'t', 'b', 'z'} size: 3\n"
     ]
    }
   ],
   "source": [
    "# Python set's difference operation using the difference() method\n",
    "setA = {'a', 'e', 'i', 'o', 'u', 'g', 'h'}\n",
    "setB = {'a', 'e', 'z', 'b', 't', 'o', 'u'}\n",
    "\n",
    "diffAB = setA.difference(setB)\n",
    "print(\"diffAB:\", diffAB, \"size:\", len(diffAB))\n",
    "diffBA = setB.difference(setA)\n",
    "print(\"diffBA:\", diffBA, \"size:\", len(diffBA))"
   ]
  },
  {
   "cell_type": "markdown",
   "metadata": {},
   "source": [
    "#### 交集的补集"
   ]
  },
  {
   "cell_type": "markdown",
   "metadata": {},
   "source": [
    "    x1.symmetric_difference(x2)\n",
    "\n",
    "    x1 ^ x2 [^ x3 ...]"
   ]
  },
  {
   "cell_type": "code",
   "execution_count": 51,
   "metadata": {
    "ExecuteTime": {
     "end_time": "2019-09-14T12:01:15.365000Z",
     "start_time": "2019-09-14T12:01:15.360000Z"
    }
   },
   "outputs": [
    {
     "name": "stdout",
     "output_type": "stream",
     "text": [
      "{'bar', 'qux', 'quux', 'foo'}\n",
      "{'bar', 'qux', 'quux', 'foo'}\n"
     ]
    }
   ],
   "source": [
    "x1 = {'foo', 'bar', 'baz'}\n",
    "x2 = {'baz', 'qux', 'quux'}\n",
    "\n",
    "print(x1.symmetric_difference(x2))\n",
    "print(x1 ^ x2)"
   ]
  },
  {
   "cell_type": "code",
   "execution_count": 52,
   "metadata": {
    "ExecuteTime": {
     "end_time": "2019-09-14T12:01:36.154000Z",
     "start_time": "2019-09-14T12:01:36.147000Z"
    }
   },
   "outputs": [
    {
     "name": "stdout",
     "output_type": "stream",
     "text": [
      "{10, 100, 5}\n"
     ]
    }
   ],
   "source": [
    "a = {1, 2, 3, 4, 5}\n",
    "b = {10, 2, 3, 4, 50}\n",
    "c = {1, 50, 100}\n",
    "\n",
    "print(a ^ b ^ c)"
   ]
  },
  {
   "cell_type": "markdown",
   "metadata": {},
   "source": [
    "虽然^运算符允许多个集合，但是.symmetric_difference()方法不允许:"
   ]
  },
  {
   "cell_type": "code",
   "execution_count": 53,
   "metadata": {
    "ExecuteTime": {
     "end_time": "2019-09-14T12:02:21.642000Z",
     "start_time": "2019-09-14T12:02:21.632000Z"
    }
   },
   "outputs": [
    {
     "ename": "TypeError",
     "evalue": "symmetric_difference() takes exactly one argument (2 given)",
     "output_type": "error",
     "traceback": [
      "\u001b[1;31m---------------------------------------------------------------------------\u001b[0m",
      "\u001b[1;31mTypeError\u001b[0m                                 Traceback (most recent call last)",
      "\u001b[1;32m<ipython-input-53-4c7748c7540f>\u001b[0m in \u001b[0;36m<module>\u001b[1;34m()\u001b[0m\n\u001b[0;32m      3\u001b[0m \u001b[0mc\u001b[0m \u001b[1;33m=\u001b[0m \u001b[1;33m{\u001b[0m\u001b[1;36m1\u001b[0m\u001b[1;33m,\u001b[0m \u001b[1;36m50\u001b[0m\u001b[1;33m,\u001b[0m \u001b[1;36m100\u001b[0m\u001b[1;33m}\u001b[0m\u001b[1;33m\u001b[0m\u001b[0m\n\u001b[0;32m      4\u001b[0m \u001b[1;33m\u001b[0m\u001b[0m\n\u001b[1;32m----> 5\u001b[1;33m \u001b[0ma\u001b[0m\u001b[1;33m.\u001b[0m\u001b[0msymmetric_difference\u001b[0m\u001b[1;33m(\u001b[0m\u001b[0mb\u001b[0m\u001b[1;33m,\u001b[0m \u001b[0mc\u001b[0m\u001b[1;33m)\u001b[0m\u001b[1;33m\u001b[0m\u001b[0m\n\u001b[0m",
      "\u001b[1;31mTypeError\u001b[0m: symmetric_difference() takes exactly one argument (2 given)"
     ]
    }
   ],
   "source": [
    "a = {1, 2, 3, 4, 5}\n",
    "b = {10, 2, 3, 4, 50}\n",
    "c = {1, 50, 100}\n",
    "\n",
    "a.symmetric_difference(b, c)"
   ]
  },
  {
   "cell_type": "code",
   "execution_count": 14,
   "metadata": {
    "ExecuteTime": {
     "end_time": "2019-03-30T03:30:16.905000Z",
     "start_time": "2019-03-30T03:30:16.901000Z"
    }
   },
   "outputs": [
    {
     "name": "stdout",
     "output_type": "stream",
     "text": [
      "symdiffAB: {'b', 'h', 't', 'i', 'g', 'z'} size: 6\n",
      "symdiffBA: {'h', 'b', 't', 'i', 'g', 'z'} size: 6\n"
     ]
    }
   ],
   "source": [
    "# Python set example using the caret ^ operator\n",
    "setA = {'a', 'e', 'i', 'o', 'u', 'g', 'h'}\n",
    "setB = {'a', 'e', 'z', 'b', 't', 'o', 'u'}\n",
    "\n",
    "symdiffAB = setA^setB\n",
    "print(\"symdiffAB:\", symdiffAB, \"size:\", len(symdiffAB))\n",
    "symdiffBA = setB^setA\n",
    "print(\"symdiffBA:\", symdiffBA, \"size:\", len(symdiffBA))"
   ]
  },
  {
   "cell_type": "code",
   "execution_count": 15,
   "metadata": {
    "ExecuteTime": {
     "end_time": "2019-03-30T03:32:02.913000Z",
     "start_time": "2019-03-30T03:32:02.908000Z"
    }
   },
   "outputs": [
    {
     "name": "stdout",
     "output_type": "stream",
     "text": [
      "symdiffAB: {'b', 'h', 't', 'i', 'g', 'z'} size: 6\n",
      "symdiffBA: {'h', 'b', 't', 'i', 'g', 'z'} size: 6\n"
     ]
    }
   ],
   "source": [
    "# Python set example using the symmetric_difference() method\n",
    "setA = {'a', 'e', 'i', 'o', 'u', 'g', 'h'}\n",
    "setB = {'a', 'e', 'z', 'b', 't', 'o', 'u'}\n",
    "\n",
    "symdiffAB = setA.symmetric_difference(setB)\n",
    "print(\"symdiffAB:\", symdiffAB, \"size:\", len(symdiffAB))\n",
    "symdiffBA = setB.symmetric_difference(setA)\n",
    "print(\"symdiffBA:\", symdiffBA, \"size:\", len(symdiffBA))"
   ]
  },
  {
   "cell_type": "code",
   "execution_count": null,
   "metadata": {
    "collapsed": true
   },
   "outputs": [],
   "source": []
  },
  {
   "cell_type": "code",
   "execution_count": 16,
   "metadata": {
    "ExecuteTime": {
     "end_time": "2019-03-30T03:33:21.905000Z",
     "start_time": "2019-03-30T03:33:21.901000Z"
    }
   },
   "outputs": [
    {
     "name": "stdout",
     "output_type": "stream",
     "text": [
      "orange\n",
      "grapes\n",
      "banana\n",
      "apple\n",
      "mango\n"
     ]
    }
   ],
   "source": [
    "# Python set example to access elements from a set\n",
    "basket = set([\"apple\", \"mango\", \"banana\", \"grapes\", \"orange\"])\n",
    " \n",
    "for fruit in basket:\n",
    "    print(fruit)"
   ]
  },
  {
   "cell_type": "code",
   "execution_count": 17,
   "metadata": {
    "ExecuteTime": {
     "end_time": "2019-03-30T03:33:32.216000Z",
     "start_time": "2019-03-30T03:33:32.213000Z"
    }
   },
   "outputs": [
    {
     "name": "stdout",
     "output_type": "stream",
     "text": [
      "Is 'apple' in the basket? True\n",
      "Is 'watermelon' in the basket? False\n"
     ]
    }
   ],
   "source": [
    "# Python set example to test elements in a set\n",
    "basket = set([\"apple\", \"mango\", \"banana\", \"grapes\", \"orange\"])\n",
    "\n",
    "# confirm if 'apple' is in the basket\n",
    "print(\"Is 'apple' in the basket?\", 'apple' in basket)\n",
    "\n",
    "# confirm if 'grapes' is in the basket\n",
    "print(\"Is 'watermelon' in the basket?\", 'watermelon' in basket)"
   ]
  },
  {
   "cell_type": "code",
   "execution_count": 18,
   "metadata": {
    "ExecuteTime": {
     "end_time": "2019-03-30T03:33:48.434000Z",
     "start_time": "2019-03-30T03:33:48.430000Z"
    }
   },
   "outputs": [
    {
     "name": "stdout",
     "output_type": "stream",
     "text": [
      "Standard Set: {'apple', 'orange', 'mango', 'banana'}\n",
      "Frozen Set: frozenset({'apple', 'orange', 'mango'})\n",
      "Error: 'frozenset' object has no attribute 'add'\n"
     ]
    }
   ],
   "source": [
    "# Python Sample - Standard vs. Frozen Set\n",
    "\n",
    "# A standard set\n",
    "std_set = set([\"apple\", \"mango\",\"orange\"])\n",
    " \n",
    "# Adding an element to normal set is fine\n",
    "std_set.add(\"banana\")\n",
    " \n",
    "print(\"Standard Set:\", std_set)\n",
    " \n",
    "# A frozen set\n",
    "frozen_set = frozenset([\"apple\", \"mango\",\"orange\"])\n",
    " \n",
    "print(\"Frozen Set:\", frozen_set)\n",
    " \n",
    "# Below code will raise an error as we are modifying a frozen set\n",
    "try:\n",
    "    frozen_set.add(\"banana\")\n",
    "except Exception as ex:\n",
    "    print(\"Error:\", ex)"
   ]
  },
  {
   "cell_type": "markdown",
   "metadata": {},
   "source": [
    "#### x1.isdisjoint (x2)\n",
    "确定两个集合是否具有任何公共元素。\n",
    "\n",
    "如果x1和x2没有共同的元素，则isdisjoint(x2)返回True:"
   ]
  },
  {
   "cell_type": "code",
   "execution_count": 54,
   "metadata": {
    "ExecuteTime": {
     "end_time": "2019-09-14T12:04:41.763000Z",
     "start_time": "2019-09-14T12:04:41.748000Z"
    }
   },
   "outputs": [
    {
     "name": "stdout",
     "output_type": "stream",
     "text": [
      "False\n",
      "{'qux', 'quux'}\n",
      "True\n"
     ]
    }
   ],
   "source": [
    "x1 = {'foo', 'bar', 'baz'}\n",
    "x2 = {'baz', 'qux', 'quux'}\n",
    "\n",
    "print(x1.isdisjoint(x2))\n",
    "print(x2 - {'baz'})\n",
    "print(x1.isdisjoint(x2 - {'baz'}))"
   ]
  },
  {
   "cell_type": "code",
   "execution_count": 55,
   "metadata": {
    "ExecuteTime": {
     "end_time": "2019-09-14T12:05:17.579000Z",
     "start_time": "2019-09-14T12:05:17.574000Z"
    }
   },
   "outputs": [
    {
     "name": "stdout",
     "output_type": "stream",
     "text": [
      "True\n",
      "set()\n"
     ]
    }
   ],
   "source": [
    "x1 = {1, 3, 5}\n",
    "x2 = {2, 4, 6}\n",
    "\n",
    "print(x1.isdisjoint(x2))\n",
    "\n",
    "print(x1 & x2)"
   ]
  },
  {
   "cell_type": "markdown",
   "metadata": {},
   "source": [
    "注意:没有对应于.isdisjoint()方法的操作符。"
   ]
  },
  {
   "cell_type": "markdown",
   "metadata": {},
   "source": [
    "#### 子集判断\n",
    "\n",
    "    x1.issubset (x2)\n",
    "    x1 < = x2\n",
    "\n",
    "确定一个集合是否是另一个集合的子集。\n",
    "\n",
    "在集合理论中，一个集合x1被认为是另一个集合x2的子集，如果x1的每个元素都在x2中。\n",
    "\n",
    "如果x1是x2的子集，则x1 <= x2返回True:"
   ]
  },
  {
   "cell_type": "code",
   "execution_count": 56,
   "metadata": {
    "ExecuteTime": {
     "end_time": "2019-09-14T12:06:57.680000Z",
     "start_time": "2019-09-14T12:06:57.674000Z"
    }
   },
   "outputs": [
    {
     "name": "stdout",
     "output_type": "stream",
     "text": [
      "True\n",
      "False\n"
     ]
    }
   ],
   "source": [
    "x1 = {'foo', 'bar', 'baz'}\n",
    "print(x1.issubset({'foo', 'bar', 'baz', 'qux', 'quux'}))\n",
    "\n",
    "x2 = {'baz', 'qux', 'quux'}\n",
    "print(x1 <= x2)"
   ]
  },
  {
   "cell_type": "markdown",
   "metadata": {},
   "source": [
    "集合被认为是它自身的子集:"
   ]
  },
  {
   "cell_type": "code",
   "execution_count": 57,
   "metadata": {
    "ExecuteTime": {
     "end_time": "2019-09-14T12:07:45.478000Z",
     "start_time": "2019-09-14T12:07:45.472000Z"
    }
   },
   "outputs": [
    {
     "name": "stdout",
     "output_type": "stream",
     "text": [
      "True\n",
      "True\n"
     ]
    }
   ],
   "source": [
    "x = {1, 2, 3, 4, 5}\n",
    "print(x.issubset(x))\n",
    "\n",
    "print(x <= x)"
   ]
  },
  {
   "cell_type": "markdown",
   "metadata": {},
   "source": [
    "#### 真子集判断\n",
    "\n",
    "    x1 < x2\n",
    "    \n",
    "确定一个集合是否是另一个集合的真子集。\n",
    "\n",
    "一个真子集与一个子集是相同的，只是集合不可能是相同的。如果x1的每个元素都在x2中，且x1和x2不相等，则集合x1被认为是另一个集合x2的恰当子集。\n",
    "如果x1是x2的一个子集，则x1 < x2返回True:"
   ]
  },
  {
   "cell_type": "code",
   "execution_count": 58,
   "metadata": {
    "ExecuteTime": {
     "end_time": "2019-09-14T12:09:22.948000Z",
     "start_time": "2019-09-14T12:09:22.936000Z"
    }
   },
   "outputs": [
    {
     "name": "stdout",
     "output_type": "stream",
     "text": [
      "True\n",
      "False\n"
     ]
    }
   ],
   "source": [
    "x1 = {'foo', 'bar'}\n",
    "x2 = {'foo', 'bar', 'baz'}\n",
    "print(x1 < x2)\n",
    "\n",
    "\n",
    "x1 = {'foo', 'bar', 'baz'}\n",
    "x2 = {'foo', 'bar', 'baz'}\n",
    "print(x1 < x2)"
   ]
  },
  {
   "cell_type": "markdown",
   "metadata": {},
   "source": [
    "虽然一个集合被认为是它自身的一个子集，但它不是它自身的一个真子集:"
   ]
  },
  {
   "cell_type": "code",
   "execution_count": 59,
   "metadata": {
    "ExecuteTime": {
     "end_time": "2019-09-14T12:10:17.778000Z",
     "start_time": "2019-09-14T12:10:17.771000Z"
    }
   },
   "outputs": [
    {
     "name": "stdout",
     "output_type": "stream",
     "text": [
      "True\n",
      "False\n"
     ]
    }
   ],
   "source": [
    "x = {1, 2, 3, 4, 5}\n",
    "print(x <= x)\n",
    "\n",
    "print(x < x)"
   ]
  },
  {
   "cell_type": "markdown",
   "metadata": {},
   "source": [
    "#### 父集\n",
    "\n",
    "    x1.issuperset(x2)\n",
    "    x1 >= x2\n",
    "    \n",
    "确定一个集合是否是另一个集合的父集。\n",
    "\n",
    "父集是子集的逆集。一个集合x1被认为是另一个集合x2的父集，如果x1包含x2的每个元素。\n",
    "\n",
    "如果x1是x2的父集，则x1 >= x2返回True:"
   ]
  },
  {
   "cell_type": "code",
   "execution_count": 60,
   "metadata": {
    "ExecuteTime": {
     "end_time": "2019-09-14T12:12:04.769000Z",
     "start_time": "2019-09-14T12:12:04.761000Z"
    }
   },
   "outputs": [
    {
     "name": "stdout",
     "output_type": "stream",
     "text": [
      "True\n",
      "False\n"
     ]
    }
   ],
   "source": [
    "x1 = {'foo', 'bar', 'baz'}\n",
    "\n",
    "print(x1.issuperset({'foo', 'bar'}))\n",
    "\n",
    "\n",
    "x2 = {'baz', 'qux', 'quux'}\n",
    "print(x1 >= x2)"
   ]
  },
  {
   "cell_type": "markdown",
   "metadata": {},
   "source": [
    "集合也被认为是它自身的超集:"
   ]
  },
  {
   "cell_type": "code",
   "execution_count": 61,
   "metadata": {
    "ExecuteTime": {
     "end_time": "2019-09-14T12:13:54.013000Z",
     "start_time": "2019-09-14T12:13:54Z"
    }
   },
   "outputs": [
    {
     "name": "stdout",
     "output_type": "stream",
     "text": [
      "True\n",
      "True\n"
     ]
    }
   ],
   "source": [
    "x = {1, 2, 3, 4, 5}\n",
    "print(x.issuperset(x))\n",
    "\n",
    "print(x >= x)"
   ]
  },
  {
   "cell_type": "markdown",
   "metadata": {},
   "source": [
    "真父集\n",
    "\n",
    "    x1 > x2\n",
    "    \n",
    "确定一个集合是否是另一个集合的真父集。\n",
    "\n",
    "一个真父集与一个父集是相同的，只是集合不可能是相同的。如果x1包含x2的每个元素，且x1和x2不相等，则一个集合x1被认为是另一个集合x2的适当父集。\n",
    "\n",
    "如果x1是x2的一个适当的父集，则x1 > x2返回True:"
   ]
  },
  {
   "cell_type": "code",
   "execution_count": 62,
   "metadata": {
    "ExecuteTime": {
     "end_time": "2019-09-14T12:16:08.326000Z",
     "start_time": "2019-09-14T12:16:08.316000Z"
    }
   },
   "outputs": [
    {
     "name": "stdout",
     "output_type": "stream",
     "text": [
      "True\n",
      "False\n"
     ]
    }
   ],
   "source": [
    "x1 = {'foo', 'bar', 'baz'}\n",
    "x2 = {'foo', 'bar'}\n",
    "print(x1 > x2)\n",
    "\n",
    "\n",
    "x1 = {'foo', 'bar', 'baz'}\n",
    "x2 = {'foo', 'bar', 'baz'}\n",
    "print(x1 > x2)"
   ]
  },
  {
   "cell_type": "code",
   "execution_count": 63,
   "metadata": {
    "ExecuteTime": {
     "end_time": "2019-09-14T12:16:38.696000Z",
     "start_time": "2019-09-14T12:16:38.692000Z"
    }
   },
   "outputs": [
    {
     "name": "stdout",
     "output_type": "stream",
     "text": [
      "False\n"
     ]
    }
   ],
   "source": [
    "x = {1, 2, 3, 4, 5}\n",
    "print(x > x)"
   ]
  },
  {
   "cell_type": "markdown",
   "metadata": {},
   "source": [
    "#### [Sets in Python](https://www.geeksforgeeks.org/sets-in-python/)"
   ]
  },
  {
   "cell_type": "code",
   "execution_count": 22,
   "metadata": {
    "ExecuteTime": {
     "end_time": "2019-09-14T11:26:25.792000Z",
     "start_time": "2019-09-14T11:26:25.774000Z"
    }
   },
   "outputs": [
    {
     "name": "stdout",
     "output_type": "stream",
     "text": [
      "Normal Set\n",
      "{'b', 'c', 'a', 'd'}\n",
      "Frozen Set\n",
      "frozenset({'g', 'e', 'f'})\n"
     ]
    }
   ],
   "source": [
    "# Python program to demonstrate differences \n",
    "# between normal and frozen set \n",
    "  \n",
    "# Same as {\"a\", \"b\",\"c\"} \n",
    "normal_set = set([\"a\", \"b\",\"c\"]) \n",
    "  \n",
    "# Adding an element to normal set is fine \n",
    "normal_set.add(\"d\") \n",
    "  \n",
    "print(\"Normal Set\") \n",
    "print(normal_set) \n",
    "  \n",
    "# A frozen set \n",
    "frozen_set = frozenset([\"e\", \"f\", \"g\"]) \n",
    "  \n",
    "print(\"Frozen Set\") \n",
    "print(frozen_set) \n",
    "  \n",
    "# Uncommenting below line would cause error as \n",
    "# we are trying to add element to a frozen set \n",
    "# frozen_set.add(\"h\") "
   ]
  },
  {
   "cell_type": "markdown",
   "metadata": {},
   "source": [
    "##### add(x)  添加元素"
   ]
  },
  {
   "cell_type": "code",
   "execution_count": 23,
   "metadata": {
    "ExecuteTime": {
     "end_time": "2019-09-14T11:26:55.894000Z",
     "start_time": "2019-09-14T11:26:55.889000Z"
    }
   },
   "outputs": [
    {
     "name": "stdout",
     "output_type": "stream",
     "text": [
      "{'Jay', 'Daxit', 'Idrish', 'Archil'}\n"
     ]
    }
   ],
   "source": [
    "people = {\"Jay\", \"Idrish\", \"Archil\"}\n",
    "people.add(\"Daxit\")\n",
    "\n",
    "print(people)"
   ]
  },
  {
   "cell_type": "markdown",
   "metadata": {},
   "source": [
    "##### union()  并集"
   ]
  },
  {
   "cell_type": "code",
   "execution_count": 25,
   "metadata": {
    "ExecuteTime": {
     "end_time": "2019-09-14T11:27:48.935000Z",
     "start_time": "2019-09-14T11:27:48.921000Z"
    }
   },
   "outputs": [
    {
     "name": "stdout",
     "output_type": "stream",
     "text": [
      "{'Jay', 'Arjun', 'Idrish', 'Karan', 'Archil'}\n"
     ]
    }
   ],
   "source": [
    "people = {\"Jay\", \"Idrish\", \"Archil\"}\n",
    "vampires = {\"Karan\", \"Arjun\"}\n",
    "population = people.union(vampires)\n",
    "print(population)"
   ]
  },
  {
   "cell_type": "code",
   "execution_count": 26,
   "metadata": {
    "ExecuteTime": {
     "end_time": "2019-09-14T11:28:28.154000Z",
     "start_time": "2019-09-14T11:28:28.147000Z"
    }
   },
   "outputs": [
    {
     "name": "stdout",
     "output_type": "stream",
     "text": [
      "{'Jay', 'Arjun', 'Idrish', 'Karan', 'Archil'}\n"
     ]
    }
   ],
   "source": [
    "population = people|vampires\n",
    "print(population)"
   ]
  },
  {
   "cell_type": "markdown",
   "metadata": {},
   "source": [
    "##### intersect(s)"
   ]
  },
  {
   "cell_type": "code",
   "execution_count": 27,
   "metadata": {
    "ExecuteTime": {
     "end_time": "2019-09-14T11:30:37.932000Z",
     "start_time": "2019-09-14T11:30:37.923000Z"
    }
   },
   "outputs": [
    {
     "name": "stdout",
     "output_type": "stream",
     "text": [
      "set()\n"
     ]
    }
   ],
   "source": [
    "victims = people.intersection(vampires)\n",
    "\n",
    "print(victims)"
   ]
  },
  {
   "cell_type": "markdown",
   "metadata": {},
   "source": [
    "##### difference(s)  差集"
   ]
  },
  {
   "cell_type": "code",
   "execution_count": 28,
   "metadata": {
    "ExecuteTime": {
     "end_time": "2019-09-14T11:31:19.266000Z",
     "start_time": "2019-09-14T11:31:19.263000Z"
    }
   },
   "outputs": [
    {
     "name": "stdout",
     "output_type": "stream",
     "text": [
      "{'Jay', 'Idrish', 'Archil'}\n"
     ]
    }
   ],
   "source": [
    "safe = people.difference(vampires)\n",
    "\n",
    "print(safe)"
   ]
  },
  {
   "cell_type": "code",
   "execution_count": 29,
   "metadata": {
    "ExecuteTime": {
     "end_time": "2019-09-14T11:32:05.679000Z",
     "start_time": "2019-09-14T11:32:05.676000Z"
    }
   },
   "outputs": [
    {
     "name": "stdout",
     "output_type": "stream",
     "text": [
      "{'Jay', 'Idrish', 'Archil'}\n"
     ]
    }
   ],
   "source": [
    "safe = people - vampires\n",
    "print(safe)"
   ]
  },
  {
   "cell_type": "markdown",
   "metadata": {},
   "source": [
    "#### 计算元音字符个数"
   ]
  },
  {
   "cell_type": "code",
   "execution_count": 31,
   "metadata": {
    "ExecuteTime": {
     "end_time": "2019-09-14T11:33:11.161000Z",
     "start_time": "2019-09-14T11:33:11.143000Z"
    }
   },
   "outputs": [
    {
     "name": "stdout",
     "output_type": "stream",
     "text": [
      "No. of vowels : 5\n"
     ]
    }
   ],
   "source": [
    "# Python3 code to count vowel in\n",
    "# a string using set\n",
    "\n",
    "\n",
    "# Function to count vowel\n",
    "def vowel_count(str):\n",
    "\n",
    "    # Intializing count variable to 0\n",
    "    count = 0\n",
    "\n",
    "    # Creating a set of vowels\n",
    "    vowel = set(\"aeiouAEIOU\")\n",
    "\n",
    "    # Loop to traverse the alphabet\n",
    "    # in the given string\n",
    "    for alphabet in str:\n",
    "\n",
    "        # If alphabet is present\n",
    "        # in set vowel\n",
    "        if alphabet in vowel:\n",
    "            count = count + 1\n",
    "\n",
    "    print(\"No. of vowels :\", count)\n",
    "\n",
    "\n",
    "# Driver code\n",
    "str = \"GeeksforGeeks\"\n",
    "\n",
    "# Function Call\n",
    "vowel_count(str)"
   ]
  },
  {
   "cell_type": "markdown",
   "metadata": {},
   "source": [
    "https://www.geeksforgeeks.org/python-set-pairs-complete-strings-two-sets/"
   ]
  },
  {
   "cell_type": "code",
   "execution_count": 32,
   "metadata": {
    "ExecuteTime": {
     "end_time": "2019-09-14T11:33:41.469000Z",
     "start_time": "2019-09-14T11:33:41.447000Z"
    }
   },
   "outputs": [
    {
     "name": "stdout",
     "output_type": "stream",
     "text": [
      "7\n"
     ]
    }
   ],
   "source": [
    "# Function to find pairs of complete strings \n",
    "# in two sets of strings \n",
    "  \n",
    "def completePair(set1,set2): \n",
    "      \n",
    "    # consider all pairs of string from \n",
    "    # set1 and set2 \n",
    "    count = 0\n",
    "    for str1 in set1: \n",
    "        for str2 in set2: \n",
    "            result = str1 + str2 \n",
    "  \n",
    "            # push all alphabets of concatenated  \n",
    "            # string into temporary set \n",
    "            tmpSet = set([ch for ch in result if (ord(ch)>=ord('a') and ord(ch)<=ord('z'))]) \n",
    "            if len(tmpSet)==26: \n",
    "                count = count + 1\n",
    "    print (count) \n",
    "\n",
    "# Driver program \n",
    "if __name__ == \"__main__\": \n",
    "    set1 = ['abcdefgh', 'geeksforgeeks','lmnopqrst', 'abc'] \n",
    "    set2 = ['ijklmnopqrstuvwxyz', 'abcdefghijklmnopqrstuvwxyz','defghijklmnopqrstuvwxyz'] \n",
    "    completePair(set1,set2) "
   ]
  },
  {
   "cell_type": "markdown",
   "metadata": {},
   "source": [
    "https://www.geeksforgeeks.org/python-remove-discard-sets/"
   ]
  },
  {
   "cell_type": "code",
   "execution_count": 34,
   "metadata": {
    "ExecuteTime": {
     "end_time": "2019-09-14T11:34:28.368000Z",
     "start_time": "2019-09-14T11:34:28.361000Z"
    }
   },
   "outputs": [
    {
     "name": "stdout",
     "output_type": "stream",
     "text": [
      "{41, 10, 54, 26}\n"
     ]
    }
   ],
   "source": [
    "# Python program to remove random elements of choice \n",
    "# Function to remove elements using discard() \n",
    "def Remove(sets): \n",
    "    sets.discard(20) \n",
    "    print (sets) \n",
    "      \n",
    "# Driver Code \n",
    "sets = set([10, 20, 26, 41, 54, 20]) \n",
    "Remove(sets)"
   ]
  },
  {
   "cell_type": "markdown",
   "metadata": {},
   "source": [
    "https://www.geeksforgeeks.org/output-python-programs-set-24-sets/"
   ]
  },
  {
   "cell_type": "code",
   "execution_count": 35,
   "metadata": {
    "ExecuteTime": {
     "end_time": "2019-09-14T11:34:54.793000Z",
     "start_time": "2019-09-14T11:34:54.789000Z"
    }
   },
   "outputs": [
    {
     "name": "stdout",
     "output_type": "stream",
     "text": [
      "{1, 2, 3, 4, 5}\n"
     ]
    }
   ],
   "source": [
    "sets = {3, 4, 5} \n",
    "sets.update([1, 2, 3]) \n",
    "print(sets) "
   ]
  },
  {
   "cell_type": "code",
   "execution_count": 37,
   "metadata": {
    "ExecuteTime": {
     "end_time": "2019-09-14T11:35:35.706000Z",
     "start_time": "2019-09-14T11:35:35.669000Z"
    }
   },
   "outputs": [
    {
     "name": "stdout",
     "output_type": "stream",
     "text": [
      "{1, 2, 3}\n",
      "{1, 2, 3, 4}\n"
     ]
    }
   ],
   "source": [
    "set1 = {1, 2, 3} \n",
    "set2 = set1.copy() \n",
    "set2.add(4) \n",
    "print(set1)\n",
    "print(set2)"
   ]
  },
  {
   "cell_type": "markdown",
   "metadata": {},
   "source": [
    "#### 修改集合\n",
    "\n",
    "虽然集合中包含的元素必须是不可变的类型，但是集合本身可以修改。与上面的操作类似，也有一些操作符和方法可以用来更改集合的内容。\n",
    "\n",
    "增广赋值运算符和方法\n",
    "\n",
    "上面列出的并集、交集、差分和对称差分运算符都有一个可用于修改集合的增广赋值形式。"
   ]
  },
  {
   "cell_type": "markdown",
   "metadata": {},
   "source": [
    "    x1.update(x2[, x3 ...])\n",
    "\n",
    "    x1 |= x2 [| x3 ...]"
   ]
  },
  {
   "cell_type": "code",
   "execution_count": 64,
   "metadata": {
    "ExecuteTime": {
     "end_time": "2019-09-14T12:18:56.058000Z",
     "start_time": "2019-09-14T12:18:56.052000Z"
    }
   },
   "outputs": [
    {
     "name": "stdout",
     "output_type": "stream",
     "text": [
      "{'baz', 'qux', 'bar', 'foo'}\n",
      "{'baz', 'qux', 'bar', 'foo', 'corge', 'garply'}\n"
     ]
    }
   ],
   "source": [
    "x1 = {'foo', 'bar', 'baz'}\n",
    "x2 = {'foo', 'baz', 'qux'}\n",
    "\n",
    "x1 |= x2\n",
    "print(x1)\n",
    "\n",
    "\n",
    "x1.update(['corge', 'garply'])\n",
    "print(x1)"
   ]
  },
  {
   "cell_type": "markdown",
   "metadata": {},
   "source": [
    "    x1.intersection_update(x2[, x3 ...])\n",
    "\n",
    "    x1 &= x2 [& x3 ...]"
   ]
  },
  {
   "cell_type": "code",
   "execution_count": 65,
   "metadata": {
    "ExecuteTime": {
     "end_time": "2019-09-14T12:19:44.884000Z",
     "start_time": "2019-09-14T12:19:44.864000Z"
    }
   },
   "outputs": [
    {
     "name": "stdout",
     "output_type": "stream",
     "text": [
      "{'baz', 'foo'}\n",
      "{'baz'}\n"
     ]
    }
   ],
   "source": [
    "x1 = {'foo', 'bar', 'baz'}\n",
    "x2 = {'foo', 'baz', 'qux'}\n",
    "\n",
    "x1 &= x2\n",
    "print(x1)\n",
    "\n",
    "\n",
    "x1.intersection_update(['baz', 'qux'])\n",
    "print(x1)"
   ]
  },
  {
   "cell_type": "markdown",
   "metadata": {},
   "source": [
    "    x1.difference_update(x2[, x3 ...])\n",
    "\n",
    "    x1 -= x2 [| x3 ...]"
   ]
  },
  {
   "cell_type": "code",
   "execution_count": 66,
   "metadata": {
    "ExecuteTime": {
     "end_time": "2019-09-14T12:20:24.680000Z",
     "start_time": "2019-09-14T12:20:24.674000Z"
    }
   },
   "outputs": [
    {
     "name": "stdout",
     "output_type": "stream",
     "text": [
      "{'bar'}\n",
      "set()\n"
     ]
    }
   ],
   "source": [
    "x1 = {'foo', 'bar', 'baz'}\n",
    "x2 = {'foo', 'baz', 'qux'}\n",
    "\n",
    "x1 -= x2\n",
    "print(x1)\n",
    "\n",
    "\n",
    "x1.difference_update(['foo', 'bar', 'qux'])\n",
    "print(x1)"
   ]
  },
  {
   "cell_type": "markdown",
   "metadata": {},
   "source": [
    "    x1.symmetric_difference_update(x2)\n",
    "\n",
    "    x1 ^= x2"
   ]
  },
  {
   "cell_type": "code",
   "execution_count": 67,
   "metadata": {
    "ExecuteTime": {
     "end_time": "2019-09-14T12:21:05.921000Z",
     "start_time": "2019-09-14T12:21:05.915000Z"
    }
   },
   "outputs": [
    {
     "name": "stdout",
     "output_type": "stream",
     "text": [
      "{'bar', 'qux'}\n",
      "{'bar', 'corge'}\n"
     ]
    }
   ],
   "source": [
    "x1 = {'foo', 'bar', 'baz'}\n",
    "x2 = {'foo', 'baz', 'qux'}\n",
    "\n",
    "x1 ^= x2\n",
    "print(x1)\n",
    "\n",
    "\n",
    "x1.symmetric_difference_update(['qux', 'corge'])\n",
    "print(x1)"
   ]
  },
  {
   "cell_type": "markdown",
   "metadata": {},
   "source": [
    "    x.add(<elem>)"
   ]
  },
  {
   "cell_type": "code",
   "execution_count": 68,
   "metadata": {
    "ExecuteTime": {
     "end_time": "2019-09-14T12:21:43.978000Z",
     "start_time": "2019-09-14T12:21:43.973000Z"
    }
   },
   "outputs": [
    {
     "name": "stdout",
     "output_type": "stream",
     "text": [
      "{'bar', 'baz', 'foo', 'qux'}\n"
     ]
    }
   ],
   "source": [
    "x = {'foo', 'bar', 'baz'}\n",
    "\n",
    "x.add('qux')\n",
    "print(x)"
   ]
  },
  {
   "cell_type": "markdown",
   "metadata": {},
   "source": [
    "    x.remove(<elem>)"
   ]
  },
  {
   "cell_type": "code",
   "execution_count": 69,
   "metadata": {
    "ExecuteTime": {
     "end_time": "2019-09-14T12:22:25.397000Z",
     "start_time": "2019-09-14T12:22:25.374000Z"
    }
   },
   "outputs": [
    {
     "name": "stdout",
     "output_type": "stream",
     "text": [
      "{'bar', 'foo'}\n"
     ]
    },
    {
     "ename": "KeyError",
     "evalue": "'qux'",
     "output_type": "error",
     "traceback": [
      "\u001b[1;31m---------------------------------------------------------------------------\u001b[0m",
      "\u001b[1;31mKeyError\u001b[0m                                  Traceback (most recent call last)",
      "\u001b[1;32m<ipython-input-69-9c56678f409b>\u001b[0m in \u001b[0;36m<module>\u001b[1;34m()\u001b[0m\n\u001b[0;32m      5\u001b[0m \u001b[1;33m\u001b[0m\u001b[0m\n\u001b[0;32m      6\u001b[0m \u001b[1;33m\u001b[0m\u001b[0m\n\u001b[1;32m----> 7\u001b[1;33m \u001b[0mx\u001b[0m\u001b[1;33m.\u001b[0m\u001b[0mremove\u001b[0m\u001b[1;33m(\u001b[0m\u001b[1;34m'qux'\u001b[0m\u001b[1;33m)\u001b[0m\u001b[1;33m\u001b[0m\u001b[0m\n\u001b[0m\u001b[0;32m      8\u001b[0m \u001b[0mprint\u001b[0m\u001b[1;33m(\u001b[0m\u001b[0mx\u001b[0m\u001b[1;33m)\u001b[0m\u001b[1;33m\u001b[0m\u001b[0m\n",
      "\u001b[1;31mKeyError\u001b[0m: 'qux'"
     ]
    }
   ],
   "source": [
    "x = {'foo', 'bar', 'baz'}\n",
    "\n",
    "x.remove('baz')\n",
    "print(x)\n",
    "\n",
    "\n",
    "x.remove('qux')\n",
    "print(x)"
   ]
  },
  {
   "cell_type": "markdown",
   "metadata": {},
   "source": [
    "    x.discard(<elem>)"
   ]
  },
  {
   "cell_type": "code",
   "execution_count": 70,
   "metadata": {
    "ExecuteTime": {
     "end_time": "2019-09-14T12:23:08.046000Z",
     "start_time": "2019-09-14T12:23:08.040000Z"
    }
   },
   "outputs": [
    {
     "name": "stdout",
     "output_type": "stream",
     "text": [
      "{'bar', 'foo'}\n",
      "{'bar', 'foo'}\n"
     ]
    }
   ],
   "source": [
    "x = {'foo', 'bar', 'baz'}\n",
    "\n",
    "x.discard('baz')\n",
    "print(x)\n",
    "\n",
    "\n",
    "x.discard('qux')\n",
    "print(x)"
   ]
  },
  {
   "cell_type": "markdown",
   "metadata": {},
   "source": [
    "    x.pop()"
   ]
  },
  {
   "cell_type": "code",
   "execution_count": 71,
   "metadata": {
    "ExecuteTime": {
     "end_time": "2019-09-14T12:24:21.177000Z",
     "start_time": "2019-09-14T12:24:21.162000Z"
    }
   },
   "outputs": [
    {
     "name": "stdout",
     "output_type": "stream",
     "text": [
      "{'baz', 'foo'}\n",
      "{'foo'}\n",
      "set()\n"
     ]
    },
    {
     "ename": "KeyError",
     "evalue": "'pop from an empty set'",
     "output_type": "error",
     "traceback": [
      "\u001b[1;31m---------------------------------------------------------------------------\u001b[0m",
      "\u001b[1;31mKeyError\u001b[0m                                  Traceback (most recent call last)",
      "\u001b[1;32m<ipython-input-71-911da97443f7>\u001b[0m in \u001b[0;36m<module>\u001b[1;34m()\u001b[0m\n\u001b[0;32m     10\u001b[0m \u001b[0mprint\u001b[0m\u001b[1;33m(\u001b[0m\u001b[0mx\u001b[0m\u001b[1;33m)\u001b[0m\u001b[1;33m\u001b[0m\u001b[0m\n\u001b[0;32m     11\u001b[0m \u001b[1;33m\u001b[0m\u001b[0m\n\u001b[1;32m---> 12\u001b[1;33m \u001b[0mx\u001b[0m\u001b[1;33m.\u001b[0m\u001b[0mpop\u001b[0m\u001b[1;33m(\u001b[0m\u001b[1;33m)\u001b[0m\u001b[1;33m\u001b[0m\u001b[0m\n\u001b[0m\u001b[0;32m     13\u001b[0m \u001b[0mprint\u001b[0m\u001b[1;33m(\u001b[0m\u001b[0mx\u001b[0m\u001b[1;33m)\u001b[0m\u001b[1;33m\u001b[0m\u001b[0m\n",
      "\u001b[1;31mKeyError\u001b[0m: 'pop from an empty set'"
     ]
    }
   ],
   "source": [
    "x = {'foo', 'bar', 'baz'}\n",
    "\n",
    "x.pop()\n",
    "print(x)\n",
    "\n",
    "x.pop()\n",
    "print(x)\n",
    "\n",
    "x.pop()\n",
    "print(x)\n",
    "\n",
    "x.pop()\n",
    "print(x)"
   ]
  },
  {
   "cell_type": "markdown",
   "metadata": {},
   "source": [
    "#### Frozen Sets\n",
    "\n",
    "Python提供了另一种称为Frozen Sets的内置类型，除了Frozen Sets是不可变的之外，它在所有方面都与set完全一样。您可以执行非修改操作对一个Frozen Sets:"
   ]
  },
  {
   "cell_type": "code",
   "execution_count": 72,
   "metadata": {
    "ExecuteTime": {
     "end_time": "2019-09-14T12:26:18.124000Z",
     "start_time": "2019-09-14T12:26:18.116000Z"
    }
   },
   "outputs": [
    {
     "name": "stdout",
     "output_type": "stream",
     "text": [
      "frozenset({'bar', 'baz', 'foo'})\n",
      "frozenset({'bar', 'baz', 'foo'})\n",
      "frozenset({'baz'})\n"
     ]
    }
   ],
   "source": [
    "x = frozenset(['foo', 'bar', 'baz'])\n",
    "print(x)\n",
    "\n",
    "print(x)\n",
    "\n",
    "print(x & {'baz', 'qux', 'quux'})"
   ]
  },
  {
   "cell_type": "markdown",
   "metadata": {},
   "source": [
    "试图修改frozenset会抛出异常"
   ]
  },
  {
   "cell_type": "code",
   "execution_count": 73,
   "metadata": {
    "ExecuteTime": {
     "end_time": "2019-09-14T12:28:23.857000Z",
     "start_time": "2019-09-14T12:28:23.848000Z"
    }
   },
   "outputs": [
    {
     "ename": "AttributeError",
     "evalue": "'frozenset' object has no attribute 'add'",
     "output_type": "error",
     "traceback": [
      "\u001b[1;31m---------------------------------------------------------------------------\u001b[0m",
      "\u001b[1;31mAttributeError\u001b[0m                            Traceback (most recent call last)",
      "\u001b[1;32m<ipython-input-73-3e04e3ca6b5f>\u001b[0m in \u001b[0;36m<module>\u001b[1;34m()\u001b[0m\n\u001b[0;32m      1\u001b[0m \u001b[0mx\u001b[0m \u001b[1;33m=\u001b[0m \u001b[0mfrozenset\u001b[0m\u001b[1;33m(\u001b[0m\u001b[1;33m[\u001b[0m\u001b[1;34m'foo'\u001b[0m\u001b[1;33m,\u001b[0m \u001b[1;34m'bar'\u001b[0m\u001b[1;33m,\u001b[0m \u001b[1;34m'baz'\u001b[0m\u001b[1;33m]\u001b[0m\u001b[1;33m)\u001b[0m\u001b[1;33m\u001b[0m\u001b[0m\n\u001b[0;32m      2\u001b[0m \u001b[1;33m\u001b[0m\u001b[0m\n\u001b[1;32m----> 3\u001b[1;33m \u001b[0mx\u001b[0m\u001b[1;33m.\u001b[0m\u001b[0madd\u001b[0m\u001b[1;33m(\u001b[0m\u001b[1;34m'qux'\u001b[0m\u001b[1;33m)\u001b[0m\u001b[1;33m\u001b[0m\u001b[0m\n\u001b[0m",
      "\u001b[1;31mAttributeError\u001b[0m: 'frozenset' object has no attribute 'add'"
     ]
    }
   ],
   "source": [
    "x = frozenset(['foo', 'bar', 'baz'])\n",
    "\n",
    "x.add('qux')"
   ]
  },
  {
   "cell_type": "code",
   "execution_count": 74,
   "metadata": {
    "ExecuteTime": {
     "end_time": "2019-09-14T12:28:24.901000Z",
     "start_time": "2019-09-14T12:28:24.888000Z"
    }
   },
   "outputs": [
    {
     "ename": "AttributeError",
     "evalue": "'frozenset' object has no attribute 'pop'",
     "output_type": "error",
     "traceback": [
      "\u001b[1;31m---------------------------------------------------------------------------\u001b[0m",
      "\u001b[1;31mAttributeError\u001b[0m                            Traceback (most recent call last)",
      "\u001b[1;32m<ipython-input-74-e5f026e5bee7>\u001b[0m in \u001b[0;36m<module>\u001b[1;34m()\u001b[0m\n\u001b[1;32m----> 1\u001b[1;33m \u001b[0mx\u001b[0m\u001b[1;33m.\u001b[0m\u001b[0mpop\u001b[0m\u001b[1;33m(\u001b[0m\u001b[1;33m)\u001b[0m\u001b[1;33m\u001b[0m\u001b[0m\n\u001b[0m",
      "\u001b[1;31mAttributeError\u001b[0m: 'frozenset' object has no attribute 'pop'"
     ]
    }
   ],
   "source": [
    "x.pop()"
   ]
  },
  {
   "cell_type": "code",
   "execution_count": 75,
   "metadata": {
    "ExecuteTime": {
     "end_time": "2019-09-14T12:28:25.399000Z",
     "start_time": "2019-09-14T12:28:25.392000Z"
    }
   },
   "outputs": [
    {
     "ename": "AttributeError",
     "evalue": "'frozenset' object has no attribute 'clear'",
     "output_type": "error",
     "traceback": [
      "\u001b[1;31m---------------------------------------------------------------------------\u001b[0m",
      "\u001b[1;31mAttributeError\u001b[0m                            Traceback (most recent call last)",
      "\u001b[1;32m<ipython-input-75-36236e138dcc>\u001b[0m in \u001b[0;36m<module>\u001b[1;34m()\u001b[0m\n\u001b[1;32m----> 1\u001b[1;33m \u001b[0mx\u001b[0m\u001b[1;33m.\u001b[0m\u001b[0mclear\u001b[0m\u001b[1;33m(\u001b[0m\u001b[1;33m)\u001b[0m\u001b[1;33m\u001b[0m\u001b[0m\n\u001b[0m",
      "\u001b[1;31mAttributeError\u001b[0m: 'frozenset' object has no attribute 'clear'"
     ]
    }
   ],
   "source": [
    "x.clear()"
   ]
  },
  {
   "cell_type": "code",
   "execution_count": 76,
   "metadata": {
    "ExecuteTime": {
     "end_time": "2019-09-14T12:28:36.535000Z",
     "start_time": "2019-09-14T12:28:36.532000Z"
    }
   },
   "outputs": [
    {
     "name": "stdout",
     "output_type": "stream",
     "text": [
      "frozenset({'bar', 'baz', 'foo'})\n"
     ]
    }
   ],
   "source": [
    "print(x)"
   ]
  },
  {
   "cell_type": "code",
   "execution_count": null,
   "metadata": {
    "collapsed": true
   },
   "outputs": [],
   "source": [
    "由于frozenset是不可变的，可能认为它不可能是增广赋值操作符的目标。"
   ]
  },
  {
   "cell_type": "code",
   "execution_count": 78,
   "metadata": {
    "ExecuteTime": {
     "end_time": "2019-09-14T12:29:55.754000Z",
     "start_time": "2019-09-14T12:29:55.748000Z"
    },
    "run_control": {
     "marked": false
    }
   },
   "outputs": [
    {
     "name": "stdout",
     "output_type": "stream",
     "text": [
      "frozenset({'baz'})\n"
     ]
    }
   ],
   "source": [
    "f = frozenset(['foo', 'bar', 'baz'])\n",
    "s = {'baz', 'qux', 'quux'}\n",
    "\n",
    "f &= s\n",
    "print(f)"
   ]
  },
  {
   "cell_type": "markdown",
   "metadata": {},
   "source": [
    "Python不会对现有的冻结集执行增广赋值。语句x &= s实际上等价于x = x & s。它没有修改原始的x，而是将x重新分配给一个新对象，而最初引用的对象x已经没有了。\n",
    "你可以用id()函数来验证:"
   ]
  },
  {
   "cell_type": "code",
   "execution_count": 79,
   "metadata": {
    "ExecuteTime": {
     "end_time": "2019-09-14T12:31:16.355000Z",
     "start_time": "2019-09-14T12:31:16.331000Z"
    }
   },
   "outputs": [
    {
     "name": "stdout",
     "output_type": "stream",
     "text": [
      "140418632\n"
     ]
    }
   ],
   "source": [
    "f = frozenset(['foo', 'bar', 'baz'])\n",
    "print(id(f))"
   ]
  },
  {
   "cell_type": "code",
   "execution_count": 80,
   "metadata": {
    "ExecuteTime": {
     "end_time": "2019-09-14T12:31:16.533000Z",
     "start_time": "2019-09-14T12:31:16.529000Z"
    }
   },
   "outputs": [
    {
     "name": "stdout",
     "output_type": "stream",
     "text": [
      "frozenset({'baz'})\n"
     ]
    }
   ],
   "source": [
    "s = {'baz', 'qux', 'quux'}\n",
    "\n",
    "f &= s\n",
    "print(f)"
   ]
  },
  {
   "cell_type": "code",
   "execution_count": 81,
   "metadata": {
    "ExecuteTime": {
     "end_time": "2019-09-14T12:31:16.877000Z",
     "start_time": "2019-09-14T12:31:16.873000Z"
    }
   },
   "outputs": [
    {
     "name": "stdout",
     "output_type": "stream",
     "text": [
      "137035112\n"
     ]
    }
   ],
   "source": [
    "print(id(f))"
   ]
  },
  {
   "cell_type": "markdown",
   "metadata": {},
   "source": [
    "在需要使用集合，但需要一个不可变对象的情况下，Frozensets非常有用。例如，你不能定义一个集合，它的元素也是集合，因为集合元素必须是不可变的:"
   ]
  },
  {
   "cell_type": "code",
   "execution_count": 82,
   "metadata": {
    "ExecuteTime": {
     "end_time": "2019-09-14T12:32:14.830000Z",
     "start_time": "2019-09-14T12:32:14.820000Z"
    }
   },
   "outputs": [
    {
     "ename": "TypeError",
     "evalue": "unhashable type: 'set'",
     "output_type": "error",
     "traceback": [
      "\u001b[1;31m---------------------------------------------------------------------------\u001b[0m",
      "\u001b[1;31mTypeError\u001b[0m                                 Traceback (most recent call last)",
      "\u001b[1;32m<ipython-input-82-c8af6ea6ce48>\u001b[0m in \u001b[0;36m<module>\u001b[1;34m()\u001b[0m\n\u001b[0;32m      2\u001b[0m \u001b[0mx2\u001b[0m \u001b[1;33m=\u001b[0m \u001b[0mset\u001b[0m\u001b[1;33m(\u001b[0m\u001b[1;33m[\u001b[0m\u001b[1;34m'bar'\u001b[0m\u001b[1;33m]\u001b[0m\u001b[1;33m)\u001b[0m\u001b[1;33m\u001b[0m\u001b[0m\n\u001b[0;32m      3\u001b[0m \u001b[0mx3\u001b[0m \u001b[1;33m=\u001b[0m \u001b[0mset\u001b[0m\u001b[1;33m(\u001b[0m\u001b[1;33m[\u001b[0m\u001b[1;34m'baz'\u001b[0m\u001b[1;33m]\u001b[0m\u001b[1;33m)\u001b[0m\u001b[1;33m\u001b[0m\u001b[0m\n\u001b[1;32m----> 4\u001b[1;33m \u001b[0mx\u001b[0m \u001b[1;33m=\u001b[0m \u001b[1;33m{\u001b[0m\u001b[0mx1\u001b[0m\u001b[1;33m,\u001b[0m \u001b[0mx2\u001b[0m\u001b[1;33m,\u001b[0m \u001b[0mx3\u001b[0m\u001b[1;33m}\u001b[0m\u001b[1;33m\u001b[0m\u001b[0m\n\u001b[0m",
      "\u001b[1;31mTypeError\u001b[0m: unhashable type: 'set'"
     ]
    }
   ],
   "source": [
    "x1 = set(['foo'])\n",
    "x2 = set(['bar'])\n",
    "x3 = set(['baz'])\n",
    "x = {x1, x2, x3}"
   ]
  },
  {
   "cell_type": "markdown",
   "metadata": {},
   "source": [
    "如果你真的觉得必须定义一组集合，你可以在元素是frozensets的情况下定义，因为它们是不可变的:"
   ]
  },
  {
   "cell_type": "code",
   "execution_count": 83,
   "metadata": {
    "ExecuteTime": {
     "end_time": "2019-09-14T12:32:56.558000Z",
     "start_time": "2019-09-14T12:32:56.547000Z"
    }
   },
   "outputs": [
    {
     "name": "stdout",
     "output_type": "stream",
     "text": [
      "{frozenset({'baz'}), frozenset({'foo'}), frozenset({'bar'})}\n"
     ]
    }
   ],
   "source": [
    "x1 = frozenset(['foo'])\n",
    "x2 = frozenset(['bar'])\n",
    "x3 = frozenset(['baz'])\n",
    "x = {x1, x2, x3}\n",
    "print(x)"
   ]
  },
  {
   "cell_type": "markdown",
   "metadata": {},
   "source": [
    "回忆一下前面关于字典的教程，字典键必须是不可变的。你不能使用内置的set类型作为字典键:"
   ]
  },
  {
   "cell_type": "code",
   "execution_count": 84,
   "metadata": {
    "ExecuteTime": {
     "end_time": "2019-09-14T12:33:37.178000Z",
     "start_time": "2019-09-14T12:33:37.168000Z"
    }
   },
   "outputs": [
    {
     "ename": "TypeError",
     "evalue": "unhashable type: 'set'",
     "output_type": "error",
     "traceback": [
      "\u001b[1;31m---------------------------------------------------------------------------\u001b[0m",
      "\u001b[1;31mTypeError\u001b[0m                                 Traceback (most recent call last)",
      "\u001b[1;32m<ipython-input-84-f6436f7a86ac>\u001b[0m in \u001b[0;36m<module>\u001b[1;34m()\u001b[0m\n\u001b[0;32m      2\u001b[0m \u001b[0my\u001b[0m \u001b[1;33m=\u001b[0m \u001b[1;33m{\u001b[0m\u001b[1;34m'a'\u001b[0m\u001b[1;33m,\u001b[0m \u001b[1;34m'b'\u001b[0m\u001b[1;33m,\u001b[0m \u001b[1;34m'c'\u001b[0m\u001b[1;33m}\u001b[0m\u001b[1;33m\u001b[0m\u001b[0m\n\u001b[0;32m      3\u001b[0m \u001b[1;33m\u001b[0m\u001b[0m\n\u001b[1;32m----> 4\u001b[1;33m \u001b[0md\u001b[0m \u001b[1;33m=\u001b[0m \u001b[1;33m{\u001b[0m\u001b[0mx\u001b[0m\u001b[1;33m:\u001b[0m \u001b[1;34m'foo'\u001b[0m\u001b[1;33m,\u001b[0m \u001b[0my\u001b[0m\u001b[1;33m:\u001b[0m \u001b[1;34m'bar'\u001b[0m\u001b[1;33m}\u001b[0m\u001b[1;33m\u001b[0m\u001b[0m\n\u001b[0m",
      "\u001b[1;31mTypeError\u001b[0m: unhashable type: 'set'"
     ]
    }
   ],
   "source": [
    "x = {1, 2, 3}\n",
    "y = {'a', 'b', 'c'}\n",
    "\n",
    "d = {x: 'foo', y: 'bar'}"
   ]
  },
  {
   "cell_type": "markdown",
   "metadata": {},
   "source": [
    "如果你发现自己需要使用集作为字典键，你可以使用frozensets:"
   ]
  },
  {
   "cell_type": "code",
   "execution_count": 85,
   "metadata": {
    "ExecuteTime": {
     "end_time": "2019-09-14T12:34:11.772000Z",
     "start_time": "2019-09-14T12:34:11.766000Z"
    }
   },
   "outputs": [
    {
     "name": "stdout",
     "output_type": "stream",
     "text": [
      "{frozenset({1, 2, 3}): 'foo', frozenset({'b', 'c', 'a'}): 'bar'}\n"
     ]
    }
   ],
   "source": [
    "x = frozenset({1, 2, 3})\n",
    "y = frozenset({'a', 'b', 'c'})\n",
    "\n",
    "d = {x: 'foo', y: 'bar'}\n",
    "print(d)"
   ]
  },
  {
   "cell_type": "code",
   "execution_count": null,
   "metadata": {
    "collapsed": true
   },
   "outputs": [],
   "source": []
  }
 ],
 "metadata": {
  "kernelspec": {
   "display_name": "Python 3",
   "language": "python",
   "name": "python3"
  },
  "language_info": {
   "codemirror_mode": {
    "name": "ipython",
    "version": 3
   },
   "file_extension": ".py",
   "mimetype": "text/x-python",
   "name": "python",
   "nbconvert_exporter": "python",
   "pygments_lexer": "ipython3",
   "version": "3.6.2"
  },
  "toc": {
   "base_numbering": 1,
   "nav_menu": {},
   "number_sections": true,
   "sideBar": true,
   "skip_h1_title": false,
   "title_cell": "Table of Contents",
   "title_sidebar": "Contents",
   "toc_cell": false,
   "toc_position": {
    "height": "calc(100% - 180px)",
    "left": "10px",
    "top": "150px",
    "width": "352px"
   },
   "toc_section_display": true,
   "toc_window_display": true
  },
  "varInspector": {
   "cols": {
    "lenName": 16,
    "lenType": 16,
    "lenVar": 40
   },
   "kernels_config": {
    "python": {
     "delete_cmd_postfix": "",
     "delete_cmd_prefix": "del ",
     "library": "var_list.py",
     "varRefreshCmd": "print(var_dic_list())"
    },
    "r": {
     "delete_cmd_postfix": ") ",
     "delete_cmd_prefix": "rm(",
     "library": "var_list.r",
     "varRefreshCmd": "cat(var_dic_list()) "
    }
   },
   "types_to_exclude": [
    "module",
    "function",
    "builtin_function_or_method",
    "instance",
    "_Feature"
   ],
   "window_display": false
  }
 },
 "nbformat": 4,
 "nbformat_minor": 2
}
