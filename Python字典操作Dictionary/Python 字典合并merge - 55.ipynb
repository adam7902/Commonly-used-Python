{
 "cells": [
  {
   "cell_type": "markdown",
   "metadata": {
    "collapsed": true
   },
   "source": [
    "https://cn.bing.com/search?q=Python%20dictionary%20merge&qs=n&form=QBRE&sp=-1&pq=python%20dictionary%20merge&sc=4-23&sk=&cvid=0C7E9877ECE94530833EFAF1AA7C741A"
   ]
  },
  {
   "cell_type": "code",
   "execution_count": null,
   "metadata": {
    "collapsed": true
   },
   "outputs": [],
   "source": []
  },
  {
   "cell_type": "markdown",
   "metadata": {},
   "source": [
    "https://www.geeksforgeeks.org/python-dictionary/"
   ]
  },
  {
   "cell_type": "code",
   "execution_count": 1,
   "metadata": {
    "ExecuteTime": {
     "end_time": "2019-04-01T00:05:16.155000Z",
     "start_time": "2019-04-01T00:05:16.146000Z"
    }
   },
   "outputs": [
    {
     "name": "stdout",
     "output_type": "stream",
     "text": [
      "{1: 'Geeks', 2: 'For', 3: {'A': 'Welcome', 'B': 'To', 'C': 'Geeks'}}\n"
     ]
    }
   ],
   "source": [
    "# Creating a Nested Dictionary  \n",
    "# as shown in the below image \n",
    "Dict = {1: 'Geeks', 2: 'For',  \n",
    "        3:{'A' : 'Welcome', 'B' : 'To', 'C' : 'Geeks'}} \n",
    "  \n",
    "print(Dict)  "
   ]
  },
  {
   "cell_type": "code",
   "execution_count": 2,
   "metadata": {
    "ExecuteTime": {
     "end_time": "2019-04-01T00:06:12.419000Z",
     "start_time": "2019-04-01T00:06:12.416000Z"
    },
    "collapsed": true
   },
   "outputs": [],
   "source": [
    "x = {1: 'Geeks', 2: 'For'}\n",
    "y = {3:{'A' : 'Welcome', 'B' : 'To', 'C' : 'Geeks'}}"
   ]
  },
  {
   "cell_type": "code",
   "execution_count": 3,
   "metadata": {
    "ExecuteTime": {
     "end_time": "2019-04-01T00:06:12.779000Z",
     "start_time": "2019-04-01T00:06:12.765000Z"
    }
   },
   "outputs": [
    {
     "data": {
      "text/plain": [
       "{1: 'Geeks', 2: 'For', 3: {'A': 'Welcome', 'B': 'To', 'C': 'Geeks'}}"
      ]
     },
     "execution_count": 3,
     "metadata": {},
     "output_type": "execute_result"
    }
   ],
   "source": [
    "{**x, **y}"
   ]
  },
  {
   "cell_type": "code",
   "execution_count": null,
   "metadata": {
    "collapsed": true
   },
   "outputs": [],
   "source": []
  },
  {
   "cell_type": "markdown",
   "metadata": {
    "collapsed": true
   },
   "source": [
    "#### how-to-merge-two-python-dictionaries\n",
    "\n",
    "https://code.tutsplus.com/tutorials/how-to-merge-two-python-dictionaries--cms-26230"
   ]
  },
  {
   "cell_type": "code",
   "execution_count": 9,
   "metadata": {
    "ExecuteTime": {
     "end_time": "2019-04-24T12:00:37.694401Z",
     "start_time": "2019-04-24T12:00:37.688401Z"
    },
    "collapsed": true
   },
   "outputs": [],
   "source": [
    "dict1 = {'bookA': 1, 'bookB': 2, 'bookC': 3}\n",
    "dict2 = {'bookC': 2, 'bookD': 4, 'bookE': 5}"
   ]
  },
  {
   "cell_type": "code",
   "execution_count": 10,
   "metadata": {
    "ExecuteTime": {
     "end_time": "2019-04-24T12:00:38.234401Z",
     "start_time": "2019-04-24T12:00:38.227401Z"
    },
    "collapsed": true
   },
   "outputs": [],
   "source": [
    "dict3 = dict2.copy()\n",
    "dict3.update(dict1)"
   ]
  },
  {
   "cell_type": "code",
   "execution_count": 11,
   "metadata": {
    "ExecuteTime": {
     "end_time": "2019-04-24T12:00:38.750401Z",
     "start_time": "2019-04-24T12:00:38.740401Z"
    }
   },
   "outputs": [
    {
     "data": {
      "text/plain": [
       "{'bookA': 1, 'bookB': 2, 'bookC': 3, 'bookD': 4, 'bookE': 5}"
      ]
     },
     "execution_count": 11,
     "metadata": {},
     "output_type": "execute_result"
    }
   ],
   "source": [
    "dict3"
   ]
  },
  {
   "cell_type": "code",
   "execution_count": 12,
   "metadata": {
    "ExecuteTime": {
     "end_time": "2019-04-24T12:00:39.285401Z",
     "start_time": "2019-04-24T12:00:39.277401Z"
    },
    "collapsed": true
   },
   "outputs": [],
   "source": [
    "dict4 = dict1.copy()\n",
    "dict4.update(dict2)"
   ]
  },
  {
   "cell_type": "code",
   "execution_count": 13,
   "metadata": {
    "ExecuteTime": {
     "end_time": "2019-04-24T12:00:40.351401Z",
     "start_time": "2019-04-24T12:00:40.341401Z"
    }
   },
   "outputs": [
    {
     "data": {
      "text/plain": [
       "{'bookA': 1, 'bookB': 2, 'bookC': 2, 'bookD': 4, 'bookE': 5}"
      ]
     },
     "execution_count": 13,
     "metadata": {},
     "output_type": "execute_result"
    }
   ],
   "source": [
    "dict4"
   ]
  },
  {
   "cell_type": "markdown",
   "metadata": {
    "collapsed": true
   },
   "source": [
    "**Merging Two Dictionaries in a Single Expression**"
   ]
  },
  {
   "cell_type": "code",
   "execution_count": 14,
   "metadata": {
    "ExecuteTime": {
     "end_time": "2019-04-24T12:01:33.630401Z",
     "start_time": "2019-04-24T12:01:33.621401Z"
    }
   },
   "outputs": [
    {
     "data": {
      "text/plain": [
       "{'bookA': 1, 'bookB': 2, 'bookC': 3, 'bookD': 4, 'bookE': 5}"
      ]
     },
     "execution_count": 14,
     "metadata": {},
     "output_type": "execute_result"
    }
   ],
   "source": [
    "dict(dict2, **dict1)"
   ]
  },
  {
   "cell_type": "code",
   "execution_count": 15,
   "metadata": {
    "ExecuteTime": {
     "end_time": "2019-04-24T12:02:03.296401Z",
     "start_time": "2019-04-24T12:02:03.285401Z"
    }
   },
   "outputs": [
    {
     "data": {
      "text/plain": [
       "{'bookA': 1, 'bookB': 2, 'bookC': 2, 'bookD': 4, 'bookE': 5}"
      ]
     },
     "execution_count": 15,
     "metadata": {},
     "output_type": "execute_result"
    }
   ],
   "source": [
    "dict(dict1, **dict2)"
   ]
  },
  {
   "cell_type": "markdown",
   "metadata": {
    "collapsed": true
   },
   "source": [
    "**Retaining Key Values** "
   ]
  },
  {
   "cell_type": "code",
   "execution_count": 17,
   "metadata": {
    "ExecuteTime": {
     "end_time": "2019-04-24T12:04:05.261401Z",
     "start_time": "2019-04-24T12:04:05.225401Z"
    }
   },
   "outputs": [
    {
     "name": "stdout",
     "output_type": "stream",
     "text": [
      "defaultdict(<class 'list'>, {'bookA': [1], 'bookB': [2], 'bookC': [3, 2], 'bookD': [4], 'bookE': [5]})\n",
      "---------------------------\n",
      "bookA [1]\n",
      "bookB [2]\n",
      "bookC [3, 2]\n",
      "bookD [4]\n",
      "bookE [5]\n"
     ]
    }
   ],
   "source": [
    "from itertools import chain\n",
    "from collections import defaultdict\n",
    "dict1 = {'bookA': 1, 'bookB': 2, 'bookC': 3}\n",
    "dict2 = {'bookC': 2, 'bookD': 4, 'bookE': 5}\n",
    "dict3 = defaultdict(list)\n",
    "for k, v in chain(dict1.items(), dict2.items()):\n",
    "    dict3[k].append(v)\n",
    "\n",
    "print(dict3)\n",
    "print('---------------------------')\n",
    "for k, v in dict3.items():\n",
    "    print(k, v)"
   ]
  },
  {
   "cell_type": "code",
   "execution_count": null,
   "metadata": {
    "collapsed": true
   },
   "outputs": [],
   "source": []
  },
  {
   "cell_type": "markdown",
   "metadata": {},
   "source": [
    "#### Is there any pythonic way to combine two dicts (adding values for keys that appear in both)?\n",
    "\n",
    "https://stackoverflow.com/questions/11011756/is-there-any-pythonic-way-to-combine-two-dicts-adding-values-for-keys-that-appe"
   ]
  },
  {
   "cell_type": "code",
   "execution_count": 18,
   "metadata": {
    "ExecuteTime": {
     "end_time": "2019-04-24T12:10:50.817401Z",
     "start_time": "2019-04-24T12:10:50.802401Z"
    }
   },
   "outputs": [
    {
     "data": {
      "text/plain": [
       "Counter({'a': 1, 'b': 5, 'c': 7, 'd': 5})"
      ]
     },
     "execution_count": 18,
     "metadata": {},
     "output_type": "execute_result"
    }
   ],
   "source": [
    "from collections import Counter\n",
    "A = Counter({'a':1, 'b':2, 'c':3})\n",
    "B = Counter({'b':3, 'c':4, 'd':5})\n",
    "A + B"
   ]
  },
  {
   "cell_type": "code",
   "execution_count": null,
   "metadata": {
    "collapsed": true
   },
   "outputs": [],
   "source": []
  },
  {
   "cell_type": "markdown",
   "metadata": {},
   "source": [
    "#### Add More Items to Dictionary While Merging\n",
    "\n",
    "https://tutorialdeep.com/knowhow/combine-two-dictionary-python/"
   ]
  },
  {
   "cell_type": "code",
   "execution_count": 24,
   "metadata": {
    "ExecuteTime": {
     "end_time": "2019-04-24T12:19:35.230401Z",
     "start_time": "2019-04-24T12:19:35.221401Z"
    }
   },
   "outputs": [
    {
     "name": "stdout",
     "output_type": "stream",
     "text": [
      "{'one': 'Ram', 'two': 13, 'three': 'Jordge', 'seven': 'Billy', 'eight': 'Oman', 'four': 'Gill', 'five': 33, 'six': 'Steve'}\n"
     ]
    }
   ],
   "source": [
    "myDict1 = {'one': 'Ram', 'two': 13, 'three': 'Jordge'}\n",
    "myDict2 = {'four': 'Gill', 'five': 33, 'six': 'Steve'}\n",
    "myDict3 = {'seven': 'Billy', 'eight': 'Oman'}\n",
    "newDict = {**myDict1, **myDict3, **myDict2}\n",
    "print(newDict)"
   ]
  },
  {
   "cell_type": "markdown",
   "metadata": {
    "collapsed": true
   },
   "source": [
    "#### Python Exercise: Merge two Python dictionaries\n",
    "    \n",
    "https://w3resource.com/python-exercises/dictionary/python-data-type-dictionary-exercise-8.php"
   ]
  },
  {
   "cell_type": "code",
   "execution_count": 25,
   "metadata": {
    "ExecuteTime": {
     "end_time": "2019-04-24T12:21:19.398401Z",
     "start_time": "2019-04-24T12:21:19.382401Z"
    }
   },
   "outputs": [
    {
     "name": "stdout",
     "output_type": "stream",
     "text": [
      "{'a': 100, 'b': 200, 'x': 300, 'y': 200}\n"
     ]
    }
   ],
   "source": [
    "d1 = {'a': 100, 'b': 200}\n",
    "d2 = {'x': 300, 'y': 200}\n",
    "d = d1.copy()\n",
    "d.update(d2)\n",
    "print(d)"
   ]
  },
  {
   "cell_type": "code",
   "execution_count": null,
   "metadata": {
    "collapsed": true
   },
   "outputs": [],
   "source": []
  },
  {
   "cell_type": "code",
   "execution_count": null,
   "metadata": {
    "collapsed": true
   },
   "outputs": [],
   "source": []
  },
  {
   "cell_type": "code",
   "execution_count": null,
   "metadata": {
    "collapsed": true
   },
   "outputs": [],
   "source": []
  },
  {
   "cell_type": "code",
   "execution_count": null,
   "metadata": {
    "collapsed": true
   },
   "outputs": [],
   "source": []
  }
 ],
 "metadata": {
  "kernelspec": {
   "display_name": "Python 3",
   "language": "python",
   "name": "python3"
  },
  "language_info": {
   "codemirror_mode": {
    "name": "ipython",
    "version": 3
   },
   "file_extension": ".py",
   "mimetype": "text/x-python",
   "name": "python",
   "nbconvert_exporter": "python",
   "pygments_lexer": "ipython3",
   "version": "3.6.2"
  },
  "toc": {
   "base_numbering": 1,
   "nav_menu": {},
   "number_sections": true,
   "sideBar": true,
   "skip_h1_title": false,
   "title_cell": "Table of Contents",
   "title_sidebar": "Contents",
   "toc_cell": false,
   "toc_position": {},
   "toc_section_display": true,
   "toc_window_display": false
  },
  "varInspector": {
   "cols": {
    "lenName": 16,
    "lenType": 16,
    "lenVar": 40
   },
   "kernels_config": {
    "python": {
     "delete_cmd_postfix": "",
     "delete_cmd_prefix": "del ",
     "library": "var_list.py",
     "varRefreshCmd": "print(var_dic_list())"
    },
    "r": {
     "delete_cmd_postfix": ") ",
     "delete_cmd_prefix": "rm(",
     "library": "var_list.r",
     "varRefreshCmd": "cat(var_dic_list()) "
    }
   },
   "types_to_exclude": [
    "module",
    "function",
    "builtin_function_or_method",
    "instance",
    "_Feature"
   ],
   "window_display": false
  }
 },
 "nbformat": 4,
 "nbformat_minor": 2
}
