{
 "cells": [
  {
   "cell_type": "code",
   "execution_count": 2,
   "metadata": {
    "ExecuteTime": {
     "end_time": "2019-04-25T07:55:45.365000Z",
     "start_time": "2019-04-25T07:55:45.353000Z"
    }
   },
   "outputs": [
    {
     "name": "stdout",
     "output_type": "stream",
     "text": [
      "['d', 'b', 'a']\n"
     ]
    }
   ],
   "source": [
    "import random\n",
    "# 从a~d中取出不重复的三个字母\n",
    "print (random.sample(['a', 'b', 'c', 'd'], 3))  # 随机采样\n",
    "# ['d', 'b', 'c']"
   ]
  },
  {
   "cell_type": "markdown",
   "metadata": {},
   "source": [
    "### 生成某区间内不重复的N个随机数的方法  "
   ]
  },
  {
   "cell_type": "markdown",
   "metadata": {},
   "source": [
    "#### 利用递归生成"
   ]
  },
  {
   "cell_type": "code",
   "execution_count": 3,
   "metadata": {
    "ExecuteTime": {
     "end_time": "2019-04-25T07:56:13.066000Z",
     "start_time": "2019-04-25T07:56:13.052000Z"
    }
   },
   "outputs": [
    {
     "name": "stdout",
     "output_type": "stream",
     "text": [
      "[5, 6, 2, 9, 4, 1, 10, 7, 8, 3]\n"
     ]
    }
   ],
   "source": [
    "resultList=[];#用于存放结果的List\n",
    "A=1; #最小随机数  \n",
    "B=10 #最大随机数  \n",
    "COUNT=10  \n",
    "\n",
    "#生成随机数的递归数学，参数counter表示当前准备要生成的第几个有效随机数  \n",
    "def generateRand(counter):   \n",
    "    tempInt=random.randint(A,B); # 生成一个范围内的临时随机数，  \n",
    "    if(counter<=COUNT): # 先看随机数的总个数是不是够了，如果不够  \n",
    "        if(tempInt not in resultList): # 再检查当前已经生成的临时随机数是不是已经存在，如果不存在  \n",
    "            resultList.append(tempInt); #则将其追加到结果List中  \n",
    "            counter+=1;# 然后将表示有效结果的个数加1. 请注意这里，如果临时随机数已经存在，则此if不成立，那么将直接执行16行，counter不用再加1  \n",
    "        generateRand(counter); # 不管上面的if是否成立，都要递归。如果上面的临时随机数有效，则这里的conter会加1，如果上面的临时随机数已经存在了，则需要重新再生成一次随机数,counter不能变化  \n",
    "generateRand(1);#调用递归函数，并给当前要生成的有效随机数的个序号置为1，因为要从第一个开始嘛  \n",
    "print(resultList)# 打印结果  "
   ]
  },
  {
   "cell_type": "markdown",
   "metadata": {},
   "source": [
    "#### 利用Python中的randomw.sample()函数实现"
   ]
  },
  {
   "cell_type": "code",
   "execution_count": 4,
   "metadata": {
    "ExecuteTime": {
     "end_time": "2019-04-25T07:56:17.038000Z",
     "start_time": "2019-04-25T07:56:17.026000Z"
    }
   },
   "outputs": [
    {
     "name": "stdout",
     "output_type": "stream",
     "text": [
      "[5, 7, 2, 4, 10, 9, 6, 3, 8, 1]\n"
     ]
    }
   ],
   "source": [
    "  \n",
    "resultList=random.sample(range(A,B+1),COUNT); # sample(x,y)函数的作用是从序列x中，随机选择y个不重复的元素。上面的方法写了那么多，其实Python一句话就完成了。  \n",
    "print(resultList)# 打印结果  "
   ]
  },
  {
   "cell_type": "code",
   "execution_count": null,
   "metadata": {
    "collapsed": true
   },
   "outputs": [],
   "source": []
  },
  {
   "cell_type": "code",
   "execution_count": null,
   "metadata": {},
   "outputs": [],
   "source": []
  },
  {
   "cell_type": "code",
   "execution_count": null,
   "metadata": {},
   "outputs": [],
   "source": []
  },
  {
   "cell_type": "code",
   "execution_count": null,
   "metadata": {},
   "outputs": [],
   "source": []
  }
 ],
 "metadata": {
  "kernelspec": {
   "display_name": "Python 3",
   "language": "python",
   "name": "python3"
  },
  "language_info": {
   "codemirror_mode": {
    "name": "ipython",
    "version": 3
   },
   "file_extension": ".py",
   "mimetype": "text/x-python",
   "name": "python",
   "nbconvert_exporter": "python",
   "pygments_lexer": "ipython3",
   "version": "3.6.2"
  },
  "toc": {
   "nav_menu": {},
   "number_sections": true,
   "sideBar": true,
   "skip_h1_title": false,
   "title_cell": "Table of Contents",
   "title_sidebar": "Contents",
   "toc_cell": false,
   "toc_position": {},
   "toc_section_display": true,
   "toc_window_display": false
  },
  "varInspector": {
   "cols": {
    "lenName": 16,
    "lenType": 16,
    "lenVar": 40
   },
   "kernels_config": {
    "python": {
     "delete_cmd_postfix": "",
     "delete_cmd_prefix": "del ",
     "library": "var_list.py",
     "varRefreshCmd": "print(var_dic_list())"
    },
    "r": {
     "delete_cmd_postfix": ") ",
     "delete_cmd_prefix": "rm(",
     "library": "var_list.r",
     "varRefreshCmd": "cat(var_dic_list()) "
    }
   },
   "types_to_exclude": [
    "module",
    "function",
    "builtin_function_or_method",
    "instance",
    "_Feature"
   ],
   "window_display": false
  }
 },
 "nbformat": 4,
 "nbformat_minor": 2
}
