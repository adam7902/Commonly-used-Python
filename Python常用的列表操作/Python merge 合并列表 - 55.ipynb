{
 "cells": [
  {
   "cell_type": "markdown",
   "metadata": {},
   "source": [
    "https://www.google.com/search?biw=1673&bih=829&ei=88mgXOTzGsX49QOX8a9o&q=python+merge+multiple+lists+mathods&oq=python+merge+multiple+lists+mathods&gs_l=psy-ab.3..33i160.35144925.35159057..35160520...0.0..0.1248.3629.3-7j7-1......0....1..gws-wiz.......0i71j0j0i22i30j33i22i29i30.OINnYAq9f7w"
   ]
  },
  {
   "cell_type": "code",
   "execution_count": null,
   "metadata": {
    "collapsed": true
   },
   "outputs": [],
   "source": []
  },
  {
   "cell_type": "code",
   "execution_count": null,
   "metadata": {
    "collapsed": true
   },
   "outputs": [],
   "source": [
    "import itertools\n",
    "flattened_list  = list(itertools.chain(*list_of_lists))"
   ]
  },
  {
   "cell_type": "code",
   "execution_count": null,
   "metadata": {
    "collapsed": true
   },
   "outputs": [],
   "source": []
  },
  {
   "cell_type": "markdown",
   "metadata": {},
   "source": [
    "Three Ways to Merge (or flatten) Lists in Python\n",
    "\n",
    "https://cmdlinetips.com/2017/04/three-ways-to-merge-or-flatten-lists-in-python/"
   ]
  },
  {
   "cell_type": "markdown",
   "metadata": {},
   "source": [
    "#### Merge with “+” Operator”"
   ]
  },
  {
   "cell_type": "code",
   "execution_count": 1,
   "metadata": {
    "ExecuteTime": {
     "end_time": "2019-03-31T23:58:50.232000Z",
     "start_time": "2019-03-31T23:58:50.228000Z"
    },
    "collapsed": true
   },
   "outputs": [],
   "source": [
    "a = [11, 12, 13] \n",
    "b = [4, 5, 6] \n",
    "c = [27, 28, 29]"
   ]
  },
  {
   "cell_type": "code",
   "execution_count": 2,
   "metadata": {
    "ExecuteTime": {
     "end_time": "2019-03-31T23:58:50.762000Z",
     "start_time": "2019-03-31T23:58:50.751000Z"
    }
   },
   "outputs": [
    {
     "data": {
      "text/plain": [
       "[11, 12, 13, 4, 5, 6, 27, 28, 29]"
      ]
     },
     "execution_count": 2,
     "metadata": {},
     "output_type": "execute_result"
    }
   ],
   "source": [
    "a + b + c"
   ]
  },
  {
   "cell_type": "markdown",
   "metadata": {},
   "source": [
    "注意，使用“+”来合并列表保留了多个列表中的任何副本。例如，重复的“4”将出现在合并列表中。"
   ]
  },
  {
   "cell_type": "code",
   "execution_count": 4,
   "metadata": {
    "ExecuteTime": {
     "end_time": "2019-04-01T02:25:06.383000Z",
     "start_time": "2019-04-01T02:25:06.372000Z"
    }
   },
   "outputs": [
    {
     "data": {
      "text/plain": [
       "[11, 12, 13, 4, 5, 6, 4, 27, 28, 29, 'Mike', 'Jerry']"
      ]
     },
     "execution_count": 4,
     "metadata": {},
     "output_type": "execute_result"
    }
   ],
   "source": [
    "a = [11, 12, 13] \n",
    "b = [4, 5, 6] \n",
    "c = [4, 27, 28, 29]\n",
    "d = ['Mike', 'Jerry']\n",
    "\n",
    "a + b + c + d"
   ]
  },
  {
   "cell_type": "markdown",
   "metadata": {},
   "source": [
    "#### Flatten with “sum” Operator”"
   ]
  },
  {
   "cell_type": "code",
   "execution_count": 2,
   "metadata": {
    "ExecuteTime": {
     "end_time": "2019-04-01T02:24:42.699000Z",
     "start_time": "2019-04-01T02:24:42.687000Z"
    }
   },
   "outputs": [
    {
     "data": {
      "text/plain": [
       "[1, 2, 3, 4, 5, 6, 7, 8, 9, 11, 12, 33, 'Mike', 'Jerry']"
      ]
     },
     "execution_count": 2,
     "metadata": {},
     "output_type": "execute_result"
    }
   ],
   "source": [
    "lol= [[1, 2, 3], [4, 5, 6], [7, 8, 9], [11, 12, 33], ['Mike', 'Jerry']]\n",
    "sum(lol , [])"
   ]
  },
  {
   "cell_type": "markdown",
   "metadata": {},
   "source": [
    "#### Merging/Collapsing/Flattening a list of lists with list comprehensions"
   ]
  },
  {
   "cell_type": "code",
   "execution_count": 5,
   "metadata": {
    "ExecuteTime": {
     "end_time": "2019-04-01T02:25:41.862000Z",
     "start_time": "2019-04-01T02:25:41.850000Z"
    }
   },
   "outputs": [
    {
     "data": {
      "text/plain": [
       "[1, 2, 3, 4, 5, 6, 7, 8, 9, 11, 12, 33, 'Mike', 'Jerry']"
      ]
     },
     "execution_count": 5,
     "metadata": {},
     "output_type": "execute_result"
    }
   ],
   "source": [
    "lol= [[1, 2, 3], [4, 5, 6], [7, 8, 9], [11, 12, 33], ['Mike', 'Jerry']]\n",
    "[i for l in lol for i in l]"
   ]
  },
  {
   "cell_type": "code",
   "execution_count": null,
   "metadata": {
    "collapsed": true
   },
   "outputs": [],
   "source": []
  },
  {
   "cell_type": "markdown",
   "metadata": {},
   "source": [
    "https://coderwall.com/p/rcmaea/flatten-a-list-of-lists-in-one-line-in-python"
   ]
  },
  {
   "cell_type": "code",
   "execution_count": 3,
   "metadata": {
    "ExecuteTime": {
     "end_time": "2019-03-31T23:59:20.463000Z",
     "start_time": "2019-03-31T23:59:20.459000Z"
    },
    "collapsed": true
   },
   "outputs": [],
   "source": [
    "list_of_lists = [a, b, c]"
   ]
  },
  {
   "cell_type": "code",
   "execution_count": 5,
   "metadata": {
    "ExecuteTime": {
     "end_time": "2019-03-31T23:59:27.786000Z",
     "start_time": "2019-03-31T23:59:27.774000Z"
    }
   },
   "outputs": [
    {
     "data": {
      "text/plain": [
       "[11, 12, 13, 4, 5, 6, 27, 28, 29]"
      ]
     },
     "execution_count": 5,
     "metadata": {},
     "output_type": "execute_result"
    }
   ],
   "source": [
    "import itertools\n",
    "flattened_list  = list(itertools.chain(*list_of_lists))\n",
    "flattened_list"
   ]
  },
  {
   "cell_type": "code",
   "execution_count": null,
   "metadata": {
    "collapsed": true
   },
   "outputs": [],
   "source": []
  },
  {
   "cell_type": "code",
   "execution_count": null,
   "metadata": {
    "collapsed": true
   },
   "outputs": [],
   "source": []
  },
  {
   "cell_type": "code",
   "execution_count": null,
   "metadata": {
    "collapsed": true
   },
   "outputs": [],
   "source": []
  },
  {
   "cell_type": "code",
   "execution_count": null,
   "metadata": {
    "collapsed": true
   },
   "outputs": [],
   "source": []
  },
  {
   "cell_type": "code",
   "execution_count": null,
   "metadata": {
    "collapsed": true
   },
   "outputs": [],
   "source": []
  },
  {
   "cell_type": "code",
   "execution_count": null,
   "metadata": {
    "collapsed": true
   },
   "outputs": [],
   "source": []
  },
  {
   "cell_type": "code",
   "execution_count": null,
   "metadata": {
    "collapsed": true
   },
   "outputs": [],
   "source": []
  },
  {
   "cell_type": "code",
   "execution_count": null,
   "metadata": {
    "collapsed": true
   },
   "outputs": [],
   "source": []
  }
 ],
 "metadata": {
  "kernelspec": {
   "display_name": "Python 3",
   "language": "python",
   "name": "python3"
  },
  "language_info": {
   "codemirror_mode": {
    "name": "ipython",
    "version": 3
   },
   "file_extension": ".py",
   "mimetype": "text/x-python",
   "name": "python",
   "nbconvert_exporter": "python",
   "pygments_lexer": "ipython3",
   "version": "3.6.2"
  },
  "toc": {
   "base_numbering": 1,
   "nav_menu": {},
   "number_sections": true,
   "sideBar": true,
   "skip_h1_title": false,
   "title_cell": "Table of Contents",
   "title_sidebar": "Contents",
   "toc_cell": false,
   "toc_position": {},
   "toc_section_display": true,
   "toc_window_display": false
  },
  "varInspector": {
   "cols": {
    "lenName": 16,
    "lenType": 16,
    "lenVar": 40
   },
   "kernels_config": {
    "python": {
     "delete_cmd_postfix": "",
     "delete_cmd_prefix": "del ",
     "library": "var_list.py",
     "varRefreshCmd": "print(var_dic_list())"
    },
    "r": {
     "delete_cmd_postfix": ") ",
     "delete_cmd_prefix": "rm(",
     "library": "var_list.r",
     "varRefreshCmd": "cat(var_dic_list()) "
    }
   },
   "types_to_exclude": [
    "module",
    "function",
    "builtin_function_or_method",
    "instance",
    "_Feature"
   ],
   "window_display": false
  }
 },
 "nbformat": 4,
 "nbformat_minor": 2
}
