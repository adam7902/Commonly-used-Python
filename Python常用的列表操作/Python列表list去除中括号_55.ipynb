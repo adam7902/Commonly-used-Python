{
 "cells": [
  {
   "cell_type": "code",
   "execution_count": 3,
   "metadata": {
    "ExecuteTime": {
     "end_time": "2018-03-29T12:44:36.820000Z",
     "start_time": "2018-03-29T12:44:36.814000Z"
    }
   },
   "outputs": [
    {
     "name": "stdout",
     "output_type": "stream",
     "text": [
      "1,2,3\n"
     ]
    }
   ],
   "source": [
    "# -*- coding: utf-8 -*-\n",
    "list = ['1','2','3']\n",
    "print(','.join(list))\n"
   ]
  },
  {
   "cell_type": "code",
   "execution_count": 4,
   "metadata": {
    "ExecuteTime": {
     "end_time": "2018-03-29T13:08:46.599000Z",
     "start_time": "2018-03-29T13:08:46.567000Z"
    }
   },
   "outputs": [
    {
     "data": {
      "text/plain": [
       "{'address': '北京市怀柔区神堂峪风景区下官地11号',\n",
       " 'category': '经济型',\n",
       " 'coordinates': [116.62874974822378, 40.45610264855833],\n",
       " 'count': '119',\n",
       " 'link': 'http://www.dianping.com/newhotel/58365289',\n",
       " 'name': '北京蜜桃儿亲子客栈',\n",
       " 'price': '549',\n",
       " 'type': 'Point'}"
      ]
     },
     "execution_count": 4,
     "metadata": {},
     "output_type": "execute_result"
    }
   ],
   "source": [
    "{\"type\": \"Point\", \"link\": \"http://www.dianping.com/newhotel/22416995\", \"coordinates\": [116.37256372996957, 40.39798447055443], \"category\": \"经济型\", \"name\": \"北京荷塘山庄\", \"count\": \"278\", \"address\": \"北京市怀柔区黄花城村安四路\", \"price\": \"380\"}\n",
    "{\"type\": \"Point\", \"link\": \"http://www.dianping.com/newhotel/19717653\", \"coordinates\": [116.56881588256466, 40.43310967948417], \"category\": \"经济型\", \"name\": \"慕田峪长城鱼师傅乡村酒店\", \"count\": \"89\", \"address\": \"北京市怀柔区渤海镇苇店村(慕田峪长城下3公里处，近怀黄路)\", \"price\": \"258\"}\n",
    "{\"type\": \"Point\", \"link\": \"http://www.dianping.com/newhotel/58365289\", \"coordinates\": [116.62874974822378, 40.45610264855833], \"category\": \"经济型\", \"name\": \"北京蜜桃儿亲子客栈\", \"count\": \"119\", \"address\": \"北京市怀柔区神堂峪风景区下官地11号\", \"price\": \"549\"}"
   ]
  },
  {
   "cell_type": "code",
   "execution_count": 9,
   "metadata": {
    "ExecuteTime": {
     "end_time": "2018-03-29T13:17:31.393000Z",
     "start_time": "2018-03-29T13:17:31.375000Z"
    }
   },
   "outputs": [
    {
     "name": "stdout",
     "output_type": "stream",
     "text": [
      "t e p\n"
     ]
    }
   ],
   "source": [
    "a=['t','e','p']\n",
    "print(' '.join(a))"
   ]
  },
  {
   "cell_type": "code",
   "execution_count": 10,
   "metadata": {
    "ExecuteTime": {
     "end_time": "2018-03-29T13:18:17.325000Z",
     "start_time": "2018-03-29T13:18:17.318000Z"
    }
   },
   "outputs": [
    {
     "name": "stdout",
     "output_type": "stream",
     "text": [
      "1,2,3\n"
     ]
    }
   ],
   "source": [
    "list = ['1','2','3']\n",
    "new=','.join(list)\n",
    "print(new)"
   ]
  },
  {
   "cell_type": "code",
   "execution_count": 11,
   "metadata": {
    "ExecuteTime": {
     "end_time": "2018-03-29T13:33:08.303000Z",
     "start_time": "2018-03-29T13:33:08.294000Z"
    }
   },
   "outputs": [
    {
     "name": "stdout",
     "output_type": "stream",
     "text": [
      "毛卫宁\n"
     ]
    }
   ],
   "source": [
    "ww=['毛卫宁']\n",
    "\n",
    "newss=','.join(ww)\n",
    "print(newss)"
   ]
  },
  {
   "cell_type": "code",
   "execution_count": null,
   "metadata": {
    "collapsed": true
   },
   "outputs": [],
   "source": []
  },
  {
   "cell_type": "markdown",
   "metadata": {},
   "source": [
    "How to remove square brackets from list in Python? [duplicate]\n",
    "\n",
    "https://stackoverflow.com/questions/13207697/how-to-remove-square-brackets-from-list-in-python"
   ]
  },
  {
   "cell_type": "code",
   "execution_count": 2,
   "metadata": {
    "ExecuteTime": {
     "end_time": "2019-04-24T14:18:12.659401Z",
     "start_time": "2019-04-24T14:18:12.650401Z"
    }
   },
   "outputs": [
    {
     "name": "stdout",
     "output_type": "stream",
     "text": [
      "'a', 2, 'c'\n"
     ]
    }
   ],
   "source": [
    "l = ['a', 2, 'c']\n",
    "print(str(l)[1:-1])"
   ]
  },
  {
   "cell_type": "code",
   "execution_count": 3,
   "metadata": {
    "ExecuteTime": {
     "end_time": "2019-04-24T14:18:46.768401Z",
     "start_time": "2019-04-24T14:18:46.762401Z"
    },
    "collapsed": true
   },
   "outputs": [],
   "source": [
    "def listToStringWithoutBrackets(list1):\n",
    "    return str(list1).replace('[','').replace(']','')"
   ]
  },
  {
   "cell_type": "code",
   "execution_count": 4,
   "metadata": {
    "ExecuteTime": {
     "end_time": "2019-04-24T14:18:58.735401Z",
     "start_time": "2019-04-24T14:18:58.714401Z"
    }
   },
   "outputs": [
    {
     "data": {
      "text/plain": [
       "\"'a', 2, 'c'\""
      ]
     },
     "execution_count": 4,
     "metadata": {},
     "output_type": "execute_result"
    }
   ],
   "source": [
    "listToStringWithoutBrackets(l)"
   ]
  },
  {
   "cell_type": "code",
   "execution_count": null,
   "metadata": {
    "collapsed": true
   },
   "outputs": [],
   "source": []
  },
  {
   "cell_type": "code",
   "execution_count": null,
   "metadata": {
    "collapsed": true
   },
   "outputs": [],
   "source": []
  },
  {
   "cell_type": "code",
   "execution_count": null,
   "metadata": {
    "collapsed": true
   },
   "outputs": [],
   "source": []
  },
  {
   "cell_type": "code",
   "execution_count": null,
   "metadata": {
    "collapsed": true
   },
   "outputs": [],
   "source": []
  }
 ],
 "metadata": {
  "kernelspec": {
   "display_name": "Python 3",
   "language": "python",
   "name": "python3"
  },
  "language_info": {
   "codemirror_mode": {
    "name": "ipython",
    "version": 3
   },
   "file_extension": ".py",
   "mimetype": "text/x-python",
   "name": "python",
   "nbconvert_exporter": "python",
   "pygments_lexer": "ipython3",
   "version": "3.6.2"
  },
  "toc": {
   "base_numbering": 1,
   "nav_menu": {},
   "number_sections": true,
   "sideBar": true,
   "skip_h1_title": false,
   "title_cell": "Table of Contents",
   "title_sidebar": "Contents",
   "toc_cell": false,
   "toc_position": {},
   "toc_section_display": true,
   "toc_window_display": false
  },
  "varInspector": {
   "cols": {
    "lenName": 16,
    "lenType": 16,
    "lenVar": 40
   },
   "kernels_config": {
    "python": {
     "delete_cmd_postfix": "",
     "delete_cmd_prefix": "del ",
     "library": "var_list.py",
     "varRefreshCmd": "print(var_dic_list())"
    },
    "r": {
     "delete_cmd_postfix": ") ",
     "delete_cmd_prefix": "rm(",
     "library": "var_list.r",
     "varRefreshCmd": "cat(var_dic_list()) "
    }
   },
   "types_to_exclude": [
    "module",
    "function",
    "builtin_function_or_method",
    "instance",
    "_Feature"
   ],
   "window_display": false
  }
 },
 "nbformat": 4,
 "nbformat_minor": 2
}
